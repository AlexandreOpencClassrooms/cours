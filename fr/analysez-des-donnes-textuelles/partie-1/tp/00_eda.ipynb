{
 "cells": [
  {
   "cell_type": "markdown",
   "id": "90d846cb",
   "metadata": {},
   "source": [
    "# 1. Preliminary"
   ]
  },
  {
   "cell_type": "markdown",
   "id": "03838406",
   "metadata": {},
   "source": [
    "## 1.1 Context"
   ]
  },
  {
   "cell_type": "markdown",
   "id": "6606bd99",
   "metadata": {
    "ExecuteTime": {
     "end_time": "2022-06-28T07:07:57.932538Z",
     "start_time": "2022-06-28T07:07:57.927107Z"
    }
   },
   "source": [
    "* We will analyze a very well known NLP dataset: tweets from disaster\n",
    "\n",
    "\n",
    "* It is a Kaggle competition, which offers a simple but good level textual dataset to be able to make its weapons in NLP\n",
    "\n",
    "\n",
    "* The dataset is here [https://www.kaggle.com/competitions/nlp-getting-started/data]\n",
    "\n",
    "\n",
    "* Please use the **train** dataset\n",
    "\n",
    "\n",
    "* In this 1st part we are just play and discover with this dataset"
   ]
  },
  {
   "cell_type": "markdown",
   "id": "e4b708ab",
   "metadata": {},
   "source": [
    "## 1.2 Requirements"
   ]
  },
  {
   "cell_type": "markdown",
   "id": "08fbf504",
   "metadata": {},
   "source": [
    "You have to install  : \n",
    "\n",
    "* pandas\n",
    "* numpy\n",
    "* matplotlib\n",
    "* seaborn"
   ]
  },
  {
   "cell_type": "markdown",
   "id": "97396f16",
   "metadata": {},
   "source": [
    "## 1.3 Imports"
   ]
  },
  {
   "cell_type": "code",
   "execution_count": null,
   "id": "d56dbd5f",
   "metadata": {
    "ExecuteTime": {
     "end_time": "2022-06-28T21:00:21.927920Z",
     "start_time": "2022-06-28T21:00:20.556819Z"
    }
   },
   "outputs": [],
   "source": [
    "import os, sys, time\n",
    "\n",
    "import numpy as np\n",
    "import pandas as pd\n",
    "\n",
    "import matplotlib.pyplot as plt\n",
    "import seaborn as sns"
   ]
  },
  {
   "cell_type": "markdown",
   "id": "f5cf6fd7",
   "metadata": {},
   "source": [
    "## 1.4 Graphics and options"
   ]
  },
  {
   "cell_type": "code",
   "execution_count": null,
   "id": "97fab682",
   "metadata": {
    "ExecuteTime": {
     "end_time": "2022-06-28T21:00:21.936930Z",
     "start_time": "2022-06-28T21:00:21.931901Z"
    }
   },
   "outputs": [],
   "source": [
    "sns.set()"
   ]
  },
  {
   "cell_type": "markdown",
   "id": "1880a917",
   "metadata": {},
   "source": [
    "## 1.5 Loading data"
   ]
  },
  {
   "cell_type": "code",
   "execution_count": null,
   "id": "7f9322ee",
   "metadata": {
    "ExecuteTime": {
     "end_time": "2022-06-28T21:00:21.945540Z",
     "start_time": "2022-06-28T21:00:21.939340Z"
    }
   },
   "outputs": [],
   "source": [
    "# !tree"
   ]
  },
  {
   "cell_type": "markdown",
   "id": "97881d2f",
   "metadata": {},
   "source": [
    "![repo](./img/repo.jpg)"
   ]
  },
  {
   "cell_type": "code",
   "execution_count": null,
   "id": "c046fdbb",
   "metadata": {
    "ExecuteTime": {
     "end_time": "2022-06-28T21:00:21.964956Z",
     "start_time": "2022-06-28T21:00:21.951031Z"
    }
   },
   "outputs": [],
   "source": [
    "# our file\n",
    "\n",
    "data = \"./data/source/\"\n",
    "os.listdir(data)"
   ]
  },
  {
   "cell_type": "code",
   "execution_count": null,
   "id": "e699e715",
   "metadata": {
    "ExecuteTime": {
     "end_time": "2022-06-28T21:00:22.003320Z",
     "start_time": "2022-06-28T21:00:21.968143Z"
    }
   },
   "outputs": [],
   "source": [
    "# load dataframe\n",
    "\n",
    "fn = data + 'twit_from_disaster_train.csv'\n",
    "df = pd.read_csv(fn)"
   ]
  },
  {
   "cell_type": "code",
   "execution_count": null,
   "id": "30a66d13",
   "metadata": {
    "ExecuteTime": {
     "end_time": "2022-06-28T21:00:22.025462Z",
     "start_time": "2022-06-28T21:00:22.006822Z"
    }
   },
   "outputs": [],
   "source": [
    "df.head()"
   ]
  },
  {
   "cell_type": "markdown",
   "id": "4a631f5e",
   "metadata": {},
   "source": [
    "# 2. First Tour"
   ]
  },
  {
   "cell_type": "markdown",
   "id": "74e02cca",
   "metadata": {},
   "source": [
    "## 2.1 Display"
   ]
  },
  {
   "cell_type": "code",
   "execution_count": null,
   "id": "4a105163",
   "metadata": {
    "ExecuteTime": {
     "end_time": "2022-06-28T21:00:22.041807Z",
     "start_time": "2022-06-28T21:00:22.028798Z"
    }
   },
   "outputs": [],
   "source": [
    "df.head(5)"
   ]
  },
  {
   "cell_type": "code",
   "execution_count": null,
   "id": "e2a3742d",
   "metadata": {
    "ExecuteTime": {
     "end_time": "2022-06-28T21:00:22.064432Z",
     "start_time": "2022-06-28T21:00:22.045415Z"
    }
   },
   "outputs": [],
   "source": [
    "df.sample(20)"
   ]
  },
  {
   "cell_type": "code",
   "execution_count": null,
   "id": "bf843092",
   "metadata": {
    "ExecuteTime": {
     "end_time": "2022-06-28T21:00:22.084588Z",
     "start_time": "2022-06-28T21:00:22.068297Z"
    }
   },
   "outputs": [],
   "source": [
    "df.tail(5)"
   ]
  },
  {
   "cell_type": "markdown",
   "id": "bc2e18f3",
   "metadata": {},
   "source": [
    "## 2.2 Structure"
   ]
  },
  {
   "cell_type": "code",
   "execution_count": null,
   "id": "97189897",
   "metadata": {
    "ExecuteTime": {
     "end_time": "2022-06-28T21:00:22.098228Z",
     "start_time": "2022-06-28T21:00:22.090901Z"
    }
   },
   "outputs": [],
   "source": [
    "df.shape"
   ]
  },
  {
   "cell_type": "code",
   "execution_count": null,
   "id": "53f14e14",
   "metadata": {
    "ExecuteTime": {
     "end_time": "2022-06-28T21:00:22.111402Z",
     "start_time": "2022-06-28T21:00:22.102771Z"
    }
   },
   "outputs": [],
   "source": [
    "df.dtypes"
   ]
  },
  {
   "cell_type": "code",
   "execution_count": null,
   "id": "a3a023b6",
   "metadata": {
    "ExecuteTime": {
     "end_time": "2022-06-28T21:00:22.138682Z",
     "start_time": "2022-06-28T21:00:22.115465Z"
    }
   },
   "outputs": [],
   "source": [
    "df.info()"
   ]
  },
  {
   "cell_type": "code",
   "execution_count": null,
   "id": "bc1d1712",
   "metadata": {
    "ExecuteTime": {
     "end_time": "2022-06-28T21:00:22.151779Z",
     "start_time": "2022-06-28T21:00:22.142469Z"
    }
   },
   "outputs": [],
   "source": [
    "df.dtypes.value_counts()"
   ]
  },
  {
   "cell_type": "code",
   "execution_count": null,
   "id": "28a7015c",
   "metadata": {
    "ExecuteTime": {
     "end_time": "2022-06-28T21:00:22.172968Z",
     "start_time": "2022-06-28T21:00:22.154892Z"
    }
   },
   "outputs": [],
   "source": [
    "df.nunique()"
   ]
  },
  {
   "cell_type": "code",
   "execution_count": null,
   "id": "35021014",
   "metadata": {
    "ExecuteTime": {
     "end_time": "2022-06-28T21:00:22.196062Z",
     "start_time": "2022-06-28T21:00:22.176297Z"
    }
   },
   "outputs": [],
   "source": [
    "tmp = df.nunique()\n",
    "tmp"
   ]
  },
  {
   "cell_type": "code",
   "execution_count": null,
   "id": "9af21b01",
   "metadata": {
    "ExecuteTime": {
     "end_time": "2022-06-28T21:00:22.210273Z",
     "start_time": "2022-06-28T21:00:22.199515Z"
    },
    "scrolled": true
   },
   "outputs": [],
   "source": [
    "tmp[tmp < 10]"
   ]
  },
  {
   "cell_type": "code",
   "execution_count": null,
   "id": "cd926206",
   "metadata": {
    "ExecuteTime": {
     "end_time": "2022-06-28T21:00:22.225255Z",
     "start_time": "2022-06-28T21:00:22.213960Z"
    }
   },
   "outputs": [],
   "source": [
    "tmp[tmp > 1000]"
   ]
  },
  {
   "cell_type": "markdown",
   "id": "f40250be",
   "metadata": {},
   "source": [
    "## 2.3 NaN and duplicated"
   ]
  },
  {
   "cell_type": "code",
   "execution_count": null,
   "id": "9ed10407",
   "metadata": {
    "ExecuteTime": {
     "end_time": "2022-06-28T21:00:22.249161Z",
     "start_time": "2022-06-28T21:00:22.229517Z"
    }
   },
   "outputs": [],
   "source": [
    "df.isna().sum()"
   ]
  },
  {
   "cell_type": "code",
   "execution_count": null,
   "id": "b008ab45",
   "metadata": {
    "ExecuteTime": {
     "end_time": "2022-06-28T21:00:22.272631Z",
     "start_time": "2022-06-28T21:00:22.255487Z"
    }
   },
   "outputs": [],
   "source": [
    "df.isna().mean()"
   ]
  },
  {
   "cell_type": "code",
   "execution_count": null,
   "id": "2f56c52c",
   "metadata": {
    "ExecuteTime": {
     "end_time": "2022-06-28T21:00:22.299367Z",
     "start_time": "2022-06-28T21:00:22.276792Z"
    }
   },
   "outputs": [],
   "source": [
    "df.isna().mean().sort_values()"
   ]
  },
  {
   "cell_type": "code",
   "execution_count": null,
   "id": "6d4d1085",
   "metadata": {
    "ExecuteTime": {
     "end_time": "2022-06-28T21:00:22.889158Z",
     "start_time": "2022-06-28T21:00:22.303926Z"
    }
   },
   "outputs": [],
   "source": [
    "sns.heatmap(df.isna())"
   ]
  },
  {
   "cell_type": "code",
   "execution_count": null,
   "id": "64a147c1",
   "metadata": {
    "ExecuteTime": {
     "end_time": "2022-06-28T21:00:23.519728Z",
     "start_time": "2022-06-28T21:00:22.892952Z"
    }
   },
   "outputs": [],
   "source": [
    "fig, ax = plt.subplots(1,1, figsize=(20, 6))\n",
    "sns.heatmap(df.isna())"
   ]
  },
  {
   "cell_type": "code",
   "execution_count": null,
   "id": "659bb21b",
   "metadata": {
    "ExecuteTime": {
     "end_time": "2022-06-28T21:00:23.539124Z",
     "start_time": "2022-06-28T21:00:23.522616Z"
    }
   },
   "outputs": [],
   "source": [
    "df.duplicated().sum()"
   ]
  },
  {
   "cell_type": "code",
   "execution_count": null,
   "id": "881b97af",
   "metadata": {
    "ExecuteTime": {
     "end_time": "2022-06-28T21:00:23.555288Z",
     "start_time": "2022-06-28T21:00:23.542646Z"
    }
   },
   "outputs": [],
   "source": [
    "df.duplicated(subset=\"text\").sum()"
   ]
  },
  {
   "cell_type": "code",
   "execution_count": null,
   "id": "04452293",
   "metadata": {
    "ExecuteTime": {
     "end_time": "2022-06-28T21:00:23.582359Z",
     "start_time": "2022-06-28T21:00:23.559000Z"
    }
   },
   "outputs": [],
   "source": [
    "for col in df.columns : \n",
    "    n = df.duplicated(subset=col).sum()\n",
    "    print(f\"col : {col} -> duplicated : {n}\")"
   ]
  },
  {
   "cell_type": "code",
   "execution_count": null,
   "id": "8c665fca",
   "metadata": {
    "ExecuteTime": {
     "end_time": "2022-06-28T21:00:23.599920Z",
     "start_time": "2022-06-28T21:00:23.586428Z"
    }
   },
   "outputs": [],
   "source": [
    "df.duplicated(subset=\"text\",keep=\"first\")"
   ]
  },
  {
   "cell_type": "code",
   "execution_count": null,
   "id": "5f112f72",
   "metadata": {
    "ExecuteTime": {
     "end_time": "2022-06-28T21:00:23.631133Z",
     "start_time": "2022-06-28T21:00:23.603227Z"
    }
   },
   "outputs": [],
   "source": [
    "idx = df.duplicated(subset=\"text\",keep=\"first\")\n",
    "df.loc[idx, : ].sort_values(\"text\")"
   ]
  },
  {
   "cell_type": "markdown",
   "id": "4df14697",
   "metadata": {},
   "source": [
    "## 2.4 Data inspection"
   ]
  },
  {
   "cell_type": "code",
   "execution_count": null,
   "id": "ffdb895f",
   "metadata": {
    "ExecuteTime": {
     "end_time": "2022-06-28T21:00:23.750516Z",
     "start_time": "2022-06-28T21:00:23.644590Z"
    }
   },
   "outputs": [],
   "source": [
    "df.describe(include=np.number)"
   ]
  },
  {
   "cell_type": "code",
   "execution_count": null,
   "id": "a1df516e",
   "metadata": {
    "ExecuteTime": {
     "end_time": "2022-06-28T21:00:23.793432Z",
     "start_time": "2022-06-28T21:00:23.754788Z"
    }
   },
   "outputs": [],
   "source": [
    "df.describe(include=object)"
   ]
  },
  {
   "cell_type": "markdown",
   "id": "d0b6603d",
   "metadata": {},
   "source": [
    "# 3. Cleaning"
   ]
  },
  {
   "cell_type": "markdown",
   "id": "e4765261",
   "metadata": {},
   "source": [
    "## 3.1 Select columns"
   ]
  },
  {
   "cell_type": "code",
   "execution_count": null,
   "id": "cdcc862c",
   "metadata": {
    "ExecuteTime": {
     "end_time": "2022-06-28T21:00:23.806298Z",
     "start_time": "2022-06-28T21:00:23.796519Z"
    }
   },
   "outputs": [],
   "source": [
    "tmp = df.dtypes\n",
    "tmp"
   ]
  },
  {
   "cell_type": "code",
   "execution_count": null,
   "id": "465426f2",
   "metadata": {
    "ExecuteTime": {
     "end_time": "2022-06-28T21:00:23.823605Z",
     "start_time": "2022-06-28T21:00:23.809331Z"
    }
   },
   "outputs": [],
   "source": [
    "cols = [\"text\", \"target\"]\n",
    "df = df[cols]\n",
    "df.head()"
   ]
  },
  {
   "cell_type": "markdown",
   "id": "d49f16be",
   "metadata": {},
   "source": [
    "## 3.2 Drop NaN"
   ]
  },
  {
   "cell_type": "code",
   "execution_count": null,
   "id": "00621591",
   "metadata": {
    "ExecuteTime": {
     "end_time": "2022-06-28T21:00:23.843487Z",
     "start_time": "2022-06-28T21:00:23.829984Z"
    },
    "scrolled": true
   },
   "outputs": [],
   "source": [
    "df.isna().mean()"
   ]
  },
  {
   "cell_type": "markdown",
   "id": "2110e720",
   "metadata": {},
   "source": [
    "## 3.3 Duplicated"
   ]
  },
  {
   "cell_type": "code",
   "execution_count": null,
   "id": "26d389cd",
   "metadata": {
    "ExecuteTime": {
     "end_time": "2022-06-28T21:00:23.854417Z",
     "start_time": "2022-06-28T21:00:23.847266Z"
    }
   },
   "outputs": [],
   "source": [
    "df.shape"
   ]
  },
  {
   "cell_type": "code",
   "execution_count": null,
   "id": "39753fca",
   "metadata": {
    "ExecuteTime": {
     "end_time": "2022-06-28T21:00:23.881474Z",
     "start_time": "2022-06-28T21:00:23.857530Z"
    }
   },
   "outputs": [],
   "source": [
    "idx = df.duplicated(subset=\"text\",keep=\"first\")\n",
    "df.loc[idx, : ].sort_values(\"text\")"
   ]
  },
  {
   "cell_type": "code",
   "execution_count": null,
   "id": "1cb3d71d",
   "metadata": {
    "ExecuteTime": {
     "end_time": "2022-06-28T21:00:23.899515Z",
     "start_time": "2022-06-28T21:00:23.886613Z"
    }
   },
   "outputs": [],
   "source": [
    "df.drop_duplicates(subset=\"text\", inplace=True)"
   ]
  },
  {
   "cell_type": "markdown",
   "id": "c7b6463a",
   "metadata": {},
   "source": [
    "# 4. Exploratory Data Analysis"
   ]
  },
  {
   "cell_type": "markdown",
   "id": "24de4f64",
   "metadata": {},
   "source": [
    "## 4.1 Target"
   ]
  },
  {
   "cell_type": "code",
   "execution_count": null,
   "id": "ddea2811",
   "metadata": {
    "ExecuteTime": {
     "end_time": "2022-06-28T21:00:23.923730Z",
     "start_time": "2022-06-28T21:00:23.904457Z"
    },
    "scrolled": true
   },
   "outputs": [],
   "source": [
    "df.describe()"
   ]
  },
  {
   "cell_type": "code",
   "execution_count": null,
   "id": "99792cb0",
   "metadata": {
    "ExecuteTime": {
     "end_time": "2022-06-28T21:00:23.939068Z",
     "start_time": "2022-06-28T21:00:23.927477Z"
    }
   },
   "outputs": [],
   "source": [
    "df.target.value_counts()"
   ]
  },
  {
   "cell_type": "code",
   "execution_count": null,
   "id": "35c08ea5",
   "metadata": {
    "ExecuteTime": {
     "end_time": "2022-06-28T21:00:23.956172Z",
     "start_time": "2022-06-28T21:00:23.944081Z"
    }
   },
   "outputs": [],
   "source": [
    "df.target.value_counts(normalize=True)"
   ]
  },
  {
   "cell_type": "code",
   "execution_count": null,
   "id": "9c9299d7",
   "metadata": {
    "ExecuteTime": {
     "end_time": "2022-06-28T21:00:24.119983Z",
     "start_time": "2022-06-28T21:00:23.960476Z"
    }
   },
   "outputs": [],
   "source": [
    "df.target.value_counts().plot(kind=\"pie\")"
   ]
  },
  {
   "cell_type": "markdown",
   "id": "2a7a522e",
   "metadata": {},
   "source": [
    "## 4.2 Length"
   ]
  },
  {
   "cell_type": "code",
   "execution_count": null,
   "id": "3d01be48",
   "metadata": {
    "ExecuteTime": {
     "end_time": "2022-06-28T21:00:24.155831Z",
     "start_time": "2022-06-28T21:00:24.123853Z"
    },
    "scrolled": false
   },
   "outputs": [],
   "source": [
    "df.describe(include=\"object\")"
   ]
  },
  {
   "cell_type": "code",
   "execution_count": null,
   "id": "6368ea52",
   "metadata": {
    "ExecuteTime": {
     "end_time": "2022-06-28T21:00:24.179501Z",
     "start_time": "2022-06-28T21:00:24.160902Z"
    }
   },
   "outputs": [],
   "source": [
    "df.text.apply(lambda i : len(i))"
   ]
  },
  {
   "cell_type": "code",
   "execution_count": null,
   "id": "df546bff",
   "metadata": {
    "ExecuteTime": {
     "end_time": "2022-06-28T21:00:24.543461Z",
     "start_time": "2022-06-28T21:00:24.183994Z"
    }
   },
   "outputs": [],
   "source": [
    "tmp = df.text.str.len()\n",
    "sns.boxplot(tmp)"
   ]
  },
  {
   "cell_type": "code",
   "execution_count": null,
   "id": "c36baf12",
   "metadata": {
    "ExecuteTime": {
     "end_time": "2022-06-28T21:00:25.217790Z",
     "start_time": "2022-06-28T21:00:24.547814Z"
    }
   },
   "outputs": [],
   "source": [
    "sns.displot(tmp)"
   ]
  },
  {
   "cell_type": "code",
   "execution_count": null,
   "id": "f25187bc",
   "metadata": {
    "ExecuteTime": {
     "end_time": "2022-06-28T21:00:25.225796Z",
     "start_time": "2022-06-28T21:00:25.220893Z"
    },
    "scrolled": false
   },
   "outputs": [],
   "source": [
    "df[\"_len_txt\"] = tmp"
   ]
  },
  {
   "cell_type": "markdown",
   "id": "7b7ed418",
   "metadata": {},
   "source": [
    "## 4.3 Multivariate analysis"
   ]
  },
  {
   "cell_type": "code",
   "execution_count": null,
   "id": "425ffbea",
   "metadata": {
    "ExecuteTime": {
     "end_time": "2022-06-28T21:00:25.245360Z",
     "start_time": "2022-06-28T21:00:25.229460Z"
    }
   },
   "outputs": [],
   "source": [
    "corr = df.corr()\n",
    "corr"
   ]
  },
  {
   "cell_type": "code",
   "execution_count": null,
   "id": "41b70018",
   "metadata": {
    "ExecuteTime": {
     "end_time": "2022-06-28T21:00:25.569460Z",
     "start_time": "2022-06-28T21:00:25.248352Z"
    }
   },
   "outputs": [],
   "source": [
    "sns.heatmap(corr)"
   ]
  },
  {
   "cell_type": "code",
   "execution_count": null,
   "id": "7386ec3d",
   "metadata": {
    "ExecuteTime": {
     "end_time": "2022-06-28T21:00:25.904418Z",
     "start_time": "2022-06-28T21:00:25.573120Z"
    }
   },
   "outputs": [],
   "source": [
    "mask = np.zeros_like(corr)\n",
    "mask[np.triu_indices_from(mask)] = True\n",
    "\n",
    "fig, ax = plt.subplots(1,1, figsize=(7, 5))\n",
    "ax = sns.heatmap(corr, mask=mask, vmin=-1, vmax=1, cmap=\"coolwarm\", annot=True, fmt=\".2f\", square=True)"
   ]
  },
  {
   "cell_type": "code",
   "execution_count": null,
   "id": "f5ee35fe",
   "metadata": {
    "ExecuteTime": {
     "end_time": "2022-06-28T21:00:27.401727Z",
     "start_time": "2022-06-28T21:00:25.907991Z"
    },
    "scrolled": true
   },
   "outputs": [],
   "source": [
    "sns.pairplot(df)"
   ]
  },
  {
   "cell_type": "code",
   "execution_count": null,
   "id": "67f0f4f4",
   "metadata": {
    "ExecuteTime": {
     "end_time": "2022-06-28T21:01:34.486290Z",
     "start_time": "2022-06-28T21:01:34.417614Z"
    }
   },
   "outputs": [],
   "source": [
    "sns.pairplot(df, hue=\"target\")"
   ]
  },
  {
   "cell_type": "code",
   "execution_count": null,
   "id": "869c579f",
   "metadata": {
    "ExecuteTime": {
     "end_time": "2022-06-28T21:00:28.104269Z",
     "start_time": "2022-06-28T21:00:28.090428Z"
    },
    "scrolled": true
   },
   "outputs": [],
   "source": [
    "df.sort_values(\"_len_txt\").head(10)"
   ]
  },
  {
   "cell_type": "code",
   "execution_count": null,
   "id": "f382f5e1",
   "metadata": {
    "ExecuteTime": {
     "end_time": "2022-06-28T21:00:28.126656Z",
     "start_time": "2022-06-28T21:00:28.108924Z"
    }
   },
   "outputs": [],
   "source": [
    "df.sort_values(\"_len_txt\").tail(10)"
   ]
  },
  {
   "cell_type": "code",
   "execution_count": null,
   "id": "06b134b3",
   "metadata": {
    "ExecuteTime": {
     "end_time": "2022-06-28T21:00:28.146763Z",
     "start_time": "2022-06-28T21:00:28.129930Z"
    }
   },
   "outputs": [],
   "source": [
    "df.drop(columns=\"_len_txt\", inplace=True)\n",
    "df.head()"
   ]
  },
  {
   "cell_type": "code",
   "execution_count": null,
   "id": "f9de9125",
   "metadata": {
    "ExecuteTime": {
     "end_time": "2022-06-28T21:00:28.203968Z",
     "start_time": "2022-06-28T21:00:28.151429Z"
    }
   },
   "outputs": [],
   "source": [
    "df.to_csv(\"data/cleaned/df_cleaned.csv\", index=False)"
   ]
  },
  {
   "cell_type": "markdown",
   "id": "32a4e1e4",
   "metadata": {},
   "source": [
    "## 4.4. Explore corpus and documents"
   ]
  },
  {
   "cell_type": "markdown",
   "id": "40e8974d",
   "metadata": {},
   "source": [
    "###  4.4.1 print N random documents "
   ]
  },
  {
   "cell_type": "code",
   "execution_count": null,
   "id": "890d1d28",
   "metadata": {
    "ExecuteTime": {
     "end_time": "2022-06-28T21:00:28.225311Z",
     "start_time": "2022-06-28T21:00:28.207873Z"
    }
   },
   "outputs": [],
   "source": [
    "df_samp = df.sample(20)\n",
    "df_samp"
   ]
  },
  {
   "cell_type": "code",
   "execution_count": null,
   "id": "525cfe0c",
   "metadata": {
    "ExecuteTime": {
     "end_time": "2022-06-28T21:00:28.241236Z",
     "start_time": "2022-06-28T21:00:28.228882Z"
    }
   },
   "outputs": [],
   "source": [
    "for idx, ser in df_samp.iterrows() : \n",
    "    print(ser[\"text\"])"
   ]
  },
  {
   "cell_type": "code",
   "execution_count": null,
   "id": "0c33d412",
   "metadata": {
    "ExecuteTime": {
     "end_time": "2022-06-28T21:00:28.255133Z",
     "start_time": "2022-06-28T21:00:28.245321Z"
    }
   },
   "outputs": [],
   "source": [
    "for idx, ser in df_samp.iterrows(): \n",
    "    txt_1 = f\"target : {ser['target']}\\n\"\n",
    "    print(txt_1 + ser['text']+ \"...\" + \"\\n\\n\")"
   ]
  },
  {
   "cell_type": "markdown",
   "id": "0a761626",
   "metadata": {},
   "source": [
    "### 4.4.2 print documents vs target"
   ]
  },
  {
   "cell_type": "code",
   "execution_count": null,
   "id": "87f1ad65",
   "metadata": {
    "ExecuteTime": {
     "end_time": "2022-06-28T21:00:28.264163Z",
     "start_time": "2022-06-28T21:00:28.258586Z"
    }
   },
   "outputs": [],
   "source": [
    "def print_sample(sub_df, n_samp=10) : \n",
    "    \"\"\"print out n_samp documents from a corpus\"\"\"\n",
    "    \n",
    "    samp = sub_df.sample(n_samp)\n",
    "    \n",
    "    for idx, ser in samp.iterrows(): \n",
    "\n",
    "        txt_1 = f\"target : {ser['target']}\\n\"\n",
    "        print(txt_1+ser['text']+ \"...\" + \"\\n\\n\")"
   ]
  },
  {
   "cell_type": "code",
   "execution_count": null,
   "id": "58b9977d",
   "metadata": {
    "ExecuteTime": {
     "end_time": "2022-06-28T21:00:28.281539Z",
     "start_time": "2022-06-28T21:00:28.268707Z"
    }
   },
   "outputs": [],
   "source": [
    "df_1 = df[df.target == 1]\n",
    "df_1.head()"
   ]
  },
  {
   "cell_type": "code",
   "execution_count": null,
   "id": "b560975e",
   "metadata": {
    "ExecuteTime": {
     "end_time": "2022-06-28T21:00:28.294790Z",
     "start_time": "2022-06-28T21:00:28.285982Z"
    }
   },
   "outputs": [],
   "source": [
    "# print 10 docs of target == 1 \n",
    "\n",
    "print_sample(df_1)"
   ]
  },
  {
   "cell_type": "code",
   "execution_count": null,
   "id": "792ce246",
   "metadata": {
    "ExecuteTime": {
     "end_time": "2022-06-28T21:00:28.307517Z",
     "start_time": "2022-06-28T21:00:28.298215Z"
    }
   },
   "outputs": [],
   "source": [
    "# print 10 docs of target == 0\n",
    "\n",
    "print_sample(df[df.target==0])"
   ]
  }
 ],
 "metadata": {
  "hide_input": false,
  "kernelspec": {
   "display_name": "Python 3",
   "language": "python",
   "name": "python3"
  },
  "language_info": {
   "codemirror_mode": {
    "name": "ipython",
    "version": 3
   },
   "file_extension": ".py",
   "mimetype": "text/x-python",
   "name": "python",
   "nbconvert_exporter": "python",
   "pygments_lexer": "ipython3",
   "version": "3.8.10"
  }
 },
 "nbformat": 4,
 "nbformat_minor": 5
}
