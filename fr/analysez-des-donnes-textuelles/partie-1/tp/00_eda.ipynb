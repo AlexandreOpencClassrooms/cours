{
 "cells": [
  {
   "cell_type": "markdown",
   "id": "90d846cb",
   "metadata": {},
   "source": [
    "# 1. Preliminary"
   ]
  },
  {
   "cell_type": "markdown",
   "id": "03838406",
   "metadata": {},
   "source": [
    "## 1.1 Context"
   ]
  },
  {
   "cell_type": "markdown",
   "id": "6606bd99",
   "metadata": {
    "ExecuteTime": {
     "end_time": "2022-06-28T07:07:57.932538Z",
     "start_time": "2022-06-28T07:07:57.927107Z"
    }
   },
   "source": [
    "* We will analyze a very well known NLP dataset: tweets from disaster\n",
    "\n",
    "\n",
    "* It is a Kaggle competition, which offers a simple but good level textual dataset to be able to make its weapons in NLP\n",
    "\n",
    "\n",
    "* The dataset is here [https://www.kaggle.com/competitions/nlp-getting-started/data]\n",
    "\n",
    "\n",
    "* Please use the **train** dataset\n",
    "\n",
    "\n",
    "* In this 1st part we are just play and discover with this dataset"
   ]
  },
  {
   "cell_type": "markdown",
   "id": "e4b708ab",
   "metadata": {},
   "source": [
    "## 1.2 Requirements"
   ]
  },
  {
   "cell_type": "markdown",
   "id": "08fbf504",
   "metadata": {},
   "source": [
    "You have to install  : \n",
    "\n",
    "* pandas\n",
    "* numpy\n",
    "* matplotlib\n",
    "* seaborn"
   ]
  },
  {
   "cell_type": "markdown",
   "id": "97396f16",
   "metadata": {},
   "source": [
    "## 1.3 Imports"
   ]
  },
  {
   "cell_type": "code",
   "execution_count": 3,
   "id": "d56dbd5f",
   "metadata": {
    "ExecuteTime": {
     "end_time": "2022-06-28T21:00:21.927920Z",
     "start_time": "2022-06-28T21:00:20.556819Z"
    }
   },
   "outputs": [],
   "source": [
    "import os, sys, time\n",
    "\n",
    "import numpy as np\n",
    "import pandas as pd\n",
    "\n",
    "import matplotlib.pyplot as plt\n",
    "import seaborn as sns"
   ]
  },
  {
   "cell_type": "markdown",
   "id": "f5cf6fd7",
   "metadata": {},
   "source": [
    "## 1.4 Graphics and options"
   ]
  },
  {
   "cell_type": "code",
   "execution_count": 4,
   "id": "97fab682",
   "metadata": {
    "ExecuteTime": {
     "end_time": "2022-06-28T21:00:21.936930Z",
     "start_time": "2022-06-28T21:00:21.931901Z"
    }
   },
   "outputs": [],
   "source": [
    "sns.set()"
   ]
  },
  {
   "cell_type": "markdown",
   "id": "1880a917",
   "metadata": {},
   "source": [
    "## 1.5 Loading data"
   ]
  },
  {
   "cell_type": "code",
   "execution_count": null,
   "id": "7f9322ee",
   "metadata": {
    "ExecuteTime": {
     "end_time": "2022-06-28T21:00:21.945540Z",
     "start_time": "2022-06-28T21:00:21.939340Z"
    }
   },
   "outputs": [],
   "source": [
    "# !tree"
   ]
  },
  {
   "cell_type": "markdown",
   "id": "97881d2f",
   "metadata": {},
   "source": [
    "![repo](./img/repo.jpg)"
   ]
  },
  {
   "cell_type": "code",
   "execution_count": 5,
   "id": "c046fdbb",
   "metadata": {
    "ExecuteTime": {
     "end_time": "2022-06-28T21:00:21.964956Z",
     "start_time": "2022-06-28T21:00:21.951031Z"
    }
   },
   "outputs": [
    {
     "data": {
      "text/plain": [
       "['twit_from_disaster_train.csv', 'superheroes_nlp_dataset.csv']"
      ]
     },
     "execution_count": 5,
     "metadata": {},
     "output_type": "execute_result"
    }
   ],
   "source": [
    "# our file\n",
    "\n",
    "data = \"./data/source/\"\n",
    "os.listdir(data)"
   ]
  },
  {
   "cell_type": "code",
   "execution_count": 6,
   "id": "e699e715",
   "metadata": {
    "ExecuteTime": {
     "end_time": "2022-06-28T21:00:22.003320Z",
     "start_time": "2022-06-28T21:00:21.968143Z"
    }
   },
   "outputs": [],
   "source": [
    "# load dataframe\n",
    "\n",
    "fn = data + 'twit_from_disaster_train.csv'\n",
    "df = pd.read_csv(fn)"
   ]
  },
  {
   "cell_type": "code",
   "execution_count": 7,
   "id": "30a66d13",
   "metadata": {
    "ExecuteTime": {
     "end_time": "2022-06-28T21:00:22.025462Z",
     "start_time": "2022-06-28T21:00:22.006822Z"
    }
   },
   "outputs": [
    {
     "data": {
      "text/html": [
       "<div>\n",
       "<style scoped>\n",
       "    .dataframe tbody tr th:only-of-type {\n",
       "        vertical-align: middle;\n",
       "    }\n",
       "\n",
       "    .dataframe tbody tr th {\n",
       "        vertical-align: top;\n",
       "    }\n",
       "\n",
       "    .dataframe thead th {\n",
       "        text-align: right;\n",
       "    }\n",
       "</style>\n",
       "<table border=\"1\" class=\"dataframe\">\n",
       "  <thead>\n",
       "    <tr style=\"text-align: right;\">\n",
       "      <th></th>\n",
       "      <th>id</th>\n",
       "      <th>keyword</th>\n",
       "      <th>location</th>\n",
       "      <th>text</th>\n",
       "      <th>target</th>\n",
       "    </tr>\n",
       "  </thead>\n",
       "  <tbody>\n",
       "    <tr>\n",
       "      <th>0</th>\n",
       "      <td>1</td>\n",
       "      <td>NaN</td>\n",
       "      <td>NaN</td>\n",
       "      <td>Our Deeds are the Reason of this #earthquake M...</td>\n",
       "      <td>1</td>\n",
       "    </tr>\n",
       "    <tr>\n",
       "      <th>1</th>\n",
       "      <td>4</td>\n",
       "      <td>NaN</td>\n",
       "      <td>NaN</td>\n",
       "      <td>Forest fire near La Ronge Sask. Canada</td>\n",
       "      <td>1</td>\n",
       "    </tr>\n",
       "    <tr>\n",
       "      <th>2</th>\n",
       "      <td>5</td>\n",
       "      <td>NaN</td>\n",
       "      <td>NaN</td>\n",
       "      <td>All residents asked to 'shelter in place' are ...</td>\n",
       "      <td>1</td>\n",
       "    </tr>\n",
       "    <tr>\n",
       "      <th>3</th>\n",
       "      <td>6</td>\n",
       "      <td>NaN</td>\n",
       "      <td>NaN</td>\n",
       "      <td>13,000 people receive #wildfires evacuation or...</td>\n",
       "      <td>1</td>\n",
       "    </tr>\n",
       "    <tr>\n",
       "      <th>4</th>\n",
       "      <td>7</td>\n",
       "      <td>NaN</td>\n",
       "      <td>NaN</td>\n",
       "      <td>Just got sent this photo from Ruby #Alaska as ...</td>\n",
       "      <td>1</td>\n",
       "    </tr>\n",
       "  </tbody>\n",
       "</table>\n",
       "</div>"
      ],
      "text/plain": [
       "   id keyword location                                               text  \\\n",
       "0   1     NaN      NaN  Our Deeds are the Reason of this #earthquake M...   \n",
       "1   4     NaN      NaN             Forest fire near La Ronge Sask. Canada   \n",
       "2   5     NaN      NaN  All residents asked to 'shelter in place' are ...   \n",
       "3   6     NaN      NaN  13,000 people receive #wildfires evacuation or...   \n",
       "4   7     NaN      NaN  Just got sent this photo from Ruby #Alaska as ...   \n",
       "\n",
       "   target  \n",
       "0       1  \n",
       "1       1  \n",
       "2       1  \n",
       "3       1  \n",
       "4       1  "
      ]
     },
     "execution_count": 7,
     "metadata": {},
     "output_type": "execute_result"
    }
   ],
   "source": [
    "df.head()"
   ]
  },
  {
   "cell_type": "markdown",
   "id": "4a631f5e",
   "metadata": {},
   "source": [
    "# 2. First Tour"
   ]
  },
  {
   "cell_type": "markdown",
   "id": "74e02cca",
   "metadata": {},
   "source": [
    "## 2.1 Display"
   ]
  },
  {
   "cell_type": "code",
   "execution_count": 8,
   "id": "4a105163",
   "metadata": {
    "ExecuteTime": {
     "end_time": "2022-06-28T21:00:22.041807Z",
     "start_time": "2022-06-28T21:00:22.028798Z"
    }
   },
   "outputs": [
    {
     "data": {
      "text/html": [
       "<div>\n",
       "<style scoped>\n",
       "    .dataframe tbody tr th:only-of-type {\n",
       "        vertical-align: middle;\n",
       "    }\n",
       "\n",
       "    .dataframe tbody tr th {\n",
       "        vertical-align: top;\n",
       "    }\n",
       "\n",
       "    .dataframe thead th {\n",
       "        text-align: right;\n",
       "    }\n",
       "</style>\n",
       "<table border=\"1\" class=\"dataframe\">\n",
       "  <thead>\n",
       "    <tr style=\"text-align: right;\">\n",
       "      <th></th>\n",
       "      <th>id</th>\n",
       "      <th>keyword</th>\n",
       "      <th>location</th>\n",
       "      <th>text</th>\n",
       "      <th>target</th>\n",
       "    </tr>\n",
       "  </thead>\n",
       "  <tbody>\n",
       "    <tr>\n",
       "      <th>0</th>\n",
       "      <td>1</td>\n",
       "      <td>NaN</td>\n",
       "      <td>NaN</td>\n",
       "      <td>Our Deeds are the Reason of this #earthquake M...</td>\n",
       "      <td>1</td>\n",
       "    </tr>\n",
       "    <tr>\n",
       "      <th>1</th>\n",
       "      <td>4</td>\n",
       "      <td>NaN</td>\n",
       "      <td>NaN</td>\n",
       "      <td>Forest fire near La Ronge Sask. Canada</td>\n",
       "      <td>1</td>\n",
       "    </tr>\n",
       "    <tr>\n",
       "      <th>2</th>\n",
       "      <td>5</td>\n",
       "      <td>NaN</td>\n",
       "      <td>NaN</td>\n",
       "      <td>All residents asked to 'shelter in place' are ...</td>\n",
       "      <td>1</td>\n",
       "    </tr>\n",
       "    <tr>\n",
       "      <th>3</th>\n",
       "      <td>6</td>\n",
       "      <td>NaN</td>\n",
       "      <td>NaN</td>\n",
       "      <td>13,000 people receive #wildfires evacuation or...</td>\n",
       "      <td>1</td>\n",
       "    </tr>\n",
       "    <tr>\n",
       "      <th>4</th>\n",
       "      <td>7</td>\n",
       "      <td>NaN</td>\n",
       "      <td>NaN</td>\n",
       "      <td>Just got sent this photo from Ruby #Alaska as ...</td>\n",
       "      <td>1</td>\n",
       "    </tr>\n",
       "  </tbody>\n",
       "</table>\n",
       "</div>"
      ],
      "text/plain": [
       "   id keyword location                                               text  \\\n",
       "0   1     NaN      NaN  Our Deeds are the Reason of this #earthquake M...   \n",
       "1   4     NaN      NaN             Forest fire near La Ronge Sask. Canada   \n",
       "2   5     NaN      NaN  All residents asked to 'shelter in place' are ...   \n",
       "3   6     NaN      NaN  13,000 people receive #wildfires evacuation or...   \n",
       "4   7     NaN      NaN  Just got sent this photo from Ruby #Alaska as ...   \n",
       "\n",
       "   target  \n",
       "0       1  \n",
       "1       1  \n",
       "2       1  \n",
       "3       1  \n",
       "4       1  "
      ]
     },
     "execution_count": 8,
     "metadata": {},
     "output_type": "execute_result"
    }
   ],
   "source": [
    "df.head(5)"
   ]
  },
  {
   "cell_type": "code",
   "execution_count": 9,
   "id": "bf843092",
   "metadata": {
    "ExecuteTime": {
     "end_time": "2022-06-28T21:00:22.084588Z",
     "start_time": "2022-06-28T21:00:22.068297Z"
    }
   },
   "outputs": [
    {
     "data": {
      "text/html": [
       "<div>\n",
       "<style scoped>\n",
       "    .dataframe tbody tr th:only-of-type {\n",
       "        vertical-align: middle;\n",
       "    }\n",
       "\n",
       "    .dataframe tbody tr th {\n",
       "        vertical-align: top;\n",
       "    }\n",
       "\n",
       "    .dataframe thead th {\n",
       "        text-align: right;\n",
       "    }\n",
       "</style>\n",
       "<table border=\"1\" class=\"dataframe\">\n",
       "  <thead>\n",
       "    <tr style=\"text-align: right;\">\n",
       "      <th></th>\n",
       "      <th>id</th>\n",
       "      <th>keyword</th>\n",
       "      <th>location</th>\n",
       "      <th>text</th>\n",
       "      <th>target</th>\n",
       "    </tr>\n",
       "  </thead>\n",
       "  <tbody>\n",
       "    <tr>\n",
       "      <th>7608</th>\n",
       "      <td>10869</td>\n",
       "      <td>NaN</td>\n",
       "      <td>NaN</td>\n",
       "      <td>Two giant cranes holding a bridge collapse int...</td>\n",
       "      <td>1</td>\n",
       "    </tr>\n",
       "    <tr>\n",
       "      <th>7609</th>\n",
       "      <td>10870</td>\n",
       "      <td>NaN</td>\n",
       "      <td>NaN</td>\n",
       "      <td>@aria_ahrary @TheTawniest The out of control w...</td>\n",
       "      <td>1</td>\n",
       "    </tr>\n",
       "    <tr>\n",
       "      <th>7610</th>\n",
       "      <td>10871</td>\n",
       "      <td>NaN</td>\n",
       "      <td>NaN</td>\n",
       "      <td>M1.94 [01:04 UTC]?5km S of Volcano Hawaii. htt...</td>\n",
       "      <td>1</td>\n",
       "    </tr>\n",
       "    <tr>\n",
       "      <th>7611</th>\n",
       "      <td>10872</td>\n",
       "      <td>NaN</td>\n",
       "      <td>NaN</td>\n",
       "      <td>Police investigating after an e-bike collided ...</td>\n",
       "      <td>1</td>\n",
       "    </tr>\n",
       "    <tr>\n",
       "      <th>7612</th>\n",
       "      <td>10873</td>\n",
       "      <td>NaN</td>\n",
       "      <td>NaN</td>\n",
       "      <td>The Latest: More Homes Razed by Northern Calif...</td>\n",
       "      <td>1</td>\n",
       "    </tr>\n",
       "  </tbody>\n",
       "</table>\n",
       "</div>"
      ],
      "text/plain": [
       "         id keyword location  \\\n",
       "7608  10869     NaN      NaN   \n",
       "7609  10870     NaN      NaN   \n",
       "7610  10871     NaN      NaN   \n",
       "7611  10872     NaN      NaN   \n",
       "7612  10873     NaN      NaN   \n",
       "\n",
       "                                                   text  target  \n",
       "7608  Two giant cranes holding a bridge collapse int...       1  \n",
       "7609  @aria_ahrary @TheTawniest The out of control w...       1  \n",
       "7610  M1.94 [01:04 UTC]?5km S of Volcano Hawaii. htt...       1  \n",
       "7611  Police investigating after an e-bike collided ...       1  \n",
       "7612  The Latest: More Homes Razed by Northern Calif...       1  "
      ]
     },
     "execution_count": 9,
     "metadata": {},
     "output_type": "execute_result"
    }
   ],
   "source": [
    "df.tail(5)"
   ]
  },
  {
   "cell_type": "code",
   "execution_count": 12,
   "id": "44454eb1",
   "metadata": {},
   "outputs": [
    {
     "data": {
      "text/html": [
       "<div>\n",
       "<style scoped>\n",
       "    .dataframe tbody tr th:only-of-type {\n",
       "        vertical-align: middle;\n",
       "    }\n",
       "\n",
       "    .dataframe tbody tr th {\n",
       "        vertical-align: top;\n",
       "    }\n",
       "\n",
       "    .dataframe thead th {\n",
       "        text-align: right;\n",
       "    }\n",
       "</style>\n",
       "<table border=\"1\" class=\"dataframe\">\n",
       "  <thead>\n",
       "    <tr style=\"text-align: right;\">\n",
       "      <th></th>\n",
       "      <th>id</th>\n",
       "      <th>keyword</th>\n",
       "      <th>location</th>\n",
       "      <th>text</th>\n",
       "      <th>target</th>\n",
       "    </tr>\n",
       "  </thead>\n",
       "  <tbody>\n",
       "    <tr>\n",
       "      <th>1209</th>\n",
       "      <td>1741</td>\n",
       "      <td>buildings%20burning</td>\n",
       "      <td>GO BLUE! HAIL YES!!</td>\n",
       "      <td>@1acd4900c1424d1 @FoxNews no one is rioting bu...</td>\n",
       "      <td>1</td>\n",
       "    </tr>\n",
       "    <tr>\n",
       "      <th>6744</th>\n",
       "      <td>9663</td>\n",
       "      <td>tornado</td>\n",
       "      <td>Gurgaon, Haryana.</td>\n",
       "      <td>#TornadoGiveaway åÊ #thebookclub åÊ Join in!! ...</td>\n",
       "      <td>0</td>\n",
       "    </tr>\n",
       "    <tr>\n",
       "      <th>5368</th>\n",
       "      <td>7659</td>\n",
       "      <td>panic</td>\n",
       "      <td>Narnia</td>\n",
       "      <td>I added a video to a @YouTube playlist http://...</td>\n",
       "      <td>0</td>\n",
       "    </tr>\n",
       "    <tr>\n",
       "      <th>1440</th>\n",
       "      <td>2076</td>\n",
       "      <td>casualty</td>\n",
       "      <td>NaN</td>\n",
       "      <td>UNPREDICTABLE DISCONNECTED AND SOCIAL CASUALTY...</td>\n",
       "      <td>1</td>\n",
       "    </tr>\n",
       "    <tr>\n",
       "      <th>75</th>\n",
       "      <td>109</td>\n",
       "      <td>accident</td>\n",
       "      <td>NaN</td>\n",
       "      <td>RT @SleepJunkies: Sleeping pills double your r...</td>\n",
       "      <td>0</td>\n",
       "    </tr>\n",
       "    <tr>\n",
       "      <th>6811</th>\n",
       "      <td>9757</td>\n",
       "      <td>tragedy</td>\n",
       "      <td>America</td>\n",
       "      <td>@CSAresu   American Tragedy http://t.co/SDmrzG...</td>\n",
       "      <td>1</td>\n",
       "    </tr>\n",
       "    <tr>\n",
       "      <th>1534</th>\n",
       "      <td>2216</td>\n",
       "      <td>chemical%20emergency</td>\n",
       "      <td>NaN</td>\n",
       "      <td>THE CHEMICAL BROTHERS to play The Armory in SF...</td>\n",
       "      <td>0</td>\n",
       "    </tr>\n",
       "    <tr>\n",
       "      <th>4281</th>\n",
       "      <td>6084</td>\n",
       "      <td>heat%20wave</td>\n",
       "      <td>Nebraska, Colorado &amp; The GLOBE</td>\n",
       "      <td>weather warfare Follow the Money This Governme...</td>\n",
       "      <td>1</td>\n",
       "    </tr>\n",
       "    <tr>\n",
       "      <th>5846</th>\n",
       "      <td>8352</td>\n",
       "      <td>ruin</td>\n",
       "      <td>NaN</td>\n",
       "      <td>Always gotta ruin my mood</td>\n",
       "      <td>0</td>\n",
       "    </tr>\n",
       "    <tr>\n",
       "      <th>4285</th>\n",
       "      <td>6088</td>\n",
       "      <td>hellfire</td>\n",
       "      <td>NaN</td>\n",
       "      <td>Hellfire is surrounded by desires so be carefu...</td>\n",
       "      <td>0</td>\n",
       "    </tr>\n",
       "  </tbody>\n",
       "</table>\n",
       "</div>"
      ],
      "text/plain": [
       "        id               keyword                        location  \\\n",
       "1209  1741   buildings%20burning             GO BLUE! HAIL YES!!   \n",
       "6744  9663               tornado              Gurgaon, Haryana.    \n",
       "5368  7659                 panic                          Narnia   \n",
       "1440  2076              casualty                             NaN   \n",
       "75     109              accident                             NaN   \n",
       "6811  9757               tragedy                         America   \n",
       "1534  2216  chemical%20emergency                             NaN   \n",
       "4281  6084           heat%20wave  Nebraska, Colorado & The GLOBE   \n",
       "5846  8352                  ruin                             NaN   \n",
       "4285  6088              hellfire                             NaN   \n",
       "\n",
       "                                                   text  target  \n",
       "1209  @1acd4900c1424d1 @FoxNews no one is rioting bu...       1  \n",
       "6744  #TornadoGiveaway åÊ #thebookclub åÊ Join in!! ...       0  \n",
       "5368  I added a video to a @YouTube playlist http://...       0  \n",
       "1440  UNPREDICTABLE DISCONNECTED AND SOCIAL CASUALTY...       1  \n",
       "75    RT @SleepJunkies: Sleeping pills double your r...       0  \n",
       "6811  @CSAresu   American Tragedy http://t.co/SDmrzG...       1  \n",
       "1534  THE CHEMICAL BROTHERS to play The Armory in SF...       0  \n",
       "4281  weather warfare Follow the Money This Governme...       1  \n",
       "5846                          Always gotta ruin my mood       0  \n",
       "4285  Hellfire is surrounded by desires so be carefu...       0  "
      ]
     },
     "execution_count": 12,
     "metadata": {},
     "output_type": "execute_result"
    }
   ],
   "source": [
    "df.sample(10)"
   ]
  },
  {
   "cell_type": "markdown",
   "id": "bc2e18f3",
   "metadata": {},
   "source": [
    "## 2.2 Structure"
   ]
  },
  {
   "cell_type": "code",
   "execution_count": 13,
   "id": "97189897",
   "metadata": {
    "ExecuteTime": {
     "end_time": "2022-06-28T21:00:22.098228Z",
     "start_time": "2022-06-28T21:00:22.090901Z"
    }
   },
   "outputs": [
    {
     "data": {
      "text/plain": [
       "(7613, 5)"
      ]
     },
     "execution_count": 13,
     "metadata": {},
     "output_type": "execute_result"
    }
   ],
   "source": [
    "df.shape"
   ]
  },
  {
   "cell_type": "code",
   "execution_count": 14,
   "id": "53f14e14",
   "metadata": {
    "ExecuteTime": {
     "end_time": "2022-06-28T21:00:22.111402Z",
     "start_time": "2022-06-28T21:00:22.102771Z"
    }
   },
   "outputs": [
    {
     "data": {
      "text/plain": [
       "id           int64\n",
       "keyword     object\n",
       "location    object\n",
       "text        object\n",
       "target       int64\n",
       "dtype: object"
      ]
     },
     "execution_count": 14,
     "metadata": {},
     "output_type": "execute_result"
    }
   ],
   "source": [
    "df.dtypes"
   ]
  },
  {
   "cell_type": "code",
   "execution_count": 15,
   "id": "a3a023b6",
   "metadata": {
    "ExecuteTime": {
     "end_time": "2022-06-28T21:00:22.138682Z",
     "start_time": "2022-06-28T21:00:22.115465Z"
    }
   },
   "outputs": [
    {
     "name": "stdout",
     "output_type": "stream",
     "text": [
      "<class 'pandas.core.frame.DataFrame'>\n",
      "RangeIndex: 7613 entries, 0 to 7612\n",
      "Data columns (total 5 columns):\n",
      " #   Column    Non-Null Count  Dtype \n",
      "---  ------    --------------  ----- \n",
      " 0   id        7613 non-null   int64 \n",
      " 1   keyword   7552 non-null   object\n",
      " 2   location  5080 non-null   object\n",
      " 3   text      7613 non-null   object\n",
      " 4   target    7613 non-null   int64 \n",
      "dtypes: int64(2), object(3)\n",
      "memory usage: 297.5+ KB\n"
     ]
    }
   ],
   "source": [
    "df.info()"
   ]
  },
  {
   "cell_type": "code",
   "execution_count": 16,
   "id": "bc1d1712",
   "metadata": {
    "ExecuteTime": {
     "end_time": "2022-06-28T21:00:22.151779Z",
     "start_time": "2022-06-28T21:00:22.142469Z"
    }
   },
   "outputs": [
    {
     "data": {
      "text/plain": [
       "object    3\n",
       "int64     2\n",
       "dtype: int64"
      ]
     },
     "execution_count": 16,
     "metadata": {},
     "output_type": "execute_result"
    }
   ],
   "source": [
    "df.dtypes.value_counts()"
   ]
  },
  {
   "cell_type": "code",
   "execution_count": 17,
   "id": "28a7015c",
   "metadata": {
    "ExecuteTime": {
     "end_time": "2022-06-28T21:00:22.172968Z",
     "start_time": "2022-06-28T21:00:22.154892Z"
    }
   },
   "outputs": [
    {
     "data": {
      "text/plain": [
       "id          7613\n",
       "keyword      221\n",
       "location    3341\n",
       "text        7503\n",
       "target         2\n",
       "dtype: int64"
      ]
     },
     "execution_count": 17,
     "metadata": {},
     "output_type": "execute_result"
    }
   ],
   "source": [
    "df.nunique()"
   ]
  },
  {
   "cell_type": "code",
   "execution_count": 18,
   "id": "35021014",
   "metadata": {
    "ExecuteTime": {
     "end_time": "2022-06-28T21:00:22.196062Z",
     "start_time": "2022-06-28T21:00:22.176297Z"
    }
   },
   "outputs": [
    {
     "data": {
      "text/plain": [
       "id          7613\n",
       "keyword      221\n",
       "location    3341\n",
       "text        7503\n",
       "target         2\n",
       "dtype: int64"
      ]
     },
     "execution_count": 18,
     "metadata": {},
     "output_type": "execute_result"
    }
   ],
   "source": [
    "tmp = df.nunique()\n",
    "tmp"
   ]
  },
  {
   "cell_type": "code",
   "execution_count": 19,
   "id": "9af21b01",
   "metadata": {
    "ExecuteTime": {
     "end_time": "2022-06-28T21:00:22.210273Z",
     "start_time": "2022-06-28T21:00:22.199515Z"
    },
    "scrolled": true
   },
   "outputs": [
    {
     "data": {
      "text/plain": [
       "target    2\n",
       "dtype: int64"
      ]
     },
     "execution_count": 19,
     "metadata": {},
     "output_type": "execute_result"
    }
   ],
   "source": [
    "tmp[tmp < 10]"
   ]
  },
  {
   "cell_type": "code",
   "execution_count": 20,
   "id": "cd926206",
   "metadata": {
    "ExecuteTime": {
     "end_time": "2022-06-28T21:00:22.225255Z",
     "start_time": "2022-06-28T21:00:22.213960Z"
    }
   },
   "outputs": [
    {
     "data": {
      "text/plain": [
       "id          7613\n",
       "location    3341\n",
       "text        7503\n",
       "dtype: int64"
      ]
     },
     "execution_count": 20,
     "metadata": {},
     "output_type": "execute_result"
    }
   ],
   "source": [
    "tmp[tmp > 1000]"
   ]
  },
  {
   "cell_type": "markdown",
   "id": "f40250be",
   "metadata": {},
   "source": [
    "## 2.3 NaN and duplicated"
   ]
  },
  {
   "cell_type": "code",
   "execution_count": 21,
   "id": "9ed10407",
   "metadata": {
    "ExecuteTime": {
     "end_time": "2022-06-28T21:00:22.249161Z",
     "start_time": "2022-06-28T21:00:22.229517Z"
    }
   },
   "outputs": [
    {
     "data": {
      "text/plain": [
       "id             0\n",
       "keyword       61\n",
       "location    2533\n",
       "text           0\n",
       "target         0\n",
       "dtype: int64"
      ]
     },
     "execution_count": 21,
     "metadata": {},
     "output_type": "execute_result"
    }
   ],
   "source": [
    "df.isna().sum()"
   ]
  },
  {
   "cell_type": "code",
   "execution_count": 22,
   "id": "b008ab45",
   "metadata": {
    "ExecuteTime": {
     "end_time": "2022-06-28T21:00:22.272631Z",
     "start_time": "2022-06-28T21:00:22.255487Z"
    }
   },
   "outputs": [
    {
     "data": {
      "text/plain": [
       "id          0.000000\n",
       "keyword     0.008013\n",
       "location    0.332720\n",
       "text        0.000000\n",
       "target      0.000000\n",
       "dtype: float64"
      ]
     },
     "execution_count": 22,
     "metadata": {},
     "output_type": "execute_result"
    }
   ],
   "source": [
    "df.isna().mean()"
   ]
  },
  {
   "cell_type": "code",
   "execution_count": 23,
   "id": "2f56c52c",
   "metadata": {
    "ExecuteTime": {
     "end_time": "2022-06-28T21:00:22.299367Z",
     "start_time": "2022-06-28T21:00:22.276792Z"
    }
   },
   "outputs": [
    {
     "data": {
      "text/plain": [
       "id          0.000000\n",
       "text        0.000000\n",
       "target      0.000000\n",
       "keyword     0.008013\n",
       "location    0.332720\n",
       "dtype: float64"
      ]
     },
     "execution_count": 23,
     "metadata": {},
     "output_type": "execute_result"
    }
   ],
   "source": [
    "df.isna().mean().sort_values()"
   ]
  },
  {
   "cell_type": "code",
   "execution_count": 24,
   "id": "6d4d1085",
   "metadata": {
    "ExecuteTime": {
     "end_time": "2022-06-28T21:00:22.889158Z",
     "start_time": "2022-06-28T21:00:22.303926Z"
    }
   },
   "outputs": [
    {
     "data": {
      "text/plain": [
       "<AxesSubplot:>"
      ]
     },
     "execution_count": 24,
     "metadata": {},
     "output_type": "execute_result"
    },
    {
     "data": {
      "image/png": "[encoded data removed]",
      "text/plain": [
       "<Figure size 432x288 with 2 Axes>"
      ]
     },
     "metadata": {
      "needs_background": "light"
     },
     "output_type": "display_data"
    }
   ],
   "source": [
    "sns.heatmap(df.isna())"
   ]
  },
  {
   "cell_type": "code",
   "execution_count": 25,
   "id": "64a147c1",
   "metadata": {
    "ExecuteTime": {
     "end_time": "2022-06-28T21:00:23.519728Z",
     "start_time": "2022-06-28T21:00:22.892952Z"
    }
   },
   "outputs": [
    {
     "data": {
      "text/plain": [
       "<AxesSubplot:>"
      ]
     },
     "execution_count": 25,
     "metadata": {},
     "output_type": "execute_result"
    },
    {
     "data": {
      "image/png": "[encoded data removed]",
      "text/plain": [
       "<Figure size 1440x432 with 2 Axes>"
      ]
     },
     "metadata": {
      "needs_background": "light"
     },
     "output_type": "display_data"
    }
   ],
   "source": [
    "fig, ax = plt.subplots(1,1, figsize=(20, 6))\n",
    "sns.heatmap(df.isna())"
   ]
  },
  {
   "cell_type": "code",
   "execution_count": 26,
   "id": "659bb21b",
   "metadata": {
    "ExecuteTime": {
     "end_time": "2022-06-28T21:00:23.539124Z",
     "start_time": "2022-06-28T21:00:23.522616Z"
    }
   },
   "outputs": [
    {
     "data": {
      "text/plain": [
       "0"
      ]
     },
     "execution_count": 26,
     "metadata": {},
     "output_type": "execute_result"
    }
   ],
   "source": [
    "df.duplicated().sum()"
   ]
  },
  {
   "cell_type": "code",
   "execution_count": 27,
   "id": "881b97af",
   "metadata": {
    "ExecuteTime": {
     "end_time": "2022-06-28T21:00:23.555288Z",
     "start_time": "2022-06-28T21:00:23.542646Z"
    }
   },
   "outputs": [
    {
     "data": {
      "text/plain": [
       "110"
      ]
     },
     "execution_count": 27,
     "metadata": {},
     "output_type": "execute_result"
    }
   ],
   "source": [
    "df.duplicated(subset=\"text\").sum()"
   ]
  },
  {
   "cell_type": "code",
   "execution_count": 28,
   "id": "04452293",
   "metadata": {
    "ExecuteTime": {
     "end_time": "2022-06-28T21:00:23.582359Z",
     "start_time": "2022-06-28T21:00:23.559000Z"
    }
   },
   "outputs": [
    {
     "name": "stdout",
     "output_type": "stream",
     "text": [
      "col : id -> duplicated : 0\n",
      "col : keyword -> duplicated : 7391\n",
      "col : location -> duplicated : 4271\n",
      "col : text -> duplicated : 110\n",
      "col : target -> duplicated : 7611\n"
     ]
    }
   ],
   "source": [
    "for col in df.columns : \n",
    "    n = df.duplicated(subset=col).sum()\n",
    "    print(f\"col : {col} -> duplicated : {n}\")"
   ]
  },
  {
   "cell_type": "code",
   "execution_count": 30,
   "id": "8c665fca",
   "metadata": {
    "ExecuteTime": {
     "end_time": "2022-06-28T21:00:23.599920Z",
     "start_time": "2022-06-28T21:00:23.586428Z"
    }
   },
   "outputs": [
    {
     "data": {
      "text/plain": [
       "0       False\n",
       "1       False\n",
       "2       False\n",
       "3       False\n",
       "4       False\n",
       "        ...  \n",
       "7608    False\n",
       "7609     True\n",
       "7610     True\n",
       "7611     True\n",
       "7612    False\n",
       "Length: 7613, dtype: bool"
      ]
     },
     "execution_count": 30,
     "metadata": {},
     "output_type": "execute_result"
    }
   ],
   "source": [
    "df.duplicated(subset=\"text\",keep=\"first\")"
   ]
  },
  {
   "cell_type": "code",
   "execution_count": 31,
   "id": "5f112f72",
   "metadata": {
    "ExecuteTime": {
     "end_time": "2022-06-28T21:00:23.631133Z",
     "start_time": "2022-06-28T21:00:23.603227Z"
    }
   },
   "outputs": [
    {
     "data": {
      "text/html": [
       "<div>\n",
       "<style scoped>\n",
       "    .dataframe tbody tr th:only-of-type {\n",
       "        vertical-align: middle;\n",
       "    }\n",
       "\n",
       "    .dataframe tbody tr th {\n",
       "        vertical-align: top;\n",
       "    }\n",
       "\n",
       "    .dataframe thead th {\n",
       "        text-align: right;\n",
       "    }\n",
       "</style>\n",
       "<table border=\"1\" class=\"dataframe\">\n",
       "  <thead>\n",
       "    <tr style=\"text-align: right;\">\n",
       "      <th></th>\n",
       "      <th>id</th>\n",
       "      <th>keyword</th>\n",
       "      <th>location</th>\n",
       "      <th>text</th>\n",
       "      <th>target</th>\n",
       "    </tr>\n",
       "  </thead>\n",
       "  <tbody>\n",
       "    <tr>\n",
       "      <th>4299</th>\n",
       "      <td>6105</td>\n",
       "      <td>hellfire</td>\n",
       "      <td>?????? ??? ?????? ????????</td>\n",
       "      <td>#Allah describes piling up #wealth thinking it...</td>\n",
       "      <td>0</td>\n",
       "    </tr>\n",
       "    <tr>\n",
       "      <th>4312</th>\n",
       "      <td>6123</td>\n",
       "      <td>hellfire</td>\n",
       "      <td>?????? ???? ??????</td>\n",
       "      <td>#Allah describes piling up #wealth thinking it...</td>\n",
       "      <td>1</td>\n",
       "    </tr>\n",
       "    <tr>\n",
       "      <th>6366</th>\n",
       "      <td>9098</td>\n",
       "      <td>suicide%20bomb</td>\n",
       "      <td>Nigeria</td>\n",
       "      <td>#Bestnaijamade: 16yr old PKK suicide bomber wh...</td>\n",
       "      <td>1</td>\n",
       "    </tr>\n",
       "    <tr>\n",
       "      <th>6373</th>\n",
       "      <td>9107</td>\n",
       "      <td>suicide%20bomb</td>\n",
       "      <td>Nigeria</td>\n",
       "      <td>#Bestnaijamade: 16yr old PKK suicide bomber wh...</td>\n",
       "      <td>1</td>\n",
       "    </tr>\n",
       "    <tr>\n",
       "      <th>6392</th>\n",
       "      <td>9135</td>\n",
       "      <td>suicide%20bomb</td>\n",
       "      <td>Nigeria</td>\n",
       "      <td>#Bestnaijamade: 16yr old PKK suicide bomber wh...</td>\n",
       "      <td>1</td>\n",
       "    </tr>\n",
       "    <tr>\n",
       "      <th>...</th>\n",
       "      <td>...</td>\n",
       "      <td>...</td>\n",
       "      <td>...</td>\n",
       "      <td>...</td>\n",
       "      <td>...</td>\n",
       "    </tr>\n",
       "    <tr>\n",
       "      <th>3461</th>\n",
       "      <td>4952</td>\n",
       "      <td>exploded</td>\n",
       "      <td>NaN</td>\n",
       "      <td>that exploded &amp;amp; brought about the\\nbeginni...</td>\n",
       "      <td>0</td>\n",
       "    </tr>\n",
       "    <tr>\n",
       "      <th>6103</th>\n",
       "      <td>8714</td>\n",
       "      <td>sinking</td>\n",
       "      <td>NaN</td>\n",
       "      <td>that horrible sinking feeling when youÛªve be...</td>\n",
       "      <td>0</td>\n",
       "    </tr>\n",
       "    <tr>\n",
       "      <th>6094</th>\n",
       "      <td>8702</td>\n",
       "      <td>sinking</td>\n",
       "      <td>NaN</td>\n",
       "      <td>that horrible sinking feeling when youÛªve be...</td>\n",
       "      <td>0</td>\n",
       "    </tr>\n",
       "    <tr>\n",
       "      <th>6123</th>\n",
       "      <td>8739</td>\n",
       "      <td>sinking</td>\n",
       "      <td>MA</td>\n",
       "      <td>that horrible sinking feeling when youÛªve be...</td>\n",
       "      <td>1</td>\n",
       "    </tr>\n",
       "    <tr>\n",
       "      <th>5641</th>\n",
       "      <td>8044</td>\n",
       "      <td>refugees</td>\n",
       "      <td>NaN</td>\n",
       "      <td>wowo--=== 12000 Nigerian refugees repatriated ...</td>\n",
       "      <td>0</td>\n",
       "    </tr>\n",
       "  </tbody>\n",
       "</table>\n",
       "<p>110 rows × 5 columns</p>\n",
       "</div>"
      ],
      "text/plain": [
       "        id         keyword                    location  \\\n",
       "4299  6105        hellfire  ?????? ??? ?????? ????????   \n",
       "4312  6123        hellfire          ?????? ???? ??????   \n",
       "6366  9098  suicide%20bomb                     Nigeria   \n",
       "6373  9107  suicide%20bomb                     Nigeria   \n",
       "6392  9135  suicide%20bomb                     Nigeria   \n",
       "...    ...             ...                         ...   \n",
       "3461  4952        exploded                         NaN   \n",
       "6103  8714         sinking                         NaN   \n",
       "6094  8702         sinking                         NaN   \n",
       "6123  8739         sinking                          MA   \n",
       "5641  8044        refugees                         NaN   \n",
       "\n",
       "                                                   text  target  \n",
       "4299  #Allah describes piling up #wealth thinking it...       0  \n",
       "4312  #Allah describes piling up #wealth thinking it...       1  \n",
       "6366  #Bestnaijamade: 16yr old PKK suicide bomber wh...       1  \n",
       "6373  #Bestnaijamade: 16yr old PKK suicide bomber wh...       1  \n",
       "6392  #Bestnaijamade: 16yr old PKK suicide bomber wh...       1  \n",
       "...                                                 ...     ...  \n",
       "3461  that exploded &amp; brought about the\\nbeginni...       0  \n",
       "6103  that horrible sinking feeling when youÛªve be...       0  \n",
       "6094  that horrible sinking feeling when youÛªve be...       0  \n",
       "6123  that horrible sinking feeling when youÛªve be...       1  \n",
       "5641  wowo--=== 12000 Nigerian refugees repatriated ...       0  \n",
       "\n",
       "[110 rows x 5 columns]"
      ]
     },
     "execution_count": 31,
     "metadata": {},
     "output_type": "execute_result"
    }
   ],
   "source": [
    "idx = df.duplicated(subset=\"text\", keep=\"first\")\n",
    "df.loc[idx, : ].sort_values(\"text\")"
   ]
  },
  {
   "cell_type": "markdown",
   "id": "4df14697",
   "metadata": {},
   "source": [
    "## 2.4 Data inspection"
   ]
  },
  {
   "cell_type": "code",
   "execution_count": 32,
   "id": "ffdb895f",
   "metadata": {
    "ExecuteTime": {
     "end_time": "2022-06-28T21:00:23.750516Z",
     "start_time": "2022-06-28T21:00:23.644590Z"
    }
   },
   "outputs": [
    {
     "data": {
      "text/html": [
       "<div>\n",
       "<style scoped>\n",
       "    .dataframe tbody tr th:only-of-type {\n",
       "        vertical-align: middle;\n",
       "    }\n",
       "\n",
       "    .dataframe tbody tr th {\n",
       "        vertical-align: top;\n",
       "    }\n",
       "\n",
       "    .dataframe thead th {\n",
       "        text-align: right;\n",
       "    }\n",
       "</style>\n",
       "<table border=\"1\" class=\"dataframe\">\n",
       "  <thead>\n",
       "    <tr style=\"text-align: right;\">\n",
       "      <th></th>\n",
       "      <th>id</th>\n",
       "      <th>target</th>\n",
       "    </tr>\n",
       "  </thead>\n",
       "  <tbody>\n",
       "    <tr>\n",
       "      <th>count</th>\n",
       "      <td>7613.000000</td>\n",
       "      <td>7613.00000</td>\n",
       "    </tr>\n",
       "    <tr>\n",
       "      <th>mean</th>\n",
       "      <td>5441.934848</td>\n",
       "      <td>0.42966</td>\n",
       "    </tr>\n",
       "    <tr>\n",
       "      <th>std</th>\n",
       "      <td>3137.116090</td>\n",
       "      <td>0.49506</td>\n",
       "    </tr>\n",
       "    <tr>\n",
       "      <th>min</th>\n",
       "      <td>1.000000</td>\n",
       "      <td>0.00000</td>\n",
       "    </tr>\n",
       "    <tr>\n",
       "      <th>25%</th>\n",
       "      <td>2734.000000</td>\n",
       "      <td>0.00000</td>\n",
       "    </tr>\n",
       "    <tr>\n",
       "      <th>50%</th>\n",
       "      <td>5408.000000</td>\n",
       "      <td>0.00000</td>\n",
       "    </tr>\n",
       "    <tr>\n",
       "      <th>75%</th>\n",
       "      <td>8146.000000</td>\n",
       "      <td>1.00000</td>\n",
       "    </tr>\n",
       "    <tr>\n",
       "      <th>max</th>\n",
       "      <td>10873.000000</td>\n",
       "      <td>1.00000</td>\n",
       "    </tr>\n",
       "  </tbody>\n",
       "</table>\n",
       "</div>"
      ],
      "text/plain": [
       "                 id      target\n",
       "count   7613.000000  7613.00000\n",
       "mean    5441.934848     0.42966\n",
       "std     3137.116090     0.49506\n",
       "min        1.000000     0.00000\n",
       "25%     2734.000000     0.00000\n",
       "50%     5408.000000     0.00000\n",
       "75%     8146.000000     1.00000\n",
       "max    10873.000000     1.00000"
      ]
     },
     "execution_count": 32,
     "metadata": {},
     "output_type": "execute_result"
    }
   ],
   "source": [
    "df.describe(include=np.number)"
   ]
  },
  {
   "cell_type": "code",
   "execution_count": 33,
   "id": "a1df516e",
   "metadata": {
    "ExecuteTime": {
     "end_time": "2022-06-28T21:00:23.793432Z",
     "start_time": "2022-06-28T21:00:23.754788Z"
    }
   },
   "outputs": [
    {
     "data": {
      "text/html": [
       "<div>\n",
       "<style scoped>\n",
       "    .dataframe tbody tr th:only-of-type {\n",
       "        vertical-align: middle;\n",
       "    }\n",
       "\n",
       "    .dataframe tbody tr th {\n",
       "        vertical-align: top;\n",
       "    }\n",
       "\n",
       "    .dataframe thead th {\n",
       "        text-align: right;\n",
       "    }\n",
       "</style>\n",
       "<table border=\"1\" class=\"dataframe\">\n",
       "  <thead>\n",
       "    <tr style=\"text-align: right;\">\n",
       "      <th></th>\n",
       "      <th>keyword</th>\n",
       "      <th>location</th>\n",
       "      <th>text</th>\n",
       "    </tr>\n",
       "  </thead>\n",
       "  <tbody>\n",
       "    <tr>\n",
       "      <th>count</th>\n",
       "      <td>7552</td>\n",
       "      <td>5080</td>\n",
       "      <td>7613</td>\n",
       "    </tr>\n",
       "    <tr>\n",
       "      <th>unique</th>\n",
       "      <td>221</td>\n",
       "      <td>3341</td>\n",
       "      <td>7503</td>\n",
       "    </tr>\n",
       "    <tr>\n",
       "      <th>top</th>\n",
       "      <td>fatalities</td>\n",
       "      <td>USA</td>\n",
       "      <td>11-Year-Old Boy Charged With Manslaughter of T...</td>\n",
       "    </tr>\n",
       "    <tr>\n",
       "      <th>freq</th>\n",
       "      <td>45</td>\n",
       "      <td>104</td>\n",
       "      <td>10</td>\n",
       "    </tr>\n",
       "  </tbody>\n",
       "</table>\n",
       "</div>"
      ],
      "text/plain": [
       "           keyword location                                               text\n",
       "count         7552     5080                                               7613\n",
       "unique         221     3341                                               7503\n",
       "top     fatalities      USA  11-Year-Old Boy Charged With Manslaughter of T...\n",
       "freq            45      104                                                 10"
      ]
     },
     "execution_count": 33,
     "metadata": {},
     "output_type": "execute_result"
    }
   ],
   "source": [
    "df.describe(include=object)"
   ]
  },
  {
   "cell_type": "markdown",
   "id": "d0b6603d",
   "metadata": {},
   "source": [
    "# 3. Cleaning"
   ]
  },
  {
   "cell_type": "markdown",
   "id": "e4765261",
   "metadata": {},
   "source": [
    "## 3.1 Select columns"
   ]
  },
  {
   "cell_type": "code",
   "execution_count": 34,
   "id": "cdcc862c",
   "metadata": {
    "ExecuteTime": {
     "end_time": "2022-06-28T21:00:23.806298Z",
     "start_time": "2022-06-28T21:00:23.796519Z"
    }
   },
   "outputs": [
    {
     "data": {
      "text/plain": [
       "id           int64\n",
       "keyword     object\n",
       "location    object\n",
       "text        object\n",
       "target       int64\n",
       "dtype: object"
      ]
     },
     "execution_count": 34,
     "metadata": {},
     "output_type": "execute_result"
    }
   ],
   "source": [
    "tmp = df.dtypes\n",
    "tmp"
   ]
  },
  {
   "cell_type": "code",
   "execution_count": 35,
   "id": "465426f2",
   "metadata": {
    "ExecuteTime": {
     "end_time": "2022-06-28T21:00:23.823605Z",
     "start_time": "2022-06-28T21:00:23.809331Z"
    }
   },
   "outputs": [
    {
     "data": {
      "text/html": [
       "<div>\n",
       "<style scoped>\n",
       "    .dataframe tbody tr th:only-of-type {\n",
       "        vertical-align: middle;\n",
       "    }\n",
       "\n",
       "    .dataframe tbody tr th {\n",
       "        vertical-align: top;\n",
       "    }\n",
       "\n",
       "    .dataframe thead th {\n",
       "        text-align: right;\n",
       "    }\n",
       "</style>\n",
       "<table border=\"1\" class=\"dataframe\">\n",
       "  <thead>\n",
       "    <tr style=\"text-align: right;\">\n",
       "      <th></th>\n",
       "      <th>text</th>\n",
       "      <th>target</th>\n",
       "    </tr>\n",
       "  </thead>\n",
       "  <tbody>\n",
       "    <tr>\n",
       "      <th>0</th>\n",
       "      <td>Our Deeds are the Reason of this #earthquake M...</td>\n",
       "      <td>1</td>\n",
       "    </tr>\n",
       "    <tr>\n",
       "      <th>1</th>\n",
       "      <td>Forest fire near La Ronge Sask. Canada</td>\n",
       "      <td>1</td>\n",
       "    </tr>\n",
       "    <tr>\n",
       "      <th>2</th>\n",
       "      <td>All residents asked to 'shelter in place' are ...</td>\n",
       "      <td>1</td>\n",
       "    </tr>\n",
       "    <tr>\n",
       "      <th>3</th>\n",
       "      <td>13,000 people receive #wildfires evacuation or...</td>\n",
       "      <td>1</td>\n",
       "    </tr>\n",
       "    <tr>\n",
       "      <th>4</th>\n",
       "      <td>Just got sent this photo from Ruby #Alaska as ...</td>\n",
       "      <td>1</td>\n",
       "    </tr>\n",
       "  </tbody>\n",
       "</table>\n",
       "</div>"
      ],
      "text/plain": [
       "                                                text  target\n",
       "0  Our Deeds are the Reason of this #earthquake M...       1\n",
       "1             Forest fire near La Ronge Sask. Canada       1\n",
       "2  All residents asked to 'shelter in place' are ...       1\n",
       "3  13,000 people receive #wildfires evacuation or...       1\n",
       "4  Just got sent this photo from Ruby #Alaska as ...       1"
      ]
     },
     "execution_count": 35,
     "metadata": {},
     "output_type": "execute_result"
    }
   ],
   "source": [
    "cols = [\"text\", \"target\"]\n",
    "df = df[cols]\n",
    "df.head()"
   ]
  },
  {
   "cell_type": "markdown",
   "id": "d49f16be",
   "metadata": {},
   "source": [
    "## 3.2 Drop NaN"
   ]
  },
  {
   "cell_type": "code",
   "execution_count": 36,
   "id": "00621591",
   "metadata": {
    "ExecuteTime": {
     "end_time": "2022-06-28T21:00:23.843487Z",
     "start_time": "2022-06-28T21:00:23.829984Z"
    },
    "scrolled": true
   },
   "outputs": [
    {
     "data": {
      "text/plain": [
       "text      0.0\n",
       "target    0.0\n",
       "dtype: float64"
      ]
     },
     "execution_count": 36,
     "metadata": {},
     "output_type": "execute_result"
    }
   ],
   "source": [
    "df.isna().mean()"
   ]
  },
  {
   "cell_type": "markdown",
   "id": "2110e720",
   "metadata": {},
   "source": [
    "## 3.3 Duplicated"
   ]
  },
  {
   "cell_type": "code",
   "execution_count": 37,
   "id": "26d389cd",
   "metadata": {
    "ExecuteTime": {
     "end_time": "2022-06-28T21:00:23.854417Z",
     "start_time": "2022-06-28T21:00:23.847266Z"
    }
   },
   "outputs": [
    {
     "data": {
      "text/plain": [
       "(7613, 2)"
      ]
     },
     "execution_count": 37,
     "metadata": {},
     "output_type": "execute_result"
    }
   ],
   "source": [
    "df.shape"
   ]
  },
  {
   "cell_type": "code",
   "execution_count": 38,
   "id": "39753fca",
   "metadata": {
    "ExecuteTime": {
     "end_time": "2022-06-28T21:00:23.881474Z",
     "start_time": "2022-06-28T21:00:23.857530Z"
    }
   },
   "outputs": [
    {
     "data": {
      "text/html": [
       "<div>\n",
       "<style scoped>\n",
       "    .dataframe tbody tr th:only-of-type {\n",
       "        vertical-align: middle;\n",
       "    }\n",
       "\n",
       "    .dataframe tbody tr th {\n",
       "        vertical-align: top;\n",
       "    }\n",
       "\n",
       "    .dataframe thead th {\n",
       "        text-align: right;\n",
       "    }\n",
       "</style>\n",
       "<table border=\"1\" class=\"dataframe\">\n",
       "  <thead>\n",
       "    <tr style=\"text-align: right;\">\n",
       "      <th></th>\n",
       "      <th>text</th>\n",
       "      <th>target</th>\n",
       "    </tr>\n",
       "  </thead>\n",
       "  <tbody>\n",
       "    <tr>\n",
       "      <th>4299</th>\n",
       "      <td>#Allah describes piling up #wealth thinking it...</td>\n",
       "      <td>0</td>\n",
       "    </tr>\n",
       "    <tr>\n",
       "      <th>4312</th>\n",
       "      <td>#Allah describes piling up #wealth thinking it...</td>\n",
       "      <td>1</td>\n",
       "    </tr>\n",
       "    <tr>\n",
       "      <th>6366</th>\n",
       "      <td>#Bestnaijamade: 16yr old PKK suicide bomber wh...</td>\n",
       "      <td>1</td>\n",
       "    </tr>\n",
       "    <tr>\n",
       "      <th>6373</th>\n",
       "      <td>#Bestnaijamade: 16yr old PKK suicide bomber wh...</td>\n",
       "      <td>1</td>\n",
       "    </tr>\n",
       "    <tr>\n",
       "      <th>6392</th>\n",
       "      <td>#Bestnaijamade: 16yr old PKK suicide bomber wh...</td>\n",
       "      <td>1</td>\n",
       "    </tr>\n",
       "    <tr>\n",
       "      <th>...</th>\n",
       "      <td>...</td>\n",
       "      <td>...</td>\n",
       "    </tr>\n",
       "    <tr>\n",
       "      <th>3461</th>\n",
       "      <td>that exploded &amp;amp; brought about the\\nbeginni...</td>\n",
       "      <td>0</td>\n",
       "    </tr>\n",
       "    <tr>\n",
       "      <th>6103</th>\n",
       "      <td>that horrible sinking feeling when youÛªve be...</td>\n",
       "      <td>0</td>\n",
       "    </tr>\n",
       "    <tr>\n",
       "      <th>6094</th>\n",
       "      <td>that horrible sinking feeling when youÛªve be...</td>\n",
       "      <td>0</td>\n",
       "    </tr>\n",
       "    <tr>\n",
       "      <th>6123</th>\n",
       "      <td>that horrible sinking feeling when youÛªve be...</td>\n",
       "      <td>1</td>\n",
       "    </tr>\n",
       "    <tr>\n",
       "      <th>5641</th>\n",
       "      <td>wowo--=== 12000 Nigerian refugees repatriated ...</td>\n",
       "      <td>0</td>\n",
       "    </tr>\n",
       "  </tbody>\n",
       "</table>\n",
       "<p>110 rows × 2 columns</p>\n",
       "</div>"
      ],
      "text/plain": [
       "                                                   text  target\n",
       "4299  #Allah describes piling up #wealth thinking it...       0\n",
       "4312  #Allah describes piling up #wealth thinking it...       1\n",
       "6366  #Bestnaijamade: 16yr old PKK suicide bomber wh...       1\n",
       "6373  #Bestnaijamade: 16yr old PKK suicide bomber wh...       1\n",
       "6392  #Bestnaijamade: 16yr old PKK suicide bomber wh...       1\n",
       "...                                                 ...     ...\n",
       "3461  that exploded &amp; brought about the\\nbeginni...       0\n",
       "6103  that horrible sinking feeling when youÛªve be...       0\n",
       "6094  that horrible sinking feeling when youÛªve be...       0\n",
       "6123  that horrible sinking feeling when youÛªve be...       1\n",
       "5641  wowo--=== 12000 Nigerian refugees repatriated ...       0\n",
       "\n",
       "[110 rows x 2 columns]"
      ]
     },
     "execution_count": 38,
     "metadata": {},
     "output_type": "execute_result"
    }
   ],
   "source": [
    "idx = df.duplicated(subset=\"text\",keep=\"first\")\n",
    "df.loc[idx, : ].sort_values(\"text\")"
   ]
  },
  {
   "cell_type": "code",
   "execution_count": 39,
   "id": "1cb3d71d",
   "metadata": {
    "ExecuteTime": {
     "end_time": "2022-06-28T21:00:23.899515Z",
     "start_time": "2022-06-28T21:00:23.886613Z"
    }
   },
   "outputs": [],
   "source": [
    "df.drop_duplicates(subset=\"text\", inplace=True)"
   ]
  },
  {
   "cell_type": "markdown",
   "id": "c7b6463a",
   "metadata": {},
   "source": [
    "# 4. Exploratory Data Analysis"
   ]
  },
  {
   "cell_type": "markdown",
   "id": "24de4f64",
   "metadata": {},
   "source": [
    "## 4.1 Target"
   ]
  },
  {
   "cell_type": "code",
   "execution_count": 40,
   "id": "ddea2811",
   "metadata": {
    "ExecuteTime": {
     "end_time": "2022-06-28T21:00:23.923730Z",
     "start_time": "2022-06-28T21:00:23.904457Z"
    },
    "scrolled": true
   },
   "outputs": [
    {
     "data": {
      "text/html": [
       "<div>\n",
       "<style scoped>\n",
       "    .dataframe tbody tr th:only-of-type {\n",
       "        vertical-align: middle;\n",
       "    }\n",
       "\n",
       "    .dataframe tbody tr th {\n",
       "        vertical-align: top;\n",
       "    }\n",
       "\n",
       "    .dataframe thead th {\n",
       "        text-align: right;\n",
       "    }\n",
       "</style>\n",
       "<table border=\"1\" class=\"dataframe\">\n",
       "  <thead>\n",
       "    <tr style=\"text-align: right;\">\n",
       "      <th></th>\n",
       "      <th>target</th>\n",
       "    </tr>\n",
       "  </thead>\n",
       "  <tbody>\n",
       "    <tr>\n",
       "      <th>count</th>\n",
       "      <td>7503.000000</td>\n",
       "    </tr>\n",
       "    <tr>\n",
       "      <th>mean</th>\n",
       "      <td>0.426230</td>\n",
       "    </tr>\n",
       "    <tr>\n",
       "      <th>std</th>\n",
       "      <td>0.494561</td>\n",
       "    </tr>\n",
       "    <tr>\n",
       "      <th>min</th>\n",
       "      <td>0.000000</td>\n",
       "    </tr>\n",
       "    <tr>\n",
       "      <th>25%</th>\n",
       "      <td>0.000000</td>\n",
       "    </tr>\n",
       "    <tr>\n",
       "      <th>50%</th>\n",
       "      <td>0.000000</td>\n",
       "    </tr>\n",
       "    <tr>\n",
       "      <th>75%</th>\n",
       "      <td>1.000000</td>\n",
       "    </tr>\n",
       "    <tr>\n",
       "      <th>max</th>\n",
       "      <td>1.000000</td>\n",
       "    </tr>\n",
       "  </tbody>\n",
       "</table>\n",
       "</div>"
      ],
      "text/plain": [
       "            target\n",
       "count  7503.000000\n",
       "mean      0.426230\n",
       "std       0.494561\n",
       "min       0.000000\n",
       "25%       0.000000\n",
       "50%       0.000000\n",
       "75%       1.000000\n",
       "max       1.000000"
      ]
     },
     "execution_count": 40,
     "metadata": {},
     "output_type": "execute_result"
    }
   ],
   "source": [
    "df.describe()"
   ]
  },
  {
   "cell_type": "code",
   "execution_count": 41,
   "id": "99792cb0",
   "metadata": {
    "ExecuteTime": {
     "end_time": "2022-06-28T21:00:23.939068Z",
     "start_time": "2022-06-28T21:00:23.927477Z"
    }
   },
   "outputs": [
    {
     "data": {
      "text/plain": [
       "0    4305\n",
       "1    3198\n",
       "Name: target, dtype: int64"
      ]
     },
     "execution_count": 41,
     "metadata": {},
     "output_type": "execute_result"
    }
   ],
   "source": [
    "df.target.value_counts()"
   ]
  },
  {
   "cell_type": "code",
   "execution_count": 42,
   "id": "35c08ea5",
   "metadata": {
    "ExecuteTime": {
     "end_time": "2022-06-28T21:00:23.956172Z",
     "start_time": "2022-06-28T21:00:23.944081Z"
    }
   },
   "outputs": [
    {
     "data": {
      "text/plain": [
       "0    0.57377\n",
       "1    0.42623\n",
       "Name: target, dtype: float64"
      ]
     },
     "execution_count": 42,
     "metadata": {},
     "output_type": "execute_result"
    }
   ],
   "source": [
    "df.target.value_counts(normalize=True)"
   ]
  },
  {
   "cell_type": "code",
   "execution_count": 43,
   "id": "9c9299d7",
   "metadata": {
    "ExecuteTime": {
     "end_time": "2022-06-28T21:00:24.119983Z",
     "start_time": "2022-06-28T21:00:23.960476Z"
    }
   },
   "outputs": [
    {
     "data": {
      "text/plain": [
       "<AxesSubplot:ylabel='target'>"
      ]
     },
     "execution_count": 43,
     "metadata": {},
     "output_type": "execute_result"
    },
    {
     "data": {
      "image/png": "[encoded data removed]",
      "text/plain": [
       "<Figure size 432x288 with 1 Axes>"
      ]
     },
     "metadata": {},
     "output_type": "display_data"
    }
   ],
   "source": [
    "df.target.value_counts().plot(kind=\"pie\")"
   ]
  },
  {
   "cell_type": "markdown",
   "id": "2a7a522e",
   "metadata": {},
   "source": [
    "## 4.2 Length"
   ]
  },
  {
   "cell_type": "code",
   "execution_count": 44,
   "id": "3d01be48",
   "metadata": {
    "ExecuteTime": {
     "end_time": "2022-06-28T21:00:24.155831Z",
     "start_time": "2022-06-28T21:00:24.123853Z"
    },
    "scrolled": false
   },
   "outputs": [
    {
     "data": {
      "text/html": [
       "<div>\n",
       "<style scoped>\n",
       "    .dataframe tbody tr th:only-of-type {\n",
       "        vertical-align: middle;\n",
       "    }\n",
       "\n",
       "    .dataframe tbody tr th {\n",
       "        vertical-align: top;\n",
       "    }\n",
       "\n",
       "    .dataframe thead th {\n",
       "        text-align: right;\n",
       "    }\n",
       "</style>\n",
       "<table border=\"1\" class=\"dataframe\">\n",
       "  <thead>\n",
       "    <tr style=\"text-align: right;\">\n",
       "      <th></th>\n",
       "      <th>text</th>\n",
       "    </tr>\n",
       "  </thead>\n",
       "  <tbody>\n",
       "    <tr>\n",
       "      <th>count</th>\n",
       "      <td>7503</td>\n",
       "    </tr>\n",
       "    <tr>\n",
       "      <th>unique</th>\n",
       "      <td>7503</td>\n",
       "    </tr>\n",
       "    <tr>\n",
       "      <th>top</th>\n",
       "      <td>Our Deeds are the Reason of this #earthquake M...</td>\n",
       "    </tr>\n",
       "    <tr>\n",
       "      <th>freq</th>\n",
       "      <td>1</td>\n",
       "    </tr>\n",
       "  </tbody>\n",
       "</table>\n",
       "</div>"
      ],
      "text/plain": [
       "                                                     text\n",
       "count                                                7503\n",
       "unique                                               7503\n",
       "top     Our Deeds are the Reason of this #earthquake M...\n",
       "freq                                                    1"
      ]
     },
     "execution_count": 44,
     "metadata": {},
     "output_type": "execute_result"
    }
   ],
   "source": [
    "df.describe(include=\"object\")"
   ]
  },
  {
   "cell_type": "code",
   "execution_count": 45,
   "id": "6368ea52",
   "metadata": {
    "ExecuteTime": {
     "end_time": "2022-06-28T21:00:24.179501Z",
     "start_time": "2022-06-28T21:00:24.160902Z"
    }
   },
   "outputs": [
    {
     "data": {
      "text/plain": [
       "0        69\n",
       "1        38\n",
       "2       133\n",
       "3        65\n",
       "4        88\n",
       "       ... \n",
       "7604    136\n",
       "7605    114\n",
       "7606    121\n",
       "7608     83\n",
       "7612     94\n",
       "Name: text, Length: 7503, dtype: int64"
      ]
     },
     "execution_count": 45,
     "metadata": {},
     "output_type": "execute_result"
    }
   ],
   "source": [
    "df.text.apply(lambda i : len(i))"
   ]
  },
  {
   "cell_type": "code",
   "execution_count": 46,
   "id": "df546bff",
   "metadata": {
    "ExecuteTime": {
     "end_time": "2022-06-28T21:00:24.543461Z",
     "start_time": "2022-06-28T21:00:24.183994Z"
    }
   },
   "outputs": [
    {
     "name": "stderr",
     "output_type": "stream",
     "text": [
      "/Users/alexandre.gazagnes/Desktop/cours/fr/analysez-des-donnes-textuelles/partie-1/tp/env/lib/python3.10/site-packages/seaborn/_decorators.py:36: FutureWarning: Pass the following variable as a keyword arg: x. From version 0.12, the only valid positional argument will be `data`, and passing other arguments without an explicit keyword will result in an error or misinterpretation.\n",
      "  warnings.warn(\n"
     ]
    },
    {
     "data": {
      "text/plain": [
       "<AxesSubplot:xlabel='text'>"
      ]
     },
     "execution_count": 46,
     "metadata": {},
     "output_type": "execute_result"
    },
    {
     "data": {
      "image/png": "[encoded data removed]",
      "text/plain": [
       "<Figure size 432x288 with 1 Axes>"
      ]
     },
     "metadata": {
      "needs_background": "light"
     },
     "output_type": "display_data"
    }
   ],
   "source": [
    "tmp = df.text.str.len()\n",
    "sns.boxplot(tmp)"
   ]
  },
  {
   "cell_type": "code",
   "execution_count": 47,
   "id": "c36baf12",
   "metadata": {
    "ExecuteTime": {
     "end_time": "2022-06-28T21:00:25.217790Z",
     "start_time": "2022-06-28T21:00:24.547814Z"
    }
   },
   "outputs": [
    {
     "data": {
      "text/plain": [
       "<seaborn.axisgrid.FacetGrid at 0x16917b6a0>"
      ]
     },
     "execution_count": 47,
     "metadata": {},
     "output_type": "execute_result"
    },
    {
     "data": {
      "image/png": "[encoded data removed]",
      "text/plain": [
       "<Figure size 360x360 with 1 Axes>"
      ]
     },
     "metadata": {
      "needs_background": "light"
     },
     "output_type": "display_data"
    }
   ],
   "source": [
    "sns.displot(tmp)\n"
   ]
  },
  {
   "cell_type": "code",
   "execution_count": 49,
   "id": "f25187bc",
   "metadata": {
    "ExecuteTime": {
     "end_time": "2022-06-28T21:00:25.225796Z",
     "start_time": "2022-06-28T21:00:25.220893Z"
    },
    "scrolled": false
   },
   "outputs": [
    {
     "data": {
      "text/html": [
       "<div>\n",
       "<style scoped>\n",
       "    .dataframe tbody tr th:only-of-type {\n",
       "        vertical-align: middle;\n",
       "    }\n",
       "\n",
       "    .dataframe tbody tr th {\n",
       "        vertical-align: top;\n",
       "    }\n",
       "\n",
       "    .dataframe thead th {\n",
       "        text-align: right;\n",
       "    }\n",
       "</style>\n",
       "<table border=\"1\" class=\"dataframe\">\n",
       "  <thead>\n",
       "    <tr style=\"text-align: right;\">\n",
       "      <th></th>\n",
       "      <th>text</th>\n",
       "      <th>target</th>\n",
       "      <th>_len_txt</th>\n",
       "    </tr>\n",
       "  </thead>\n",
       "  <tbody>\n",
       "    <tr>\n",
       "      <th>0</th>\n",
       "      <td>Our Deeds are the Reason of this #earthquake M...</td>\n",
       "      <td>1</td>\n",
       "      <td>69</td>\n",
       "    </tr>\n",
       "    <tr>\n",
       "      <th>1</th>\n",
       "      <td>Forest fire near La Ronge Sask. Canada</td>\n",
       "      <td>1</td>\n",
       "      <td>38</td>\n",
       "    </tr>\n",
       "    <tr>\n",
       "      <th>2</th>\n",
       "      <td>All residents asked to 'shelter in place' are ...</td>\n",
       "      <td>1</td>\n",
       "      <td>133</td>\n",
       "    </tr>\n",
       "    <tr>\n",
       "      <th>3</th>\n",
       "      <td>13,000 people receive #wildfires evacuation or...</td>\n",
       "      <td>1</td>\n",
       "      <td>65</td>\n",
       "    </tr>\n",
       "    <tr>\n",
       "      <th>4</th>\n",
       "      <td>Just got sent this photo from Ruby #Alaska as ...</td>\n",
       "      <td>1</td>\n",
       "      <td>88</td>\n",
       "    </tr>\n",
       "  </tbody>\n",
       "</table>\n",
       "</div>"
      ],
      "text/plain": [
       "                                                text  target  _len_txt\n",
       "0  Our Deeds are the Reason of this #earthquake M...       1        69\n",
       "1             Forest fire near La Ronge Sask. Canada       1        38\n",
       "2  All residents asked to 'shelter in place' are ...       1       133\n",
       "3  13,000 people receive #wildfires evacuation or...       1        65\n",
       "4  Just got sent this photo from Ruby #Alaska as ...       1        88"
      ]
     },
     "execution_count": 49,
     "metadata": {},
     "output_type": "execute_result"
    }
   ],
   "source": [
    "df[\"_len_txt\"] = tmp\n",
    "df.head()"
   ]
  },
  {
   "cell_type": "markdown",
   "id": "7b7ed418",
   "metadata": {},
   "source": [
    "## 4.3 Multivariate analysis"
   ]
  },
  {
   "cell_type": "code",
   "execution_count": 50,
   "id": "425ffbea",
   "metadata": {
    "ExecuteTime": {
     "end_time": "2022-06-28T21:00:25.245360Z",
     "start_time": "2022-06-28T21:00:25.229460Z"
    }
   },
   "outputs": [
    {
     "data": {
      "text/html": [
       "<div>\n",
       "<style scoped>\n",
       "    .dataframe tbody tr th:only-of-type {\n",
       "        vertical-align: middle;\n",
       "    }\n",
       "\n",
       "    .dataframe tbody tr th {\n",
       "        vertical-align: top;\n",
       "    }\n",
       "\n",
       "    .dataframe thead th {\n",
       "        text-align: right;\n",
       "    }\n",
       "</style>\n",
       "<table border=\"1\" class=\"dataframe\">\n",
       "  <thead>\n",
       "    <tr style=\"text-align: right;\">\n",
       "      <th></th>\n",
       "      <th>target</th>\n",
       "      <th>_len_txt</th>\n",
       "    </tr>\n",
       "  </thead>\n",
       "  <tbody>\n",
       "    <tr>\n",
       "      <th>target</th>\n",
       "      <td>1.000000</td>\n",
       "      <td>0.180997</td>\n",
       "    </tr>\n",
       "    <tr>\n",
       "      <th>_len_txt</th>\n",
       "      <td>0.180997</td>\n",
       "      <td>1.000000</td>\n",
       "    </tr>\n",
       "  </tbody>\n",
       "</table>\n",
       "</div>"
      ],
      "text/plain": [
       "            target  _len_txt\n",
       "target    1.000000  0.180997\n",
       "_len_txt  0.180997  1.000000"
      ]
     },
     "execution_count": 50,
     "metadata": {},
     "output_type": "execute_result"
    }
   ],
   "source": [
    "corr = df.corr()\n",
    "corr"
   ]
  },
  {
   "cell_type": "code",
   "execution_count": 51,
   "id": "41b70018",
   "metadata": {
    "ExecuteTime": {
     "end_time": "2022-06-28T21:00:25.569460Z",
     "start_time": "2022-06-28T21:00:25.248352Z"
    }
   },
   "outputs": [
    {
     "data": {
      "text/plain": [
       "<AxesSubplot:>"
      ]
     },
     "execution_count": 51,
     "metadata": {},
     "output_type": "execute_result"
    },
    {
     "data": {
      "image/png": "[encoded data removed]",
      "text/plain": [
       "<Figure size 432x288 with 2 Axes>"
      ]
     },
     "metadata": {
      "needs_background": "light"
     },
     "output_type": "display_data"
    }
   ],
   "source": [
    "sns.heatmap(corr)"
   ]
  },
  {
   "cell_type": "code",
   "execution_count": 52,
   "id": "7386ec3d",
   "metadata": {
    "ExecuteTime": {
     "end_time": "2022-06-28T21:00:25.904418Z",
     "start_time": "2022-06-28T21:00:25.573120Z"
    }
   },
   "outputs": [
    {
     "data": {
      "image/png": "[encoded data removed]",
      "text/plain": [
       "<Figure size 504x360 with 2 Axes>"
      ]
     },
     "metadata": {
      "needs_background": "light"
     },
     "output_type": "display_data"
    }
   ],
   "source": [
    "mask = np.zeros_like(corr)\n",
    "mask[np.triu_indices_from(mask)] = True\n",
    "\n",
    "fig, ax = plt.subplots(1,1, figsize=(7, 5))\n",
    "ax = sns.heatmap(corr, mask=mask, vmin=-1, vmax=1, cmap=\"coolwarm\", annot=True, fmt=\".2f\", square=True)"
   ]
  },
  {
   "cell_type": "code",
   "execution_count": 53,
   "id": "f5ee35fe",
   "metadata": {
    "ExecuteTime": {
     "end_time": "2022-06-28T21:00:27.401727Z",
     "start_time": "2022-06-28T21:00:25.907991Z"
    },
    "scrolled": true
   },
   "outputs": [
    {
     "data": {
      "text/plain": [
       "<seaborn.axisgrid.PairGrid at 0x16941f4f0>"
      ]
     },
     "execution_count": 53,
     "metadata": {},
     "output_type": "execute_result"
    },
    {
     "data": {
      "image/png": "[encoded data removed]",
      "text/plain": [
       "<Figure size 360x360 with 6 Axes>"
      ]
     },
     "metadata": {
      "needs_background": "light"
     },
     "output_type": "display_data"
    }
   ],
   "source": [
    "sns.pairplot(df)"
   ]
  },
  {
   "cell_type": "code",
   "execution_count": 54,
   "id": "67f0f4f4",
   "metadata": {
    "ExecuteTime": {
     "end_time": "2022-06-28T21:01:34.486290Z",
     "start_time": "2022-06-28T21:01:34.417614Z"
    }
   },
   "outputs": [
    {
     "data": {
      "text/plain": [
       "<seaborn.axisgrid.PairGrid at 0x169a091b0>"
      ]
     },
     "execution_count": 54,
     "metadata": {},
     "output_type": "execute_result"
    },
    {
     "data": {
      "image/png": "[encoded data removed]",
      "text/plain": [
       "<Figure size 219.55x180 with 2 Axes>"
      ]
     },
     "metadata": {
      "needs_background": "light"
     },
     "output_type": "display_data"
    }
   ],
   "source": [
    "sns.pairplot(df, hue=\"target\")"
   ]
  },
  {
   "cell_type": "code",
   "execution_count": 55,
   "id": "869c579f",
   "metadata": {
    "ExecuteTime": {
     "end_time": "2022-06-28T21:00:28.104269Z",
     "start_time": "2022-06-28T21:00:28.090428Z"
    },
    "scrolled": true
   },
   "outputs": [
    {
     "data": {
      "text/html": [
       "<div>\n",
       "<style scoped>\n",
       "    .dataframe tbody tr th:only-of-type {\n",
       "        vertical-align: middle;\n",
       "    }\n",
       "\n",
       "    .dataframe tbody tr th {\n",
       "        vertical-align: top;\n",
       "    }\n",
       "\n",
       "    .dataframe thead th {\n",
       "        text-align: right;\n",
       "    }\n",
       "</style>\n",
       "<table border=\"1\" class=\"dataframe\">\n",
       "  <thead>\n",
       "    <tr style=\"text-align: right;\">\n",
       "      <th></th>\n",
       "      <th>text</th>\n",
       "      <th>target</th>\n",
       "      <th>_len_txt</th>\n",
       "    </tr>\n",
       "  </thead>\n",
       "  <tbody>\n",
       "    <tr>\n",
       "      <th>4890</th>\n",
       "      <td>Bad day</td>\n",
       "      <td>0</td>\n",
       "      <td>7</td>\n",
       "    </tr>\n",
       "    <tr>\n",
       "      <th>5115</th>\n",
       "      <td>Err:509</td>\n",
       "      <td>0</td>\n",
       "      <td>7</td>\n",
       "    </tr>\n",
       "    <tr>\n",
       "      <th>1882</th>\n",
       "      <td>Crushed</td>\n",
       "      <td>0</td>\n",
       "      <td>7</td>\n",
       "    </tr>\n",
       "    <tr>\n",
       "      <th>4971</th>\n",
       "      <td>Meltdown</td>\n",
       "      <td>0</td>\n",
       "      <td>8</td>\n",
       "    </tr>\n",
       "    <tr>\n",
       "      <th>24</th>\n",
       "      <td>LOOOOOOL</td>\n",
       "      <td>0</td>\n",
       "      <td>8</td>\n",
       "    </tr>\n",
       "    <tr>\n",
       "      <th>3670</th>\n",
       "      <td>fatality</td>\n",
       "      <td>0</td>\n",
       "      <td>8</td>\n",
       "    </tr>\n",
       "    <tr>\n",
       "      <th>30</th>\n",
       "      <td>The end!</td>\n",
       "      <td>0</td>\n",
       "      <td>8</td>\n",
       "    </tr>\n",
       "    <tr>\n",
       "      <th>28</th>\n",
       "      <td>Cooool :)</td>\n",
       "      <td>0</td>\n",
       "      <td>9</td>\n",
       "    </tr>\n",
       "    <tr>\n",
       "      <th>3667</th>\n",
       "      <td>Fatality!</td>\n",
       "      <td>0</td>\n",
       "      <td>9</td>\n",
       "    </tr>\n",
       "    <tr>\n",
       "      <th>6705</th>\n",
       "      <td>Thunder???</td>\n",
       "      <td>0</td>\n",
       "      <td>10</td>\n",
       "    </tr>\n",
       "  </tbody>\n",
       "</table>\n",
       "</div>"
      ],
      "text/plain": [
       "            text  target  _len_txt\n",
       "4890     Bad day       0         7\n",
       "5115     Err:509       0         7\n",
       "1882     Crushed       0         7\n",
       "4971    Meltdown       0         8\n",
       "24      LOOOOOOL       0         8\n",
       "3670    fatality       0         8\n",
       "30      The end!       0         8\n",
       "28     Cooool :)       0         9\n",
       "3667   Fatality!       0         9\n",
       "6705  Thunder???       0        10"
      ]
     },
     "execution_count": 55,
     "metadata": {},
     "output_type": "execute_result"
    }
   ],
   "source": [
    "df.sort_values(\"_len_txt\").head(10)"
   ]
  },
  {
   "cell_type": "code",
   "execution_count": 56,
   "id": "f382f5e1",
   "metadata": {
    "ExecuteTime": {
     "end_time": "2022-06-28T21:00:28.126656Z",
     "start_time": "2022-06-28T21:00:28.108924Z"
    }
   },
   "outputs": [
    {
     "data": {
      "text/html": [
       "<div>\n",
       "<style scoped>\n",
       "    .dataframe tbody tr th:only-of-type {\n",
       "        vertical-align: middle;\n",
       "    }\n",
       "\n",
       "    .dataframe tbody tr th {\n",
       "        vertical-align: top;\n",
       "    }\n",
       "\n",
       "    .dataframe thead th {\n",
       "        text-align: right;\n",
       "    }\n",
       "</style>\n",
       "<table border=\"1\" class=\"dataframe\">\n",
       "  <thead>\n",
       "    <tr style=\"text-align: right;\">\n",
       "      <th></th>\n",
       "      <th>text</th>\n",
       "      <th>target</th>\n",
       "      <th>_len_txt</th>\n",
       "    </tr>\n",
       "  </thead>\n",
       "  <tbody>\n",
       "    <tr>\n",
       "      <th>261</th>\n",
       "      <td>@Barbi_Twins We need help-horses will die! Ple...</td>\n",
       "      <td>0</td>\n",
       "      <td>148</td>\n",
       "    </tr>\n",
       "    <tr>\n",
       "      <th>2301</th>\n",
       "      <td>Nah but srsly b4 u demolish ur partner's face ...</td>\n",
       "      <td>0</td>\n",
       "      <td>148</td>\n",
       "    </tr>\n",
       "    <tr>\n",
       "      <th>6945</th>\n",
       "      <td>@helene_yancey GodsLove &amp;amp; #thankU my siste...</td>\n",
       "      <td>1</td>\n",
       "      <td>148</td>\n",
       "    </tr>\n",
       "    <tr>\n",
       "      <th>257</th>\n",
       "      <td>@willienelson We need help! Horses will die!Pl...</td>\n",
       "      <td>1</td>\n",
       "      <td>148</td>\n",
       "    </tr>\n",
       "    <tr>\n",
       "      <th>2718</th>\n",
       "      <td>@UN No more #GujaratRiot &amp;amp; #MumbaiRiot92-9...</td>\n",
       "      <td>1</td>\n",
       "      <td>149</td>\n",
       "    </tr>\n",
       "    <tr>\n",
       "      <th>635</th>\n",
       "      <td>@cspanwj If 90BLKs&amp;amp;8WHTs colluded 2 take W...</td>\n",
       "      <td>1</td>\n",
       "      <td>150</td>\n",
       "    </tr>\n",
       "    <tr>\n",
       "      <th>633</th>\n",
       "      <td>@HowardU If 90BLKs&amp;amp;8WHTs colluded 2 take W...</td>\n",
       "      <td>1</td>\n",
       "      <td>150</td>\n",
       "    </tr>\n",
       "    <tr>\n",
       "      <th>614</th>\n",
       "      <td>@CAgov If 90BLKs&amp;amp;8WHTs colluded 2 take WHT...</td>\n",
       "      <td>1</td>\n",
       "      <td>151</td>\n",
       "    </tr>\n",
       "    <tr>\n",
       "      <th>4801</th>\n",
       "      <td>It's was about 2:30 in the morning&amp;amp;I went ...</td>\n",
       "      <td>0</td>\n",
       "      <td>152</td>\n",
       "    </tr>\n",
       "    <tr>\n",
       "      <th>1270</th>\n",
       "      <td>when you're taking a shower and someone flushe...</td>\n",
       "      <td>0</td>\n",
       "      <td>157</td>\n",
       "    </tr>\n",
       "  </tbody>\n",
       "</table>\n",
       "</div>"
      ],
      "text/plain": [
       "                                                   text  target  _len_txt\n",
       "261   @Barbi_Twins We need help-horses will die! Ple...       0       148\n",
       "2301  Nah but srsly b4 u demolish ur partner's face ...       0       148\n",
       "6945  @helene_yancey GodsLove &amp; #thankU my siste...       1       148\n",
       "257   @willienelson We need help! Horses will die!Pl...       1       148\n",
       "2718  @UN No more #GujaratRiot &amp; #MumbaiRiot92-9...       1       149\n",
       "635   @cspanwj If 90BLKs&amp;8WHTs colluded 2 take W...       1       150\n",
       "633   @HowardU If 90BLKs&amp;8WHTs colluded 2 take W...       1       150\n",
       "614   @CAgov If 90BLKs&amp;8WHTs colluded 2 take WHT...       1       151\n",
       "4801  It's was about 2:30 in the morning&amp;I went ...       0       152\n",
       "1270  when you're taking a shower and someone flushe...       0       157"
      ]
     },
     "execution_count": 56,
     "metadata": {},
     "output_type": "execute_result"
    }
   ],
   "source": [
    "df.sort_values(\"_len_txt\").tail(10)"
   ]
  },
  {
   "cell_type": "code",
   "execution_count": 57,
   "id": "06b134b3",
   "metadata": {
    "ExecuteTime": {
     "end_time": "2022-06-28T21:00:28.146763Z",
     "start_time": "2022-06-28T21:00:28.129930Z"
    }
   },
   "outputs": [
    {
     "data": {
      "text/html": [
       "<div>\n",
       "<style scoped>\n",
       "    .dataframe tbody tr th:only-of-type {\n",
       "        vertical-align: middle;\n",
       "    }\n",
       "\n",
       "    .dataframe tbody tr th {\n",
       "        vertical-align: top;\n",
       "    }\n",
       "\n",
       "    .dataframe thead th {\n",
       "        text-align: right;\n",
       "    }\n",
       "</style>\n",
       "<table border=\"1\" class=\"dataframe\">\n",
       "  <thead>\n",
       "    <tr style=\"text-align: right;\">\n",
       "      <th></th>\n",
       "      <th>text</th>\n",
       "      <th>target</th>\n",
       "    </tr>\n",
       "  </thead>\n",
       "  <tbody>\n",
       "    <tr>\n",
       "      <th>0</th>\n",
       "      <td>Our Deeds are the Reason of this #earthquake M...</td>\n",
       "      <td>1</td>\n",
       "    </tr>\n",
       "    <tr>\n",
       "      <th>1</th>\n",
       "      <td>Forest fire near La Ronge Sask. Canada</td>\n",
       "      <td>1</td>\n",
       "    </tr>\n",
       "    <tr>\n",
       "      <th>2</th>\n",
       "      <td>All residents asked to 'shelter in place' are ...</td>\n",
       "      <td>1</td>\n",
       "    </tr>\n",
       "    <tr>\n",
       "      <th>3</th>\n",
       "      <td>13,000 people receive #wildfires evacuation or...</td>\n",
       "      <td>1</td>\n",
       "    </tr>\n",
       "    <tr>\n",
       "      <th>4</th>\n",
       "      <td>Just got sent this photo from Ruby #Alaska as ...</td>\n",
       "      <td>1</td>\n",
       "    </tr>\n",
       "  </tbody>\n",
       "</table>\n",
       "</div>"
      ],
      "text/plain": [
       "                                                text  target\n",
       "0  Our Deeds are the Reason of this #earthquake M...       1\n",
       "1             Forest fire near La Ronge Sask. Canada       1\n",
       "2  All residents asked to 'shelter in place' are ...       1\n",
       "3  13,000 people receive #wildfires evacuation or...       1\n",
       "4  Just got sent this photo from Ruby #Alaska as ...       1"
      ]
     },
     "execution_count": 57,
     "metadata": {},
     "output_type": "execute_result"
    }
   ],
   "source": [
    "df.drop(columns=\"_len_txt\", inplace=True)\n",
    "df.head()"
   ]
  },
  {
   "cell_type": "code",
   "execution_count": null,
   "id": "f9de9125",
   "metadata": {
    "ExecuteTime": {
     "end_time": "2022-06-28T21:00:28.203968Z",
     "start_time": "2022-06-28T21:00:28.151429Z"
    }
   },
   "outputs": [],
   "source": [
    "df.to_csv(\"data/cleaned/df_cleaned.csv\", index=False)"
   ]
  },
  {
   "cell_type": "markdown",
   "id": "32a4e1e4",
   "metadata": {},
   "source": [
    "## 4.4. Explore corpus and documents"
   ]
  },
  {
   "cell_type": "markdown",
   "id": "40e8974d",
   "metadata": {},
   "source": [
    "###  4.4.1 print N random documents "
   ]
  },
  {
   "cell_type": "code",
   "execution_count": 58,
   "id": "890d1d28",
   "metadata": {
    "ExecuteTime": {
     "end_time": "2022-06-28T21:00:28.225311Z",
     "start_time": "2022-06-28T21:00:28.207873Z"
    }
   },
   "outputs": [
    {
     "data": {
      "text/html": [
       "<div>\n",
       "<style scoped>\n",
       "    .dataframe tbody tr th:only-of-type {\n",
       "        vertical-align: middle;\n",
       "    }\n",
       "\n",
       "    .dataframe tbody tr th {\n",
       "        vertical-align: top;\n",
       "    }\n",
       "\n",
       "    .dataframe thead th {\n",
       "        text-align: right;\n",
       "    }\n",
       "</style>\n",
       "<table border=\"1\" class=\"dataframe\">\n",
       "  <thead>\n",
       "    <tr style=\"text-align: right;\">\n",
       "      <th></th>\n",
       "      <th>text</th>\n",
       "      <th>target</th>\n",
       "    </tr>\n",
       "  </thead>\n",
       "  <tbody>\n",
       "    <tr>\n",
       "      <th>7047</th>\n",
       "      <td>Map: Typhoon Soudelor's predicted path as it a...</td>\n",
       "      <td>1</td>\n",
       "    </tr>\n",
       "    <tr>\n",
       "      <th>3206</th>\n",
       "      <td>@Glenstannard @EssexWeather do you know where ...</td>\n",
       "      <td>1</td>\n",
       "    </tr>\n",
       "    <tr>\n",
       "      <th>1931</th>\n",
       "      <td>@Reddakushgodd she said a few months. But I ge...</td>\n",
       "      <td>0</td>\n",
       "    </tr>\n",
       "    <tr>\n",
       "      <th>5849</th>\n",
       "      <td>fresh out da shower lookss ?? (still loving th...</td>\n",
       "      <td>0</td>\n",
       "    </tr>\n",
       "    <tr>\n",
       "      <th>7343</th>\n",
       "      <td>PHOTOS: The Rocky Fire has grown into Californ...</td>\n",
       "      <td>1</td>\n",
       "    </tr>\n",
       "    <tr>\n",
       "      <th>1325</th>\n",
       "      <td>If YouÛªre Not Paying Attention to Your Influ...</td>\n",
       "      <td>0</td>\n",
       "    </tr>\n",
       "    <tr>\n",
       "      <th>1146</th>\n",
       "      <td>Japan Marks 70th Anniversary of Hiroshima Atom...</td>\n",
       "      <td>1</td>\n",
       "    </tr>\n",
       "    <tr>\n",
       "      <th>2702</th>\n",
       "      <td>A new favorite: Trivium - Detonation by @rrusa...</td>\n",
       "      <td>0</td>\n",
       "    </tr>\n",
       "    <tr>\n",
       "      <th>845</th>\n",
       "      <td>What is the biggest regret you have in hearths...</td>\n",
       "      <td>0</td>\n",
       "    </tr>\n",
       "    <tr>\n",
       "      <th>7583</th>\n",
       "      <td>Pic of 16yr old PKK suicide bomber who detonat...</td>\n",
       "      <td>1</td>\n",
       "    </tr>\n",
       "    <tr>\n",
       "      <th>6843</th>\n",
       "      <td>Hollywood movie about trapped miners released ...</td>\n",
       "      <td>0</td>\n",
       "    </tr>\n",
       "    <tr>\n",
       "      <th>1355</th>\n",
       "      <td>Ah yes the gays are totally destroying America...</td>\n",
       "      <td>0</td>\n",
       "    </tr>\n",
       "    <tr>\n",
       "      <th>2612</th>\n",
       "      <td>New RAN report from the frontlines of human ri...</td>\n",
       "      <td>1</td>\n",
       "    </tr>\n",
       "    <tr>\n",
       "      <th>906</th>\n",
       "      <td>@_itsmegss_ I think it is. well it's bloody ba...</td>\n",
       "      <td>0</td>\n",
       "    </tr>\n",
       "    <tr>\n",
       "      <th>6480</th>\n",
       "      <td>Once upon a time the fact that I decided to go...</td>\n",
       "      <td>0</td>\n",
       "    </tr>\n",
       "    <tr>\n",
       "      <th>4311</th>\n",
       "      <td>@gg_keeponrockin @StrawberrySoryu Oh okay I ju...</td>\n",
       "      <td>1</td>\n",
       "    </tr>\n",
       "    <tr>\n",
       "      <th>6283</th>\n",
       "      <td>Ready for this storm</td>\n",
       "      <td>1</td>\n",
       "    </tr>\n",
       "    <tr>\n",
       "      <th>5913</th>\n",
       "      <td>@InfiniteGrace7 I just screamed to the world h...</td>\n",
       "      <td>0</td>\n",
       "    </tr>\n",
       "    <tr>\n",
       "      <th>3100</th>\n",
       "      <td>'Hey bitch blow me' uh no. Stick your dick in ...</td>\n",
       "      <td>0</td>\n",
       "    </tr>\n",
       "    <tr>\n",
       "      <th>5922</th>\n",
       "      <td>THE GIRLS NEXT TO ME SCREAMED WHAT THE FUCK IS...</td>\n",
       "      <td>0</td>\n",
       "    </tr>\n",
       "  </tbody>\n",
       "</table>\n",
       "</div>"
      ],
      "text/plain": [
       "                                                   text  target\n",
       "7047  Map: Typhoon Soudelor's predicted path as it a...       1\n",
       "3206  @Glenstannard @EssexWeather do you know where ...       1\n",
       "1931  @Reddakushgodd she said a few months. But I ge...       0\n",
       "5849  fresh out da shower lookss ?? (still loving th...       0\n",
       "7343  PHOTOS: The Rocky Fire has grown into Californ...       1\n",
       "1325  If YouÛªre Not Paying Attention to Your Influ...       0\n",
       "1146  Japan Marks 70th Anniversary of Hiroshima Atom...       1\n",
       "2702  A new favorite: Trivium - Detonation by @rrusa...       0\n",
       "845   What is the biggest regret you have in hearths...       0\n",
       "7583  Pic of 16yr old PKK suicide bomber who detonat...       1\n",
       "6843  Hollywood movie about trapped miners released ...       0\n",
       "1355  Ah yes the gays are totally destroying America...       0\n",
       "2612  New RAN report from the frontlines of human ri...       1\n",
       "906   @_itsmegss_ I think it is. well it's bloody ba...       0\n",
       "6480  Once upon a time the fact that I decided to go...       0\n",
       "4311  @gg_keeponrockin @StrawberrySoryu Oh okay I ju...       1\n",
       "6283                               Ready for this storm       1\n",
       "5913  @InfiniteGrace7 I just screamed to the world h...       0\n",
       "3100  'Hey bitch blow me' uh no. Stick your dick in ...       0\n",
       "5922  THE GIRLS NEXT TO ME SCREAMED WHAT THE FUCK IS...       0"
      ]
     },
     "execution_count": 58,
     "metadata": {},
     "output_type": "execute_result"
    }
   ],
   "source": [
    "df_samp = df.sample(20)\n",
    "df_samp"
   ]
  },
  {
   "cell_type": "code",
   "execution_count": 59,
   "id": "525cfe0c",
   "metadata": {
    "ExecuteTime": {
     "end_time": "2022-06-28T21:00:28.241236Z",
     "start_time": "2022-06-28T21:00:28.228882Z"
    }
   },
   "outputs": [
    {
     "name": "stdout",
     "output_type": "stream",
     "text": [
      "Map: Typhoon Soudelor's predicted path as it approaches Taiwan; expected to make landfall over southern China by SÛ_ http://t.co/0XCb7yeqmw\n",
      "@Glenstannard @EssexWeather do you know where abouts as I heard emergency services near by\n",
      "@Reddakushgodd she said a few months. But I get a curfew for out time smfh\n",
      "fresh out da shower lookss ?? (still loving this new hair does it ruin my brand?) #yes https://t.co/T2Kk8fya77\n",
      "PHOTOS: The Rocky Fire has grown into California's most destructive wildfire this year. http://t.co/h9v4HoWtiP http://t.co/8IcSesHbj3\n",
      "If YouÛªre Not Paying Attention to Your Influencers YouÛªre Burning Money | SocialTimes http://t.co/Ptc0xcRAGY\n",
      "Japan Marks 70th Anniversary of Hiroshima Atomic Bombing http://t.co/3EV07PPaPn\n",
      "A new favorite: Trivium - Detonation by @rrusa https://t.co/cubdNsNuvt on #SoundCloud\n",
      "What is the biggest regret you have in hearthstone? http://t.co/vcIrn1Md8v\n",
      "Pic of 16yr old PKK suicide bomber who detonated bomb in Turkey Army trench released http://t.co/aaWZXykLES http://t.co/RsMvgDxRiv\n",
      "Hollywood movie about trapped miners released in Chile http://t.co/xe0EE1Fzfh\n",
      "Ah yes the gays are totally destroying America. I can see buildings burning and meteors crashing into schools wow\n",
      "New RAN report from the frontlines of human rights abuses and forest destruction for fashion.: http://t.co/tYDXauuEnQ\n",
      "@_itsmegss_ I think it is. well it's bloody barking now\n",
      "Once upon a time the fact that I decided to go to university 7 hours away actually sunk in\n",
      "@gg_keeponrockin @StrawberrySoryu Oh okay I just got the message twice and got suspicious. Sorry.  I'll check it out!\n",
      "Ready for this storm\n",
      "@InfiniteGrace7 I just screamed to the world how much I love My Little Pony ??\n",
      "'Hey bitch blow me' uh no. Stick your dick in some water then an outlet so u get electrocuted..\n",
      "THE GIRLS NEXT TO ME SCREAMED WHAT THE FUCK IS A CHONCE I'm CRYIBG\n"
     ]
    }
   ],
   "source": [
    "for idx, ser in df_samp.iterrows() : \n",
    "    print(ser[\"text\"])"
   ]
  },
  {
   "cell_type": "code",
   "execution_count": 60,
   "id": "0c33d412",
   "metadata": {
    "ExecuteTime": {
     "end_time": "2022-06-28T21:00:28.255133Z",
     "start_time": "2022-06-28T21:00:28.245321Z"
    }
   },
   "outputs": [
    {
     "name": "stdout",
     "output_type": "stream",
     "text": [
      "target : 1\n",
      "Map: Typhoon Soudelor's predicted path as it approaches Taiwan; expected to make landfall over southern China by SÛ_ http://t.co/0XCb7yeqmw...\n",
      "\n",
      "\n",
      "target : 1\n",
      "@Glenstannard @EssexWeather do you know where abouts as I heard emergency services near by...\n",
      "\n",
      "\n",
      "target : 0\n",
      "@Reddakushgodd she said a few months. But I get a curfew for out time smfh...\n",
      "\n",
      "\n",
      "target : 0\n",
      "fresh out da shower lookss ?? (still loving this new hair does it ruin my brand?) #yes https://t.co/T2Kk8fya77...\n",
      "\n",
      "\n",
      "target : 1\n",
      "PHOTOS: The Rocky Fire has grown into California's most destructive wildfire this year. http://t.co/h9v4HoWtiP http://t.co/8IcSesHbj3...\n",
      "\n",
      "\n",
      "target : 0\n",
      "If YouÛªre Not Paying Attention to Your Influencers YouÛªre Burning Money | SocialTimes http://t.co/Ptc0xcRAGY...\n",
      "\n",
      "\n",
      "target : 1\n",
      "Japan Marks 70th Anniversary of Hiroshima Atomic Bombing http://t.co/3EV07PPaPn...\n",
      "\n",
      "\n",
      "target : 0\n",
      "A new favorite: Trivium - Detonation by @rrusa https://t.co/cubdNsNuvt on #SoundCloud...\n",
      "\n",
      "\n",
      "target : 0\n",
      "What is the biggest regret you have in hearthstone? http://t.co/vcIrn1Md8v...\n",
      "\n",
      "\n",
      "target : 1\n",
      "Pic of 16yr old PKK suicide bomber who detonated bomb in Turkey Army trench released http://t.co/aaWZXykLES http://t.co/RsMvgDxRiv...\n",
      "\n",
      "\n",
      "target : 0\n",
      "Hollywood movie about trapped miners released in Chile http://t.co/xe0EE1Fzfh...\n",
      "\n",
      "\n",
      "target : 0\n",
      "Ah yes the gays are totally destroying America. I can see buildings burning and meteors crashing into schools wow...\n",
      "\n",
      "\n",
      "target : 1\n",
      "New RAN report from the frontlines of human rights abuses and forest destruction for fashion.: http://t.co/tYDXauuEnQ...\n",
      "\n",
      "\n",
      "target : 0\n",
      "@_itsmegss_ I think it is. well it's bloody barking now...\n",
      "\n",
      "\n",
      "target : 0\n",
      "Once upon a time the fact that I decided to go to university 7 hours away actually sunk in...\n",
      "\n",
      "\n",
      "target : 1\n",
      "@gg_keeponrockin @StrawberrySoryu Oh okay I just got the message twice and got suspicious. Sorry.  I'll check it out!...\n",
      "\n",
      "\n",
      "target : 1\n",
      "Ready for this storm...\n",
      "\n",
      "\n",
      "target : 0\n",
      "@InfiniteGrace7 I just screamed to the world how much I love My Little Pony ??...\n",
      "\n",
      "\n",
      "target : 0\n",
      "'Hey bitch blow me' uh no. Stick your dick in some water then an outlet so u get electrocuted.....\n",
      "\n",
      "\n",
      "target : 0\n",
      "THE GIRLS NEXT TO ME SCREAMED WHAT THE FUCK IS A CHONCE I'm CRYIBG...\n",
      "\n",
      "\n"
     ]
    }
   ],
   "source": [
    "for idx, ser in df_samp.iterrows(): \n",
    "    txt_1 = f\"target : {ser['target']}\\n\"\n",
    "    print(txt_1 + ser['text']+ \"...\" + \"\\n\\n\")"
   ]
  },
  {
   "cell_type": "markdown",
   "id": "0a761626",
   "metadata": {},
   "source": [
    "### 4.4.2 print documents vs target"
   ]
  },
  {
   "cell_type": "code",
   "execution_count": 61,
   "id": "87f1ad65",
   "metadata": {
    "ExecuteTime": {
     "end_time": "2022-06-28T21:00:28.264163Z",
     "start_time": "2022-06-28T21:00:28.258586Z"
    }
   },
   "outputs": [],
   "source": [
    "def print_sample(sub_df, n_samp=10) : \n",
    "    \"\"\"print out n_samp documents from a corpus\"\"\"\n",
    "    \n",
    "    samp = sub_df.sample(n_samp)\n",
    "    \n",
    "    for idx, ser in samp.iterrows(): \n",
    "\n",
    "        txt_1 = f\"target : {ser['target']}\\n\"\n",
    "        print(txt_1+ser['text']+ \"...\" + \"\\n\\n\")"
   ]
  },
  {
   "cell_type": "code",
   "execution_count": 62,
   "id": "58b9977d",
   "metadata": {
    "ExecuteTime": {
     "end_time": "2022-06-28T21:00:28.281539Z",
     "start_time": "2022-06-28T21:00:28.268707Z"
    }
   },
   "outputs": [
    {
     "data": {
      "text/html": [
       "<div>\n",
       "<style scoped>\n",
       "    .dataframe tbody tr th:only-of-type {\n",
       "        vertical-align: middle;\n",
       "    }\n",
       "\n",
       "    .dataframe tbody tr th {\n",
       "        vertical-align: top;\n",
       "    }\n",
       "\n",
       "    .dataframe thead th {\n",
       "        text-align: right;\n",
       "    }\n",
       "</style>\n",
       "<table border=\"1\" class=\"dataframe\">\n",
       "  <thead>\n",
       "    <tr style=\"text-align: right;\">\n",
       "      <th></th>\n",
       "      <th>text</th>\n",
       "      <th>target</th>\n",
       "    </tr>\n",
       "  </thead>\n",
       "  <tbody>\n",
       "    <tr>\n",
       "      <th>0</th>\n",
       "      <td>Our Deeds are the Reason of this #earthquake M...</td>\n",
       "      <td>1</td>\n",
       "    </tr>\n",
       "    <tr>\n",
       "      <th>1</th>\n",
       "      <td>Forest fire near La Ronge Sask. Canada</td>\n",
       "      <td>1</td>\n",
       "    </tr>\n",
       "    <tr>\n",
       "      <th>2</th>\n",
       "      <td>All residents asked to 'shelter in place' are ...</td>\n",
       "      <td>1</td>\n",
       "    </tr>\n",
       "    <tr>\n",
       "      <th>3</th>\n",
       "      <td>13,000 people receive #wildfires evacuation or...</td>\n",
       "      <td>1</td>\n",
       "    </tr>\n",
       "    <tr>\n",
       "      <th>4</th>\n",
       "      <td>Just got sent this photo from Ruby #Alaska as ...</td>\n",
       "      <td>1</td>\n",
       "    </tr>\n",
       "  </tbody>\n",
       "</table>\n",
       "</div>"
      ],
      "text/plain": [
       "                                                text  target\n",
       "0  Our Deeds are the Reason of this #earthquake M...       1\n",
       "1             Forest fire near La Ronge Sask. Canada       1\n",
       "2  All residents asked to 'shelter in place' are ...       1\n",
       "3  13,000 people receive #wildfires evacuation or...       1\n",
       "4  Just got sent this photo from Ruby #Alaska as ...       1"
      ]
     },
     "execution_count": 62,
     "metadata": {},
     "output_type": "execute_result"
    }
   ],
   "source": [
    "df_1 = df[df.target == 1]\n",
    "df_1.head()"
   ]
  },
  {
   "cell_type": "code",
   "execution_count": 63,
   "id": "b560975e",
   "metadata": {
    "ExecuteTime": {
     "end_time": "2022-06-28T21:00:28.294790Z",
     "start_time": "2022-06-28T21:00:28.285982Z"
    }
   },
   "outputs": [
    {
     "name": "stdout",
     "output_type": "stream",
     "text": [
      "target : 1\n",
      "'Food crematoria' provoke outrage amid crisis famine memories... http://t.co/fABVlvN5MS...\n",
      "\n",
      "\n",
      "target : 1\n",
      "#KCA #VoteJKT48ID mbataweel: #RIP #BINLADEN Family members who killed in an airplane's accident...\n",
      "\n",
      "\n",
      "target : 1\n",
      "JAX issues Hazardous Weather Outlook (HWO)  http://t.co/u9fCb8dz3h #WX...\n",
      "\n",
      "\n",
      "target : 1\n",
      "Radiation emergency #preparedness starts with knowing to: get inside stay inside and stay tuned http://t.co/RFFPqBAz2F via @CDCgov...\n",
      "\n",
      "\n",
      "target : 1\n",
      "Erdogan's Bloody Gambit: on July 20 a suicide bombing in Turkey took the lives of 31 socialists in SuruÌ¤ http://t.co/z6xAUIDRXu @Shareaholic...\n",
      "\n",
      "\n",
      "target : 1\n",
      "Typhoon Soudelor taking dead aim at Taiwan http://t.co/3Ac5wuy1R0...\n",
      "\n",
      "\n",
      "target : 1\n",
      "Unlicensed teen driver among 2 killed in NC crash http://t.co/Woc6AkEHYX...\n",
      "\n",
      "\n",
      "target : 1\n",
      "@mylittlepwnies3 @Early__May @AnathemaZhiv @TonySandos much of which has to do with lebanon 80s attack/ iran hostage crisis/ Libya Pan am...\n",
      "\n",
      "\n",
      "target : 1\n",
      "FedEx stops shipping potential bioterror pathogens http://t.co/tkeOAeDQKq #trucking...\n",
      "\n",
      "\n",
      "target : 1\n",
      "@BlueJays @Braves @Angels Instead of dumping water on yourselves please send it to British Columbia to help with the forest fires...\n",
      "\n",
      "\n"
     ]
    }
   ],
   "source": [
    "# print 10 docs of target == 1 \n",
    "\n",
    "print_sample(df_1)"
   ]
  },
  {
   "cell_type": "code",
   "execution_count": 64,
   "id": "792ce246",
   "metadata": {
    "ExecuteTime": {
     "end_time": "2022-06-28T21:00:28.307517Z",
     "start_time": "2022-06-28T21:00:28.298215Z"
    }
   },
   "outputs": [
    {
     "name": "stdout",
     "output_type": "stream",
     "text": [
      "target : 0\n",
      "@tyleroakley IM SCREAMING...\n",
      "\n",
      "\n",
      "target : 0\n",
      "Well me and dad survived my driving ????????...\n",
      "\n",
      "\n",
      "target : 0\n",
      "@_itsmegss_ I think it is. well it's bloody barking now...\n",
      "\n",
      "\n",
      "target : 0\n",
      "#socialmedia news - New Facebook Page Features Seek to Help Personalize the Customer Experience http://t.co/nbizaTlsmV...\n",
      "\n",
      "\n",
      "target : 0\n",
      "Mortal Kombat X: All Fatalities On Meat Predator.\n",
      "https://t.co/IggFNBIxt5...\n",
      "\n",
      "\n",
      "target : 0\n",
      "@Ayshun_Tornado then don't...\n",
      "\n",
      "\n",
      "target : 0\n",
      "How do you call yourself a base conservative when u think it's okay 2 duck military service &amp; contribute thousands 2 #HillaryClinton 2012?...\n",
      "\n",
      "\n",
      "target : 0\n",
      "Looking for a #Defendant #Catastrophic Injury Solicitor #jobs http://t.co/Gz27aUDyHa http://t.co/P4EKgC9sIG...\n",
      "\n",
      "\n",
      "target : 0\n",
      "Brunette teen Giselle Locke teases at home http://t.co/qew4c5M1xd View and download video...\n",
      "\n",
      "\n",
      "target : 0\n",
      "Thank you @FedEx for no longer shipping live microbes for the Department of Defense\n",
      "\n",
      "http://t.co/zAHNEwJrI8...\n",
      "\n",
      "\n"
     ]
    }
   ],
   "source": [
    "# print 10 docs of target == 0\n",
    "\n",
    "print_sample(df[df.target==0])"
   ]
  },
  {
   "cell_type": "code",
   "execution_count": null,
   "id": "638a812f",
   "metadata": {},
   "outputs": [],
   "source": []
  }
 ],
 "metadata": {
  "hide_input": false,
  "kernelspec": {
   "display_name": "Python 3 (ipykernel)",
   "language": "python",
   "name": "python3"
  },
  "language_info": {
   "codemirror_mode": {
    "name": "ipython",
    "version": 3
   },
   "file_extension": ".py",
   "mimetype": "text/x-python",
   "name": "python",
   "nbconvert_exporter": "python",
   "pygments_lexer": "ipython3",
   "version": "3.10.5"
  }
 },
 "nbformat": 4,
 "nbformat_minor": 5
}
