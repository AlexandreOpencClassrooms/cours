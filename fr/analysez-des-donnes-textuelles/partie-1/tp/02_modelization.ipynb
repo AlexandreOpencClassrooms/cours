{
 "cells": [
  {
   "cell_type": "markdown",
   "id": "90d846cb",
   "metadata": {},
   "source": [
    "# 1. Preliminary"
   ]
  },
  {
   "cell_type": "markdown",
   "id": "03838406",
   "metadata": {},
   "source": [
    "## 1.1 Context"
   ]
  },
  {
   "cell_type": "markdown",
   "id": "fc9043a7",
   "metadata": {},
   "source": [
    "* We will perform a modelisation based on the Kaggle project : tweets from disaster\n",
    "\n",
    "\n",
    "* It is a Kaggle competition, which offers a simple but good level textual dataset to be able to make its weapons in NLP\n",
    "\n",
    "\n",
    "* Please have a look to the first part of the TP"
   ]
  },
  {
   "cell_type": "markdown",
   "id": "97396f16",
   "metadata": {},
   "source": [
    "## 1.2 Imports"
   ]
  },
  {
   "cell_type": "code",
   "execution_count": 246,
   "id": "d56dbd5f",
   "metadata": {
    "ExecuteTime": {
     "end_time": "2022-06-27T20:17:56.861637Z",
     "start_time": "2022-06-27T20:17:55.151760Z"
    }
   },
   "outputs": [],
   "source": [
    "# builtin\n",
    "import os, sys, time, random\n",
    "\n",
    "\n",
    "# data\n",
    "import pandas as pd\n",
    "import numpy as np\n",
    "\n",
    "\n",
    "# NLP\n",
    "import nltk\n",
    "from nltk.stem import WordNetLemmatizer, PorterStemmer\n",
    "from nltk.tokenize import word_tokenize, wordpunct_tokenize\n",
    "from nltk.corpus import words\n",
    "from nltk.corpus import stopwords\n",
    "from nltk.tokenize import RegexpTokenizer\n",
    "\n",
    "import spacy\n",
    "\n",
    "\n",
    "# ML\n",
    "from sklearn.pipeline import Pipeline\n",
    "from sklearn.preprocessing import *\n",
    "from sklearn.feature_extraction.text import TfidfVectorizer, CountVectorizer\n",
    "from sklearn.decomposition import LatentDirichletAllocation as LDA\n",
    "from sklearn.decomposition import TruncatedSVD , PCA\n",
    "from sklearn.model_selection import train_test_split\n",
    "from sklearn.ensemble import RandomForestClassifier\n",
    "from sklearn.neighbors import KNeighborsClassifier\n",
    "from sklearn.model_selection import GridSearchCV\n",
    "from sklearn.model_selection import ShuffleSplit\n",
    "\n",
    "\n",
    "# viz\n",
    "import seaborn as sns\n",
    "import matplotlib.pyplot as plt\n",
    "import plotly as px\n",
    "from wordcloud import WordCloud\n",
    "from PIL import Image\n",
    "\n",
    "\n",
    "# parallelisation\n",
    "from pandarallel import pandarallel"
   ]
  },
  {
   "cell_type": "markdown",
   "id": "11514be6",
   "metadata": {},
   "source": [
    "## 1.3 Downloads and options"
   ]
  },
  {
   "cell_type": "code",
   "execution_count": 247,
   "id": "d987469d",
   "metadata": {
    "ExecuteTime": {
     "end_time": "2022-06-27T20:17:57.001064Z",
     "start_time": "2022-06-27T20:17:56.997867Z"
    }
   },
   "outputs": [],
   "source": [
    "# init sns\n",
    "\n",
    "sns.set()"
   ]
  },
  {
   "cell_type": "markdown",
   "id": "1880a917",
   "metadata": {},
   "source": [
    "## 1.4 Loading data"
   ]
  },
  {
   "cell_type": "code",
   "execution_count": 248,
   "id": "c046fdbb",
   "metadata": {
    "ExecuteTime": {
     "end_time": "2022-06-27T20:17:57.013977Z",
     "start_time": "2022-06-27T20:17:57.009502Z"
    }
   },
   "outputs": [
    {
     "data": {
      "text/plain": [
       "['min_10_words.csv',\n",
       " 'min_5_words.csv',\n",
       " 'final_df.csv',\n",
       " 'df_cleaned.csv',\n",
       " 'unique_words.csv']"
      ]
     },
     "execution_count": 248,
     "metadata": {},
     "output_type": "execute_result"
    }
   ],
   "source": [
    "# our file\n",
    "\n",
    "data = \"./data/cleaned/\"\n",
    "os.listdir(data)"
   ]
  },
  {
   "cell_type": "code",
   "execution_count": 249,
   "id": "e699e715",
   "metadata": {
    "ExecuteTime": {
     "end_time": "2022-06-27T20:17:57.037264Z",
     "start_time": "2022-06-27T20:17:57.015613Z"
    }
   },
   "outputs": [
    {
     "data": {
      "text/html": [
       "<div>\n",
       "<style scoped>\n",
       "    .dataframe tbody tr th:only-of-type {\n",
       "        vertical-align: middle;\n",
       "    }\n",
       "\n",
       "    .dataframe tbody tr th {\n",
       "        vertical-align: top;\n",
       "    }\n",
       "\n",
       "    .dataframe thead th {\n",
       "        text-align: right;\n",
       "    }\n",
       "</style>\n",
       "<table border=\"1\" class=\"dataframe\">\n",
       "  <thead>\n",
       "    <tr style=\"text-align: right;\">\n",
       "      <th></th>\n",
       "      <th>text</th>\n",
       "      <th>target</th>\n",
       "      <th>clean_text</th>\n",
       "    </tr>\n",
       "  </thead>\n",
       "  <tbody>\n",
       "    <tr>\n",
       "      <th>0</th>\n",
       "      <td>Our Deeds are the Reason of this #earthquake M...</td>\n",
       "      <td>1</td>\n",
       "      <td>reason earthquak may allah</td>\n",
       "    </tr>\n",
       "    <tr>\n",
       "      <th>1</th>\n",
       "      <td>Forest fire near La Ronge Sask. Canada</td>\n",
       "      <td>1</td>\n",
       "      <td>forest fire near canada</td>\n",
       "    </tr>\n",
       "    <tr>\n",
       "      <th>2</th>\n",
       "      <td>All residents asked to 'shelter in place' are ...</td>\n",
       "      <td>1</td>\n",
       "      <td>resid ask shelter place offic evacu shelter pl...</td>\n",
       "    </tr>\n",
       "    <tr>\n",
       "      <th>3</th>\n",
       "      <td>13,000 people receive #wildfires evacuation or...</td>\n",
       "      <td>1</td>\n",
       "      <td>wildfir evacu order california</td>\n",
       "    </tr>\n",
       "    <tr>\n",
       "      <th>4</th>\n",
       "      <td>Just got sent this photo from Ruby #Alaska as ...</td>\n",
       "      <td>1</td>\n",
       "      <td>got sent photo alaska smoke wildfir school</td>\n",
       "    </tr>\n",
       "    <tr>\n",
       "      <th>...</th>\n",
       "      <td>...</td>\n",
       "      <td>...</td>\n",
       "      <td>...</td>\n",
       "    </tr>\n",
       "    <tr>\n",
       "      <th>7498</th>\n",
       "      <td>#WorldNews Fallen powerlines on G:link tram: U...</td>\n",
       "      <td>1</td>\n",
       "      <td>link tram updat fire crew evacu passeng</td>\n",
       "    </tr>\n",
       "    <tr>\n",
       "      <th>7499</th>\n",
       "      <td>on the flip side I'm at Walmart and there is a...</td>\n",
       "      <td>1</td>\n",
       "      <td>side bomb everyon evacu stay blow</td>\n",
       "    </tr>\n",
       "    <tr>\n",
       "      <th>7500</th>\n",
       "      <td>Suicide bomber kills 15 in Saudi security site...</td>\n",
       "      <td>1</td>\n",
       "      <td>suicid bomber kill secur site mosqu world news...</td>\n",
       "    </tr>\n",
       "    <tr>\n",
       "      <th>7501</th>\n",
       "      <td>Two giant cranes holding a bridge collapse int...</td>\n",
       "      <td>1</td>\n",
       "      <td>two giant crane hold bridg collaps nearbi home</td>\n",
       "    </tr>\n",
       "    <tr>\n",
       "      <th>7502</th>\n",
       "      <td>The Latest: More Homes Razed by Northern Calif...</td>\n",
       "      <td>1</td>\n",
       "      <td>latest home raze northern california wildfir news</td>\n",
       "    </tr>\n",
       "  </tbody>\n",
       "</table>\n",
       "<p>7503 rows × 3 columns</p>\n",
       "</div>"
      ],
      "text/plain": [
       "                                                   text  target  \\\n",
       "0     Our Deeds are the Reason of this #earthquake M...       1   \n",
       "1                Forest fire near La Ronge Sask. Canada       1   \n",
       "2     All residents asked to 'shelter in place' are ...       1   \n",
       "3     13,000 people receive #wildfires evacuation or...       1   \n",
       "4     Just got sent this photo from Ruby #Alaska as ...       1   \n",
       "...                                                 ...     ...   \n",
       "7498  #WorldNews Fallen powerlines on G:link tram: U...       1   \n",
       "7499  on the flip side I'm at Walmart and there is a...       1   \n",
       "7500  Suicide bomber kills 15 in Saudi security site...       1   \n",
       "7501  Two giant cranes holding a bridge collapse int...       1   \n",
       "7502  The Latest: More Homes Razed by Northern Calif...       1   \n",
       "\n",
       "                                             clean_text  \n",
       "0                            reason earthquak may allah  \n",
       "1                               forest fire near canada  \n",
       "2     resid ask shelter place offic evacu shelter pl...  \n",
       "3                        wildfir evacu order california  \n",
       "4            got sent photo alaska smoke wildfir school  \n",
       "...                                                 ...  \n",
       "7498            link tram updat fire crew evacu passeng  \n",
       "7499                  side bomb everyon evacu stay blow  \n",
       "7500  suicid bomber kill secur site mosqu world news...  \n",
       "7501     two giant crane hold bridg collaps nearbi home  \n",
       "7502  latest home raze northern california wildfir news  \n",
       "\n",
       "[7503 rows x 3 columns]"
      ]
     },
     "execution_count": 249,
     "metadata": {},
     "output_type": "execute_result"
    }
   ],
   "source": [
    "# load dataframe\n",
    "\n",
    "fn = data + 'final_df.csv'\n",
    "df = pd.read_csv(fn)\n",
    "df"
   ]
  },
  {
   "cell_type": "code",
   "execution_count": 250,
   "id": "fc900d82",
   "metadata": {
    "ExecuteTime": {
     "end_time": "2022-06-27T20:17:57.066433Z",
     "start_time": "2022-06-27T20:17:57.058215Z"
    }
   },
   "outputs": [
    {
     "data": {
      "text/plain": [
       "text           0\n",
       "target         0\n",
       "clean_text    54\n",
       "dtype: int64"
      ]
     },
     "execution_count": 250,
     "metadata": {},
     "output_type": "execute_result"
    }
   ],
   "source": [
    "# NaN\n",
    "\n",
    "df.isna().sum()"
   ]
  },
  {
   "cell_type": "code",
   "execution_count": 251,
   "id": "c4e82d61",
   "metadata": {
    "ExecuteTime": {
     "end_time": "2022-06-27T20:18:19.576096Z",
     "start_time": "2022-06-27T20:18:19.561331Z"
    }
   },
   "outputs": [
    {
     "data": {
      "text/plain": [
       "text          0\n",
       "target        0\n",
       "clean_text    0\n",
       "dtype: int64"
      ]
     },
     "execution_count": 251,
     "metadata": {},
     "output_type": "execute_result"
    }
   ],
   "source": [
    "# dropna \n",
    "\n",
    "df = df.dropna()\n",
    "df.isna().sum()"
   ]
  },
  {
   "cell_type": "code",
   "execution_count": 252,
   "id": "25bafda2",
   "metadata": {},
   "outputs": [
    {
     "data": {
      "text/plain": [
       "(7449, 3)"
      ]
     },
     "execution_count": 252,
     "metadata": {},
     "output_type": "execute_result"
    }
   ],
   "source": [
    "df.shape"
   ]
  },
  {
   "cell_type": "markdown",
   "id": "a8d2af06",
   "metadata": {},
   "source": [
    "# 2. Data Preparation"
   ]
  },
  {
   "cell_type": "markdown",
   "id": "299e9a45",
   "metadata": {},
   "source": [
    "## 2.1 X & y"
   ]
  },
  {
   "cell_type": "code",
   "execution_count": 253,
   "id": "1eabb7c7",
   "metadata": {},
   "outputs": [],
   "source": [
    "X = df.clean_text\n",
    "y = df.target"
   ]
  },
  {
   "cell_type": "code",
   "execution_count": 254,
   "id": "030e8a0a",
   "metadata": {},
   "outputs": [
    {
     "data": {
      "text/plain": [
       "0                           reason earthquak may allah\n",
       "1                              forest fire near canada\n",
       "2    resid ask shelter place offic evacu shelter pl...\n",
       "3                       wildfir evacu order california\n",
       "4           got sent photo alaska smoke wildfir school\n",
       "Name: clean_text, dtype: object"
      ]
     },
     "execution_count": 254,
     "metadata": {},
     "output_type": "execute_result"
    }
   ],
   "source": [
    "X.head()"
   ]
  },
  {
   "cell_type": "code",
   "execution_count": 255,
   "id": "fbbc16e5",
   "metadata": {},
   "outputs": [
    {
     "data": {
      "text/plain": [
       "0    1\n",
       "1    1\n",
       "2    1\n",
       "3    1\n",
       "4    1\n",
       "Name: target, dtype: int64"
      ]
     },
     "execution_count": 255,
     "metadata": {},
     "output_type": "execute_result"
    }
   ],
   "source": [
    "y.head()"
   ]
  },
  {
   "cell_type": "markdown",
   "id": "af841902",
   "metadata": {},
   "source": [
    "## 2.2 Test-train split"
   ]
  },
  {
   "cell_type": "code",
   "execution_count": 256,
   "id": "1c8dcf4d",
   "metadata": {},
   "outputs": [],
   "source": [
    "X_train, X_test, y_train, y_test = train_test_split(X, \n",
    "                                                    y,\n",
    "                                                   test_size=0.25, \n",
    "                                                   random_state=42)"
   ]
  },
  {
   "cell_type": "code",
   "execution_count": 271,
   "id": "53763cd8",
   "metadata": {},
   "outputs": [
    {
     "name": "stdout",
     "output_type": "stream",
     "text": [
      "X_train : (5586,), y_train (5586,)\n",
      "X_test : (1863,), y_test (1863,)\n"
     ]
    }
   ],
   "source": [
    "print(f\"X_train : {X_train.shape}, y_train {y_train.shape}\")\n",
    "print(f\"X_test : {X_test.shape}, y_test {y_test.shape}\")"
   ]
  },
  {
   "cell_type": "markdown",
   "id": "487c5466",
   "metadata": {},
   "source": [
    "## 2.3 CountVectorizer"
   ]
  },
  {
   "cell_type": "code",
   "execution_count": 272,
   "id": "a76b3567",
   "metadata": {},
   "outputs": [],
   "source": [
    "data = [\"le chien est vert\", \n",
    "        \"le chien est rouge\", \n",
    "        \"le chien est bleu, vraiment très bleu\", \n",
    "        \"vert, vert, vert, vert, le chien est vert, vraiment vert\"]"
   ]
  },
  {
   "cell_type": "code",
   "execution_count": 273,
   "id": "92bd5493",
   "metadata": {},
   "outputs": [
    {
     "data": {
      "text/plain": [
       "<4x8 sparse matrix of type '<class 'numpy.int64'>'\n",
       "\twith 19 stored elements in Compressed Sparse Row format>"
      ]
     },
     "execution_count": 273,
     "metadata": {},
     "output_type": "execute_result"
    }
   ],
   "source": [
    "vect = CountVectorizer()\n",
    "data_C = vect.fit_transform(data)\n",
    "data_C"
   ]
  },
  {
   "cell_type": "code",
   "execution_count": 274,
   "id": "47b73779",
   "metadata": {
    "scrolled": true
   },
   "outputs": [
    {
     "data": {
      "text/html": [
       "<div>\n",
       "<style scoped>\n",
       "    .dataframe tbody tr th:only-of-type {\n",
       "        vertical-align: middle;\n",
       "    }\n",
       "\n",
       "    .dataframe tbody tr th {\n",
       "        vertical-align: top;\n",
       "    }\n",
       "\n",
       "    .dataframe thead th {\n",
       "        text-align: right;\n",
       "    }\n",
       "</style>\n",
       "<table border=\"1\" class=\"dataframe\">\n",
       "  <thead>\n",
       "    <tr style=\"text-align: right;\">\n",
       "      <th></th>\n",
       "      <th>bleu</th>\n",
       "      <th>chien</th>\n",
       "      <th>est</th>\n",
       "      <th>le</th>\n",
       "      <th>rouge</th>\n",
       "      <th>très</th>\n",
       "      <th>vert</th>\n",
       "      <th>vraiment</th>\n",
       "    </tr>\n",
       "  </thead>\n",
       "  <tbody>\n",
       "    <tr>\n",
       "      <th>0</th>\n",
       "      <td>0</td>\n",
       "      <td>1</td>\n",
       "      <td>1</td>\n",
       "      <td>1</td>\n",
       "      <td>0</td>\n",
       "      <td>0</td>\n",
       "      <td>1</td>\n",
       "      <td>0</td>\n",
       "    </tr>\n",
       "    <tr>\n",
       "      <th>1</th>\n",
       "      <td>0</td>\n",
       "      <td>1</td>\n",
       "      <td>1</td>\n",
       "      <td>1</td>\n",
       "      <td>1</td>\n",
       "      <td>0</td>\n",
       "      <td>0</td>\n",
       "      <td>0</td>\n",
       "    </tr>\n",
       "    <tr>\n",
       "      <th>2</th>\n",
       "      <td>2</td>\n",
       "      <td>1</td>\n",
       "      <td>1</td>\n",
       "      <td>1</td>\n",
       "      <td>0</td>\n",
       "      <td>1</td>\n",
       "      <td>0</td>\n",
       "      <td>1</td>\n",
       "    </tr>\n",
       "    <tr>\n",
       "      <th>3</th>\n",
       "      <td>0</td>\n",
       "      <td>1</td>\n",
       "      <td>1</td>\n",
       "      <td>1</td>\n",
       "      <td>0</td>\n",
       "      <td>0</td>\n",
       "      <td>6</td>\n",
       "      <td>1</td>\n",
       "    </tr>\n",
       "  </tbody>\n",
       "</table>\n",
       "</div>"
      ],
      "text/plain": [
       "   bleu  chien  est  le  rouge  très  vert  vraiment\n",
       "0     0      1    1   1      0     0     1         0\n",
       "1     0      1    1   1      1     0     0         0\n",
       "2     2      1    1   1      0     1     0         1\n",
       "3     0      1    1   1      0     0     6         1"
      ]
     },
     "execution_count": 274,
     "metadata": {},
     "output_type": "execute_result"
    }
   ],
   "source": [
    "data_C = pd.DataFrame(data_C.toarray(), columns=vect.get_feature_names_out())\n",
    "data_C"
   ]
  },
  {
   "cell_type": "code",
   "execution_count": 275,
   "id": "c39df0c7",
   "metadata": {},
   "outputs": [
    {
     "data": {
      "text/html": [
       "<div>\n",
       "<style scoped>\n",
       "    .dataframe tbody tr th:only-of-type {\n",
       "        vertical-align: middle;\n",
       "    }\n",
       "\n",
       "    .dataframe tbody tr th {\n",
       "        vertical-align: top;\n",
       "    }\n",
       "\n",
       "    .dataframe thead th {\n",
       "        text-align: right;\n",
       "    }\n",
       "</style>\n",
       "<table border=\"1\" class=\"dataframe\">\n",
       "  <thead>\n",
       "    <tr style=\"text-align: right;\">\n",
       "      <th></th>\n",
       "      <th>count</th>\n",
       "      <th>mean</th>\n",
       "      <th>std</th>\n",
       "      <th>min</th>\n",
       "      <th>25%</th>\n",
       "      <th>50%</th>\n",
       "      <th>75%</th>\n",
       "      <th>max</th>\n",
       "    </tr>\n",
       "  </thead>\n",
       "  <tbody>\n",
       "    <tr>\n",
       "      <th>vert</th>\n",
       "      <td>8.0</td>\n",
       "      <td>2.171535</td>\n",
       "      <td>2.101036</td>\n",
       "      <td>0.0</td>\n",
       "      <td>0.375</td>\n",
       "      <td>2.000000</td>\n",
       "      <td>3.154211</td>\n",
       "      <td>6.0</td>\n",
       "    </tr>\n",
       "    <tr>\n",
       "      <th>bleu</th>\n",
       "      <td>8.0</td>\n",
       "      <td>1.000000</td>\n",
       "      <td>1.388730</td>\n",
       "      <td>0.0</td>\n",
       "      <td>0.000</td>\n",
       "      <td>0.500000</td>\n",
       "      <td>1.250000</td>\n",
       "      <td>4.0</td>\n",
       "    </tr>\n",
       "    <tr>\n",
       "      <th>rouge</th>\n",
       "      <td>8.0</td>\n",
       "      <td>0.750000</td>\n",
       "      <td>1.356203</td>\n",
       "      <td>0.0</td>\n",
       "      <td>0.000</td>\n",
       "      <td>0.250000</td>\n",
       "      <td>0.625000</td>\n",
       "      <td>4.0</td>\n",
       "    </tr>\n",
       "    <tr>\n",
       "      <th>très</th>\n",
       "      <td>8.0</td>\n",
       "      <td>0.750000</td>\n",
       "      <td>1.356203</td>\n",
       "      <td>0.0</td>\n",
       "      <td>0.000</td>\n",
       "      <td>0.250000</td>\n",
       "      <td>0.625000</td>\n",
       "      <td>4.0</td>\n",
       "    </tr>\n",
       "    <tr>\n",
       "      <th>vraiment</th>\n",
       "      <td>8.0</td>\n",
       "      <td>0.947169</td>\n",
       "      <td>1.290421</td>\n",
       "      <td>0.0</td>\n",
       "      <td>0.375</td>\n",
       "      <td>0.538675</td>\n",
       "      <td>1.000000</td>\n",
       "      <td>4.0</td>\n",
       "    </tr>\n",
       "    <tr>\n",
       "      <th>chien</th>\n",
       "      <td>8.0</td>\n",
       "      <td>1.250000</td>\n",
       "      <td>1.164965</td>\n",
       "      <td>0.0</td>\n",
       "      <td>1.000</td>\n",
       "      <td>1.000000</td>\n",
       "      <td>1.000000</td>\n",
       "      <td>4.0</td>\n",
       "    </tr>\n",
       "    <tr>\n",
       "      <th>est</th>\n",
       "      <td>8.0</td>\n",
       "      <td>1.250000</td>\n",
       "      <td>1.164965</td>\n",
       "      <td>0.0</td>\n",
       "      <td>1.000</td>\n",
       "      <td>1.000000</td>\n",
       "      <td>1.000000</td>\n",
       "      <td>4.0</td>\n",
       "    </tr>\n",
       "    <tr>\n",
       "      <th>le</th>\n",
       "      <td>8.0</td>\n",
       "      <td>1.250000</td>\n",
       "      <td>1.164965</td>\n",
       "      <td>0.0</td>\n",
       "      <td>1.000</td>\n",
       "      <td>1.000000</td>\n",
       "      <td>1.000000</td>\n",
       "      <td>4.0</td>\n",
       "    </tr>\n",
       "  </tbody>\n",
       "</table>\n",
       "</div>"
      ],
      "text/plain": [
       "          count      mean       std  min    25%       50%       75%  max\n",
       "vert        8.0  2.171535  2.101036  0.0  0.375  2.000000  3.154211  6.0\n",
       "bleu        8.0  1.000000  1.388730  0.0  0.000  0.500000  1.250000  4.0\n",
       "rouge       8.0  0.750000  1.356203  0.0  0.000  0.250000  0.625000  4.0\n",
       "très        8.0  0.750000  1.356203  0.0  0.000  0.250000  0.625000  4.0\n",
       "vraiment    8.0  0.947169  1.290421  0.0  0.375  0.538675  1.000000  4.0\n",
       "chien       8.0  1.250000  1.164965  0.0  1.000  1.000000  1.000000  4.0\n",
       "est         8.0  1.250000  1.164965  0.0  1.000  1.000000  1.000000  4.0\n",
       "le          8.0  1.250000  1.164965  0.0  1.000  1.000000  1.000000  4.0"
      ]
     },
     "execution_count": 275,
     "metadata": {},
     "output_type": "execute_result"
    }
   ],
   "source": [
    "data_C.describe().describe().T.sort_values(\"std\", ascending=False)"
   ]
  },
  {
   "cell_type": "code",
   "execution_count": 276,
   "id": "d3165382",
   "metadata": {},
   "outputs": [
    {
     "data": {
      "text/html": [
       "<div>\n",
       "<style scoped>\n",
       "    .dataframe tbody tr th:only-of-type {\n",
       "        vertical-align: middle;\n",
       "    }\n",
       "\n",
       "    .dataframe tbody tr th {\n",
       "        vertical-align: top;\n",
       "    }\n",
       "\n",
       "    .dataframe thead th {\n",
       "        text-align: right;\n",
       "    }\n",
       "</style>\n",
       "<table border=\"1\" class=\"dataframe\">\n",
       "  <thead>\n",
       "    <tr style=\"text-align: right;\">\n",
       "      <th></th>\n",
       "      <th>count</th>\n",
       "      <th>mean</th>\n",
       "      <th>std</th>\n",
       "      <th>min</th>\n",
       "      <th>25%</th>\n",
       "      <th>50%</th>\n",
       "      <th>75%</th>\n",
       "      <th>max</th>\n",
       "    </tr>\n",
       "  </thead>\n",
       "  <tbody>\n",
       "    <tr>\n",
       "      <th>bleu</th>\n",
       "      <td>4.0</td>\n",
       "      <td>-0.000025</td>\n",
       "      <td>1.154750</td>\n",
       "      <td>-0.5774</td>\n",
       "      <td>-0.5774</td>\n",
       "      <td>-0.5774</td>\n",
       "      <td>-0.000025</td>\n",
       "      <td>1.7321</td>\n",
       "    </tr>\n",
       "    <tr>\n",
       "      <th>rouge</th>\n",
       "      <td>4.0</td>\n",
       "      <td>-0.000025</td>\n",
       "      <td>1.154750</td>\n",
       "      <td>-0.5774</td>\n",
       "      <td>-0.5774</td>\n",
       "      <td>-0.5774</td>\n",
       "      <td>-0.000025</td>\n",
       "      <td>1.7321</td>\n",
       "    </tr>\n",
       "    <tr>\n",
       "      <th>très</th>\n",
       "      <td>4.0</td>\n",
       "      <td>-0.000025</td>\n",
       "      <td>1.154750</td>\n",
       "      <td>-0.5774</td>\n",
       "      <td>-0.5774</td>\n",
       "      <td>-0.5774</td>\n",
       "      <td>-0.000025</td>\n",
       "      <td>1.7321</td>\n",
       "    </tr>\n",
       "    <tr>\n",
       "      <th>vert</th>\n",
       "      <td>4.0</td>\n",
       "      <td>0.000025</td>\n",
       "      <td>1.154706</td>\n",
       "      <td>-0.7035</td>\n",
       "      <td>-0.7035</td>\n",
       "      <td>-0.5025</td>\n",
       "      <td>0.201025</td>\n",
       "      <td>1.7086</td>\n",
       "    </tr>\n",
       "    <tr>\n",
       "      <th>vraiment</th>\n",
       "      <td>4.0</td>\n",
       "      <td>0.000000</td>\n",
       "      <td>1.154701</td>\n",
       "      <td>-1.0000</td>\n",
       "      <td>-1.0000</td>\n",
       "      <td>0.0000</td>\n",
       "      <td>1.000000</td>\n",
       "      <td>1.0000</td>\n",
       "    </tr>\n",
       "    <tr>\n",
       "      <th>chien</th>\n",
       "      <td>4.0</td>\n",
       "      <td>0.000000</td>\n",
       "      <td>0.000000</td>\n",
       "      <td>0.0000</td>\n",
       "      <td>0.0000</td>\n",
       "      <td>0.0000</td>\n",
       "      <td>0.000000</td>\n",
       "      <td>0.0000</td>\n",
       "    </tr>\n",
       "    <tr>\n",
       "      <th>est</th>\n",
       "      <td>4.0</td>\n",
       "      <td>0.000000</td>\n",
       "      <td>0.000000</td>\n",
       "      <td>0.0000</td>\n",
       "      <td>0.0000</td>\n",
       "      <td>0.0000</td>\n",
       "      <td>0.000000</td>\n",
       "      <td>0.0000</td>\n",
       "    </tr>\n",
       "    <tr>\n",
       "      <th>le</th>\n",
       "      <td>4.0</td>\n",
       "      <td>0.000000</td>\n",
       "      <td>0.000000</td>\n",
       "      <td>0.0000</td>\n",
       "      <td>0.0000</td>\n",
       "      <td>0.0000</td>\n",
       "      <td>0.000000</td>\n",
       "      <td>0.0000</td>\n",
       "    </tr>\n",
       "  </tbody>\n",
       "</table>\n",
       "</div>"
      ],
      "text/plain": [
       "          count      mean       std     min     25%     50%       75%     max\n",
       "bleu        4.0 -0.000025  1.154750 -0.5774 -0.5774 -0.5774 -0.000025  1.7321\n",
       "rouge       4.0 -0.000025  1.154750 -0.5774 -0.5774 -0.5774 -0.000025  1.7321\n",
       "très        4.0 -0.000025  1.154750 -0.5774 -0.5774 -0.5774 -0.000025  1.7321\n",
       "vert        4.0  0.000025  1.154706 -0.7035 -0.7035 -0.5025  0.201025  1.7086\n",
       "vraiment    4.0  0.000000  1.154701 -1.0000 -1.0000  0.0000  1.000000  1.0000\n",
       "chien       4.0  0.000000  0.000000  0.0000  0.0000  0.0000  0.000000  0.0000\n",
       "est         4.0  0.000000  0.000000  0.0000  0.0000  0.0000  0.000000  0.0000\n",
       "le          4.0  0.000000  0.000000  0.0000  0.0000  0.0000  0.000000  0.0000"
      ]
     },
     "execution_count": 276,
     "metadata": {},
     "output_type": "execute_result"
    }
   ],
   "source": [
    "scaler = StandardScaler()\n",
    "data_c_scaled = scaler.fit_transform(data_C)\n",
    "data_c_scaled = pd.DataFrame(data_c_scaled, columns=vect.get_feature_names_out()).round(4)\n",
    "data_c_scaled.describe().T.sort_values(\"std\", ascending=False)"
   ]
  },
  {
   "cell_type": "code",
   "execution_count": 277,
   "id": "5b073309",
   "metadata": {
    "scrolled": true
   },
   "outputs": [
    {
     "data": {
      "text/html": [
       "<div>\n",
       "<style scoped>\n",
       "    .dataframe tbody tr th:only-of-type {\n",
       "        vertical-align: middle;\n",
       "    }\n",
       "\n",
       "    .dataframe tbody tr th {\n",
       "        vertical-align: top;\n",
       "    }\n",
       "\n",
       "    .dataframe thead th {\n",
       "        text-align: right;\n",
       "    }\n",
       "</style>\n",
       "<table border=\"1\" class=\"dataframe\">\n",
       "  <thead>\n",
       "    <tr style=\"text-align: right;\">\n",
       "      <th></th>\n",
       "      <th>aba</th>\n",
       "      <th>abandon</th>\n",
       "      <th>abl</th>\n",
       "      <th>ablaz</th>\n",
       "      <th>absolut</th>\n",
       "      <th>absurdli</th>\n",
       "      <th>access</th>\n",
       "      <th>accid</th>\n",
       "      <th>accident</th>\n",
       "      <th>accord</th>\n",
       "      <th>...</th>\n",
       "      <th>year</th>\n",
       "      <th>yelp</th>\n",
       "      <th>yesterday</th>\n",
       "      <th>yet</th>\n",
       "      <th>york</th>\n",
       "      <th>young</th>\n",
       "      <th>youth</th>\n",
       "      <th>yr</th>\n",
       "      <th>zombi</th>\n",
       "      <th>zone</th>\n",
       "    </tr>\n",
       "  </thead>\n",
       "  <tbody>\n",
       "    <tr>\n",
       "      <th>0</th>\n",
       "      <td>0</td>\n",
       "      <td>0</td>\n",
       "      <td>0</td>\n",
       "      <td>0</td>\n",
       "      <td>0</td>\n",
       "      <td>0</td>\n",
       "      <td>0</td>\n",
       "      <td>0</td>\n",
       "      <td>0</td>\n",
       "      <td>0</td>\n",
       "      <td>...</td>\n",
       "      <td>0</td>\n",
       "      <td>0</td>\n",
       "      <td>0</td>\n",
       "      <td>0</td>\n",
       "      <td>0</td>\n",
       "      <td>0</td>\n",
       "      <td>0</td>\n",
       "      <td>0</td>\n",
       "      <td>0</td>\n",
       "      <td>0</td>\n",
       "    </tr>\n",
       "    <tr>\n",
       "      <th>1</th>\n",
       "      <td>0</td>\n",
       "      <td>0</td>\n",
       "      <td>0</td>\n",
       "      <td>0</td>\n",
       "      <td>0</td>\n",
       "      <td>0</td>\n",
       "      <td>0</td>\n",
       "      <td>0</td>\n",
       "      <td>0</td>\n",
       "      <td>0</td>\n",
       "      <td>...</td>\n",
       "      <td>0</td>\n",
       "      <td>0</td>\n",
       "      <td>0</td>\n",
       "      <td>0</td>\n",
       "      <td>0</td>\n",
       "      <td>0</td>\n",
       "      <td>0</td>\n",
       "      <td>0</td>\n",
       "      <td>0</td>\n",
       "      <td>0</td>\n",
       "    </tr>\n",
       "    <tr>\n",
       "      <th>2</th>\n",
       "      <td>0</td>\n",
       "      <td>0</td>\n",
       "      <td>0</td>\n",
       "      <td>0</td>\n",
       "      <td>0</td>\n",
       "      <td>0</td>\n",
       "      <td>0</td>\n",
       "      <td>0</td>\n",
       "      <td>0</td>\n",
       "      <td>0</td>\n",
       "      <td>...</td>\n",
       "      <td>0</td>\n",
       "      <td>0</td>\n",
       "      <td>0</td>\n",
       "      <td>0</td>\n",
       "      <td>0</td>\n",
       "      <td>0</td>\n",
       "      <td>0</td>\n",
       "      <td>0</td>\n",
       "      <td>0</td>\n",
       "      <td>0</td>\n",
       "    </tr>\n",
       "    <tr>\n",
       "      <th>3</th>\n",
       "      <td>0</td>\n",
       "      <td>0</td>\n",
       "      <td>0</td>\n",
       "      <td>0</td>\n",
       "      <td>0</td>\n",
       "      <td>0</td>\n",
       "      <td>0</td>\n",
       "      <td>0</td>\n",
       "      <td>0</td>\n",
       "      <td>0</td>\n",
       "      <td>...</td>\n",
       "      <td>0</td>\n",
       "      <td>0</td>\n",
       "      <td>0</td>\n",
       "      <td>0</td>\n",
       "      <td>0</td>\n",
       "      <td>0</td>\n",
       "      <td>0</td>\n",
       "      <td>0</td>\n",
       "      <td>0</td>\n",
       "      <td>0</td>\n",
       "    </tr>\n",
       "    <tr>\n",
       "      <th>4</th>\n",
       "      <td>0</td>\n",
       "      <td>0</td>\n",
       "      <td>0</td>\n",
       "      <td>0</td>\n",
       "      <td>0</td>\n",
       "      <td>0</td>\n",
       "      <td>0</td>\n",
       "      <td>0</td>\n",
       "      <td>0</td>\n",
       "      <td>0</td>\n",
       "      <td>...</td>\n",
       "      <td>0</td>\n",
       "      <td>0</td>\n",
       "      <td>0</td>\n",
       "      <td>0</td>\n",
       "      <td>0</td>\n",
       "      <td>0</td>\n",
       "      <td>0</td>\n",
       "      <td>0</td>\n",
       "      <td>0</td>\n",
       "      <td>0</td>\n",
       "    </tr>\n",
       "  </tbody>\n",
       "</table>\n",
       "<p>5 rows × 1615 columns</p>\n",
       "</div>"
      ],
      "text/plain": [
       "   aba  abandon  abl  ablaz  absolut  absurdli  access  accid  accident  \\\n",
       "0    0        0    0      0        0         0       0      0         0   \n",
       "1    0        0    0      0        0         0       0      0         0   \n",
       "2    0        0    0      0        0         0       0      0         0   \n",
       "3    0        0    0      0        0         0       0      0         0   \n",
       "4    0        0    0      0        0         0       0      0         0   \n",
       "\n",
       "   accord  ...  year  yelp  yesterday  yet  york  young  youth  yr  zombi  \\\n",
       "0       0  ...     0     0          0    0     0      0      0   0      0   \n",
       "1       0  ...     0     0          0    0     0      0      0   0      0   \n",
       "2       0  ...     0     0          0    0     0      0      0   0      0   \n",
       "3       0  ...     0     0          0    0     0      0      0   0      0   \n",
       "4       0  ...     0     0          0    0     0      0      0   0      0   \n",
       "\n",
       "   zone  \n",
       "0     0  \n",
       "1     0  \n",
       "2     0  \n",
       "3     0  \n",
       "4     0  \n",
       "\n",
       "[5 rows x 1615 columns]"
      ]
     },
     "execution_count": 277,
     "metadata": {},
     "output_type": "execute_result"
    }
   ],
   "source": [
    "vect = CountVectorizer()\n",
    "X_train_c = vect.fit_transform(X_train)\n",
    "X_train_c = pd.DataFrame(X_train_c.toarray(), columns=vect.get_feature_names_out())\n",
    "X_train_c.head()"
   ]
  },
  {
   "cell_type": "code",
   "execution_count": 278,
   "id": "a369fc8a",
   "metadata": {},
   "outputs": [
    {
     "data": {
      "text/plain": [
       "(5586, 1615)"
      ]
     },
     "execution_count": 278,
     "metadata": {},
     "output_type": "execute_result"
    }
   ],
   "source": [
    "X_train_c.shape"
   ]
  },
  {
   "cell_type": "code",
   "execution_count": 279,
   "id": "f2c1b37f",
   "metadata": {},
   "outputs": [
    {
     "data": {
      "text/html": [
       "<div>\n",
       "<style scoped>\n",
       "    .dataframe tbody tr th:only-of-type {\n",
       "        vertical-align: middle;\n",
       "    }\n",
       "\n",
       "    .dataframe tbody tr th {\n",
       "        vertical-align: top;\n",
       "    }\n",
       "\n",
       "    .dataframe thead th {\n",
       "        text-align: right;\n",
       "    }\n",
       "</style>\n",
       "<table border=\"1\" class=\"dataframe\">\n",
       "  <thead>\n",
       "    <tr style=\"text-align: right;\">\n",
       "      <th></th>\n",
       "      <th>aba</th>\n",
       "      <th>abandon</th>\n",
       "      <th>abl</th>\n",
       "      <th>ablaz</th>\n",
       "      <th>absolut</th>\n",
       "      <th>absurdli</th>\n",
       "      <th>access</th>\n",
       "      <th>accid</th>\n",
       "      <th>accident</th>\n",
       "      <th>accord</th>\n",
       "      <th>...</th>\n",
       "      <th>year</th>\n",
       "      <th>yelp</th>\n",
       "      <th>yesterday</th>\n",
       "      <th>yet</th>\n",
       "      <th>york</th>\n",
       "      <th>young</th>\n",
       "      <th>youth</th>\n",
       "      <th>yr</th>\n",
       "      <th>zombi</th>\n",
       "      <th>zone</th>\n",
       "    </tr>\n",
       "  </thead>\n",
       "  <tbody>\n",
       "    <tr>\n",
       "      <th>0</th>\n",
       "      <td>0</td>\n",
       "      <td>0</td>\n",
       "      <td>0</td>\n",
       "      <td>0</td>\n",
       "      <td>0</td>\n",
       "      <td>0</td>\n",
       "      <td>0</td>\n",
       "      <td>0</td>\n",
       "      <td>0</td>\n",
       "      <td>0</td>\n",
       "      <td>...</td>\n",
       "      <td>0</td>\n",
       "      <td>0</td>\n",
       "      <td>0</td>\n",
       "      <td>0</td>\n",
       "      <td>0</td>\n",
       "      <td>0</td>\n",
       "      <td>0</td>\n",
       "      <td>0</td>\n",
       "      <td>0</td>\n",
       "      <td>0</td>\n",
       "    </tr>\n",
       "    <tr>\n",
       "      <th>1</th>\n",
       "      <td>0</td>\n",
       "      <td>0</td>\n",
       "      <td>0</td>\n",
       "      <td>0</td>\n",
       "      <td>0</td>\n",
       "      <td>0</td>\n",
       "      <td>0</td>\n",
       "      <td>0</td>\n",
       "      <td>0</td>\n",
       "      <td>0</td>\n",
       "      <td>...</td>\n",
       "      <td>0</td>\n",
       "      <td>0</td>\n",
       "      <td>0</td>\n",
       "      <td>0</td>\n",
       "      <td>0</td>\n",
       "      <td>0</td>\n",
       "      <td>0</td>\n",
       "      <td>0</td>\n",
       "      <td>0</td>\n",
       "      <td>0</td>\n",
       "    </tr>\n",
       "    <tr>\n",
       "      <th>2</th>\n",
       "      <td>0</td>\n",
       "      <td>0</td>\n",
       "      <td>0</td>\n",
       "      <td>0</td>\n",
       "      <td>0</td>\n",
       "      <td>0</td>\n",
       "      <td>0</td>\n",
       "      <td>0</td>\n",
       "      <td>0</td>\n",
       "      <td>0</td>\n",
       "      <td>...</td>\n",
       "      <td>0</td>\n",
       "      <td>0</td>\n",
       "      <td>0</td>\n",
       "      <td>0</td>\n",
       "      <td>0</td>\n",
       "      <td>0</td>\n",
       "      <td>0</td>\n",
       "      <td>0</td>\n",
       "      <td>0</td>\n",
       "      <td>0</td>\n",
       "    </tr>\n",
       "    <tr>\n",
       "      <th>3</th>\n",
       "      <td>0</td>\n",
       "      <td>0</td>\n",
       "      <td>0</td>\n",
       "      <td>0</td>\n",
       "      <td>0</td>\n",
       "      <td>0</td>\n",
       "      <td>0</td>\n",
       "      <td>0</td>\n",
       "      <td>0</td>\n",
       "      <td>0</td>\n",
       "      <td>...</td>\n",
       "      <td>0</td>\n",
       "      <td>0</td>\n",
       "      <td>0</td>\n",
       "      <td>0</td>\n",
       "      <td>0</td>\n",
       "      <td>0</td>\n",
       "      <td>0</td>\n",
       "      <td>0</td>\n",
       "      <td>0</td>\n",
       "      <td>0</td>\n",
       "    </tr>\n",
       "    <tr>\n",
       "      <th>4</th>\n",
       "      <td>0</td>\n",
       "      <td>0</td>\n",
       "      <td>0</td>\n",
       "      <td>0</td>\n",
       "      <td>0</td>\n",
       "      <td>0</td>\n",
       "      <td>0</td>\n",
       "      <td>0</td>\n",
       "      <td>0</td>\n",
       "      <td>0</td>\n",
       "      <td>...</td>\n",
       "      <td>0</td>\n",
       "      <td>0</td>\n",
       "      <td>0</td>\n",
       "      <td>0</td>\n",
       "      <td>0</td>\n",
       "      <td>0</td>\n",
       "      <td>0</td>\n",
       "      <td>0</td>\n",
       "      <td>0</td>\n",
       "      <td>0</td>\n",
       "    </tr>\n",
       "  </tbody>\n",
       "</table>\n",
       "<p>5 rows × 1615 columns</p>\n",
       "</div>"
      ],
      "text/plain": [
       "   aba  abandon  abl  ablaz  absolut  absurdli  access  accid  accident  \\\n",
       "0    0        0    0      0        0         0       0      0         0   \n",
       "1    0        0    0      0        0         0       0      0         0   \n",
       "2    0        0    0      0        0         0       0      0         0   \n",
       "3    0        0    0      0        0         0       0      0         0   \n",
       "4    0        0    0      0        0         0       0      0         0   \n",
       "\n",
       "   accord  ...  year  yelp  yesterday  yet  york  young  youth  yr  zombi  \\\n",
       "0       0  ...     0     0          0    0     0      0      0   0      0   \n",
       "1       0  ...     0     0          0    0     0      0      0   0      0   \n",
       "2       0  ...     0     0          0    0     0      0      0   0      0   \n",
       "3       0  ...     0     0          0    0     0      0      0   0      0   \n",
       "4       0  ...     0     0          0    0     0      0      0   0      0   \n",
       "\n",
       "   zone  \n",
       "0     0  \n",
       "1     0  \n",
       "2     0  \n",
       "3     0  \n",
       "4     0  \n",
       "\n",
       "[5 rows x 1615 columns]"
      ]
     },
     "execution_count": 279,
     "metadata": {},
     "output_type": "execute_result"
    }
   ],
   "source": [
    "X_test_c = vect.transform(X_test)\n",
    "X_test_c = pd.DataFrame(X_test_c.toarray(), columns=vect.get_feature_names_out())\n",
    "X_test_c.head()"
   ]
  },
  {
   "cell_type": "code",
   "execution_count": 280,
   "id": "e56e4b1b",
   "metadata": {},
   "outputs": [
    {
     "data": {
      "text/plain": [
       "(1863, 1615)"
      ]
     },
     "execution_count": 280,
     "metadata": {},
     "output_type": "execute_result"
    }
   ],
   "source": [
    "X_test_c.shape"
   ]
  },
  {
   "cell_type": "markdown",
   "id": "a6ab92b3",
   "metadata": {},
   "source": [
    "## 2.4 TfidfVectorizer"
   ]
  },
  {
   "cell_type": "code",
   "execution_count": 281,
   "id": "4351a822",
   "metadata": {},
   "outputs": [
    {
     "data": {
      "text/plain": [
       "<4x8 sparse matrix of type '<class 'numpy.float64'>'\n",
       "\twith 19 stored elements in Compressed Sparse Row format>"
      ]
     },
     "execution_count": 281,
     "metadata": {},
     "output_type": "execute_result"
    }
   ],
   "source": [
    "vect = TfidfVectorizer()\n",
    "data_T = vect.fit_transform(data)\n",
    "data_T"
   ]
  },
  {
   "cell_type": "code",
   "execution_count": 282,
   "id": "0b34dbd0",
   "metadata": {},
   "outputs": [
    {
     "data": {
      "text/html": [
       "<div>\n",
       "<style scoped>\n",
       "    .dataframe tbody tr th:only-of-type {\n",
       "        vertical-align: middle;\n",
       "    }\n",
       "\n",
       "    .dataframe tbody tr th {\n",
       "        vertical-align: top;\n",
       "    }\n",
       "\n",
       "    .dataframe thead th {\n",
       "        text-align: right;\n",
       "    }\n",
       "</style>\n",
       "<table border=\"1\" class=\"dataframe\">\n",
       "  <thead>\n",
       "    <tr style=\"text-align: right;\">\n",
       "      <th></th>\n",
       "      <th>bleu</th>\n",
       "      <th>chien</th>\n",
       "      <th>est</th>\n",
       "      <th>le</th>\n",
       "      <th>rouge</th>\n",
       "      <th>très</th>\n",
       "      <th>vert</th>\n",
       "      <th>vraiment</th>\n",
       "    </tr>\n",
       "  </thead>\n",
       "  <tbody>\n",
       "    <tr>\n",
       "      <th>0</th>\n",
       "      <td>0.000000</td>\n",
       "      <td>0.435087</td>\n",
       "      <td>0.435087</td>\n",
       "      <td>0.435087</td>\n",
       "      <td>0.00000</td>\n",
       "      <td>0.0000</td>\n",
       "      <td>0.657341</td>\n",
       "      <td>0.000000</td>\n",
       "    </tr>\n",
       "    <tr>\n",
       "      <th>1</th>\n",
       "      <td>0.000000</td>\n",
       "      <td>0.387139</td>\n",
       "      <td>0.387139</td>\n",
       "      <td>0.387139</td>\n",
       "      <td>0.74187</td>\n",
       "      <td>0.0000</td>\n",
       "      <td>0.000000</td>\n",
       "      <td>0.000000</td>\n",
       "    </tr>\n",
       "    <tr>\n",
       "      <th>2</th>\n",
       "      <td>0.788199</td>\n",
       "      <td>0.205658</td>\n",
       "      <td>0.205658</td>\n",
       "      <td>0.205658</td>\n",
       "      <td>0.00000</td>\n",
       "      <td>0.3941</td>\n",
       "      <td>0.000000</td>\n",
       "      <td>0.310713</td>\n",
       "    </tr>\n",
       "    <tr>\n",
       "      <th>3</th>\n",
       "      <td>0.000000</td>\n",
       "      <td>0.106931</td>\n",
       "      <td>0.106931</td>\n",
       "      <td>0.106931</td>\n",
       "      <td>0.00000</td>\n",
       "      <td>0.0000</td>\n",
       "      <td>0.969328</td>\n",
       "      <td>0.161555</td>\n",
       "    </tr>\n",
       "  </tbody>\n",
       "</table>\n",
       "</div>"
      ],
      "text/plain": [
       "       bleu     chien       est        le    rouge    très      vert  vraiment\n",
       "0  0.000000  0.435087  0.435087  0.435087  0.00000  0.0000  0.657341  0.000000\n",
       "1  0.000000  0.387139  0.387139  0.387139  0.74187  0.0000  0.000000  0.000000\n",
       "2  0.788199  0.205658  0.205658  0.205658  0.00000  0.3941  0.000000  0.310713\n",
       "3  0.000000  0.106931  0.106931  0.106931  0.00000  0.0000  0.969328  0.161555"
      ]
     },
     "execution_count": 282,
     "metadata": {},
     "output_type": "execute_result"
    }
   ],
   "source": [
    "data_T = pd.DataFrame(data_T.toarray(), columns=vect.get_feature_names_out())\n",
    "data_T"
   ]
  },
  {
   "cell_type": "code",
   "execution_count": 283,
   "id": "8b10440d",
   "metadata": {},
   "outputs": [
    {
     "data": {
      "text/html": [
       "<div>\n",
       "<style scoped>\n",
       "    .dataframe tbody tr th:only-of-type {\n",
       "        vertical-align: middle;\n",
       "    }\n",
       "\n",
       "    .dataframe tbody tr th {\n",
       "        vertical-align: top;\n",
       "    }\n",
       "\n",
       "    .dataframe thead th {\n",
       "        text-align: right;\n",
       "    }\n",
       "</style>\n",
       "<table border=\"1\" class=\"dataframe\">\n",
       "  <thead>\n",
       "    <tr style=\"text-align: right;\">\n",
       "      <th></th>\n",
       "      <th>count</th>\n",
       "      <th>mean</th>\n",
       "      <th>std</th>\n",
       "      <th>min</th>\n",
       "      <th>25%</th>\n",
       "      <th>50%</th>\n",
       "      <th>75%</th>\n",
       "      <th>max</th>\n",
       "    </tr>\n",
       "  </thead>\n",
       "  <tbody>\n",
       "    <tr>\n",
       "      <th>vert</th>\n",
       "      <td>4.0</td>\n",
       "      <td>0.406667</td>\n",
       "      <td>0.486546</td>\n",
       "      <td>0.000000</td>\n",
       "      <td>0.000000</td>\n",
       "      <td>0.328671</td>\n",
       "      <td>0.735338</td>\n",
       "      <td>0.969328</td>\n",
       "    </tr>\n",
       "    <tr>\n",
       "      <th>bleu</th>\n",
       "      <td>4.0</td>\n",
       "      <td>0.197050</td>\n",
       "      <td>0.394100</td>\n",
       "      <td>0.000000</td>\n",
       "      <td>0.000000</td>\n",
       "      <td>0.000000</td>\n",
       "      <td>0.197050</td>\n",
       "      <td>0.788199</td>\n",
       "    </tr>\n",
       "    <tr>\n",
       "      <th>rouge</th>\n",
       "      <td>4.0</td>\n",
       "      <td>0.185468</td>\n",
       "      <td>0.370935</td>\n",
       "      <td>0.000000</td>\n",
       "      <td>0.000000</td>\n",
       "      <td>0.000000</td>\n",
       "      <td>0.185468</td>\n",
       "      <td>0.741870</td>\n",
       "    </tr>\n",
       "    <tr>\n",
       "      <th>très</th>\n",
       "      <td>4.0</td>\n",
       "      <td>0.098525</td>\n",
       "      <td>0.197050</td>\n",
       "      <td>0.000000</td>\n",
       "      <td>0.000000</td>\n",
       "      <td>0.000000</td>\n",
       "      <td>0.098525</td>\n",
       "      <td>0.394100</td>\n",
       "    </tr>\n",
       "    <tr>\n",
       "      <th>chien</th>\n",
       "      <td>4.0</td>\n",
       "      <td>0.283704</td>\n",
       "      <td>0.153791</td>\n",
       "      <td>0.106931</td>\n",
       "      <td>0.180976</td>\n",
       "      <td>0.296398</td>\n",
       "      <td>0.399126</td>\n",
       "      <td>0.435087</td>\n",
       "    </tr>\n",
       "    <tr>\n",
       "      <th>est</th>\n",
       "      <td>4.0</td>\n",
       "      <td>0.283704</td>\n",
       "      <td>0.153791</td>\n",
       "      <td>0.106931</td>\n",
       "      <td>0.180976</td>\n",
       "      <td>0.296398</td>\n",
       "      <td>0.399126</td>\n",
       "      <td>0.435087</td>\n",
       "    </tr>\n",
       "    <tr>\n",
       "      <th>le</th>\n",
       "      <td>4.0</td>\n",
       "      <td>0.283704</td>\n",
       "      <td>0.153791</td>\n",
       "      <td>0.106931</td>\n",
       "      <td>0.180976</td>\n",
       "      <td>0.296398</td>\n",
       "      <td>0.399126</td>\n",
       "      <td>0.435087</td>\n",
       "    </tr>\n",
       "    <tr>\n",
       "      <th>vraiment</th>\n",
       "      <td>4.0</td>\n",
       "      <td>0.118067</td>\n",
       "      <td>0.149313</td>\n",
       "      <td>0.000000</td>\n",
       "      <td>0.000000</td>\n",
       "      <td>0.080777</td>\n",
       "      <td>0.198844</td>\n",
       "      <td>0.310713</td>\n",
       "    </tr>\n",
       "  </tbody>\n",
       "</table>\n",
       "</div>"
      ],
      "text/plain": [
       "          count      mean       std       min       25%       50%       75%  \\\n",
       "vert        4.0  0.406667  0.486546  0.000000  0.000000  0.328671  0.735338   \n",
       "bleu        4.0  0.197050  0.394100  0.000000  0.000000  0.000000  0.197050   \n",
       "rouge       4.0  0.185468  0.370935  0.000000  0.000000  0.000000  0.185468   \n",
       "très        4.0  0.098525  0.197050  0.000000  0.000000  0.000000  0.098525   \n",
       "chien       4.0  0.283704  0.153791  0.106931  0.180976  0.296398  0.399126   \n",
       "est         4.0  0.283704  0.153791  0.106931  0.180976  0.296398  0.399126   \n",
       "le          4.0  0.283704  0.153791  0.106931  0.180976  0.296398  0.399126   \n",
       "vraiment    4.0  0.118067  0.149313  0.000000  0.000000  0.080777  0.198844   \n",
       "\n",
       "               max  \n",
       "vert      0.969328  \n",
       "bleu      0.788199  \n",
       "rouge     0.741870  \n",
       "très      0.394100  \n",
       "chien     0.435087  \n",
       "est       0.435087  \n",
       "le        0.435087  \n",
       "vraiment  0.310713  "
      ]
     },
     "execution_count": 283,
     "metadata": {},
     "output_type": "execute_result"
    }
   ],
   "source": [
    "data_T.describe().T.sort_values(\"std\", ascending=False)"
   ]
  },
  {
   "cell_type": "code",
   "execution_count": 284,
   "id": "3ada5a74",
   "metadata": {},
   "outputs": [
    {
     "data": {
      "text/html": [
       "<div>\n",
       "<style scoped>\n",
       "    .dataframe tbody tr th:only-of-type {\n",
       "        vertical-align: middle;\n",
       "    }\n",
       "\n",
       "    .dataframe tbody tr th {\n",
       "        vertical-align: top;\n",
       "    }\n",
       "\n",
       "    .dataframe thead th {\n",
       "        text-align: right;\n",
       "    }\n",
       "</style>\n",
       "<table border=\"1\" class=\"dataframe\">\n",
       "  <thead>\n",
       "    <tr style=\"text-align: right;\">\n",
       "      <th></th>\n",
       "      <th>count</th>\n",
       "      <th>mean</th>\n",
       "      <th>std</th>\n",
       "      <th>min</th>\n",
       "      <th>25%</th>\n",
       "      <th>50%</th>\n",
       "      <th>75%</th>\n",
       "      <th>max</th>\n",
       "    </tr>\n",
       "  </thead>\n",
       "  <tbody>\n",
       "    <tr>\n",
       "      <th>bleu</th>\n",
       "      <td>4.0</td>\n",
       "      <td>-0.000025</td>\n",
       "      <td>1.154750</td>\n",
       "      <td>-0.5774</td>\n",
       "      <td>-0.5774</td>\n",
       "      <td>-0.5774</td>\n",
       "      <td>-0.000025</td>\n",
       "      <td>1.7321</td>\n",
       "    </tr>\n",
       "    <tr>\n",
       "      <th>rouge</th>\n",
       "      <td>4.0</td>\n",
       "      <td>-0.000025</td>\n",
       "      <td>1.154750</td>\n",
       "      <td>-0.5774</td>\n",
       "      <td>-0.5774</td>\n",
       "      <td>-0.5774</td>\n",
       "      <td>-0.000025</td>\n",
       "      <td>1.7321</td>\n",
       "    </tr>\n",
       "    <tr>\n",
       "      <th>très</th>\n",
       "      <td>4.0</td>\n",
       "      <td>-0.000025</td>\n",
       "      <td>1.154750</td>\n",
       "      <td>-0.5774</td>\n",
       "      <td>-0.5774</td>\n",
       "      <td>-0.5774</td>\n",
       "      <td>-0.000025</td>\n",
       "      <td>1.7321</td>\n",
       "    </tr>\n",
       "    <tr>\n",
       "      <th>vraiment</th>\n",
       "      <td>4.0</td>\n",
       "      <td>-0.000025</td>\n",
       "      <td>1.154716</td>\n",
       "      <td>-0.9131</td>\n",
       "      <td>-0.9131</td>\n",
       "      <td>-0.2884</td>\n",
       "      <td>0.624675</td>\n",
       "      <td>1.4898</td>\n",
       "    </tr>\n",
       "    <tr>\n",
       "      <th>chien</th>\n",
       "      <td>4.0</td>\n",
       "      <td>0.000000</td>\n",
       "      <td>1.154675</td>\n",
       "      <td>-1.3272</td>\n",
       "      <td>-0.7713</td>\n",
       "      <td>0.0953</td>\n",
       "      <td>0.866600</td>\n",
       "      <td>1.1366</td>\n",
       "    </tr>\n",
       "    <tr>\n",
       "      <th>est</th>\n",
       "      <td>4.0</td>\n",
       "      <td>0.000000</td>\n",
       "      <td>1.154675</td>\n",
       "      <td>-1.3272</td>\n",
       "      <td>-0.7713</td>\n",
       "      <td>0.0953</td>\n",
       "      <td>0.866600</td>\n",
       "      <td>1.1366</td>\n",
       "    </tr>\n",
       "    <tr>\n",
       "      <th>le</th>\n",
       "      <td>4.0</td>\n",
       "      <td>0.000000</td>\n",
       "      <td>1.154675</td>\n",
       "      <td>-1.3272</td>\n",
       "      <td>-0.7713</td>\n",
       "      <td>0.0953</td>\n",
       "      <td>0.866600</td>\n",
       "      <td>1.1366</td>\n",
       "    </tr>\n",
       "    <tr>\n",
       "      <th>vert</th>\n",
       "      <td>4.0</td>\n",
       "      <td>0.000000</td>\n",
       "      <td>1.154667</td>\n",
       "      <td>-0.9651</td>\n",
       "      <td>-0.9651</td>\n",
       "      <td>-0.1851</td>\n",
       "      <td>0.780000</td>\n",
       "      <td>1.3353</td>\n",
       "    </tr>\n",
       "  </tbody>\n",
       "</table>\n",
       "</div>"
      ],
      "text/plain": [
       "          count      mean       std     min     25%     50%       75%     max\n",
       "bleu        4.0 -0.000025  1.154750 -0.5774 -0.5774 -0.5774 -0.000025  1.7321\n",
       "rouge       4.0 -0.000025  1.154750 -0.5774 -0.5774 -0.5774 -0.000025  1.7321\n",
       "très        4.0 -0.000025  1.154750 -0.5774 -0.5774 -0.5774 -0.000025  1.7321\n",
       "vraiment    4.0 -0.000025  1.154716 -0.9131 -0.9131 -0.2884  0.624675  1.4898\n",
       "chien       4.0  0.000000  1.154675 -1.3272 -0.7713  0.0953  0.866600  1.1366\n",
       "est         4.0  0.000000  1.154675 -1.3272 -0.7713  0.0953  0.866600  1.1366\n",
       "le          4.0  0.000000  1.154675 -1.3272 -0.7713  0.0953  0.866600  1.1366\n",
       "vert        4.0  0.000000  1.154667 -0.9651 -0.9651 -0.1851  0.780000  1.3353"
      ]
     },
     "execution_count": 284,
     "metadata": {},
     "output_type": "execute_result"
    }
   ],
   "source": [
    "scaler = StandardScaler()\n",
    "data_t_scaled = scaler.fit_transform(data_T)\n",
    "data_t_scaled = pd.DataFrame(data_t_scaled, columns=vect.get_feature_names_out()).round(4)\n",
    "data_t_scaled.describe().T.sort_values(\"std\", ascending=False)"
   ]
  },
  {
   "cell_type": "code",
   "execution_count": 285,
   "id": "41b6b1eb",
   "metadata": {},
   "outputs": [
    {
     "data": {
      "text/html": [
       "<div>\n",
       "<style scoped>\n",
       "    .dataframe tbody tr th:only-of-type {\n",
       "        vertical-align: middle;\n",
       "    }\n",
       "\n",
       "    .dataframe tbody tr th {\n",
       "        vertical-align: top;\n",
       "    }\n",
       "\n",
       "    .dataframe thead th {\n",
       "        text-align: right;\n",
       "    }\n",
       "</style>\n",
       "<table border=\"1\" class=\"dataframe\">\n",
       "  <thead>\n",
       "    <tr style=\"text-align: right;\">\n",
       "      <th></th>\n",
       "      <th>aba</th>\n",
       "      <th>abandon</th>\n",
       "      <th>abl</th>\n",
       "      <th>ablaz</th>\n",
       "      <th>absolut</th>\n",
       "      <th>absurdli</th>\n",
       "      <th>access</th>\n",
       "      <th>accid</th>\n",
       "      <th>accident</th>\n",
       "      <th>accord</th>\n",
       "      <th>...</th>\n",
       "      <th>year</th>\n",
       "      <th>yelp</th>\n",
       "      <th>yesterday</th>\n",
       "      <th>yet</th>\n",
       "      <th>york</th>\n",
       "      <th>young</th>\n",
       "      <th>youth</th>\n",
       "      <th>yr</th>\n",
       "      <th>zombi</th>\n",
       "      <th>zone</th>\n",
       "    </tr>\n",
       "  </thead>\n",
       "  <tbody>\n",
       "    <tr>\n",
       "      <th>0</th>\n",
       "      <td>0.0</td>\n",
       "      <td>0.0</td>\n",
       "      <td>0.0</td>\n",
       "      <td>0.0</td>\n",
       "      <td>0.0</td>\n",
       "      <td>0.0</td>\n",
       "      <td>0.0</td>\n",
       "      <td>0.0</td>\n",
       "      <td>0.0</td>\n",
       "      <td>0.0</td>\n",
       "      <td>...</td>\n",
       "      <td>0.0</td>\n",
       "      <td>0.0</td>\n",
       "      <td>0.0</td>\n",
       "      <td>0.0</td>\n",
       "      <td>0.0</td>\n",
       "      <td>0.0</td>\n",
       "      <td>0.0</td>\n",
       "      <td>0.0</td>\n",
       "      <td>0.0</td>\n",
       "      <td>0.0</td>\n",
       "    </tr>\n",
       "    <tr>\n",
       "      <th>1</th>\n",
       "      <td>0.0</td>\n",
       "      <td>0.0</td>\n",
       "      <td>0.0</td>\n",
       "      <td>0.0</td>\n",
       "      <td>0.0</td>\n",
       "      <td>0.0</td>\n",
       "      <td>0.0</td>\n",
       "      <td>0.0</td>\n",
       "      <td>0.0</td>\n",
       "      <td>0.0</td>\n",
       "      <td>...</td>\n",
       "      <td>0.0</td>\n",
       "      <td>0.0</td>\n",
       "      <td>0.0</td>\n",
       "      <td>0.0</td>\n",
       "      <td>0.0</td>\n",
       "      <td>0.0</td>\n",
       "      <td>0.0</td>\n",
       "      <td>0.0</td>\n",
       "      <td>0.0</td>\n",
       "      <td>0.0</td>\n",
       "    </tr>\n",
       "    <tr>\n",
       "      <th>2</th>\n",
       "      <td>0.0</td>\n",
       "      <td>0.0</td>\n",
       "      <td>0.0</td>\n",
       "      <td>0.0</td>\n",
       "      <td>0.0</td>\n",
       "      <td>0.0</td>\n",
       "      <td>0.0</td>\n",
       "      <td>0.0</td>\n",
       "      <td>0.0</td>\n",
       "      <td>0.0</td>\n",
       "      <td>...</td>\n",
       "      <td>0.0</td>\n",
       "      <td>0.0</td>\n",
       "      <td>0.0</td>\n",
       "      <td>0.0</td>\n",
       "      <td>0.0</td>\n",
       "      <td>0.0</td>\n",
       "      <td>0.0</td>\n",
       "      <td>0.0</td>\n",
       "      <td>0.0</td>\n",
       "      <td>0.0</td>\n",
       "    </tr>\n",
       "    <tr>\n",
       "      <th>3</th>\n",
       "      <td>0.0</td>\n",
       "      <td>0.0</td>\n",
       "      <td>0.0</td>\n",
       "      <td>0.0</td>\n",
       "      <td>0.0</td>\n",
       "      <td>0.0</td>\n",
       "      <td>0.0</td>\n",
       "      <td>0.0</td>\n",
       "      <td>0.0</td>\n",
       "      <td>0.0</td>\n",
       "      <td>...</td>\n",
       "      <td>0.0</td>\n",
       "      <td>0.0</td>\n",
       "      <td>0.0</td>\n",
       "      <td>0.0</td>\n",
       "      <td>0.0</td>\n",
       "      <td>0.0</td>\n",
       "      <td>0.0</td>\n",
       "      <td>0.0</td>\n",
       "      <td>0.0</td>\n",
       "      <td>0.0</td>\n",
       "    </tr>\n",
       "    <tr>\n",
       "      <th>4</th>\n",
       "      <td>0.0</td>\n",
       "      <td>0.0</td>\n",
       "      <td>0.0</td>\n",
       "      <td>0.0</td>\n",
       "      <td>0.0</td>\n",
       "      <td>0.0</td>\n",
       "      <td>0.0</td>\n",
       "      <td>0.0</td>\n",
       "      <td>0.0</td>\n",
       "      <td>0.0</td>\n",
       "      <td>...</td>\n",
       "      <td>0.0</td>\n",
       "      <td>0.0</td>\n",
       "      <td>0.0</td>\n",
       "      <td>0.0</td>\n",
       "      <td>0.0</td>\n",
       "      <td>0.0</td>\n",
       "      <td>0.0</td>\n",
       "      <td>0.0</td>\n",
       "      <td>0.0</td>\n",
       "      <td>0.0</td>\n",
       "    </tr>\n",
       "  </tbody>\n",
       "</table>\n",
       "<p>5 rows × 1615 columns</p>\n",
       "</div>"
      ],
      "text/plain": [
       "   aba  abandon  abl  ablaz  absolut  absurdli  access  accid  accident  \\\n",
       "0  0.0      0.0  0.0    0.0      0.0       0.0     0.0    0.0       0.0   \n",
       "1  0.0      0.0  0.0    0.0      0.0       0.0     0.0    0.0       0.0   \n",
       "2  0.0      0.0  0.0    0.0      0.0       0.0     0.0    0.0       0.0   \n",
       "3  0.0      0.0  0.0    0.0      0.0       0.0     0.0    0.0       0.0   \n",
       "4  0.0      0.0  0.0    0.0      0.0       0.0     0.0    0.0       0.0   \n",
       "\n",
       "   accord  ...  year  yelp  yesterday  yet  york  young  youth   yr  zombi  \\\n",
       "0     0.0  ...   0.0   0.0        0.0  0.0   0.0    0.0    0.0  0.0    0.0   \n",
       "1     0.0  ...   0.0   0.0        0.0  0.0   0.0    0.0    0.0  0.0    0.0   \n",
       "2     0.0  ...   0.0   0.0        0.0  0.0   0.0    0.0    0.0  0.0    0.0   \n",
       "3     0.0  ...   0.0   0.0        0.0  0.0   0.0    0.0    0.0  0.0    0.0   \n",
       "4     0.0  ...   0.0   0.0        0.0  0.0   0.0    0.0    0.0  0.0    0.0   \n",
       "\n",
       "   zone  \n",
       "0   0.0  \n",
       "1   0.0  \n",
       "2   0.0  \n",
       "3   0.0  \n",
       "4   0.0  \n",
       "\n",
       "[5 rows x 1615 columns]"
      ]
     },
     "execution_count": 285,
     "metadata": {},
     "output_type": "execute_result"
    }
   ],
   "source": [
    "vect = TfidfVectorizer()\n",
    "X_train_t = vect.fit_transform(X_train)\n",
    "X_train_t = pd.DataFrame(X_train_t.toarray(), columns=vect.get_feature_names_out())\n",
    "X_train_t.head()"
   ]
  },
  {
   "cell_type": "code",
   "execution_count": 286,
   "id": "544144ef",
   "metadata": {},
   "outputs": [
    {
     "data": {
      "text/plain": [
       "(5586, 1615)"
      ]
     },
     "execution_count": 286,
     "metadata": {},
     "output_type": "execute_result"
    }
   ],
   "source": [
    "X_train_t.shape"
   ]
  },
  {
   "cell_type": "code",
   "execution_count": 287,
   "id": "dd3f5280",
   "metadata": {},
   "outputs": [
    {
     "data": {
      "text/html": [
       "<div>\n",
       "<style scoped>\n",
       "    .dataframe tbody tr th:only-of-type {\n",
       "        vertical-align: middle;\n",
       "    }\n",
       "\n",
       "    .dataframe tbody tr th {\n",
       "        vertical-align: top;\n",
       "    }\n",
       "\n",
       "    .dataframe thead th {\n",
       "        text-align: right;\n",
       "    }\n",
       "</style>\n",
       "<table border=\"1\" class=\"dataframe\">\n",
       "  <thead>\n",
       "    <tr style=\"text-align: right;\">\n",
       "      <th></th>\n",
       "      <th>aba</th>\n",
       "      <th>abandon</th>\n",
       "      <th>abl</th>\n",
       "      <th>ablaz</th>\n",
       "      <th>absolut</th>\n",
       "      <th>absurdli</th>\n",
       "      <th>access</th>\n",
       "      <th>accid</th>\n",
       "      <th>accident</th>\n",
       "      <th>accord</th>\n",
       "      <th>...</th>\n",
       "      <th>year</th>\n",
       "      <th>yelp</th>\n",
       "      <th>yesterday</th>\n",
       "      <th>yet</th>\n",
       "      <th>york</th>\n",
       "      <th>young</th>\n",
       "      <th>youth</th>\n",
       "      <th>yr</th>\n",
       "      <th>zombi</th>\n",
       "      <th>zone</th>\n",
       "    </tr>\n",
       "  </thead>\n",
       "  <tbody>\n",
       "    <tr>\n",
       "      <th>0</th>\n",
       "      <td>0.0</td>\n",
       "      <td>0.0</td>\n",
       "      <td>0.0</td>\n",
       "      <td>0.0</td>\n",
       "      <td>0.0</td>\n",
       "      <td>0.0</td>\n",
       "      <td>0.0</td>\n",
       "      <td>0.0</td>\n",
       "      <td>0.0</td>\n",
       "      <td>0.0</td>\n",
       "      <td>...</td>\n",
       "      <td>0.0</td>\n",
       "      <td>0.0</td>\n",
       "      <td>0.0</td>\n",
       "      <td>0.0</td>\n",
       "      <td>0.0</td>\n",
       "      <td>0.0</td>\n",
       "      <td>0.0</td>\n",
       "      <td>0.0</td>\n",
       "      <td>0.0</td>\n",
       "      <td>0.0</td>\n",
       "    </tr>\n",
       "    <tr>\n",
       "      <th>1</th>\n",
       "      <td>0.0</td>\n",
       "      <td>0.0</td>\n",
       "      <td>0.0</td>\n",
       "      <td>0.0</td>\n",
       "      <td>0.0</td>\n",
       "      <td>0.0</td>\n",
       "      <td>0.0</td>\n",
       "      <td>0.0</td>\n",
       "      <td>0.0</td>\n",
       "      <td>0.0</td>\n",
       "      <td>...</td>\n",
       "      <td>0.0</td>\n",
       "      <td>0.0</td>\n",
       "      <td>0.0</td>\n",
       "      <td>0.0</td>\n",
       "      <td>0.0</td>\n",
       "      <td>0.0</td>\n",
       "      <td>0.0</td>\n",
       "      <td>0.0</td>\n",
       "      <td>0.0</td>\n",
       "      <td>0.0</td>\n",
       "    </tr>\n",
       "    <tr>\n",
       "      <th>2</th>\n",
       "      <td>0.0</td>\n",
       "      <td>0.0</td>\n",
       "      <td>0.0</td>\n",
       "      <td>0.0</td>\n",
       "      <td>0.0</td>\n",
       "      <td>0.0</td>\n",
       "      <td>0.0</td>\n",
       "      <td>0.0</td>\n",
       "      <td>0.0</td>\n",
       "      <td>0.0</td>\n",
       "      <td>...</td>\n",
       "      <td>0.0</td>\n",
       "      <td>0.0</td>\n",
       "      <td>0.0</td>\n",
       "      <td>0.0</td>\n",
       "      <td>0.0</td>\n",
       "      <td>0.0</td>\n",
       "      <td>0.0</td>\n",
       "      <td>0.0</td>\n",
       "      <td>0.0</td>\n",
       "      <td>0.0</td>\n",
       "    </tr>\n",
       "    <tr>\n",
       "      <th>3</th>\n",
       "      <td>0.0</td>\n",
       "      <td>0.0</td>\n",
       "      <td>0.0</td>\n",
       "      <td>0.0</td>\n",
       "      <td>0.0</td>\n",
       "      <td>0.0</td>\n",
       "      <td>0.0</td>\n",
       "      <td>0.0</td>\n",
       "      <td>0.0</td>\n",
       "      <td>0.0</td>\n",
       "      <td>...</td>\n",
       "      <td>0.0</td>\n",
       "      <td>0.0</td>\n",
       "      <td>0.0</td>\n",
       "      <td>0.0</td>\n",
       "      <td>0.0</td>\n",
       "      <td>0.0</td>\n",
       "      <td>0.0</td>\n",
       "      <td>0.0</td>\n",
       "      <td>0.0</td>\n",
       "      <td>0.0</td>\n",
       "    </tr>\n",
       "    <tr>\n",
       "      <th>4</th>\n",
       "      <td>0.0</td>\n",
       "      <td>0.0</td>\n",
       "      <td>0.0</td>\n",
       "      <td>0.0</td>\n",
       "      <td>0.0</td>\n",
       "      <td>0.0</td>\n",
       "      <td>0.0</td>\n",
       "      <td>0.0</td>\n",
       "      <td>0.0</td>\n",
       "      <td>0.0</td>\n",
       "      <td>...</td>\n",
       "      <td>0.0</td>\n",
       "      <td>0.0</td>\n",
       "      <td>0.0</td>\n",
       "      <td>0.0</td>\n",
       "      <td>0.0</td>\n",
       "      <td>0.0</td>\n",
       "      <td>0.0</td>\n",
       "      <td>0.0</td>\n",
       "      <td>0.0</td>\n",
       "      <td>0.0</td>\n",
       "    </tr>\n",
       "  </tbody>\n",
       "</table>\n",
       "<p>5 rows × 1615 columns</p>\n",
       "</div>"
      ],
      "text/plain": [
       "   aba  abandon  abl  ablaz  absolut  absurdli  access  accid  accident  \\\n",
       "0  0.0      0.0  0.0    0.0      0.0       0.0     0.0    0.0       0.0   \n",
       "1  0.0      0.0  0.0    0.0      0.0       0.0     0.0    0.0       0.0   \n",
       "2  0.0      0.0  0.0    0.0      0.0       0.0     0.0    0.0       0.0   \n",
       "3  0.0      0.0  0.0    0.0      0.0       0.0     0.0    0.0       0.0   \n",
       "4  0.0      0.0  0.0    0.0      0.0       0.0     0.0    0.0       0.0   \n",
       "\n",
       "   accord  ...  year  yelp  yesterday  yet  york  young  youth   yr  zombi  \\\n",
       "0     0.0  ...   0.0   0.0        0.0  0.0   0.0    0.0    0.0  0.0    0.0   \n",
       "1     0.0  ...   0.0   0.0        0.0  0.0   0.0    0.0    0.0  0.0    0.0   \n",
       "2     0.0  ...   0.0   0.0        0.0  0.0   0.0    0.0    0.0  0.0    0.0   \n",
       "3     0.0  ...   0.0   0.0        0.0  0.0   0.0    0.0    0.0  0.0    0.0   \n",
       "4     0.0  ...   0.0   0.0        0.0  0.0   0.0    0.0    0.0  0.0    0.0   \n",
       "\n",
       "   zone  \n",
       "0   0.0  \n",
       "1   0.0  \n",
       "2   0.0  \n",
       "3   0.0  \n",
       "4   0.0  \n",
       "\n",
       "[5 rows x 1615 columns]"
      ]
     },
     "execution_count": 287,
     "metadata": {},
     "output_type": "execute_result"
    }
   ],
   "source": [
    "X_test_t = vect.transform(X_test)\n",
    "X_test_t = pd.DataFrame(X_test_t.toarray(), columns=vect.get_feature_names_out())\n",
    "X_test_t.head()"
   ]
  },
  {
   "cell_type": "code",
   "execution_count": 288,
   "id": "53d8e6d0",
   "metadata": {},
   "outputs": [
    {
     "data": {
      "text/plain": [
       "(1863, 1615)"
      ]
     },
     "execution_count": 288,
     "metadata": {},
     "output_type": "execute_result"
    }
   ],
   "source": [
    "X_test_t.shape"
   ]
  },
  {
   "cell_type": "markdown",
   "id": "d5ca41f4",
   "metadata": {},
   "source": [
    "# 3. Modelisation"
   ]
  },
  {
   "cell_type": "markdown",
   "id": "8e00ebb7",
   "metadata": {},
   "source": [
    "## 3.1 Raw Modelisation"
   ]
  },
  {
   "cell_type": "code",
   "execution_count": 289,
   "id": "3ad8776a",
   "metadata": {},
   "outputs": [],
   "source": [
    "estimator = KNeighborsClassifier()\n",
    "param_grid = {}\n",
    "cv = 10"
   ]
  },
  {
   "cell_type": "code",
   "execution_count": 290,
   "id": "3368d5d4",
   "metadata": {},
   "outputs": [],
   "source": [
    "grid = GridSearchCV(estimator, \n",
    "                    param_grid, \n",
    "                    cv=cv, \n",
    "                    n_jobs=-1, \n",
    "                    return_train_score=True, \n",
    "                    verbose=1)\n",
    "\n",
    "# grid.fit(X_train_c, y_train)"
   ]
  },
  {
   "cell_type": "code",
   "execution_count": 291,
   "id": "b59a195c",
   "metadata": {},
   "outputs": [],
   "source": [
    "def modelize(X_,\n",
    "             y_, \n",
    "             estimator, \n",
    "             param_grid={},\n",
    "             cv=10): \n",
    "    \n",
    "    grid = GridSearchCV(estimator, \n",
    "                        param_grid, \n",
    "                        cv=cv, \n",
    "                        n_jobs=-1, \n",
    "                        return_train_score=True, \n",
    "                        verbose=1)\n",
    "\n",
    "    grid.fit(X_, y_)\n",
    "    \n",
    "    return grid\n",
    "    "
   ]
  },
  {
   "cell_type": "code",
   "execution_count": 292,
   "id": "956f9aac",
   "metadata": {},
   "outputs": [
    {
     "name": "stdout",
     "output_type": "stream",
     "text": [
      "Fitting 10 folds for each of 1 candidates, totalling 10 fits\n"
     ]
    }
   ],
   "source": [
    "grid = modelize(X_train_c, y_train, estimator)"
   ]
  },
  {
   "cell_type": "code",
   "execution_count": 293,
   "id": "b6696a77",
   "metadata": {},
   "outputs": [
    {
     "data": {
      "text/html": [
       "<div>\n",
       "<style scoped>\n",
       "    .dataframe tbody tr th:only-of-type {\n",
       "        vertical-align: middle;\n",
       "    }\n",
       "\n",
       "    .dataframe tbody tr th {\n",
       "        vertical-align: top;\n",
       "    }\n",
       "\n",
       "    .dataframe thead th {\n",
       "        text-align: right;\n",
       "    }\n",
       "</style>\n",
       "<table border=\"1\" class=\"dataframe\">\n",
       "  <thead>\n",
       "    <tr style=\"text-align: right;\">\n",
       "      <th></th>\n",
       "      <th>mean_fit_time</th>\n",
       "      <th>std_fit_time</th>\n",
       "      <th>mean_score_time</th>\n",
       "      <th>std_score_time</th>\n",
       "      <th>params</th>\n",
       "      <th>mean_test_score</th>\n",
       "      <th>std_test_score</th>\n",
       "      <th>rank_test_score</th>\n",
       "      <th>mean_train_score</th>\n",
       "      <th>std_train_score</th>\n",
       "    </tr>\n",
       "  </thead>\n",
       "  <tbody>\n",
       "    <tr>\n",
       "      <th>0</th>\n",
       "      <td>0.082512</td>\n",
       "      <td>0.020685</td>\n",
       "      <td>0.651545</td>\n",
       "      <td>0.170312</td>\n",
       "      <td>{}</td>\n",
       "      <td>0.728247</td>\n",
       "      <td>0.012474</td>\n",
       "      <td>1</td>\n",
       "      <td>0.804491</td>\n",
       "      <td>0.002113</td>\n",
       "    </tr>\n",
       "  </tbody>\n",
       "</table>\n",
       "</div>"
      ],
      "text/plain": [
       "   mean_fit_time  std_fit_time  mean_score_time  std_score_time params  \\\n",
       "0       0.082512      0.020685         0.651545        0.170312     {}   \n",
       "\n",
       "   mean_test_score  std_test_score  rank_test_score  mean_train_score  \\\n",
       "0         0.728247        0.012474                1          0.804491   \n",
       "\n",
       "   std_train_score  \n",
       "0         0.002113  "
      ]
     },
     "execution_count": 293,
     "metadata": {},
     "output_type": "execute_result"
    }
   ],
   "source": [
    "res = pd.DataFrame(grid.cv_results_)\n",
    "cols = [i for i in res.columns if \"split\" not in i ]\n",
    "res = res[cols]\n",
    "res"
   ]
  },
  {
   "cell_type": "code",
   "execution_count": 294,
   "id": "b0154b25",
   "metadata": {},
   "outputs": [],
   "source": [
    "def resultize(grid) : \n",
    "    \n",
    "    res = pd.DataFrame(grid.cv_results_)\n",
    "    cols = [i for i in res.columns if \"split\" not in i ]\n",
    "    res = res[cols]\n",
    "    \n",
    "    return res.sort_values(\"rank_test_score\")"
   ]
  },
  {
   "cell_type": "code",
   "execution_count": 295,
   "id": "7bbcb555",
   "metadata": {
    "scrolled": true
   },
   "outputs": [
    {
     "data": {
      "text/html": [
       "<div>\n",
       "<style scoped>\n",
       "    .dataframe tbody tr th:only-of-type {\n",
       "        vertical-align: middle;\n",
       "    }\n",
       "\n",
       "    .dataframe tbody tr th {\n",
       "        vertical-align: top;\n",
       "    }\n",
       "\n",
       "    .dataframe thead th {\n",
       "        text-align: right;\n",
       "    }\n",
       "</style>\n",
       "<table border=\"1\" class=\"dataframe\">\n",
       "  <thead>\n",
       "    <tr style=\"text-align: right;\">\n",
       "      <th></th>\n",
       "      <th>mean_fit_time</th>\n",
       "      <th>std_fit_time</th>\n",
       "      <th>mean_score_time</th>\n",
       "      <th>std_score_time</th>\n",
       "      <th>params</th>\n",
       "      <th>mean_test_score</th>\n",
       "      <th>std_test_score</th>\n",
       "      <th>rank_test_score</th>\n",
       "      <th>mean_train_score</th>\n",
       "      <th>std_train_score</th>\n",
       "    </tr>\n",
       "  </thead>\n",
       "  <tbody>\n",
       "    <tr>\n",
       "      <th>0</th>\n",
       "      <td>0.082512</td>\n",
       "      <td>0.020685</td>\n",
       "      <td>0.651545</td>\n",
       "      <td>0.170312</td>\n",
       "      <td>{}</td>\n",
       "      <td>0.728247</td>\n",
       "      <td>0.012474</td>\n",
       "      <td>1</td>\n",
       "      <td>0.804491</td>\n",
       "      <td>0.002113</td>\n",
       "    </tr>\n",
       "  </tbody>\n",
       "</table>\n",
       "</div>"
      ],
      "text/plain": [
       "   mean_fit_time  std_fit_time  mean_score_time  std_score_time params  \\\n",
       "0       0.082512      0.020685         0.651545        0.170312     {}   \n",
       "\n",
       "   mean_test_score  std_test_score  rank_test_score  mean_train_score  \\\n",
       "0         0.728247        0.012474                1          0.804491   \n",
       "\n",
       "   std_train_score  \n",
       "0         0.002113  "
      ]
     },
     "execution_count": 295,
     "metadata": {},
     "output_type": "execute_result"
    }
   ],
   "source": [
    "resultize(grid)"
   ]
  },
  {
   "cell_type": "code",
   "execution_count": null,
   "id": "d7f928b0",
   "metadata": {},
   "outputs": [],
   "source": []
  },
  {
   "cell_type": "code",
   "execution_count": null,
   "id": "15e976cb",
   "metadata": {},
   "outputs": [],
   "source": []
  },
  {
   "cell_type": "code",
   "execution_count": 296,
   "id": "b7d3ab44",
   "metadata": {
    "scrolled": true
   },
   "outputs": [
    {
     "name": "stdout",
     "output_type": "stream",
     "text": [
      "Fitting 10 folds for each of 1 candidates, totalling 10 fits\n"
     ]
    },
    {
     "data": {
      "text/html": [
       "<div>\n",
       "<style scoped>\n",
       "    .dataframe tbody tr th:only-of-type {\n",
       "        vertical-align: middle;\n",
       "    }\n",
       "\n",
       "    .dataframe tbody tr th {\n",
       "        vertical-align: top;\n",
       "    }\n",
       "\n",
       "    .dataframe thead th {\n",
       "        text-align: right;\n",
       "    }\n",
       "</style>\n",
       "<table border=\"1\" class=\"dataframe\">\n",
       "  <thead>\n",
       "    <tr style=\"text-align: right;\">\n",
       "      <th></th>\n",
       "      <th>mean_fit_time</th>\n",
       "      <th>std_fit_time</th>\n",
       "      <th>mean_score_time</th>\n",
       "      <th>std_score_time</th>\n",
       "      <th>params</th>\n",
       "      <th>mean_test_score</th>\n",
       "      <th>std_test_score</th>\n",
       "      <th>rank_test_score</th>\n",
       "      <th>mean_train_score</th>\n",
       "      <th>std_train_score</th>\n",
       "    </tr>\n",
       "  </thead>\n",
       "  <tbody>\n",
       "    <tr>\n",
       "      <th>0</th>\n",
       "      <td>0.050116</td>\n",
       "      <td>0.004804</td>\n",
       "      <td>0.616718</td>\n",
       "      <td>0.140679</td>\n",
       "      <td>{}</td>\n",
       "      <td>0.728247</td>\n",
       "      <td>0.012474</td>\n",
       "      <td>1</td>\n",
       "      <td>0.804491</td>\n",
       "      <td>0.002113</td>\n",
       "    </tr>\n",
       "  </tbody>\n",
       "</table>\n",
       "</div>"
      ],
      "text/plain": [
       "   mean_fit_time  std_fit_time  mean_score_time  std_score_time params  \\\n",
       "0       0.050116      0.004804         0.616718        0.140679     {}   \n",
       "\n",
       "   mean_test_score  std_test_score  rank_test_score  mean_train_score  \\\n",
       "0         0.728247        0.012474                1          0.804491   \n",
       "\n",
       "   std_train_score  \n",
       "0         0.002113  "
      ]
     },
     "execution_count": 296,
     "metadata": {},
     "output_type": "execute_result"
    }
   ],
   "source": [
    "grid = modelize(X_train_c, y_train, estimator)\n",
    "resultize(grid)"
   ]
  },
  {
   "cell_type": "code",
   "execution_count": 297,
   "id": "75032e84",
   "metadata": {},
   "outputs": [
    {
     "name": "stdout",
     "output_type": "stream",
     "text": [
      "Fitting 10 folds for each of 1 candidates, totalling 10 fits\n"
     ]
    },
    {
     "data": {
      "text/html": [
       "<div>\n",
       "<style scoped>\n",
       "    .dataframe tbody tr th:only-of-type {\n",
       "        vertical-align: middle;\n",
       "    }\n",
       "\n",
       "    .dataframe tbody tr th {\n",
       "        vertical-align: top;\n",
       "    }\n",
       "\n",
       "    .dataframe thead th {\n",
       "        text-align: right;\n",
       "    }\n",
       "</style>\n",
       "<table border=\"1\" class=\"dataframe\">\n",
       "  <thead>\n",
       "    <tr style=\"text-align: right;\">\n",
       "      <th></th>\n",
       "      <th>mean_fit_time</th>\n",
       "      <th>std_fit_time</th>\n",
       "      <th>mean_score_time</th>\n",
       "      <th>std_score_time</th>\n",
       "      <th>params</th>\n",
       "      <th>mean_test_score</th>\n",
       "      <th>std_test_score</th>\n",
       "      <th>rank_test_score</th>\n",
       "      <th>mean_train_score</th>\n",
       "      <th>std_train_score</th>\n",
       "    </tr>\n",
       "  </thead>\n",
       "  <tbody>\n",
       "    <tr>\n",
       "      <th>0</th>\n",
       "      <td>0.049425</td>\n",
       "      <td>0.008688</td>\n",
       "      <td>0.500632</td>\n",
       "      <td>0.116131</td>\n",
       "      <td>{}</td>\n",
       "      <td>0.75939</td>\n",
       "      <td>0.026217</td>\n",
       "      <td>1</td>\n",
       "      <td>0.827306</td>\n",
       "      <td>0.002304</td>\n",
       "    </tr>\n",
       "  </tbody>\n",
       "</table>\n",
       "</div>"
      ],
      "text/plain": [
       "   mean_fit_time  std_fit_time  mean_score_time  std_score_time params  \\\n",
       "0       0.049425      0.008688         0.500632        0.116131     {}   \n",
       "\n",
       "   mean_test_score  std_test_score  rank_test_score  mean_train_score  \\\n",
       "0          0.75939        0.026217                1          0.827306   \n",
       "\n",
       "   std_train_score  \n",
       "0         0.002304  "
      ]
     },
     "execution_count": 297,
     "metadata": {},
     "output_type": "execute_result"
    }
   ],
   "source": [
    "grid = modelize(X_train_t, y_train, estimator)\n",
    "resultize(grid)"
   ]
  },
  {
   "cell_type": "markdown",
   "id": "4b9fd7a8",
   "metadata": {},
   "source": [
    "## 3.2 With scaled data"
   ]
  },
  {
   "cell_type": "code",
   "execution_count": 298,
   "id": "1aee4b81",
   "metadata": {},
   "outputs": [
    {
     "name": "stdout",
     "output_type": "stream",
     "text": [
      "Fitting 10 folds for each of 1 candidates, totalling 10 fits\n"
     ]
    },
    {
     "data": {
      "text/html": [
       "<div>\n",
       "<style scoped>\n",
       "    .dataframe tbody tr th:only-of-type {\n",
       "        vertical-align: middle;\n",
       "    }\n",
       "\n",
       "    .dataframe tbody tr th {\n",
       "        vertical-align: top;\n",
       "    }\n",
       "\n",
       "    .dataframe thead th {\n",
       "        text-align: right;\n",
       "    }\n",
       "</style>\n",
       "<table border=\"1\" class=\"dataframe\">\n",
       "  <thead>\n",
       "    <tr style=\"text-align: right;\">\n",
       "      <th></th>\n",
       "      <th>mean_fit_time</th>\n",
       "      <th>std_fit_time</th>\n",
       "      <th>mean_score_time</th>\n",
       "      <th>std_score_time</th>\n",
       "      <th>params</th>\n",
       "      <th>mean_test_score</th>\n",
       "      <th>std_test_score</th>\n",
       "      <th>rank_test_score</th>\n",
       "      <th>mean_train_score</th>\n",
       "      <th>std_train_score</th>\n",
       "    </tr>\n",
       "  </thead>\n",
       "  <tbody>\n",
       "    <tr>\n",
       "      <th>0</th>\n",
       "      <td>0.046847</td>\n",
       "      <td>0.00719</td>\n",
       "      <td>0.512193</td>\n",
       "      <td>0.085324</td>\n",
       "      <td>{}</td>\n",
       "      <td>0.721441</td>\n",
       "      <td>0.02308</td>\n",
       "      <td>1</td>\n",
       "      <td>0.805864</td>\n",
       "      <td>0.004813</td>\n",
       "    </tr>\n",
       "  </tbody>\n",
       "</table>\n",
       "</div>"
      ],
      "text/plain": [
       "   mean_fit_time  std_fit_time  mean_score_time  std_score_time params  \\\n",
       "0       0.046847       0.00719         0.512193        0.085324     {}   \n",
       "\n",
       "   mean_test_score  std_test_score  rank_test_score  mean_train_score  \\\n",
       "0         0.721441         0.02308                1          0.805864   \n",
       "\n",
       "   std_train_score  \n",
       "0         0.004813  "
      ]
     },
     "execution_count": 298,
     "metadata": {},
     "output_type": "execute_result"
    }
   ],
   "source": [
    "X_train_c_scaled = StandardScaler().fit_transform(X_train_c)\n",
    "grid = modelize(X_train_c_scaled, y_train, estimator)\n",
    "resultize(grid)"
   ]
  },
  {
   "cell_type": "code",
   "execution_count": 299,
   "id": "51d116e1",
   "metadata": {},
   "outputs": [
    {
     "name": "stdout",
     "output_type": "stream",
     "text": [
      "Fitting 10 folds for each of 1 candidates, totalling 10 fits\n"
     ]
    },
    {
     "data": {
      "text/html": [
       "<div>\n",
       "<style scoped>\n",
       "    .dataframe tbody tr th:only-of-type {\n",
       "        vertical-align: middle;\n",
       "    }\n",
       "\n",
       "    .dataframe tbody tr th {\n",
       "        vertical-align: top;\n",
       "    }\n",
       "\n",
       "    .dataframe thead th {\n",
       "        text-align: right;\n",
       "    }\n",
       "</style>\n",
       "<table border=\"1\" class=\"dataframe\">\n",
       "  <thead>\n",
       "    <tr style=\"text-align: right;\">\n",
       "      <th></th>\n",
       "      <th>mean_fit_time</th>\n",
       "      <th>std_fit_time</th>\n",
       "      <th>mean_score_time</th>\n",
       "      <th>std_score_time</th>\n",
       "      <th>params</th>\n",
       "      <th>mean_test_score</th>\n",
       "      <th>std_test_score</th>\n",
       "      <th>rank_test_score</th>\n",
       "      <th>mean_train_score</th>\n",
       "      <th>std_train_score</th>\n",
       "    </tr>\n",
       "  </thead>\n",
       "  <tbody>\n",
       "    <tr>\n",
       "      <th>0</th>\n",
       "      <td>0.052729</td>\n",
       "      <td>0.009257</td>\n",
       "      <td>0.517503</td>\n",
       "      <td>0.091977</td>\n",
       "      <td>{}</td>\n",
       "      <td>0.725913</td>\n",
       "      <td>0.022309</td>\n",
       "      <td>1</td>\n",
       "      <td>0.811374</td>\n",
       "      <td>0.004527</td>\n",
       "    </tr>\n",
       "  </tbody>\n",
       "</table>\n",
       "</div>"
      ],
      "text/plain": [
       "   mean_fit_time  std_fit_time  mean_score_time  std_score_time params  \\\n",
       "0       0.052729      0.009257         0.517503        0.091977     {}   \n",
       "\n",
       "   mean_test_score  std_test_score  rank_test_score  mean_train_score  \\\n",
       "0         0.725913        0.022309                1          0.811374   \n",
       "\n",
       "   std_train_score  \n",
       "0         0.004527  "
      ]
     },
     "execution_count": 299,
     "metadata": {},
     "output_type": "execute_result"
    }
   ],
   "source": [
    "X_train_t_scaled = StandardScaler().fit_transform(X_train_t)\n",
    "grid = modelize(X_train_t_scaled, y_train, estimator)\n",
    "resultize(grid)"
   ]
  },
  {
   "cell_type": "code",
   "execution_count": null,
   "id": "ddf94445",
   "metadata": {},
   "outputs": [],
   "source": []
  },
  {
   "cell_type": "markdown",
   "id": "6b18d6f3",
   "metadata": {},
   "source": [
    "## 3.3 With PCA"
   ]
  },
  {
   "cell_type": "code",
   "execution_count": 300,
   "id": "fbf0238c",
   "metadata": {
    "ExecuteTime": {
     "end_time": "2022-06-27T20:18:45.395359Z",
     "start_time": "2022-06-27T20:18:41.056544Z"
    }
   },
   "outputs": [],
   "source": [
    "pca = PCA()\n",
    "X_train_c_pca = pca.fit_transform(X_train_c)"
   ]
  },
  {
   "cell_type": "code",
   "execution_count": 301,
   "id": "93667847",
   "metadata": {
    "ExecuteTime": {
     "end_time": "2022-06-27T20:18:45.402802Z",
     "start_time": "2022-06-27T20:18:45.398137Z"
    }
   },
   "outputs": [
    {
     "data": {
      "text/plain": [
       "array([1.16053606e-02, 8.94057613e-03, 8.87442652e-03, ...,\n",
       "       2.28727249e-33, 1.28254337e-34, 3.71472373e-35])"
      ]
     },
     "execution_count": 301,
     "metadata": {},
     "output_type": "execute_result"
    }
   ],
   "source": [
    "pca.explained_variance_ratio_"
   ]
  },
  {
   "cell_type": "code",
   "execution_count": 302,
   "id": "9eefcc51",
   "metadata": {
    "ExecuteTime": {
     "end_time": "2022-06-27T20:18:45.409509Z",
     "start_time": "2022-06-27T20:18:45.405264Z"
    }
   },
   "outputs": [],
   "source": [
    "cumsum = np.cumsum(pca.explained_variance_ratio_)\n",
    "plt.plot(range(1, len(cumsum)+1), cumsum)"
   ]
  },
  {
   "cell_type": "code",
   "execution_count": 303,
   "id": "4823eb1c",
   "metadata": {
    "ExecuteTime": {
     "end_time": "2022-06-27T20:18:45.421249Z",
     "start_time": "2022-06-27T20:18:45.413867Z"
    }
   },
   "outputs": [
    {
     "data": {
      "text/plain": [
       "1615"
      ]
     },
     "execution_count": 303,
     "metadata": {},
     "output_type": "execute_result"
    }
   ],
   "source": []
  },
  {
   "cell_type": "code",
   "execution_count": 304,
   "id": "a1c1e238",
   "metadata": {
    "ExecuteTime": {
     "end_time": "2022-06-27T20:18:45.590393Z",
     "start_time": "2022-06-27T20:18:45.423939Z"
    }
   },
   "outputs": [
    {
     "data": {
      "text/plain": [
       "[<matplotlib.lines.Line2D at 0x2d397d780>]"
      ]
     },
     "execution_count": 304,
     "metadata": {},
     "output_type": "execute_result"
    },
    {
     "data": {
      "image/png": "[encoded data removed]",
      "text/plain": [
       "<Figure size 432x288 with 1 Axes>"
      ]
     },
     "metadata": {},
     "output_type": "display_data"
    }
   ],
   "source": []
  },
  {
   "cell_type": "code",
   "execution_count": 305,
   "id": "61448c1a",
   "metadata": {
    "ExecuteTime": {
     "end_time": "2022-06-27T20:18:49.112002Z",
     "start_time": "2022-06-27T20:18:49.103541Z"
    }
   },
   "outputs": [],
   "source": [
    "X_train_c_pca = X_train_c_pca[:, :450]\n",
    "X_train_c_pca.shape"
   ]
  },
  {
   "cell_type": "code",
   "execution_count": 308,
   "id": "1ae5004d",
   "metadata": {},
   "outputs": [
    {
     "name": "stdout",
     "output_type": "stream",
     "text": [
      "Fitting 10 folds for each of 1 candidates, totalling 10 fits\n"
     ]
    },
    {
     "data": {
      "text/html": [
       "<div>\n",
       "<style scoped>\n",
       "    .dataframe tbody tr th:only-of-type {\n",
       "        vertical-align: middle;\n",
       "    }\n",
       "\n",
       "    .dataframe tbody tr th {\n",
       "        vertical-align: top;\n",
       "    }\n",
       "\n",
       "    .dataframe thead th {\n",
       "        text-align: right;\n",
       "    }\n",
       "</style>\n",
       "<table border=\"1\" class=\"dataframe\">\n",
       "  <thead>\n",
       "    <tr style=\"text-align: right;\">\n",
       "      <th></th>\n",
       "      <th>mean_fit_time</th>\n",
       "      <th>std_fit_time</th>\n",
       "      <th>mean_score_time</th>\n",
       "      <th>std_score_time</th>\n",
       "      <th>params</th>\n",
       "      <th>mean_test_score</th>\n",
       "      <th>std_test_score</th>\n",
       "      <th>rank_test_score</th>\n",
       "      <th>mean_train_score</th>\n",
       "      <th>std_train_score</th>\n",
       "    </tr>\n",
       "  </thead>\n",
       "  <tbody>\n",
       "    <tr>\n",
       "      <th>0</th>\n",
       "      <td>0.02085</td>\n",
       "      <td>0.006652</td>\n",
       "      <td>0.201074</td>\n",
       "      <td>0.055575</td>\n",
       "      <td>{}</td>\n",
       "      <td>0.727886</td>\n",
       "      <td>0.017552</td>\n",
       "      <td>1</td>\n",
       "      <td>0.812468</td>\n",
       "      <td>0.006162</td>\n",
       "    </tr>\n",
       "  </tbody>\n",
       "</table>\n",
       "</div>"
      ],
      "text/plain": [
       "   mean_fit_time  std_fit_time  mean_score_time  std_score_time params  \\\n",
       "0        0.02085      0.006652         0.201074        0.055575     {}   \n",
       "\n",
       "   mean_test_score  std_test_score  rank_test_score  mean_train_score  \\\n",
       "0         0.727886        0.017552                1          0.812468   \n",
       "\n",
       "   std_train_score  \n",
       "0         0.006162  "
      ]
     },
     "execution_count": 308,
     "metadata": {},
     "output_type": "execute_result"
    }
   ],
   "source": [
    "grid = modelize(X_train_c_pca, y_train, estimator)\n",
    "resultize(grid)"
   ]
  },
  {
   "cell_type": "code",
   "execution_count": 241,
   "id": "6f97eb5c",
   "metadata": {},
   "outputs": [
    {
     "name": "stdout",
     "output_type": "stream",
     "text": [
      "Fitting 10 folds for each of 1 candidates, totalling 10 fits\n"
     ]
    },
    {
     "data": {
      "text/html": [
       "<div>\n",
       "<style scoped>\n",
       "    .dataframe tbody tr th:only-of-type {\n",
       "        vertical-align: middle;\n",
       "    }\n",
       "\n",
       "    .dataframe tbody tr th {\n",
       "        vertical-align: top;\n",
       "    }\n",
       "\n",
       "    .dataframe thead th {\n",
       "        text-align: right;\n",
       "    }\n",
       "</style>\n",
       "<table border=\"1\" class=\"dataframe\">\n",
       "  <thead>\n",
       "    <tr style=\"text-align: right;\">\n",
       "      <th></th>\n",
       "      <th>mean_fit_time</th>\n",
       "      <th>std_fit_time</th>\n",
       "      <th>mean_score_time</th>\n",
       "      <th>std_score_time</th>\n",
       "      <th>params</th>\n",
       "      <th>mean_test_score</th>\n",
       "      <th>std_test_score</th>\n",
       "      <th>rank_test_score</th>\n",
       "      <th>mean_train_score</th>\n",
       "      <th>std_train_score</th>\n",
       "    </tr>\n",
       "  </thead>\n",
       "  <tbody>\n",
       "    <tr>\n",
       "      <th>0</th>\n",
       "      <td>0.061464</td>\n",
       "      <td>0.015577</td>\n",
       "      <td>0.553042</td>\n",
       "      <td>0.128327</td>\n",
       "      <td>{}</td>\n",
       "      <td>0.721441</td>\n",
       "      <td>0.02308</td>\n",
       "      <td>1</td>\n",
       "      <td>0.805864</td>\n",
       "      <td>0.004813</td>\n",
       "    </tr>\n",
       "  </tbody>\n",
       "</table>\n",
       "</div>"
      ],
      "text/plain": [
       "   mean_fit_time  std_fit_time  mean_score_time  std_score_time params  \\\n",
       "0       0.061464      0.015577         0.553042        0.128327     {}   \n",
       "\n",
       "   mean_test_score  std_test_score  rank_test_score  mean_train_score  \\\n",
       "0         0.721441         0.02308                1          0.805864   \n",
       "\n",
       "   std_train_score  \n",
       "0         0.004813  "
      ]
     },
     "execution_count": 241,
     "metadata": {},
     "output_type": "execute_result"
    }
   ],
   "source": []
  },
  {
   "cell_type": "code",
   "execution_count": 309,
   "id": "16c4653b",
   "metadata": {},
   "outputs": [],
   "source": [
    "pca = PCA()\n",
    "X_train_t_pca = pca.fit_transform(X_train_t)"
   ]
  },
  {
   "cell_type": "code",
   "execution_count": 310,
   "id": "7a7e6e6d",
   "metadata": {},
   "outputs": [
    {
     "data": {
      "text/plain": [
       "array([6.38260358e-03, 5.78466590e-03, 5.62350108e-03, ...,\n",
       "       9.31496592e-33, 7.98563066e-34, 1.65368830e-35])"
      ]
     },
     "execution_count": 310,
     "metadata": {},
     "output_type": "execute_result"
    }
   ],
   "source": [
    "pca.explained_variance_ratio_"
   ]
  },
  {
   "cell_type": "code",
   "execution_count": 311,
   "id": "985c03f7",
   "metadata": {
    "scrolled": true
   },
   "outputs": [
    {
     "data": {
      "text/plain": [
       "[<matplotlib.lines.Line2D at 0x17b1f38b0>]"
      ]
     },
     "execution_count": 311,
     "metadata": {},
     "output_type": "execute_result"
    },
    {
     "data": {
      "image/png": "[encoded data removed]",
      "text/plain": [
       "<Figure size 432x288 with 1 Axes>"
      ]
     },
     "metadata": {},
     "output_type": "display_data"
    }
   ],
   "source": [
    "cumsum = np.cumsum(pca.explained_variance_ratio_)\n",
    "plt.plot(range(1, len(cumsum)+1), cumsum)"
   ]
  },
  {
   "cell_type": "code",
   "execution_count": 315,
   "id": "bc5ac864",
   "metadata": {},
   "outputs": [
    {
     "data": {
      "text/plain": [
       "(5586, 600)"
      ]
     },
     "execution_count": 315,
     "metadata": {},
     "output_type": "execute_result"
    }
   ],
   "source": [
    "X_train_t_pca = X_train_t_pca[:, :600]\n",
    "X_train_t_pca.shape"
   ]
  },
  {
   "cell_type": "code",
   "execution_count": 316,
   "id": "59ac20de",
   "metadata": {},
   "outputs": [
    {
     "name": "stdout",
     "output_type": "stream",
     "text": [
      "Fitting 10 folds for each of 1 candidates, totalling 10 fits\n"
     ]
    },
    {
     "data": {
      "text/html": [
       "<div>\n",
       "<style scoped>\n",
       "    .dataframe tbody tr th:only-of-type {\n",
       "        vertical-align: middle;\n",
       "    }\n",
       "\n",
       "    .dataframe tbody tr th {\n",
       "        vertical-align: top;\n",
       "    }\n",
       "\n",
       "    .dataframe thead th {\n",
       "        text-align: right;\n",
       "    }\n",
       "</style>\n",
       "<table border=\"1\" class=\"dataframe\">\n",
       "  <thead>\n",
       "    <tr style=\"text-align: right;\">\n",
       "      <th></th>\n",
       "      <th>mean_fit_time</th>\n",
       "      <th>std_fit_time</th>\n",
       "      <th>mean_score_time</th>\n",
       "      <th>std_score_time</th>\n",
       "      <th>params</th>\n",
       "      <th>mean_test_score</th>\n",
       "      <th>std_test_score</th>\n",
       "      <th>rank_test_score</th>\n",
       "      <th>mean_train_score</th>\n",
       "      <th>std_train_score</th>\n",
       "    </tr>\n",
       "  </thead>\n",
       "  <tbody>\n",
       "    <tr>\n",
       "      <th>0</th>\n",
       "      <td>0.023634</td>\n",
       "      <td>0.00525</td>\n",
       "      <td>0.203149</td>\n",
       "      <td>0.04543</td>\n",
       "      <td>{}</td>\n",
       "      <td>0.713746</td>\n",
       "      <td>0.022653</td>\n",
       "      <td>1</td>\n",
       "      <td>0.845825</td>\n",
       "      <td>0.019902</td>\n",
       "    </tr>\n",
       "  </tbody>\n",
       "</table>\n",
       "</div>"
      ],
      "text/plain": [
       "   mean_fit_time  std_fit_time  mean_score_time  std_score_time params  \\\n",
       "0       0.023634       0.00525         0.203149         0.04543     {}   \n",
       "\n",
       "   mean_test_score  std_test_score  rank_test_score  mean_train_score  \\\n",
       "0         0.713746        0.022653                1          0.845825   \n",
       "\n",
       "   std_train_score  \n",
       "0         0.019902  "
      ]
     },
     "execution_count": 316,
     "metadata": {},
     "output_type": "execute_result"
    }
   ],
   "source": [
    "grid = modelize(X_train_t_pca, y_train, estimator)\n",
    "resultize(grid)"
   ]
  },
  {
   "cell_type": "markdown",
   "id": "e15e7069",
   "metadata": {},
   "source": []
  },
  {
   "cell_type": "markdown",
   "id": "064a6da6",
   "metadata": {},
   "source": [
    "## 3.3 With and scaling PCA"
   ]
  },
  {
   "cell_type": "code",
   "execution_count": 318,
   "id": "3cc700f6",
   "metadata": {},
   "outputs": [],
   "source": [
    "pca = PCA()\n",
    "X_train_c_scaled_pca = pca.fit_transform(X_train_c_scaled)"
   ]
  },
  {
   "cell_type": "code",
   "execution_count": 319,
   "id": "9b7fc5e8",
   "metadata": {},
   "outputs": [
    {
     "data": {
      "text/plain": [
       "[<matplotlib.lines.Line2D at 0x2bbf29240>]"
      ]
     },
     "execution_count": 319,
     "metadata": {},
     "output_type": "execute_result"
    },
    {
     "data": {
      "image/png": "[encoded data removed]",
      "text/plain": [
       "<Figure size 432x288 with 1 Axes>"
      ]
     },
     "metadata": {},
     "output_type": "display_data"
    }
   ],
   "source": [
    "cumsum = np.cumsum(pca.explained_variance_ratio_)\n",
    "plt.plot(range(1, len(cumsum)+1), cumsum)"
   ]
  },
  {
   "cell_type": "code",
   "execution_count": 321,
   "id": "c21c42df",
   "metadata": {},
   "outputs": [
    {
     "data": {
      "text/plain": [
       "(5586, 800)"
      ]
     },
     "execution_count": 321,
     "metadata": {},
     "output_type": "execute_result"
    }
   ],
   "source": [
    "X_train_c_scaled_pca = X_train_c_scaled_pca[:, :800]\n",
    "X_train_c_scaled_pca.shape"
   ]
  },
  {
   "cell_type": "code",
   "execution_count": 322,
   "id": "ac528805",
   "metadata": {},
   "outputs": [
    {
     "name": "stdout",
     "output_type": "stream",
     "text": [
      "Fitting 10 folds for each of 1 candidates, totalling 10 fits\n"
     ]
    },
    {
     "data": {
      "text/html": [
       "<div>\n",
       "<style scoped>\n",
       "    .dataframe tbody tr th:only-of-type {\n",
       "        vertical-align: middle;\n",
       "    }\n",
       "\n",
       "    .dataframe tbody tr th {\n",
       "        vertical-align: top;\n",
       "    }\n",
       "\n",
       "    .dataframe thead th {\n",
       "        text-align: right;\n",
       "    }\n",
       "</style>\n",
       "<table border=\"1\" class=\"dataframe\">\n",
       "  <thead>\n",
       "    <tr style=\"text-align: right;\">\n",
       "      <th></th>\n",
       "      <th>mean_fit_time</th>\n",
       "      <th>std_fit_time</th>\n",
       "      <th>mean_score_time</th>\n",
       "      <th>std_score_time</th>\n",
       "      <th>params</th>\n",
       "      <th>mean_test_score</th>\n",
       "      <th>std_test_score</th>\n",
       "      <th>rank_test_score</th>\n",
       "      <th>mean_train_score</th>\n",
       "      <th>std_train_score</th>\n",
       "    </tr>\n",
       "  </thead>\n",
       "  <tbody>\n",
       "    <tr>\n",
       "      <th>0</th>\n",
       "      <td>0.057376</td>\n",
       "      <td>0.017944</td>\n",
       "      <td>0.257314</td>\n",
       "      <td>0.054234</td>\n",
       "      <td>{}</td>\n",
       "      <td>0.722519</td>\n",
       "      <td>0.012142</td>\n",
       "      <td>1</td>\n",
       "      <td>0.811254</td>\n",
       "      <td>0.004777</td>\n",
       "    </tr>\n",
       "  </tbody>\n",
       "</table>\n",
       "</div>"
      ],
      "text/plain": [
       "   mean_fit_time  std_fit_time  mean_score_time  std_score_time params  \\\n",
       "0       0.057376      0.017944         0.257314        0.054234     {}   \n",
       "\n",
       "   mean_test_score  std_test_score  rank_test_score  mean_train_score  \\\n",
       "0         0.722519        0.012142                1          0.811254   \n",
       "\n",
       "   std_train_score  \n",
       "0         0.004777  "
      ]
     },
     "execution_count": 322,
     "metadata": {},
     "output_type": "execute_result"
    }
   ],
   "source": [
    "grid = modelize(X_train_c_scaled_pca, y_train, estimator)\n",
    "resultize(grid)"
   ]
  },
  {
   "cell_type": "code",
   "execution_count": 323,
   "id": "eb875b3c",
   "metadata": {},
   "outputs": [],
   "source": [
    "pca = PCA()\n",
    "X_train_t_scaled_pca = pca.fit_transform(X_train_t_scaled)"
   ]
  },
  {
   "cell_type": "code",
   "execution_count": 324,
   "id": "1471f06a",
   "metadata": {},
   "outputs": [
    {
     "data": {
      "text/plain": [
       "[<matplotlib.lines.Line2D at 0x2bbd30fd0>]"
      ]
     },
     "execution_count": 324,
     "metadata": {},
     "output_type": "execute_result"
    },
    {
     "data": {
      "image/png": "[encoded data removed]",
      "text/plain": [
       "<Figure size 432x288 with 1 Axes>"
      ]
     },
     "metadata": {},
     "output_type": "display_data"
    }
   ],
   "source": [
    "cumsum = np.cumsum(pca.explained_variance_ratio_)\n",
    "plt.plot(range(1, len(cumsum)+1), cumsum)"
   ]
  },
  {
   "cell_type": "code",
   "execution_count": 325,
   "id": "27b997a5",
   "metadata": {},
   "outputs": [
    {
     "data": {
      "text/plain": [
       "(5586, 800)"
      ]
     },
     "execution_count": 325,
     "metadata": {},
     "output_type": "execute_result"
    }
   ],
   "source": [
    "X_train_t_scaled_pca = X_train_t_scaled_pca[:, :800]\n",
    "X_train_t_scaled_pca.shape"
   ]
  },
  {
   "cell_type": "code",
   "execution_count": 326,
   "id": "e53fd164",
   "metadata": {},
   "outputs": [
    {
     "name": "stdout",
     "output_type": "stream",
     "text": [
      "Fitting 10 folds for each of 1 candidates, totalling 10 fits\n"
     ]
    },
    {
     "data": {
      "text/html": [
       "<div>\n",
       "<style scoped>\n",
       "    .dataframe tbody tr th:only-of-type {\n",
       "        vertical-align: middle;\n",
       "    }\n",
       "\n",
       "    .dataframe tbody tr th {\n",
       "        vertical-align: top;\n",
       "    }\n",
       "\n",
       "    .dataframe thead th {\n",
       "        text-align: right;\n",
       "    }\n",
       "</style>\n",
       "<table border=\"1\" class=\"dataframe\">\n",
       "  <thead>\n",
       "    <tr style=\"text-align: right;\">\n",
       "      <th></th>\n",
       "      <th>mean_fit_time</th>\n",
       "      <th>std_fit_time</th>\n",
       "      <th>mean_score_time</th>\n",
       "      <th>std_score_time</th>\n",
       "      <th>params</th>\n",
       "      <th>mean_test_score</th>\n",
       "      <th>std_test_score</th>\n",
       "      <th>rank_test_score</th>\n",
       "      <th>mean_train_score</th>\n",
       "      <th>std_train_score</th>\n",
       "    </tr>\n",
       "  </thead>\n",
       "  <tbody>\n",
       "    <tr>\n",
       "      <th>0</th>\n",
       "      <td>0.030789</td>\n",
       "      <td>0.004335</td>\n",
       "      <td>0.253649</td>\n",
       "      <td>0.056807</td>\n",
       "      <td>{}</td>\n",
       "      <td>0.722519</td>\n",
       "      <td>0.012142</td>\n",
       "      <td>1</td>\n",
       "      <td>0.811254</td>\n",
       "      <td>0.004777</td>\n",
       "    </tr>\n",
       "  </tbody>\n",
       "</table>\n",
       "</div>"
      ],
      "text/plain": [
       "   mean_fit_time  std_fit_time  mean_score_time  std_score_time params  \\\n",
       "0       0.030789      0.004335         0.253649        0.056807     {}   \n",
       "\n",
       "   mean_test_score  std_test_score  rank_test_score  mean_train_score  \\\n",
       "0         0.722519        0.012142                1          0.811254   \n",
       "\n",
       "   std_train_score  \n",
       "0         0.004777  "
      ]
     },
     "execution_count": 326,
     "metadata": {},
     "output_type": "execute_result"
    }
   ],
   "source": [
    "grid = modelize(X_train_c_scaled_pca, y_train, estimator)\n",
    "resultize(grid)"
   ]
  },
  {
   "cell_type": "code",
   "execution_count": null,
   "id": "b0810dc0",
   "metadata": {},
   "outputs": [],
   "source": []
  },
  {
   "cell_type": "code",
   "execution_count": null,
   "id": "f02d1f85",
   "metadata": {},
   "outputs": [],
   "source": []
  },
  {
   "cell_type": "markdown",
   "id": "4d50b167",
   "metadata": {},
   "source": [
    "## 2.4 TSVD"
   ]
  },
  {
   "cell_type": "code",
   "execution_count": 330,
   "id": "aa9ac229",
   "metadata": {},
   "outputs": [],
   "source": [
    "tcd = TruncatedSVD(n_components=30)\n",
    "X_train_c_tcd = tcd.fit_transform(X_train_c)"
   ]
  },
  {
   "cell_type": "code",
   "execution_count": 331,
   "id": "445f312b",
   "metadata": {},
   "outputs": [
    {
     "name": "stdout",
     "output_type": "stream",
     "text": [
      "Fitting 10 folds for each of 1 candidates, totalling 10 fits\n"
     ]
    },
    {
     "data": {
      "text/html": [
       "<div>\n",
       "<style scoped>\n",
       "    .dataframe tbody tr th:only-of-type {\n",
       "        vertical-align: middle;\n",
       "    }\n",
       "\n",
       "    .dataframe tbody tr th {\n",
       "        vertical-align: top;\n",
       "    }\n",
       "\n",
       "    .dataframe thead th {\n",
       "        text-align: right;\n",
       "    }\n",
       "</style>\n",
       "<table border=\"1\" class=\"dataframe\">\n",
       "  <thead>\n",
       "    <tr style=\"text-align: right;\">\n",
       "      <th></th>\n",
       "      <th>mean_fit_time</th>\n",
       "      <th>std_fit_time</th>\n",
       "      <th>mean_score_time</th>\n",
       "      <th>std_score_time</th>\n",
       "      <th>params</th>\n",
       "      <th>mean_test_score</th>\n",
       "      <th>std_test_score</th>\n",
       "      <th>rank_test_score</th>\n",
       "      <th>mean_train_score</th>\n",
       "      <th>std_train_score</th>\n",
       "    </tr>\n",
       "  </thead>\n",
       "  <tbody>\n",
       "    <tr>\n",
       "      <th>0</th>\n",
       "      <td>0.001324</td>\n",
       "      <td>0.000317</td>\n",
       "      <td>0.025019</td>\n",
       "      <td>0.006679</td>\n",
       "      <td>{}</td>\n",
       "      <td>0.733078</td>\n",
       "      <td>0.011655</td>\n",
       "      <td>1</td>\n",
       "      <td>0.813999</td>\n",
       "      <td>0.003115</td>\n",
       "    </tr>\n",
       "  </tbody>\n",
       "</table>\n",
       "</div>"
      ],
      "text/plain": [
       "   mean_fit_time  std_fit_time  mean_score_time  std_score_time params  \\\n",
       "0       0.001324      0.000317         0.025019        0.006679     {}   \n",
       "\n",
       "   mean_test_score  std_test_score  rank_test_score  mean_train_score  \\\n",
       "0         0.733078        0.011655                1          0.813999   \n",
       "\n",
       "   std_train_score  \n",
       "0         0.003115  "
      ]
     },
     "execution_count": 331,
     "metadata": {},
     "output_type": "execute_result"
    }
   ],
   "source": [
    "grid = modelize(X_train_tcd, y_train, estimator)\n",
    "resultize(grid)"
   ]
  },
  {
   "cell_type": "code",
   "execution_count": 332,
   "id": "f40086c6",
   "metadata": {
    "ExecuteTime": {
     "end_time": "2022-06-27T20:19:47.588002Z",
     "start_time": "2022-06-27T20:19:46.409918Z"
    }
   },
   "outputs": [],
   "source": [
    "tcd = TruncatedSVD(n_components=30)\n",
    "X_train_t_tcd = tcd.fit_transform(X_train_t)"
   ]
  },
  {
   "cell_type": "code",
   "execution_count": 333,
   "id": "6a922eb7",
   "metadata": {
    "ExecuteTime": {
     "end_time": "2022-06-27T20:19:54.114652Z",
     "start_time": "2022-06-27T20:19:47.590435Z"
    }
   },
   "outputs": [
    {
     "name": "stdout",
     "output_type": "stream",
     "text": [
      "Fitting 10 folds for each of 1 candidates, totalling 10 fits\n"
     ]
    },
    {
     "data": {
      "text/html": [
       "<div>\n",
       "<style scoped>\n",
       "    .dataframe tbody tr th:only-of-type {\n",
       "        vertical-align: middle;\n",
       "    }\n",
       "\n",
       "    .dataframe tbody tr th {\n",
       "        vertical-align: top;\n",
       "    }\n",
       "\n",
       "    .dataframe thead th {\n",
       "        text-align: right;\n",
       "    }\n",
       "</style>\n",
       "<table border=\"1\" class=\"dataframe\">\n",
       "  <thead>\n",
       "    <tr style=\"text-align: right;\">\n",
       "      <th></th>\n",
       "      <th>mean_fit_time</th>\n",
       "      <th>std_fit_time</th>\n",
       "      <th>mean_score_time</th>\n",
       "      <th>std_score_time</th>\n",
       "      <th>params</th>\n",
       "      <th>mean_test_score</th>\n",
       "      <th>std_test_score</th>\n",
       "      <th>rank_test_score</th>\n",
       "      <th>mean_train_score</th>\n",
       "      <th>std_train_score</th>\n",
       "    </tr>\n",
       "  </thead>\n",
       "  <tbody>\n",
       "    <tr>\n",
       "      <th>0</th>\n",
       "      <td>0.002521</td>\n",
       "      <td>0.002669</td>\n",
       "      <td>0.028826</td>\n",
       "      <td>0.008167</td>\n",
       "      <td>{}</td>\n",
       "      <td>0.73165</td>\n",
       "      <td>0.009882</td>\n",
       "      <td>1</td>\n",
       "      <td>0.810837</td>\n",
       "      <td>0.002288</td>\n",
       "    </tr>\n",
       "  </tbody>\n",
       "</table>\n",
       "</div>"
      ],
      "text/plain": [
       "   mean_fit_time  std_fit_time  mean_score_time  std_score_time params  \\\n",
       "0       0.002521      0.002669         0.028826        0.008167     {}   \n",
       "\n",
       "   mean_test_score  std_test_score  rank_test_score  mean_train_score  \\\n",
       "0          0.73165        0.009882                1          0.810837   \n",
       "\n",
       "   std_train_score  \n",
       "0         0.002288  "
      ]
     },
     "execution_count": 333,
     "metadata": {},
     "output_type": "execute_result"
    }
   ],
   "source": [
    "grid = modelize(X_train_t_tcd, y_train, estimator)\n",
    "resultize(grid)"
   ]
  },
  {
   "cell_type": "code",
   "execution_count": 334,
   "id": "ea2ddfdf",
   "metadata": {
    "ExecuteTime": {
     "end_time": "2022-06-27T20:20:05.861416Z",
     "start_time": "2022-06-27T20:20:05.855854Z"
    }
   },
   "outputs": [],
   "source": [
    "pipe = Pipeline([\n",
    "    (\"reduction\", TruncatedSVD()), \n",
    "    (\"estimator\", KNeighborsClassifier()),\n",
    "     ])"
   ]
  },
  {
   "cell_type": "code",
   "execution_count": 40,
   "id": "cce35b03",
   "metadata": {
    "ExecuteTime": {
     "end_time": "2022-06-27T20:20:06.435968Z",
     "start_time": "2022-06-27T20:20:06.432371Z"
    }
   },
   "outputs": [],
   "source": [
    "scaler_list = [StandardScaler()]"
   ]
  },
  {
   "cell_type": "code",
   "execution_count": 343,
   "id": "77f4604f",
   "metadata": {
    "ExecuteTime": {
     "end_time": "2022-06-27T20:20:33.981700Z",
     "start_time": "2022-06-27T20:20:33.976682Z"
    }
   },
   "outputs": [
    {
     "data": {
      "text/plain": [
       "array([ 2,  4,  6,  8, 10, 12, 14, 16, 18, 20, 22, 24, 26, 28, 30, 32, 34,\n",
       "       36, 38, 40])"
      ]
     },
     "execution_count": 343,
     "metadata": {},
     "output_type": "execute_result"
    }
   ],
   "source": [
    "n_components = np.linspace(2, 40, 20).astype(int)\n",
    "n_components"
   ]
  },
  {
   "cell_type": "code",
   "execution_count": 344,
   "id": "87f52341",
   "metadata": {
    "ExecuteTime": {
     "end_time": "2022-06-27T20:20:34.263184Z",
     "start_time": "2022-06-27T20:20:34.258938Z"
    }
   },
   "outputs": [],
   "source": [
    "param_grid = { \"reduction\" : [TruncatedSVD()], \n",
    "               \"estimator\" : [KNeighborsClassifier()], \n",
    "               \"reduction__n_components\": n_components, \n",
    "               \"estimator__n_neighbors\" : range(2, 12, 2) \n",
    "             }"
   ]
  },
  {
   "cell_type": "code",
   "execution_count": 345,
   "id": "5af413b3",
   "metadata": {
    "ExecuteTime": {
     "end_time": "2022-06-27T20:20:34.447453Z",
     "start_time": "2022-06-27T20:20:34.442022Z"
    },
    "scrolled": false
   },
   "outputs": [
    {
     "name": "stdout",
     "output_type": "stream",
     "text": [
      "Fitting 10 folds for each of 100 candidates, totalling 1000 fits\n"
     ]
    },
    {
     "name": "stderr",
     "output_type": "stream",
     "text": [
      "/Users/alexandre.gazagnes/Desktop/cours/fr/analysez-des-donnes-textuelles/partie-1/tp/env/lib/python3.10/site-packages/sklearn/model_selection/_validation.py:378: FitFailedWarning: \n",
      "250 fits failed out of a total of 1000.\n",
      "The score on these train-test partitions for these parameters will be set to nan.\n",
      "If these failures are not expected, you can try to debug them by setting error_score='raise'.\n",
      "\n",
      "Below are more details about the failures:\n",
      "--------------------------------------------------------------------------------\n",
      "50 fits failed with the following error:\n",
      "Traceback (most recent call last):\n",
      "  File \"/Users/alexandre.gazagnes/Desktop/cours/fr/analysez-des-donnes-textuelles/partie-1/tp/env/lib/python3.10/site-packages/sklearn/model_selection/_validation.py\", line 686, in _fit_and_score\n",
      "    estimator.fit(X_train, y_train, **fit_params)\n",
      "  File \"/Users/alexandre.gazagnes/Desktop/cours/fr/analysez-des-donnes-textuelles/partie-1/tp/env/lib/python3.10/site-packages/sklearn/pipeline.py\", line 378, in fit\n",
      "    Xt = self._fit(X, y, **fit_params_steps)\n",
      "  File \"/Users/alexandre.gazagnes/Desktop/cours/fr/analysez-des-donnes-textuelles/partie-1/tp/env/lib/python3.10/site-packages/sklearn/pipeline.py\", line 336, in _fit\n",
      "    X, fitted_transformer = fit_transform_one_cached(\n",
      "  File \"/Users/alexandre.gazagnes/Desktop/cours/fr/analysez-des-donnes-textuelles/partie-1/tp/env/lib/python3.10/site-packages/joblib/memory.py\", line 349, in __call__\n",
      "    return self.func(*args, **kwargs)\n",
      "  File \"/Users/alexandre.gazagnes/Desktop/cours/fr/analysez-des-donnes-textuelles/partie-1/tp/env/lib/python3.10/site-packages/sklearn/pipeline.py\", line 870, in _fit_transform_one\n",
      "    res = transformer.fit_transform(X, y, **fit_params)\n",
      "  File \"/Users/alexandre.gazagnes/Desktop/cours/fr/analysez-des-donnes-textuelles/partie-1/tp/env/lib/python3.10/site-packages/sklearn/decomposition/_truncated_svd.py\", line 232, in fit_transform\n",
      "    check_scalar(\n",
      "  File \"/Users/alexandre.gazagnes/Desktop/cours/fr/analysez-des-donnes-textuelles/partie-1/tp/env/lib/python3.10/site-packages/sklearn/utils/validation.py\", line 1489, in check_scalar\n",
      "    raise ValueError(\n",
      "ValueError: n_components == 32, must be <= 30.\n",
      "\n",
      "--------------------------------------------------------------------------------\n",
      "50 fits failed with the following error:\n",
      "Traceback (most recent call last):\n",
      "  File \"/Users/alexandre.gazagnes/Desktop/cours/fr/analysez-des-donnes-textuelles/partie-1/tp/env/lib/python3.10/site-packages/sklearn/model_selection/_validation.py\", line 686, in _fit_and_score\n",
      "    estimator.fit(X_train, y_train, **fit_params)\n",
      "  File \"/Users/alexandre.gazagnes/Desktop/cours/fr/analysez-des-donnes-textuelles/partie-1/tp/env/lib/python3.10/site-packages/sklearn/pipeline.py\", line 378, in fit\n",
      "    Xt = self._fit(X, y, **fit_params_steps)\n",
      "  File \"/Users/alexandre.gazagnes/Desktop/cours/fr/analysez-des-donnes-textuelles/partie-1/tp/env/lib/python3.10/site-packages/sklearn/pipeline.py\", line 336, in _fit\n",
      "    X, fitted_transformer = fit_transform_one_cached(\n",
      "  File \"/Users/alexandre.gazagnes/Desktop/cours/fr/analysez-des-donnes-textuelles/partie-1/tp/env/lib/python3.10/site-packages/joblib/memory.py\", line 349, in __call__\n",
      "    return self.func(*args, **kwargs)\n",
      "  File \"/Users/alexandre.gazagnes/Desktop/cours/fr/analysez-des-donnes-textuelles/partie-1/tp/env/lib/python3.10/site-packages/sklearn/pipeline.py\", line 870, in _fit_transform_one\n",
      "    res = transformer.fit_transform(X, y, **fit_params)\n",
      "  File \"/Users/alexandre.gazagnes/Desktop/cours/fr/analysez-des-donnes-textuelles/partie-1/tp/env/lib/python3.10/site-packages/sklearn/decomposition/_truncated_svd.py\", line 232, in fit_transform\n",
      "    check_scalar(\n",
      "  File \"/Users/alexandre.gazagnes/Desktop/cours/fr/analysez-des-donnes-textuelles/partie-1/tp/env/lib/python3.10/site-packages/sklearn/utils/validation.py\", line 1489, in check_scalar\n",
      "    raise ValueError(\n",
      "ValueError: n_components == 34, must be <= 30.\n",
      "\n",
      "--------------------------------------------------------------------------------\n",
      "50 fits failed with the following error:\n",
      "Traceback (most recent call last):\n",
      "  File \"/Users/alexandre.gazagnes/Desktop/cours/fr/analysez-des-donnes-textuelles/partie-1/tp/env/lib/python3.10/site-packages/sklearn/model_selection/_validation.py\", line 686, in _fit_and_score\n",
      "    estimator.fit(X_train, y_train, **fit_params)\n",
      "  File \"/Users/alexandre.gazagnes/Desktop/cours/fr/analysez-des-donnes-textuelles/partie-1/tp/env/lib/python3.10/site-packages/sklearn/pipeline.py\", line 378, in fit\n",
      "    Xt = self._fit(X, y, **fit_params_steps)\n",
      "  File \"/Users/alexandre.gazagnes/Desktop/cours/fr/analysez-des-donnes-textuelles/partie-1/tp/env/lib/python3.10/site-packages/sklearn/pipeline.py\", line 336, in _fit\n",
      "    X, fitted_transformer = fit_transform_one_cached(\n",
      "  File \"/Users/alexandre.gazagnes/Desktop/cours/fr/analysez-des-donnes-textuelles/partie-1/tp/env/lib/python3.10/site-packages/joblib/memory.py\", line 349, in __call__\n",
      "    return self.func(*args, **kwargs)\n",
      "  File \"/Users/alexandre.gazagnes/Desktop/cours/fr/analysez-des-donnes-textuelles/partie-1/tp/env/lib/python3.10/site-packages/sklearn/pipeline.py\", line 870, in _fit_transform_one\n",
      "    res = transformer.fit_transform(X, y, **fit_params)\n",
      "  File \"/Users/alexandre.gazagnes/Desktop/cours/fr/analysez-des-donnes-textuelles/partie-1/tp/env/lib/python3.10/site-packages/sklearn/decomposition/_truncated_svd.py\", line 232, in fit_transform\n",
      "    check_scalar(\n",
      "  File \"/Users/alexandre.gazagnes/Desktop/cours/fr/analysez-des-donnes-textuelles/partie-1/tp/env/lib/python3.10/site-packages/sklearn/utils/validation.py\", line 1489, in check_scalar\n",
      "    raise ValueError(\n",
      "ValueError: n_components == 36, must be <= 30.\n",
      "\n",
      "--------------------------------------------------------------------------------\n",
      "50 fits failed with the following error:\n",
      "Traceback (most recent call last):\n",
      "  File \"/Users/alexandre.gazagnes/Desktop/cours/fr/analysez-des-donnes-textuelles/partie-1/tp/env/lib/python3.10/site-packages/sklearn/model_selection/_validation.py\", line 686, in _fit_and_score\n",
      "    estimator.fit(X_train, y_train, **fit_params)\n",
      "  File \"/Users/alexandre.gazagnes/Desktop/cours/fr/analysez-des-donnes-textuelles/partie-1/tp/env/lib/python3.10/site-packages/sklearn/pipeline.py\", line 378, in fit\n",
      "    Xt = self._fit(X, y, **fit_params_steps)\n",
      "  File \"/Users/alexandre.gazagnes/Desktop/cours/fr/analysez-des-donnes-textuelles/partie-1/tp/env/lib/python3.10/site-packages/sklearn/pipeline.py\", line 336, in _fit\n",
      "    X, fitted_transformer = fit_transform_one_cached(\n",
      "  File \"/Users/alexandre.gazagnes/Desktop/cours/fr/analysez-des-donnes-textuelles/partie-1/tp/env/lib/python3.10/site-packages/joblib/memory.py\", line 349, in __call__\n",
      "    return self.func(*args, **kwargs)\n",
      "  File \"/Users/alexandre.gazagnes/Desktop/cours/fr/analysez-des-donnes-textuelles/partie-1/tp/env/lib/python3.10/site-packages/sklearn/pipeline.py\", line 870, in _fit_transform_one\n",
      "    res = transformer.fit_transform(X, y, **fit_params)\n",
      "  File \"/Users/alexandre.gazagnes/Desktop/cours/fr/analysez-des-donnes-textuelles/partie-1/tp/env/lib/python3.10/site-packages/sklearn/decomposition/_truncated_svd.py\", line 232, in fit_transform\n",
      "    check_scalar(\n",
      "  File \"/Users/alexandre.gazagnes/Desktop/cours/fr/analysez-des-donnes-textuelles/partie-1/tp/env/lib/python3.10/site-packages/sklearn/utils/validation.py\", line 1489, in check_scalar\n",
      "    raise ValueError(\n",
      "ValueError: n_components == 38, must be <= 30.\n",
      "\n",
      "--------------------------------------------------------------------------------\n",
      "50 fits failed with the following error:\n",
      "Traceback (most recent call last):\n",
      "  File \"/Users/alexandre.gazagnes/Desktop/cours/fr/analysez-des-donnes-textuelles/partie-1/tp/env/lib/python3.10/site-packages/sklearn/model_selection/_validation.py\", line 686, in _fit_and_score\n",
      "    estimator.fit(X_train, y_train, **fit_params)\n",
      "  File \"/Users/alexandre.gazagnes/Desktop/cours/fr/analysez-des-donnes-textuelles/partie-1/tp/env/lib/python3.10/site-packages/sklearn/pipeline.py\", line 378, in fit\n",
      "    Xt = self._fit(X, y, **fit_params_steps)\n",
      "  File \"/Users/alexandre.gazagnes/Desktop/cours/fr/analysez-des-donnes-textuelles/partie-1/tp/env/lib/python3.10/site-packages/sklearn/pipeline.py\", line 336, in _fit\n",
      "    X, fitted_transformer = fit_transform_one_cached(\n",
      "  File \"/Users/alexandre.gazagnes/Desktop/cours/fr/analysez-des-donnes-textuelles/partie-1/tp/env/lib/python3.10/site-packages/joblib/memory.py\", line 349, in __call__\n",
      "    return self.func(*args, **kwargs)\n",
      "  File \"/Users/alexandre.gazagnes/Desktop/cours/fr/analysez-des-donnes-textuelles/partie-1/tp/env/lib/python3.10/site-packages/sklearn/pipeline.py\", line 870, in _fit_transform_one\n",
      "    res = transformer.fit_transform(X, y, **fit_params)\n",
      "  File \"/Users/alexandre.gazagnes/Desktop/cours/fr/analysez-des-donnes-textuelles/partie-1/tp/env/lib/python3.10/site-packages/sklearn/decomposition/_truncated_svd.py\", line 232, in fit_transform\n",
      "    check_scalar(\n",
      "  File \"/Users/alexandre.gazagnes/Desktop/cours/fr/analysez-des-donnes-textuelles/partie-1/tp/env/lib/python3.10/site-packages/sklearn/utils/validation.py\", line 1489, in check_scalar\n",
      "    raise ValueError(\n",
      "ValueError: n_components == 40, must be <= 30.\n",
      "\n",
      "  warnings.warn(some_fits_failed_message, FitFailedWarning)\n",
      "/Users/alexandre.gazagnes/Desktop/cours/fr/analysez-des-donnes-textuelles/partie-1/tp/env/lib/python3.10/site-packages/sklearn/model_selection/_search.py:953: UserWarning: One or more of the test scores are non-finite: [0.62549067 0.66827733 0.69387603 0.7001417  0.71088253 0.70980341\n",
      " 0.71589115 0.71822347 0.72574201 0.72448561 0.7271741  0.72305673\n",
      " 0.72233892 0.7248482  0.72412879        nan        nan        nan\n",
      "        nan        nan 0.62854015 0.68600451 0.70426228 0.71536282\n",
      " 0.71499926 0.72502196 0.72036823 0.722882   0.72287848 0.72466386\n",
      " 0.72412719 0.72824713 0.72806856 0.73218882 0.72932207        nan\n",
      "        nan        nan        nan        nan 0.63892191 0.69495611\n",
      " 0.7053398  0.71500279 0.72664063 0.71768423 0.72627965 0.72180321\n",
      " 0.72681728 0.72520342 0.73576663 0.73827527 0.73021781 0.73487571\n",
      " 0.73272292        nan        nan        nan        nan        nan\n",
      " 0.62352575 0.68618308 0.71178179 0.721087   0.73201089 0.72752772\n",
      " 0.72932207 0.7291403  0.72663967 0.72985939 0.73111194 0.73397708\n",
      " 0.73397516 0.73737761 0.73791621        nan        nan        nan\n",
      "        nan        nan 0.62227159 0.69477882 0.7092693  0.71661473\n",
      " 0.72448625 0.73021717 0.72645309 0.73254435 0.73290246 0.73039221\n",
      " 0.73111066 0.73218882 0.73379851 0.732545   0.73630523        nan\n",
      "        nan        nan        nan        nan]\n",
      "  warnings.warn(\n",
      "/Users/alexandre.gazagnes/Desktop/cours/fr/analysez-des-donnes-textuelles/partie-1/tp/env/lib/python3.10/site-packages/sklearn/model_selection/_search.py:953: UserWarning: One or more of the train scores are non-finite: [0.79818574 0.82322845 0.83275616 0.83484513 0.83850495 0.83999677\n",
      " 0.84079258 0.8409716  0.8424235  0.84150859 0.84061346 0.84031509\n",
      " 0.84051395 0.84035479 0.83860448        nan        nan        nan\n",
      "        nan        nan 0.74541504 0.780224   0.78985138 0.79937947\n",
      " 0.80369577 0.80538649 0.80646041 0.8067589  0.80936473 0.80825069\n",
      " 0.80813131 0.80779312 0.80763407 0.80850934 0.80763413        nan\n",
      "        nan        nan        nan        nan 0.72128757 0.76299895\n",
      " 0.77535095 0.78038334 0.78847924 0.78748452 0.78877746 0.78778293\n",
      " 0.78746468 0.7888968  0.78977199 0.78915526 0.78873775 0.79032916\n",
      " 0.79231825        nan        nan        nan        nan        nan\n",
      " 0.70350473 0.75205875 0.76140754 0.77153221 0.77547042 0.77678307\n",
      " 0.77626621 0.77491353 0.77660419 0.77867288 0.77708141 0.7772802\n",
      " 0.77688254 0.77716121 0.77831482        nan        nan        nan\n",
      "        nan        nan 0.69415576 0.7414962  0.75723031 0.76411264\n",
      " 0.76819019 0.7703982  0.76842906 0.7685483  0.7694634  0.7696822\n",
      " 0.76862788 0.76856808 0.77015951 0.77169126 0.77175084        nan\n",
      "        nan        nan        nan        nan]\n",
      "  warnings.warn(\n"
     ]
    }
   ],
   "source": [
    "grid = modelize(X_train_t_tcd, y_train, pipe, param_grid=param_grid)\n",
    "res  = resultize(grid)"
   ]
  },
  {
   "cell_type": "code",
   "execution_count": 348,
   "id": "afb5db35",
   "metadata": {},
   "outputs": [
    {
     "data": {
      "text/html": [
       "<div>\n",
       "<style scoped>\n",
       "    .dataframe tbody tr th:only-of-type {\n",
       "        vertical-align: middle;\n",
       "    }\n",
       "\n",
       "    .dataframe tbody tr th {\n",
       "        vertical-align: top;\n",
       "    }\n",
       "\n",
       "    .dataframe thead th {\n",
       "        text-align: right;\n",
       "    }\n",
       "</style>\n",
       "<table border=\"1\" class=\"dataframe\">\n",
       "  <thead>\n",
       "    <tr style=\"text-align: right;\">\n",
       "      <th></th>\n",
       "      <th>mean_fit_time</th>\n",
       "      <th>std_fit_time</th>\n",
       "      <th>mean_score_time</th>\n",
       "      <th>std_score_time</th>\n",
       "      <th>param_estimator</th>\n",
       "      <th>param_estimator__n_neighbors</th>\n",
       "      <th>param_reduction</th>\n",
       "      <th>param_reduction__n_components</th>\n",
       "      <th>params</th>\n",
       "      <th>mean_test_score</th>\n",
       "      <th>std_test_score</th>\n",
       "      <th>rank_test_score</th>\n",
       "      <th>mean_train_score</th>\n",
       "      <th>std_train_score</th>\n",
       "    </tr>\n",
       "  </thead>\n",
       "  <tbody>\n",
       "    <tr>\n",
       "      <th>51</th>\n",
       "      <td>0.035875</td>\n",
       "      <td>0.005811</td>\n",
       "      <td>0.025133</td>\n",
       "      <td>0.005617</td>\n",
       "      <td>KNeighborsClassifier(n_neighbors=6)</td>\n",
       "      <td>6</td>\n",
       "      <td>TruncatedSVD(n_components=24)</td>\n",
       "      <td>24</td>\n",
       "      <td>{'estimator': KNeighborsClassifier(n_neighbors...</td>\n",
       "      <td>0.738275</td>\n",
       "      <td>0.010801</td>\n",
       "      <td>1</td>\n",
       "      <td>0.789155</td>\n",
       "      <td>0.003496</td>\n",
       "    </tr>\n",
       "    <tr>\n",
       "      <th>74</th>\n",
       "      <td>0.031646</td>\n",
       "      <td>0.006198</td>\n",
       "      <td>0.030070</td>\n",
       "      <td>0.005133</td>\n",
       "      <td>KNeighborsClassifier(n_neighbors=6)</td>\n",
       "      <td>8</td>\n",
       "      <td>TruncatedSVD(n_components=24)</td>\n",
       "      <td>30</td>\n",
       "      <td>{'estimator': KNeighborsClassifier(n_neighbors...</td>\n",
       "      <td>0.737916</td>\n",
       "      <td>0.013715</td>\n",
       "      <td>2</td>\n",
       "      <td>0.778315</td>\n",
       "      <td>0.001910</td>\n",
       "    </tr>\n",
       "    <tr>\n",
       "      <th>73</th>\n",
       "      <td>0.031558</td>\n",
       "      <td>0.005136</td>\n",
       "      <td>0.030706</td>\n",
       "      <td>0.004270</td>\n",
       "      <td>KNeighborsClassifier(n_neighbors=6)</td>\n",
       "      <td>8</td>\n",
       "      <td>TruncatedSVD(n_components=24)</td>\n",
       "      <td>28</td>\n",
       "      <td>{'estimator': KNeighborsClassifier(n_neighbors...</td>\n",
       "      <td>0.737378</td>\n",
       "      <td>0.017646</td>\n",
       "      <td>3</td>\n",
       "      <td>0.777161</td>\n",
       "      <td>0.002528</td>\n",
       "    </tr>\n",
       "    <tr>\n",
       "      <th>94</th>\n",
       "      <td>0.032174</td>\n",
       "      <td>0.007438</td>\n",
       "      <td>0.032546</td>\n",
       "      <td>0.004741</td>\n",
       "      <td>KNeighborsClassifier(n_neighbors=6)</td>\n",
       "      <td>10</td>\n",
       "      <td>TruncatedSVD(n_components=24)</td>\n",
       "      <td>30</td>\n",
       "      <td>{'estimator': KNeighborsClassifier(n_neighbors...</td>\n",
       "      <td>0.736305</td>\n",
       "      <td>0.012429</td>\n",
       "      <td>4</td>\n",
       "      <td>0.771751</td>\n",
       "      <td>0.001919</td>\n",
       "    </tr>\n",
       "    <tr>\n",
       "      <th>50</th>\n",
       "      <td>0.029094</td>\n",
       "      <td>0.006624</td>\n",
       "      <td>0.031294</td>\n",
       "      <td>0.007708</td>\n",
       "      <td>KNeighborsClassifier(n_neighbors=6)</td>\n",
       "      <td>6</td>\n",
       "      <td>TruncatedSVD(n_components=24)</td>\n",
       "      <td>22</td>\n",
       "      <td>{'estimator': KNeighborsClassifier(n_neighbors...</td>\n",
       "      <td>0.735767</td>\n",
       "      <td>0.014294</td>\n",
       "      <td>5</td>\n",
       "      <td>0.789772</td>\n",
       "      <td>0.002207</td>\n",
       "    </tr>\n",
       "  </tbody>\n",
       "</table>\n",
       "</div>"
      ],
      "text/plain": [
       "    mean_fit_time  std_fit_time  mean_score_time  std_score_time  \\\n",
       "51       0.035875      0.005811         0.025133        0.005617   \n",
       "74       0.031646      0.006198         0.030070        0.005133   \n",
       "73       0.031558      0.005136         0.030706        0.004270   \n",
       "94       0.032174      0.007438         0.032546        0.004741   \n",
       "50       0.029094      0.006624         0.031294        0.007708   \n",
       "\n",
       "                        param_estimator param_estimator__n_neighbors  \\\n",
       "51  KNeighborsClassifier(n_neighbors=6)                            6   \n",
       "74  KNeighborsClassifier(n_neighbors=6)                            8   \n",
       "73  KNeighborsClassifier(n_neighbors=6)                            8   \n",
       "94  KNeighborsClassifier(n_neighbors=6)                           10   \n",
       "50  KNeighborsClassifier(n_neighbors=6)                            6   \n",
       "\n",
       "                  param_reduction param_reduction__n_components  \\\n",
       "51  TruncatedSVD(n_components=24)                            24   \n",
       "74  TruncatedSVD(n_components=24)                            30   \n",
       "73  TruncatedSVD(n_components=24)                            28   \n",
       "94  TruncatedSVD(n_components=24)                            30   \n",
       "50  TruncatedSVD(n_components=24)                            22   \n",
       "\n",
       "                                               params  mean_test_score  \\\n",
       "51  {'estimator': KNeighborsClassifier(n_neighbors...         0.738275   \n",
       "74  {'estimator': KNeighborsClassifier(n_neighbors...         0.737916   \n",
       "73  {'estimator': KNeighborsClassifier(n_neighbors...         0.737378   \n",
       "94  {'estimator': KNeighborsClassifier(n_neighbors...         0.736305   \n",
       "50  {'estimator': KNeighborsClassifier(n_neighbors...         0.735767   \n",
       "\n",
       "    std_test_score  rank_test_score  mean_train_score  std_train_score  \n",
       "51        0.010801                1          0.789155         0.003496  \n",
       "74        0.013715                2          0.778315         0.001910  \n",
       "73        0.017646                3          0.777161         0.002528  \n",
       "94        0.012429                4          0.771751         0.001919  \n",
       "50        0.014294                5          0.789772         0.002207  "
      ]
     },
     "execution_count": 348,
     "metadata": {},
     "output_type": "execute_result"
    }
   ],
   "source": [
    "res.head()"
   ]
  },
  {
   "cell_type": "code",
   "execution_count": 347,
   "id": "f9785ba9",
   "metadata": {
    "ExecuteTime": {
     "end_time": "2022-06-27T20:20:34.610102Z",
     "start_time": "2022-06-27T20:20:34.607090Z"
    }
   },
   "outputs": [],
   "source": [
    "cv = ShuffleSplit(n_splits=10, test_size=0.25, random_state=0)"
   ]
  },
  {
   "cell_type": "code",
   "execution_count": 45,
   "id": "85524386",
   "metadata": {
    "ExecuteTime": {
     "end_time": "2022-06-27T20:22:48.447838Z",
     "start_time": "2022-06-27T20:20:34.766290Z"
    }
   },
   "outputs": [
    {
     "name": "stdout",
     "output_type": "stream",
     "text": [
      "Fitting 5 folds for each of 20 candidates, totalling 100 fits\n"
     ]
    },
    {
     "data": {
      "text/html": [
       "<style>#sk-container-id-3 {color: black;background-color: white;}#sk-container-id-3 pre{padding: 0;}#sk-container-id-3 div.sk-toggleable {background-color: white;}#sk-container-id-3 label.sk-toggleable__label {cursor: pointer;display: block;width: 100%;margin-bottom: 0;padding: 0.3em;box-sizing: border-box;text-align: center;}#sk-container-id-3 label.sk-toggleable__label-arrow:before {content: \"▸\";float: left;margin-right: 0.25em;color: #696969;}#sk-container-id-3 label.sk-toggleable__label-arrow:hover:before {color: black;}#sk-container-id-3 div.sk-estimator:hover label.sk-toggleable__label-arrow:before {color: black;}#sk-container-id-3 div.sk-toggleable__content {max-height: 0;max-width: 0;overflow: hidden;text-align: left;background-color: #f0f8ff;}#sk-container-id-3 div.sk-toggleable__content pre {margin: 0.2em;color: black;border-radius: 0.25em;background-color: #f0f8ff;}#sk-container-id-3 input.sk-toggleable__control:checked~div.sk-toggleable__content {max-height: 200px;max-width: 100%;overflow: auto;}#sk-container-id-3 input.sk-toggleable__control:checked~label.sk-toggleable__label-arrow:before {content: \"▾\";}#sk-container-id-3 div.sk-estimator input.sk-toggleable__control:checked~label.sk-toggleable__label {background-color: #d4ebff;}#sk-container-id-3 div.sk-label input.sk-toggleable__control:checked~label.sk-toggleable__label {background-color: #d4ebff;}#sk-container-id-3 input.sk-hidden--visually {border: 0;clip: rect(1px 1px 1px 1px);clip: rect(1px, 1px, 1px, 1px);height: 1px;margin: -1px;overflow: hidden;padding: 0;position: absolute;width: 1px;}#sk-container-id-3 div.sk-estimator {font-family: monospace;background-color: #f0f8ff;border: 1px dotted black;border-radius: 0.25em;box-sizing: border-box;margin-bottom: 0.5em;}#sk-container-id-3 div.sk-estimator:hover {background-color: #d4ebff;}#sk-container-id-3 div.sk-parallel-item::after {content: \"\";width: 100%;border-bottom: 1px solid gray;flex-grow: 1;}#sk-container-id-3 div.sk-label:hover label.sk-toggleable__label {background-color: #d4ebff;}#sk-container-id-3 div.sk-serial::before {content: \"\";position: absolute;border-left: 1px solid gray;box-sizing: border-box;top: 0;bottom: 0;left: 50%;z-index: 0;}#sk-container-id-3 div.sk-serial {display: flex;flex-direction: column;align-items: center;background-color: white;padding-right: 0.2em;padding-left: 0.2em;position: relative;}#sk-container-id-3 div.sk-item {position: relative;z-index: 1;}#sk-container-id-3 div.sk-parallel {display: flex;align-items: stretch;justify-content: center;background-color: white;position: relative;}#sk-container-id-3 div.sk-item::before, #sk-container-id-3 div.sk-parallel-item::before {content: \"\";position: absolute;border-left: 1px solid gray;box-sizing: border-box;top: 0;bottom: 0;left: 50%;z-index: -1;}#sk-container-id-3 div.sk-parallel-item {display: flex;flex-direction: column;z-index: 1;position: relative;background-color: white;}#sk-container-id-3 div.sk-parallel-item:first-child::after {align-self: flex-end;width: 50%;}#sk-container-id-3 div.sk-parallel-item:last-child::after {align-self: flex-start;width: 50%;}#sk-container-id-3 div.sk-parallel-item:only-child::after {width: 0;}#sk-container-id-3 div.sk-dashed-wrapped {border: 1px dashed gray;margin: 0 0.4em 0.5em 0.4em;box-sizing: border-box;padding-bottom: 0.4em;background-color: white;}#sk-container-id-3 div.sk-label label {font-family: monospace;font-weight: bold;display: inline-block;line-height: 1.2em;}#sk-container-id-3 div.sk-label-container {text-align: center;}#sk-container-id-3 div.sk-container {/* jupyter's `normalize.less` sets `[hidden] { display: none; }` but bootstrap.min.css set `[hidden] { display: none !important; }` so we also need the `!important` here to be able to override the default hidden behavior on the sphinx rendered scikit-learn.org. See: https://github.com/scikit-learn/scikit-learn/issues/21755 */display: inline-block !important;position: relative;}#sk-container-id-3 div.sk-text-repr-fallback {display: none;}</style><div id=\"sk-container-id-3\" class=\"sk-top-container\"><div class=\"sk-text-repr-fallback\"><pre>GridSearchCV(cv=ShuffleSplit(n_splits=5, random_state=0, test_size=0.25, train_size=None),\n",
       "             estimator=Pipeline(steps=[(&#x27;reduction&#x27;, TruncatedSVD()),\n",
       "                                       (&#x27;estimator&#x27;,\n",
       "                                        RandomForestClassifier())]),\n",
       "             n_jobs=-1,\n",
       "             param_grid={&#x27;estimator&#x27;: [RandomForestClassifier()],\n",
       "                         &#x27;reduction&#x27;: [TruncatedSVD(n_components=94)],\n",
       "                         &#x27;reduction__n_components&#x27;: array([  2,   7,  12,  17,  22,  27,  32,  38,  43,  48,  53,  58,  63,\n",
       "        69,  74,  79,  84,  89,  94, 100])},\n",
       "             return_train_score=True, verbose=3)</pre><b>In a Jupyter environment, please rerun this cell to show the HTML representation or trust the notebook. <br />On GitHub, the HTML representation is unable to render, please try loading this page with nbviewer.org.</b></div><div class=\"sk-container\" hidden><div class=\"sk-item sk-dashed-wrapped\"><div class=\"sk-label-container\"><div class=\"sk-label sk-toggleable\"><input class=\"sk-toggleable__control sk-hidden--visually\" id=\"sk-estimator-id-7\" type=\"checkbox\" ><label for=\"sk-estimator-id-7\" class=\"sk-toggleable__label sk-toggleable__label-arrow\">GridSearchCV</label><div class=\"sk-toggleable__content\"><pre>GridSearchCV(cv=ShuffleSplit(n_splits=5, random_state=0, test_size=0.25, train_size=None),\n",
       "             estimator=Pipeline(steps=[(&#x27;reduction&#x27;, TruncatedSVD()),\n",
       "                                       (&#x27;estimator&#x27;,\n",
       "                                        RandomForestClassifier())]),\n",
       "             n_jobs=-1,\n",
       "             param_grid={&#x27;estimator&#x27;: [RandomForestClassifier()],\n",
       "                         &#x27;reduction&#x27;: [TruncatedSVD(n_components=94)],\n",
       "                         &#x27;reduction__n_components&#x27;: array([  2,   7,  12,  17,  22,  27,  32,  38,  43,  48,  53,  58,  63,\n",
       "        69,  74,  79,  84,  89,  94, 100])},\n",
       "             return_train_score=True, verbose=3)</pre></div></div></div><div class=\"sk-parallel\"><div class=\"sk-parallel-item\"><div class=\"sk-item\"><div class=\"sk-label-container\"><div class=\"sk-label sk-toggleable\"><input class=\"sk-toggleable__control sk-hidden--visually\" id=\"sk-estimator-id-8\" type=\"checkbox\" ><label for=\"sk-estimator-id-8\" class=\"sk-toggleable__label sk-toggleable__label-arrow\">estimator: Pipeline</label><div class=\"sk-toggleable__content\"><pre>Pipeline(steps=[(&#x27;reduction&#x27;, TruncatedSVD()),\n",
       "                (&#x27;estimator&#x27;, RandomForestClassifier())])</pre></div></div></div><div class=\"sk-serial\"><div class=\"sk-item\"><div class=\"sk-serial\"><div class=\"sk-item\"><div class=\"sk-estimator sk-toggleable\"><input class=\"sk-toggleable__control sk-hidden--visually\" id=\"sk-estimator-id-9\" type=\"checkbox\" ><label for=\"sk-estimator-id-9\" class=\"sk-toggleable__label sk-toggleable__label-arrow\">TruncatedSVD</label><div class=\"sk-toggleable__content\"><pre>TruncatedSVD()</pre></div></div></div><div class=\"sk-item\"><div class=\"sk-estimator sk-toggleable\"><input class=\"sk-toggleable__control sk-hidden--visually\" id=\"sk-estimator-id-10\" type=\"checkbox\" ><label for=\"sk-estimator-id-10\" class=\"sk-toggleable__label sk-toggleable__label-arrow\">RandomForestClassifier</label><div class=\"sk-toggleable__content\"><pre>RandomForestClassifier()</pre></div></div></div></div></div></div></div></div></div></div></div></div>"
      ],
      "text/plain": [
       "GridSearchCV(cv=ShuffleSplit(n_splits=5, random_state=0, test_size=0.25, train_size=None),\n",
       "             estimator=Pipeline(steps=[('reduction', TruncatedSVD()),\n",
       "                                       ('estimator',\n",
       "                                        RandomForestClassifier())]),\n",
       "             n_jobs=-1,\n",
       "             param_grid={'estimator': [RandomForestClassifier()],\n",
       "                         'reduction': [TruncatedSVD(n_components=94)],\n",
       "                         'reduction__n_components': array([  2,   7,  12,  17,  22,  27,  32,  38,  43,  48,  53,  58,  63,\n",
       "        69,  74,  79,  84,  89,  94, 100])},\n",
       "             return_train_score=True, verbose=3)"
      ]
     },
     "execution_count": 45,
     "metadata": {},
     "output_type": "execute_result"
    }
   ],
   "source": [
    "grid = GridSearchCV(pipe, param_grid, cv=cv, n_jobs=-1, return_train_score=True, verbose=3)\n",
    "grid.fit(X, y_train)"
   ]
  },
  {
   "cell_type": "code",
   "execution_count": 46,
   "id": "1d24aafc",
   "metadata": {
    "ExecuteTime": {
     "end_time": "2022-06-27T20:22:48.481135Z",
     "start_time": "2022-06-27T20:22:48.450415Z"
    }
   },
   "outputs": [
    {
     "data": {
      "text/html": [
       "<div>\n",
       "<style scoped>\n",
       "    .dataframe tbody tr th:only-of-type {\n",
       "        vertical-align: middle;\n",
       "    }\n",
       "\n",
       "    .dataframe tbody tr th {\n",
       "        vertical-align: top;\n",
       "    }\n",
       "\n",
       "    .dataframe thead th {\n",
       "        text-align: right;\n",
       "    }\n",
       "</style>\n",
       "<table border=\"1\" class=\"dataframe\">\n",
       "  <thead>\n",
       "    <tr style=\"text-align: right;\">\n",
       "      <th></th>\n",
       "      <th>mean_fit_time</th>\n",
       "      <th>std_fit_time</th>\n",
       "      <th>mean_score_time</th>\n",
       "      <th>std_score_time</th>\n",
       "      <th>param_estimator</th>\n",
       "      <th>param_reduction</th>\n",
       "      <th>param_reduction__n_components</th>\n",
       "      <th>params</th>\n",
       "      <th>mean_test_score</th>\n",
       "      <th>std_test_score</th>\n",
       "      <th>rank_test_score</th>\n",
       "      <th>mean_train_score</th>\n",
       "      <th>std_train_score</th>\n",
       "    </tr>\n",
       "  </thead>\n",
       "  <tbody>\n",
       "    <tr>\n",
       "      <th>18</th>\n",
       "      <td>8.297146</td>\n",
       "      <td>0.179732</td>\n",
       "      <td>0.104479</td>\n",
       "      <td>0.011208</td>\n",
       "      <td>RandomForestClassifier()</td>\n",
       "      <td>TruncatedSVD(n_components=94)</td>\n",
       "      <td>94</td>\n",
       "      <td>{'estimator': RandomForestClassifier(), 'reduc...</td>\n",
       "      <td>0.772195</td>\n",
       "      <td>0.004382</td>\n",
       "      <td>1</td>\n",
       "      <td>0.980415</td>\n",
       "      <td>0.000573</td>\n",
       "    </tr>\n",
       "    <tr>\n",
       "      <th>19</th>\n",
       "      <td>7.453844</td>\n",
       "      <td>0.950840</td>\n",
       "      <td>0.066929</td>\n",
       "      <td>0.016220</td>\n",
       "      <td>RandomForestClassifier()</td>\n",
       "      <td>TruncatedSVD(n_components=94)</td>\n",
       "      <td>100</td>\n",
       "      <td>{'estimator': RandomForestClassifier(), 'reduc...</td>\n",
       "      <td>0.770370</td>\n",
       "      <td>0.006810</td>\n",
       "      <td>2</td>\n",
       "      <td>0.980415</td>\n",
       "      <td>0.000573</td>\n",
       "    </tr>\n",
       "    <tr>\n",
       "      <th>15</th>\n",
       "      <td>6.954813</td>\n",
       "      <td>0.143970</td>\n",
       "      <td>0.101653</td>\n",
       "      <td>0.010261</td>\n",
       "      <td>RandomForestClassifier()</td>\n",
       "      <td>TruncatedSVD(n_components=94)</td>\n",
       "      <td>79</td>\n",
       "      <td>{'estimator': RandomForestClassifier(), 'reduc...</td>\n",
       "      <td>0.769941</td>\n",
       "      <td>0.006921</td>\n",
       "      <td>3</td>\n",
       "      <td>0.980272</td>\n",
       "      <td>0.000624</td>\n",
       "    </tr>\n",
       "    <tr>\n",
       "      <th>12</th>\n",
       "      <td>6.247024</td>\n",
       "      <td>0.077220</td>\n",
       "      <td>0.095330</td>\n",
       "      <td>0.010359</td>\n",
       "      <td>RandomForestClassifier()</td>\n",
       "      <td>TruncatedSVD(n_components=94)</td>\n",
       "      <td>63</td>\n",
       "      <td>{'estimator': RandomForestClassifier(), 'reduc...</td>\n",
       "      <td>0.769941</td>\n",
       "      <td>0.006597</td>\n",
       "      <td>4</td>\n",
       "      <td>0.980201</td>\n",
       "      <td>0.000626</td>\n",
       "    </tr>\n",
       "    <tr>\n",
       "      <th>16</th>\n",
       "      <td>7.641625</td>\n",
       "      <td>0.101980</td>\n",
       "      <td>0.109409</td>\n",
       "      <td>0.018464</td>\n",
       "      <td>RandomForestClassifier()</td>\n",
       "      <td>TruncatedSVD(n_components=94)</td>\n",
       "      <td>84</td>\n",
       "      <td>{'estimator': RandomForestClassifier(), 'reduc...</td>\n",
       "      <td>0.769189</td>\n",
       "      <td>0.007469</td>\n",
       "      <td>5</td>\n",
       "      <td>0.980344</td>\n",
       "      <td>0.000634</td>\n",
       "    </tr>\n",
       "    <tr>\n",
       "      <th>9</th>\n",
       "      <td>4.978319</td>\n",
       "      <td>0.194578</td>\n",
       "      <td>0.100025</td>\n",
       "      <td>0.018247</td>\n",
       "      <td>RandomForestClassifier()</td>\n",
       "      <td>TruncatedSVD(n_components=94)</td>\n",
       "      <td>48</td>\n",
       "      <td>{'estimator': RandomForestClassifier(), 'reduc...</td>\n",
       "      <td>0.768867</td>\n",
       "      <td>0.006456</td>\n",
       "      <td>6</td>\n",
       "      <td>0.980165</td>\n",
       "      <td>0.000654</td>\n",
       "    </tr>\n",
       "    <tr>\n",
       "      <th>13</th>\n",
       "      <td>6.696014</td>\n",
       "      <td>0.042125</td>\n",
       "      <td>0.094418</td>\n",
       "      <td>0.012222</td>\n",
       "      <td>RandomForestClassifier()</td>\n",
       "      <td>TruncatedSVD(n_components=94)</td>\n",
       "      <td>69</td>\n",
       "      <td>{'estimator': RandomForestClassifier(), 'reduc...</td>\n",
       "      <td>0.768760</td>\n",
       "      <td>0.005209</td>\n",
       "      <td>7</td>\n",
       "      <td>0.980201</td>\n",
       "      <td>0.000626</td>\n",
       "    </tr>\n",
       "    <tr>\n",
       "      <th>17</th>\n",
       "      <td>7.945547</td>\n",
       "      <td>0.124245</td>\n",
       "      <td>0.113679</td>\n",
       "      <td>0.018249</td>\n",
       "      <td>RandomForestClassifier()</td>\n",
       "      <td>TruncatedSVD(n_components=94)</td>\n",
       "      <td>89</td>\n",
       "      <td>{'estimator': RandomForestClassifier(), 'reduc...</td>\n",
       "      <td>0.768438</td>\n",
       "      <td>0.007310</td>\n",
       "      <td>8</td>\n",
       "      <td>0.980308</td>\n",
       "      <td>0.000599</td>\n",
       "    </tr>\n",
       "    <tr>\n",
       "      <th>10</th>\n",
       "      <td>6.095293</td>\n",
       "      <td>0.108542</td>\n",
       "      <td>0.096674</td>\n",
       "      <td>0.008474</td>\n",
       "      <td>RandomForestClassifier()</td>\n",
       "      <td>TruncatedSVD(n_components=94)</td>\n",
       "      <td>53</td>\n",
       "      <td>{'estimator': RandomForestClassifier(), 'reduc...</td>\n",
       "      <td>0.767901</td>\n",
       "      <td>0.009170</td>\n",
       "      <td>9</td>\n",
       "      <td>0.980201</td>\n",
       "      <td>0.000626</td>\n",
       "    </tr>\n",
       "    <tr>\n",
       "      <th>14</th>\n",
       "      <td>6.680552</td>\n",
       "      <td>0.121103</td>\n",
       "      <td>0.102307</td>\n",
       "      <td>0.012871</td>\n",
       "      <td>RandomForestClassifier()</td>\n",
       "      <td>TruncatedSVD(n_components=94)</td>\n",
       "      <td>74</td>\n",
       "      <td>{'estimator': RandomForestClassifier(), 'reduc...</td>\n",
       "      <td>0.767794</td>\n",
       "      <td>0.006302</td>\n",
       "      <td>10</td>\n",
       "      <td>0.980308</td>\n",
       "      <td>0.000599</td>\n",
       "    </tr>\n",
       "  </tbody>\n",
       "</table>\n",
       "</div>"
      ],
      "text/plain": [
       "    mean_fit_time  std_fit_time  mean_score_time  std_score_time  \\\n",
       "18       8.297146      0.179732         0.104479        0.011208   \n",
       "19       7.453844      0.950840         0.066929        0.016220   \n",
       "15       6.954813      0.143970         0.101653        0.010261   \n",
       "12       6.247024      0.077220         0.095330        0.010359   \n",
       "16       7.641625      0.101980         0.109409        0.018464   \n",
       "9        4.978319      0.194578         0.100025        0.018247   \n",
       "13       6.696014      0.042125         0.094418        0.012222   \n",
       "17       7.945547      0.124245         0.113679        0.018249   \n",
       "10       6.095293      0.108542         0.096674        0.008474   \n",
       "14       6.680552      0.121103         0.102307        0.012871   \n",
       "\n",
       "             param_estimator                param_reduction  \\\n",
       "18  RandomForestClassifier()  TruncatedSVD(n_components=94)   \n",
       "19  RandomForestClassifier()  TruncatedSVD(n_components=94)   \n",
       "15  RandomForestClassifier()  TruncatedSVD(n_components=94)   \n",
       "12  RandomForestClassifier()  TruncatedSVD(n_components=94)   \n",
       "16  RandomForestClassifier()  TruncatedSVD(n_components=94)   \n",
       "9   RandomForestClassifier()  TruncatedSVD(n_components=94)   \n",
       "13  RandomForestClassifier()  TruncatedSVD(n_components=94)   \n",
       "17  RandomForestClassifier()  TruncatedSVD(n_components=94)   \n",
       "10  RandomForestClassifier()  TruncatedSVD(n_components=94)   \n",
       "14  RandomForestClassifier()  TruncatedSVD(n_components=94)   \n",
       "\n",
       "   param_reduction__n_components  \\\n",
       "18                            94   \n",
       "19                           100   \n",
       "15                            79   \n",
       "12                            63   \n",
       "16                            84   \n",
       "9                             48   \n",
       "13                            69   \n",
       "17                            89   \n",
       "10                            53   \n",
       "14                            74   \n",
       "\n",
       "                                               params  mean_test_score  \\\n",
       "18  {'estimator': RandomForestClassifier(), 'reduc...         0.772195   \n",
       "19  {'estimator': RandomForestClassifier(), 'reduc...         0.770370   \n",
       "15  {'estimator': RandomForestClassifier(), 'reduc...         0.769941   \n",
       "12  {'estimator': RandomForestClassifier(), 'reduc...         0.769941   \n",
       "16  {'estimator': RandomForestClassifier(), 'reduc...         0.769189   \n",
       "9   {'estimator': RandomForestClassifier(), 'reduc...         0.768867   \n",
       "13  {'estimator': RandomForestClassifier(), 'reduc...         0.768760   \n",
       "17  {'estimator': RandomForestClassifier(), 'reduc...         0.768438   \n",
       "10  {'estimator': RandomForestClassifier(), 'reduc...         0.767901   \n",
       "14  {'estimator': RandomForestClassifier(), 'reduc...         0.767794   \n",
       "\n",
       "    std_test_score  rank_test_score  mean_train_score  std_train_score  \n",
       "18        0.004382                1          0.980415         0.000573  \n",
       "19        0.006810                2          0.980415         0.000573  \n",
       "15        0.006921                3          0.980272         0.000624  \n",
       "12        0.006597                4          0.980201         0.000626  \n",
       "16        0.007469                5          0.980344         0.000634  \n",
       "9         0.006456                6          0.980165         0.000654  \n",
       "13        0.005209                7          0.980201         0.000626  \n",
       "17        0.007310                8          0.980308         0.000599  \n",
       "10        0.009170                9          0.980201         0.000626  \n",
       "14        0.006302               10          0.980308         0.000599  "
      ]
     },
     "execution_count": 46,
     "metadata": {},
     "output_type": "execute_result"
    }
   ],
   "source": [
    "res = pd.DataFrame(grid.cv_results_)\n",
    "cols = [i for i in res.columns if \"split\" not in i ]\n",
    "res = res[cols]\n",
    "res.sort_values(\"rank_test_score\").head(10)"
   ]
  },
  {
   "cell_type": "code",
   "execution_count": 349,
   "id": "a264dbcd",
   "metadata": {
    "ExecuteTime": {
     "end_time": "2022-06-27T20:22:48.624588Z",
     "start_time": "2022-06-27T20:22:48.482539Z"
    }
   },
   "outputs": [
    {
     "data": {
      "text/plain": [
       "<matplotlib.collections.PathCollection at 0x2bb7bb5e0>"
      ]
     },
     "execution_count": 349,
     "metadata": {},
     "output_type": "execute_result"
    },
    {
     "data": {
      "image/png": "[encoded data removed]",
      "text/plain": [
       "<Figure size 432x288 with 1 Axes>"
      ]
     },
     "metadata": {},
     "output_type": "display_data"
    }
   ],
   "source": [
    "plt.scatter(res.param_reduction__n_components, res.mean_test_score)"
   ]
  },
  {
   "cell_type": "code",
   "execution_count": 350,
   "id": "82345c63",
   "metadata": {
    "ExecuteTime": {
     "end_time": "2022-06-27T20:22:48.763577Z",
     "start_time": "2022-06-27T20:22:48.626972Z"
    }
   },
   "outputs": [
    {
     "data": {
      "text/plain": [
       "<matplotlib.collections.PathCollection at 0x2bbc897b0>"
      ]
     },
     "execution_count": 350,
     "metadata": {},
     "output_type": "execute_result"
    },
    {
     "data": {
      "image/png": "[encoded data removed]",
      "text/plain": [
       "<Figure size 432x288 with 1 Axes>"
      ]
     },
     "metadata": {},
     "output_type": "display_data"
    }
   ],
   "source": [
    "plt.scatter(res.param_reduction__n_components, res.mean_fit_time)"
   ]
  },
  {
   "cell_type": "code",
   "execution_count": null,
   "id": "946e2040",
   "metadata": {},
   "outputs": [],
   "source": []
  },
  {
   "cell_type": "code",
   "execution_count": null,
   "id": "36f42ae4",
   "metadata": {},
   "outputs": [],
   "source": []
  },
  {
   "cell_type": "code",
   "execution_count": null,
   "id": "2a2b2df7",
   "metadata": {},
   "outputs": [],
   "source": []
  }
 ],
 "metadata": {
  "hide_input": false,
  "kernelspec": {
   "display_name": "Python 3 (ipykernel)",
   "language": "python",
   "name": "python3"
  },
  "language_info": {
   "codemirror_mode": {
    "name": "ipython",
    "version": 3
   },
   "file_extension": ".py",
   "mimetype": "text/x-python",
   "name": "python",
   "nbconvert_exporter": "python",
   "pygments_lexer": "ipython3",
   "version": "3.10.5"
  }
 },
 "nbformat": 4,
 "nbformat_minor": 5
}
