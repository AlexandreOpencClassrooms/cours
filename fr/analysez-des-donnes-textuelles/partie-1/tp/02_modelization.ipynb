{
 "cells": [
  {
   "cell_type": "markdown",
   "id": "90d846cb",
   "metadata": {},
   "source": [
    "# 1. Preliminary"
   ]
  },
  {
   "cell_type": "markdown",
   "id": "03838406",
   "metadata": {},
   "source": [
    "## 1.1 Context"
   ]
  },
  {
   "cell_type": "code",
   "execution_count": null,
   "id": "37885c7f",
   "metadata": {},
   "outputs": [],
   "source": []
  },
  {
   "cell_type": "markdown",
   "id": "97396f16",
   "metadata": {},
   "source": [
    "## 1.2 Imports"
   ]
  },
  {
   "cell_type": "code",
   "execution_count": 1,
   "id": "d56dbd5f",
   "metadata": {
    "ExecuteTime": {
     "end_time": "2022-06-27T20:17:56.861637Z",
     "start_time": "2022-06-27T20:17:55.151760Z"
    }
   },
   "outputs": [],
   "source": [
    "# builtin\n",
    "import os, sys, time, random\n",
    "\n",
    "\n",
    "# data\n",
    "import pandas as pd\n",
    "import numpy as np\n",
    "\n",
    "\n",
    "# NLP\n",
    "import nltk\n",
    "from nltk.stem import WordNetLemmatizer, PorterStemmer\n",
    "from nltk.tokenize import word_tokenize, wordpunct_tokenize\n",
    "from nltk.corpus import words\n",
    "from nltk.corpus import stopwords\n",
    "from nltk.tokenize import RegexpTokenizer\n",
    "\n",
    "import spacy\n",
    "\n",
    "\n",
    "# ML\n",
    "from sklearn.pipeline import Pipeline\n",
    "from sklearn.preprocessing import *\n",
    "from sklearn.feature_extraction.text import TfidfVectorizer\n",
    "from sklearn.decomposition import LatentDirichletAllocation as LDA\n",
    "from sklearn.decomposition import TruncatedSVD , PCA\n",
    "from sklearn.ensemble import RandomForestClassifier\n",
    "from sklearn.model_selection import GridSearchCV\n",
    "from sklearn.model_selection import ShuffleSplit\n",
    "\n",
    "\n",
    "# viz\n",
    "import seaborn as sns\n",
    "import matplotlib.pyplot as plt\n",
    "import plotly as px\n",
    "from wordcloud import WordCloud\n",
    "from PIL import Image\n",
    "\n",
    "\n",
    "# parallelisation\n",
    "from pandarallel import pandarallel"
   ]
  },
  {
   "cell_type": "markdown",
   "id": "11514be6",
   "metadata": {},
   "source": [
    "## 1.3 downloads and options"
   ]
  },
  {
   "cell_type": "code",
   "execution_count": 2,
   "id": "f8f872b9",
   "metadata": {
    "ExecuteTime": {
     "end_time": "2022-06-27T20:17:56.993037Z",
     "start_time": "2022-06-27T20:17:56.863281Z"
    }
   },
   "outputs": [
    {
     "name": "stderr",
     "output_type": "stream",
     "text": [
      "[nltk_data] Downloading package omw-1.4 to /home/alex/nltk_data...\n",
      "[nltk_data]   Package omw-1.4 is already up-to-date!\n",
      "[nltk_data] Downloading package wordnet to /home/alex/nltk_data...\n",
      "[nltk_data]   Package wordnet is already up-to-date!\n",
      "[nltk_data] Downloading package stopwords to /home/alex/nltk_data...\n",
      "[nltk_data]   Package stopwords is already up-to-date!\n",
      "[nltk_data] Downloading package words to /home/alex/nltk_data...\n",
      "[nltk_data]   Package words is already up-to-date!\n"
     ]
    },
    {
     "data": {
      "text/plain": [
       "True"
      ]
     },
     "execution_count": 2,
     "metadata": {},
     "output_type": "execute_result"
    }
   ],
   "source": [
    "nltk.download('omw-1.4')\n",
    "nltk.download('wordnet')\n",
    "nltk.download('stopwords')\n",
    "nltk.download('words')"
   ]
  },
  {
   "cell_type": "code",
   "execution_count": 3,
   "id": "d987469d",
   "metadata": {
    "ExecuteTime": {
     "end_time": "2022-06-27T20:17:57.001064Z",
     "start_time": "2022-06-27T20:17:56.997867Z"
    }
   },
   "outputs": [],
   "source": [
    "# init sns\n",
    "\n",
    "sns.set()"
   ]
  },
  {
   "cell_type": "code",
   "execution_count": 4,
   "id": "88a8d156",
   "metadata": {
    "ExecuteTime": {
     "end_time": "2022-06-27T20:17:57.007435Z",
     "start_time": "2022-06-27T20:17:57.002781Z"
    }
   },
   "outputs": [
    {
     "name": "stdout",
     "output_type": "stream",
     "text": [
      "INFO: Pandarallel will run on 4 workers.\n",
      "INFO: Pandarallel will use Memory file system to transfer data between the main process and workers.\n"
     ]
    }
   ],
   "source": [
    "# init pandarallel\n",
    "\n",
    "pandarallel.initialize()"
   ]
  },
  {
   "cell_type": "markdown",
   "id": "1880a917",
   "metadata": {},
   "source": [
    "## 1.4 Loading data"
   ]
  },
  {
   "cell_type": "code",
   "execution_count": 5,
   "id": "c046fdbb",
   "metadata": {
    "ExecuteTime": {
     "end_time": "2022-06-27T20:17:57.013977Z",
     "start_time": "2022-06-27T20:17:57.009502Z"
    }
   },
   "outputs": [
    {
     "data": {
      "text/plain": [
       "['df.csv',\n",
       " 'final_df.csv',\n",
       " 'unique_words.csv',\n",
       " 'finad_df.csv',\n",
       " 'min_5_words.csv']"
      ]
     },
     "execution_count": 5,
     "metadata": {},
     "output_type": "execute_result"
    }
   ],
   "source": [
    "# our file\n",
    "\n",
    "data = \"./data/cleaned/\"\n",
    "os.listdir(data)"
   ]
  },
  {
   "cell_type": "code",
   "execution_count": 6,
   "id": "e699e715",
   "metadata": {
    "ExecuteTime": {
     "end_time": "2022-06-27T20:17:57.037264Z",
     "start_time": "2022-06-27T20:17:57.015613Z"
    }
   },
   "outputs": [],
   "source": [
    "# load dataframe\n",
    "\n",
    "fn = data + 'final_df.csv'\n",
    "df = pd.read_csv(fn)"
   ]
  },
  {
   "cell_type": "code",
   "execution_count": 7,
   "id": "30a66d13",
   "metadata": {
    "ExecuteTime": {
     "end_time": "2022-06-27T20:17:57.055595Z",
     "start_time": "2022-06-27T20:17:57.041717Z"
    }
   },
   "outputs": [
    {
     "data": {
      "text/html": [
       "<div>\n",
       "<style scoped>\n",
       "    .dataframe tbody tr th:only-of-type {\n",
       "        vertical-align: middle;\n",
       "    }\n",
       "\n",
       "    .dataframe tbody tr th {\n",
       "        vertical-align: top;\n",
       "    }\n",
       "\n",
       "    .dataframe thead th {\n",
       "        text-align: right;\n",
       "    }\n",
       "</style>\n",
       "<table border=\"1\" class=\"dataframe\">\n",
       "  <thead>\n",
       "    <tr style=\"text-align: right;\">\n",
       "      <th></th>\n",
       "      <th>text</th>\n",
       "      <th>target</th>\n",
       "      <th>_len_txt</th>\n",
       "      <th>clean_text</th>\n",
       "    </tr>\n",
       "  </thead>\n",
       "  <tbody>\n",
       "    <tr>\n",
       "      <th>0</th>\n",
       "      <td>Our Deeds are the Reason of this #earthquake M...</td>\n",
       "      <td>1</td>\n",
       "      <td>69</td>\n",
       "      <td>reason earthquak may allah</td>\n",
       "    </tr>\n",
       "    <tr>\n",
       "      <th>1</th>\n",
       "      <td>Forest fire near La Ronge Sask. Canada</td>\n",
       "      <td>1</td>\n",
       "      <td>38</td>\n",
       "      <td>forest fire near canada</td>\n",
       "    </tr>\n",
       "  </tbody>\n",
       "</table>\n",
       "</div>"
      ],
      "text/plain": [
       "                                                text  target  _len_txt  \\\n",
       "0  Our Deeds are the Reason of this #earthquake M...       1        69   \n",
       "1             Forest fire near La Ronge Sask. Canada       1        38   \n",
       "\n",
       "                   clean_text  \n",
       "0  reason earthquak may allah  \n",
       "1     forest fire near canada  "
      ]
     },
     "execution_count": 7,
     "metadata": {},
     "output_type": "execute_result"
    }
   ],
   "source": [
    "df.head(2)"
   ]
  },
  {
   "cell_type": "code",
   "execution_count": 12,
   "id": "48a618f0",
   "metadata": {
    "ExecuteTime": {
     "end_time": "2022-06-27T20:18:27.848266Z",
     "start_time": "2022-06-27T20:18:27.825554Z"
    }
   },
   "outputs": [
    {
     "data": {
      "text/html": [
       "<div>\n",
       "<style scoped>\n",
       "    .dataframe tbody tr th:only-of-type {\n",
       "        vertical-align: middle;\n",
       "    }\n",
       "\n",
       "    .dataframe tbody tr th {\n",
       "        vertical-align: top;\n",
       "    }\n",
       "\n",
       "    .dataframe thead th {\n",
       "        text-align: right;\n",
       "    }\n",
       "</style>\n",
       "<table border=\"1\" class=\"dataframe\">\n",
       "  <thead>\n",
       "    <tr style=\"text-align: right;\">\n",
       "      <th></th>\n",
       "      <th>text</th>\n",
       "      <th>target</th>\n",
       "      <th>_len_txt</th>\n",
       "      <th>clean_text</th>\n",
       "    </tr>\n",
       "  </thead>\n",
       "  <tbody>\n",
       "    <tr>\n",
       "      <th>0</th>\n",
       "      <td>Our Deeds are the Reason of this #earthquake M...</td>\n",
       "      <td>1</td>\n",
       "      <td>69</td>\n",
       "      <td>reason earthquak may allah</td>\n",
       "    </tr>\n",
       "    <tr>\n",
       "      <th>1</th>\n",
       "      <td>Forest fire near La Ronge Sask. Canada</td>\n",
       "      <td>1</td>\n",
       "      <td>38</td>\n",
       "      <td>forest fire near canada</td>\n",
       "    </tr>\n",
       "    <tr>\n",
       "      <th>2</th>\n",
       "      <td>All residents asked to 'shelter in place' are ...</td>\n",
       "      <td>1</td>\n",
       "      <td>133</td>\n",
       "      <td>resid ask shelter place offic evacu shelter pl...</td>\n",
       "    </tr>\n",
       "    <tr>\n",
       "      <th>3</th>\n",
       "      <td>13,000 people receive #wildfires evacuation or...</td>\n",
       "      <td>1</td>\n",
       "      <td>65</td>\n",
       "      <td>peopl wildfir evacu order california</td>\n",
       "    </tr>\n",
       "    <tr>\n",
       "      <th>4</th>\n",
       "      <td>Just got sent this photo from Ruby #Alaska as ...</td>\n",
       "      <td>1</td>\n",
       "      <td>88</td>\n",
       "      <td>got sent photo alaska smoke wildfir school</td>\n",
       "    </tr>\n",
       "    <tr>\n",
       "      <th>...</th>\n",
       "      <td>...</td>\n",
       "      <td>...</td>\n",
       "      <td>...</td>\n",
       "      <td>...</td>\n",
       "    </tr>\n",
       "    <tr>\n",
       "      <th>7608</th>\n",
       "      <td>Two giant cranes holding a bridge collapse int...</td>\n",
       "      <td>1</td>\n",
       "      <td>83</td>\n",
       "      <td>two giant crane hold bridg collaps nearbi home</td>\n",
       "    </tr>\n",
       "    <tr>\n",
       "      <th>7609</th>\n",
       "      <td>@aria_ahrary @TheTawniest The out of control w...</td>\n",
       "      <td>1</td>\n",
       "      <td>125</td>\n",
       "      <td>control wild fire california even northern par...</td>\n",
       "    </tr>\n",
       "    <tr>\n",
       "      <th>7610</th>\n",
       "      <td>M1.94 [01:04 UTC]?5km S of Volcano Hawaii. htt...</td>\n",
       "      <td>1</td>\n",
       "      <td>65</td>\n",
       "      <td>volcano</td>\n",
       "    </tr>\n",
       "    <tr>\n",
       "      <th>7611</th>\n",
       "      <td>Police investigating after an e-bike collided ...</td>\n",
       "      <td>1</td>\n",
       "      <td>137</td>\n",
       "      <td>polic investig bike collid car littl bike seri...</td>\n",
       "    </tr>\n",
       "    <tr>\n",
       "      <th>7612</th>\n",
       "      <td>The Latest: More Homes Razed by Northern Calif...</td>\n",
       "      <td>1</td>\n",
       "      <td>94</td>\n",
       "      <td>latest home raze northern california wildfir news</td>\n",
       "    </tr>\n",
       "  </tbody>\n",
       "</table>\n",
       "<p>7560 rows × 4 columns</p>\n",
       "</div>"
      ],
      "text/plain": [
       "                                                   text  target  _len_txt  \\\n",
       "0     Our Deeds are the Reason of this #earthquake M...       1        69   \n",
       "1                Forest fire near La Ronge Sask. Canada       1        38   \n",
       "2     All residents asked to 'shelter in place' are ...       1       133   \n",
       "3     13,000 people receive #wildfires evacuation or...       1        65   \n",
       "4     Just got sent this photo from Ruby #Alaska as ...       1        88   \n",
       "...                                                 ...     ...       ...   \n",
       "7608  Two giant cranes holding a bridge collapse int...       1        83   \n",
       "7609  @aria_ahrary @TheTawniest The out of control w...       1       125   \n",
       "7610  M1.94 [01:04 UTC]?5km S of Volcano Hawaii. htt...       1        65   \n",
       "7611  Police investigating after an e-bike collided ...       1       137   \n",
       "7612  The Latest: More Homes Razed by Northern Calif...       1        94   \n",
       "\n",
       "                                             clean_text  \n",
       "0                            reason earthquak may allah  \n",
       "1                               forest fire near canada  \n",
       "2     resid ask shelter place offic evacu shelter pl...  \n",
       "3                  peopl wildfir evacu order california  \n",
       "4            got sent photo alaska smoke wildfir school  \n",
       "...                                                 ...  \n",
       "7608     two giant crane hold bridg collaps nearbi home  \n",
       "7609  control wild fire california even northern par...  \n",
       "7610                                            volcano  \n",
       "7611  polic investig bike collid car littl bike seri...  \n",
       "7612  latest home raze northern california wildfir news  \n",
       "\n",
       "[7560 rows x 4 columns]"
      ]
     },
     "execution_count": 12,
     "metadata": {},
     "output_type": "execute_result"
    }
   ],
   "source": [
    "df"
   ]
  },
  {
   "cell_type": "code",
   "execution_count": 8,
   "id": "fc900d82",
   "metadata": {
    "ExecuteTime": {
     "end_time": "2022-06-27T20:17:57.066433Z",
     "start_time": "2022-06-27T20:17:57.058215Z"
    }
   },
   "outputs": [
    {
     "data": {
      "text/plain": [
       "text           0\n",
       "target         0\n",
       "_len_txt       0\n",
       "clean_text    53\n",
       "dtype: int64"
      ]
     },
     "execution_count": 8,
     "metadata": {},
     "output_type": "execute_result"
    }
   ],
   "source": [
    "df.isna().sum()"
   ]
  },
  {
   "cell_type": "code",
   "execution_count": 11,
   "id": "c4e82d61",
   "metadata": {
    "ExecuteTime": {
     "end_time": "2022-06-27T20:18:19.576096Z",
     "start_time": "2022-06-27T20:18:19.561331Z"
    }
   },
   "outputs": [
    {
     "data": {
      "text/html": [
       "<div>\n",
       "<style scoped>\n",
       "    .dataframe tbody tr th:only-of-type {\n",
       "        vertical-align: middle;\n",
       "    }\n",
       "\n",
       "    .dataframe tbody tr th {\n",
       "        vertical-align: top;\n",
       "    }\n",
       "\n",
       "    .dataframe thead th {\n",
       "        text-align: right;\n",
       "    }\n",
       "</style>\n",
       "<table border=\"1\" class=\"dataframe\">\n",
       "  <thead>\n",
       "    <tr style=\"text-align: right;\">\n",
       "      <th></th>\n",
       "      <th>text</th>\n",
       "      <th>target</th>\n",
       "      <th>_len_txt</th>\n",
       "      <th>clean_text</th>\n",
       "    </tr>\n",
       "  </thead>\n",
       "  <tbody>\n",
       "    <tr>\n",
       "      <th>0</th>\n",
       "      <td>Our Deeds are the Reason of this #earthquake M...</td>\n",
       "      <td>1</td>\n",
       "      <td>69</td>\n",
       "      <td>reason earthquak may allah</td>\n",
       "    </tr>\n",
       "    <tr>\n",
       "      <th>1</th>\n",
       "      <td>Forest fire near La Ronge Sask. Canada</td>\n",
       "      <td>1</td>\n",
       "      <td>38</td>\n",
       "      <td>forest fire near canada</td>\n",
       "    </tr>\n",
       "    <tr>\n",
       "      <th>2</th>\n",
       "      <td>All residents asked to 'shelter in place' are ...</td>\n",
       "      <td>1</td>\n",
       "      <td>133</td>\n",
       "      <td>resid ask shelter place offic evacu shelter pl...</td>\n",
       "    </tr>\n",
       "    <tr>\n",
       "      <th>3</th>\n",
       "      <td>13,000 people receive #wildfires evacuation or...</td>\n",
       "      <td>1</td>\n",
       "      <td>65</td>\n",
       "      <td>peopl wildfir evacu order california</td>\n",
       "    </tr>\n",
       "    <tr>\n",
       "      <th>4</th>\n",
       "      <td>Just got sent this photo from Ruby #Alaska as ...</td>\n",
       "      <td>1</td>\n",
       "      <td>88</td>\n",
       "      <td>got sent photo alaska smoke wildfir school</td>\n",
       "    </tr>\n",
       "    <tr>\n",
       "      <th>...</th>\n",
       "      <td>...</td>\n",
       "      <td>...</td>\n",
       "      <td>...</td>\n",
       "      <td>...</td>\n",
       "    </tr>\n",
       "    <tr>\n",
       "      <th>7608</th>\n",
       "      <td>Two giant cranes holding a bridge collapse int...</td>\n",
       "      <td>1</td>\n",
       "      <td>83</td>\n",
       "      <td>two giant crane hold bridg collaps nearbi home</td>\n",
       "    </tr>\n",
       "    <tr>\n",
       "      <th>7609</th>\n",
       "      <td>@aria_ahrary @TheTawniest The out of control w...</td>\n",
       "      <td>1</td>\n",
       "      <td>125</td>\n",
       "      <td>control wild fire california even northern par...</td>\n",
       "    </tr>\n",
       "    <tr>\n",
       "      <th>7610</th>\n",
       "      <td>M1.94 [01:04 UTC]?5km S of Volcano Hawaii. htt...</td>\n",
       "      <td>1</td>\n",
       "      <td>65</td>\n",
       "      <td>volcano</td>\n",
       "    </tr>\n",
       "    <tr>\n",
       "      <th>7611</th>\n",
       "      <td>Police investigating after an e-bike collided ...</td>\n",
       "      <td>1</td>\n",
       "      <td>137</td>\n",
       "      <td>polic investig bike collid car littl bike seri...</td>\n",
       "    </tr>\n",
       "    <tr>\n",
       "      <th>7612</th>\n",
       "      <td>The Latest: More Homes Razed by Northern Calif...</td>\n",
       "      <td>1</td>\n",
       "      <td>94</td>\n",
       "      <td>latest home raze northern california wildfir news</td>\n",
       "    </tr>\n",
       "  </tbody>\n",
       "</table>\n",
       "<p>7560 rows × 4 columns</p>\n",
       "</div>"
      ],
      "text/plain": [
       "                                                   text  target  _len_txt  \\\n",
       "0     Our Deeds are the Reason of this #earthquake M...       1        69   \n",
       "1                Forest fire near La Ronge Sask. Canada       1        38   \n",
       "2     All residents asked to 'shelter in place' are ...       1       133   \n",
       "3     13,000 people receive #wildfires evacuation or...       1        65   \n",
       "4     Just got sent this photo from Ruby #Alaska as ...       1        88   \n",
       "...                                                 ...     ...       ...   \n",
       "7608  Two giant cranes holding a bridge collapse int...       1        83   \n",
       "7609  @aria_ahrary @TheTawniest The out of control w...       1       125   \n",
       "7610  M1.94 [01:04 UTC]?5km S of Volcano Hawaii. htt...       1        65   \n",
       "7611  Police investigating after an e-bike collided ...       1       137   \n",
       "7612  The Latest: More Homes Razed by Northern Calif...       1        94   \n",
       "\n",
       "                                             clean_text  \n",
       "0                            reason earthquak may allah  \n",
       "1                               forest fire near canada  \n",
       "2     resid ask shelter place offic evacu shelter pl...  \n",
       "3                  peopl wildfir evacu order california  \n",
       "4            got sent photo alaska smoke wildfir school  \n",
       "...                                                 ...  \n",
       "7608     two giant crane hold bridg collaps nearbi home  \n",
       "7609  control wild fire california even northern par...  \n",
       "7610                                            volcano  \n",
       "7611  polic investig bike collid car littl bike seri...  \n",
       "7612  latest home raze northern california wildfir news  \n",
       "\n",
       "[7560 rows x 4 columns]"
      ]
     },
     "execution_count": 11,
     "metadata": {},
     "output_type": "execute_result"
    }
   ],
   "source": [
    "df =df.dropna()\n",
    "df"
   ]
  },
  {
   "cell_type": "markdown",
   "id": "d5ca41f4",
   "metadata": {},
   "source": [
    "# 2. Modelisation"
   ]
  },
  {
   "cell_type": "markdown",
   "id": "36ded8ae",
   "metadata": {},
   "source": [
    "## Tf Idf"
   ]
  },
  {
   "cell_type": "code",
   "execution_count": 13,
   "id": "7cbfa215",
   "metadata": {
    "ExecuteTime": {
     "end_time": "2022-06-27T20:18:32.757341Z",
     "start_time": "2022-06-27T20:18:32.705693Z"
    }
   },
   "outputs": [
    {
     "data": {
      "text/plain": [
       "<7560x1692 sparse matrix of type '<class 'numpy.float64'>'\n",
       "\twith 40054 stored elements in Compressed Sparse Row format>"
      ]
     },
     "execution_count": 13,
     "metadata": {},
     "output_type": "execute_result"
    }
   ],
   "source": [
    "tf = TfidfVectorizer()\n",
    "X = tf.fit_transform(df.clean_text)\n",
    "X"
   ]
  },
  {
   "cell_type": "code",
   "execution_count": 14,
   "id": "b504243f",
   "metadata": {
    "ExecuteTime": {
     "end_time": "2022-06-27T20:18:36.173615Z",
     "start_time": "2022-06-27T20:18:36.106789Z"
    }
   },
   "outputs": [
    {
     "data": {
      "text/html": [
       "<div>\n",
       "<style scoped>\n",
       "    .dataframe tbody tr th:only-of-type {\n",
       "        vertical-align: middle;\n",
       "    }\n",
       "\n",
       "    .dataframe tbody tr th {\n",
       "        vertical-align: top;\n",
       "    }\n",
       "\n",
       "    .dataframe thead th {\n",
       "        text-align: right;\n",
       "    }\n",
       "</style>\n",
       "<table border=\"1\" class=\"dataframe\">\n",
       "  <thead>\n",
       "    <tr style=\"text-align: right;\">\n",
       "      <th></th>\n",
       "      <th>aba</th>\n",
       "      <th>abandon</th>\n",
       "      <th>abl</th>\n",
       "      <th>ablaz</th>\n",
       "      <th>absolut</th>\n",
       "      <th>absurdli</th>\n",
       "      <th>access</th>\n",
       "      <th>accid</th>\n",
       "      <th>accident</th>\n",
       "      <th>accord</th>\n",
       "      <th>...</th>\n",
       "      <th>yesterday</th>\n",
       "      <th>yet</th>\n",
       "      <th>york</th>\n",
       "      <th>young</th>\n",
       "      <th>youth</th>\n",
       "      <th>yr</th>\n",
       "      <th>zeal</th>\n",
       "      <th>zodiac</th>\n",
       "      <th>zombi</th>\n",
       "      <th>zone</th>\n",
       "    </tr>\n",
       "  </thead>\n",
       "  <tbody>\n",
       "    <tr>\n",
       "      <th>0</th>\n",
       "      <td>0.0</td>\n",
       "      <td>0.0</td>\n",
       "      <td>0.0</td>\n",
       "      <td>0.0</td>\n",
       "      <td>0.0</td>\n",
       "      <td>0.0</td>\n",
       "      <td>0.0</td>\n",
       "      <td>0.0</td>\n",
       "      <td>0.0</td>\n",
       "      <td>0.0</td>\n",
       "      <td>...</td>\n",
       "      <td>0.0</td>\n",
       "      <td>0.0</td>\n",
       "      <td>0.0</td>\n",
       "      <td>0.0</td>\n",
       "      <td>0.0</td>\n",
       "      <td>0.0</td>\n",
       "      <td>0.0</td>\n",
       "      <td>0.0</td>\n",
       "      <td>0.0</td>\n",
       "      <td>0.0</td>\n",
       "    </tr>\n",
       "    <tr>\n",
       "      <th>1</th>\n",
       "      <td>0.0</td>\n",
       "      <td>0.0</td>\n",
       "      <td>0.0</td>\n",
       "      <td>0.0</td>\n",
       "      <td>0.0</td>\n",
       "      <td>0.0</td>\n",
       "      <td>0.0</td>\n",
       "      <td>0.0</td>\n",
       "      <td>0.0</td>\n",
       "      <td>0.0</td>\n",
       "      <td>...</td>\n",
       "      <td>0.0</td>\n",
       "      <td>0.0</td>\n",
       "      <td>0.0</td>\n",
       "      <td>0.0</td>\n",
       "      <td>0.0</td>\n",
       "      <td>0.0</td>\n",
       "      <td>0.0</td>\n",
       "      <td>0.0</td>\n",
       "      <td>0.0</td>\n",
       "      <td>0.0</td>\n",
       "    </tr>\n",
       "    <tr>\n",
       "      <th>2</th>\n",
       "      <td>0.0</td>\n",
       "      <td>0.0</td>\n",
       "      <td>0.0</td>\n",
       "      <td>0.0</td>\n",
       "      <td>0.0</td>\n",
       "      <td>0.0</td>\n",
       "      <td>0.0</td>\n",
       "      <td>0.0</td>\n",
       "      <td>0.0</td>\n",
       "      <td>0.0</td>\n",
       "      <td>...</td>\n",
       "      <td>0.0</td>\n",
       "      <td>0.0</td>\n",
       "      <td>0.0</td>\n",
       "      <td>0.0</td>\n",
       "      <td>0.0</td>\n",
       "      <td>0.0</td>\n",
       "      <td>0.0</td>\n",
       "      <td>0.0</td>\n",
       "      <td>0.0</td>\n",
       "      <td>0.0</td>\n",
       "    </tr>\n",
       "    <tr>\n",
       "      <th>3</th>\n",
       "      <td>0.0</td>\n",
       "      <td>0.0</td>\n",
       "      <td>0.0</td>\n",
       "      <td>0.0</td>\n",
       "      <td>0.0</td>\n",
       "      <td>0.0</td>\n",
       "      <td>0.0</td>\n",
       "      <td>0.0</td>\n",
       "      <td>0.0</td>\n",
       "      <td>0.0</td>\n",
       "      <td>...</td>\n",
       "      <td>0.0</td>\n",
       "      <td>0.0</td>\n",
       "      <td>0.0</td>\n",
       "      <td>0.0</td>\n",
       "      <td>0.0</td>\n",
       "      <td>0.0</td>\n",
       "      <td>0.0</td>\n",
       "      <td>0.0</td>\n",
       "      <td>0.0</td>\n",
       "      <td>0.0</td>\n",
       "    </tr>\n",
       "    <tr>\n",
       "      <th>4</th>\n",
       "      <td>0.0</td>\n",
       "      <td>0.0</td>\n",
       "      <td>0.0</td>\n",
       "      <td>0.0</td>\n",
       "      <td>0.0</td>\n",
       "      <td>0.0</td>\n",
       "      <td>0.0</td>\n",
       "      <td>0.0</td>\n",
       "      <td>0.0</td>\n",
       "      <td>0.0</td>\n",
       "      <td>...</td>\n",
       "      <td>0.0</td>\n",
       "      <td>0.0</td>\n",
       "      <td>0.0</td>\n",
       "      <td>0.0</td>\n",
       "      <td>0.0</td>\n",
       "      <td>0.0</td>\n",
       "      <td>0.0</td>\n",
       "      <td>0.0</td>\n",
       "      <td>0.0</td>\n",
       "      <td>0.0</td>\n",
       "    </tr>\n",
       "    <tr>\n",
       "      <th>...</th>\n",
       "      <td>...</td>\n",
       "      <td>...</td>\n",
       "      <td>...</td>\n",
       "      <td>...</td>\n",
       "      <td>...</td>\n",
       "      <td>...</td>\n",
       "      <td>...</td>\n",
       "      <td>...</td>\n",
       "      <td>...</td>\n",
       "      <td>...</td>\n",
       "      <td>...</td>\n",
       "      <td>...</td>\n",
       "      <td>...</td>\n",
       "      <td>...</td>\n",
       "      <td>...</td>\n",
       "      <td>...</td>\n",
       "      <td>...</td>\n",
       "      <td>...</td>\n",
       "      <td>...</td>\n",
       "      <td>...</td>\n",
       "      <td>...</td>\n",
       "    </tr>\n",
       "    <tr>\n",
       "      <th>7555</th>\n",
       "      <td>0.0</td>\n",
       "      <td>0.0</td>\n",
       "      <td>0.0</td>\n",
       "      <td>0.0</td>\n",
       "      <td>0.0</td>\n",
       "      <td>0.0</td>\n",
       "      <td>0.0</td>\n",
       "      <td>0.0</td>\n",
       "      <td>0.0</td>\n",
       "      <td>0.0</td>\n",
       "      <td>...</td>\n",
       "      <td>0.0</td>\n",
       "      <td>0.0</td>\n",
       "      <td>0.0</td>\n",
       "      <td>0.0</td>\n",
       "      <td>0.0</td>\n",
       "      <td>0.0</td>\n",
       "      <td>0.0</td>\n",
       "      <td>0.0</td>\n",
       "      <td>0.0</td>\n",
       "      <td>0.0</td>\n",
       "    </tr>\n",
       "    <tr>\n",
       "      <th>7556</th>\n",
       "      <td>0.0</td>\n",
       "      <td>0.0</td>\n",
       "      <td>0.0</td>\n",
       "      <td>0.0</td>\n",
       "      <td>0.0</td>\n",
       "      <td>0.0</td>\n",
       "      <td>0.0</td>\n",
       "      <td>0.0</td>\n",
       "      <td>0.0</td>\n",
       "      <td>0.0</td>\n",
       "      <td>...</td>\n",
       "      <td>0.0</td>\n",
       "      <td>0.0</td>\n",
       "      <td>0.0</td>\n",
       "      <td>0.0</td>\n",
       "      <td>0.0</td>\n",
       "      <td>0.0</td>\n",
       "      <td>0.0</td>\n",
       "      <td>0.0</td>\n",
       "      <td>0.0</td>\n",
       "      <td>0.0</td>\n",
       "    </tr>\n",
       "    <tr>\n",
       "      <th>7557</th>\n",
       "      <td>0.0</td>\n",
       "      <td>0.0</td>\n",
       "      <td>0.0</td>\n",
       "      <td>0.0</td>\n",
       "      <td>0.0</td>\n",
       "      <td>0.0</td>\n",
       "      <td>0.0</td>\n",
       "      <td>0.0</td>\n",
       "      <td>0.0</td>\n",
       "      <td>0.0</td>\n",
       "      <td>...</td>\n",
       "      <td>0.0</td>\n",
       "      <td>0.0</td>\n",
       "      <td>0.0</td>\n",
       "      <td>0.0</td>\n",
       "      <td>0.0</td>\n",
       "      <td>0.0</td>\n",
       "      <td>0.0</td>\n",
       "      <td>0.0</td>\n",
       "      <td>0.0</td>\n",
       "      <td>0.0</td>\n",
       "    </tr>\n",
       "    <tr>\n",
       "      <th>7558</th>\n",
       "      <td>0.0</td>\n",
       "      <td>0.0</td>\n",
       "      <td>0.0</td>\n",
       "      <td>0.0</td>\n",
       "      <td>0.0</td>\n",
       "      <td>0.0</td>\n",
       "      <td>0.0</td>\n",
       "      <td>0.0</td>\n",
       "      <td>0.0</td>\n",
       "      <td>0.0</td>\n",
       "      <td>...</td>\n",
       "      <td>0.0</td>\n",
       "      <td>0.0</td>\n",
       "      <td>0.0</td>\n",
       "      <td>0.0</td>\n",
       "      <td>0.0</td>\n",
       "      <td>0.0</td>\n",
       "      <td>0.0</td>\n",
       "      <td>0.0</td>\n",
       "      <td>0.0</td>\n",
       "      <td>0.0</td>\n",
       "    </tr>\n",
       "    <tr>\n",
       "      <th>7559</th>\n",
       "      <td>0.0</td>\n",
       "      <td>0.0</td>\n",
       "      <td>0.0</td>\n",
       "      <td>0.0</td>\n",
       "      <td>0.0</td>\n",
       "      <td>0.0</td>\n",
       "      <td>0.0</td>\n",
       "      <td>0.0</td>\n",
       "      <td>0.0</td>\n",
       "      <td>0.0</td>\n",
       "      <td>...</td>\n",
       "      <td>0.0</td>\n",
       "      <td>0.0</td>\n",
       "      <td>0.0</td>\n",
       "      <td>0.0</td>\n",
       "      <td>0.0</td>\n",
       "      <td>0.0</td>\n",
       "      <td>0.0</td>\n",
       "      <td>0.0</td>\n",
       "      <td>0.0</td>\n",
       "      <td>0.0</td>\n",
       "    </tr>\n",
       "  </tbody>\n",
       "</table>\n",
       "<p>7560 rows × 1692 columns</p>\n",
       "</div>"
      ],
      "text/plain": [
       "      aba  abandon  abl  ablaz  absolut  absurdli  access  accid  accident  \\\n",
       "0     0.0      0.0  0.0    0.0      0.0       0.0     0.0    0.0       0.0   \n",
       "1     0.0      0.0  0.0    0.0      0.0       0.0     0.0    0.0       0.0   \n",
       "2     0.0      0.0  0.0    0.0      0.0       0.0     0.0    0.0       0.0   \n",
       "3     0.0      0.0  0.0    0.0      0.0       0.0     0.0    0.0       0.0   \n",
       "4     0.0      0.0  0.0    0.0      0.0       0.0     0.0    0.0       0.0   \n",
       "...   ...      ...  ...    ...      ...       ...     ...    ...       ...   \n",
       "7555  0.0      0.0  0.0    0.0      0.0       0.0     0.0    0.0       0.0   \n",
       "7556  0.0      0.0  0.0    0.0      0.0       0.0     0.0    0.0       0.0   \n",
       "7557  0.0      0.0  0.0    0.0      0.0       0.0     0.0    0.0       0.0   \n",
       "7558  0.0      0.0  0.0    0.0      0.0       0.0     0.0    0.0       0.0   \n",
       "7559  0.0      0.0  0.0    0.0      0.0       0.0     0.0    0.0       0.0   \n",
       "\n",
       "      accord  ...  yesterday  yet  york  young  youth   yr  zeal  zodiac  \\\n",
       "0        0.0  ...        0.0  0.0   0.0    0.0    0.0  0.0   0.0     0.0   \n",
       "1        0.0  ...        0.0  0.0   0.0    0.0    0.0  0.0   0.0     0.0   \n",
       "2        0.0  ...        0.0  0.0   0.0    0.0    0.0  0.0   0.0     0.0   \n",
       "3        0.0  ...        0.0  0.0   0.0    0.0    0.0  0.0   0.0     0.0   \n",
       "4        0.0  ...        0.0  0.0   0.0    0.0    0.0  0.0   0.0     0.0   \n",
       "...      ...  ...        ...  ...   ...    ...    ...  ...   ...     ...   \n",
       "7555     0.0  ...        0.0  0.0   0.0    0.0    0.0  0.0   0.0     0.0   \n",
       "7556     0.0  ...        0.0  0.0   0.0    0.0    0.0  0.0   0.0     0.0   \n",
       "7557     0.0  ...        0.0  0.0   0.0    0.0    0.0  0.0   0.0     0.0   \n",
       "7558     0.0  ...        0.0  0.0   0.0    0.0    0.0  0.0   0.0     0.0   \n",
       "7559     0.0  ...        0.0  0.0   0.0    0.0    0.0  0.0   0.0     0.0   \n",
       "\n",
       "      zombi  zone  \n",
       "0       0.0   0.0  \n",
       "1       0.0   0.0  \n",
       "2       0.0   0.0  \n",
       "3       0.0   0.0  \n",
       "4       0.0   0.0  \n",
       "...     ...   ...  \n",
       "7555    0.0   0.0  \n",
       "7556    0.0   0.0  \n",
       "7557    0.0   0.0  \n",
       "7558    0.0   0.0  \n",
       "7559    0.0   0.0  \n",
       "\n",
       "[7560 rows x 1692 columns]"
      ]
     },
     "execution_count": 14,
     "metadata": {},
     "output_type": "execute_result"
    }
   ],
   "source": [
    "X = pd.DataFrame(X.toarray(), columns=tf.get_feature_names_out())\n",
    "X"
   ]
  },
  {
   "cell_type": "markdown",
   "id": "6b18d6f3",
   "metadata": {},
   "source": [
    "## pca"
   ]
  },
  {
   "cell_type": "code",
   "execution_count": 15,
   "id": "fbf0238c",
   "metadata": {
    "ExecuteTime": {
     "end_time": "2022-06-27T20:18:45.395359Z",
     "start_time": "2022-06-27T20:18:41.056544Z"
    }
   },
   "outputs": [],
   "source": [
    "pca = PCA()\n",
    "X_pca = pca.fit_transform(X)"
   ]
  },
  {
   "cell_type": "code",
   "execution_count": 16,
   "id": "93667847",
   "metadata": {
    "ExecuteTime": {
     "end_time": "2022-06-27T20:18:45.402802Z",
     "start_time": "2022-06-27T20:18:45.398137Z"
    }
   },
   "outputs": [
    {
     "data": {
      "text/plain": [
       "array([6.29866954e-03, 5.98517622e-03, 5.74878266e-03, ...,\n",
       "       8.13508938e-35, 3.92724435e-35, 4.22274958e-36])"
      ]
     },
     "execution_count": 16,
     "metadata": {},
     "output_type": "execute_result"
    }
   ],
   "source": [
    "pca.explained_variance_ratio_"
   ]
  },
  {
   "cell_type": "code",
   "execution_count": 17,
   "id": "9eefcc51",
   "metadata": {
    "ExecuteTime": {
     "end_time": "2022-06-27T20:18:45.409509Z",
     "start_time": "2022-06-27T20:18:45.405264Z"
    }
   },
   "outputs": [],
   "source": [
    "cumsum = np.cumsum(pca.explained_variance_ratio_)"
   ]
  },
  {
   "cell_type": "code",
   "execution_count": 18,
   "id": "4823eb1c",
   "metadata": {
    "ExecuteTime": {
     "end_time": "2022-06-27T20:18:45.421249Z",
     "start_time": "2022-06-27T20:18:45.413867Z"
    }
   },
   "outputs": [
    {
     "data": {
      "text/plain": [
       "1692"
      ]
     },
     "execution_count": 18,
     "metadata": {},
     "output_type": "execute_result"
    }
   ],
   "source": [
    "len(cumsum)"
   ]
  },
  {
   "cell_type": "code",
   "execution_count": 19,
   "id": "a1c1e238",
   "metadata": {
    "ExecuteTime": {
     "end_time": "2022-06-27T20:18:45.590393Z",
     "start_time": "2022-06-27T20:18:45.423939Z"
    }
   },
   "outputs": [
    {
     "data": {
      "text/plain": [
       "[<matplotlib.lines.Line2D at 0x7f71ba17cfd0>]"
      ]
     },
     "execution_count": 19,
     "metadata": {},
     "output_type": "execute_result"
    },
    {
     "data": {
      "image/png": "[encoded data removed]",
      "text/plain": [
       "<Figure size 432x288 with 1 Axes>"
      ]
     },
     "metadata": {
      "needs_background": "light"
     },
     "output_type": "display_data"
    }
   ],
   "source": [
    "plt.plot(range(1, len(cumsum)+1), cumsum)"
   ]
  },
  {
   "cell_type": "code",
   "execution_count": 20,
   "id": "61448c1a",
   "metadata": {
    "ExecuteTime": {
     "end_time": "2022-06-27T20:18:49.112002Z",
     "start_time": "2022-06-27T20:18:49.103541Z"
    }
   },
   "outputs": [],
   "source": [
    "X_pca = X_pca[:, :500]"
   ]
  },
  {
   "cell_type": "code",
   "execution_count": 21,
   "id": "2899e234",
   "metadata": {
    "ExecuteTime": {
     "end_time": "2022-06-27T20:18:49.799040Z",
     "start_time": "2022-06-27T20:18:49.793237Z"
    }
   },
   "outputs": [
    {
     "data": {
      "text/plain": [
       "(7560, 500)"
      ]
     },
     "execution_count": 21,
     "metadata": {},
     "output_type": "execute_result"
    }
   ],
   "source": [
    "X_pca.shape"
   ]
  },
  {
   "cell_type": "code",
   "execution_count": 22,
   "id": "297b7e92",
   "metadata": {
    "ExecuteTime": {
     "end_time": "2022-06-27T20:18:50.438130Z",
     "start_time": "2022-06-27T20:18:50.427757Z"
    }
   },
   "outputs": [],
   "source": [
    "X_train = pd.DataFrame(X_pca)\n",
    "y_train = df.target"
   ]
  },
  {
   "cell_type": "code",
   "execution_count": 23,
   "id": "bb62a34f",
   "metadata": {
    "ExecuteTime": {
     "end_time": "2022-06-27T20:18:52.044424Z",
     "start_time": "2022-06-27T20:18:52.034865Z"
    }
   },
   "outputs": [],
   "source": [
    "estimator = RandomForestClassifier()\n",
    "param_grid = {}\n",
    "cv = 5"
   ]
  },
  {
   "cell_type": "code",
   "execution_count": 24,
   "id": "5314420c",
   "metadata": {
    "ExecuteTime": {
     "end_time": "2022-06-27T20:19:28.518854Z",
     "start_time": "2022-06-27T20:18:52.792475Z"
    }
   },
   "outputs": [
    {
     "data": {
      "text/html": [
       "<style>#sk-container-id-1 {color: black;background-color: white;}#sk-container-id-1 pre{padding: 0;}#sk-container-id-1 div.sk-toggleable {background-color: white;}#sk-container-id-1 label.sk-toggleable__label {cursor: pointer;display: block;width: 100%;margin-bottom: 0;padding: 0.3em;box-sizing: border-box;text-align: center;}#sk-container-id-1 label.sk-toggleable__label-arrow:before {content: \"▸\";float: left;margin-right: 0.25em;color: #696969;}#sk-container-id-1 label.sk-toggleable__label-arrow:hover:before {color: black;}#sk-container-id-1 div.sk-estimator:hover label.sk-toggleable__label-arrow:before {color: black;}#sk-container-id-1 div.sk-toggleable__content {max-height: 0;max-width: 0;overflow: hidden;text-align: left;background-color: #f0f8ff;}#sk-container-id-1 div.sk-toggleable__content pre {margin: 0.2em;color: black;border-radius: 0.25em;background-color: #f0f8ff;}#sk-container-id-1 input.sk-toggleable__control:checked~div.sk-toggleable__content {max-height: 200px;max-width: 100%;overflow: auto;}#sk-container-id-1 input.sk-toggleable__control:checked~label.sk-toggleable__label-arrow:before {content: \"▾\";}#sk-container-id-1 div.sk-estimator input.sk-toggleable__control:checked~label.sk-toggleable__label {background-color: #d4ebff;}#sk-container-id-1 div.sk-label input.sk-toggleable__control:checked~label.sk-toggleable__label {background-color: #d4ebff;}#sk-container-id-1 input.sk-hidden--visually {border: 0;clip: rect(1px 1px 1px 1px);clip: rect(1px, 1px, 1px, 1px);height: 1px;margin: -1px;overflow: hidden;padding: 0;position: absolute;width: 1px;}#sk-container-id-1 div.sk-estimator {font-family: monospace;background-color: #f0f8ff;border: 1px dotted black;border-radius: 0.25em;box-sizing: border-box;margin-bottom: 0.5em;}#sk-container-id-1 div.sk-estimator:hover {background-color: #d4ebff;}#sk-container-id-1 div.sk-parallel-item::after {content: \"\";width: 100%;border-bottom: 1px solid gray;flex-grow: 1;}#sk-container-id-1 div.sk-label:hover label.sk-toggleable__label {background-color: #d4ebff;}#sk-container-id-1 div.sk-serial::before {content: \"\";position: absolute;border-left: 1px solid gray;box-sizing: border-box;top: 0;bottom: 0;left: 50%;z-index: 0;}#sk-container-id-1 div.sk-serial {display: flex;flex-direction: column;align-items: center;background-color: white;padding-right: 0.2em;padding-left: 0.2em;position: relative;}#sk-container-id-1 div.sk-item {position: relative;z-index: 1;}#sk-container-id-1 div.sk-parallel {display: flex;align-items: stretch;justify-content: center;background-color: white;position: relative;}#sk-container-id-1 div.sk-item::before, #sk-container-id-1 div.sk-parallel-item::before {content: \"\";position: absolute;border-left: 1px solid gray;box-sizing: border-box;top: 0;bottom: 0;left: 50%;z-index: -1;}#sk-container-id-1 div.sk-parallel-item {display: flex;flex-direction: column;z-index: 1;position: relative;background-color: white;}#sk-container-id-1 div.sk-parallel-item:first-child::after {align-self: flex-end;width: 50%;}#sk-container-id-1 div.sk-parallel-item:last-child::after {align-self: flex-start;width: 50%;}#sk-container-id-1 div.sk-parallel-item:only-child::after {width: 0;}#sk-container-id-1 div.sk-dashed-wrapped {border: 1px dashed gray;margin: 0 0.4em 0.5em 0.4em;box-sizing: border-box;padding-bottom: 0.4em;background-color: white;}#sk-container-id-1 div.sk-label label {font-family: monospace;font-weight: bold;display: inline-block;line-height: 1.2em;}#sk-container-id-1 div.sk-label-container {text-align: center;}#sk-container-id-1 div.sk-container {/* jupyter's `normalize.less` sets `[hidden] { display: none; }` but bootstrap.min.css set `[hidden] { display: none !important; }` so we also need the `!important` here to be able to override the default hidden behavior on the sphinx rendered scikit-learn.org. See: https://github.com/scikit-learn/scikit-learn/issues/21755 */display: inline-block !important;position: relative;}#sk-container-id-1 div.sk-text-repr-fallback {display: none;}</style><div id=\"sk-container-id-1\" class=\"sk-top-container\"><div class=\"sk-text-repr-fallback\"><pre>GridSearchCV(cv=5, estimator=RandomForestClassifier(), n_jobs=-1, param_grid={},\n",
       "             return_train_score=True)</pre><b>In a Jupyter environment, please rerun this cell to show the HTML representation or trust the notebook. <br />On GitHub, the HTML representation is unable to render, please try loading this page with nbviewer.org.</b></div><div class=\"sk-container\" hidden><div class=\"sk-item sk-dashed-wrapped\"><div class=\"sk-label-container\"><div class=\"sk-label sk-toggleable\"><input class=\"sk-toggleable__control sk-hidden--visually\" id=\"sk-estimator-id-1\" type=\"checkbox\" ><label for=\"sk-estimator-id-1\" class=\"sk-toggleable__label sk-toggleable__label-arrow\">GridSearchCV</label><div class=\"sk-toggleable__content\"><pre>GridSearchCV(cv=5, estimator=RandomForestClassifier(), n_jobs=-1, param_grid={},\n",
       "             return_train_score=True)</pre></div></div></div><div class=\"sk-parallel\"><div class=\"sk-parallel-item\"><div class=\"sk-item\"><div class=\"sk-label-container\"><div class=\"sk-label sk-toggleable\"><input class=\"sk-toggleable__control sk-hidden--visually\" id=\"sk-estimator-id-2\" type=\"checkbox\" ><label for=\"sk-estimator-id-2\" class=\"sk-toggleable__label sk-toggleable__label-arrow\">estimator: RandomForestClassifier</label><div class=\"sk-toggleable__content\"><pre>RandomForestClassifier()</pre></div></div></div><div class=\"sk-serial\"><div class=\"sk-item\"><div class=\"sk-estimator sk-toggleable\"><input class=\"sk-toggleable__control sk-hidden--visually\" id=\"sk-estimator-id-3\" type=\"checkbox\" ><label for=\"sk-estimator-id-3\" class=\"sk-toggleable__label sk-toggleable__label-arrow\">RandomForestClassifier</label><div class=\"sk-toggleable__content\"><pre>RandomForestClassifier()</pre></div></div></div></div></div></div></div></div></div></div>"
      ],
      "text/plain": [
       "GridSearchCV(cv=5, estimator=RandomForestClassifier(), n_jobs=-1, param_grid={},\n",
       "             return_train_score=True)"
      ]
     },
     "execution_count": 24,
     "metadata": {},
     "output_type": "execute_result"
    }
   ],
   "source": [
    "grid = GridSearchCV(estimator, param_grid, cv=cv, n_jobs=-1, return_train_score=True)\n",
    "grid.fit(X_train, y_train)"
   ]
  },
  {
   "cell_type": "code",
   "execution_count": 25,
   "id": "6ce64f15",
   "metadata": {
    "ExecuteTime": {
     "end_time": "2022-06-27T20:19:28.534823Z",
     "start_time": "2022-06-27T20:19:28.520911Z"
    }
   },
   "outputs": [
    {
     "data": {
      "text/html": [
       "<div>\n",
       "<style scoped>\n",
       "    .dataframe tbody tr th:only-of-type {\n",
       "        vertical-align: middle;\n",
       "    }\n",
       "\n",
       "    .dataframe tbody tr th {\n",
       "        vertical-align: top;\n",
       "    }\n",
       "\n",
       "    .dataframe thead th {\n",
       "        text-align: right;\n",
       "    }\n",
       "</style>\n",
       "<table border=\"1\" class=\"dataframe\">\n",
       "  <thead>\n",
       "    <tr style=\"text-align: right;\">\n",
       "      <th></th>\n",
       "      <th>mean_fit_time</th>\n",
       "      <th>std_fit_time</th>\n",
       "      <th>mean_score_time</th>\n",
       "      <th>std_score_time</th>\n",
       "      <th>params</th>\n",
       "      <th>mean_test_score</th>\n",
       "      <th>std_test_score</th>\n",
       "      <th>rank_test_score</th>\n",
       "      <th>mean_train_score</th>\n",
       "      <th>std_train_score</th>\n",
       "    </tr>\n",
       "  </thead>\n",
       "  <tbody>\n",
       "    <tr>\n",
       "      <th>0</th>\n",
       "      <td>16.803396</td>\n",
       "      <td>1.795503</td>\n",
       "      <td>0.056708</td>\n",
       "      <td>0.010237</td>\n",
       "      <td>{}</td>\n",
       "      <td>0.674603</td>\n",
       "      <td>0.031979</td>\n",
       "      <td>1</td>\n",
       "      <td>0.975761</td>\n",
       "      <td>0.001325</td>\n",
       "    </tr>\n",
       "  </tbody>\n",
       "</table>\n",
       "</div>"
      ],
      "text/plain": [
       "   mean_fit_time  std_fit_time  mean_score_time  std_score_time params  \\\n",
       "0      16.803396      1.795503         0.056708        0.010237     {}   \n",
       "\n",
       "   mean_test_score  std_test_score  rank_test_score  mean_train_score  \\\n",
       "0         0.674603        0.031979                1          0.975761   \n",
       "\n",
       "   std_train_score  \n",
       "0         0.001325  "
      ]
     },
     "execution_count": 25,
     "metadata": {},
     "output_type": "execute_result"
    }
   ],
   "source": [
    "res = pd.DataFrame(grid.cv_results_)\n",
    "cols = [i for i in res.columns if \"split\" not in i ]\n",
    "res = res[cols]\n",
    "res"
   ]
  },
  {
   "cell_type": "code",
   "execution_count": 26,
   "id": "94f279b4",
   "metadata": {
    "ExecuteTime": {
     "end_time": "2022-06-27T20:19:28.549105Z",
     "start_time": "2022-06-27T20:19:28.536554Z"
    }
   },
   "outputs": [
    {
     "data": {
      "text/html": [
       "<div>\n",
       "<style scoped>\n",
       "    .dataframe tbody tr th:only-of-type {\n",
       "        vertical-align: middle;\n",
       "    }\n",
       "\n",
       "    .dataframe tbody tr th {\n",
       "        vertical-align: top;\n",
       "    }\n",
       "\n",
       "    .dataframe thead th {\n",
       "        text-align: right;\n",
       "    }\n",
       "</style>\n",
       "<table border=\"1\" class=\"dataframe\">\n",
       "  <thead>\n",
       "    <tr style=\"text-align: right;\">\n",
       "      <th></th>\n",
       "      <th>mean_fit_time</th>\n",
       "      <th>std_fit_time</th>\n",
       "      <th>mean_score_time</th>\n",
       "      <th>std_score_time</th>\n",
       "      <th>params</th>\n",
       "      <th>mean_test_score</th>\n",
       "      <th>std_test_score</th>\n",
       "      <th>rank_test_score</th>\n",
       "      <th>mean_train_score</th>\n",
       "      <th>std_train_score</th>\n",
       "    </tr>\n",
       "  </thead>\n",
       "  <tbody>\n",
       "    <tr>\n",
       "      <th>0</th>\n",
       "      <td>16.803396</td>\n",
       "      <td>1.795503</td>\n",
       "      <td>0.056708</td>\n",
       "      <td>0.010237</td>\n",
       "      <td>{}</td>\n",
       "      <td>0.674603</td>\n",
       "      <td>0.031979</td>\n",
       "      <td>1</td>\n",
       "      <td>0.975761</td>\n",
       "      <td>0.001325</td>\n",
       "    </tr>\n",
       "  </tbody>\n",
       "</table>\n",
       "</div>"
      ],
      "text/plain": [
       "   mean_fit_time  std_fit_time  mean_score_time  std_score_time params  \\\n",
       "0      16.803396      1.795503         0.056708        0.010237     {}   \n",
       "\n",
       "   mean_test_score  std_test_score  rank_test_score  mean_train_score  \\\n",
       "0         0.674603        0.031979                1          0.975761   \n",
       "\n",
       "   std_train_score  \n",
       "0         0.001325  "
      ]
     },
     "execution_count": 26,
     "metadata": {},
     "output_type": "execute_result"
    }
   ],
   "source": [
    "res"
   ]
  },
  {
   "cell_type": "markdown",
   "id": "4d50b167",
   "metadata": {},
   "source": [
    "## TSVD"
   ]
  },
  {
   "cell_type": "code",
   "execution_count": 27,
   "id": "f40086c6",
   "metadata": {
    "ExecuteTime": {
     "end_time": "2022-06-27T20:19:47.588002Z",
     "start_time": "2022-06-27T20:19:46.409918Z"
    }
   },
   "outputs": [],
   "source": [
    "tsd = TruncatedSVD(n_components=30)\n",
    "X_tsd = tsd.fit_transform(X)"
   ]
  },
  {
   "cell_type": "code",
   "execution_count": 28,
   "id": "6a922eb7",
   "metadata": {
    "ExecuteTime": {
     "end_time": "2022-06-27T20:19:54.114652Z",
     "start_time": "2022-06-27T20:19:47.590435Z"
    }
   },
   "outputs": [
    {
     "data": {
      "text/html": [
       "<style>#sk-container-id-2 {color: black;background-color: white;}#sk-container-id-2 pre{padding: 0;}#sk-container-id-2 div.sk-toggleable {background-color: white;}#sk-container-id-2 label.sk-toggleable__label {cursor: pointer;display: block;width: 100%;margin-bottom: 0;padding: 0.3em;box-sizing: border-box;text-align: center;}#sk-container-id-2 label.sk-toggleable__label-arrow:before {content: \"▸\";float: left;margin-right: 0.25em;color: #696969;}#sk-container-id-2 label.sk-toggleable__label-arrow:hover:before {color: black;}#sk-container-id-2 div.sk-estimator:hover label.sk-toggleable__label-arrow:before {color: black;}#sk-container-id-2 div.sk-toggleable__content {max-height: 0;max-width: 0;overflow: hidden;text-align: left;background-color: #f0f8ff;}#sk-container-id-2 div.sk-toggleable__content pre {margin: 0.2em;color: black;border-radius: 0.25em;background-color: #f0f8ff;}#sk-container-id-2 input.sk-toggleable__control:checked~div.sk-toggleable__content {max-height: 200px;max-width: 100%;overflow: auto;}#sk-container-id-2 input.sk-toggleable__control:checked~label.sk-toggleable__label-arrow:before {content: \"▾\";}#sk-container-id-2 div.sk-estimator input.sk-toggleable__control:checked~label.sk-toggleable__label {background-color: #d4ebff;}#sk-container-id-2 div.sk-label input.sk-toggleable__control:checked~label.sk-toggleable__label {background-color: #d4ebff;}#sk-container-id-2 input.sk-hidden--visually {border: 0;clip: rect(1px 1px 1px 1px);clip: rect(1px, 1px, 1px, 1px);height: 1px;margin: -1px;overflow: hidden;padding: 0;position: absolute;width: 1px;}#sk-container-id-2 div.sk-estimator {font-family: monospace;background-color: #f0f8ff;border: 1px dotted black;border-radius: 0.25em;box-sizing: border-box;margin-bottom: 0.5em;}#sk-container-id-2 div.sk-estimator:hover {background-color: #d4ebff;}#sk-container-id-2 div.sk-parallel-item::after {content: \"\";width: 100%;border-bottom: 1px solid gray;flex-grow: 1;}#sk-container-id-2 div.sk-label:hover label.sk-toggleable__label {background-color: #d4ebff;}#sk-container-id-2 div.sk-serial::before {content: \"\";position: absolute;border-left: 1px solid gray;box-sizing: border-box;top: 0;bottom: 0;left: 50%;z-index: 0;}#sk-container-id-2 div.sk-serial {display: flex;flex-direction: column;align-items: center;background-color: white;padding-right: 0.2em;padding-left: 0.2em;position: relative;}#sk-container-id-2 div.sk-item {position: relative;z-index: 1;}#sk-container-id-2 div.sk-parallel {display: flex;align-items: stretch;justify-content: center;background-color: white;position: relative;}#sk-container-id-2 div.sk-item::before, #sk-container-id-2 div.sk-parallel-item::before {content: \"\";position: absolute;border-left: 1px solid gray;box-sizing: border-box;top: 0;bottom: 0;left: 50%;z-index: -1;}#sk-container-id-2 div.sk-parallel-item {display: flex;flex-direction: column;z-index: 1;position: relative;background-color: white;}#sk-container-id-2 div.sk-parallel-item:first-child::after {align-self: flex-end;width: 50%;}#sk-container-id-2 div.sk-parallel-item:last-child::after {align-self: flex-start;width: 50%;}#sk-container-id-2 div.sk-parallel-item:only-child::after {width: 0;}#sk-container-id-2 div.sk-dashed-wrapped {border: 1px dashed gray;margin: 0 0.4em 0.5em 0.4em;box-sizing: border-box;padding-bottom: 0.4em;background-color: white;}#sk-container-id-2 div.sk-label label {font-family: monospace;font-weight: bold;display: inline-block;line-height: 1.2em;}#sk-container-id-2 div.sk-label-container {text-align: center;}#sk-container-id-2 div.sk-container {/* jupyter's `normalize.less` sets `[hidden] { display: none; }` but bootstrap.min.css set `[hidden] { display: none !important; }` so we also need the `!important` here to be able to override the default hidden behavior on the sphinx rendered scikit-learn.org. See: https://github.com/scikit-learn/scikit-learn/issues/21755 */display: inline-block !important;position: relative;}#sk-container-id-2 div.sk-text-repr-fallback {display: none;}</style><div id=\"sk-container-id-2\" class=\"sk-top-container\"><div class=\"sk-text-repr-fallback\"><pre>GridSearchCV(cv=5, estimator=RandomForestClassifier(), n_jobs=-1, param_grid={},\n",
       "             return_train_score=True)</pre><b>In a Jupyter environment, please rerun this cell to show the HTML representation or trust the notebook. <br />On GitHub, the HTML representation is unable to render, please try loading this page with nbviewer.org.</b></div><div class=\"sk-container\" hidden><div class=\"sk-item sk-dashed-wrapped\"><div class=\"sk-label-container\"><div class=\"sk-label sk-toggleable\"><input class=\"sk-toggleable__control sk-hidden--visually\" id=\"sk-estimator-id-4\" type=\"checkbox\" ><label for=\"sk-estimator-id-4\" class=\"sk-toggleable__label sk-toggleable__label-arrow\">GridSearchCV</label><div class=\"sk-toggleable__content\"><pre>GridSearchCV(cv=5, estimator=RandomForestClassifier(), n_jobs=-1, param_grid={},\n",
       "             return_train_score=True)</pre></div></div></div><div class=\"sk-parallel\"><div class=\"sk-parallel-item\"><div class=\"sk-item\"><div class=\"sk-label-container\"><div class=\"sk-label sk-toggleable\"><input class=\"sk-toggleable__control sk-hidden--visually\" id=\"sk-estimator-id-5\" type=\"checkbox\" ><label for=\"sk-estimator-id-5\" class=\"sk-toggleable__label sk-toggleable__label-arrow\">estimator: RandomForestClassifier</label><div class=\"sk-toggleable__content\"><pre>RandomForestClassifier()</pre></div></div></div><div class=\"sk-serial\"><div class=\"sk-item\"><div class=\"sk-estimator sk-toggleable\"><input class=\"sk-toggleable__control sk-hidden--visually\" id=\"sk-estimator-id-6\" type=\"checkbox\" ><label for=\"sk-estimator-id-6\" class=\"sk-toggleable__label sk-toggleable__label-arrow\">RandomForestClassifier</label><div class=\"sk-toggleable__content\"><pre>RandomForestClassifier()</pre></div></div></div></div></div></div></div></div></div></div>"
      ],
      "text/plain": [
       "GridSearchCV(cv=5, estimator=RandomForestClassifier(), n_jobs=-1, param_grid={},\n",
       "             return_train_score=True)"
      ]
     },
     "execution_count": 28,
     "metadata": {},
     "output_type": "execute_result"
    }
   ],
   "source": [
    "grid = GridSearchCV(estimator, param_grid, cv=cv, n_jobs=-1, return_train_score=True)\n",
    "grid.fit(X_tsd, y_train)"
   ]
  },
  {
   "cell_type": "code",
   "execution_count": 29,
   "id": "007f472e",
   "metadata": {
    "ExecuteTime": {
     "end_time": "2022-06-27T20:19:54.125921Z",
     "start_time": "2022-06-27T20:19:54.116340Z"
    }
   },
   "outputs": [
    {
     "data": {
      "text/html": [
       "<div>\n",
       "<style scoped>\n",
       "    .dataframe tbody tr th:only-of-type {\n",
       "        vertical-align: middle;\n",
       "    }\n",
       "\n",
       "    .dataframe tbody tr th {\n",
       "        vertical-align: top;\n",
       "    }\n",
       "\n",
       "    .dataframe thead th {\n",
       "        text-align: right;\n",
       "    }\n",
       "</style>\n",
       "<table border=\"1\" class=\"dataframe\">\n",
       "  <thead>\n",
       "    <tr style=\"text-align: right;\">\n",
       "      <th></th>\n",
       "      <th>mean_fit_time</th>\n",
       "      <th>std_fit_time</th>\n",
       "      <th>mean_score_time</th>\n",
       "      <th>std_score_time</th>\n",
       "      <th>params</th>\n",
       "      <th>mean_test_score</th>\n",
       "      <th>std_test_score</th>\n",
       "      <th>rank_test_score</th>\n",
       "      <th>mean_train_score</th>\n",
       "      <th>std_train_score</th>\n",
       "    </tr>\n",
       "  </thead>\n",
       "  <tbody>\n",
       "    <tr>\n",
       "      <th>0</th>\n",
       "      <td>2.748391</td>\n",
       "      <td>0.275747</td>\n",
       "      <td>0.028671</td>\n",
       "      <td>0.002351</td>\n",
       "      <td>{}</td>\n",
       "      <td>0.679894</td>\n",
       "      <td>0.042772</td>\n",
       "      <td>1</td>\n",
       "      <td>0.975761</td>\n",
       "      <td>0.001325</td>\n",
       "    </tr>\n",
       "  </tbody>\n",
       "</table>\n",
       "</div>"
      ],
      "text/plain": [
       "   mean_fit_time  std_fit_time  mean_score_time  std_score_time params  \\\n",
       "0       2.748391      0.275747         0.028671        0.002351     {}   \n",
       "\n",
       "   mean_test_score  std_test_score  rank_test_score  mean_train_score  \\\n",
       "0         0.679894        0.042772                1          0.975761   \n",
       "\n",
       "   std_train_score  \n",
       "0         0.001325  "
      ]
     },
     "execution_count": 29,
     "metadata": {},
     "output_type": "execute_result"
    }
   ],
   "source": [
    "res = pd.DataFrame(grid.cv_results_)\n",
    "cols = [i for i in res.columns if \"split\" not in i ]\n",
    "res = res[cols]\n",
    "res"
   ]
  },
  {
   "cell_type": "code",
   "execution_count": 30,
   "id": "ea2ddfdf",
   "metadata": {
    "ExecuteTime": {
     "end_time": "2022-06-27T20:20:05.861416Z",
     "start_time": "2022-06-27T20:20:05.855854Z"
    }
   },
   "outputs": [],
   "source": [
    "pipe = Pipeline([\n",
    "    (\"reduction\", TruncatedSVD()), \n",
    "    (\"estimator\", RandomForestClassifier()),\n",
    "     ])"
   ]
  },
  {
   "cell_type": "code",
   "execution_count": 31,
   "id": "cce35b03",
   "metadata": {
    "ExecuteTime": {
     "end_time": "2022-06-27T20:20:06.435968Z",
     "start_time": "2022-06-27T20:20:06.432371Z"
    }
   },
   "outputs": [],
   "source": [
    "scaler_list = [StandardScaler()]"
   ]
  },
  {
   "cell_type": "code",
   "execution_count": 38,
   "id": "77f4604f",
   "metadata": {
    "ExecuteTime": {
     "end_time": "2022-06-27T20:20:33.981700Z",
     "start_time": "2022-06-27T20:20:33.976682Z"
    }
   },
   "outputs": [
    {
     "data": {
      "text/plain": [
       "array([  2,   7,  12,  17,  22,  27,  32,  38,  43,  48,  53,  58,  63,\n",
       "        69,  74,  79,  84,  89,  94, 100])"
      ]
     },
     "execution_count": 38,
     "metadata": {},
     "output_type": "execute_result"
    }
   ],
   "source": [
    "n_components = np.linspace(2, 100, 20).astype(int)\n",
    "n_components"
   ]
  },
  {
   "cell_type": "code",
   "execution_count": 39,
   "id": "87f52341",
   "metadata": {
    "ExecuteTime": {
     "end_time": "2022-06-27T20:20:34.263184Z",
     "start_time": "2022-06-27T20:20:34.258938Z"
    }
   },
   "outputs": [],
   "source": [
    "param_grid = { \"reduction\" : [TruncatedSVD()], \n",
    "               \"estimator\" : [RandomForestClassifier()], \n",
    "               \"reduction__n_components\": n_components\n",
    "             }"
   ]
  },
  {
   "cell_type": "code",
   "execution_count": 40,
   "id": "5af413b3",
   "metadata": {
    "ExecuteTime": {
     "end_time": "2022-06-27T20:20:34.447453Z",
     "start_time": "2022-06-27T20:20:34.442022Z"
    }
   },
   "outputs": [
    {
     "data": {
      "text/plain": [
       "(7560, 1692)"
      ]
     },
     "execution_count": 40,
     "metadata": {},
     "output_type": "execute_result"
    }
   ],
   "source": [
    "X.shape"
   ]
  },
  {
   "cell_type": "code",
   "execution_count": 41,
   "id": "f9785ba9",
   "metadata": {
    "ExecuteTime": {
     "end_time": "2022-06-27T20:20:34.610102Z",
     "start_time": "2022-06-27T20:20:34.607090Z"
    }
   },
   "outputs": [],
   "source": [
    "cv = ShuffleSplit(n_splits=5, test_size=0.25, random_state=0)"
   ]
  },
  {
   "cell_type": "code",
   "execution_count": 42,
   "id": "85524386",
   "metadata": {
    "ExecuteTime": {
     "end_time": "2022-06-27T20:22:48.447838Z",
     "start_time": "2022-06-27T20:20:34.766290Z"
    }
   },
   "outputs": [
    {
     "name": "stdout",
     "output_type": "stream",
     "text": [
      "Fitting 5 folds for each of 20 candidates, totalling 100 fits\n"
     ]
    },
    {
     "data": {
      "text/html": [
       "<style>#sk-container-id-3 {color: black;background-color: white;}#sk-container-id-3 pre{padding: 0;}#sk-container-id-3 div.sk-toggleable {background-color: white;}#sk-container-id-3 label.sk-toggleable__label {cursor: pointer;display: block;width: 100%;margin-bottom: 0;padding: 0.3em;box-sizing: border-box;text-align: center;}#sk-container-id-3 label.sk-toggleable__label-arrow:before {content: \"▸\";float: left;margin-right: 0.25em;color: #696969;}#sk-container-id-3 label.sk-toggleable__label-arrow:hover:before {color: black;}#sk-container-id-3 div.sk-estimator:hover label.sk-toggleable__label-arrow:before {color: black;}#sk-container-id-3 div.sk-toggleable__content {max-height: 0;max-width: 0;overflow: hidden;text-align: left;background-color: #f0f8ff;}#sk-container-id-3 div.sk-toggleable__content pre {margin: 0.2em;color: black;border-radius: 0.25em;background-color: #f0f8ff;}#sk-container-id-3 input.sk-toggleable__control:checked~div.sk-toggleable__content {max-height: 200px;max-width: 100%;overflow: auto;}#sk-container-id-3 input.sk-toggleable__control:checked~label.sk-toggleable__label-arrow:before {content: \"▾\";}#sk-container-id-3 div.sk-estimator input.sk-toggleable__control:checked~label.sk-toggleable__label {background-color: #d4ebff;}#sk-container-id-3 div.sk-label input.sk-toggleable__control:checked~label.sk-toggleable__label {background-color: #d4ebff;}#sk-container-id-3 input.sk-hidden--visually {border: 0;clip: rect(1px 1px 1px 1px);clip: rect(1px, 1px, 1px, 1px);height: 1px;margin: -1px;overflow: hidden;padding: 0;position: absolute;width: 1px;}#sk-container-id-3 div.sk-estimator {font-family: monospace;background-color: #f0f8ff;border: 1px dotted black;border-radius: 0.25em;box-sizing: border-box;margin-bottom: 0.5em;}#sk-container-id-3 div.sk-estimator:hover {background-color: #d4ebff;}#sk-container-id-3 div.sk-parallel-item::after {content: \"\";width: 100%;border-bottom: 1px solid gray;flex-grow: 1;}#sk-container-id-3 div.sk-label:hover label.sk-toggleable__label {background-color: #d4ebff;}#sk-container-id-3 div.sk-serial::before {content: \"\";position: absolute;border-left: 1px solid gray;box-sizing: border-box;top: 0;bottom: 0;left: 50%;z-index: 0;}#sk-container-id-3 div.sk-serial {display: flex;flex-direction: column;align-items: center;background-color: white;padding-right: 0.2em;padding-left: 0.2em;position: relative;}#sk-container-id-3 div.sk-item {position: relative;z-index: 1;}#sk-container-id-3 div.sk-parallel {display: flex;align-items: stretch;justify-content: center;background-color: white;position: relative;}#sk-container-id-3 div.sk-item::before, #sk-container-id-3 div.sk-parallel-item::before {content: \"\";position: absolute;border-left: 1px solid gray;box-sizing: border-box;top: 0;bottom: 0;left: 50%;z-index: -1;}#sk-container-id-3 div.sk-parallel-item {display: flex;flex-direction: column;z-index: 1;position: relative;background-color: white;}#sk-container-id-3 div.sk-parallel-item:first-child::after {align-self: flex-end;width: 50%;}#sk-container-id-3 div.sk-parallel-item:last-child::after {align-self: flex-start;width: 50%;}#sk-container-id-3 div.sk-parallel-item:only-child::after {width: 0;}#sk-container-id-3 div.sk-dashed-wrapped {border: 1px dashed gray;margin: 0 0.4em 0.5em 0.4em;box-sizing: border-box;padding-bottom: 0.4em;background-color: white;}#sk-container-id-3 div.sk-label label {font-family: monospace;font-weight: bold;display: inline-block;line-height: 1.2em;}#sk-container-id-3 div.sk-label-container {text-align: center;}#sk-container-id-3 div.sk-container {/* jupyter's `normalize.less` sets `[hidden] { display: none; }` but bootstrap.min.css set `[hidden] { display: none !important; }` so we also need the `!important` here to be able to override the default hidden behavior on the sphinx rendered scikit-learn.org. See: https://github.com/scikit-learn/scikit-learn/issues/21755 */display: inline-block !important;position: relative;}#sk-container-id-3 div.sk-text-repr-fallback {display: none;}</style><div id=\"sk-container-id-3\" class=\"sk-top-container\"><div class=\"sk-text-repr-fallback\"><pre>GridSearchCV(cv=ShuffleSplit(n_splits=5, random_state=0, test_size=0.25, train_size=None),\n",
       "             estimator=Pipeline(steps=[(&#x27;reduction&#x27;, TruncatedSVD()),\n",
       "                                       (&#x27;estimator&#x27;,\n",
       "                                        RandomForestClassifier())]),\n",
       "             n_jobs=-1,\n",
       "             param_grid={&#x27;estimator&#x27;: [RandomForestClassifier()],\n",
       "                         &#x27;reduction&#x27;: [TruncatedSVD(n_components=79)],\n",
       "                         &#x27;reduction__n_components&#x27;: array([  2,   7,  12,  17,  22,  27,  32,  38,  43,  48,  53,  58,  63,\n",
       "        69,  74,  79,  84,  89,  94, 100])},\n",
       "             return_train_score=True, verbose=3)</pre><b>In a Jupyter environment, please rerun this cell to show the HTML representation or trust the notebook. <br />On GitHub, the HTML representation is unable to render, please try loading this page with nbviewer.org.</b></div><div class=\"sk-container\" hidden><div class=\"sk-item sk-dashed-wrapped\"><div class=\"sk-label-container\"><div class=\"sk-label sk-toggleable\"><input class=\"sk-toggleable__control sk-hidden--visually\" id=\"sk-estimator-id-7\" type=\"checkbox\" ><label for=\"sk-estimator-id-7\" class=\"sk-toggleable__label sk-toggleable__label-arrow\">GridSearchCV</label><div class=\"sk-toggleable__content\"><pre>GridSearchCV(cv=ShuffleSplit(n_splits=5, random_state=0, test_size=0.25, train_size=None),\n",
       "             estimator=Pipeline(steps=[(&#x27;reduction&#x27;, TruncatedSVD()),\n",
       "                                       (&#x27;estimator&#x27;,\n",
       "                                        RandomForestClassifier())]),\n",
       "             n_jobs=-1,\n",
       "             param_grid={&#x27;estimator&#x27;: [RandomForestClassifier()],\n",
       "                         &#x27;reduction&#x27;: [TruncatedSVD(n_components=79)],\n",
       "                         &#x27;reduction__n_components&#x27;: array([  2,   7,  12,  17,  22,  27,  32,  38,  43,  48,  53,  58,  63,\n",
       "        69,  74,  79,  84,  89,  94, 100])},\n",
       "             return_train_score=True, verbose=3)</pre></div></div></div><div class=\"sk-parallel\"><div class=\"sk-parallel-item\"><div class=\"sk-item\"><div class=\"sk-label-container\"><div class=\"sk-label sk-toggleable\"><input class=\"sk-toggleable__control sk-hidden--visually\" id=\"sk-estimator-id-8\" type=\"checkbox\" ><label for=\"sk-estimator-id-8\" class=\"sk-toggleable__label sk-toggleable__label-arrow\">estimator: Pipeline</label><div class=\"sk-toggleable__content\"><pre>Pipeline(steps=[(&#x27;reduction&#x27;, TruncatedSVD()),\n",
       "                (&#x27;estimator&#x27;, RandomForestClassifier())])</pre></div></div></div><div class=\"sk-serial\"><div class=\"sk-item\"><div class=\"sk-serial\"><div class=\"sk-item\"><div class=\"sk-estimator sk-toggleable\"><input class=\"sk-toggleable__control sk-hidden--visually\" id=\"sk-estimator-id-9\" type=\"checkbox\" ><label for=\"sk-estimator-id-9\" class=\"sk-toggleable__label sk-toggleable__label-arrow\">TruncatedSVD</label><div class=\"sk-toggleable__content\"><pre>TruncatedSVD()</pre></div></div></div><div class=\"sk-item\"><div class=\"sk-estimator sk-toggleable\"><input class=\"sk-toggleable__control sk-hidden--visually\" id=\"sk-estimator-id-10\" type=\"checkbox\" ><label for=\"sk-estimator-id-10\" class=\"sk-toggleable__label sk-toggleable__label-arrow\">RandomForestClassifier</label><div class=\"sk-toggleable__content\"><pre>RandomForestClassifier()</pre></div></div></div></div></div></div></div></div></div></div></div></div>"
      ],
      "text/plain": [
       "GridSearchCV(cv=ShuffleSplit(n_splits=5, random_state=0, test_size=0.25, train_size=None),\n",
       "             estimator=Pipeline(steps=[('reduction', TruncatedSVD()),\n",
       "                                       ('estimator',\n",
       "                                        RandomForestClassifier())]),\n",
       "             n_jobs=-1,\n",
       "             param_grid={'estimator': [RandomForestClassifier()],\n",
       "                         'reduction': [TruncatedSVD(n_components=79)],\n",
       "                         'reduction__n_components': array([  2,   7,  12,  17,  22,  27,  32,  38,  43,  48,  53,  58,  63,\n",
       "        69,  74,  79,  84,  89,  94, 100])},\n",
       "             return_train_score=True, verbose=3)"
      ]
     },
     "execution_count": 42,
     "metadata": {},
     "output_type": "execute_result"
    }
   ],
   "source": [
    "grid = GridSearchCV(pipe, param_grid, cv=cv, n_jobs=-1, return_train_score=True, verbose=3)\n",
    "grid.fit(X, y_train)"
   ]
  },
  {
   "cell_type": "code",
   "execution_count": 43,
   "id": "1d24aafc",
   "metadata": {
    "ExecuteTime": {
     "end_time": "2022-06-27T20:22:48.481135Z",
     "start_time": "2022-06-27T20:22:48.450415Z"
    }
   },
   "outputs": [
    {
     "data": {
      "text/html": [
       "<div>\n",
       "<style scoped>\n",
       "    .dataframe tbody tr th:only-of-type {\n",
       "        vertical-align: middle;\n",
       "    }\n",
       "\n",
       "    .dataframe tbody tr th {\n",
       "        vertical-align: top;\n",
       "    }\n",
       "\n",
       "    .dataframe thead th {\n",
       "        text-align: right;\n",
       "    }\n",
       "</style>\n",
       "<table border=\"1\" class=\"dataframe\">\n",
       "  <thead>\n",
       "    <tr style=\"text-align: right;\">\n",
       "      <th></th>\n",
       "      <th>mean_fit_time</th>\n",
       "      <th>std_fit_time</th>\n",
       "      <th>mean_score_time</th>\n",
       "      <th>std_score_time</th>\n",
       "      <th>param_estimator</th>\n",
       "      <th>param_reduction</th>\n",
       "      <th>param_reduction__n_components</th>\n",
       "      <th>params</th>\n",
       "      <th>mean_test_score</th>\n",
       "      <th>std_test_score</th>\n",
       "      <th>rank_test_score</th>\n",
       "      <th>mean_train_score</th>\n",
       "      <th>std_train_score</th>\n",
       "    </tr>\n",
       "  </thead>\n",
       "  <tbody>\n",
       "    <tr>\n",
       "      <th>15</th>\n",
       "      <td>12.503088</td>\n",
       "      <td>0.419807</td>\n",
       "      <td>0.182917</td>\n",
       "      <td>0.013908</td>\n",
       "      <td>RandomForestClassifier()</td>\n",
       "      <td>TruncatedSVD(n_components=79)</td>\n",
       "      <td>79</td>\n",
       "      <td>{'estimator': RandomForestClassifier(), 'reduc...</td>\n",
       "      <td>0.764127</td>\n",
       "      <td>0.010515</td>\n",
       "      <td>1</td>\n",
       "      <td>0.977460</td>\n",
       "      <td>0.000860</td>\n",
       "    </tr>\n",
       "    <tr>\n",
       "      <th>12</th>\n",
       "      <td>10.265895</td>\n",
       "      <td>0.162777</td>\n",
       "      <td>0.163709</td>\n",
       "      <td>0.010554</td>\n",
       "      <td>RandomForestClassifier()</td>\n",
       "      <td>TruncatedSVD(n_components=79)</td>\n",
       "      <td>63</td>\n",
       "      <td>{'estimator': RandomForestClassifier(), 'reduc...</td>\n",
       "      <td>0.763069</td>\n",
       "      <td>0.009561</td>\n",
       "      <td>2</td>\n",
       "      <td>0.977354</td>\n",
       "      <td>0.000761</td>\n",
       "    </tr>\n",
       "    <tr>\n",
       "      <th>17</th>\n",
       "      <td>14.801270</td>\n",
       "      <td>0.510084</td>\n",
       "      <td>0.185507</td>\n",
       "      <td>0.017606</td>\n",
       "      <td>RandomForestClassifier()</td>\n",
       "      <td>TruncatedSVD(n_components=79)</td>\n",
       "      <td>89</td>\n",
       "      <td>{'estimator': RandomForestClassifier(), 'reduc...</td>\n",
       "      <td>0.762857</td>\n",
       "      <td>0.005513</td>\n",
       "      <td>3</td>\n",
       "      <td>0.977531</td>\n",
       "      <td>0.000847</td>\n",
       "    </tr>\n",
       "    <tr>\n",
       "      <th>10</th>\n",
       "      <td>11.321980</td>\n",
       "      <td>0.268262</td>\n",
       "      <td>0.158862</td>\n",
       "      <td>0.003828</td>\n",
       "      <td>RandomForestClassifier()</td>\n",
       "      <td>TruncatedSVD(n_components=79)</td>\n",
       "      <td>53</td>\n",
       "      <td>{'estimator': RandomForestClassifier(), 'reduc...</td>\n",
       "      <td>0.762646</td>\n",
       "      <td>0.006520</td>\n",
       "      <td>4</td>\n",
       "      <td>0.977354</td>\n",
       "      <td>0.000761</td>\n",
       "    </tr>\n",
       "    <tr>\n",
       "      <th>18</th>\n",
       "      <td>14.847220</td>\n",
       "      <td>0.472607</td>\n",
       "      <td>0.178785</td>\n",
       "      <td>0.037052</td>\n",
       "      <td>RandomForestClassifier()</td>\n",
       "      <td>TruncatedSVD(n_components=79)</td>\n",
       "      <td>94</td>\n",
       "      <td>{'estimator': RandomForestClassifier(), 'reduc...</td>\n",
       "      <td>0.762116</td>\n",
       "      <td>0.008908</td>\n",
       "      <td>5</td>\n",
       "      <td>0.977531</td>\n",
       "      <td>0.000910</td>\n",
       "    </tr>\n",
       "    <tr>\n",
       "      <th>19</th>\n",
       "      <td>12.090955</td>\n",
       "      <td>1.729985</td>\n",
       "      <td>0.089365</td>\n",
       "      <td>0.015585</td>\n",
       "      <td>RandomForestClassifier()</td>\n",
       "      <td>TruncatedSVD(n_components=79)</td>\n",
       "      <td>100</td>\n",
       "      <td>{'estimator': RandomForestClassifier(), 'reduc...</td>\n",
       "      <td>0.761799</td>\n",
       "      <td>0.007699</td>\n",
       "      <td>6</td>\n",
       "      <td>0.977531</td>\n",
       "      <td>0.000847</td>\n",
       "    </tr>\n",
       "    <tr>\n",
       "      <th>11</th>\n",
       "      <td>10.511729</td>\n",
       "      <td>0.172812</td>\n",
       "      <td>0.150514</td>\n",
       "      <td>0.005265</td>\n",
       "      <td>RandomForestClassifier()</td>\n",
       "      <td>TruncatedSVD(n_components=79)</td>\n",
       "      <td>58</td>\n",
       "      <td>{'estimator': RandomForestClassifier(), 'reduc...</td>\n",
       "      <td>0.761481</td>\n",
       "      <td>0.006796</td>\n",
       "      <td>7</td>\n",
       "      <td>0.977354</td>\n",
       "      <td>0.000761</td>\n",
       "    </tr>\n",
       "    <tr>\n",
       "      <th>14</th>\n",
       "      <td>11.529017</td>\n",
       "      <td>0.166881</td>\n",
       "      <td>0.173759</td>\n",
       "      <td>0.019454</td>\n",
       "      <td>RandomForestClassifier()</td>\n",
       "      <td>TruncatedSVD(n_components=79)</td>\n",
       "      <td>74</td>\n",
       "      <td>{'estimator': RandomForestClassifier(), 'reduc...</td>\n",
       "      <td>0.761058</td>\n",
       "      <td>0.009615</td>\n",
       "      <td>8</td>\n",
       "      <td>0.977460</td>\n",
       "      <td>0.000760</td>\n",
       "    </tr>\n",
       "    <tr>\n",
       "      <th>8</th>\n",
       "      <td>9.044214</td>\n",
       "      <td>0.200538</td>\n",
       "      <td>0.181181</td>\n",
       "      <td>0.038246</td>\n",
       "      <td>RandomForestClassifier()</td>\n",
       "      <td>TruncatedSVD(n_components=79)</td>\n",
       "      <td>43</td>\n",
       "      <td>{'estimator': RandomForestClassifier(), 'reduc...</td>\n",
       "      <td>0.760000</td>\n",
       "      <td>0.005212</td>\n",
       "      <td>9</td>\n",
       "      <td>0.977319</td>\n",
       "      <td>0.000817</td>\n",
       "    </tr>\n",
       "    <tr>\n",
       "      <th>16</th>\n",
       "      <td>15.168059</td>\n",
       "      <td>0.421404</td>\n",
       "      <td>0.200585</td>\n",
       "      <td>0.046859</td>\n",
       "      <td>RandomForestClassifier()</td>\n",
       "      <td>TruncatedSVD(n_components=79)</td>\n",
       "      <td>84</td>\n",
       "      <td>{'estimator': RandomForestClassifier(), 'reduc...</td>\n",
       "      <td>0.759683</td>\n",
       "      <td>0.011025</td>\n",
       "      <td>10</td>\n",
       "      <td>0.977496</td>\n",
       "      <td>0.000793</td>\n",
       "    </tr>\n",
       "  </tbody>\n",
       "</table>\n",
       "</div>"
      ],
      "text/plain": [
       "    mean_fit_time  std_fit_time  mean_score_time  std_score_time  \\\n",
       "15      12.503088      0.419807         0.182917        0.013908   \n",
       "12      10.265895      0.162777         0.163709        0.010554   \n",
       "17      14.801270      0.510084         0.185507        0.017606   \n",
       "10      11.321980      0.268262         0.158862        0.003828   \n",
       "18      14.847220      0.472607         0.178785        0.037052   \n",
       "19      12.090955      1.729985         0.089365        0.015585   \n",
       "11      10.511729      0.172812         0.150514        0.005265   \n",
       "14      11.529017      0.166881         0.173759        0.019454   \n",
       "8        9.044214      0.200538         0.181181        0.038246   \n",
       "16      15.168059      0.421404         0.200585        0.046859   \n",
       "\n",
       "             param_estimator                param_reduction  \\\n",
       "15  RandomForestClassifier()  TruncatedSVD(n_components=79)   \n",
       "12  RandomForestClassifier()  TruncatedSVD(n_components=79)   \n",
       "17  RandomForestClassifier()  TruncatedSVD(n_components=79)   \n",
       "10  RandomForestClassifier()  TruncatedSVD(n_components=79)   \n",
       "18  RandomForestClassifier()  TruncatedSVD(n_components=79)   \n",
       "19  RandomForestClassifier()  TruncatedSVD(n_components=79)   \n",
       "11  RandomForestClassifier()  TruncatedSVD(n_components=79)   \n",
       "14  RandomForestClassifier()  TruncatedSVD(n_components=79)   \n",
       "8   RandomForestClassifier()  TruncatedSVD(n_components=79)   \n",
       "16  RandomForestClassifier()  TruncatedSVD(n_components=79)   \n",
       "\n",
       "   param_reduction__n_components  \\\n",
       "15                            79   \n",
       "12                            63   \n",
       "17                            89   \n",
       "10                            53   \n",
       "18                            94   \n",
       "19                           100   \n",
       "11                            58   \n",
       "14                            74   \n",
       "8                             43   \n",
       "16                            84   \n",
       "\n",
       "                                               params  mean_test_score  \\\n",
       "15  {'estimator': RandomForestClassifier(), 'reduc...         0.764127   \n",
       "12  {'estimator': RandomForestClassifier(), 'reduc...         0.763069   \n",
       "17  {'estimator': RandomForestClassifier(), 'reduc...         0.762857   \n",
       "10  {'estimator': RandomForestClassifier(), 'reduc...         0.762646   \n",
       "18  {'estimator': RandomForestClassifier(), 'reduc...         0.762116   \n",
       "19  {'estimator': RandomForestClassifier(), 'reduc...         0.761799   \n",
       "11  {'estimator': RandomForestClassifier(), 'reduc...         0.761481   \n",
       "14  {'estimator': RandomForestClassifier(), 'reduc...         0.761058   \n",
       "8   {'estimator': RandomForestClassifier(), 'reduc...         0.760000   \n",
       "16  {'estimator': RandomForestClassifier(), 'reduc...         0.759683   \n",
       "\n",
       "    std_test_score  rank_test_score  mean_train_score  std_train_score  \n",
       "15        0.010515                1          0.977460         0.000860  \n",
       "12        0.009561                2          0.977354         0.000761  \n",
       "17        0.005513                3          0.977531         0.000847  \n",
       "10        0.006520                4          0.977354         0.000761  \n",
       "18        0.008908                5          0.977531         0.000910  \n",
       "19        0.007699                6          0.977531         0.000847  \n",
       "11        0.006796                7          0.977354         0.000761  \n",
       "14        0.009615                8          0.977460         0.000760  \n",
       "8         0.005212                9          0.977319         0.000817  \n",
       "16        0.011025               10          0.977496         0.000793  "
      ]
     },
     "execution_count": 43,
     "metadata": {},
     "output_type": "execute_result"
    }
   ],
   "source": [
    "res = pd.DataFrame(grid.cv_results_)\n",
    "cols = [i for i in res.columns if \"split\" not in i ]\n",
    "res = res[cols]\n",
    "res.sort_values(\"rank_test_score\").head(10)"
   ]
  },
  {
   "cell_type": "code",
   "execution_count": 44,
   "id": "a264dbcd",
   "metadata": {
    "ExecuteTime": {
     "end_time": "2022-06-27T20:22:48.624588Z",
     "start_time": "2022-06-27T20:22:48.482539Z"
    }
   },
   "outputs": [
    {
     "data": {
      "text/plain": [
       "<matplotlib.collections.PathCollection at 0x7f7214d05700>"
      ]
     },
     "execution_count": 44,
     "metadata": {},
     "output_type": "execute_result"
    },
    {
     "data": {
      "image/png": "[encoded data removed]",
      "text/plain": [
       "<Figure size 432x288 with 1 Axes>"
      ]
     },
     "metadata": {
      "needs_background": "light"
     },
     "output_type": "display_data"
    }
   ],
   "source": [
    "plt.scatter(res.param_reduction__n_components, res.mean_test_score)"
   ]
  },
  {
   "cell_type": "code",
   "execution_count": 45,
   "id": "82345c63",
   "metadata": {
    "ExecuteTime": {
     "end_time": "2022-06-27T20:22:48.763577Z",
     "start_time": "2022-06-27T20:22:48.626972Z"
    }
   },
   "outputs": [
    {
     "data": {
      "text/plain": [
       "<matplotlib.collections.PathCollection at 0x7f7214d222b0>"
      ]
     },
     "execution_count": 45,
     "metadata": {},
     "output_type": "execute_result"
    },
    {
     "data": {
      "image/png": "[encoded data removed]",
      "text/plain": [
       "<Figure size 432x288 with 1 Axes>"
      ]
     },
     "metadata": {
      "needs_background": "light"
     },
     "output_type": "display_data"
    },
    {
     "name": "stdout",
     "output_type": "stream",
     "text": [
      "[CV 5/5] END estimator=RandomForestClassifier(), reduction=TruncatedSVD(), reduction__n_components=2;, score=(train=0.978, test=0.639) total time=   2.3s\n",
      "[CV 2/5] END estimator=RandomForestClassifier(), reduction=TruncatedSVD(), reduction__n_components=12;, score=(train=0.977, test=0.732) total time=   3.1s\n",
      "[CV 5/5] END estimator=RandomForestClassifier(), reduction=TruncatedSVD(), reduction__n_components=17;, score=(train=0.978, test=0.758) total time=   3.8s\n",
      "[CV 2/5] END estimator=RandomForestClassifier(), reduction=TruncatedSVD(), reduction__n_components=27;, score=(train=0.977, test=0.748) total time=   7.6s\n",
      "[CV 1/5] END estimator=RandomForestClassifier(), reduction=TruncatedSVD(), reduction__n_components=38;, score=(train=0.978, test=0.768) total time=   8.9s\n",
      "[CV 4/5] END estimator=RandomForestClassifier(), reduction=TruncatedSVD(), reduction__n_components=43;, score=(train=0.978, test=0.761) total time=   9.0s\n",
      "[CV 2/5] END estimator=RandomForestClassifier(), reduction=TruncatedSVD(), reduction__n_components=53;, score=(train=0.977, test=0.750) total time=  11.4s\n",
      "[CV 5/5] END estimator=RandomForestClassifier(), reduction=TruncatedSVD(), reduction__n_components=58;, score=(train=0.978, test=0.763) total time=  10.4s\n",
      "[CV 3/5] END estimator=RandomForestClassifier(), reduction=TruncatedSVD(), reduction__n_components=69;, score=(train=0.976, test=0.766) total time=  11.7s\n",
      "[CV 1/5] END estimator=RandomForestClassifier(), reduction=TruncatedSVD(), reduction__n_components=79;, score=(train=0.978, test=0.764) total time=  12.1s\n",
      "[CV 4/5] END estimator=RandomForestClassifier(), reduction=TruncatedSVD(), reduction__n_components=84;, score=(train=0.978, test=0.753) total time=  16.0s\n",
      "[CV 2/5] END estimator=RandomForestClassifier(), reduction=TruncatedSVD(), reduction__n_components=94;, score=(train=0.977, test=0.748) total time=  15.9s\n",
      "[CV 1/5] END estimator=RandomForestClassifier(), reduction=TruncatedSVD(), reduction__n_components=7;, score=(train=0.978, test=0.741) total time=   2.7s\n",
      "[CV 5/5] END estimator=RandomForestClassifier(), reduction=TruncatedSVD(), reduction__n_components=12;, score=(train=0.978, test=0.741) total time=   3.1s\n",
      "[CV 2/5] END estimator=RandomForestClassifier(), reduction=TruncatedSVD(), reduction__n_components=22;, score=(train=0.977, test=0.743) total time=   3.9s\n",
      "[CV 5/5] END estimator=RandomForestClassifier(), reduction=TruncatedSVD(), reduction__n_components=27;, score=(train=0.978, test=0.760) total time=   8.4s\n",
      "[CV 4/5] END estimator=RandomForestClassifier(), reduction=TruncatedSVD(), reduction__n_components=38;, score=(train=0.978, test=0.758) total time=   9.0s\n",
      "[CV 2/5] END estimator=RandomForestClassifier(), reduction=TruncatedSVD(), reduction__n_components=48;, score=(train=0.977, test=0.734) total time=   9.2s\n",
      "[CV 5/5] END estimator=RandomForestClassifier(), reduction=TruncatedSVD(), reduction__n_components=53;, score=(train=0.978, test=0.769) total time=  11.4s\n",
      "[CV 3/5] END estimator=RandomForestClassifier(), reduction=TruncatedSVD(), reduction__n_components=63;, score=(train=0.976, test=0.769) total time=  10.7s\n",
      "[CV 1/5] END estimator=RandomForestClassifier(), reduction=TruncatedSVD(), reduction__n_components=74;, score=(train=0.978, test=0.762) total time=  11.5s\n",
      "[CV 4/5] END estimator=RandomForestClassifier(), reduction=TruncatedSVD(), reduction__n_components=79;, score=(train=0.978, test=0.758) total time=  12.7s\n",
      "[CV 2/5] END estimator=RandomForestClassifier(), reduction=TruncatedSVD(), reduction__n_components=89;, score=(train=0.977, test=0.753) total time=  15.8s\n",
      "[CV 5/5] END estimator=RandomForestClassifier(), reduction=TruncatedSVD(), reduction__n_components=94;, score=(train=0.978, test=0.771) total time=  14.8s\n",
      "[CV 3/5] END estimator=RandomForestClassifier(), reduction=TruncatedSVD(), reduction__n_components=7;, score=(train=0.976, test=0.726) total time=   2.8s\n",
      "[CV 1/5] END estimator=RandomForestClassifier(), reduction=TruncatedSVD(), reduction__n_components=17;, score=(train=0.978, test=0.750) total time=   3.7s\n",
      "[CV 4/5] END estimator=RandomForestClassifier(), reduction=TruncatedSVD(), reduction__n_components=22;, score=(train=0.978, test=0.754) total time=   5.4s\n",
      "[CV 2/5] END estimator=RandomForestClassifier(), reduction=TruncatedSVD(), reduction__n_components=32;, score=(train=0.977, test=0.739) total time=   8.5s\n",
      "[CV 5/5] END estimator=RandomForestClassifier(), reduction=TruncatedSVD(), reduction__n_components=38;, score=(train=0.978, test=0.757) total time=   9.2s\n",
      "[CV 3/5] END estimator=RandomForestClassifier(), reduction=TruncatedSVD(), reduction__n_components=48;, score=(train=0.976, test=0.771) total time=  10.2s\n",
      "[CV 1/5] END estimator=RandomForestClassifier(), reduction=TruncatedSVD(), reduction__n_components=58;, score=(train=0.978, test=0.762) total time=  10.9s\n",
      "[CV 4/5] END estimator=RandomForestClassifier(), reduction=TruncatedSVD(), reduction__n_components=63;, score=(train=0.978, test=0.757) total time=  10.5s\n",
      "[CV 2/5] END estimator=RandomForestClassifier(), reduction=TruncatedSVD(), reduction__n_components=74;, score=(train=0.977, test=0.750) total time=  11.6s\n",
      "[CV 5/5] END estimator=RandomForestClassifier(), reduction=TruncatedSVD(), reduction__n_components=79;, score=(train=0.978, test=0.772) total time=  13.4s\n",
      "[CV 3/5] END estimator=RandomForestClassifier(), reduction=TruncatedSVD(), reduction__n_components=89;, score=(train=0.976, test=0.764) total time=  15.2s\n",
      "[CV 1/5] END estimator=RandomForestClassifier(), reduction=TruncatedSVD(), reduction__n_components=100;, score=(train=0.978, test=0.766) total time=  14.5s\n",
      "[CV 1/5] END estimator=RandomForestClassifier(), reduction=TruncatedSVD(), reduction__n_components=2;, score=(train=0.978, test=0.668) total time=   2.0s\n",
      "[CV 4/5] END estimator=RandomForestClassifier(), reduction=TruncatedSVD(), reduction__n_components=7;, score=(train=0.978, test=0.726) total time=   2.4s\n",
      "[CV 2/5] END estimator=RandomForestClassifier(), reduction=TruncatedSVD(), reduction__n_components=17;, score=(train=0.977, test=0.730) total time=   4.0s\n",
      "[CV 5/5] END estimator=RandomForestClassifier(), reduction=TruncatedSVD(), reduction__n_components=22;, score=(train=0.978, test=0.757) total time=   6.0s\n",
      "[CV 3/5] END estimator=RandomForestClassifier(), reduction=TruncatedSVD(), reduction__n_components=32;, score=(train=0.976, test=0.771) total time=   7.9s\n",
      "[CV 1/5] END estimator=RandomForestClassifier(), reduction=TruncatedSVD(), reduction__n_components=43;, score=(train=0.978, test=0.768) total time=   9.4s\n",
      "[CV 4/5] END estimator=RandomForestClassifier(), reduction=TruncatedSVD(), reduction__n_components=48;, score=(train=0.978, test=0.759) total time=  10.7s\n",
      "[CV 2/5] END estimator=RandomForestClassifier(), reduction=TruncatedSVD(), reduction__n_components=58;, score=(train=0.977, test=0.750) total time=  10.8s\n",
      "[CV 5/5] END estimator=RandomForestClassifier(), reduction=TruncatedSVD(), reduction__n_components=63;, score=(train=0.978, test=0.772) total time=  10.3s\n",
      "[CV 3/5] END estimator=RandomForestClassifier(), reduction=TruncatedSVD(), reduction__n_components=74;, score=(train=0.976, test=0.777) total time=  11.7s\n",
      "[CV 1/5] END estimator=RandomForestClassifier(), reduction=TruncatedSVD(), reduction__n_components=84;, score=(train=0.978, test=0.760) total time=  14.8s\n",
      "[CV 4/5] END estimator=RandomForestClassifier(), reduction=TruncatedSVD(), reduction__n_components=89;, score=(train=0.978, test=0.765) total time=  15.0s\n",
      "[CV 2/5] END estimator=RandomForestClassifier(), reduction=TruncatedSVD(), reduction__n_components=100;, score=(train=0.977, test=0.749) total time=  13.6s\n",
      "[CV 4/5] END estimator=RandomForestClassifier(), reduction=TruncatedSVD(), reduction__n_components=2;, score=(train=0.978, test=0.618) total time=   2.2s\n",
      "[CV 5/5] END estimator=RandomForestClassifier(), reduction=TruncatedSVD(), reduction__n_components=7;, score=(train=0.978, test=0.723) total time=   2.6s\n",
      "[CV 3/5] END estimator=RandomForestClassifier(), reduction=TruncatedSVD(), reduction__n_components=17;, score=(train=0.976, test=0.762) total time=   3.9s\n",
      "[CV 1/5] END estimator=RandomForestClassifier(), reduction=TruncatedSVD(), reduction__n_components=27;, score=(train=0.978, test=0.755) total time=   7.4s\n",
      "[CV 4/5] END estimator=RandomForestClassifier(), reduction=TruncatedSVD(), reduction__n_components=32;, score=(train=0.978, test=0.757) total time=   8.0s\n",
      "[CV 2/5] END estimator=RandomForestClassifier(), reduction=TruncatedSVD(), reduction__n_components=43;, score=(train=0.977, test=0.752) total time=   9.5s\n",
      "[CV 5/5] END estimator=RandomForestClassifier(), reduction=TruncatedSVD(), reduction__n_components=48;, score=(train=0.978, test=0.762) total time=  10.6s\n",
      "[CV 3/5] END estimator=RandomForestClassifier(), reduction=TruncatedSVD(), reduction__n_components=58;, score=(train=0.976, test=0.771) total time=  10.7s\n",
      "[CV 1/5] END estimator=RandomForestClassifier(), reduction=TruncatedSVD(), reduction__n_components=69;, score=(train=0.978, test=0.765) total time=  11.5s\n",
      "[CV 4/5] END estimator=RandomForestClassifier(), reduction=TruncatedSVD(), reduction__n_components=74;, score=(train=0.978, test=0.753) total time=  11.9s\n",
      "[CV 2/5] END estimator=RandomForestClassifier(), reduction=TruncatedSVD(), reduction__n_components=84;, score=(train=0.977, test=0.742) total time=  15.2s\n",
      "[CV 5/5] END estimator=RandomForestClassifier(), reduction=TruncatedSVD(), reduction__n_components=89;, score=(train=0.978, test=0.770) total time=  14.3s\n",
      "[CV 3/5] END estimator=RandomForestClassifier(), reduction=TruncatedSVD(), reduction__n_components=100;, score=(train=0.976, test=0.766) total time=  11.6s\n"
     ]
    },
    {
     "name": "stdout",
     "output_type": "stream",
     "text": [
      "[CV 3/5] END estimator=RandomForestClassifier(), reduction=TruncatedSVD(), reduction__n_components=2;, score=(train=0.976, test=0.625) total time=   2.3s\n",
      "[CV 1/5] END estimator=RandomForestClassifier(), reduction=TruncatedSVD(), reduction__n_components=12;, score=(train=0.978, test=0.756) total time=   3.1s\n",
      "[CV 4/5] END estimator=RandomForestClassifier(), reduction=TruncatedSVD(), reduction__n_components=17;, score=(train=0.978, test=0.759) total time=   3.9s\n",
      "[CV 3/5] END estimator=RandomForestClassifier(), reduction=TruncatedSVD(), reduction__n_components=27;, score=(train=0.976, test=0.764) total time=   7.4s\n",
      "[CV 5/5] END estimator=RandomForestClassifier(), reduction=TruncatedSVD(), reduction__n_components=32;, score=(train=0.978, test=0.755) total time=   8.1s\n",
      "[CV 3/5] END estimator=RandomForestClassifier(), reduction=TruncatedSVD(), reduction__n_components=43;, score=(train=0.976, test=0.762) total time=   9.1s\n",
      "[CV 1/5] END estimator=RandomForestClassifier(), reduction=TruncatedSVD(), reduction__n_components=53;, score=(train=0.978, test=0.766) total time=  11.3s\n",
      "[CV 4/5] END estimator=RandomForestClassifier(), reduction=TruncatedSVD(), reduction__n_components=58;, score=(train=0.978, test=0.761) total time=  10.5s\n",
      "[CV 2/5] END estimator=RandomForestClassifier(), reduction=TruncatedSVD(), reduction__n_components=69;, score=(train=0.977, test=0.743) total time=  11.4s\n",
      "[CV 5/5] END estimator=RandomForestClassifier(), reduction=TruncatedSVD(), reduction__n_components=74;, score=(train=0.978, test=0.763) total time=  11.8s\n",
      "[CV 3/5] END estimator=RandomForestClassifier(), reduction=TruncatedSVD(), reduction__n_components=84;, score=(train=0.976, test=0.772) total time=  15.1s\n",
      "[CV 1/5] END estimator=RandomForestClassifier(), reduction=TruncatedSVD(), reduction__n_components=94;, score=(train=0.978, test=0.770) total time=  15.1s\n",
      "[CV 4/5] END estimator=RandomForestClassifier(), reduction=TruncatedSVD(), reduction__n_components=100;, score=(train=0.978, test=0.757) total time=  11.6s\n",
      "[CV 2/5] END estimator=RandomForestClassifier(), reduction=TruncatedSVD(), reduction__n_components=7;, score=(train=0.977, test=0.721) total time=   2.6s\n",
      "[CV 4/5] END estimator=RandomForestClassifier(), reduction=TruncatedSVD(), reduction__n_components=12;, score=(train=0.978, test=0.749) total time=   3.3s\n",
      "[CV 3/5] END estimator=RandomForestClassifier(), reduction=TruncatedSVD(), reduction__n_components=22;, score=(train=0.976, test=0.770) total time=   3.9s\n",
      "[CV 1/5] END estimator=RandomForestClassifier(), reduction=TruncatedSVD(), reduction__n_components=32;, score=(train=0.978, test=0.759) total time=   7.6s\n",
      "[CV 2/5] END estimator=RandomForestClassifier(), reduction=TruncatedSVD(), reduction__n_components=38;, score=(train=0.977, test=0.735) total time=   9.3s\n",
      "[CV 1/5] END estimator=RandomForestClassifier(), reduction=TruncatedSVD(), reduction__n_components=48;, score=(train=0.978, test=0.758) total time=   9.5s\n",
      "[CV 4/5] END estimator=RandomForestClassifier(), reduction=TruncatedSVD(), reduction__n_components=53;, score=(train=0.978, test=0.763) total time=  11.3s\n",
      "[CV 1/5] END estimator=RandomForestClassifier(), reduction=TruncatedSVD(), reduction__n_components=63;, score=(train=0.978, test=0.769) total time=  10.5s\n",
      "[CV 4/5] END estimator=RandomForestClassifier(), reduction=TruncatedSVD(), reduction__n_components=69;, score=(train=0.978, test=0.754) total time=  11.9s\n",
      "[CV 3/5] END estimator=RandomForestClassifier(), reduction=TruncatedSVD(), reduction__n_components=79;, score=(train=0.976, test=0.778) total time=  12.8s\n",
      "[CV 1/5] END estimator=RandomForestClassifier(), reduction=TruncatedSVD(), reduction__n_components=89;, score=(train=0.978, test=0.763) total time=  14.7s\n",
      "[CV 3/5] END estimator=RandomForestClassifier(), reduction=TruncatedSVD(), reduction__n_components=94;, score=(train=0.976, test=0.766) total time=  14.8s\n",
      "[CV 5/5] END estimator=RandomForestClassifier(), reduction=TruncatedSVD(), reduction__n_components=100;, score=(train=0.978, test=0.771) total time=   9.5s\n",
      "[CV 2/5] END estimator=RandomForestClassifier(), reduction=TruncatedSVD(), reduction__n_components=2;, score=(train=0.977, test=0.623) total time=   2.5s\n",
      "[CV 3/5] END estimator=RandomForestClassifier(), reduction=TruncatedSVD(), reduction__n_components=12;, score=(train=0.976, test=0.749) total time=   3.1s\n",
      "[CV 1/5] END estimator=RandomForestClassifier(), reduction=TruncatedSVD(), reduction__n_components=22;, score=(train=0.978, test=0.759) total time=   3.9s\n",
      "[CV 4/5] END estimator=RandomForestClassifier(), reduction=TruncatedSVD(), reduction__n_components=27;, score=(train=0.978, test=0.762) total time=   8.1s\n",
      "[CV 3/5] END estimator=RandomForestClassifier(), reduction=TruncatedSVD(), reduction__n_components=38;, score=(train=0.976, test=0.766) total time=   8.9s\n",
      "[CV 5/5] END estimator=RandomForestClassifier(), reduction=TruncatedSVD(), reduction__n_components=43;, score=(train=0.978, test=0.758) total time=   9.1s\n",
      "[CV 3/5] END estimator=RandomForestClassifier(), reduction=TruncatedSVD(), reduction__n_components=53;, score=(train=0.976, test=0.765) total time=  12.0s\n",
      "[CV 2/5] END estimator=RandomForestClassifier(), reduction=TruncatedSVD(), reduction__n_components=63;, score=(train=0.977, test=0.747) total time=  10.2s\n",
      "[CV 5/5] END estimator=RandomForestClassifier(), reduction=TruncatedSVD(), reduction__n_components=69;, score=(train=0.978, test=0.768) total time=  11.5s\n",
      "[CV 2/5] END estimator=RandomForestClassifier(), reduction=TruncatedSVD(), reduction__n_components=79;, score=(train=0.977, test=0.748) total time=  12.5s\n",
      "[CV 5/5] END estimator=RandomForestClassifier(), reduction=TruncatedSVD(), reduction__n_components=84;, score=(train=0.978, test=0.770) total time=  15.8s\n",
      "[CV 4/5] END estimator=RandomForestClassifier(), reduction=TruncatedSVD(), reduction__n_components=94;, score=(train=0.978, test=0.756) total time=  14.5s\n"
     ]
    }
   ],
   "source": [
    "plt.scatter(res.param_reduction__n_components, res.mean_fit_time)"
   ]
  },
  {
   "cell_type": "code",
   "execution_count": null,
   "id": "946e2040",
   "metadata": {},
   "outputs": [],
   "source": []
  },
  {
   "cell_type": "code",
   "execution_count": null,
   "id": "36f42ae4",
   "metadata": {},
   "outputs": [],
   "source": []
  },
  {
   "cell_type": "code",
   "execution_count": null,
   "id": "2a2b2df7",
   "metadata": {},
   "outputs": [],
   "source": []
  }
 ],
 "metadata": {
  "hide_input": false,
  "kernelspec": {
   "display_name": "Python 3",
   "language": "python",
   "name": "python3"
  },
  "language_info": {
   "codemirror_mode": {
    "name": "ipython",
    "version": 3
   },
   "file_extension": ".py",
   "mimetype": "text/x-python",
   "name": "python",
   "nbconvert_exporter": "python",
   "pygments_lexer": "ipython3",
   "version": "3.8.10"
  }
 },
 "nbformat": 4,
 "nbformat_minor": 5
}
