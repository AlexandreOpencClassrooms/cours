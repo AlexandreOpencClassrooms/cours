{
 "cells": [
  {
   "cell_type": "markdown",
   "id": "90d846cb",
   "metadata": {
    "heading_collapsed": true
   },
   "source": [
    "# 1. Preliminary"
   ]
  },
  {
   "cell_type": "markdown",
   "id": "03838406",
   "metadata": {
    "hidden": true
   },
   "source": [
    "## 1.1 Context"
   ]
  },
  {
   "cell_type": "markdown",
   "id": "79995afa",
   "metadata": {
    "hidden": true
   },
   "source": [
    "* We will analyze a very well known NLP dataset: tweets from disaster\n",
    "\n",
    "\n",
    "* It is a Kaggle competition, which offers a simple but good level textual dataset to be able to make its weapons in NLP\n",
    "\n",
    "\n",
    "* The dataset is here [https://www.kaggle.com/competitions/nlp-getting-started/data]\n",
    "\n",
    "\n",
    "* Please use the **train** dataset\n",
    "\n",
    "\n",
    "* In this 1st part we are going to clean the text"
   ]
  },
  {
   "cell_type": "markdown",
   "id": "9562f101",
   "metadata": {
    "hidden": true
   },
   "source": [
    "## 1.2 Requirements"
   ]
  },
  {
   "cell_type": "markdown",
   "id": "885639a6",
   "metadata": {
    "ExecuteTime": {
     "end_time": "2022-06-28T20:47:48.424652Z",
     "start_time": "2022-06-28T20:47:48.419964Z"
    },
    "hidden": true
   },
   "source": [
    "You have to install  : \n",
    "\n",
    "* pandas\n",
    "* numpy\n",
    "* matplotlib\n",
    "* seaborn\n",
    "\n",
    "\n",
    "* nltk\n",
    "* wordcloud\n",
    "* pillow\n",
    "\n",
    "\n",
    "* pandarallel"
   ]
  },
  {
   "cell_type": "markdown",
   "id": "97396f16",
   "metadata": {
    "hidden": true
   },
   "source": [
    "## 1.3 Imports"
   ]
  },
  {
   "cell_type": "code",
   "execution_count": 2,
   "id": "d56dbd5f",
   "metadata": {
    "ExecuteTime": {
     "end_time": "2022-06-30T19:16:38.009256Z",
     "start_time": "2022-06-30T19:16:36.215364Z"
    },
    "hidden": true
   },
   "outputs": [],
   "source": [
    "# builtin\n",
    "import os, sys, time, random\n",
    "\n",
    "\n",
    "# data\n",
    "import pandas as pd\n",
    "import numpy as np\n",
    "\n",
    "\n",
    "# NLP\n",
    "import nltk\n",
    "from nltk.stem import WordNetLemmatizer, PorterStemmer\n",
    "from nltk.tokenize import word_tokenize, wordpunct_tokenize\n",
    "from nltk.corpus import words\n",
    "from nltk.corpus import stopwords\n",
    "from nltk.tokenize import RegexpTokenizer\n",
    "\n",
    "# import spacy\n",
    "\n",
    "\n",
    "# viz\n",
    "import seaborn as sns\n",
    "import matplotlib.pyplot as plt\n",
    "from wordcloud import WordCloud\n",
    "from PIL import Image\n",
    "\n",
    "# import plotly as px\n",
    "\n",
    "from pandarallel import pandarallel"
   ]
  },
  {
   "cell_type": "markdown",
   "id": "d5a272cd",
   "metadata": {
    "hidden": true
   },
   "source": [
    "## 1.4 Downloads and options"
   ]
  },
  {
   "cell_type": "code",
   "execution_count": null,
   "id": "f8f872b9",
   "metadata": {
    "ExecuteTime": {
     "end_time": "2022-06-30T19:16:38.022842Z",
     "start_time": "2022-06-30T19:16:38.012575Z"
    },
    "hidden": true
   },
   "outputs": [],
   "source": [
    "# download\n",
    "\n",
    "\"\"\"\n",
    "nltk.download('omw-1.4')\n",
    "nltk.download('wordnet')\n",
    "nltk.download('stopwords')\n",
    "nltk.download('words')\n",
    "\"\"\""
   ]
  },
  {
   "cell_type": "code",
   "execution_count": 3,
   "id": "5e8ce93e",
   "metadata": {
    "ExecuteTime": {
     "end_time": "2022-06-30T19:16:38.031376Z",
     "start_time": "2022-06-30T19:16:38.024770Z"
    },
    "hidden": true
   },
   "outputs": [
    {
     "name": "stdout",
     "output_type": "stream",
     "text": [
      "INFO: Pandarallel will run on 6 workers.\n",
      "INFO: Pandarallel will use standard multiprocessing data transfer (pipe) to transfer data between the main process and workers.\n"
     ]
    }
   ],
   "source": [
    "# pandarallel\n",
    "\n",
    "pandarallel.initialize(progress_bar=True, \n",
    "                       nb_workers=6, \n",
    "                       # verbose=1\n",
    "                      )"
   ]
  },
  {
   "cell_type": "code",
   "execution_count": 4,
   "id": "8ecb0d63",
   "metadata": {
    "ExecuteTime": {
     "end_time": "2022-06-30T19:16:38.039867Z",
     "start_time": "2022-06-30T19:16:38.035459Z"
    },
    "hidden": true
   },
   "outputs": [],
   "source": [
    "# init sns\n",
    "\n",
    "sns.set()"
   ]
  },
  {
   "cell_type": "markdown",
   "id": "1880a917",
   "metadata": {
    "hidden": true
   },
   "source": [
    "## 1.5 Loading data"
   ]
  },
  {
   "cell_type": "code",
   "execution_count": 5,
   "id": "c046fdbb",
   "metadata": {
    "ExecuteTime": {
     "end_time": "2022-06-30T19:16:38.055967Z",
     "start_time": "2022-06-30T19:16:38.049670Z"
    },
    "hidden": true
   },
   "outputs": [
    {
     "data": {
      "text/plain": [
       "['min_10_words.csv', 'min_5_words.csv', 'df_cleaned.csv', 'unique_words.csv']"
      ]
     },
     "execution_count": 5,
     "metadata": {},
     "output_type": "execute_result"
    }
   ],
   "source": [
    "# our file\n",
    "\n",
    "data = \"./data/cleaned/\"\n",
    "os.listdir(data)"
   ]
  },
  {
   "cell_type": "code",
   "execution_count": 6,
   "id": "e699e715",
   "metadata": {
    "ExecuteTime": {
     "end_time": "2022-06-30T19:16:38.097919Z",
     "start_time": "2022-06-30T19:16:38.059017Z"
    },
    "hidden": true,
    "scrolled": true
   },
   "outputs": [
    {
     "data": {
      "text/html": [
       "<div>\n",
       "<style scoped>\n",
       "    .dataframe tbody tr th:only-of-type {\n",
       "        vertical-align: middle;\n",
       "    }\n",
       "\n",
       "    .dataframe tbody tr th {\n",
       "        vertical-align: top;\n",
       "    }\n",
       "\n",
       "    .dataframe thead th {\n",
       "        text-align: right;\n",
       "    }\n",
       "</style>\n",
       "<table border=\"1\" class=\"dataframe\">\n",
       "  <thead>\n",
       "    <tr style=\"text-align: right;\">\n",
       "      <th></th>\n",
       "      <th>text</th>\n",
       "      <th>target</th>\n",
       "    </tr>\n",
       "  </thead>\n",
       "  <tbody>\n",
       "    <tr>\n",
       "      <th>0</th>\n",
       "      <td>Our Deeds are the Reason of this #earthquake M...</td>\n",
       "      <td>1</td>\n",
       "    </tr>\n",
       "    <tr>\n",
       "      <th>1</th>\n",
       "      <td>Forest fire near La Ronge Sask. Canada</td>\n",
       "      <td>1</td>\n",
       "    </tr>\n",
       "    <tr>\n",
       "      <th>2</th>\n",
       "      <td>All residents asked to 'shelter in place' are ...</td>\n",
       "      <td>1</td>\n",
       "    </tr>\n",
       "    <tr>\n",
       "      <th>3</th>\n",
       "      <td>13,000 people receive #wildfires evacuation or...</td>\n",
       "      <td>1</td>\n",
       "    </tr>\n",
       "    <tr>\n",
       "      <th>4</th>\n",
       "      <td>Just got sent this photo from Ruby #Alaska as ...</td>\n",
       "      <td>1</td>\n",
       "    </tr>\n",
       "  </tbody>\n",
       "</table>\n",
       "</div>"
      ],
      "text/plain": [
       "                                                text  target\n",
       "0  Our Deeds are the Reason of this #earthquake M...       1\n",
       "1             Forest fire near La Ronge Sask. Canada       1\n",
       "2  All residents asked to 'shelter in place' are ...       1\n",
       "3  13,000 people receive #wildfires evacuation or...       1\n",
       "4  Just got sent this photo from Ruby #Alaska as ...       1"
      ]
     },
     "execution_count": 6,
     "metadata": {},
     "output_type": "execute_result"
    }
   ],
   "source": [
    "# load dataframe\n",
    "\n",
    "fn = data + 'df_cleaned.csv'\n",
    "df = pd.read_csv(fn)\n",
    "df.head()"
   ]
  },
  {
   "cell_type": "code",
   "execution_count": 7,
   "id": "2d10fbf4",
   "metadata": {
    "ExecuteTime": {
     "end_time": "2022-06-30T19:16:38.107443Z",
     "start_time": "2022-06-30T19:16:38.101002Z"
    },
    "hidden": true
   },
   "outputs": [
    {
     "data": {
      "text/plain": [
       "(7503, 2)"
      ]
     },
     "execution_count": 7,
     "metadata": {},
     "output_type": "execute_result"
    }
   ],
   "source": [
    "df.shape"
   ]
  },
  {
   "cell_type": "code",
   "execution_count": null,
   "id": "5ced76f7",
   "metadata": {
    "ExecuteTime": {
     "end_time": "2022-06-30T19:16:38.114328Z",
     "start_time": "2022-06-30T19:16:38.110173Z"
    },
    "hidden": true
   },
   "outputs": [],
   "source": [
    "df = df.sample(frac=0.3)"
   ]
  },
  {
   "cell_type": "code",
   "execution_count": null,
   "id": "16d39a14",
   "metadata": {
    "ExecuteTime": {
     "end_time": "2022-06-30T19:16:38.123102Z",
     "start_time": "2022-06-30T19:16:38.118671Z"
    },
    "hidden": true
   },
   "outputs": [],
   "source": [
    "df.shape"
   ]
  },
  {
   "cell_type": "markdown",
   "id": "ab788d1d",
   "metadata": {
    "heading_collapsed": true
   },
   "source": [
    "# 2. Work on a specific document"
   ]
  },
  {
   "cell_type": "code",
   "execution_count": 9,
   "id": "dea19425",
   "metadata": {
    "ExecuteTime": {
     "end_time": "2022-06-30T19:16:38.131779Z",
     "start_time": "2022-06-30T19:16:38.125625Z"
    },
    "hidden": true
   },
   "outputs": [
    {
     "data": {
      "text/plain": [
       "'A better look at what this catastrophic rain and flooding has done to our\\x89Û_ https://t.co/5yRBegzafX'"
      ]
     },
     "execution_count": 9,
     "metadata": {},
     "output_type": "execute_result"
    }
   ],
   "source": [
    "# select a random document\n",
    "\n",
    "doc = df.text.sample(1)\n",
    "doc = doc.values[0]\n",
    "doc"
   ]
  },
  {
   "cell_type": "markdown",
   "id": "3b86b385",
   "metadata": {
    "hidden": true
   },
   "source": [
    "## 2.1 Lower"
   ]
  },
  {
   "cell_type": "code",
   "execution_count": 10,
   "id": "f1754801",
   "metadata": {
    "ExecuteTime": {
     "end_time": "2022-06-30T19:16:38.138929Z",
     "start_time": "2022-06-30T19:16:38.134131Z"
    },
    "hidden": true
   },
   "outputs": [
    {
     "data": {
      "text/plain": [
       "'a better look at what this catastrophic rain and flooding has done to our\\x89û_ https://t.co/5yrbegzafx'"
      ]
     },
     "execution_count": 10,
     "metadata": {},
     "output_type": "execute_result"
    }
   ],
   "source": [
    "# lower\n",
    "\n",
    "doc = doc.lower()\n",
    "doc"
   ]
  },
  {
   "cell_type": "markdown",
   "id": "5bac2ec5",
   "metadata": {
    "hidden": true
   },
   "source": [
    "## 2.2 Tokenization"
   ]
  },
  {
   "cell_type": "code",
   "execution_count": 11,
   "id": "05a5c20e",
   "metadata": {
    "ExecuteTime": {
     "end_time": "2022-06-30T19:16:38.155177Z",
     "start_time": "2022-06-30T19:16:38.141163Z"
    },
    "hidden": true
   },
   "outputs": [
    {
     "data": {
      "text/plain": [
       "['a',\n",
       " 'better',\n",
       " 'look',\n",
       " 'at',\n",
       " 'what',\n",
       " 'this',\n",
       " 'catastrophic',\n",
       " 'rain',\n",
       " 'and',\n",
       " 'flooding',\n",
       " 'has',\n",
       " 'done',\n",
       " 'to',\n",
       " 'our\\x89û_',\n",
       " 'https',\n",
       " ':',\n",
       " '//t.co/5yrbegzafx']"
      ]
     },
     "execution_count": 11,
     "metadata": {},
     "output_type": "execute_result"
    }
   ],
   "source": [
    "# tokenize\n",
    "\n",
    "tokens = word_tokenize(doc)\n",
    "tokens"
   ]
  },
  {
   "cell_type": "code",
   "execution_count": 12,
   "id": "09531ad9",
   "metadata": {
    "ExecuteTime": {
     "end_time": "2022-06-30T19:16:38.163472Z",
     "start_time": "2022-06-30T19:16:38.157645Z"
    },
    "hidden": true
   },
   "outputs": [
    {
     "data": {
      "text/plain": [
       "17"
      ]
     },
     "execution_count": 12,
     "metadata": {},
     "output_type": "execute_result"
    }
   ],
   "source": [
    "len(tokens)"
   ]
  },
  {
   "cell_type": "code",
   "execution_count": 13,
   "id": "dab7ca33",
   "metadata": {
    "ExecuteTime": {
     "end_time": "2022-06-30T19:16:38.172351Z",
     "start_time": "2022-06-30T19:16:38.166686Z"
    },
    "hidden": true
   },
   "outputs": [
    {
     "data": {
      "text/plain": [
       "17"
      ]
     },
     "execution_count": 13,
     "metadata": {},
     "output_type": "execute_result"
    }
   ],
   "source": [
    "len(set(tokens))"
   ]
  },
  {
   "cell_type": "code",
   "execution_count": 14,
   "id": "fc474bc8",
   "metadata": {
    "ExecuteTime": {
     "end_time": "2022-06-30T19:16:38.178740Z",
     "start_time": "2022-06-30T19:16:38.175076Z"
    },
    "hidden": true
   },
   "outputs": [],
   "source": [
    "def display_tokens_info(tokens) : \n",
    "    \"\"\"display info about corpus \"\"\"\n",
    "    \n",
    "    print(f\"nb tokens {len(tokens)}, nb tokens uniques {len(set(tokens))}\")\n",
    "    print(tokens[:30])"
   ]
  },
  {
   "cell_type": "code",
   "execution_count": 15,
   "id": "8f6a396b",
   "metadata": {
    "ExecuteTime": {
     "end_time": "2022-06-30T19:16:38.185240Z",
     "start_time": "2022-06-30T19:16:38.181148Z"
    },
    "hidden": true,
    "scrolled": false
   },
   "outputs": [
    {
     "name": "stdout",
     "output_type": "stream",
     "text": [
      "nb tokens 23, nb tokens uniques 23\n",
      "['a', 'better', 'look', 'at', 'what', 'this', 'catastrophic', 'rain', 'and', 'flooding', 'has', 'done', 'to', 'our', '\\x89', 'û_', 'https', '://', 't', '.', 'co', '/', '5yrbegzafx']\n"
     ]
    }
   ],
   "source": [
    "# an other tokenize\n",
    "\n",
    "tokens = wordpunct_tokenize(doc)\n",
    "display_tokens_info(tokens)"
   ]
  },
  {
   "cell_type": "markdown",
   "id": "12dee43c",
   "metadata": {
    "hidden": true
   },
   "source": [
    "## 2.3 Stopwords"
   ]
  },
  {
   "cell_type": "code",
   "execution_count": 16,
   "id": "7a6ec4db",
   "metadata": {
    "ExecuteTime": {
     "end_time": "2022-06-30T19:16:38.192671Z",
     "start_time": "2022-06-30T19:16:38.187856Z"
    },
    "hidden": true
   },
   "outputs": [
    {
     "name": "stdout",
     "output_type": "stream",
     "text": [
      "{\"you'll\", \"wouldn't\", 'ma', 'be', 'here', \"weren't\", 'below', 'myself', 'all', 'themselves', 'into', 're', \"isn't\", 'been', 'don', 'didn', 'who', 'have', 'can', 'being', 'hers', 'yourself', \"shan't\", 'again', \"don't\", \"you're\", 'under', 'had', 'now', 'mustn', 'in', 'ourselves', \"mustn't\", \"mightn't\", 'are', 'our', 'them', \"should've\", 'has', 'when', \"needn't\", 'these', 'from', 'down', 'won', \"shouldn't\", 've', 'itself', 'both', \"wasn't\", 'hasn', 'isn', 'its', 'or', 'll', 'ain', 'to', 'so', 'my', 'during', 'their', 'those', 'between', 'an', 'we', 'very', 'is', 'and', 'this', 'any', 'only', 'd', \"you've\", 'were', 'will', 'for', 'he', 'a', 'which', 'than', 'shouldn', 'should', 'couldn', 'before', 'with', \"hadn't\", \"couldn't\", \"it's\", 'i', 'wouldn', 'about', \"you'd\", 'him', 'through', 'out', 's', 'does', 'am', 'few', \"haven't\", 'other', 'then', 'just', 'of', 'at', 'above', 'himself', 'doing', 'whom', 'his', 'most', 'her', 'yourselves', 'hadn', 'each', 'mightn', 'shan', 'haven', 'weren', 'yours', 'they', 'too', 'do', 'how', 'did', 'doesn', 'wasn', 'after', 'she', 'if', \"didn't\", 'some', 'y', 'off', 'where', \"won't\", 'nor', 'your', \"she's\", 'against', 'by', 'o', 'why', 'm', 'as', \"aren't\", 'theirs', 'was', 'needn', 'once', 'aren', 'same', 'ours', 'while', 'having', 'such', 'on', 'own', 'until', 'over', 'but', \"doesn't\", 'up', 'further', 'what', 'you', 'the', 'me', \"hasn't\", 'that', 'because', 'it', 'more', 't', \"that'll\", 'herself', 'no', 'not', 'there'}\n"
     ]
    }
   ],
   "source": [
    "# stop_words\n",
    "\n",
    "stop_words = set(stopwords.words('english'))\n",
    "print(stop_words)"
   ]
  },
  {
   "cell_type": "code",
   "execution_count": 17,
   "id": "e4792ef2",
   "metadata": {
    "ExecuteTime": {
     "end_time": "2022-06-30T19:16:38.199968Z",
     "start_time": "2022-06-30T19:16:38.195352Z"
    },
    "hidden": true
   },
   "outputs": [
    {
     "name": "stdout",
     "output_type": "stream",
     "text": [
      "nb tokens 14, nb tokens uniques 14\n",
      "['better', 'look', 'catastrophic', 'rain', 'flooding', 'done', '\\x89', 'û_', 'https', '://', '.', 'co', '/', '5yrbegzafx']\n"
     ]
    }
   ],
   "source": [
    "tokens = [w for w in tokens if w not in stop_words]\n",
    "display_tokens_info(tokens)"
   ]
  },
  {
   "cell_type": "code",
   "execution_count": 18,
   "id": "1eda51a5",
   "metadata": {
    "ExecuteTime": {
     "end_time": "2022-06-30T19:16:38.207681Z",
     "start_time": "2022-06-30T19:16:38.202858Z"
    },
    "hidden": true
   },
   "outputs": [
    {
     "name": "stdout",
     "output_type": "stream",
     "text": [
      "nb tokens 19, nb tokens uniques 19\n",
      "['a', 'better', 'look', 'at', 'what', 'this', 'catastrophic', 'rain', 'and', 'flooding', 'has', 'done', 'to', 'our', 'û_', 'https', 't', 'co', '5yrbegzafx']\n"
     ]
    }
   ],
   "source": [
    "# an other tokenizer\n",
    "\n",
    "tokenizer = RegexpTokenizer(r\"\\w+\")\n",
    "tokens = tokenizer.tokenize(doc)\n",
    "display_tokens_info(tokens)"
   ]
  },
  {
   "cell_type": "code",
   "execution_count": 19,
   "id": "ba57384b",
   "metadata": {
    "ExecuteTime": {
     "end_time": "2022-06-30T19:16:38.214724Z",
     "start_time": "2022-06-30T19:16:38.210309Z"
    },
    "hidden": true
   },
   "outputs": [
    {
     "name": "stdout",
     "output_type": "stream",
     "text": [
      "nb tokens 10, nb tokens uniques 10\n",
      "['better', 'look', 'catastrophic', 'rain', 'flooding', 'done', 'û_', 'https', 'co', '5yrbegzafx']\n"
     ]
    }
   ],
   "source": [
    "# remove stopwords\n",
    "\n",
    "tokens = [w for w in tokens if w not in stop_words]\n",
    "display_tokens_info(tokens)"
   ]
  },
  {
   "cell_type": "markdown",
   "id": "5494c560",
   "metadata": {
    "hidden": true
   },
   "source": [
    "## 2.4 First cleaning function"
   ]
  },
  {
   "cell_type": "code",
   "execution_count": 20,
   "id": "1fbd3174",
   "metadata": {
    "ExecuteTime": {
     "end_time": "2022-06-30T19:16:38.222625Z",
     "start_time": "2022-06-30T19:16:38.217674Z"
    },
    "hidden": true
   },
   "outputs": [],
   "source": [
    "def process_text_1(doc, rejoin=False) : \n",
    "    \"\"\"basic function of text processing \"\"\"\n",
    "    \n",
    "    # lower\n",
    "    doc = doc.lower().strip()\n",
    "    \n",
    "    # tokenize\n",
    "    tokenizer = RegexpTokenizer(r\"\\w+\")\n",
    "    raw_tokens_list = tokenizer.tokenize(doc)\n",
    "    \n",
    "    # stop words\n",
    "    cleaned_tokens_list = [w for w in raw_tokens_list if w not in stop_words]\n",
    "    \n",
    "    if rejoin : \n",
    "        return \" \".join(cleaned_tokens_list)\n",
    "    \n",
    "    return cleaned_tokens_list"
   ]
  },
  {
   "cell_type": "code",
   "execution_count": 21,
   "id": "9eafd633",
   "metadata": {
    "ExecuteTime": {
     "end_time": "2022-06-30T19:16:38.229613Z",
     "start_time": "2022-06-30T19:16:38.225406Z"
    },
    "hidden": true
   },
   "outputs": [
    {
     "name": "stdout",
     "output_type": "stream",
     "text": [
      "nb tokens 10, nb tokens uniques 10\n",
      "['better', 'look', 'catastrophic', 'rain', 'flooding', 'done', 'û_', 'https', 'co', '5yrbegzafx']\n"
     ]
    }
   ],
   "source": [
    "tokens = process_text_1(doc)\n",
    "display_tokens_info(tokens)"
   ]
  },
  {
   "cell_type": "markdown",
   "id": "1bbdea23",
   "metadata": {
    "heading_collapsed": true
   },
   "source": [
    "# 3. Working on the entire corpus"
   ]
  },
  {
   "cell_type": "markdown",
   "id": "66489ad6",
   "metadata": {
    "hidden": true
   },
   "source": [
    "## 3.1 Build raw corpus"
   ]
  },
  {
   "cell_type": "code",
   "execution_count": 22,
   "id": "047ce4ef",
   "metadata": {
    "ExecuteTime": {
     "end_time": "2022-06-30T19:16:38.240005Z",
     "start_time": "2022-06-30T19:16:38.233528Z"
    },
    "hidden": true
   },
   "outputs": [
    {
     "data": {
      "text/plain": [
       "\"Our Deeds are the Reason of this #earthquake May ALLAH Forgive us allForest fire near La Ronge Sask. CanadaAll residents asked to 'shelter in place' are being notified by officers. No other evacuation or shelter in place orders are expected13,000 people receive #wildfires evacuation orders in California Just got sent this photo from Ruby #Alaska as smoke from #wildfires pours into a school #RockyFire Update => California Hwy. 20 closed in both directions due to Lake County fire - #CAfire #wildfires#flood #disaster Heavy rain causes flash flooding of streets in Manitou, Colorado Springs areasI'm on top of the hill and I can see a fire in the woods...There's an emergency evacuation happening now in the building across the streetI'm afraid that the tornado is coming to our area...Three people died from the heat wave so farHaha South Tampa is getting flooded hah- WAIT A SECOND I LIVE IN SOUTH TAMPA WHAT AM I GONNA DO WHAT AM I GONNA DO FVCK #flooding#raining #flooding #Florida #TampaBay #T\""
      ]
     },
     "execution_count": 22,
     "metadata": {},
     "output_type": "execute_result"
    }
   ],
   "source": [
    "# join all corpus\n",
    "\n",
    "raw_corpus = \"\".join(df.text.values)\n",
    "raw_corpus[:1_000]"
   ]
  },
  {
   "cell_type": "code",
   "execution_count": 23,
   "id": "aa333397",
   "metadata": {},
   "outputs": [
    {
     "data": {
      "text/plain": [
       "756907"
      ]
     },
     "execution_count": 23,
     "metadata": {},
     "output_type": "execute_result"
    }
   ],
   "source": [
    "len(raw_corpus)"
   ]
  },
  {
   "cell_type": "code",
   "execution_count": 24,
   "id": "8af82dab",
   "metadata": {
    "ExecuteTime": {
     "end_time": "2022-06-30T19:16:38.272909Z",
     "start_time": "2022-06-30T19:16:38.243377Z"
    },
    "hidden": true
   },
   "outputs": [
    {
     "name": "stdout",
     "output_type": "stream",
     "text": [
      "nb tokens 82574, nb tokens uniques 22438\n",
      "['deeds', 'reason', 'earthquake', 'may', 'allah', 'forgive', 'us', 'allforest', 'fire', 'near', 'la', 'ronge', 'sask', 'canadaall', 'residents', 'asked', 'shelter', 'place', 'notified', 'officers', 'evacuation', 'shelter', 'place', 'orders', 'expected13', '000', 'people', 'receive', 'wildfires', 'evacuation']\n"
     ]
    }
   ],
   "source": [
    "# process the corpus\n",
    "\n",
    "corpus = process_text_1(raw_corpus)\n",
    "display_tokens_info(corpus)"
   ]
  },
  {
   "cell_type": "code",
   "execution_count": 25,
   "id": "3202abe3",
   "metadata": {
    "ExecuteTime": {
     "end_time": "2022-06-30T19:16:38.291374Z",
     "start_time": "2022-06-30T19:16:38.275225Z"
    },
    "hidden": true
   },
   "outputs": [
    {
     "data": {
      "text/plain": [
       "co                  4703\n",
       "http                4231\n",
       "https                405\n",
       "amp                  342\n",
       "like                 341\n",
       "                    ... \n",
       "destructiontruck       1\n",
       "salvages               1\n",
       "7b2wf6ovfk             1\n",
       "newsrepublican         1\n",
       "ymy4rskq3d             1\n",
       "Length: 22438, dtype: int64"
      ]
     },
     "execution_count": 25,
     "metadata": {},
     "output_type": "execute_result"
    }
   ],
   "source": [
    "# value counts\n",
    "\n",
    "tmp = pd.Series(corpus).value_counts()\n",
    "tmp"
   ]
  },
  {
   "cell_type": "code",
   "execution_count": 26,
   "id": "a19ff84d",
   "metadata": {
    "ExecuteTime": {
     "end_time": "2022-06-30T19:16:38.297751Z",
     "start_time": "2022-06-30T19:16:38.294274Z"
    },
    "hidden": true
   },
   "outputs": [
    {
     "ename": "KeyboardInterrupt",
     "evalue": "",
     "output_type": "error",
     "traceback": [
      "\u001b[0;31m---------------------------------------------------------------------------\u001b[0m",
      "\u001b[0;31mKeyboardInterrupt\u001b[0m                         Traceback (most recent call last)",
      "Input \u001b[0;32mIn [26]\u001b[0m, in \u001b[0;36m<cell line: 3>\u001b[0;34m()\u001b[0m\n\u001b[1;32m      1\u001b[0m \u001b[38;5;66;03m# visualization\u001b[39;00m\n\u001b[0;32m----> 3\u001b[0m \u001b[43msns\u001b[49m\u001b[38;5;241;43m.\u001b[39;49m\u001b[43mbarplot\u001b[49m\u001b[43m(\u001b[49m\u001b[43mx\u001b[49m\u001b[38;5;241;43m=\u001b[39;49m\u001b[43mtmp\u001b[49m\u001b[38;5;241;43m.\u001b[39;49m\u001b[43mindex\u001b[49m\u001b[43m,\u001b[49m\u001b[43m \u001b[49m\u001b[43my\u001b[49m\u001b[38;5;241;43m=\u001b[39;49m\u001b[43mtmp\u001b[49m\u001b[38;5;241;43m.\u001b[39;49m\u001b[43mvalues\u001b[49m\u001b[43m)\u001b[49m\n",
      "File \u001b[0;32m~/Desktop/cours/fr/analysez-des-donnes-textuelles/partie-1/tp/env/lib/python3.10/site-packages/seaborn/_decorators.py:46\u001b[0m, in \u001b[0;36m_deprecate_positional_args.<locals>.inner_f\u001b[0;34m(*args, **kwargs)\u001b[0m\n\u001b[1;32m     36\u001b[0m     warnings\u001b[38;5;241m.\u001b[39mwarn(\n\u001b[1;32m     37\u001b[0m         \u001b[38;5;124m\"\u001b[39m\u001b[38;5;124mPass the following variable\u001b[39m\u001b[38;5;132;01m{}\u001b[39;00m\u001b[38;5;124m as \u001b[39m\u001b[38;5;132;01m{}\u001b[39;00m\u001b[38;5;124mkeyword arg\u001b[39m\u001b[38;5;132;01m{}\u001b[39;00m\u001b[38;5;124m: \u001b[39m\u001b[38;5;132;01m{}\u001b[39;00m\u001b[38;5;124m. \u001b[39m\u001b[38;5;124m\"\u001b[39m\n\u001b[1;32m     38\u001b[0m         \u001b[38;5;124m\"\u001b[39m\u001b[38;5;124mFrom version 0.12, the only valid positional argument \u001b[39m\u001b[38;5;124m\"\u001b[39m\n\u001b[0;32m   (...)\u001b[0m\n\u001b[1;32m     43\u001b[0m         \u001b[38;5;167;01mFutureWarning\u001b[39;00m\n\u001b[1;32m     44\u001b[0m     )\n\u001b[1;32m     45\u001b[0m kwargs\u001b[38;5;241m.\u001b[39mupdate({k: arg \u001b[38;5;28;01mfor\u001b[39;00m k, arg \u001b[38;5;129;01min\u001b[39;00m \u001b[38;5;28mzip\u001b[39m(sig\u001b[38;5;241m.\u001b[39mparameters, args)})\n\u001b[0;32m---> 46\u001b[0m \u001b[38;5;28;01mreturn\u001b[39;00m \u001b[43mf\u001b[49m\u001b[43m(\u001b[49m\u001b[38;5;241;43m*\u001b[39;49m\u001b[38;5;241;43m*\u001b[39;49m\u001b[43mkwargs\u001b[49m\u001b[43m)\u001b[49m\n",
      "File \u001b[0;32m~/Desktop/cours/fr/analysez-des-donnes-textuelles/partie-1/tp/env/lib/python3.10/site-packages/seaborn/categorical.py:3190\u001b[0m, in \u001b[0;36mbarplot\u001b[0;34m(x, y, hue, data, order, hue_order, estimator, ci, n_boot, units, seed, orient, color, palette, saturation, errcolor, errwidth, capsize, dodge, ax, **kwargs)\u001b[0m\n\u001b[1;32m   3187\u001b[0m \u001b[38;5;28;01mif\u001b[39;00m ax \u001b[38;5;129;01mis\u001b[39;00m \u001b[38;5;28;01mNone\u001b[39;00m:\n\u001b[1;32m   3188\u001b[0m     ax \u001b[38;5;241m=\u001b[39m plt\u001b[38;5;241m.\u001b[39mgca()\n\u001b[0;32m-> 3190\u001b[0m \u001b[43mplotter\u001b[49m\u001b[38;5;241;43m.\u001b[39;49m\u001b[43mplot\u001b[49m\u001b[43m(\u001b[49m\u001b[43max\u001b[49m\u001b[43m,\u001b[49m\u001b[43m \u001b[49m\u001b[43mkwargs\u001b[49m\u001b[43m)\u001b[49m\n\u001b[1;32m   3191\u001b[0m \u001b[38;5;28;01mreturn\u001b[39;00m ax\n",
      "File \u001b[0;32m~/Desktop/cours/fr/analysez-des-donnes-textuelles/partie-1/tp/env/lib/python3.10/site-packages/seaborn/categorical.py:1639\u001b[0m, in \u001b[0;36m_BarPlotter.plot\u001b[0;34m(self, ax, bar_kws)\u001b[0m\n\u001b[1;32m   1637\u001b[0m \u001b[38;5;28;01mdef\u001b[39;00m \u001b[38;5;21mplot\u001b[39m(\u001b[38;5;28mself\u001b[39m, ax, bar_kws):\n\u001b[1;32m   1638\u001b[0m     \u001b[38;5;124;03m\"\"\"Make the plot.\"\"\"\u001b[39;00m\n\u001b[0;32m-> 1639\u001b[0m     \u001b[38;5;28;43mself\u001b[39;49m\u001b[38;5;241;43m.\u001b[39;49m\u001b[43mdraw_bars\u001b[49m\u001b[43m(\u001b[49m\u001b[43max\u001b[49m\u001b[43m,\u001b[49m\u001b[43m \u001b[49m\u001b[43mbar_kws\u001b[49m\u001b[43m)\u001b[49m\n\u001b[1;32m   1640\u001b[0m     \u001b[38;5;28mself\u001b[39m\u001b[38;5;241m.\u001b[39mannotate_axes(ax)\n\u001b[1;32m   1641\u001b[0m     \u001b[38;5;28;01mif\u001b[39;00m \u001b[38;5;28mself\u001b[39m\u001b[38;5;241m.\u001b[39morient \u001b[38;5;241m==\u001b[39m \u001b[38;5;124m\"\u001b[39m\u001b[38;5;124mh\u001b[39m\u001b[38;5;124m\"\u001b[39m:\n",
      "File \u001b[0;32m~/Desktop/cours/fr/analysez-des-donnes-textuelles/partie-1/tp/env/lib/python3.10/site-packages/seaborn/categorical.py:1609\u001b[0m, in \u001b[0;36m_BarPlotter.draw_bars\u001b[0;34m(self, ax, kws)\u001b[0m\n\u001b[1;32m   1607\u001b[0m     \u001b[38;5;66;03m# Draw the confidence intervals\u001b[39;00m\n\u001b[1;32m   1608\u001b[0m     errcolors \u001b[38;5;241m=\u001b[39m [\u001b[38;5;28mself\u001b[39m\u001b[38;5;241m.\u001b[39merrcolor] \u001b[38;5;241m*\u001b[39m \u001b[38;5;28mlen\u001b[39m(barpos)\n\u001b[0;32m-> 1609\u001b[0m     \u001b[38;5;28;43mself\u001b[39;49m\u001b[38;5;241;43m.\u001b[39;49m\u001b[43mdraw_confints\u001b[49m\u001b[43m(\u001b[49m\u001b[43max\u001b[49m\u001b[43m,\u001b[49m\n\u001b[1;32m   1610\u001b[0m \u001b[43m                       \u001b[49m\u001b[43mbarpos\u001b[49m\u001b[43m,\u001b[49m\n\u001b[1;32m   1611\u001b[0m \u001b[43m                       \u001b[49m\u001b[38;5;28;43mself\u001b[39;49m\u001b[38;5;241;43m.\u001b[39;49m\u001b[43mconfint\u001b[49m\u001b[43m,\u001b[49m\n\u001b[1;32m   1612\u001b[0m \u001b[43m                       \u001b[49m\u001b[43merrcolors\u001b[49m\u001b[43m,\u001b[49m\n\u001b[1;32m   1613\u001b[0m \u001b[43m                       \u001b[49m\u001b[38;5;28;43mself\u001b[39;49m\u001b[38;5;241;43m.\u001b[39;49m\u001b[43merrwidth\u001b[49m\u001b[43m,\u001b[49m\n\u001b[1;32m   1614\u001b[0m \u001b[43m                       \u001b[49m\u001b[38;5;28;43mself\u001b[39;49m\u001b[38;5;241;43m.\u001b[39;49m\u001b[43mcapsize\u001b[49m\u001b[43m)\u001b[49m\n\u001b[1;32m   1616\u001b[0m \u001b[38;5;28;01melse\u001b[39;00m:\n\u001b[1;32m   1618\u001b[0m     \u001b[38;5;28;01mfor\u001b[39;00m j, hue_level \u001b[38;5;129;01min\u001b[39;00m \u001b[38;5;28menumerate\u001b[39m(\u001b[38;5;28mself\u001b[39m\u001b[38;5;241m.\u001b[39mhue_names):\n\u001b[1;32m   1619\u001b[0m \n\u001b[1;32m   1620\u001b[0m         \u001b[38;5;66;03m# Draw the bars\u001b[39;00m\n",
      "File \u001b[0;32m~/Desktop/cours/fr/analysez-des-donnes-textuelles/partie-1/tp/env/lib/python3.10/site-packages/seaborn/categorical.py:1559\u001b[0m, in \u001b[0;36m_CategoricalStatPlotter.draw_confints\u001b[0;34m(self, ax, at_group, confint, colors, errwidth, capsize, **kws)\u001b[0m\n\u001b[1;32m   1555\u001b[0m \u001b[38;5;28;01mfor\u001b[39;00m at, (ci_low, ci_high), color \u001b[38;5;129;01min\u001b[39;00m \u001b[38;5;28mzip\u001b[39m(at_group,\n\u001b[1;32m   1556\u001b[0m                                         confint,\n\u001b[1;32m   1557\u001b[0m                                         colors):\n\u001b[1;32m   1558\u001b[0m     \u001b[38;5;28;01mif\u001b[39;00m \u001b[38;5;28mself\u001b[39m\u001b[38;5;241m.\u001b[39morient \u001b[38;5;241m==\u001b[39m \u001b[38;5;124m\"\u001b[39m\u001b[38;5;124mv\u001b[39m\u001b[38;5;124m\"\u001b[39m:\n\u001b[0;32m-> 1559\u001b[0m         \u001b[43max\u001b[49m\u001b[38;5;241;43m.\u001b[39;49m\u001b[43mplot\u001b[49m\u001b[43m(\u001b[49m\u001b[43m[\u001b[49m\u001b[43mat\u001b[49m\u001b[43m,\u001b[49m\u001b[43m \u001b[49m\u001b[43mat\u001b[49m\u001b[43m]\u001b[49m\u001b[43m,\u001b[49m\u001b[43m \u001b[49m\u001b[43m[\u001b[49m\u001b[43mci_low\u001b[49m\u001b[43m,\u001b[49m\u001b[43m \u001b[49m\u001b[43mci_high\u001b[49m\u001b[43m]\u001b[49m\u001b[43m,\u001b[49m\u001b[43m \u001b[49m\u001b[43mcolor\u001b[49m\u001b[38;5;241;43m=\u001b[39;49m\u001b[43mcolor\u001b[49m\u001b[43m,\u001b[49m\u001b[43m \u001b[49m\u001b[38;5;241;43m*\u001b[39;49m\u001b[38;5;241;43m*\u001b[39;49m\u001b[43mkws\u001b[49m\u001b[43m)\u001b[49m\n\u001b[1;32m   1560\u001b[0m         \u001b[38;5;28;01mif\u001b[39;00m capsize \u001b[38;5;129;01mis\u001b[39;00m \u001b[38;5;129;01mnot\u001b[39;00m \u001b[38;5;28;01mNone\u001b[39;00m:\n\u001b[1;32m   1561\u001b[0m             ax\u001b[38;5;241m.\u001b[39mplot([at \u001b[38;5;241m-\u001b[39m capsize \u001b[38;5;241m/\u001b[39m \u001b[38;5;241m2\u001b[39m, at \u001b[38;5;241m+\u001b[39m capsize \u001b[38;5;241m/\u001b[39m \u001b[38;5;241m2\u001b[39m],\n\u001b[1;32m   1562\u001b[0m                     [ci_low, ci_low], color\u001b[38;5;241m=\u001b[39mcolor, \u001b[38;5;241m*\u001b[39m\u001b[38;5;241m*\u001b[39mkws)\n",
      "File \u001b[0;32m~/Desktop/cours/fr/analysez-des-donnes-textuelles/partie-1/tp/env/lib/python3.10/site-packages/matplotlib/axes/_axes.py:1634\u001b[0m, in \u001b[0;36mAxes.plot\u001b[0;34m(self, scalex, scaley, data, *args, **kwargs)\u001b[0m\n\u001b[1;32m   1632\u001b[0m lines \u001b[38;5;241m=\u001b[39m [\u001b[38;5;241m*\u001b[39m\u001b[38;5;28mself\u001b[39m\u001b[38;5;241m.\u001b[39m_get_lines(\u001b[38;5;241m*\u001b[39margs, data\u001b[38;5;241m=\u001b[39mdata, \u001b[38;5;241m*\u001b[39m\u001b[38;5;241m*\u001b[39mkwargs)]\n\u001b[1;32m   1633\u001b[0m \u001b[38;5;28;01mfor\u001b[39;00m line \u001b[38;5;129;01min\u001b[39;00m lines:\n\u001b[0;32m-> 1634\u001b[0m     \u001b[38;5;28;43mself\u001b[39;49m\u001b[38;5;241;43m.\u001b[39;49m\u001b[43madd_line\u001b[49m\u001b[43m(\u001b[49m\u001b[43mline\u001b[49m\u001b[43m)\u001b[49m\n\u001b[1;32m   1635\u001b[0m \u001b[38;5;28mself\u001b[39m\u001b[38;5;241m.\u001b[39m_request_autoscale_view(scalex\u001b[38;5;241m=\u001b[39mscalex, scaley\u001b[38;5;241m=\u001b[39mscaley)\n\u001b[1;32m   1636\u001b[0m \u001b[38;5;28;01mreturn\u001b[39;00m lines\n",
      "File \u001b[0;32m~/Desktop/cours/fr/analysez-des-donnes-textuelles/partie-1/tp/env/lib/python3.10/site-packages/matplotlib/axes/_base.py:2288\u001b[0m, in \u001b[0;36m_AxesBase.add_line\u001b[0;34m(self, line)\u001b[0m\n\u001b[1;32m   2285\u001b[0m \u001b[38;5;28;01mif\u001b[39;00m line\u001b[38;5;241m.\u001b[39mget_clip_path() \u001b[38;5;129;01mis\u001b[39;00m \u001b[38;5;28;01mNone\u001b[39;00m:\n\u001b[1;32m   2286\u001b[0m     line\u001b[38;5;241m.\u001b[39mset_clip_path(\u001b[38;5;28mself\u001b[39m\u001b[38;5;241m.\u001b[39mpatch)\n\u001b[0;32m-> 2288\u001b[0m \u001b[38;5;28;43mself\u001b[39;49m\u001b[38;5;241;43m.\u001b[39;49m\u001b[43m_update_line_limits\u001b[49m\u001b[43m(\u001b[49m\u001b[43mline\u001b[49m\u001b[43m)\u001b[49m\n\u001b[1;32m   2289\u001b[0m \u001b[38;5;28;01mif\u001b[39;00m \u001b[38;5;129;01mnot\u001b[39;00m line\u001b[38;5;241m.\u001b[39mget_label():\n\u001b[1;32m   2290\u001b[0m     line\u001b[38;5;241m.\u001b[39mset_label(\u001b[38;5;124mf\u001b[39m\u001b[38;5;124m'\u001b[39m\u001b[38;5;124m_child\u001b[39m\u001b[38;5;132;01m{\u001b[39;00m\u001b[38;5;28mlen\u001b[39m(\u001b[38;5;28mself\u001b[39m\u001b[38;5;241m.\u001b[39m_children)\u001b[38;5;132;01m}\u001b[39;00m\u001b[38;5;124m'\u001b[39m)\n",
      "File \u001b[0;32m~/Desktop/cours/fr/analysez-des-donnes-textuelles/partie-1/tp/env/lib/python3.10/site-packages/matplotlib/axes/_base.py:2342\u001b[0m, in \u001b[0;36m_AxesBase._update_line_limits\u001b[0;34m(self, line)\u001b[0m\n\u001b[1;32m   2339\u001b[0m \u001b[38;5;28;01mif\u001b[39;00m \u001b[38;5;129;01mnot\u001b[39;00m data_path\u001b[38;5;241m.\u001b[39mvertices\u001b[38;5;241m.\u001b[39msize:\n\u001b[1;32m   2340\u001b[0m     \u001b[38;5;28;01mreturn\u001b[39;00m\n\u001b[0;32m-> 2342\u001b[0m updatex, updatey \u001b[38;5;241m=\u001b[39m \u001b[43mline_trf\u001b[49m\u001b[38;5;241;43m.\u001b[39;49m\u001b[43mcontains_branch_seperately\u001b[49m\u001b[43m(\u001b[49m\u001b[38;5;28;43mself\u001b[39;49m\u001b[38;5;241;43m.\u001b[39;49m\u001b[43mtransData\u001b[49m\u001b[43m)\u001b[49m\n\u001b[1;32m   2343\u001b[0m \u001b[38;5;28;01mif\u001b[39;00m \u001b[38;5;28mself\u001b[39m\u001b[38;5;241m.\u001b[39mname \u001b[38;5;241m!=\u001b[39m \u001b[38;5;124m\"\u001b[39m\u001b[38;5;124mrectilinear\u001b[39m\u001b[38;5;124m\"\u001b[39m:\n\u001b[1;32m   2344\u001b[0m     \u001b[38;5;66;03m# This block is mostly intended to handle axvline in polar plots,\u001b[39;00m\n\u001b[1;32m   2345\u001b[0m     \u001b[38;5;66;03m# for which updatey would otherwise be True.\u001b[39;00m\n\u001b[1;32m   2346\u001b[0m     \u001b[38;5;28;01mif\u001b[39;00m updatex \u001b[38;5;129;01mand\u001b[39;00m line_trf \u001b[38;5;241m==\u001b[39m \u001b[38;5;28mself\u001b[39m\u001b[38;5;241m.\u001b[39mget_yaxis_transform():\n",
      "File \u001b[0;32m~/Desktop/cours/fr/analysez-des-donnes-textuelles/partie-1/tp/env/lib/python3.10/site-packages/matplotlib/transforms.py:1424\u001b[0m, in \u001b[0;36mTransform.contains_branch_seperately\u001b[0;34m(self, other_transform)\u001b[0m\n\u001b[1;32m   1420\u001b[0m     \u001b[38;5;28;01mraise\u001b[39;00m \u001b[38;5;167;01mValueError\u001b[39;00m(\u001b[38;5;124m'\u001b[39m\u001b[38;5;124mcontains_branch_seperately only supports \u001b[39m\u001b[38;5;124m'\u001b[39m\n\u001b[1;32m   1421\u001b[0m                      \u001b[38;5;124m'\u001b[39m\u001b[38;5;124mtransforms with 2 output dimensions\u001b[39m\u001b[38;5;124m'\u001b[39m)\n\u001b[1;32m   1422\u001b[0m \u001b[38;5;66;03m# for a non-blended transform each separate dimension is the same, so\u001b[39;00m\n\u001b[1;32m   1423\u001b[0m \u001b[38;5;66;03m# just return the appropriate shape.\u001b[39;00m\n\u001b[0;32m-> 1424\u001b[0m \u001b[38;5;28;01mreturn\u001b[39;00m [\u001b[38;5;28;43mself\u001b[39;49m\u001b[38;5;241;43m.\u001b[39;49m\u001b[43mcontains_branch\u001b[49m\u001b[43m(\u001b[49m\u001b[43mother_transform\u001b[49m\u001b[43m)\u001b[49m] \u001b[38;5;241m*\u001b[39m \u001b[38;5;241m2\u001b[39m\n",
      "File \u001b[0;32m~/Desktop/cours/fr/analysez-des-donnes-textuelles/partie-1/tp/env/lib/python3.10/site-packages/matplotlib/transforms.py:1403\u001b[0m, in \u001b[0;36mTransform.contains_branch\u001b[0;34m(self, other)\u001b[0m\n\u001b[1;32m   1400\u001b[0m     \u001b[38;5;28;01mreturn\u001b[39;00m \u001b[38;5;28;01mFalse\u001b[39;00m\n\u001b[1;32m   1402\u001b[0m \u001b[38;5;66;03m# check that a subtree is equal to other (starting from self)\u001b[39;00m\n\u001b[0;32m-> 1403\u001b[0m \u001b[38;5;28;01mfor\u001b[39;00m _, sub_tree \u001b[38;5;129;01min\u001b[39;00m \u001b[38;5;28mself\u001b[39m\u001b[38;5;241m.\u001b[39m_iter_break_from_left_to_right():\n\u001b[1;32m   1404\u001b[0m     \u001b[38;5;28;01mif\u001b[39;00m sub_tree \u001b[38;5;241m==\u001b[39m other:\n\u001b[1;32m   1405\u001b[0m         \u001b[38;5;28;01mreturn\u001b[39;00m \u001b[38;5;28;01mTrue\u001b[39;00m\n",
      "File \u001b[0;32m~/Desktop/cours/fr/analysez-des-donnes-textuelles/partie-1/tp/env/lib/python3.10/site-packages/matplotlib/transforms.py:2404\u001b[0m, in \u001b[0;36mCompositeGenericTransform._iter_break_from_left_to_right\u001b[0;34m(self)\u001b[0m\n\u001b[1;32m   2402\u001b[0m \u001b[38;5;28;01mdef\u001b[39;00m \u001b[38;5;21m_iter_break_from_left_to_right\u001b[39m(\u001b[38;5;28mself\u001b[39m):\n\u001b[1;32m   2403\u001b[0m     \u001b[38;5;28;01mfor\u001b[39;00m left, right \u001b[38;5;129;01min\u001b[39;00m \u001b[38;5;28mself\u001b[39m\u001b[38;5;241m.\u001b[39m_a\u001b[38;5;241m.\u001b[39m_iter_break_from_left_to_right():\n\u001b[0;32m-> 2404\u001b[0m         \u001b[38;5;28;01myield\u001b[39;00m left, \u001b[43mright\u001b[49m\u001b[43m \u001b[49m\u001b[38;5;241;43m+\u001b[39;49m\u001b[43m \u001b[49m\u001b[38;5;28;43mself\u001b[39;49m\u001b[38;5;241;43m.\u001b[39;49m\u001b[43m_b\u001b[49m\n\u001b[1;32m   2405\u001b[0m     \u001b[38;5;28;01mfor\u001b[39;00m left, right \u001b[38;5;129;01min\u001b[39;00m \u001b[38;5;28mself\u001b[39m\u001b[38;5;241m.\u001b[39m_b\u001b[38;5;241m.\u001b[39m_iter_break_from_left_to_right():\n\u001b[1;32m   2406\u001b[0m         \u001b[38;5;28;01myield\u001b[39;00m \u001b[38;5;28mself\u001b[39m\u001b[38;5;241m.\u001b[39m_a \u001b[38;5;241m+\u001b[39m left, right\n",
      "File \u001b[0;32m~/Desktop/cours/fr/analysez-des-donnes-textuelles/partie-1/tp/env/lib/python3.10/site-packages/matplotlib/transforms.py:1355\u001b[0m, in \u001b[0;36mTransform.__add__\u001b[0;34m(self, other)\u001b[0m\n\u001b[1;32m   1348\u001b[0m \u001b[38;5;28;01mdef\u001b[39;00m \u001b[38;5;21m__add__\u001b[39m(\u001b[38;5;28mself\u001b[39m, other):\n\u001b[1;32m   1349\u001b[0m     \u001b[38;5;124;03m\"\"\"\u001b[39;00m\n\u001b[1;32m   1350\u001b[0m \u001b[38;5;124;03m    Compose two transforms together so that *self* is followed by *other*.\u001b[39;00m\n\u001b[1;32m   1351\u001b[0m \n\u001b[1;32m   1352\u001b[0m \u001b[38;5;124;03m    ``A + B`` returns a transform ``C`` so that\u001b[39;00m\n\u001b[1;32m   1353\u001b[0m \u001b[38;5;124;03m    ``C.transform(x) == B.transform(A.transform(x))``.\u001b[39;00m\n\u001b[1;32m   1354\u001b[0m \u001b[38;5;124;03m    \"\"\"\u001b[39;00m\n\u001b[0;32m-> 1355\u001b[0m     \u001b[38;5;28;01mreturn\u001b[39;00m (\u001b[43mcomposite_transform_factory\u001b[49m\u001b[43m(\u001b[49m\u001b[38;5;28;43mself\u001b[39;49m\u001b[43m,\u001b[49m\u001b[43m \u001b[49m\u001b[43mother\u001b[49m\u001b[43m)\u001b[49m\n\u001b[1;32m   1356\u001b[0m             \u001b[38;5;28;01mif\u001b[39;00m \u001b[38;5;28misinstance\u001b[39m(other, Transform) \u001b[38;5;28;01melse\u001b[39;00m\n\u001b[1;32m   1357\u001b[0m             \u001b[38;5;28mNotImplemented\u001b[39m)\n",
      "File \u001b[0;32m~/Desktop/cours/fr/analysez-des-donnes-textuelles/partie-1/tp/env/lib/python3.10/site-packages/matplotlib/transforms.py:2532\u001b[0m, in \u001b[0;36mcomposite_transform_factory\u001b[0;34m(a, b)\u001b[0m\n\u001b[1;32m   2530\u001b[0m \u001b[38;5;28;01melif\u001b[39;00m \u001b[38;5;28misinstance\u001b[39m(a, Affine2D) \u001b[38;5;129;01mand\u001b[39;00m \u001b[38;5;28misinstance\u001b[39m(b, Affine2D):\n\u001b[1;32m   2531\u001b[0m     \u001b[38;5;28;01mreturn\u001b[39;00m CompositeAffine2D(a, b)\n\u001b[0;32m-> 2532\u001b[0m \u001b[38;5;28;01mreturn\u001b[39;00m \u001b[43mCompositeGenericTransform\u001b[49m\u001b[43m(\u001b[49m\u001b[43ma\u001b[49m\u001b[43m,\u001b[49m\u001b[43m \u001b[49m\u001b[43mb\u001b[49m\u001b[43m)\u001b[49m\n",
      "File \u001b[0;32m~/Desktop/cours/fr/analysez-des-donnes-textuelles/partie-1/tp/env/lib/python3.10/site-packages/matplotlib/transforms.py:2369\u001b[0m, in \u001b[0;36mCompositeGenericTransform.__init__\u001b[0;34m(self, a, b, **kwargs)\u001b[0m\n\u001b[1;32m   2367\u001b[0m \u001b[38;5;28mself\u001b[39m\u001b[38;5;241m.\u001b[39m_a \u001b[38;5;241m=\u001b[39m a\n\u001b[1;32m   2368\u001b[0m \u001b[38;5;28mself\u001b[39m\u001b[38;5;241m.\u001b[39m_b \u001b[38;5;241m=\u001b[39m b\n\u001b[0;32m-> 2369\u001b[0m \u001b[38;5;28;43mself\u001b[39;49m\u001b[38;5;241;43m.\u001b[39;49m\u001b[43mset_children\u001b[49m\u001b[43m(\u001b[49m\u001b[43ma\u001b[49m\u001b[43m,\u001b[49m\u001b[43m \u001b[49m\u001b[43mb\u001b[49m\u001b[43m)\u001b[49m\n",
      "File \u001b[0;32m~/Desktop/cours/fr/analysez-des-donnes-textuelles/partie-1/tp/env/lib/python3.10/site-packages/matplotlib/transforms.py:222\u001b[0m, in \u001b[0;36mTransformNode.set_children\u001b[0;34m(self, *children)\u001b[0m\n\u001b[1;32m    214\u001b[0m \u001b[38;5;66;03m# Parents are stored as weak references, so that if the\u001b[39;00m\n\u001b[1;32m    215\u001b[0m \u001b[38;5;66;03m# parents are destroyed, references from the children won't\u001b[39;00m\n\u001b[1;32m    216\u001b[0m \u001b[38;5;66;03m# keep them alive.\u001b[39;00m\n\u001b[1;32m    217\u001b[0m \u001b[38;5;28;01mfor\u001b[39;00m child \u001b[38;5;129;01min\u001b[39;00m children:\n\u001b[1;32m    218\u001b[0m     \u001b[38;5;66;03m# Use weak references so this dictionary won't keep obsolete nodes\u001b[39;00m\n\u001b[1;32m    219\u001b[0m     \u001b[38;5;66;03m# alive; the callback deletes the dictionary entry. This is a\u001b[39;00m\n\u001b[1;32m    220\u001b[0m     \u001b[38;5;66;03m# performance improvement over using WeakValueDictionary.\u001b[39;00m\n\u001b[1;32m    221\u001b[0m     ref \u001b[38;5;241m=\u001b[39m weakref\u001b[38;5;241m.\u001b[39mref(\n\u001b[0;32m--> 222\u001b[0m         \u001b[38;5;28mself\u001b[39m, \u001b[38;5;28;01mlambda\u001b[39;00m _, pop\u001b[38;5;241m=\u001b[39mchild\u001b[38;5;241m.\u001b[39m_parents\u001b[38;5;241m.\u001b[39mpop, k\u001b[38;5;241m=\u001b[39m\u001b[38;5;28;43mid\u001b[39;49m\u001b[43m(\u001b[49m\u001b[38;5;28;43mself\u001b[39;49m\u001b[43m)\u001b[49m: pop(k))\n\u001b[1;32m    223\u001b[0m     child\u001b[38;5;241m.\u001b[39m_parents[\u001b[38;5;28mid\u001b[39m(\u001b[38;5;28mself\u001b[39m)] \u001b[38;5;241m=\u001b[39m ref\n",
      "\u001b[0;31mKeyboardInterrupt\u001b[0m: "
     ]
    },
    {
     "data": {
      "image/png": "[encoded data removed]",
      "text/plain": [
       "<Figure size 432x288 with 1 Axes>"
      ]
     },
     "metadata": {
      "needs_background": "light"
     },
     "output_type": "display_data"
    }
   ],
   "source": [
    "# visualization\n",
    "\n",
    "sns.barplot(x=tmp.index, y=tmp.values)"
   ]
  },
  {
   "cell_type": "code",
   "execution_count": 27,
   "id": "33e385b1",
   "metadata": {
    "ExecuteTime": {
     "end_time": "2022-06-30T19:16:38.315041Z",
     "start_time": "2022-06-30T19:16:38.308606Z"
    },
    "hidden": true
   },
   "outputs": [
    {
     "data": {
      "text/plain": [
       "co            4703\n",
       "http          4231\n",
       "https          405\n",
       "amp            342\n",
       "like           341\n",
       "û_             289\n",
       "fire           230\n",
       "get            226\n",
       "via            216\n",
       "2              204\n",
       "people         189\n",
       "new            183\n",
       "one            181\n",
       "news           166\n",
       "emergency      145\n",
       "disaster       143\n",
       "video          136\n",
       "would          133\n",
       "body           127\n",
       "police         122\n",
       "still          120\n",
       "3              119\n",
       "u              117\n",
       "crash          117\n",
       "us             115\n",
       "storm          114\n",
       "back           113\n",
       "day            112\n",
       "know           112\n",
       "california     110\n",
       "dtype: int64"
      ]
     },
     "execution_count": 27,
     "metadata": {},
     "output_type": "execute_result"
    }
   ],
   "source": [
    "# 30st most common tokens\n",
    "\n",
    "tmp.head(30)"
   ]
  },
  {
   "cell_type": "code",
   "execution_count": 28,
   "id": "41d809e1",
   "metadata": {
    "ExecuteTime": {
     "end_time": "2022-06-30T19:16:38.325302Z",
     "start_time": "2022-06-30T19:16:38.317868Z"
    },
    "hidden": true
   },
   "outputs": [
    {
     "data": {
      "text/plain": [
       "tydxauuenqhow          1\n",
       "developer              1\n",
       "hld5xlywbncrackdown    1\n",
       "lmwkjsycgj             1\n",
       "danhrothschild         1\n",
       "greed                  1\n",
       "takecare               1\n",
       "cinla1964              1\n",
       "windowgatribble        1\n",
       "contrasts              1\n",
       "foreboding             1\n",
       "expansive              1\n",
       "divisions              1\n",
       "saturation             1\n",
       "hue                    1\n",
       "qbmcsjavt0fall         1\n",
       "homebuyer              1\n",
       "miscalculation         1\n",
       "mwjcdkthere            1\n",
       "workspace              1\n",
       "forsee                 1\n",
       "badkitty               1\n",
       "lt3dave                1\n",
       "specs                  1\n",
       "lore                   1\n",
       "destructiontruck       1\n",
       "salvages               1\n",
       "7b2wf6ovfk             1\n",
       "newsrepublican         1\n",
       "ymy4rskq3d             1\n",
       "dtype: int64"
      ]
     },
     "execution_count": 28,
     "metadata": {},
     "output_type": "execute_result"
    }
   ],
   "source": [
    "# 30st last common tokens\n",
    "\n",
    "tmp.tail(30)"
   ]
  },
  {
   "cell_type": "code",
   "execution_count": 29,
   "id": "547c0079",
   "metadata": {
    "ExecuteTime": {
     "end_time": "2022-06-30T19:16:38.338398Z",
     "start_time": "2022-06-30T19:16:38.328307Z"
    },
    "hidden": true
   },
   "outputs": [
    {
     "data": {
      "text/plain": [
       "count    22438.000000\n",
       "mean         3.680096\n",
       "std         43.379216\n",
       "min          1.000000\n",
       "25%          1.000000\n",
       "50%          1.000000\n",
       "75%          2.000000\n",
       "max       4703.000000\n",
       "dtype: float64"
      ]
     },
     "execution_count": 29,
     "metadata": {},
     "output_type": "execute_result"
    }
   ],
   "source": [
    "tmp.describe()"
   ]
  },
  {
   "cell_type": "code",
   "execution_count": null,
   "id": "d81a9a7b",
   "metadata": {
    "ExecuteTime": {
     "end_time": "2022-06-30T19:16:38.343817Z",
     "start_time": "2022-06-30T19:16:38.340828Z"
    },
    "hidden": true
   },
   "outputs": [],
   "source": [
    "# sns.displot(tmp)"
   ]
  },
  {
   "cell_type": "code",
   "execution_count": 30,
   "id": "2c5c76df",
   "metadata": {
    "ExecuteTime": {
     "end_time": "2022-06-30T19:16:38.351673Z",
     "start_time": "2022-06-30T19:16:38.346727Z"
    },
    "hidden": true
   },
   "outputs": [
    {
     "name": "stderr",
     "output_type": "stream",
     "text": [
      "/Users/alexandre.gazagnes/Desktop/cours/fr/analysez-des-donnes-textuelles/partie-1/tp/env/lib/python3.10/site-packages/seaborn/_decorators.py:36: FutureWarning: Pass the following variable as a keyword arg: x. From version 0.12, the only valid positional argument will be `data`, and passing other arguments without an explicit keyword will result in an error or misinterpretation.\n",
      "  warnings.warn(\n"
     ]
    },
    {
     "data": {
      "text/plain": [
       "<AxesSubplot:>"
      ]
     },
     "execution_count": 30,
     "metadata": {},
     "output_type": "execute_result"
    },
    {
     "data": {
      "image/png": "[encoded data removed]",
      "text/plain": [
       "<Figure size 432x288 with 1 Axes>"
      ]
     },
     "metadata": {
      "needs_background": "light"
     },
     "output_type": "display_data"
    }
   ],
   "source": [
    "sns.boxplot(tmp)"
   ]
  },
  {
   "cell_type": "markdown",
   "id": "15905e9c",
   "metadata": {
    "hidden": true
   },
   "source": [
    "## 3.2 List rare tokens"
   ]
  },
  {
   "cell_type": "code",
   "execution_count": 31,
   "id": "eaca7018",
   "metadata": {
    "ExecuteTime": {
     "end_time": "2022-06-30T19:16:38.370445Z",
     "start_time": "2022-06-30T19:16:38.354205Z"
    },
    "hidden": true
   },
   "outputs": [
    {
     "data": {
      "text/plain": [
       "dub                   1\n",
       "mxhrextrkh            1\n",
       "ctijdpxabkdogs        1\n",
       "splatling             1\n",
       "foothill              1\n",
       "designsso             1\n",
       "thatrussianman        1\n",
       "waterboarding         1\n",
       "writingtips           1\n",
       "salmanmydarling       1\n",
       "ps3                   1\n",
       "xboxhttps             1\n",
       "qr1l2jyuez            1\n",
       "nester                1\n",
       "switching             1\n",
       "dipping               1\n",
       "pantherattackthere    1\n",
       "dieanpink95           1\n",
       "limitsabe             1\n",
       "yu_nita99             1\n",
       "sivan                 1\n",
       "pantherattacki        1\n",
       "camilla_33            1\n",
       "uooygbb6az            1\n",
       "akq4rwjfvlcheck       1\n",
       "skippy6gaming         1\n",
       "slttorrlhswho         1\n",
       "craykain              1\n",
       "lavalet               1\n",
       "basalt                1\n",
       "dtype: int64"
      ]
     },
     "execution_count": 31,
     "metadata": {},
     "output_type": "execute_result"
    }
   ],
   "source": [
    "# unique words --> not usefull\n",
    "\n",
    "tmp = pd.Series(corpus).value_counts()\n",
    "list_unique_words = tmp[tmp==1]\n",
    "list_unique_words[:30]"
   ]
  },
  {
   "cell_type": "code",
   "execution_count": 32,
   "id": "5c7ccc02",
   "metadata": {
    "ExecuteTime": {
     "end_time": "2022-06-30T19:16:38.377374Z",
     "start_time": "2022-06-30T19:16:38.372660Z"
    },
    "hidden": true
   },
   "outputs": [
    {
     "data": {
      "text/plain": [
       "16230"
      ]
     },
     "execution_count": 32,
     "metadata": {},
     "output_type": "execute_result"
    }
   ],
   "source": [
    "len(list_unique_words)"
   ]
  },
  {
   "cell_type": "code",
   "execution_count": 33,
   "id": "2eb9b8bc",
   "metadata": {
    "ExecuteTime": {
     "end_time": "2022-06-30T19:16:38.387146Z",
     "start_time": "2022-06-30T19:16:38.380228Z"
    },
    "hidden": true,
    "scrolled": true
   },
   "outputs": [
    {
     "data": {
      "text/plain": [
       "['dub',\n",
       " 'mxhrextrkh',\n",
       " 'ctijdpxabkdogs',\n",
       " 'splatling',\n",
       " 'foothill',\n",
       " 'designsso',\n",
       " 'thatrussianman',\n",
       " 'waterboarding',\n",
       " 'writingtips',\n",
       " 'salmanmydarling',\n",
       " 'ps3',\n",
       " 'xboxhttps',\n",
       " 'qr1l2jyuez',\n",
       " 'nester',\n",
       " 'switching',\n",
       " 'dipping',\n",
       " 'pantherattackthere',\n",
       " 'dieanpink95',\n",
       " 'limitsabe',\n",
       " 'yu_nita99',\n",
       " 'sivan',\n",
       " 'pantherattacki',\n",
       " 'camilla_33',\n",
       " 'uooygbb6az',\n",
       " 'akq4rwjfvlcheck',\n",
       " 'skippy6gaming',\n",
       " 'slttorrlhswho',\n",
       " 'craykain',\n",
       " 'lavalet',\n",
       " 'basalt']"
      ]
     },
     "execution_count": 33,
     "metadata": {},
     "output_type": "execute_result"
    }
   ],
   "source": [
    "list_unique_words = list(list_unique_words.index)\n",
    "list_unique_words[:30]"
   ]
  },
  {
   "cell_type": "code",
   "execution_count": 34,
   "id": "b76a7568",
   "metadata": {
    "ExecuteTime": {
     "end_time": "2022-06-30T19:16:38.407996Z",
     "start_time": "2022-06-30T19:16:38.389570Z"
    },
    "hidden": true
   },
   "outputs": [],
   "source": [
    "# save it for later\n",
    "\n",
    "tmp = pd.DataFrame({\"words\" : list_unique_words})\n",
    "tmp.to_csv(\"data/cleaned/unique_words.csv\", index=False)"
   ]
  },
  {
   "cell_type": "code",
   "execution_count": 35,
   "id": "07325ab0",
   "metadata": {
    "ExecuteTime": {
     "end_time": "2022-06-30T19:16:38.428047Z",
     "start_time": "2022-06-30T19:16:38.410799Z"
    },
    "hidden": true,
    "scrolled": true
   },
   "outputs": [
    {
     "data": {
      "text/plain": [
       "motorcycle     5\n",
       "blind          5\n",
       "ices           5\n",
       "remain         5\n",
       "md             5\n",
       "mental         5\n",
       "loves          5\n",
       "depth          5\n",
       "extra          5\n",
       "leaves         5\n",
       "subs           5\n",
       "judge          5\n",
       "earners        5\n",
       "operations     5\n",
       "reduced        5\n",
       "catch          5\n",
       "stephen        5\n",
       "quest          5\n",
       "reviews        5\n",
       "responsible    5\n",
       "motor          5\n",
       "flying         5\n",
       "smithsonian    5\n",
       "52             5\n",
       "34             5\n",
       "losses         5\n",
       "desires        5\n",
       "pulls          5\n",
       "mood           5\n",
       "tubestrike     5\n",
       "dtype: int64"
      ]
     },
     "execution_count": 35,
     "metadata": {},
     "output_type": "execute_result"
    }
   ],
   "source": [
    "# idem for min 5 times\n",
    "\n",
    "tmp = pd.Series(corpus).value_counts()\n",
    "list_min_5_words = tmp[tmp<=5]\n",
    "list_min_5_words[:30]"
   ]
  },
  {
   "cell_type": "code",
   "execution_count": 36,
   "id": "7f8e6b30",
   "metadata": {
    "ExecuteTime": {
     "end_time": "2022-06-30T19:16:38.435706Z",
     "start_time": "2022-06-30T19:16:38.430355Z"
    },
    "hidden": true
   },
   "outputs": [
    {
     "data": {
      "text/plain": [
       "20275"
      ]
     },
     "execution_count": 36,
     "metadata": {},
     "output_type": "execute_result"
    }
   ],
   "source": [
    "len(list_min_5_words)"
   ]
  },
  {
   "cell_type": "code",
   "execution_count": 37,
   "id": "e4a9fc67",
   "metadata": {
    "ExecuteTime": {
     "end_time": "2022-06-30T19:16:38.467616Z",
     "start_time": "2022-06-30T19:16:38.438155Z"
    },
    "hidden": true
   },
   "outputs": [],
   "source": [
    "# save it \n",
    "\n",
    "list_min_5_words = list(list_min_5_words.index)\n",
    "tmp = pd.DataFrame({\"words\" : list_min_5_words})\n",
    "tmp.to_csv(\"data/cleaned/min_5_words.csv\", index=False)"
   ]
  },
  {
   "cell_type": "code",
   "execution_count": 38,
   "id": "8e8600ea",
   "metadata": {
    "ExecuteTime": {
     "end_time": "2022-06-30T19:16:38.494308Z",
     "start_time": "2022-06-30T19:16:38.470468Z"
    },
    "hidden": true,
    "scrolled": false
   },
   "outputs": [
    {
     "data": {
      "text/plain": [
       "able           10\n",
       "trees          10\n",
       "complete       10\n",
       "udhampur       10\n",
       "seattle        10\n",
       "word           10\n",
       "michael        10\n",
       "yyc            10\n",
       "amazon         10\n",
       "grows          10\n",
       "jeb            10\n",
       "afghanistan    10\n",
       "picture        10\n",
       "abandoned      10\n",
       "ice            10\n",
       "main           10\n",
       "emotional      10\n",
       "sit            10\n",
       "colour         10\n",
       "nice           10\n",
       "tent           10\n",
       "extreme        10\n",
       "lmao           10\n",
       "ii             10\n",
       "loved          10\n",
       "seeks          10\n",
       "extremely      10\n",
       "issue          10\n",
       "either         10\n",
       "incident       10\n",
       "dtype: int64"
      ]
     },
     "execution_count": 38,
     "metadata": {},
     "output_type": "execute_result"
    }
   ],
   "source": [
    "# idem for min 10 times\n",
    "\n",
    "tmp = pd.Series(corpus).value_counts()\n",
    "list_min_10_words = tmp[tmp<=10]\n",
    "list_min_10_words[:30]"
   ]
  },
  {
   "cell_type": "code",
   "execution_count": 39,
   "id": "ddcd474b",
   "metadata": {
    "ExecuteTime": {
     "end_time": "2022-06-30T19:16:38.503468Z",
     "start_time": "2022-06-30T19:16:38.497510Z"
    },
    "hidden": true
   },
   "outputs": [
    {
     "data": {
      "text/plain": [
       "21158"
      ]
     },
     "execution_count": 39,
     "metadata": {},
     "output_type": "execute_result"
    }
   ],
   "source": [
    "len(list_min_10_words)"
   ]
  },
  {
   "cell_type": "code",
   "execution_count": 40,
   "id": "7328e285",
   "metadata": {
    "ExecuteTime": {
     "end_time": "2022-06-30T19:16:38.526849Z",
     "start_time": "2022-06-30T19:16:38.505886Z"
    },
    "hidden": true
   },
   "outputs": [],
   "source": [
    "# save it \n",
    "\n",
    "list_min_10_words = list(list_min_10_words.index)\n",
    "tmp = pd.DataFrame({\"words\" : list_min_10_words})\n",
    "tmp.to_csv(\"data/cleaned/min_10_words.csv\", index=False)"
   ]
  },
  {
   "cell_type": "markdown",
   "id": "627f9a94",
   "metadata": {
    "hidden": true
   },
   "source": [
    "## 3.3 2nd Cleaning function"
   ]
  },
  {
   "cell_type": "code",
   "execution_count": 41,
   "id": "4fb47469",
   "metadata": {
    "ExecuteTime": {
     "end_time": "2022-06-30T19:16:38.537385Z",
     "start_time": "2022-06-30T19:16:38.529204Z"
    },
    "hidden": true
   },
   "outputs": [],
   "source": [
    "def process_text_2(doc, \n",
    "                   rejoin=False, \n",
    "                   list_rare_words=None, \n",
    "                   min_len_word=3,\n",
    "                   force_is_alpha=True) : \n",
    "    \"\"\"cf process_text_1 but with list_unique_words, min_len_word, and force_is_alpha\n",
    "    \n",
    "    positional arguments : \n",
    "    -----------------------\n",
    "    doc : str : the document (aka a text in str format) to process\n",
    "    \n",
    "    opt args : \n",
    "    -----------------------\n",
    "    rejoin : bool : if True return a string else return the list of tokens\n",
    "    list_rare_words : list : a list of rare words to exclude\n",
    "    min_len_word : int : the minimum length of words to not exclude\n",
    "    force_is_alpha : int : if 1, exclude all tokens with a numeric character\n",
    "    \n",
    "    return : \n",
    "    ------------------------\n",
    "    a string (if rejoin is True) or a list of tokens\n",
    "    \"\"\"\n",
    "    \n",
    "    # list_unique_words\n",
    "    if not list_rare_words: \n",
    "        list_rare_words = []\n",
    "        \n",
    "    # lower\n",
    "    doc = doc.lower().strip()\n",
    "    \n",
    "    # tokenize\n",
    "    tokenizer = RegexpTokenizer(r\"\\w+\")\n",
    "    raw_tokens_list = tokenizer.tokenize(doc)\n",
    "    \n",
    "    # classics stopwords\n",
    "    cleaned_tokens_list = [w for w in raw_tokens_list if w not in stop_words]\n",
    "    \n",
    "    \n",
    "    ###########################################################\n",
    "    ###########################################################\n",
    "    \n",
    "    # no rare tokens\n",
    "    non_rare_tokens = [w for w in cleaned_tokens_list if w not in list_rare_words]\n",
    "    \n",
    "    # no more len words\n",
    "    more_than_N =  [w for w in non_rare_tokens if len(w) >= min_len_word  ]\n",
    "    \n",
    "    # only alpha chars\n",
    "    if force_is_alpha : \n",
    "        alpha_tokens = [w for w in more_than_N if w.isalpha()]\n",
    "    else :\n",
    "        alpha_tokens = more_than_N\n",
    "        \n",
    "    ###########################################################\n",
    "    ###########################################################     \n",
    "    \n",
    "    \n",
    "    # manage return type\n",
    "    if rejoin : \n",
    "        return \" \".join(alpha_tokens)\n",
    "    \n",
    "    return alpha_tokens"
   ]
  },
  {
   "cell_type": "code",
   "execution_count": 42,
   "id": "205a7e22",
   "metadata": {
    "ExecuteTime": {
     "end_time": "2022-06-30T19:16:38.550849Z",
     "start_time": "2022-06-30T19:16:38.539873Z"
    },
    "hidden": true,
    "scrolled": true
   },
   "outputs": [
    {
     "name": "stdout",
     "output_type": "stream",
     "text": [
      "nb tokens 82574, nb tokens uniques 22438\n",
      "['deeds', 'reason', 'earthquake', 'may', 'allah', 'forgive', 'us', 'allforest', 'fire', 'near', 'la', 'ronge', 'sask', 'canadaall', 'residents', 'asked', 'shelter', 'place', 'notified', 'officers', 'evacuation', 'shelter', 'place', 'orders', 'expected13', '000', 'people', 'receive', 'wildfires', 'evacuation']\n"
     ]
    }
   ],
   "source": [
    "display_tokens_info(corpus)"
   ]
  },
  {
   "cell_type": "code",
   "execution_count": 43,
   "id": "f08cac1a",
   "metadata": {
    "ExecuteTime": {
     "end_time": "2022-06-30T19:16:38.559963Z",
     "start_time": "2022-06-30T19:16:38.553237Z"
    },
    "hidden": true
   },
   "outputs": [
    {
     "data": {
      "text/plain": [
       "22438"
      ]
     },
     "execution_count": 43,
     "metadata": {},
     "output_type": "execute_result"
    }
   ],
   "source": [
    "len(set(corpus))"
   ]
  },
  {
   "cell_type": "code",
   "execution_count": 44,
   "id": "0441adca",
   "metadata": {
    "ExecuteTime": {
     "end_time": "2022-06-30T19:16:40.957455Z",
     "start_time": "2022-06-30T19:16:38.563768Z"
    },
    "hidden": true
   },
   "outputs": [
    {
     "name": "stdout",
     "output_type": "stream",
     "text": [
      "nb tokens 56509, nb tokens uniques 5705\n",
      "['deeds', 'reason', 'earthquake', 'may', 'allah', 'forgive', 'fire', 'near', 'residents', 'asked', 'shelter', 'place', 'officers', 'evacuation', 'shelter', 'place', 'orders', 'people', 'receive', 'wildfires', 'evacuation', 'orders', 'california', 'got', 'sent', 'photo', 'alaska', 'smoke', 'wildfires', 'school']\n"
     ]
    }
   ],
   "source": [
    "corpus = process_text_2(raw_corpus, \n",
    "                        list_rare_words=list_unique_words, \n",
    "                        rejoin=False)\n",
    "display_tokens_info(corpus)"
   ]
  },
  {
   "cell_type": "code",
   "execution_count": 45,
   "id": "d0d204c7",
   "metadata": {
    "ExecuteTime": {
     "end_time": "2022-06-30T19:16:40.965455Z",
     "start_time": "2022-06-30T19:16:40.959686Z"
    },
    "hidden": true
   },
   "outputs": [
    {
     "data": {
      "text/plain": [
       "5705"
      ]
     },
     "execution_count": 45,
     "metadata": {},
     "output_type": "execute_result"
    }
   ],
   "source": [
    "len(set(corpus))"
   ]
  },
  {
   "cell_type": "markdown",
   "id": "05d441b7",
   "metadata": {
    "hidden": true
   },
   "source": [
    "## 3.4 Stem and Lem"
   ]
  },
  {
   "cell_type": "markdown",
   "id": "113a4739",
   "metadata": {
    "hidden": true
   },
   "source": [
    "Lemmatization is the process of grouping together the different inflected forms of a word so they can be analyzed as a single item. Lemmatization is similar to stemming but it brings context to the words. So it links words with similar meanings to one word. "
   ]
  },
  {
   "cell_type": "markdown",
   "id": "58ae954a",
   "metadata": {
    "hidden": true
   },
   "source": [
    "Stemming is the process of producing morphological variants of a root/base word. Stemming programs are commonly referred to as stemming algorithms or stemmers."
   ]
  },
  {
   "cell_type": "code",
   "execution_count": 46,
   "id": "7b793577",
   "metadata": {
    "ExecuteTime": {
     "end_time": "2022-06-30T19:16:40.977945Z",
     "start_time": "2022-06-30T19:16:40.968092Z"
    },
    "hidden": true
   },
   "outputs": [],
   "source": [
    "doc = \"I have 3 dogs, they was all black. Now they are all white but one of my dog is my favorite\""
   ]
  },
  {
   "cell_type": "code",
   "execution_count": 47,
   "id": "0f59967f",
   "metadata": {
    "ExecuteTime": {
     "end_time": "2022-06-30T19:16:40.984510Z",
     "start_time": "2022-06-30T19:16:40.980361Z"
    },
    "hidden": true
   },
   "outputs": [
    {
     "name": "stdout",
     "output_type": "stream",
     "text": [
      "['i', 'have', '3', 'dogs', 'they', 'was', 'all', 'black', 'now', 'they', 'are', 'all', 'white', 'but', 'one', 'of', 'my', 'dog', 'is', 'my', 'favorite']\n"
     ]
    }
   ],
   "source": [
    "tokenizer = RegexpTokenizer(r\"\\w+\")\n",
    "tokens = tokenizer.tokenize(doc.lower())\n",
    "print(tokens)"
   ]
  },
  {
   "cell_type": "code",
   "execution_count": 48,
   "id": "47884fa6",
   "metadata": {
    "ExecuteTime": {
     "end_time": "2022-06-30T19:16:40.990877Z",
     "start_time": "2022-06-30T19:16:40.986890Z"
    },
    "hidden": true
   },
   "outputs": [
    {
     "name": "stdout",
     "output_type": "stream",
     "text": [
      "['i', 'have', '3', 'dog', 'they', 'wa', 'all', 'black', 'now', 'they', 'are', 'all', 'white', 'but', 'one', 'of', 'my', 'dog', 'is', 'my', 'favorit']\n"
     ]
    }
   ],
   "source": [
    "trans = PorterStemmer()\n",
    "trans_text = [trans.stem(i) for i in tokens ]\n",
    "print(trans_text)"
   ]
  },
  {
   "cell_type": "code",
   "execution_count": 49,
   "id": "29079eea",
   "metadata": {
    "ExecuteTime": {
     "end_time": "2022-06-30T19:16:42.409673Z",
     "start_time": "2022-06-30T19:16:40.992870Z"
    },
    "hidden": true
   },
   "outputs": [
    {
     "name": "stdout",
     "output_type": "stream",
     "text": [
      "['i', 'have', '3', 'dog', 'they', 'wa', 'all', 'black', 'now', 'they', 'are', 'all', 'white', 'but', 'one', 'of', 'my', 'dog', 'is', 'my', 'favorite']\n"
     ]
    }
   ],
   "source": [
    "trans = WordNetLemmatizer()\n",
    "trans_text = [trans.lemmatize(i) for i in tokens ]\n",
    "print(trans_text)"
   ]
  },
  {
   "cell_type": "markdown",
   "id": "e3b12375",
   "metadata": {
    "hidden": true
   },
   "source": [
    "## 3.5 3rd cleaning function"
   ]
  },
  {
   "cell_type": "code",
   "execution_count": 50,
   "id": "906a48b9",
   "metadata": {
    "ExecuteTime": {
     "end_time": "2022-06-30T19:16:42.423525Z",
     "start_time": "2022-06-30T19:16:42.412391Z"
    },
    "hidden": true
   },
   "outputs": [],
   "source": [
    "def process_text_3(doc, \n",
    "                   rejoin=False, \n",
    "                   lemm_or_stemm=\"stem\",\n",
    "                   list_rare_words=None, \n",
    "                   min_len_word=3,\n",
    "                   force_is_alpha=True) : \n",
    "    \"\"\"cf process_text_2 but with stemm or lem\n",
    "    \n",
    "    positional arguments : \n",
    "    -----------------------\n",
    "    doc : str : the document (aka a text in str format) to process\n",
    "    \n",
    "    opt args : \n",
    "    -----------------------\n",
    "    rejoin : bool : if True return a string else return the list of tokens\n",
    "    lemm_or_stemm : str : if lem do lemmentize else stemmentize  \n",
    "    list_rare_words : list : a list of rare words to exclude\n",
    "    min_len_word : int : the minimum length of words to not exclude\n",
    "    force_is_alpha : int : if 1, exclude all tokens with a numeric character\n",
    "    \n",
    "    return : \n",
    "    ------------------------\n",
    "    a string (if rejoin is True) or a list of tokens\n",
    "    \"\"\"\n",
    "    \n",
    " \n",
    "    # list_unique_words\n",
    "    if not list_rare_words: \n",
    "        list_rare_words = []\n",
    "        \n",
    "    # lower\n",
    "    doc = doc.lower().strip()\n",
    "    \n",
    "    # tokenize\n",
    "    tokenizer = RegexpTokenizer(r\"\\w+\")\n",
    "    raw_tokens_list = tokenizer.tokenize(doc)\n",
    "    \n",
    "    # classics stopwords\n",
    "    cleaned_tokens_list = [w for w in raw_tokens_list if w not in stop_words]\n",
    "    \n",
    "    # no rare tokens\n",
    "    non_rare_tokens = [w for w in cleaned_tokens_list if w not in list_rare_words]\n",
    "    \n",
    "    # no more len words\n",
    "    more_than_N =  [w for w in non_rare_tokens if len(w) >= min_len_word  ]\n",
    "    \n",
    "    # only alpha chars\n",
    "    if force_is_alpha : \n",
    "        alpha_tokens = [w for w in more_than_N if w.isalpha()]\n",
    "    else :\n",
    "        alpha_tokens = more_than_N\n",
    "\n",
    "        \n",
    "    ###########################################################\n",
    "    ###########################################################\n",
    "    \n",
    "    # stem or lem\n",
    "    if lemm_or_stemm == \"lem\" : \n",
    "        trans = WordNetLemmatizer()\n",
    "        trans_text = [trans.lemmatize(i) for i in alpha_tokens ]\n",
    "    else : \n",
    "        trans = PorterStemmer()\n",
    "        trans_text = [trans.stem(i) for i in alpha_tokens ]\n",
    "        \n",
    "     ###########################################################\n",
    "     ###########################################################\n",
    "    \n",
    "    \n",
    "    # manage return type\n",
    "    if rejoin : \n",
    "        return \" \".join(trans_text)\n",
    "    \n",
    "    return trans_text\n",
    "    "
   ]
  },
  {
   "cell_type": "code",
   "execution_count": 51,
   "id": "b7400fe6",
   "metadata": {
    "ExecuteTime": {
     "end_time": "2022-06-30T19:16:45.234187Z",
     "start_time": "2022-06-30T19:16:42.425243Z"
    },
    "hidden": true
   },
   "outputs": [
    {
     "data": {
      "text/plain": [
       "50694         got\n",
       "42406       shame\n",
       "19202     earlier\n",
       "49462      public\n",
       "16369    children\n",
       "36906         age\n",
       "42015         see\n",
       "51669        duti\n",
       "37369        name\n",
       "22621       charg\n",
       "13131        wall\n",
       "32980        live\n",
       "27842        dept\n",
       "36851      econom\n",
       "21762       drown\n",
       "27782     everyon\n",
       "13293     respond\n",
       "42638        pick\n",
       "37490     america\n",
       "52213    satellit\n",
       "43186        http\n",
       "4387      potenti\n",
       "52973        http\n",
       "25607       china\n",
       "43376      altern\n",
       "51646        wave\n",
       "46732        fuck\n",
       "52799     violent\n",
       "24651        mall\n",
       "38738     purchas\n",
       "dtype: object"
      ]
     },
     "execution_count": 51,
     "metadata": {},
     "output_type": "execute_result"
    }
   ],
   "source": [
    "# +/- 3s\n",
    "\n",
    "corpus = process_text_3(raw_corpus, rejoin=False, list_rare_words=list_unique_words)\n",
    "pd.Series(corpus).sample(30)"
   ]
  },
  {
   "cell_type": "code",
   "execution_count": 53,
   "id": "28768381",
   "metadata": {
    "ExecuteTime": {
     "end_time": "2022-06-30T19:16:45.242918Z",
     "start_time": "2022-06-30T19:16:45.236858Z"
    },
    "hidden": true
   },
   "outputs": [
    {
     "data": {
      "text/plain": [
       "4420"
      ]
     },
     "execution_count": 53,
     "metadata": {},
     "output_type": "execute_result"
    }
   ],
   "source": [
    "len(set(corpus))"
   ]
  },
  {
   "cell_type": "code",
   "execution_count": 54,
   "id": "3c8be691",
   "metadata": {
    "ExecuteTime": {
     "end_time": "2022-06-30T19:16:45.356611Z",
     "start_time": "2022-06-30T19:16:45.245897Z"
    },
    "hidden": true
   },
   "outputs": [
    {
     "name": "stdout",
     "output_type": "stream",
     "text": [
      "nb tokens 56509, nb tokens uniques 4420\n",
      "['deed', 'reason', 'earthquak', 'may', 'allah', 'forgiv', 'fire', 'near', 'resid', 'ask', 'shelter', 'place', 'offic', 'evacu', 'shelter', 'place', 'order', 'peopl', 'receiv', 'wildfir', 'evacu', 'order', 'california', 'got', 'sent', 'photo', 'alaska', 'smoke', 'wildfir', 'school']\n"
     ]
    }
   ],
   "source": [
    "display_tokens_info(corpus)"
   ]
  },
  {
   "cell_type": "markdown",
   "id": "2f275fb7",
   "metadata": {
    "hidden": true
   },
   "source": [
    "## 3.5 Only english words"
   ]
  },
  {
   "cell_type": "code",
   "execution_count": 56,
   "id": "7fff51e0",
   "metadata": {},
   "outputs": [
    {
     "data": {
      "text/plain": [
       "129851           odontogen\n",
       "183355           slumberer\n",
       "6069             althionic\n",
       "43159            cornelian\n",
       "130880            onflemed\n",
       "55022         disenjoyment\n",
       "211869     unblemishedness\n",
       "171906               Rusty\n",
       "26139         brevirostral\n",
       "39761              comanic\n",
       "47662             cymulose\n",
       "93953          inemendable\n",
       "145585     phrenicogastric\n",
       "7337      amyelencephalous\n",
       "202728         throughknow\n",
       "146950             Pindari\n",
       "22313             billfish\n",
       "86439               hogsty\n",
       "33305            chalazian\n",
       "50724         demissionary\n",
       "22160       bigheartedness\n",
       "164963            recubant\n",
       "165698         refringency\n",
       "61440         enallachrome\n",
       "60183              elderly\n",
       "207717         tripylarian\n",
       "27599                  bur\n",
       "182963           sleeplike\n",
       "10184       antigovernment\n",
       "56744             dollfish\n",
       "dtype: object"
      ]
     },
     "execution_count": 56,
     "metadata": {},
     "output_type": "execute_result"
    }
   ],
   "source": [
    "pd.Series( words.words()).sample(30)"
   ]
  },
  {
   "cell_type": "code",
   "execution_count": 57,
   "id": "a7511e15",
   "metadata": {
    "ExecuteTime": {
     "end_time": "2022-06-30T19:16:45.496366Z",
     "start_time": "2022-06-30T19:16:45.358810Z"
    },
    "hidden": true
   },
   "outputs": [
    {
     "data": {
      "text/plain": [
       "235892"
      ]
     },
     "execution_count": 57,
     "metadata": {},
     "output_type": "execute_result"
    }
   ],
   "source": [
    "len(set(words.words()))"
   ]
  },
  {
   "cell_type": "code",
   "execution_count": 58,
   "id": "6572bab4",
   "metadata": {
    "ExecuteTime": {
     "end_time": "2022-06-30T19:16:45.617476Z",
     "start_time": "2022-06-30T19:16:45.499137Z"
    },
    "hidden": true
   },
   "outputs": [
    {
     "data": {
      "text/plain": [
       "['a',\n",
       " 'a',\n",
       " 'aa',\n",
       " 'aal',\n",
       " 'aalii',\n",
       " 'aam',\n",
       " 'aani',\n",
       " 'aardvark',\n",
       " 'aardwolf',\n",
       " 'aaron',\n",
       " 'aaronic',\n",
       " 'aaronical',\n",
       " 'aaronite',\n",
       " 'aaronitic',\n",
       " 'aaru',\n",
       " 'ab',\n",
       " 'aba',\n",
       " 'ababdeh',\n",
       " 'ababua',\n",
       " 'abac',\n",
       " 'abaca',\n",
       " 'abacate',\n",
       " 'abacay',\n",
       " 'abacinate',\n",
       " 'abacination',\n",
       " 'abaciscus',\n",
       " 'abacist',\n",
       " 'aback',\n",
       " 'abactinal',\n",
       " 'abactinally']"
      ]
     },
     "execution_count": 58,
     "metadata": {},
     "output_type": "execute_result"
    }
   ],
   "source": [
    "eng_words = [i.lower() for i in words.words()]\n",
    "eng_words[:30]"
   ]
  },
  {
   "cell_type": "code",
   "execution_count": 59,
   "id": "6a8675c4",
   "metadata": {
    "ExecuteTime": {
     "end_time": "2022-06-30T19:16:45.672510Z",
     "start_time": "2022-06-30T19:16:45.619691Z"
    },
    "hidden": true
   },
   "outputs": [
    {
     "data": {
      "text/plain": [
       "234377"
      ]
     },
     "execution_count": 59,
     "metadata": {},
     "output_type": "execute_result"
    }
   ],
   "source": [
    "len(set(eng_words))"
   ]
  },
  {
   "cell_type": "code",
   "execution_count": 60,
   "id": "b3bc7455",
   "metadata": {
    "ExecuteTime": {
     "end_time": "2022-06-30T19:16:50.180952Z",
     "start_time": "2022-06-30T19:16:45.674861Z"
    },
    "hidden": true
   },
   "outputs": [
    {
     "name": "stdout",
     "output_type": "stream",
     "text": [
      "nb tokens 236736, nb tokens uniques 178311\n",
      "['a', 'a', 'aa', 'aal', 'aalii', 'aam', 'aani', 'aardvark', 'aardwolf', 'aaron', 'aaron', 'aaron', 'aaronit', 'aaronit', 'aaru', 'ab', 'aba', 'ababdeh', 'ababua', 'abac', 'abaca', 'abac', 'abacay', 'abacin', 'abacin', 'abaciscu', 'abacist', 'aback', 'abactin', 'abactin']\n"
     ]
    }
   ],
   "source": [
    "ps = PorterStemmer()\n",
    "eng_words_stem = [ps.stem(i) for i in eng_words]\n",
    "display_tokens_info(eng_words_stem)"
   ]
  },
  {
   "cell_type": "code",
   "execution_count": 61,
   "id": "610242ef",
   "metadata": {
    "ExecuteTime": {
     "end_time": "2022-06-30T19:16:50.228056Z",
     "start_time": "2022-06-30T19:16:50.183245Z"
    },
    "hidden": true
   },
   "outputs": [
    {
     "data": {
      "text/plain": [
       "178311"
      ]
     },
     "execution_count": 61,
     "metadata": {},
     "output_type": "execute_result"
    }
   ],
   "source": [
    "len(set(eng_words_stem))"
   ]
  },
  {
   "cell_type": "code",
   "execution_count": 62,
   "id": "ab12e9a4",
   "metadata": {
    "ExecuteTime": {
     "end_time": "2022-06-30T19:16:51.050928Z",
     "start_time": "2022-06-30T19:16:50.231084Z"
    },
    "hidden": true
   },
   "outputs": [
    {
     "name": "stdout",
     "output_type": "stream",
     "text": [
      "nb tokens 236736, nb tokens uniques 233450\n",
      "['a', 'a', 'aa', 'aal', 'aalii', 'aam', 'aani', 'aardvark', 'aardwolf', 'aaron', 'aaronic', 'aaronical', 'aaronite', 'aaronitic', 'aaru', 'ab', 'aba', 'ababdeh', 'ababua', 'abac', 'abaca', 'abacate', 'abacay', 'abacinate', 'abacination', 'abaciscus', 'abacist', 'aback', 'abactinal', 'abactinally']\n"
     ]
    }
   ],
   "source": [
    "lm = WordNetLemmatizer()\n",
    "eng_words_lem = [lm.lemmatize(i) for i in eng_words]\n",
    "display_tokens_info(eng_words_lem)"
   ]
  },
  {
   "cell_type": "code",
   "execution_count": null,
   "id": "f189495d",
   "metadata": {
    "ExecuteTime": {
     "end_time": "2022-06-30T19:16:51.057785Z",
     "start_time": "2022-06-30T19:16:51.053174Z"
    },
    "hidden": true
   },
   "outputs": [],
   "source": [
    "len(eng_words_lem)"
   ]
  },
  {
   "cell_type": "markdown",
   "id": "d35dae45",
   "metadata": {
    "hidden": true
   },
   "source": [
    "## 3.6 4th cleaning function"
   ]
  },
  {
   "cell_type": "code",
   "execution_count": 63,
   "id": "d5a27afa",
   "metadata": {
    "ExecuteTime": {
     "end_time": "2022-06-30T19:16:51.072365Z",
     "start_time": "2022-06-30T19:16:51.060451Z"
    },
    "hidden": true
   },
   "outputs": [],
   "source": [
    "def process_text_4(doc, \n",
    "                   rejoin=False, \n",
    "                   lemm_or_stemm=\"stem\",\n",
    "                   list_rare_words=None, \n",
    "                   min_len_word=3,\n",
    "                   force_is_alpha=True, \n",
    "                   eng_words=None) : \n",
    "    \"\"\"cf process_text_3 but with selection of only english words\n",
    "    \n",
    "    positional arguments : \n",
    "    -----------------------\n",
    "    doc : str : the document (aka a text in str format) to process\n",
    "    \n",
    "    opt args : \n",
    "    -----------------------\n",
    "    rejoin : bool : if True return a string else return the list of tokens\n",
    "    lemm_or_stemm : str : if lem do lemmentize else stemmentize  \n",
    "    list_rare_words : list : a list of rare words to exclude\n",
    "    min_len_word : int : the minimum length of words to not exclude\n",
    "    force_is_alpha : int : if 1, exclude all tokens with a numeric character\n",
    "    eng_words : list : list of english words\n",
    "    \n",
    "    return : \n",
    "    ------------------------\n",
    "    a string (if rejoin is True) or a list of tokens\n",
    "    \"\"\"\n",
    "    \n",
    "    # list_unique_words\n",
    "    if not list_rare_words: \n",
    "        list_rare_words = []\n",
    "        \n",
    "    # lower\n",
    "    doc = doc.lower().strip()\n",
    "    \n",
    "    # tokenize\n",
    "    tokenizer = RegexpTokenizer(r\"\\w+\")\n",
    "    raw_tokens_list = tokenizer.tokenize(doc)\n",
    "    \n",
    "    # classics stopwords\n",
    "    cleaned_tokens_list = [w for w in raw_tokens_list if w not in stop_words]\n",
    "    \n",
    "    # no rare tokens\n",
    "    non_rare_tokens = [w for w in cleaned_tokens_list if w not in list_rare_words]\n",
    "    \n",
    "    # no more len words\n",
    "    more_than_N =  [w for w in non_rare_tokens if len(w) >= min_len_word  ]\n",
    "    \n",
    "    # only alpha chars\n",
    "    if force_is_alpha : \n",
    "        alpha_tokens = [w for w in more_than_N if w.isalpha()]\n",
    "    else :\n",
    "        alpha_tokens = more_than_N\n",
    "\n",
    "    # stem or lem\n",
    "    if lemm_or_stemm == \"lem\" : \n",
    "        trans = WordNetLemmatizer()\n",
    "        trans_text = [trans.lemmatize(i) for i in alpha_tokens ]\n",
    "    else : \n",
    "        trans = PorterStemmer()\n",
    "        trans_text = [trans.stem(i) for i in alpha_tokens ]\n",
    "\n",
    "        \n",
    "    ###########################################################\n",
    "    ###########################################################\n",
    "        \n",
    "    # in english \n",
    "    if eng_words :\n",
    "        engl_text = [i for i in trans_text if i in eng_words]\n",
    "    else :\n",
    "        engl_text = trans_text\n",
    "    \n",
    "    ###########################################################\n",
    "    ###########################################################\n",
    "        \n",
    "        \n",
    "    #  return a list or a string\n",
    "    if rejoin : \n",
    "        return \" \".join(engl_text)\n",
    "    \n",
    "    return engl_text\n",
    "    "
   ]
  },
  {
   "cell_type": "code",
   "execution_count": 64,
   "id": "8a5660a6",
   "metadata": {
    "ExecuteTime": {
     "end_time": "2022-06-30T19:17:32.880570Z",
     "start_time": "2022-06-30T19:16:51.075362Z"
    },
    "hidden": true
   },
   "outputs": [
    {
     "name": "stdout",
     "output_type": "stream",
     "text": [
      "nb tokens 46983, nb tokens uniques 3461\n",
      "['deed', 'reason', 'earthquak', 'may', 'allah', 'forgiv', 'fire', 'near', 'resid', 'ask', 'shelter', 'place', 'offic', 'evacu', 'shelter', 'place', 'order', 'peopl', 'receiv', 'wildfir', 'evacu', 'order', 'california', 'got', 'sent', 'photo', 'alaska', 'smoke', 'wildfir', 'school']\n"
     ]
    }
   ],
   "source": [
    "# +/- 50s\n",
    "corpus = process_text_4(raw_corpus, \n",
    "                        rejoin=False, \n",
    "                        list_rare_words=list_unique_words, \n",
    "                        eng_words=eng_words_stem)\n",
    "display_tokens_info(corpus)"
   ]
  },
  {
   "cell_type": "code",
   "execution_count": null,
   "id": "9181a359",
   "metadata": {
    "ExecuteTime": {
     "end_time": "2022-06-30T19:17:32.890030Z",
     "start_time": "2022-06-30T19:17:32.883427Z"
    },
    "hidden": true
   },
   "outputs": [],
   "source": [
    "len(set(corpus))"
   ]
  },
  {
   "cell_type": "code",
   "execution_count": null,
   "id": "82d12c61",
   "metadata": {
    "ExecuteTime": {
     "end_time": "2022-06-30T19:17:32.899219Z",
     "start_time": "2022-06-30T19:17:32.892189Z"
    },
    "hidden": true
   },
   "outputs": [],
   "source": [
    "len(df)"
   ]
  },
  {
   "cell_type": "code",
   "execution_count": null,
   "id": "55afb159",
   "metadata": {
    "ExecuteTime": {
     "end_time": "2022-06-30T19:17:32.906608Z",
     "start_time": "2022-06-30T19:17:32.901647Z"
    },
    "hidden": true
   },
   "outputs": [],
   "source": [
    "list_unique_words[:30]"
   ]
  },
  {
   "cell_type": "code",
   "execution_count": null,
   "id": "d0f226e6",
   "metadata": {
    "ExecuteTime": {
     "end_time": "2022-06-30T19:17:32.913628Z",
     "start_time": "2022-06-30T19:17:32.908733Z"
    },
    "hidden": true
   },
   "outputs": [],
   "source": [
    "len(list_unique_words)"
   ]
  },
  {
   "cell_type": "code",
   "execution_count": null,
   "id": "a4f9a61a",
   "metadata": {
    "ExecuteTime": {
     "end_time": "2022-06-30T19:17:32.920663Z",
     "start_time": "2022-06-30T19:17:32.916005Z"
    },
    "hidden": true
   },
   "outputs": [],
   "source": [
    "list_min_5_words[:30]"
   ]
  },
  {
   "cell_type": "code",
   "execution_count": null,
   "id": "4ccce498",
   "metadata": {
    "ExecuteTime": {
     "end_time": "2022-06-30T19:17:32.927143Z",
     "start_time": "2022-06-30T19:17:32.922804Z"
    },
    "hidden": true
   },
   "outputs": [],
   "source": [
    "len(list_min_5_words)"
   ]
  },
  {
   "cell_type": "code",
   "execution_count": 65,
   "id": "0179c6d6",
   "metadata": {
    "ExecuteTime": {
     "end_time": "2022-06-30T19:18:01.689579Z",
     "start_time": "2022-06-30T19:17:32.929569Z"
    },
    "hidden": true,
    "scrolled": true
   },
   "outputs": [
    {
     "name": "stdout",
     "output_type": "stream",
     "text": [
      "nb tokens 38405, nb tokens uniques 1440\n",
      "['reason', 'earthquak', 'may', 'allah', 'fire', 'near', 'resid', 'ask', 'shelter', 'place', 'offic', 'evacu', 'shelter', 'place', 'order', 'peopl', 'wildfir', 'evacu', 'order', 'california', 'got', 'sent', 'photo', 'alaska', 'smoke', 'wildfir', 'school', 'updat', 'california', 'close']\n"
     ]
    }
   ],
   "source": [
    "# +/- 30 sec\n",
    "corpus = process_text_4(raw_corpus, \n",
    "                        rejoin=False, \n",
    "                        list_rare_words=list_min_5_words, \n",
    "                        eng_words=eng_words_stem)\n",
    "display_tokens_info(corpus)"
   ]
  },
  {
   "cell_type": "code",
   "execution_count": null,
   "id": "b6be1c2d",
   "metadata": {
    "ExecuteTime": {
     "end_time": "2022-06-30T19:18:01.696083Z",
     "start_time": "2022-06-30T19:18:01.691419Z"
    },
    "hidden": true
   },
   "outputs": [],
   "source": [
    "len(set(corpus))"
   ]
  },
  {
   "cell_type": "code",
   "execution_count": null,
   "id": "5a8ee4bc",
   "metadata": {
    "ExecuteTime": {
     "end_time": "2022-06-30T19:18:01.710526Z",
     "start_time": "2022-06-30T19:18:01.697803Z"
    },
    "hidden": true
   },
   "outputs": [],
   "source": [
    "tmp = pd.Series(corpus).value_counts()\n",
    "tmp"
   ]
  },
  {
   "cell_type": "code",
   "execution_count": null,
   "id": "0623efe5",
   "metadata": {
    "ExecuteTime": {
     "end_time": "2022-06-30T19:18:01.715929Z",
     "start_time": "2022-06-30T19:18:01.713177Z"
    },
    "hidden": true,
    "scrolled": true
   },
   "outputs": [],
   "source": [
    "# sns.barplot(tmp.index, tmp.values)"
   ]
  },
  {
   "cell_type": "markdown",
   "id": "f8ed6440",
   "metadata": {
    "hidden": true
   },
   "source": [
    "## 3.7 Wordcloud"
   ]
  },
  {
   "cell_type": "code",
   "execution_count": 66,
   "id": "bc4abba5",
   "metadata": {
    "ExecuteTime": {
     "end_time": "2022-06-30T19:18:02.211910Z",
     "start_time": "2022-06-30T19:18:01.718808Z"
    },
    "hidden": true,
    "scrolled": true
   },
   "outputs": [
    {
     "data": {
      "image/png": "[encoded data removed]",
      "text/plain": [
       "<Figure size 432x288 with 1 Axes>"
      ]
     },
     "metadata": {
      "needs_background": "light"
     },
     "output_type": "display_data"
    }
   ],
   "source": [
    "wordcloud = WordCloud(background_color='white', \n",
    "                      stopwords=[], \n",
    "                      max_words=50).generate(\" \".join(corpus))\n",
    "plt.imshow(wordcloud)\n",
    "plt.axis(\"off\")\n",
    "plt.show();"
   ]
  },
  {
   "cell_type": "markdown",
   "id": "2bcda990",
   "metadata": {
    "heading_collapsed": true
   },
   "source": [
    "# 4. Divide the corpus"
   ]
  },
  {
   "cell_type": "markdown",
   "id": "e841778c",
   "metadata": {
    "hidden": true
   },
   "source": [
    "## 4.1 Separate 0 / 1"
   ]
  },
  {
   "cell_type": "code",
   "execution_count": 67,
   "id": "12526deb",
   "metadata": {
    "ExecuteTime": {
     "end_time": "2022-06-30T19:18:02.220070Z",
     "start_time": "2022-06-30T19:18:02.214514Z"
    },
    "hidden": true
   },
   "outputs": [],
   "source": [
    "# df_0 df_1\n",
    "\n",
    "df_1 = df[df.target == 1]\n",
    "df_0 = df[df.target == 0]"
   ]
  },
  {
   "cell_type": "code",
   "execution_count": 68,
   "id": "790f4a7f",
   "metadata": {
    "ExecuteTime": {
     "end_time": "2022-06-30T19:18:50.167320Z",
     "start_time": "2022-06-30T19:18:50.155475Z"
    },
    "hidden": true
   },
   "outputs": [
    {
     "data": {
      "text/html": [
       "<div>\n",
       "<style scoped>\n",
       "    .dataframe tbody tr th:only-of-type {\n",
       "        vertical-align: middle;\n",
       "    }\n",
       "\n",
       "    .dataframe tbody tr th {\n",
       "        vertical-align: top;\n",
       "    }\n",
       "\n",
       "    .dataframe thead th {\n",
       "        text-align: right;\n",
       "    }\n",
       "</style>\n",
       "<table border=\"1\" class=\"dataframe\">\n",
       "  <thead>\n",
       "    <tr style=\"text-align: right;\">\n",
       "      <th></th>\n",
       "      <th>text</th>\n",
       "      <th>target</th>\n",
       "    </tr>\n",
       "  </thead>\n",
       "  <tbody>\n",
       "    <tr>\n",
       "      <th>15</th>\n",
       "      <td>What's up man?</td>\n",
       "      <td>0</td>\n",
       "    </tr>\n",
       "    <tr>\n",
       "      <th>16</th>\n",
       "      <td>I love fruits</td>\n",
       "      <td>0</td>\n",
       "    </tr>\n",
       "    <tr>\n",
       "      <th>17</th>\n",
       "      <td>Summer is lovely</td>\n",
       "      <td>0</td>\n",
       "    </tr>\n",
       "    <tr>\n",
       "      <th>18</th>\n",
       "      <td>My car is so fast</td>\n",
       "      <td>0</td>\n",
       "    </tr>\n",
       "    <tr>\n",
       "      <th>19</th>\n",
       "      <td>What a goooooooaaaaaal!!!!!!</td>\n",
       "      <td>0</td>\n",
       "    </tr>\n",
       "  </tbody>\n",
       "</table>\n",
       "</div>"
      ],
      "text/plain": [
       "                            text  target\n",
       "15                What's up man?       0\n",
       "16                 I love fruits       0\n",
       "17              Summer is lovely       0\n",
       "18             My car is so fast       0\n",
       "19  What a goooooooaaaaaal!!!!!!       0"
      ]
     },
     "execution_count": 68,
     "metadata": {},
     "output_type": "execute_result"
    }
   ],
   "source": [
    "df_0.head()"
   ]
  },
  {
   "cell_type": "code",
   "execution_count": 69,
   "id": "f8c8c3bf",
   "metadata": {
    "hidden": true
   },
   "outputs": [
    {
     "data": {
      "text/html": [
       "<div>\n",
       "<style scoped>\n",
       "    .dataframe tbody tr th:only-of-type {\n",
       "        vertical-align: middle;\n",
       "    }\n",
       "\n",
       "    .dataframe tbody tr th {\n",
       "        vertical-align: top;\n",
       "    }\n",
       "\n",
       "    .dataframe thead th {\n",
       "        text-align: right;\n",
       "    }\n",
       "</style>\n",
       "<table border=\"1\" class=\"dataframe\">\n",
       "  <thead>\n",
       "    <tr style=\"text-align: right;\">\n",
       "      <th></th>\n",
       "      <th>text</th>\n",
       "      <th>target</th>\n",
       "    </tr>\n",
       "  </thead>\n",
       "  <tbody>\n",
       "    <tr>\n",
       "      <th>0</th>\n",
       "      <td>Our Deeds are the Reason of this #earthquake M...</td>\n",
       "      <td>1</td>\n",
       "    </tr>\n",
       "    <tr>\n",
       "      <th>1</th>\n",
       "      <td>Forest fire near La Ronge Sask. Canada</td>\n",
       "      <td>1</td>\n",
       "    </tr>\n",
       "    <tr>\n",
       "      <th>2</th>\n",
       "      <td>All residents asked to 'shelter in place' are ...</td>\n",
       "      <td>1</td>\n",
       "    </tr>\n",
       "    <tr>\n",
       "      <th>3</th>\n",
       "      <td>13,000 people receive #wildfires evacuation or...</td>\n",
       "      <td>1</td>\n",
       "    </tr>\n",
       "    <tr>\n",
       "      <th>4</th>\n",
       "      <td>Just got sent this photo from Ruby #Alaska as ...</td>\n",
       "      <td>1</td>\n",
       "    </tr>\n",
       "  </tbody>\n",
       "</table>\n",
       "</div>"
      ],
      "text/plain": [
       "                                                text  target\n",
       "0  Our Deeds are the Reason of this #earthquake M...       1\n",
       "1             Forest fire near La Ronge Sask. Canada       1\n",
       "2  All residents asked to 'shelter in place' are ...       1\n",
       "3  13,000 people receive #wildfires evacuation or...       1\n",
       "4  Just got sent this photo from Ruby #Alaska as ...       1"
      ]
     },
     "execution_count": 69,
     "metadata": {},
     "output_type": "execute_result"
    }
   ],
   "source": [
    "df_1.head()"
   ]
  },
  {
   "cell_type": "code",
   "execution_count": 70,
   "id": "be3fc9b4",
   "metadata": {
    "ExecuteTime": {
     "end_time": "2022-06-30T19:18:02.228354Z",
     "start_time": "2022-06-30T19:18:02.222835Z"
    },
    "hidden": true
   },
   "outputs": [],
   "source": [
    "corpus_1 = \" \".join(df_1.text)\n",
    "corpus_0 = \" \".join(df_0.text)"
   ]
  },
  {
   "cell_type": "code",
   "execution_count": 71,
   "id": "7ab640fd",
   "metadata": {
    "hidden": true
   },
   "outputs": [
    {
     "data": {
      "text/plain": [
       "\"Our Deeds are the Reason of this #earthquake May ALLAH Forgive us all Forest fire near La Ronge Sask. Canada All residents asked to 'shelter in place' are being notified by officers. No other evacuation or shelter in place orders are expected 13,000 people receive #wildfires evacuation orders in California  Just got sent this photo from Ruby #Alaska as smoke from #wildfires pours into a school  #RockyFire Update => California Hwy. 20 closed in both directions due to Lake County fire - #CAfire #wildfires #flood #disaster Heavy rain causes flash flooding of streets in Manitou, Colorado Springs areas I'm on top of the hill and I can see a fire in the woods... There's an emergency evacuation happening now in the building across the street I'm afraid that the tornado is coming to our area... Three people died from the heat wave so far Haha South Tampa is getting flooded hah- WAIT A SECOND I LIVE IN SOUTH TAMPA WHAT AM I GONNA DO WHAT AM I GONNA DO FVCK #flooding #raining #flooding #Florida \""
      ]
     },
     "execution_count": 71,
     "metadata": {},
     "output_type": "execute_result"
    }
   ],
   "source": [
    "corpus_1[:1000]"
   ]
  },
  {
   "cell_type": "code",
   "execution_count": 72,
   "id": "b5961832",
   "metadata": {
    "hidden": true
   },
   "outputs": [
    {
     "data": {
      "text/plain": [
       "\"What's up man? I love fruits Summer is lovely My car is so fast What a goooooooaaaaaal!!!!!! this is ridiculous.... London is cool ;) Love skiing What a wonderful day! LOOOOOOL No way...I can't eat that shit Was in NYC last week! Love my girlfriend Cooool :) Do you like pasta? The end! We always try to bring the heavy. #metal #RT http://t.co/YAo1e0xngw Crying out for more! Set me ablaze On plus side LOOK AT THE SKY LAST NIGHT IT WAS ABLAZE http://t.co/qqsmshaJ3N @PhDSquares #mufc they've built so much hype around new acquisitions but I doubt they will set the EPL ablaze this season. Ablaze for you Lord :D Check these out: http://t.co/rOI2NSmEJJ http://t.co/3Tj8ZjiN21 http://t.co/YDUiXEfIpE http://t.co/LxTjc87KLS #nsfw on the outside you're ablaze and alive\\nbut you're dead inside Had an awesome time visiting the CFC head office the ancop site and ablaze. Thanks to Tita Vida for taking care of us ?? SOOOO PUMPED FOR ABLAZE ???? @southridgelife I wanted to set Chicago ablaze with my preac\""
      ]
     },
     "execution_count": 72,
     "metadata": {},
     "output_type": "execute_result"
    }
   ],
   "source": [
    "corpus_0[:1000]"
   ]
  },
  {
   "cell_type": "markdown",
   "id": "e9ec8b8e",
   "metadata": {
    "hidden": true
   },
   "source": [
    "## 4.2 Process boths of them"
   ]
  },
  {
   "cell_type": "code",
   "execution_count": 73,
   "id": "c8d404ca",
   "metadata": {
    "ExecuteTime": {
     "end_time": "2022-06-30T19:18:33.771114Z",
     "start_time": "2022-06-30T19:18:02.231858Z"
    },
    "hidden": true
   },
   "outputs": [],
   "source": [
    "corpus_1 = process_text_4(corpus_1, \n",
    "                          rejoin=False, \n",
    "                          list_rare_words=list_min_5_words, \n",
    "                          eng_words=eng_words_stem)\n",
    "\n",
    "corpus_0 = process_text_4(corpus_0, \n",
    "                          rejoin=False, \n",
    "                          list_rare_words=list_min_5_words, \n",
    "                          eng_words=eng_words_stem)"
   ]
  },
  {
   "cell_type": "code",
   "execution_count": 74,
   "id": "feaa0c90",
   "metadata": {
    "ExecuteTime": {
     "end_time": "2022-06-30T19:18:34.107120Z",
     "start_time": "2022-06-30T19:18:33.772919Z"
    },
    "hidden": true
   },
   "outputs": [
    {
     "data": {
      "image/png": "[encoded data removed]",
      "text/plain": [
       "<Figure size 432x288 with 1 Axes>"
      ]
     },
     "metadata": {
      "needs_background": "light"
     },
     "output_type": "display_data"
    }
   ],
   "source": [
    "wordcloud = WordCloud(background_color='white', \n",
    "                      stopwords=[], \n",
    "                      max_words = 50).generate(\" \".join(corpus_1))\n",
    "plt.imshow(wordcloud)\n",
    "plt.axis(\"off\")\n",
    "plt.show()"
   ]
  },
  {
   "cell_type": "code",
   "execution_count": 75,
   "id": "956e774a",
   "metadata": {
    "ExecuteTime": {
     "end_time": "2022-06-30T19:18:34.513110Z",
     "start_time": "2022-06-30T19:18:34.109810Z"
    },
    "hidden": true
   },
   "outputs": [
    {
     "data": {
      "image/png": "[encoded data removed]",
      "text/plain": [
       "<Figure size 432x288 with 1 Axes>"
      ]
     },
     "metadata": {
      "needs_background": "light"
     },
     "output_type": "display_data"
    }
   ],
   "source": [
    "wordcloud = WordCloud(background_color='white', \n",
    "                      stopwords=[], max_words=50).generate(\" \".join(corpus_0))\n",
    "plt.imshow(wordcloud)\n",
    "plt.axis(\"off\")\n",
    "plt.show()"
   ]
  },
  {
   "cell_type": "code",
   "execution_count": null,
   "id": "d27dcbe1",
   "metadata": {
    "ExecuteTime": {
     "end_time": "2022-06-30T19:18:34.524349Z",
     "start_time": "2022-06-30T19:18:34.515883Z"
    },
    "hidden": true
   },
   "outputs": [],
   "source": [
    "pd.Series(corpus_1).value_counts().head(20)"
   ]
  },
  {
   "cell_type": "code",
   "execution_count": null,
   "id": "56913590",
   "metadata": {
    "ExecuteTime": {
     "end_time": "2022-06-30T19:18:34.543459Z",
     "start_time": "2022-06-30T19:18:34.534670Z"
    },
    "hidden": true
   },
   "outputs": [],
   "source": [
    "pd.Series(corpus_0).value_counts().head(20)"
   ]
  },
  {
   "cell_type": "code",
   "execution_count": 76,
   "id": "bf262359",
   "metadata": {
    "ExecuteTime": {
     "end_time": "2022-06-30T19:18:34.574288Z",
     "start_time": "2022-06-30T19:18:34.546293Z"
    },
    "hidden": true
   },
   "outputs": [
    {
     "data": {
      "text/plain": [
       "['amp']"
      ]
     },
     "execution_count": 76,
     "metadata": {},
     "output_type": "execute_result"
    }
   ],
   "source": [
    "n = 10\n",
    "doublons = [i for i in pd.Series(corpus_1).value_counts().head(n).index \n",
    "     if i in pd.Series(corpus_0).value_counts().head(n).index]\n",
    "doublons"
   ]
  },
  {
   "cell_type": "code",
   "execution_count": 79,
   "id": "f287dccb",
   "metadata": {
    "ExecuteTime": {
     "end_time": "2022-06-30T19:18:34.619242Z",
     "start_time": "2022-06-30T19:18:34.576830Z"
    },
    "hidden": true
   },
   "outputs": [
    {
     "data": {
      "text/plain": [
       "['amp', 'via', 'like', 'peopl']"
      ]
     },
     "execution_count": 79,
     "metadata": {},
     "output_type": "execute_result"
    }
   ],
   "source": [
    "n = 20\n",
    "doublons = [i for i in pd.Series(corpus_1).value_counts().head(n).index \n",
    "     if i in pd.Series(corpus_0).value_counts().head(n).index]\n",
    "doublons"
   ]
  },
  {
   "cell_type": "markdown",
   "id": "559e9139",
   "metadata": {
    "hidden": true
   },
   "source": [
    "## 4.3 5th cleaning function"
   ]
  },
  {
   "cell_type": "code",
   "execution_count": 83,
   "id": "437e9685",
   "metadata": {
    "ExecuteTime": {
     "end_time": "2022-06-30T19:18:34.631995Z",
     "start_time": "2022-06-30T19:18:34.622232Z"
    },
    "hidden": true
   },
   "outputs": [],
   "source": [
    "def process_text_5(doc, \n",
    "                   rejoin=True, \n",
    "                   lemm_or_stemm = \"stem\", \n",
    "                   list_rare_words=None, \n",
    "                   min_len_word=3, \n",
    "                   eng_words=None, \n",
    "                   extra_words=None) : \n",
    "    \"\"\"df v4 but exclude an extra list\"\"\"\n",
    " \n",
    "    # list_unique_words\n",
    "    if not list_rare_words: \n",
    "        list_rare_words = []\n",
    "        \n",
    "    # extra_words\n",
    "    if not extra_words: \n",
    "        extra_words = []\n",
    "        \n",
    "    # lower and strip\n",
    "    doc = doc.lower().strip()\n",
    "    \n",
    "    # tokenize\n",
    "    tokenizer = RegexpTokenizer(r\"\\w+\")\n",
    "    raw_tokens_list = tokenizer.tokenize(doc)\n",
    "    \n",
    "    # remove stop words\n",
    "    cleaned_tokens_list = [w for w in raw_tokens_list if w not in stop_words]\n",
    "    \n",
    "    # drop rare tokens\n",
    "    non_rare_tokens_list = [w for w in cleaned_tokens_list if w not in list_rare_words]\n",
    "    \n",
    "    # keep only len word > N\n",
    "    more_than_N =  [w for w in non_rare_tokens_list if len(w) >= 3 ]\n",
    "    \n",
    "    # keep only alpha not num\n",
    "    alpha_num = [w for w in more_than_N if w.isalpha()]\n",
    "    \n",
    "    # stem or lem\n",
    "    if lemm_or_stemm == \"lem\" : \n",
    "        trans = WordNetLemmatizer()\n",
    "        trans_text = [trans.lemmatize(i) for i in alpha_num ]\n",
    "    else : \n",
    "        trans = PorterStemmer()\n",
    "        trans_text = [trans.stem(i) for i in alpha_num ]\n",
    "        \n",
    "    # in english \n",
    "    if eng_words :\n",
    "        engl_text = [i for i in trans_text if i in eng_words]\n",
    "    else :\n",
    "        engl_text = trans_text\n",
    "        \n",
    "        \n",
    "    ##########################################\n",
    "    ##########################################\n",
    "    \n",
    "    # drop extra_words tokens\n",
    "    final = [w for w in engl_text if w not in extra_words]\n",
    "    \n",
    "    ##########################################\n",
    "    ##########################################\n",
    "    \n",
    "    \n",
    "    #  return a list or a string\n",
    "    if rejoin : \n",
    "        return \" \".join(final)\n",
    "    \n",
    "    return engl_text"
   ]
  },
  {
   "cell_type": "markdown",
   "id": "bc0a6cd9",
   "metadata": {
    "heading_collapsed": true
   },
   "source": [
    "# 5. Final clean"
   ]
  },
  {
   "cell_type": "code",
   "execution_count": 81,
   "id": "ea7b24fa",
   "metadata": {
    "ExecuteTime": {
     "end_time": "2022-06-30T19:18:34.639526Z",
     "start_time": "2022-06-30T19:18:34.635433Z"
    },
    "hidden": true
   },
   "outputs": [],
   "source": [
    "def final_clean(doc) : \n",
    "    \"\"\"perform our final cleaning\"\"\"\n",
    "    \n",
    "    new_doc = process_text_5(doc,\n",
    "                             rejoin=True, \n",
    "                             lemm_or_stemm=\"stem\", \n",
    "                             list_rare_words=list_min_5_words, \n",
    "                             eng_words=eng_words_stem, \n",
    "                             extra_words=doublons)\n",
    "    return  new_doc"
   ]
  },
  {
   "cell_type": "code",
   "execution_count": 84,
   "id": "dc0865a1",
   "metadata": {
    "ExecuteTime": {
     "end_time": "2022-06-30T19:19:18.935693Z",
     "start_time": "2022-06-30T19:19:04.708276Z"
    },
    "hidden": true
   },
   "outputs": [
    {
     "data": {
      "application/vnd.jupyter.widget-view+json": {
       "model_id": "bb0c7209a0e544c6ab49ffdce2bc31c4",
       "version_major": 2,
       "version_minor": 0
      },
      "text/plain": [
       "VBox(children=(HBox(children=(IntProgress(value=0, description='0.00%', max=1251), Label(value='0 / 1251'))), …"
      ]
     },
     "metadata": {},
     "output_type": "display_data"
    }
   ],
   "source": [
    "# df[\"clean_text\"] = df.text.apply(final_clean)\n",
    "\n",
    "df[\"clean_text\"] = df.text.parallel_apply(final_clean)"
   ]
  },
  {
   "cell_type": "code",
   "execution_count": 85,
   "id": "7e375f77",
   "metadata": {
    "ExecuteTime": {
     "end_time": "2022-06-30T19:18:50.118646Z",
     "start_time": "2022-06-30T19:18:50.100823Z"
    },
    "hidden": true,
    "scrolled": true
   },
   "outputs": [
    {
     "data": {
      "text/html": [
       "<div>\n",
       "<style scoped>\n",
       "    .dataframe tbody tr th:only-of-type {\n",
       "        vertical-align: middle;\n",
       "    }\n",
       "\n",
       "    .dataframe tbody tr th {\n",
       "        vertical-align: top;\n",
       "    }\n",
       "\n",
       "    .dataframe thead th {\n",
       "        text-align: right;\n",
       "    }\n",
       "</style>\n",
       "<table border=\"1\" class=\"dataframe\">\n",
       "  <thead>\n",
       "    <tr style=\"text-align: right;\">\n",
       "      <th></th>\n",
       "      <th>text</th>\n",
       "      <th>target</th>\n",
       "      <th>clean_text</th>\n",
       "    </tr>\n",
       "  </thead>\n",
       "  <tbody>\n",
       "    <tr>\n",
       "      <th>2244</th>\n",
       "      <td>Businesses are|deluged with invoices. Make y u...</td>\n",
       "      <td>0</td>\n",
       "      <td>busi delug invoic make stand colour shape rise...</td>\n",
       "    </tr>\n",
       "    <tr>\n",
       "      <th>4174</th>\n",
       "      <td>@HearItFromPatty Also pls help us w/ our campa...</td>\n",
       "      <td>0</td>\n",
       "      <td>also help public hazard</td>\n",
       "    </tr>\n",
       "    <tr>\n",
       "      <th>840</th>\n",
       "      <td>That horrible moment when u open up the dryer ...</td>\n",
       "      <td>0</td>\n",
       "      <td>horribl moment open look blizzard left piec</td>\n",
       "    </tr>\n",
       "    <tr>\n",
       "      <th>4916</th>\n",
       "      <td>13 reasons why we love women in the military  ...</td>\n",
       "      <td>0</td>\n",
       "      <td>reason love militari</td>\n",
       "    </tr>\n",
       "    <tr>\n",
       "      <th>355</th>\n",
       "      <td>INFANTRY Mens Lume Dial Army Analog Quartz Wri...</td>\n",
       "      <td>0</td>\n",
       "      <td>infantri armi watch sport blue full rea</td>\n",
       "    </tr>\n",
       "    <tr>\n",
       "      <th>3315</th>\n",
       "      <td>Is it seclusion when a class is evacuated and ...</td>\n",
       "      <td>1</td>\n",
       "      <td>class evacu child left alon class forc</td>\n",
       "    </tr>\n",
       "    <tr>\n",
       "      <th>490</th>\n",
       "      <td>Telnet attacked from 124.13.172.40 (STREAMYX-H...</td>\n",
       "      <td>1</td>\n",
       "      <td>attack home southern</td>\n",
       "    </tr>\n",
       "    <tr>\n",
       "      <th>1352</th>\n",
       "      <td>Ted Cruz fires back at Jeb &amp;amp; Bush: ÛÏWe l...</td>\n",
       "      <td>0</td>\n",
       "      <td>fire back bush lose republican video</td>\n",
       "    </tr>\n",
       "    <tr>\n",
       "      <th>2551</th>\n",
       "      <td>@engineermataRAI ate mataas kc rating..but the...</td>\n",
       "      <td>0</td>\n",
       "      <td>think destroy stori along</td>\n",
       "    </tr>\n",
       "    <tr>\n",
       "      <th>1610</th>\n",
       "      <td>The @POTUS economy continues to collapse.</td>\n",
       "      <td>1</td>\n",
       "      <td>economi continu collaps</td>\n",
       "    </tr>\n",
       "    <tr>\n",
       "      <th>4183</th>\n",
       "      <td>HAZARD - HAZARDOUS CONDITION at SB I5 FWY AT /...</td>\n",
       "      <td>1</td>\n",
       "      <td>hazard hazard polic</td>\n",
       "    </tr>\n",
       "    <tr>\n",
       "      <th>6107</th>\n",
       "      <td>Smoke the Weed - Snoop Lion Ft. Collie Buddz</td>\n",
       "      <td>0</td>\n",
       "      <td>smoke lion</td>\n",
       "    </tr>\n",
       "    <tr>\n",
       "      <th>2102</th>\n",
       "      <td>Ari's hints and snippets will be the death of me.</td>\n",
       "      <td>0</td>\n",
       "      <td>death</td>\n",
       "    </tr>\n",
       "    <tr>\n",
       "      <th>414</th>\n",
       "      <td>@local_arsonist @diamorfiend the legal system ...</td>\n",
       "      <td>0</td>\n",
       "      <td>system never</td>\n",
       "    </tr>\n",
       "    <tr>\n",
       "      <th>2357</th>\n",
       "      <td>This is how we know #AllLivesMatter people are...</td>\n",
       "      <td>0</td>\n",
       "      <td>know care derail</td>\n",
       "    </tr>\n",
       "    <tr>\n",
       "      <th>1422</th>\n",
       "      <td>UNPREDICTABLE DISCONNECTED AND SOCIAL CASUALTY...</td>\n",
       "      <td>1</td>\n",
       "      <td>unpredict social casualti</td>\n",
       "    </tr>\n",
       "    <tr>\n",
       "      <th>1771</th>\n",
       "      <td>Make man pikin crash ??????</td>\n",
       "      <td>1</td>\n",
       "      <td>make man crash</td>\n",
       "    </tr>\n",
       "    <tr>\n",
       "      <th>4355</th>\n",
       "      <td>You will be held hostage by a radical group.</td>\n",
       "      <td>0</td>\n",
       "      <td>hostag group</td>\n",
       "    </tr>\n",
       "    <tr>\n",
       "      <th>3193</th>\n",
       "      <td>We're #hiring! Read about our latest #job open...</td>\n",
       "      <td>0</td>\n",
       "      <td>hire read latest job open emerg depart day</td>\n",
       "    </tr>\n",
       "    <tr>\n",
       "      <th>2589</th>\n",
       "      <td>@cinla1964 @windowgatribble The Contrasts of F...</td>\n",
       "      <td>0</td>\n",
       "      <td>destruct</td>\n",
       "    </tr>\n",
       "  </tbody>\n",
       "</table>\n",
       "</div>"
      ],
      "text/plain": [
       "                                                   text  target  \\\n",
       "2244  Businesses are|deluged with invoices. Make y u...       0   \n",
       "4174  @HearItFromPatty Also pls help us w/ our campa...       0   \n",
       "840   That horrible moment when u open up the dryer ...       0   \n",
       "4916  13 reasons why we love women in the military  ...       0   \n",
       "355   INFANTRY Mens Lume Dial Army Analog Quartz Wri...       0   \n",
       "3315  Is it seclusion when a class is evacuated and ...       1   \n",
       "490   Telnet attacked from 124.13.172.40 (STREAMYX-H...       1   \n",
       "1352  Ted Cruz fires back at Jeb &amp; Bush: ÛÏWe l...       0   \n",
       "2551  @engineermataRAI ate mataas kc rating..but the...       0   \n",
       "1610          The @POTUS economy continues to collapse.       1   \n",
       "4183  HAZARD - HAZARDOUS CONDITION at SB I5 FWY AT /...       1   \n",
       "6107       Smoke the Weed - Snoop Lion Ft. Collie Buddz       0   \n",
       "2102  Ari's hints and snippets will be the death of me.       0   \n",
       "414   @local_arsonist @diamorfiend the legal system ...       0   \n",
       "2357  This is how we know #AllLivesMatter people are...       0   \n",
       "1422  UNPREDICTABLE DISCONNECTED AND SOCIAL CASUALTY...       1   \n",
       "1771                        Make man pikin crash ??????       1   \n",
       "4355       You will be held hostage by a radical group.       0   \n",
       "3193  We're #hiring! Read about our latest #job open...       0   \n",
       "2589  @cinla1964 @windowgatribble The Contrasts of F...       0   \n",
       "\n",
       "                                             clean_text  \n",
       "2244  busi delug invoic make stand colour shape rise...  \n",
       "4174                            also help public hazard  \n",
       "840         horribl moment open look blizzard left piec  \n",
       "4916                               reason love militari  \n",
       "355             infantri armi watch sport blue full rea  \n",
       "3315             class evacu child left alon class forc  \n",
       "490                                attack home southern  \n",
       "1352               fire back bush lose republican video  \n",
       "2551                          think destroy stori along  \n",
       "1610                            economi continu collaps  \n",
       "4183                                hazard hazard polic  \n",
       "6107                                         smoke lion  \n",
       "2102                                              death  \n",
       "414                                        system never  \n",
       "2357                                   know care derail  \n",
       "1422                          unpredict social casualti  \n",
       "1771                                     make man crash  \n",
       "4355                                       hostag group  \n",
       "3193         hire read latest job open emerg depart day  \n",
       "2589                                           destruct  "
      ]
     },
     "execution_count": 85,
     "metadata": {},
     "output_type": "execute_result"
    }
   ],
   "source": [
    "df.sample(20)"
   ]
  },
  {
   "cell_type": "code",
   "execution_count": 86,
   "id": "4f534c30",
   "metadata": {
    "ExecuteTime": {
     "end_time": "2022-06-30T19:29:20.187563Z",
     "start_time": "2022-06-30T19:29:20.180226Z"
    },
    "hidden": true
   },
   "outputs": [
    {
     "name": "stdout",
     "output_type": "stream",
     "text": [
      "Student electrocuted to death in school campus http://t.co/ryah8Fni5Q\n",
      "student electrocut death school\n",
      "\n",
      "My last two weather pics from the storm on August 2nd. People packed up real fast after the temp dropped and winds picked up.\n",
      "last two weather pic storm august real fast drop wind pick\n",
      "\n",
      "Suicide bomber kills 15 in Saudi security site mosque http://t.co/ETyZY8GB2A #mercados\n",
      "suicid bomber kill secur site mosqu\n",
      "\n",
      "VICTORINOX SWISS ARMY DATE WOMEN'S RUBBER MOP WATCH 241487 http://t.co/yFy3nkkcoH http://t.co/KNEhVvOHVK\n",
      "armi date rubber watch\n",
      "\n",
      "@FoxNews let me report it to u people instead Mr.Obama just declares CNMI federal disaster area post typhoon soudelor. U guys 2slow2report.\n",
      "let report instead declar disast area post typhoon guy\n",
      "\n",
      "Watch This Airport Get Swallowed Up By A Sandstorm In Under A Minute http://t.co/C9t2F6DLtM\n",
      "watch airport get swallow sandstorm minut\n",
      "\n",
      "Kaduna Begins Demolition Of Buildings On Govt School Lands\n",
      "http://t.co/77cIWXABVAÛ_t-school-lands/\n",
      "demolit build school land school land\n",
      "\n",
      "@ColdMpress You up to commiting mass murder tonight?\n",
      "mass murder tonight\n",
      "\n",
      "@mylittlepwnies3 @Early__May @AnathemaZhiv @TonySandos much of which has to do with lebanon 80s attack/ iran hostage crisis/ Libya Pan am\n",
      "much attack iran hostag crisi\n",
      "\n",
      "Obama Declares Disaster for Typhoon-Devastated Saipan: Obama signs disaster declaration for Northern Marians a... http://t.co/BHZr9UgUs2\n",
      "declar disast typhoon devast sign disast declar northern marian\n",
      "\n"
     ]
    }
   ],
   "source": [
    "sub_df = df[df.target == 1]\n",
    "for idx, ser in sub_df.sample(10).iterrows() : \n",
    "    print(ser['text'])\n",
    "    print(ser['clean_text'])\n",
    "    print()"
   ]
  },
  {
   "cell_type": "code",
   "execution_count": 87,
   "id": "00653896",
   "metadata": {
    "ExecuteTime": {
     "end_time": "2022-06-30T19:29:32.671198Z",
     "start_time": "2022-06-30T19:29:32.664361Z"
    },
    "hidden": true
   },
   "outputs": [
    {
     "name": "stdout",
     "output_type": "stream",
     "text": [
      "Man Who Buried Dog Alive Thought No One Would Find Her But She Was Rescued Just In Time http://t.co/SahQ5UOAHW\n",
      "man dog aliv thought one would find rescu time\n",
      "\n",
      "@cameronhigdon34 I can't drown my demons they know how to swim.\n",
      "drown know\n",
      "\n",
      "@ShipsXAnchors IDEK HOW IS  THERE PEOPLE WHO ACTUALLY THINK HE'S A TERRORIST\n",
      "actual think terrorist\n",
      "\n",
      "My sis can now sit on a cam w/o panicking https://t.co/GiYaaD7dcc\n",
      "sit panick\n",
      "\n",
      "Owner of Chicago-Area Gay Bar Admits to Arson Scheme http://t.co/UBFr1URAFc #LGBT | https://t.co/AlnV51d95x\n",
      "area gay bar admit arson scheme\n",
      "\n",
      "Mere sight of a gun makes police ÛÒ and public ÛÒ more aggressive experts say http://t.co/N4NEUIyt2k\n",
      "gun make polic public expert say\n",
      "\n",
      "@noahshack he's hot &amp; he can sing I'm screaming??????\n",
      "hot sing scream\n",
      "\n",
      "But no lies though. It's pays to be the oldest sometimes. Like being the first to get a car and have no curfew. #freedom #donthate\n",
      "lie though sometim first get car curfew\n",
      "\n",
      "@missambear your Tweet was quoted by @WIRED  http://t.co/E90J3vJOLc\n",
      "tweet wire\n",
      "\n",
      "My niece just asked me 'would you be scared if there was an apocalypse here?' ????\n",
      "ask would scare apocalyps\n",
      "\n"
     ]
    }
   ],
   "source": [
    "sub_df = df[df.target == 0]\n",
    "for idx, ser in sub_df.sample(10).iterrows() : \n",
    "    print(ser['text'])\n",
    "    print(ser['clean_text'])\n",
    "    print()"
   ]
  },
  {
   "cell_type": "code",
   "execution_count": 88,
   "id": "261a0fbf",
   "metadata": {
    "ExecuteTime": {
     "end_time": "2022-06-30T19:29:37.577564Z",
     "start_time": "2022-06-30T19:29:37.569251Z"
    },
    "hidden": true
   },
   "outputs": [
    {
     "data": {
      "text/plain": [
       "text          0.0\n",
       "target        0.0\n",
       "clean_text    0.0\n",
       "dtype: float64"
      ]
     },
     "execution_count": 88,
     "metadata": {},
     "output_type": "execute_result"
    }
   ],
   "source": [
    "df.isna().mean()"
   ]
  },
  {
   "cell_type": "code",
   "execution_count": 89,
   "id": "bcf82f1f",
   "metadata": {
    "ExecuteTime": {
     "end_time": "2022-06-30T19:18:50.151198Z",
     "start_time": "2022-06-30T19:18:50.122229Z"
    },
    "hidden": true
   },
   "outputs": [],
   "source": [
    "df.to_csv(\"data/cleaned/final_df.csv\", index=False)"
   ]
  },
  {
   "cell_type": "code",
   "execution_count": null,
   "id": "e8f9a2fc",
   "metadata": {},
   "outputs": [],
   "source": []
  }
 ],
 "metadata": {
  "hide_input": false,
  "kernelspec": {
   "display_name": "Python 3 (ipykernel)",
   "language": "python",
   "name": "python3"
  },
  "language_info": {
   "codemirror_mode": {
    "name": "ipython",
    "version": 3
   },
   "file_extension": ".py",
   "mimetype": "text/x-python",
   "name": "python",
   "nbconvert_exporter": "python",
   "pygments_lexer": "ipython3",
   "version": "3.10.5"
  }
 },
 "nbformat": 4,
 "nbformat_minor": 5
}
