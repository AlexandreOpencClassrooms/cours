{
  "cells": [
    {
      "cell_type": "markdown",
      "metadata": {
        "id": "view-in-github",
        "colab_type": "text"
      },
      "source": [
        "<a href=\"https://colab.research.google.com/github/AlexandreOpencClassrooms/cours/blob/main/fr/realisez-des-modelisations-de-donnees-performantes/partie-2/Copie_de_TP_page_6.ipynb\" target=\"_parent\"><img src=\"https://colab.research.google.com/assets/colab-badge.svg\" alt=\"Open In Colab\"/></a>"
      ]
    },
    {
      "cell_type": "markdown",
      "id": "d00a95cb",
      "metadata": {
        "id": "d00a95cb"
      },
      "source": [
        "<h1>Déterminez la hauteur d'un arbre à l'aide d'une régression</h1>"
      ]
    },
    {
      "cell_type": "markdown",
      "id": "b72c1802",
      "metadata": {
        "id": "b72c1802"
      },
      "source": [
        "# 1. Introduction"
      ]
    },
    {
      "cell_type": "markdown",
      "id": "55124b9d",
      "metadata": {
        "id": "55124b9d"
      },
      "source": [
        "## 1.1 Context"
      ]
    },
    {
      "cell_type": "markdown",
      "source": [
        "Ceci est le corrigé du TP [Entraînez-vous : déterminez la hauteur d'un arbre à l'aide d'une régression](https://openclassrooms.com/fr/courses/4525326-realisez-des-modelisations-de-donnees-performantes/6733326-entrainez-vous-determinez-la-hauteur-dun-arbre-a-laide-dune-regression)"
      ],
      "metadata": {
        "id": "Eq4q4YGnEFCE"
      },
      "id": "Eq4q4YGnEFCE"
    },
    {
      "cell_type": "markdown",
      "source": [
        "Les données peuvent être trouvées ici : [lien ](https://opendata.paris.fr/explore/dataset/les-arbres/table/?disjunctive.typeemplacement&disjunctive.arrondissement&disjunctive.libellefrancais&disjunctive.genre&disjunctive.espece&disjunctive.varieteoucultivar&disjunctive.stadedeveloppement&disjunctive.remarquable)"
      ],
      "metadata": {
        "id": "YsA5UKwUDVoM"
      },
      "id": "YsA5UKwUDVoM"
    },
    {
      "cell_type": "markdown",
      "source": [
        "* version 0.0.1\n",
        "* last update 2022-08-02\n",
        "* Author Alexandre Gazagnes"
      ],
      "metadata": {
        "id": "iBmcLxq8DOC1"
      },
      "id": "iBmcLxq8DOC1"
    },
    {
      "cell_type": "markdown",
      "id": "4cff6dbc",
      "metadata": {
        "id": "4cff6dbc"
      },
      "source": [
        "## 1.2 Imports"
      ]
    },
    {
      "cell_type": "markdown",
      "source": [
        "Nous allons d'abord commencer par importer les librairies."
      ],
      "metadata": {
        "id": "fKth2rxxEZSr"
      },
      "id": "fKth2rxxEZSr"
    },
    {
      "cell_type": "code",
      "execution_count": 536,
      "id": "12891de6",
      "metadata": {
        "id": "12891de6"
      },
      "outputs": [],
      "source": [
        "import os\n",
        "import warnings\n",
        "\n",
        "import numpy as np\n",
        "import pandas as pd\n",
        "\n",
        "import seaborn as sns\n",
        "import matplotlib.pyplot as plt\n",
        "\n",
        "from sklearn.linear_model import LinearRegression\n",
        "from sklearn.metrics import r2_score\n",
        "\n",
        "import statsmodels.api as sm\n",
        "from statsmodels.formula.api import ols"
      ]
    },
    {
      "cell_type": "markdown",
      "id": "ed5be462",
      "metadata": {
        "id": "ed5be462"
      },
      "source": [
        "## 1.3 Graphics & options"
      ]
    },
    {
      "cell_type": "markdown",
      "source": [
        "Nous allons ensuite charger les options graphiques."
      ],
      "metadata": {
        "id": "3Lvb4fBVEtZI"
      },
      "id": "3Lvb4fBVEtZI"
    },
    {
      "cell_type": "code",
      "execution_count": 537,
      "id": "4d9c5b86",
      "metadata": {
        "id": "4d9c5b86"
      },
      "outputs": [],
      "source": [
        "sns.set()\n",
        "\n",
        "warnings.filterwarnings('ignore')"
      ]
    },
    {
      "cell_type": "markdown",
      "id": "0e259b6d",
      "metadata": {
        "id": "0e259b6d"
      },
      "source": [
        "## 1.4 Data"
      ]
    },
    {
      "cell_type": "markdown",
      "source": [
        "Passons maintenant aux données. Le module `os` nous permet de faire la liste des fichiers de notre répertoire de travail."
      ],
      "metadata": {
        "id": "RJEg8vF8EyHT"
      },
      "id": "RJEg8vF8EyHT"
    },
    {
      "cell_type": "code",
      "execution_count": 538,
      "id": "4772754f",
      "metadata": {
        "id": "4772754f",
        "outputId": "9c46fcaa-9cd6-40f1-cb29-c209d9522c91",
        "colab": {
          "base_uri": "https://localhost:8080/"
        }
      },
      "outputs": [
        {
          "output_type": "execute_result",
          "data": {
            "text/plain": [
              "['.config', 'les-arbres.csv', 'sample_data']"
            ]
          },
          "metadata": {},
          "execution_count": 538
        }
      ],
      "source": [
        "os.listdir()"
      ]
    },
    {
      "cell_type": "markdown",
      "source": [
        "Nous avons choisi de mettre le fichier `.csv` à la racine de notre projet ou dans un repertoire `data/source`."
      ],
      "metadata": {
        "id": "BDKq7FqkFABY"
      },
      "id": "BDKq7FqkFABY"
    },
    {
      "cell_type": "code",
      "execution_count": 539,
      "id": "1a7a84d6",
      "metadata": {
        "id": "1a7a84d6"
      },
      "outputs": [],
      "source": [
        "# path     = \"data/source/\" ou :\n",
        "path     = \"./\"\n",
        "filename = \"les-arbres.csv\""
      ]
    },
    {
      "cell_type": "markdown",
      "source": [
        "Cela se confirme si l'on tape la commande `os.listdir` sur la variable `path`.\n"
      ],
      "metadata": {
        "id": "c3Ee9dmIFPOA"
      },
      "id": "c3Ee9dmIFPOA"
    },
    {
      "cell_type": "code",
      "execution_count": 540,
      "id": "424d7d65",
      "metadata": {
        "id": "424d7d65",
        "outputId": "6fb6dd64-9b33-4eee-b3b1-25778968291b",
        "colab": {
          "base_uri": "https://localhost:8080/"
        }
      },
      "outputs": [
        {
          "output_type": "execute_result",
          "data": {
            "text/plain": [
              "['.config', 'les-arbres.csv', 'sample_data']"
            ]
          },
          "metadata": {},
          "execution_count": 540
        }
      ],
      "source": [
        "os.listdir(path)"
      ]
    },
    {
      "cell_type": "markdown",
      "source": [
        "Chargeons notre dataframe."
      ],
      "metadata": {
        "id": "nRaHdiN3Fffc"
      },
      "id": "nRaHdiN3Fffc"
    },
    {
      "cell_type": "code",
      "execution_count": 541,
      "id": "1aa40582",
      "metadata": {
        "id": "1aa40582",
        "outputId": "cbc6fe77-70ed-4620-b680-38cd83ac2ae8",
        "colab": {
          "base_uri": "https://localhost:8080/",
          "height": 228
        }
      },
      "outputs": [
        {
          "output_type": "execute_result",
          "data": {
            "text/plain": [
              "   IDBASE TYPE EMPLACEMENT DOMANIALITE   ARRONDISSEMENT COMPLEMENT ADRESSE  \\\n",
              "0  233378            Arbre  Alignement  PARIS 20E ARRDT                157   \n",
              "1  233865            Arbre  Alignement  PARIS 12E ARRDT                NaN   \n",
              "\n",
              "   NUMERO       LIEU / ADRESSE IDEMPLACEMENT LIBELLE FRANCAIS    GENRE  \\\n",
              "0     NaN  RUE DE MENILMONTANT     001501004          Sophora  Sophora   \n",
              "1     NaN   BOULEVARD DE BERCY     000103002          Tilleul    Tilia   \n",
              "\n",
              "      ESPECE VARIETE OUCULTIVAR  CIRCONFERENCE (cm)  HAUTEUR (m)  \\\n",
              "0   japonica                NaN                  65            6   \n",
              "1  americana           ''Nova''                  55            5   \n",
              "\n",
              "  STADE DE DEVELOPPEMENT REMARQUABLE                         geo_point_2d  \n",
              "0    Jeune (arbre)Adulte         NON   48.8705897292168,2.398248222422003  \n",
              "1    Jeune (arbre)Adulte         NON  48.83913076090666,2.376322566287728  "
            ],
            "text/html": [
              "\n",
              "  <div id=\"df-73007b77-6594-4bb6-9aa8-41159ccac080\">\n",
              "    <div class=\"colab-df-container\">\n",
              "      <div>\n",
              "<style scoped>\n",
              "    .dataframe tbody tr th:only-of-type {\n",
              "        vertical-align: middle;\n",
              "    }\n",
              "\n",
              "    .dataframe tbody tr th {\n",
              "        vertical-align: top;\n",
              "    }\n",
              "\n",
              "    .dataframe thead th {\n",
              "        text-align: right;\n",
              "    }\n",
              "</style>\n",
              "<table border=\"1\" class=\"dataframe\">\n",
              "  <thead>\n",
              "    <tr style=\"text-align: right;\">\n",
              "      <th></th>\n",
              "      <th>IDBASE</th>\n",
              "      <th>TYPE EMPLACEMENT</th>\n",
              "      <th>DOMANIALITE</th>\n",
              "      <th>ARRONDISSEMENT</th>\n",
              "      <th>COMPLEMENT ADRESSE</th>\n",
              "      <th>NUMERO</th>\n",
              "      <th>LIEU / ADRESSE</th>\n",
              "      <th>IDEMPLACEMENT</th>\n",
              "      <th>LIBELLE FRANCAIS</th>\n",
              "      <th>GENRE</th>\n",
              "      <th>ESPECE</th>\n",
              "      <th>VARIETE OUCULTIVAR</th>\n",
              "      <th>CIRCONFERENCE (cm)</th>\n",
              "      <th>HAUTEUR (m)</th>\n",
              "      <th>STADE DE DEVELOPPEMENT</th>\n",
              "      <th>REMARQUABLE</th>\n",
              "      <th>geo_point_2d</th>\n",
              "    </tr>\n",
              "  </thead>\n",
              "  <tbody>\n",
              "    <tr>\n",
              "      <th>0</th>\n",
              "      <td>233378</td>\n",
              "      <td>Arbre</td>\n",
              "      <td>Alignement</td>\n",
              "      <td>PARIS 20E ARRDT</td>\n",
              "      <td>157</td>\n",
              "      <td>NaN</td>\n",
              "      <td>RUE DE MENILMONTANT</td>\n",
              "      <td>001501004</td>\n",
              "      <td>Sophora</td>\n",
              "      <td>Sophora</td>\n",
              "      <td>japonica</td>\n",
              "      <td>NaN</td>\n",
              "      <td>65</td>\n",
              "      <td>6</td>\n",
              "      <td>Jeune (arbre)Adulte</td>\n",
              "      <td>NON</td>\n",
              "      <td>48.8705897292168,2.398248222422003</td>\n",
              "    </tr>\n",
              "    <tr>\n",
              "      <th>1</th>\n",
              "      <td>233865</td>\n",
              "      <td>Arbre</td>\n",
              "      <td>Alignement</td>\n",
              "      <td>PARIS 12E ARRDT</td>\n",
              "      <td>NaN</td>\n",
              "      <td>NaN</td>\n",
              "      <td>BOULEVARD DE BERCY</td>\n",
              "      <td>000103002</td>\n",
              "      <td>Tilleul</td>\n",
              "      <td>Tilia</td>\n",
              "      <td>americana</td>\n",
              "      <td>''Nova''</td>\n",
              "      <td>55</td>\n",
              "      <td>5</td>\n",
              "      <td>Jeune (arbre)Adulte</td>\n",
              "      <td>NON</td>\n",
              "      <td>48.83913076090666,2.376322566287728</td>\n",
              "    </tr>\n",
              "  </tbody>\n",
              "</table>\n",
              "</div>\n",
              "      <button class=\"colab-df-convert\" onclick=\"convertToInteractive('df-73007b77-6594-4bb6-9aa8-41159ccac080')\"\n",
              "              title=\"Convert this dataframe to an interactive table.\"\n",
              "              style=\"display:none;\">\n",
              "        \n",
              "  <svg xmlns=\"http://www.w3.org/2000/svg\" height=\"24px\"viewBox=\"0 0 24 24\"\n",
              "       width=\"24px\">\n",
              "    <path d=\"M0 0h24v24H0V0z\" fill=\"none\"/>\n",
              "    <path d=\"M18.56 5.44l.94 2.06.94-2.06 2.06-.94-2.06-.94-.94-2.06-.94 2.06-2.06.94zm-11 1L8.5 8.5l.94-2.06 2.06-.94-2.06-.94L8.5 2.5l-.94 2.06-2.06.94zm10 10l.94 2.06.94-2.06 2.06-.94-2.06-.94-.94-2.06-.94 2.06-2.06.94z\"/><path d=\"M17.41 7.96l-1.37-1.37c-.4-.4-.92-.59-1.43-.59-.52 0-1.04.2-1.43.59L10.3 9.45l-7.72 7.72c-.78.78-.78 2.05 0 2.83L4 21.41c.39.39.9.59 1.41.59.51 0 1.02-.2 1.41-.59l7.78-7.78 2.81-2.81c.8-.78.8-2.07 0-2.86zM5.41 20L4 18.59l7.72-7.72 1.47 1.35L5.41 20z\"/>\n",
              "  </svg>\n",
              "      </button>\n",
              "      \n",
              "  <style>\n",
              "    .colab-df-container {\n",
              "      display:flex;\n",
              "      flex-wrap:wrap;\n",
              "      gap: 12px;\n",
              "    }\n",
              "\n",
              "    .colab-df-convert {\n",
              "      background-color: #E8F0FE;\n",
              "      border: none;\n",
              "      border-radius: 50%;\n",
              "      cursor: pointer;\n",
              "      display: none;\n",
              "      fill: #1967D2;\n",
              "      height: 32px;\n",
              "      padding: 0 0 0 0;\n",
              "      width: 32px;\n",
              "    }\n",
              "\n",
              "    .colab-df-convert:hover {\n",
              "      background-color: #E2EBFA;\n",
              "      box-shadow: 0px 1px 2px rgba(60, 64, 67, 0.3), 0px 1px 3px 1px rgba(60, 64, 67, 0.15);\n",
              "      fill: #174EA6;\n",
              "    }\n",
              "\n",
              "    [theme=dark] .colab-df-convert {\n",
              "      background-color: #3B4455;\n",
              "      fill: #D2E3FC;\n",
              "    }\n",
              "\n",
              "    [theme=dark] .colab-df-convert:hover {\n",
              "      background-color: #434B5C;\n",
              "      box-shadow: 0px 1px 3px 1px rgba(0, 0, 0, 0.15);\n",
              "      filter: drop-shadow(0px 1px 2px rgba(0, 0, 0, 0.3));\n",
              "      fill: #FFFFFF;\n",
              "    }\n",
              "  </style>\n",
              "\n",
              "      <script>\n",
              "        const buttonEl =\n",
              "          document.querySelector('#df-73007b77-6594-4bb6-9aa8-41159ccac080 button.colab-df-convert');\n",
              "        buttonEl.style.display =\n",
              "          google.colab.kernel.accessAllowed ? 'block' : 'none';\n",
              "\n",
              "        async function convertToInteractive(key) {\n",
              "          const element = document.querySelector('#df-73007b77-6594-4bb6-9aa8-41159ccac080');\n",
              "          const dataTable =\n",
              "            await google.colab.kernel.invokeFunction('convertToInteractive',\n",
              "                                                     [key], {});\n",
              "          if (!dataTable) return;\n",
              "\n",
              "          const docLinkHtml = 'Like what you see? Visit the ' +\n",
              "            '<a target=\"_blank\" href=https://colab.research.google.com/notebooks/data_table.ipynb>data table notebook</a>'\n",
              "            + ' to learn more about interactive tables.';\n",
              "          element.innerHTML = '';\n",
              "          dataTable['output_type'] = 'display_data';\n",
              "          await google.colab.output.renderOutput(dataTable, element);\n",
              "          const docLink = document.createElement('div');\n",
              "          docLink.innerHTML = docLinkHtml;\n",
              "          element.appendChild(docLink);\n",
              "        }\n",
              "      </script>\n",
              "    </div>\n",
              "  </div>\n",
              "  "
            ]
          },
          "metadata": {},
          "execution_count": 541
        }
      ],
      "source": [
        "df = pd.read_csv(path+filename, sep=\";\")\n",
        "df.head(2)"
      ]
    },
    {
      "cell_type": "markdown",
      "source": [
        "**ATTENTION** à bien utiliser l'argument `sep-;` dans la méthode `read_csv`!"
      ],
      "metadata": {
        "id": "yHTjct5Sa0wg"
      },
      "id": "yHTjct5Sa0wg"
    },
    {
      "cell_type": "markdown",
      "source": [
        "Tout semble OK."
      ],
      "metadata": {
        "id": "9FsM5L4JF1ON"
      },
      "id": "9FsM5L4JF1ON"
    },
    {
      "cell_type": "markdown",
      "id": "d2692202",
      "metadata": {
        "id": "d2692202"
      },
      "source": [
        "## 1.4 Renaming columns"
      ]
    },
    {
      "cell_type": "markdown",
      "source": [
        "Juste pour des raisons de confort, renommons nos colonnes."
      ],
      "metadata": {
        "id": "bwlLrmEKFjb9"
      },
      "id": "bwlLrmEKFjb9"
    },
    {
      "cell_type": "code",
      "execution_count": 542,
      "id": "13ae3c26",
      "metadata": {
        "id": "13ae3c26",
        "outputId": "673f40e3-64de-41e4-d58c-fb5ca8b71c44",
        "colab": {
          "base_uri": "https://localhost:8080/"
        }
      },
      "outputs": [
        {
          "output_type": "execute_result",
          "data": {
            "text/plain": [
              "Index(['IDBASE', 'TYPE EMPLACEMENT', 'DOMANIALITE', 'ARRONDISSEMENT',\n",
              "       'COMPLEMENT ADRESSE', 'NUMERO', 'LIEU / ADRESSE', 'IDEMPLACEMENT',\n",
              "       'LIBELLE FRANCAIS', 'GENRE', 'ESPECE', 'VARIETE OUCULTIVAR',\n",
              "       'CIRCONFERENCE (cm)', 'HAUTEUR (m)', 'STADE DE DEVELOPPEMENT',\n",
              "       'REMARQUABLE', 'geo_point_2d'],\n",
              "      dtype='object')"
            ]
          },
          "metadata": {},
          "execution_count": 542
        }
      ],
      "source": [
        "cols = df.columns\n",
        "cols"
      ]
    },
    {
      "cell_type": "code",
      "execution_count": 543,
      "id": "1b4b10b3",
      "metadata": {
        "scrolled": true,
        "id": "1b4b10b3",
        "outputId": "2d962c77-f87c-4666-9cc3-cad53378af8c",
        "colab": {
          "base_uri": "https://localhost:8080/"
        }
      },
      "outputs": [
        {
          "output_type": "execute_result",
          "data": {
            "text/plain": [
              "['idbase',\n",
              " 'type',\n",
              " 'domanialite',\n",
              " 'arrondissement',\n",
              " 'complement',\n",
              " 'numero',\n",
              " 'lieu',\n",
              " 'idemplacement',\n",
              " 'libelle',\n",
              " 'genre',\n",
              " 'espece',\n",
              " 'variete',\n",
              " 'circonference',\n",
              " 'hauteur',\n",
              " 'stade',\n",
              " 'remarquable',\n",
              " 'geo_point_2d']"
            ]
          },
          "metadata": {},
          "execution_count": 543
        }
      ],
      "source": [
        "cols = [i.lower() for i in cols]\n",
        "cols = [i.split(\" \")[0].strip() for i in cols]\n",
        "cols"
      ]
    },
    {
      "cell_type": "code",
      "execution_count": 544,
      "id": "8c95b639",
      "metadata": {
        "scrolled": true,
        "id": "8c95b639",
        "outputId": "d2795963-98ef-4e7a-8373-e4b55498001c",
        "colab": {
          "base_uri": "https://localhost:8080/",
          "height": 211
        }
      },
      "outputs": [
        {
          "output_type": "execute_result",
          "data": {
            "text/plain": [
              "   idbase   type domanialite   arrondissement complement  numero  \\\n",
              "0  233378  Arbre  Alignement  PARIS 20E ARRDT        157     NaN   \n",
              "1  233865  Arbre  Alignement  PARIS 12E ARRDT        NaN     NaN   \n",
              "\n",
              "                  lieu idemplacement  libelle    genre     espece   variete  \\\n",
              "0  RUE DE MENILMONTANT     001501004  Sophora  Sophora   japonica       NaN   \n",
              "1   BOULEVARD DE BERCY     000103002  Tilleul    Tilia  americana  ''Nova''   \n",
              "\n",
              "   circonference  hauteur                stade remarquable  \\\n",
              "0             65        6  Jeune (arbre)Adulte         NON   \n",
              "1             55        5  Jeune (arbre)Adulte         NON   \n",
              "\n",
              "                          geo_point_2d  \n",
              "0   48.8705897292168,2.398248222422003  \n",
              "1  48.83913076090666,2.376322566287728  "
            ],
            "text/html": [
              "\n",
              "  <div id=\"df-7d811467-3132-4ce3-b009-77ed9369eb86\">\n",
              "    <div class=\"colab-df-container\">\n",
              "      <div>\n",
              "<style scoped>\n",
              "    .dataframe tbody tr th:only-of-type {\n",
              "        vertical-align: middle;\n",
              "    }\n",
              "\n",
              "    .dataframe tbody tr th {\n",
              "        vertical-align: top;\n",
              "    }\n",
              "\n",
              "    .dataframe thead th {\n",
              "        text-align: right;\n",
              "    }\n",
              "</style>\n",
              "<table border=\"1\" class=\"dataframe\">\n",
              "  <thead>\n",
              "    <tr style=\"text-align: right;\">\n",
              "      <th></th>\n",
              "      <th>idbase</th>\n",
              "      <th>type</th>\n",
              "      <th>domanialite</th>\n",
              "      <th>arrondissement</th>\n",
              "      <th>complement</th>\n",
              "      <th>numero</th>\n",
              "      <th>lieu</th>\n",
              "      <th>idemplacement</th>\n",
              "      <th>libelle</th>\n",
              "      <th>genre</th>\n",
              "      <th>espece</th>\n",
              "      <th>variete</th>\n",
              "      <th>circonference</th>\n",
              "      <th>hauteur</th>\n",
              "      <th>stade</th>\n",
              "      <th>remarquable</th>\n",
              "      <th>geo_point_2d</th>\n",
              "    </tr>\n",
              "  </thead>\n",
              "  <tbody>\n",
              "    <tr>\n",
              "      <th>0</th>\n",
              "      <td>233378</td>\n",
              "      <td>Arbre</td>\n",
              "      <td>Alignement</td>\n",
              "      <td>PARIS 20E ARRDT</td>\n",
              "      <td>157</td>\n",
              "      <td>NaN</td>\n",
              "      <td>RUE DE MENILMONTANT</td>\n",
              "      <td>001501004</td>\n",
              "      <td>Sophora</td>\n",
              "      <td>Sophora</td>\n",
              "      <td>japonica</td>\n",
              "      <td>NaN</td>\n",
              "      <td>65</td>\n",
              "      <td>6</td>\n",
              "      <td>Jeune (arbre)Adulte</td>\n",
              "      <td>NON</td>\n",
              "      <td>48.8705897292168,2.398248222422003</td>\n",
              "    </tr>\n",
              "    <tr>\n",
              "      <th>1</th>\n",
              "      <td>233865</td>\n",
              "      <td>Arbre</td>\n",
              "      <td>Alignement</td>\n",
              "      <td>PARIS 12E ARRDT</td>\n",
              "      <td>NaN</td>\n",
              "      <td>NaN</td>\n",
              "      <td>BOULEVARD DE BERCY</td>\n",
              "      <td>000103002</td>\n",
              "      <td>Tilleul</td>\n",
              "      <td>Tilia</td>\n",
              "      <td>americana</td>\n",
              "      <td>''Nova''</td>\n",
              "      <td>55</td>\n",
              "      <td>5</td>\n",
              "      <td>Jeune (arbre)Adulte</td>\n",
              "      <td>NON</td>\n",
              "      <td>48.83913076090666,2.376322566287728</td>\n",
              "    </tr>\n",
              "  </tbody>\n",
              "</table>\n",
              "</div>\n",
              "      <button class=\"colab-df-convert\" onclick=\"convertToInteractive('df-7d811467-3132-4ce3-b009-77ed9369eb86')\"\n",
              "              title=\"Convert this dataframe to an interactive table.\"\n",
              "              style=\"display:none;\">\n",
              "        \n",
              "  <svg xmlns=\"http://www.w3.org/2000/svg\" height=\"24px\"viewBox=\"0 0 24 24\"\n",
              "       width=\"24px\">\n",
              "    <path d=\"M0 0h24v24H0V0z\" fill=\"none\"/>\n",
              "    <path d=\"M18.56 5.44l.94 2.06.94-2.06 2.06-.94-2.06-.94-.94-2.06-.94 2.06-2.06.94zm-11 1L8.5 8.5l.94-2.06 2.06-.94-2.06-.94L8.5 2.5l-.94 2.06-2.06.94zm10 10l.94 2.06.94-2.06 2.06-.94-2.06-.94-.94-2.06-.94 2.06-2.06.94z\"/><path d=\"M17.41 7.96l-1.37-1.37c-.4-.4-.92-.59-1.43-.59-.52 0-1.04.2-1.43.59L10.3 9.45l-7.72 7.72c-.78.78-.78 2.05 0 2.83L4 21.41c.39.39.9.59 1.41.59.51 0 1.02-.2 1.41-.59l7.78-7.78 2.81-2.81c.8-.78.8-2.07 0-2.86zM5.41 20L4 18.59l7.72-7.72 1.47 1.35L5.41 20z\"/>\n",
              "  </svg>\n",
              "      </button>\n",
              "      \n",
              "  <style>\n",
              "    .colab-df-container {\n",
              "      display:flex;\n",
              "      flex-wrap:wrap;\n",
              "      gap: 12px;\n",
              "    }\n",
              "\n",
              "    .colab-df-convert {\n",
              "      background-color: #E8F0FE;\n",
              "      border: none;\n",
              "      border-radius: 50%;\n",
              "      cursor: pointer;\n",
              "      display: none;\n",
              "      fill: #1967D2;\n",
              "      height: 32px;\n",
              "      padding: 0 0 0 0;\n",
              "      width: 32px;\n",
              "    }\n",
              "\n",
              "    .colab-df-convert:hover {\n",
              "      background-color: #E2EBFA;\n",
              "      box-shadow: 0px 1px 2px rgba(60, 64, 67, 0.3), 0px 1px 3px 1px rgba(60, 64, 67, 0.15);\n",
              "      fill: #174EA6;\n",
              "    }\n",
              "\n",
              "    [theme=dark] .colab-df-convert {\n",
              "      background-color: #3B4455;\n",
              "      fill: #D2E3FC;\n",
              "    }\n",
              "\n",
              "    [theme=dark] .colab-df-convert:hover {\n",
              "      background-color: #434B5C;\n",
              "      box-shadow: 0px 1px 3px 1px rgba(0, 0, 0, 0.15);\n",
              "      filter: drop-shadow(0px 1px 2px rgba(0, 0, 0, 0.3));\n",
              "      fill: #FFFFFF;\n",
              "    }\n",
              "  </style>\n",
              "\n",
              "      <script>\n",
              "        const buttonEl =\n",
              "          document.querySelector('#df-7d811467-3132-4ce3-b009-77ed9369eb86 button.colab-df-convert');\n",
              "        buttonEl.style.display =\n",
              "          google.colab.kernel.accessAllowed ? 'block' : 'none';\n",
              "\n",
              "        async function convertToInteractive(key) {\n",
              "          const element = document.querySelector('#df-7d811467-3132-4ce3-b009-77ed9369eb86');\n",
              "          const dataTable =\n",
              "            await google.colab.kernel.invokeFunction('convertToInteractive',\n",
              "                                                     [key], {});\n",
              "          if (!dataTable) return;\n",
              "\n",
              "          const docLinkHtml = 'Like what you see? Visit the ' +\n",
              "            '<a target=\"_blank\" href=https://colab.research.google.com/notebooks/data_table.ipynb>data table notebook</a>'\n",
              "            + ' to learn more about interactive tables.';\n",
              "          element.innerHTML = '';\n",
              "          dataTable['output_type'] = 'display_data';\n",
              "          await google.colab.output.renderOutput(dataTable, element);\n",
              "          const docLink = document.createElement('div');\n",
              "          docLink.innerHTML = docLinkHtml;\n",
              "          element.appendChild(docLink);\n",
              "        }\n",
              "      </script>\n",
              "    </div>\n",
              "  </div>\n",
              "  "
            ]
          },
          "metadata": {},
          "execution_count": 544
        }
      ],
      "source": [
        "df.columns = cols\n",
        "df.head(2)"
      ]
    },
    {
      "cell_type": "markdown",
      "id": "bc1feafd",
      "metadata": {
        "id": "bc1feafd"
      },
      "source": [
        "# 2. First Tour"
      ]
    },
    {
      "cell_type": "markdown",
      "source": [
        "Avant de se jetter dans le bain, commencons par un rapide tour des données."
      ],
      "metadata": {
        "id": "hiD_yvinF-Gr"
      },
      "id": "hiD_yvinF-Gr"
    },
    {
      "cell_type": "markdown",
      "id": "cd9a0062",
      "metadata": {
        "id": "cd9a0062"
      },
      "source": [
        "## 2.1 Display"
      ]
    },
    {
      "cell_type": "markdown",
      "source": [
        "Nous allons commencer par afficher les 5 premières lignes, les 5 dernières, et 10 lignes au hasard."
      ],
      "metadata": {
        "id": "3mGUs0ZWGCcf"
      },
      "id": "3mGUs0ZWGCcf"
    },
    {
      "cell_type": "code",
      "execution_count": 545,
      "id": "a456d1b5",
      "metadata": {
        "id": "a456d1b5",
        "outputId": "20a3f982-df0d-469a-c49d-7cd815be41cb",
        "colab": {
          "base_uri": "https://localhost:8080/",
          "height": 409
        }
      },
      "outputs": [
        {
          "output_type": "execute_result",
          "data": {
            "text/plain": [
              "   idbase   type domanialite   arrondissement complement  numero  \\\n",
              "0  233378  Arbre  Alignement  PARIS 20E ARRDT        157     NaN   \n",
              "1  233865  Arbre  Alignement  PARIS 12E ARRDT        NaN     NaN   \n",
              "2  234757  Arbre  Alignement  PARIS 14E ARRDT        NaN     NaN   \n",
              "3  245018  Arbre  Alignement  PARIS 16E ARRDT        NaN     NaN   \n",
              "4  107049  Arbre      Jardin   PARIS 7E ARRDT  Canton 04     NaN   \n",
              "\n",
              "                                                lieu idemplacement  libelle  \\\n",
              "0                                RUE DE MENILMONTANT     001501004  Sophora   \n",
              "1                                 BOULEVARD DE BERCY     000103002  Tilleul   \n",
              "2                                  BOULEVARD RASPAIL     004103035  Tilleul   \n",
              "3                                   BOULEVARD LANNES     000701008  Platane   \n",
              "4  JARDIN DU CHAMP DE MARS ET PELOUSES DE L ECOLE...     A00401020  Tilleul   \n",
              "\n",
              "      genre        espece        variete  circonference  hauteur  \\\n",
              "0   Sophora      japonica            NaN             65        6   \n",
              "1     Tilia     americana       ''Nova''             55        5   \n",
              "2     Tilia  x flavescens  ''Glenleven''             80       10   \n",
              "3  Platanus   x hispanica            NaN            180       15   \n",
              "4     Tilia        n. sp.            NaN            128       15   \n",
              "\n",
              "                 stade remarquable                          geo_point_2d  \n",
              "0  Jeune (arbre)Adulte         NON    48.8705897292168,2.398248222422003  \n",
              "1  Jeune (arbre)Adulte         NON   48.83913076090666,2.376322566287728  \n",
              "2  Jeune (arbre)Adulte         NON  48.835943243901234,2.332049269477685  \n",
              "3               Adulte         NON   48.86388335089906,2.269408781698171  \n",
              "4               Adulte         NON    48.85601688564015,2.29573613169062  "
            ],
            "text/html": [
              "\n",
              "  <div id=\"df-b1399fbd-5a97-4ca3-aa3e-7dffb6c8df14\">\n",
              "    <div class=\"colab-df-container\">\n",
              "      <div>\n",
              "<style scoped>\n",
              "    .dataframe tbody tr th:only-of-type {\n",
              "        vertical-align: middle;\n",
              "    }\n",
              "\n",
              "    .dataframe tbody tr th {\n",
              "        vertical-align: top;\n",
              "    }\n",
              "\n",
              "    .dataframe thead th {\n",
              "        text-align: right;\n",
              "    }\n",
              "</style>\n",
              "<table border=\"1\" class=\"dataframe\">\n",
              "  <thead>\n",
              "    <tr style=\"text-align: right;\">\n",
              "      <th></th>\n",
              "      <th>idbase</th>\n",
              "      <th>type</th>\n",
              "      <th>domanialite</th>\n",
              "      <th>arrondissement</th>\n",
              "      <th>complement</th>\n",
              "      <th>numero</th>\n",
              "      <th>lieu</th>\n",
              "      <th>idemplacement</th>\n",
              "      <th>libelle</th>\n",
              "      <th>genre</th>\n",
              "      <th>espece</th>\n",
              "      <th>variete</th>\n",
              "      <th>circonference</th>\n",
              "      <th>hauteur</th>\n",
              "      <th>stade</th>\n",
              "      <th>remarquable</th>\n",
              "      <th>geo_point_2d</th>\n",
              "    </tr>\n",
              "  </thead>\n",
              "  <tbody>\n",
              "    <tr>\n",
              "      <th>0</th>\n",
              "      <td>233378</td>\n",
              "      <td>Arbre</td>\n",
              "      <td>Alignement</td>\n",
              "      <td>PARIS 20E ARRDT</td>\n",
              "      <td>157</td>\n",
              "      <td>NaN</td>\n",
              "      <td>RUE DE MENILMONTANT</td>\n",
              "      <td>001501004</td>\n",
              "      <td>Sophora</td>\n",
              "      <td>Sophora</td>\n",
              "      <td>japonica</td>\n",
              "      <td>NaN</td>\n",
              "      <td>65</td>\n",
              "      <td>6</td>\n",
              "      <td>Jeune (arbre)Adulte</td>\n",
              "      <td>NON</td>\n",
              "      <td>48.8705897292168,2.398248222422003</td>\n",
              "    </tr>\n",
              "    <tr>\n",
              "      <th>1</th>\n",
              "      <td>233865</td>\n",
              "      <td>Arbre</td>\n",
              "      <td>Alignement</td>\n",
              "      <td>PARIS 12E ARRDT</td>\n",
              "      <td>NaN</td>\n",
              "      <td>NaN</td>\n",
              "      <td>BOULEVARD DE BERCY</td>\n",
              "      <td>000103002</td>\n",
              "      <td>Tilleul</td>\n",
              "      <td>Tilia</td>\n",
              "      <td>americana</td>\n",
              "      <td>''Nova''</td>\n",
              "      <td>55</td>\n",
              "      <td>5</td>\n",
              "      <td>Jeune (arbre)Adulte</td>\n",
              "      <td>NON</td>\n",
              "      <td>48.83913076090666,2.376322566287728</td>\n",
              "    </tr>\n",
              "    <tr>\n",
              "      <th>2</th>\n",
              "      <td>234757</td>\n",
              "      <td>Arbre</td>\n",
              "      <td>Alignement</td>\n",
              "      <td>PARIS 14E ARRDT</td>\n",
              "      <td>NaN</td>\n",
              "      <td>NaN</td>\n",
              "      <td>BOULEVARD RASPAIL</td>\n",
              "      <td>004103035</td>\n",
              "      <td>Tilleul</td>\n",
              "      <td>Tilia</td>\n",
              "      <td>x flavescens</td>\n",
              "      <td>''Glenleven''</td>\n",
              "      <td>80</td>\n",
              "      <td>10</td>\n",
              "      <td>Jeune (arbre)Adulte</td>\n",
              "      <td>NON</td>\n",
              "      <td>48.835943243901234,2.332049269477685</td>\n",
              "    </tr>\n",
              "    <tr>\n",
              "      <th>3</th>\n",
              "      <td>245018</td>\n",
              "      <td>Arbre</td>\n",
              "      <td>Alignement</td>\n",
              "      <td>PARIS 16E ARRDT</td>\n",
              "      <td>NaN</td>\n",
              "      <td>NaN</td>\n",
              "      <td>BOULEVARD LANNES</td>\n",
              "      <td>000701008</td>\n",
              "      <td>Platane</td>\n",
              "      <td>Platanus</td>\n",
              "      <td>x hispanica</td>\n",
              "      <td>NaN</td>\n",
              "      <td>180</td>\n",
              "      <td>15</td>\n",
              "      <td>Adulte</td>\n",
              "      <td>NON</td>\n",
              "      <td>48.86388335089906,2.269408781698171</td>\n",
              "    </tr>\n",
              "    <tr>\n",
              "      <th>4</th>\n",
              "      <td>107049</td>\n",
              "      <td>Arbre</td>\n",
              "      <td>Jardin</td>\n",
              "      <td>PARIS 7E ARRDT</td>\n",
              "      <td>Canton 04</td>\n",
              "      <td>NaN</td>\n",
              "      <td>JARDIN DU CHAMP DE MARS ET PELOUSES DE L ECOLE...</td>\n",
              "      <td>A00401020</td>\n",
              "      <td>Tilleul</td>\n",
              "      <td>Tilia</td>\n",
              "      <td>n. sp.</td>\n",
              "      <td>NaN</td>\n",
              "      <td>128</td>\n",
              "      <td>15</td>\n",
              "      <td>Adulte</td>\n",
              "      <td>NON</td>\n",
              "      <td>48.85601688564015,2.29573613169062</td>\n",
              "    </tr>\n",
              "  </tbody>\n",
              "</table>\n",
              "</div>\n",
              "      <button class=\"colab-df-convert\" onclick=\"convertToInteractive('df-b1399fbd-5a97-4ca3-aa3e-7dffb6c8df14')\"\n",
              "              title=\"Convert this dataframe to an interactive table.\"\n",
              "              style=\"display:none;\">\n",
              "        \n",
              "  <svg xmlns=\"http://www.w3.org/2000/svg\" height=\"24px\"viewBox=\"0 0 24 24\"\n",
              "       width=\"24px\">\n",
              "    <path d=\"M0 0h24v24H0V0z\" fill=\"none\"/>\n",
              "    <path d=\"M18.56 5.44l.94 2.06.94-2.06 2.06-.94-2.06-.94-.94-2.06-.94 2.06-2.06.94zm-11 1L8.5 8.5l.94-2.06 2.06-.94-2.06-.94L8.5 2.5l-.94 2.06-2.06.94zm10 10l.94 2.06.94-2.06 2.06-.94-2.06-.94-.94-2.06-.94 2.06-2.06.94z\"/><path d=\"M17.41 7.96l-1.37-1.37c-.4-.4-.92-.59-1.43-.59-.52 0-1.04.2-1.43.59L10.3 9.45l-7.72 7.72c-.78.78-.78 2.05 0 2.83L4 21.41c.39.39.9.59 1.41.59.51 0 1.02-.2 1.41-.59l7.78-7.78 2.81-2.81c.8-.78.8-2.07 0-2.86zM5.41 20L4 18.59l7.72-7.72 1.47 1.35L5.41 20z\"/>\n",
              "  </svg>\n",
              "      </button>\n",
              "      \n",
              "  <style>\n",
              "    .colab-df-container {\n",
              "      display:flex;\n",
              "      flex-wrap:wrap;\n",
              "      gap: 12px;\n",
              "    }\n",
              "\n",
              "    .colab-df-convert {\n",
              "      background-color: #E8F0FE;\n",
              "      border: none;\n",
              "      border-radius: 50%;\n",
              "      cursor: pointer;\n",
              "      display: none;\n",
              "      fill: #1967D2;\n",
              "      height: 32px;\n",
              "      padding: 0 0 0 0;\n",
              "      width: 32px;\n",
              "    }\n",
              "\n",
              "    .colab-df-convert:hover {\n",
              "      background-color: #E2EBFA;\n",
              "      box-shadow: 0px 1px 2px rgba(60, 64, 67, 0.3), 0px 1px 3px 1px rgba(60, 64, 67, 0.15);\n",
              "      fill: #174EA6;\n",
              "    }\n",
              "\n",
              "    [theme=dark] .colab-df-convert {\n",
              "      background-color: #3B4455;\n",
              "      fill: #D2E3FC;\n",
              "    }\n",
              "\n",
              "    [theme=dark] .colab-df-convert:hover {\n",
              "      background-color: #434B5C;\n",
              "      box-shadow: 0px 1px 3px 1px rgba(0, 0, 0, 0.15);\n",
              "      filter: drop-shadow(0px 1px 2px rgba(0, 0, 0, 0.3));\n",
              "      fill: #FFFFFF;\n",
              "    }\n",
              "  </style>\n",
              "\n",
              "      <script>\n",
              "        const buttonEl =\n",
              "          document.querySelector('#df-b1399fbd-5a97-4ca3-aa3e-7dffb6c8df14 button.colab-df-convert');\n",
              "        buttonEl.style.display =\n",
              "          google.colab.kernel.accessAllowed ? 'block' : 'none';\n",
              "\n",
              "        async function convertToInteractive(key) {\n",
              "          const element = document.querySelector('#df-b1399fbd-5a97-4ca3-aa3e-7dffb6c8df14');\n",
              "          const dataTable =\n",
              "            await google.colab.kernel.invokeFunction('convertToInteractive',\n",
              "                                                     [key], {});\n",
              "          if (!dataTable) return;\n",
              "\n",
              "          const docLinkHtml = 'Like what you see? Visit the ' +\n",
              "            '<a target=\"_blank\" href=https://colab.research.google.com/notebooks/data_table.ipynb>data table notebook</a>'\n",
              "            + ' to learn more about interactive tables.';\n",
              "          element.innerHTML = '';\n",
              "          dataTable['output_type'] = 'display_data';\n",
              "          await google.colab.output.renderOutput(dataTable, element);\n",
              "          const docLink = document.createElement('div');\n",
              "          docLink.innerHTML = docLinkHtml;\n",
              "          element.appendChild(docLink);\n",
              "        }\n",
              "      </script>\n",
              "    </div>\n",
              "  </div>\n",
              "  "
            ]
          },
          "metadata": {},
          "execution_count": 545
        }
      ],
      "source": [
        "df.head(5)"
      ]
    },
    {
      "cell_type": "code",
      "execution_count": 546,
      "id": "0f3452fa",
      "metadata": {
        "id": "0f3452fa",
        "outputId": "b0c23b05-dafc-40ee-a672-bf500b680e84",
        "colab": {
          "base_uri": "https://localhost:8080/",
          "height": 791
        }
      },
      "outputs": [
        {
          "output_type": "execute_result",
          "data": {
            "text/plain": [
              "         idbase   type domanialite     arrondissement complement  numero  \\\n",
              "168268  2021882  Arbre  Alignement    PARIS 18E ARRDT        100     NaN   \n",
              "102032   218049  Arbre  Alignement    PARIS 15E ARRDT         86     NaN   \n",
              "31470    236594  Arbre  Alignement    PARIS 15E ARRDT        146     NaN   \n",
              "53034    281054  Arbre  Alignement     PARIS 8E ARRDT        NaN     NaN   \n",
              "179776  2028759  Arbre  Alignement    PARIS 20E ARRDT         59     NaN   \n",
              "144082   184461  Arbre       DASCO    PARIS 15E ARRDT        NaN     NaN   \n",
              "153687   190655  Arbre       DASCO    PARIS 19E ARRDT        NaN     NaN   \n",
              "20531    146246  Arbre   CIMETIERE     HAUTS-DE-SEINE        NaN     NaN   \n",
              "175725   154601  Arbre   CIMETIERE  SEINE-SAINT-DENIS        NaN     NaN   \n",
              "130077   229662  Arbre  Alignement    PARIS 13E ARRDT        NaN     NaN   \n",
              "\n",
              "                                                     lieu idemplacement  \\\n",
              "168268                                    RUE DU RUISSEAU     001202001   \n",
              "102032                                 AVENUE DE BRETEUIL     000504023   \n",
              "31470                               BOULEVARD DE GRENELLE     000702006   \n",
              "53034                                      AVENUE GABRIEL     000103019   \n",
              "179776  JARDINIERES DE LA RUE PAUL MEURICE / RUE PAUL ...     000503021   \n",
              "144082       ECOLE ELEMENTAIRE / 27 RUE OLIVIER DE SERRES      09901006   \n",
              "153687                            ROMAINVILLE (59) ELEM B      11640002   \n",
              "20531       CIMETIERE DE BAGNEUX / AVENUE DU FORT / DIV 0  A09600000111   \n",
              "175725                       CIMETIERE DE PANTIN / DIV 55  D00000055002   \n",
              "130077                           BOULEVARD VINCENT AURIOL     000702003   \n",
              "\n",
              "            libelle     genre          espece         variete  circonference  \\\n",
              "168268     Magnolia  Magnolia           kobus             NaN             60   \n",
              "102032      Platane  Platanus    occidentalis             NaN             75   \n",
              "31470   Cornouiller    Cornus             mas             NaN             20   \n",
              "53034    Marronnier  Aesculus   hippocastanum             NaN            171   \n",
              "179776     Magnolia  Magnolia   x soulangeana             NaN             25   \n",
              "144082   Marronnier  Aesculus   hippocastanum             NaN            130   \n",
              "153687   Marronnier  Aesculus   hippocastanum             NaN            135   \n",
              "20531        Erable      Acer  pseudoplatanus             NaN              0   \n",
              "175725  Cornouiller    Cornus             mas             NaN             80   \n",
              "130077        Chêne   Quercus           robur  ''Fastigiata''             70   \n",
              "\n",
              "        hauteur                stade remarquable  \\\n",
              "168268        7  Jeune (arbre)Adulte         NON   \n",
              "102032       10               Adulte         NON   \n",
              "31470         5        Jeune (arbre)         NON   \n",
              "53034        18               Adulte         NON   \n",
              "179776        3        Jeune (arbre)         NON   \n",
              "144082       12               Adulte         NON   \n",
              "153687       12               Adulte         NON   \n",
              "20531         0                  NaN         NaN   \n",
              "175725        5  Jeune (arbre)Adulte         NON   \n",
              "130077       10  Jeune (arbre)Adulte         NON   \n",
              "\n",
              "                                 geo_point_2d  \n",
              "168268   48.896544433232194,2.341951773568296  \n",
              "102032    48.84580905218289,2.311137667496736  \n",
              "31470     48.84858092276866,2.299236131622071  \n",
              "53034    48.867473920423606,2.318917572183122  \n",
              "179776   48.876801126423274,2.410333315731688  \n",
              "144082    48.83595946203892,2.297422174896969  \n",
              "153687    48.87766409878853,2.403183626310342  \n",
              "20531   48.804725442671256,2.3120487943523242  \n",
              "175725    48.90479699099193,2.407925509269804  \n",
              "130077    48.83521704414407,2.368668805161288  "
            ],
            "text/html": [
              "\n",
              "  <div id=\"df-30e28e53-69ac-4e29-a39f-48be7eb75cfc\">\n",
              "    <div class=\"colab-df-container\">\n",
              "      <div>\n",
              "<style scoped>\n",
              "    .dataframe tbody tr th:only-of-type {\n",
              "        vertical-align: middle;\n",
              "    }\n",
              "\n",
              "    .dataframe tbody tr th {\n",
              "        vertical-align: top;\n",
              "    }\n",
              "\n",
              "    .dataframe thead th {\n",
              "        text-align: right;\n",
              "    }\n",
              "</style>\n",
              "<table border=\"1\" class=\"dataframe\">\n",
              "  <thead>\n",
              "    <tr style=\"text-align: right;\">\n",
              "      <th></th>\n",
              "      <th>idbase</th>\n",
              "      <th>type</th>\n",
              "      <th>domanialite</th>\n",
              "      <th>arrondissement</th>\n",
              "      <th>complement</th>\n",
              "      <th>numero</th>\n",
              "      <th>lieu</th>\n",
              "      <th>idemplacement</th>\n",
              "      <th>libelle</th>\n",
              "      <th>genre</th>\n",
              "      <th>espece</th>\n",
              "      <th>variete</th>\n",
              "      <th>circonference</th>\n",
              "      <th>hauteur</th>\n",
              "      <th>stade</th>\n",
              "      <th>remarquable</th>\n",
              "      <th>geo_point_2d</th>\n",
              "    </tr>\n",
              "  </thead>\n",
              "  <tbody>\n",
              "    <tr>\n",
              "      <th>168268</th>\n",
              "      <td>2021882</td>\n",
              "      <td>Arbre</td>\n",
              "      <td>Alignement</td>\n",
              "      <td>PARIS 18E ARRDT</td>\n",
              "      <td>100</td>\n",
              "      <td>NaN</td>\n",
              "      <td>RUE DU RUISSEAU</td>\n",
              "      <td>001202001</td>\n",
              "      <td>Magnolia</td>\n",
              "      <td>Magnolia</td>\n",
              "      <td>kobus</td>\n",
              "      <td>NaN</td>\n",
              "      <td>60</td>\n",
              "      <td>7</td>\n",
              "      <td>Jeune (arbre)Adulte</td>\n",
              "      <td>NON</td>\n",
              "      <td>48.896544433232194,2.341951773568296</td>\n",
              "    </tr>\n",
              "    <tr>\n",
              "      <th>102032</th>\n",
              "      <td>218049</td>\n",
              "      <td>Arbre</td>\n",
              "      <td>Alignement</td>\n",
              "      <td>PARIS 15E ARRDT</td>\n",
              "      <td>86</td>\n",
              "      <td>NaN</td>\n",
              "      <td>AVENUE DE BRETEUIL</td>\n",
              "      <td>000504023</td>\n",
              "      <td>Platane</td>\n",
              "      <td>Platanus</td>\n",
              "      <td>occidentalis</td>\n",
              "      <td>NaN</td>\n",
              "      <td>75</td>\n",
              "      <td>10</td>\n",
              "      <td>Adulte</td>\n",
              "      <td>NON</td>\n",
              "      <td>48.84580905218289,2.311137667496736</td>\n",
              "    </tr>\n",
              "    <tr>\n",
              "      <th>31470</th>\n",
              "      <td>236594</td>\n",
              "      <td>Arbre</td>\n",
              "      <td>Alignement</td>\n",
              "      <td>PARIS 15E ARRDT</td>\n",
              "      <td>146</td>\n",
              "      <td>NaN</td>\n",
              "      <td>BOULEVARD DE GRENELLE</td>\n",
              "      <td>000702006</td>\n",
              "      <td>Cornouiller</td>\n",
              "      <td>Cornus</td>\n",
              "      <td>mas</td>\n",
              "      <td>NaN</td>\n",
              "      <td>20</td>\n",
              "      <td>5</td>\n",
              "      <td>Jeune (arbre)</td>\n",
              "      <td>NON</td>\n",
              "      <td>48.84858092276866,2.299236131622071</td>\n",
              "    </tr>\n",
              "    <tr>\n",
              "      <th>53034</th>\n",
              "      <td>281054</td>\n",
              "      <td>Arbre</td>\n",
              "      <td>Alignement</td>\n",
              "      <td>PARIS 8E ARRDT</td>\n",
              "      <td>NaN</td>\n",
              "      <td>NaN</td>\n",
              "      <td>AVENUE GABRIEL</td>\n",
              "      <td>000103019</td>\n",
              "      <td>Marronnier</td>\n",
              "      <td>Aesculus</td>\n",
              "      <td>hippocastanum</td>\n",
              "      <td>NaN</td>\n",
              "      <td>171</td>\n",
              "      <td>18</td>\n",
              "      <td>Adulte</td>\n",
              "      <td>NON</td>\n",
              "      <td>48.867473920423606,2.318917572183122</td>\n",
              "    </tr>\n",
              "    <tr>\n",
              "      <th>179776</th>\n",
              "      <td>2028759</td>\n",
              "      <td>Arbre</td>\n",
              "      <td>Alignement</td>\n",
              "      <td>PARIS 20E ARRDT</td>\n",
              "      <td>59</td>\n",
              "      <td>NaN</td>\n",
              "      <td>JARDINIERES DE LA RUE PAUL MEURICE / RUE PAUL ...</td>\n",
              "      <td>000503021</td>\n",
              "      <td>Magnolia</td>\n",
              "      <td>Magnolia</td>\n",
              "      <td>x soulangeana</td>\n",
              "      <td>NaN</td>\n",
              "      <td>25</td>\n",
              "      <td>3</td>\n",
              "      <td>Jeune (arbre)</td>\n",
              "      <td>NON</td>\n",
              "      <td>48.876801126423274,2.410333315731688</td>\n",
              "    </tr>\n",
              "    <tr>\n",
              "      <th>144082</th>\n",
              "      <td>184461</td>\n",
              "      <td>Arbre</td>\n",
              "      <td>DASCO</td>\n",
              "      <td>PARIS 15E ARRDT</td>\n",
              "      <td>NaN</td>\n",
              "      <td>NaN</td>\n",
              "      <td>ECOLE ELEMENTAIRE / 27 RUE OLIVIER DE SERRES</td>\n",
              "      <td>09901006</td>\n",
              "      <td>Marronnier</td>\n",
              "      <td>Aesculus</td>\n",
              "      <td>hippocastanum</td>\n",
              "      <td>NaN</td>\n",
              "      <td>130</td>\n",
              "      <td>12</td>\n",
              "      <td>Adulte</td>\n",
              "      <td>NON</td>\n",
              "      <td>48.83595946203892,2.297422174896969</td>\n",
              "    </tr>\n",
              "    <tr>\n",
              "      <th>153687</th>\n",
              "      <td>190655</td>\n",
              "      <td>Arbre</td>\n",
              "      <td>DASCO</td>\n",
              "      <td>PARIS 19E ARRDT</td>\n",
              "      <td>NaN</td>\n",
              "      <td>NaN</td>\n",
              "      <td>ROMAINVILLE (59) ELEM B</td>\n",
              "      <td>11640002</td>\n",
              "      <td>Marronnier</td>\n",
              "      <td>Aesculus</td>\n",
              "      <td>hippocastanum</td>\n",
              "      <td>NaN</td>\n",
              "      <td>135</td>\n",
              "      <td>12</td>\n",
              "      <td>Adulte</td>\n",
              "      <td>NON</td>\n",
              "      <td>48.87766409878853,2.403183626310342</td>\n",
              "    </tr>\n",
              "    <tr>\n",
              "      <th>20531</th>\n",
              "      <td>146246</td>\n",
              "      <td>Arbre</td>\n",
              "      <td>CIMETIERE</td>\n",
              "      <td>HAUTS-DE-SEINE</td>\n",
              "      <td>NaN</td>\n",
              "      <td>NaN</td>\n",
              "      <td>CIMETIERE DE BAGNEUX / AVENUE DU FORT / DIV 0</td>\n",
              "      <td>A09600000111</td>\n",
              "      <td>Erable</td>\n",
              "      <td>Acer</td>\n",
              "      <td>pseudoplatanus</td>\n",
              "      <td>NaN</td>\n",
              "      <td>0</td>\n",
              "      <td>0</td>\n",
              "      <td>NaN</td>\n",
              "      <td>NaN</td>\n",
              "      <td>48.804725442671256,2.3120487943523242</td>\n",
              "    </tr>\n",
              "    <tr>\n",
              "      <th>175725</th>\n",
              "      <td>154601</td>\n",
              "      <td>Arbre</td>\n",
              "      <td>CIMETIERE</td>\n",
              "      <td>SEINE-SAINT-DENIS</td>\n",
              "      <td>NaN</td>\n",
              "      <td>NaN</td>\n",
              "      <td>CIMETIERE DE PANTIN / DIV 55</td>\n",
              "      <td>D00000055002</td>\n",
              "      <td>Cornouiller</td>\n",
              "      <td>Cornus</td>\n",
              "      <td>mas</td>\n",
              "      <td>NaN</td>\n",
              "      <td>80</td>\n",
              "      <td>5</td>\n",
              "      <td>Jeune (arbre)Adulte</td>\n",
              "      <td>NON</td>\n",
              "      <td>48.90479699099193,2.407925509269804</td>\n",
              "    </tr>\n",
              "    <tr>\n",
              "      <th>130077</th>\n",
              "      <td>229662</td>\n",
              "      <td>Arbre</td>\n",
              "      <td>Alignement</td>\n",
              "      <td>PARIS 13E ARRDT</td>\n",
              "      <td>NaN</td>\n",
              "      <td>NaN</td>\n",
              "      <td>BOULEVARD VINCENT AURIOL</td>\n",
              "      <td>000702003</td>\n",
              "      <td>Chêne</td>\n",
              "      <td>Quercus</td>\n",
              "      <td>robur</td>\n",
              "      <td>''Fastigiata''</td>\n",
              "      <td>70</td>\n",
              "      <td>10</td>\n",
              "      <td>Jeune (arbre)Adulte</td>\n",
              "      <td>NON</td>\n",
              "      <td>48.83521704414407,2.368668805161288</td>\n",
              "    </tr>\n",
              "  </tbody>\n",
              "</table>\n",
              "</div>\n",
              "      <button class=\"colab-df-convert\" onclick=\"convertToInteractive('df-30e28e53-69ac-4e29-a39f-48be7eb75cfc')\"\n",
              "              title=\"Convert this dataframe to an interactive table.\"\n",
              "              style=\"display:none;\">\n",
              "        \n",
              "  <svg xmlns=\"http://www.w3.org/2000/svg\" height=\"24px\"viewBox=\"0 0 24 24\"\n",
              "       width=\"24px\">\n",
              "    <path d=\"M0 0h24v24H0V0z\" fill=\"none\"/>\n",
              "    <path d=\"M18.56 5.44l.94 2.06.94-2.06 2.06-.94-2.06-.94-.94-2.06-.94 2.06-2.06.94zm-11 1L8.5 8.5l.94-2.06 2.06-.94-2.06-.94L8.5 2.5l-.94 2.06-2.06.94zm10 10l.94 2.06.94-2.06 2.06-.94-2.06-.94-.94-2.06-.94 2.06-2.06.94z\"/><path d=\"M17.41 7.96l-1.37-1.37c-.4-.4-.92-.59-1.43-.59-.52 0-1.04.2-1.43.59L10.3 9.45l-7.72 7.72c-.78.78-.78 2.05 0 2.83L4 21.41c.39.39.9.59 1.41.59.51 0 1.02-.2 1.41-.59l7.78-7.78 2.81-2.81c.8-.78.8-2.07 0-2.86zM5.41 20L4 18.59l7.72-7.72 1.47 1.35L5.41 20z\"/>\n",
              "  </svg>\n",
              "      </button>\n",
              "      \n",
              "  <style>\n",
              "    .colab-df-container {\n",
              "      display:flex;\n",
              "      flex-wrap:wrap;\n",
              "      gap: 12px;\n",
              "    }\n",
              "\n",
              "    .colab-df-convert {\n",
              "      background-color: #E8F0FE;\n",
              "      border: none;\n",
              "      border-radius: 50%;\n",
              "      cursor: pointer;\n",
              "      display: none;\n",
              "      fill: #1967D2;\n",
              "      height: 32px;\n",
              "      padding: 0 0 0 0;\n",
              "      width: 32px;\n",
              "    }\n",
              "\n",
              "    .colab-df-convert:hover {\n",
              "      background-color: #E2EBFA;\n",
              "      box-shadow: 0px 1px 2px rgba(60, 64, 67, 0.3), 0px 1px 3px 1px rgba(60, 64, 67, 0.15);\n",
              "      fill: #174EA6;\n",
              "    }\n",
              "\n",
              "    [theme=dark] .colab-df-convert {\n",
              "      background-color: #3B4455;\n",
              "      fill: #D2E3FC;\n",
              "    }\n",
              "\n",
              "    [theme=dark] .colab-df-convert:hover {\n",
              "      background-color: #434B5C;\n",
              "      box-shadow: 0px 1px 3px 1px rgba(0, 0, 0, 0.15);\n",
              "      filter: drop-shadow(0px 1px 2px rgba(0, 0, 0, 0.3));\n",
              "      fill: #FFFFFF;\n",
              "    }\n",
              "  </style>\n",
              "\n",
              "      <script>\n",
              "        const buttonEl =\n",
              "          document.querySelector('#df-30e28e53-69ac-4e29-a39f-48be7eb75cfc button.colab-df-convert');\n",
              "        buttonEl.style.display =\n",
              "          google.colab.kernel.accessAllowed ? 'block' : 'none';\n",
              "\n",
              "        async function convertToInteractive(key) {\n",
              "          const element = document.querySelector('#df-30e28e53-69ac-4e29-a39f-48be7eb75cfc');\n",
              "          const dataTable =\n",
              "            await google.colab.kernel.invokeFunction('convertToInteractive',\n",
              "                                                     [key], {});\n",
              "          if (!dataTable) return;\n",
              "\n",
              "          const docLinkHtml = 'Like what you see? Visit the ' +\n",
              "            '<a target=\"_blank\" href=https://colab.research.google.com/notebooks/data_table.ipynb>data table notebook</a>'\n",
              "            + ' to learn more about interactive tables.';\n",
              "          element.innerHTML = '';\n",
              "          dataTable['output_type'] = 'display_data';\n",
              "          await google.colab.output.renderOutput(dataTable, element);\n",
              "          const docLink = document.createElement('div');\n",
              "          docLink.innerHTML = docLinkHtml;\n",
              "          element.appendChild(docLink);\n",
              "        }\n",
              "      </script>\n",
              "    </div>\n",
              "  </div>\n",
              "  "
            ]
          },
          "metadata": {},
          "execution_count": 546
        }
      ],
      "source": [
        "df.sample(10)"
      ]
    },
    {
      "cell_type": "code",
      "execution_count": 547,
      "id": "9572ca55",
      "metadata": {
        "id": "9572ca55",
        "outputId": "014261fa-d2ee-4520-d825-aa118eadd8ca",
        "colab": {
          "base_uri": "https://localhost:8080/",
          "height": 392
        }
      },
      "outputs": [
        {
          "output_type": "execute_result",
          "data": {
            "text/plain": [
              "        idbase   type domanialite    arrondissement            complement  \\\n",
              "205832  277196  Arbre  Alignement    PARIS 7E ARRDT                   NaN   \n",
              "205833  206780  Arbre  Alignement   PARIS 17E ARRDT                 N°137   \n",
              "205834  216387  Arbre  Alignement    PARIS 2E ARRDT                     8   \n",
              "205835  218657  Arbre  Alignement  BOIS DE BOULOGNE  candélabre XVI-21140   \n",
              "205836  220705  Arbre  Alignement   PARIS 14E ARRDT                    23   \n",
              "\n",
              "        numero                              lieu idemplacement  \\\n",
              "205832     NaN            AVENUE EMILE POUVILLON     000402002   \n",
              "205833     NaN             BOULEVARD MALESHERBES     002701007   \n",
              "205834     NaN  RUE NOTRE DAME DE BONNE NOUVELLE     000301001   \n",
              "205835     NaN            AVENUE DE L HIPPODROME     000101008   \n",
              "205836     NaN                  AVENUE RENE COTY     000401006   \n",
              "\n",
              "               libelle     genre        espece      variete  circonference  \\\n",
              "205832         Platane  Platanus  occidentalis          NaN            180   \n",
              "205833      Marronnier  Aesculus      x carnea  ''Briotii''             24   \n",
              "205834  Charme-Houblon    Ostrya  carpinifolia          NaN             40   \n",
              "205835         Platane  Platanus    orientalis          NaN            161   \n",
              "205836         Platane  Platanus   x hispanica          NaN            180   \n",
              "\n",
              "        hauteur                stade remarquable  \\\n",
              "205832       25               Adulte         NON   \n",
              "205833        5        Jeune (arbre)         NON   \n",
              "205834        5  Jeune (arbre)Adulte         NON   \n",
              "205835       16               Adulte         NON   \n",
              "205836       15               Adulte         NON   \n",
              "\n",
              "                                geo_point_2d  \n",
              "205832  48.857501544418604,2.298694846390691  \n",
              "205833  48.883629692582055,2.309000304779045  \n",
              "205834   48.87007536483951,2.349706549331126  \n",
              "205835  48.858427453525294,2.256386261184969  \n",
              "205836   48.82939652307256,2.334305855478159  "
            ],
            "text/html": [
              "\n",
              "  <div id=\"df-26cf8ab2-d590-4a75-913d-a1461469286f\">\n",
              "    <div class=\"colab-df-container\">\n",
              "      <div>\n",
              "<style scoped>\n",
              "    .dataframe tbody tr th:only-of-type {\n",
              "        vertical-align: middle;\n",
              "    }\n",
              "\n",
              "    .dataframe tbody tr th {\n",
              "        vertical-align: top;\n",
              "    }\n",
              "\n",
              "    .dataframe thead th {\n",
              "        text-align: right;\n",
              "    }\n",
              "</style>\n",
              "<table border=\"1\" class=\"dataframe\">\n",
              "  <thead>\n",
              "    <tr style=\"text-align: right;\">\n",
              "      <th></th>\n",
              "      <th>idbase</th>\n",
              "      <th>type</th>\n",
              "      <th>domanialite</th>\n",
              "      <th>arrondissement</th>\n",
              "      <th>complement</th>\n",
              "      <th>numero</th>\n",
              "      <th>lieu</th>\n",
              "      <th>idemplacement</th>\n",
              "      <th>libelle</th>\n",
              "      <th>genre</th>\n",
              "      <th>espece</th>\n",
              "      <th>variete</th>\n",
              "      <th>circonference</th>\n",
              "      <th>hauteur</th>\n",
              "      <th>stade</th>\n",
              "      <th>remarquable</th>\n",
              "      <th>geo_point_2d</th>\n",
              "    </tr>\n",
              "  </thead>\n",
              "  <tbody>\n",
              "    <tr>\n",
              "      <th>205832</th>\n",
              "      <td>277196</td>\n",
              "      <td>Arbre</td>\n",
              "      <td>Alignement</td>\n",
              "      <td>PARIS 7E ARRDT</td>\n",
              "      <td>NaN</td>\n",
              "      <td>NaN</td>\n",
              "      <td>AVENUE EMILE POUVILLON</td>\n",
              "      <td>000402002</td>\n",
              "      <td>Platane</td>\n",
              "      <td>Platanus</td>\n",
              "      <td>occidentalis</td>\n",
              "      <td>NaN</td>\n",
              "      <td>180</td>\n",
              "      <td>25</td>\n",
              "      <td>Adulte</td>\n",
              "      <td>NON</td>\n",
              "      <td>48.857501544418604,2.298694846390691</td>\n",
              "    </tr>\n",
              "    <tr>\n",
              "      <th>205833</th>\n",
              "      <td>206780</td>\n",
              "      <td>Arbre</td>\n",
              "      <td>Alignement</td>\n",
              "      <td>PARIS 17E ARRDT</td>\n",
              "      <td>N°137</td>\n",
              "      <td>NaN</td>\n",
              "      <td>BOULEVARD MALESHERBES</td>\n",
              "      <td>002701007</td>\n",
              "      <td>Marronnier</td>\n",
              "      <td>Aesculus</td>\n",
              "      <td>x carnea</td>\n",
              "      <td>''Briotii''</td>\n",
              "      <td>24</td>\n",
              "      <td>5</td>\n",
              "      <td>Jeune (arbre)</td>\n",
              "      <td>NON</td>\n",
              "      <td>48.883629692582055,2.309000304779045</td>\n",
              "    </tr>\n",
              "    <tr>\n",
              "      <th>205834</th>\n",
              "      <td>216387</td>\n",
              "      <td>Arbre</td>\n",
              "      <td>Alignement</td>\n",
              "      <td>PARIS 2E ARRDT</td>\n",
              "      <td>8</td>\n",
              "      <td>NaN</td>\n",
              "      <td>RUE NOTRE DAME DE BONNE NOUVELLE</td>\n",
              "      <td>000301001</td>\n",
              "      <td>Charme-Houblon</td>\n",
              "      <td>Ostrya</td>\n",
              "      <td>carpinifolia</td>\n",
              "      <td>NaN</td>\n",
              "      <td>40</td>\n",
              "      <td>5</td>\n",
              "      <td>Jeune (arbre)Adulte</td>\n",
              "      <td>NON</td>\n",
              "      <td>48.87007536483951,2.349706549331126</td>\n",
              "    </tr>\n",
              "    <tr>\n",
              "      <th>205835</th>\n",
              "      <td>218657</td>\n",
              "      <td>Arbre</td>\n",
              "      <td>Alignement</td>\n",
              "      <td>BOIS DE BOULOGNE</td>\n",
              "      <td>candélabre XVI-21140</td>\n",
              "      <td>NaN</td>\n",
              "      <td>AVENUE DE L HIPPODROME</td>\n",
              "      <td>000101008</td>\n",
              "      <td>Platane</td>\n",
              "      <td>Platanus</td>\n",
              "      <td>orientalis</td>\n",
              "      <td>NaN</td>\n",
              "      <td>161</td>\n",
              "      <td>16</td>\n",
              "      <td>Adulte</td>\n",
              "      <td>NON</td>\n",
              "      <td>48.858427453525294,2.256386261184969</td>\n",
              "    </tr>\n",
              "    <tr>\n",
              "      <th>205836</th>\n",
              "      <td>220705</td>\n",
              "      <td>Arbre</td>\n",
              "      <td>Alignement</td>\n",
              "      <td>PARIS 14E ARRDT</td>\n",
              "      <td>23</td>\n",
              "      <td>NaN</td>\n",
              "      <td>AVENUE RENE COTY</td>\n",
              "      <td>000401006</td>\n",
              "      <td>Platane</td>\n",
              "      <td>Platanus</td>\n",
              "      <td>x hispanica</td>\n",
              "      <td>NaN</td>\n",
              "      <td>180</td>\n",
              "      <td>15</td>\n",
              "      <td>Adulte</td>\n",
              "      <td>NON</td>\n",
              "      <td>48.82939652307256,2.334305855478159</td>\n",
              "    </tr>\n",
              "  </tbody>\n",
              "</table>\n",
              "</div>\n",
              "      <button class=\"colab-df-convert\" onclick=\"convertToInteractive('df-26cf8ab2-d590-4a75-913d-a1461469286f')\"\n",
              "              title=\"Convert this dataframe to an interactive table.\"\n",
              "              style=\"display:none;\">\n",
              "        \n",
              "  <svg xmlns=\"http://www.w3.org/2000/svg\" height=\"24px\"viewBox=\"0 0 24 24\"\n",
              "       width=\"24px\">\n",
              "    <path d=\"M0 0h24v24H0V0z\" fill=\"none\"/>\n",
              "    <path d=\"M18.56 5.44l.94 2.06.94-2.06 2.06-.94-2.06-.94-.94-2.06-.94 2.06-2.06.94zm-11 1L8.5 8.5l.94-2.06 2.06-.94-2.06-.94L8.5 2.5l-.94 2.06-2.06.94zm10 10l.94 2.06.94-2.06 2.06-.94-2.06-.94-.94-2.06-.94 2.06-2.06.94z\"/><path d=\"M17.41 7.96l-1.37-1.37c-.4-.4-.92-.59-1.43-.59-.52 0-1.04.2-1.43.59L10.3 9.45l-7.72 7.72c-.78.78-.78 2.05 0 2.83L4 21.41c.39.39.9.59 1.41.59.51 0 1.02-.2 1.41-.59l7.78-7.78 2.81-2.81c.8-.78.8-2.07 0-2.86zM5.41 20L4 18.59l7.72-7.72 1.47 1.35L5.41 20z\"/>\n",
              "  </svg>\n",
              "      </button>\n",
              "      \n",
              "  <style>\n",
              "    .colab-df-container {\n",
              "      display:flex;\n",
              "      flex-wrap:wrap;\n",
              "      gap: 12px;\n",
              "    }\n",
              "\n",
              "    .colab-df-convert {\n",
              "      background-color: #E8F0FE;\n",
              "      border: none;\n",
              "      border-radius: 50%;\n",
              "      cursor: pointer;\n",
              "      display: none;\n",
              "      fill: #1967D2;\n",
              "      height: 32px;\n",
              "      padding: 0 0 0 0;\n",
              "      width: 32px;\n",
              "    }\n",
              "\n",
              "    .colab-df-convert:hover {\n",
              "      background-color: #E2EBFA;\n",
              "      box-shadow: 0px 1px 2px rgba(60, 64, 67, 0.3), 0px 1px 3px 1px rgba(60, 64, 67, 0.15);\n",
              "      fill: #174EA6;\n",
              "    }\n",
              "\n",
              "    [theme=dark] .colab-df-convert {\n",
              "      background-color: #3B4455;\n",
              "      fill: #D2E3FC;\n",
              "    }\n",
              "\n",
              "    [theme=dark] .colab-df-convert:hover {\n",
              "      background-color: #434B5C;\n",
              "      box-shadow: 0px 1px 3px 1px rgba(0, 0, 0, 0.15);\n",
              "      filter: drop-shadow(0px 1px 2px rgba(0, 0, 0, 0.3));\n",
              "      fill: #FFFFFF;\n",
              "    }\n",
              "  </style>\n",
              "\n",
              "      <script>\n",
              "        const buttonEl =\n",
              "          document.querySelector('#df-26cf8ab2-d590-4a75-913d-a1461469286f button.colab-df-convert');\n",
              "        buttonEl.style.display =\n",
              "          google.colab.kernel.accessAllowed ? 'block' : 'none';\n",
              "\n",
              "        async function convertToInteractive(key) {\n",
              "          const element = document.querySelector('#df-26cf8ab2-d590-4a75-913d-a1461469286f');\n",
              "          const dataTable =\n",
              "            await google.colab.kernel.invokeFunction('convertToInteractive',\n",
              "                                                     [key], {});\n",
              "          if (!dataTable) return;\n",
              "\n",
              "          const docLinkHtml = 'Like what you see? Visit the ' +\n",
              "            '<a target=\"_blank\" href=https://colab.research.google.com/notebooks/data_table.ipynb>data table notebook</a>'\n",
              "            + ' to learn more about interactive tables.';\n",
              "          element.innerHTML = '';\n",
              "          dataTable['output_type'] = 'display_data';\n",
              "          await google.colab.output.renderOutput(dataTable, element);\n",
              "          const docLink = document.createElement('div');\n",
              "          docLink.innerHTML = docLinkHtml;\n",
              "          element.appendChild(docLink);\n",
              "        }\n",
              "      </script>\n",
              "    </div>\n",
              "  </div>\n",
              "  "
            ]
          },
          "metadata": {},
          "execution_count": 547
        }
      ],
      "source": [
        "df.tail(5)"
      ]
    },
    {
      "cell_type": "markdown",
      "id": "cb489a23",
      "metadata": {
        "id": "cb489a23"
      },
      "source": [
        "## 2.2 Structure "
      ]
    },
    {
      "cell_type": "markdown",
      "source": [
        "Regardons ensuite la structure de nos données."
      ],
      "metadata": {
        "id": "v9NIQFE0GLfW"
      },
      "id": "v9NIQFE0GLfW"
    },
    {
      "cell_type": "code",
      "execution_count": 548,
      "id": "7363bd6f",
      "metadata": {
        "id": "7363bd6f",
        "outputId": "1b89466b-4011-4935-b2e1-99cbf6c11660",
        "colab": {
          "base_uri": "https://localhost:8080/"
        }
      },
      "outputs": [
        {
          "output_type": "execute_result",
          "data": {
            "text/plain": [
              "(205837, 17)"
            ]
          },
          "metadata": {},
          "execution_count": 548
        }
      ],
      "source": [
        "df.shape"
      ]
    },
    {
      "cell_type": "code",
      "execution_count": 549,
      "id": "9f8a552a",
      "metadata": {
        "id": "9f8a552a",
        "outputId": "63d33c0d-82d6-4e92-b9f2-25daad60433e",
        "colab": {
          "base_uri": "https://localhost:8080/"
        }
      },
      "outputs": [
        {
          "output_type": "execute_result",
          "data": {
            "text/plain": [
              "idbase              int64\n",
              "type               object\n",
              "domanialite        object\n",
              "arrondissement     object\n",
              "complement         object\n",
              "numero            float64\n",
              "lieu               object\n",
              "idemplacement      object\n",
              "libelle            object\n",
              "genre              object\n",
              "espece             object\n",
              "variete            object\n",
              "circonference       int64\n",
              "hauteur             int64\n",
              "stade              object\n",
              "remarquable        object\n",
              "geo_point_2d       object\n",
              "dtype: object"
            ]
          },
          "metadata": {},
          "execution_count": 549
        }
      ],
      "source": [
        "df.dtypes"
      ]
    },
    {
      "cell_type": "code",
      "execution_count": 550,
      "id": "9c6b5fe7",
      "metadata": {
        "id": "9c6b5fe7",
        "outputId": "5b5cd3fe-2e3e-40d1-f03f-d09ad4af0c0b",
        "colab": {
          "base_uri": "https://localhost:8080/"
        }
      },
      "outputs": [
        {
          "output_type": "stream",
          "name": "stdout",
          "text": [
            "<class 'pandas.core.frame.DataFrame'>\n",
            "RangeIndex: 205837 entries, 0 to 205836\n",
            "Data columns (total 17 columns):\n",
            " #   Column          Non-Null Count   Dtype  \n",
            "---  ------          --------------   -----  \n",
            " 0   idbase          205837 non-null  int64  \n",
            " 1   type            205837 non-null  object \n",
            " 2   domanialite     205837 non-null  object \n",
            " 3   arrondissement  205837 non-null  object \n",
            " 4   complement      49841 non-null   object \n",
            " 5   numero          0 non-null       float64\n",
            " 6   lieu            205837 non-null  object \n",
            " 7   idemplacement   205837 non-null  object \n",
            " 8   libelle         204751 non-null  object \n",
            " 9   genre           205837 non-null  object \n",
            " 10  espece          203516 non-null  object \n",
            " 11  variete         38838 non-null   object \n",
            " 12  circonference   205837 non-null  int64  \n",
            " 13  hauteur         205837 non-null  int64  \n",
            " 14  stade           157711 non-null  object \n",
            " 15  remarquable     180946 non-null  object \n",
            " 16  geo_point_2d    205837 non-null  object \n",
            "dtypes: float64(1), int64(3), object(13)\n",
            "memory usage: 26.7+ MB\n"
          ]
        }
      ],
      "source": [
        "df.info()"
      ]
    },
    {
      "cell_type": "markdown",
      "source": [
        "On peut calculer le nombre de colonnes de chaque type."
      ],
      "metadata": {
        "id": "xMaAhzRhGSLi"
      },
      "id": "xMaAhzRhGSLi"
    },
    {
      "cell_type": "code",
      "execution_count": 551,
      "id": "76425a75",
      "metadata": {
        "scrolled": true,
        "id": "76425a75",
        "outputId": "2f01d7de-cfc2-4892-d756-53e93b0c998b",
        "colab": {
          "base_uri": "https://localhost:8080/"
        }
      },
      "outputs": [
        {
          "output_type": "execute_result",
          "data": {
            "text/plain": [
              "object     13\n",
              "int64       3\n",
              "float64     1\n",
              "dtype: int64"
            ]
          },
          "metadata": {},
          "execution_count": 551
        }
      ],
      "source": [
        "df.dtypes.value_counts()"
      ]
    },
    {
      "cell_type": "markdown",
      "source": [
        "Et le nombre de valeurs uniques par colonnes."
      ],
      "metadata": {
        "id": "hKgRyFkQGWdb"
      },
      "id": "hKgRyFkQGWdb"
    },
    {
      "cell_type": "code",
      "execution_count": 552,
      "id": "dfde43cc",
      "metadata": {
        "id": "dfde43cc",
        "outputId": "d227dee6-06c6-4222-c53a-b469725518d7",
        "colab": {
          "base_uri": "https://localhost:8080/"
        }
      },
      "outputs": [
        {
          "output_type": "execute_result",
          "data": {
            "text/plain": [
              "idbase            205837\n",
              "type                   1\n",
              "domanialite            9\n",
              "arrondissement        25\n",
              "complement          4516\n",
              "numero                 0\n",
              "lieu                7315\n",
              "idemplacement      67295\n",
              "libelle              196\n",
              "genre                176\n",
              "espece               548\n",
              "variete              482\n",
              "circonference        464\n",
              "hauteur               40\n",
              "stade                  4\n",
              "remarquable            2\n",
              "geo_point_2d      205829\n",
              "dtype: int64"
            ]
          },
          "metadata": {},
          "execution_count": 552
        }
      ],
      "source": [
        "df.nunique()"
      ]
    },
    {
      "cell_type": "markdown",
      "id": "9d5f6770",
      "metadata": {
        "id": "9d5f6770"
      },
      "source": [
        "## 2.3 NaN & duplicated"
      ]
    },
    {
      "cell_type": "markdown",
      "source": [
        "Regardons les valeurs manquantes."
      ],
      "metadata": {
        "id": "atj7N9d8GZ-m"
      },
      "id": "atj7N9d8GZ-m"
    },
    {
      "cell_type": "code",
      "execution_count": 553,
      "id": "5fd34563",
      "metadata": {
        "scrolled": true,
        "id": "5fd34563",
        "outputId": "41a0be45-fb28-4a2d-d0d1-f887646846ea",
        "colab": {
          "base_uri": "https://localhost:8080/"
        }
      },
      "outputs": [
        {
          "output_type": "execute_result",
          "data": {
            "text/plain": [
              "idbase                 0\n",
              "type                   0\n",
              "domanialite            0\n",
              "arrondissement         0\n",
              "complement        155996\n",
              "numero            205837\n",
              "lieu                   0\n",
              "idemplacement          0\n",
              "libelle             1086\n",
              "genre                  0\n",
              "espece              2321\n",
              "variete           166999\n",
              "circonference          0\n",
              "hauteur                0\n",
              "stade              48126\n",
              "remarquable        24891\n",
              "geo_point_2d           0\n",
              "dtype: int64"
            ]
          },
          "metadata": {},
          "execution_count": 553
        }
      ],
      "source": [
        "df.isna().sum()"
      ]
    },
    {
      "cell_type": "code",
      "execution_count": 554,
      "id": "fbd8e781",
      "metadata": {
        "scrolled": true,
        "id": "fbd8e781",
        "outputId": "1c04da90-6c25-475c-d5d7-30cf6bcb65c7",
        "colab": {
          "base_uri": "https://localhost:8080/"
        }
      },
      "outputs": [
        {
          "output_type": "execute_result",
          "data": {
            "text/plain": [
              "idbase            0.000000\n",
              "type              0.000000\n",
              "domanialite       0.000000\n",
              "arrondissement    0.000000\n",
              "complement        0.757862\n",
              "numero            1.000000\n",
              "lieu              0.000000\n",
              "idemplacement     0.000000\n",
              "libelle           0.005276\n",
              "genre             0.000000\n",
              "espece            0.011276\n",
              "variete           0.811317\n",
              "circonference     0.000000\n",
              "hauteur           0.000000\n",
              "stade             0.233806\n",
              "remarquable       0.120926\n",
              "geo_point_2d      0.000000\n",
              "dtype: float64"
            ]
          },
          "metadata": {},
          "execution_count": 554
        }
      ],
      "source": [
        "df.isna().mean()"
      ]
    },
    {
      "cell_type": "markdown",
      "source": [
        "En passant par la variable intermédiaire `tmp` (pour temporaire), nous pouvons filtre sur les colonnes qui ont des valeurs manquantes."
      ],
      "metadata": {
        "id": "VKLejGjQGecQ"
      },
      "id": "VKLejGjQGecQ"
    },
    {
      "cell_type": "code",
      "execution_count": 555,
      "id": "05e30845",
      "metadata": {
        "scrolled": true,
        "id": "05e30845",
        "outputId": "408307e2-f9e0-4b99-df65-ea9ee49dcd51",
        "colab": {
          "base_uri": "https://localhost:8080/"
        }
      },
      "outputs": [
        {
          "output_type": "execute_result",
          "data": {
            "text/plain": [
              "complement     155996\n",
              "numero         205837\n",
              "libelle          1086\n",
              "espece           2321\n",
              "variete        166999\n",
              "stade           48126\n",
              "remarquable     24891\n",
              "dtype: int64"
            ]
          },
          "metadata": {},
          "execution_count": 555
        }
      ],
      "source": [
        "tmp = df.isna().sum()\n",
        "tmp[tmp>0]"
      ]
    },
    {
      "cell_type": "markdown",
      "source": [
        "Regardons les valeurs dupliquées."
      ],
      "metadata": {
        "id": "n3lQHlUXGp9Z"
      },
      "id": "n3lQHlUXGp9Z"
    },
    {
      "cell_type": "code",
      "execution_count": 556,
      "id": "1a633da7",
      "metadata": {
        "id": "1a633da7",
        "outputId": "df6f85db-c9f5-4d4b-9ef3-6489cf74e402",
        "colab": {
          "base_uri": "https://localhost:8080/"
        }
      },
      "outputs": [
        {
          "output_type": "execute_result",
          "data": {
            "text/plain": [
              "0"
            ]
          },
          "metadata": {},
          "execution_count": 556
        }
      ],
      "source": [
        "df.duplicated().sum()"
      ]
    },
    {
      "cell_type": "markdown",
      "id": "005b33be",
      "metadata": {
        "id": "005b33be"
      },
      "source": [
        "## 2.4 Data Inspection"
      ]
    },
    {
      "cell_type": "markdown",
      "source": [
        "Nous allons faire une rapide inspection des données. La commande `describe` est très pratique pour cela. "
      ],
      "metadata": {
        "id": "b4l35_ZjGuTO"
      },
      "id": "b4l35_ZjGuTO"
    },
    {
      "cell_type": "code",
      "execution_count": 557,
      "id": "8ad05ced",
      "metadata": {
        "id": "8ad05ced",
        "outputId": "56f12e3f-f29e-486d-8d03-ffe03df87793",
        "colab": {
          "base_uri": "https://localhost:8080/",
          "height": 300
        }
      },
      "outputs": [
        {
          "output_type": "execute_result",
          "data": {
            "text/plain": [
              "             idbase  numero  circonference        hauteur\n",
              "count  2.058370e+05     0.0  205837.000000  205837.000000\n",
              "mean   4.729007e+05     NaN      81.168896       8.776658\n",
              "std    6.435045e+05     NaN      92.006550       5.933078\n",
              "min    9.987400e+04     NaN       0.000000       0.000000\n",
              "25%    1.597500e+05     NaN      30.000000       5.000000\n",
              "50%    2.282050e+05     NaN      70.000000       8.000000\n",
              "75%    2.828810e+05     NaN     115.000000      12.000000\n",
              "max    2.037785e+06     NaN   30553.000000      45.000000"
            ],
            "text/html": [
              "\n",
              "  <div id=\"df-4365d0d4-ffeb-4f0a-936a-93ab92951fd3\">\n",
              "    <div class=\"colab-df-container\">\n",
              "      <div>\n",
              "<style scoped>\n",
              "    .dataframe tbody tr th:only-of-type {\n",
              "        vertical-align: middle;\n",
              "    }\n",
              "\n",
              "    .dataframe tbody tr th {\n",
              "        vertical-align: top;\n",
              "    }\n",
              "\n",
              "    .dataframe thead th {\n",
              "        text-align: right;\n",
              "    }\n",
              "</style>\n",
              "<table border=\"1\" class=\"dataframe\">\n",
              "  <thead>\n",
              "    <tr style=\"text-align: right;\">\n",
              "      <th></th>\n",
              "      <th>idbase</th>\n",
              "      <th>numero</th>\n",
              "      <th>circonference</th>\n",
              "      <th>hauteur</th>\n",
              "    </tr>\n",
              "  </thead>\n",
              "  <tbody>\n",
              "    <tr>\n",
              "      <th>count</th>\n",
              "      <td>2.058370e+05</td>\n",
              "      <td>0.0</td>\n",
              "      <td>205837.000000</td>\n",
              "      <td>205837.000000</td>\n",
              "    </tr>\n",
              "    <tr>\n",
              "      <th>mean</th>\n",
              "      <td>4.729007e+05</td>\n",
              "      <td>NaN</td>\n",
              "      <td>81.168896</td>\n",
              "      <td>8.776658</td>\n",
              "    </tr>\n",
              "    <tr>\n",
              "      <th>std</th>\n",
              "      <td>6.435045e+05</td>\n",
              "      <td>NaN</td>\n",
              "      <td>92.006550</td>\n",
              "      <td>5.933078</td>\n",
              "    </tr>\n",
              "    <tr>\n",
              "      <th>min</th>\n",
              "      <td>9.987400e+04</td>\n",
              "      <td>NaN</td>\n",
              "      <td>0.000000</td>\n",
              "      <td>0.000000</td>\n",
              "    </tr>\n",
              "    <tr>\n",
              "      <th>25%</th>\n",
              "      <td>1.597500e+05</td>\n",
              "      <td>NaN</td>\n",
              "      <td>30.000000</td>\n",
              "      <td>5.000000</td>\n",
              "    </tr>\n",
              "    <tr>\n",
              "      <th>50%</th>\n",
              "      <td>2.282050e+05</td>\n",
              "      <td>NaN</td>\n",
              "      <td>70.000000</td>\n",
              "      <td>8.000000</td>\n",
              "    </tr>\n",
              "    <tr>\n",
              "      <th>75%</th>\n",
              "      <td>2.828810e+05</td>\n",
              "      <td>NaN</td>\n",
              "      <td>115.000000</td>\n",
              "      <td>12.000000</td>\n",
              "    </tr>\n",
              "    <tr>\n",
              "      <th>max</th>\n",
              "      <td>2.037785e+06</td>\n",
              "      <td>NaN</td>\n",
              "      <td>30553.000000</td>\n",
              "      <td>45.000000</td>\n",
              "    </tr>\n",
              "  </tbody>\n",
              "</table>\n",
              "</div>\n",
              "      <button class=\"colab-df-convert\" onclick=\"convertToInteractive('df-4365d0d4-ffeb-4f0a-936a-93ab92951fd3')\"\n",
              "              title=\"Convert this dataframe to an interactive table.\"\n",
              "              style=\"display:none;\">\n",
              "        \n",
              "  <svg xmlns=\"http://www.w3.org/2000/svg\" height=\"24px\"viewBox=\"0 0 24 24\"\n",
              "       width=\"24px\">\n",
              "    <path d=\"M0 0h24v24H0V0z\" fill=\"none\"/>\n",
              "    <path d=\"M18.56 5.44l.94 2.06.94-2.06 2.06-.94-2.06-.94-.94-2.06-.94 2.06-2.06.94zm-11 1L8.5 8.5l.94-2.06 2.06-.94-2.06-.94L8.5 2.5l-.94 2.06-2.06.94zm10 10l.94 2.06.94-2.06 2.06-.94-2.06-.94-.94-2.06-.94 2.06-2.06.94z\"/><path d=\"M17.41 7.96l-1.37-1.37c-.4-.4-.92-.59-1.43-.59-.52 0-1.04.2-1.43.59L10.3 9.45l-7.72 7.72c-.78.78-.78 2.05 0 2.83L4 21.41c.39.39.9.59 1.41.59.51 0 1.02-.2 1.41-.59l7.78-7.78 2.81-2.81c.8-.78.8-2.07 0-2.86zM5.41 20L4 18.59l7.72-7.72 1.47 1.35L5.41 20z\"/>\n",
              "  </svg>\n",
              "      </button>\n",
              "      \n",
              "  <style>\n",
              "    .colab-df-container {\n",
              "      display:flex;\n",
              "      flex-wrap:wrap;\n",
              "      gap: 12px;\n",
              "    }\n",
              "\n",
              "    .colab-df-convert {\n",
              "      background-color: #E8F0FE;\n",
              "      border: none;\n",
              "      border-radius: 50%;\n",
              "      cursor: pointer;\n",
              "      display: none;\n",
              "      fill: #1967D2;\n",
              "      height: 32px;\n",
              "      padding: 0 0 0 0;\n",
              "      width: 32px;\n",
              "    }\n",
              "\n",
              "    .colab-df-convert:hover {\n",
              "      background-color: #E2EBFA;\n",
              "      box-shadow: 0px 1px 2px rgba(60, 64, 67, 0.3), 0px 1px 3px 1px rgba(60, 64, 67, 0.15);\n",
              "      fill: #174EA6;\n",
              "    }\n",
              "\n",
              "    [theme=dark] .colab-df-convert {\n",
              "      background-color: #3B4455;\n",
              "      fill: #D2E3FC;\n",
              "    }\n",
              "\n",
              "    [theme=dark] .colab-df-convert:hover {\n",
              "      background-color: #434B5C;\n",
              "      box-shadow: 0px 1px 3px 1px rgba(0, 0, 0, 0.15);\n",
              "      filter: drop-shadow(0px 1px 2px rgba(0, 0, 0, 0.3));\n",
              "      fill: #FFFFFF;\n",
              "    }\n",
              "  </style>\n",
              "\n",
              "      <script>\n",
              "        const buttonEl =\n",
              "          document.querySelector('#df-4365d0d4-ffeb-4f0a-936a-93ab92951fd3 button.colab-df-convert');\n",
              "        buttonEl.style.display =\n",
              "          google.colab.kernel.accessAllowed ? 'block' : 'none';\n",
              "\n",
              "        async function convertToInteractive(key) {\n",
              "          const element = document.querySelector('#df-4365d0d4-ffeb-4f0a-936a-93ab92951fd3');\n",
              "          const dataTable =\n",
              "            await google.colab.kernel.invokeFunction('convertToInteractive',\n",
              "                                                     [key], {});\n",
              "          if (!dataTable) return;\n",
              "\n",
              "          const docLinkHtml = 'Like what you see? Visit the ' +\n",
              "            '<a target=\"_blank\" href=https://colab.research.google.com/notebooks/data_table.ipynb>data table notebook</a>'\n",
              "            + ' to learn more about interactive tables.';\n",
              "          element.innerHTML = '';\n",
              "          dataTable['output_type'] = 'display_data';\n",
              "          await google.colab.output.renderOutput(dataTable, element);\n",
              "          const docLink = document.createElement('div');\n",
              "          docLink.innerHTML = docLinkHtml;\n",
              "          element.appendChild(docLink);\n",
              "        }\n",
              "      </script>\n",
              "    </div>\n",
              "  </div>\n",
              "  "
            ]
          },
          "metadata": {},
          "execution_count": 557
        }
      ],
      "source": [
        "# pour les valeurs numériques : \n",
        "\n",
        "df.describe()"
      ]
    },
    {
      "cell_type": "code",
      "execution_count": 558,
      "id": "6055677f",
      "metadata": {
        "scrolled": true,
        "id": "6055677f",
        "outputId": "88172a49-3a42-4d43-aa22-65e4e77a21f4",
        "colab": {
          "base_uri": "https://localhost:8080/",
          "height": 326
        }
      },
      "outputs": [
        {
          "output_type": "execute_result",
          "data": {
            "text/plain": [
              "          type domanialite   arrondissement complement  \\\n",
              "count   205837      205837           205837      49841   \n",
              "unique       1           9               25       4516   \n",
              "top      Arbre  Alignement  PARIS 15E ARRDT          2   \n",
              "freq    205837      106608            17312        741   \n",
              "\n",
              "                                               lieu idemplacement  libelle  \\\n",
              "count                                        205837        205837   204751   \n",
              "unique                                         7315         67295      196   \n",
              "top     PARC FLORAL DE PARIS / ROUTE DE LA PYRAMIDE     000101001  Platane   \n",
              "freq                                           2962          1866    42534   \n",
              "\n",
              "           genre       espece        variete   stade remarquable  \\\n",
              "count     205837       203516          38838  157711      180946   \n",
              "unique       176          548            482       4           2   \n",
              "top     Platanus  x hispanica  ''Baumannii''  Adulte         NON   \n",
              "freq       42571        36473           4695   77468      180770   \n",
              "\n",
              "                               geo_point_2d  \n",
              "count                                205837  \n",
              "unique                               205829  \n",
              "top     48.83853874307851,2.439349992164275  \n",
              "freq                                      2  "
            ],
            "text/html": [
              "\n",
              "  <div id=\"df-be50cd7c-8df7-4365-8822-e053d33de168\">\n",
              "    <div class=\"colab-df-container\">\n",
              "      <div>\n",
              "<style scoped>\n",
              "    .dataframe tbody tr th:only-of-type {\n",
              "        vertical-align: middle;\n",
              "    }\n",
              "\n",
              "    .dataframe tbody tr th {\n",
              "        vertical-align: top;\n",
              "    }\n",
              "\n",
              "    .dataframe thead th {\n",
              "        text-align: right;\n",
              "    }\n",
              "</style>\n",
              "<table border=\"1\" class=\"dataframe\">\n",
              "  <thead>\n",
              "    <tr style=\"text-align: right;\">\n",
              "      <th></th>\n",
              "      <th>type</th>\n",
              "      <th>domanialite</th>\n",
              "      <th>arrondissement</th>\n",
              "      <th>complement</th>\n",
              "      <th>lieu</th>\n",
              "      <th>idemplacement</th>\n",
              "      <th>libelle</th>\n",
              "      <th>genre</th>\n",
              "      <th>espece</th>\n",
              "      <th>variete</th>\n",
              "      <th>stade</th>\n",
              "      <th>remarquable</th>\n",
              "      <th>geo_point_2d</th>\n",
              "    </tr>\n",
              "  </thead>\n",
              "  <tbody>\n",
              "    <tr>\n",
              "      <th>count</th>\n",
              "      <td>205837</td>\n",
              "      <td>205837</td>\n",
              "      <td>205837</td>\n",
              "      <td>49841</td>\n",
              "      <td>205837</td>\n",
              "      <td>205837</td>\n",
              "      <td>204751</td>\n",
              "      <td>205837</td>\n",
              "      <td>203516</td>\n",
              "      <td>38838</td>\n",
              "      <td>157711</td>\n",
              "      <td>180946</td>\n",
              "      <td>205837</td>\n",
              "    </tr>\n",
              "    <tr>\n",
              "      <th>unique</th>\n",
              "      <td>1</td>\n",
              "      <td>9</td>\n",
              "      <td>25</td>\n",
              "      <td>4516</td>\n",
              "      <td>7315</td>\n",
              "      <td>67295</td>\n",
              "      <td>196</td>\n",
              "      <td>176</td>\n",
              "      <td>548</td>\n",
              "      <td>482</td>\n",
              "      <td>4</td>\n",
              "      <td>2</td>\n",
              "      <td>205829</td>\n",
              "    </tr>\n",
              "    <tr>\n",
              "      <th>top</th>\n",
              "      <td>Arbre</td>\n",
              "      <td>Alignement</td>\n",
              "      <td>PARIS 15E ARRDT</td>\n",
              "      <td>2</td>\n",
              "      <td>PARC FLORAL DE PARIS / ROUTE DE LA PYRAMIDE</td>\n",
              "      <td>000101001</td>\n",
              "      <td>Platane</td>\n",
              "      <td>Platanus</td>\n",
              "      <td>x hispanica</td>\n",
              "      <td>''Baumannii''</td>\n",
              "      <td>Adulte</td>\n",
              "      <td>NON</td>\n",
              "      <td>48.83853874307851,2.439349992164275</td>\n",
              "    </tr>\n",
              "    <tr>\n",
              "      <th>freq</th>\n",
              "      <td>205837</td>\n",
              "      <td>106608</td>\n",
              "      <td>17312</td>\n",
              "      <td>741</td>\n",
              "      <td>2962</td>\n",
              "      <td>1866</td>\n",
              "      <td>42534</td>\n",
              "      <td>42571</td>\n",
              "      <td>36473</td>\n",
              "      <td>4695</td>\n",
              "      <td>77468</td>\n",
              "      <td>180770</td>\n",
              "      <td>2</td>\n",
              "    </tr>\n",
              "  </tbody>\n",
              "</table>\n",
              "</div>\n",
              "      <button class=\"colab-df-convert\" onclick=\"convertToInteractive('df-be50cd7c-8df7-4365-8822-e053d33de168')\"\n",
              "              title=\"Convert this dataframe to an interactive table.\"\n",
              "              style=\"display:none;\">\n",
              "        \n",
              "  <svg xmlns=\"http://www.w3.org/2000/svg\" height=\"24px\"viewBox=\"0 0 24 24\"\n",
              "       width=\"24px\">\n",
              "    <path d=\"M0 0h24v24H0V0z\" fill=\"none\"/>\n",
              "    <path d=\"M18.56 5.44l.94 2.06.94-2.06 2.06-.94-2.06-.94-.94-2.06-.94 2.06-2.06.94zm-11 1L8.5 8.5l.94-2.06 2.06-.94-2.06-.94L8.5 2.5l-.94 2.06-2.06.94zm10 10l.94 2.06.94-2.06 2.06-.94-2.06-.94-.94-2.06-.94 2.06-2.06.94z\"/><path d=\"M17.41 7.96l-1.37-1.37c-.4-.4-.92-.59-1.43-.59-.52 0-1.04.2-1.43.59L10.3 9.45l-7.72 7.72c-.78.78-.78 2.05 0 2.83L4 21.41c.39.39.9.59 1.41.59.51 0 1.02-.2 1.41-.59l7.78-7.78 2.81-2.81c.8-.78.8-2.07 0-2.86zM5.41 20L4 18.59l7.72-7.72 1.47 1.35L5.41 20z\"/>\n",
              "  </svg>\n",
              "      </button>\n",
              "      \n",
              "  <style>\n",
              "    .colab-df-container {\n",
              "      display:flex;\n",
              "      flex-wrap:wrap;\n",
              "      gap: 12px;\n",
              "    }\n",
              "\n",
              "    .colab-df-convert {\n",
              "      background-color: #E8F0FE;\n",
              "      border: none;\n",
              "      border-radius: 50%;\n",
              "      cursor: pointer;\n",
              "      display: none;\n",
              "      fill: #1967D2;\n",
              "      height: 32px;\n",
              "      padding: 0 0 0 0;\n",
              "      width: 32px;\n",
              "    }\n",
              "\n",
              "    .colab-df-convert:hover {\n",
              "      background-color: #E2EBFA;\n",
              "      box-shadow: 0px 1px 2px rgba(60, 64, 67, 0.3), 0px 1px 3px 1px rgba(60, 64, 67, 0.15);\n",
              "      fill: #174EA6;\n",
              "    }\n",
              "\n",
              "    [theme=dark] .colab-df-convert {\n",
              "      background-color: #3B4455;\n",
              "      fill: #D2E3FC;\n",
              "    }\n",
              "\n",
              "    [theme=dark] .colab-df-convert:hover {\n",
              "      background-color: #434B5C;\n",
              "      box-shadow: 0px 1px 3px 1px rgba(0, 0, 0, 0.15);\n",
              "      filter: drop-shadow(0px 1px 2px rgba(0, 0, 0, 0.3));\n",
              "      fill: #FFFFFF;\n",
              "    }\n",
              "  </style>\n",
              "\n",
              "      <script>\n",
              "        const buttonEl =\n",
              "          document.querySelector('#df-be50cd7c-8df7-4365-8822-e053d33de168 button.colab-df-convert');\n",
              "        buttonEl.style.display =\n",
              "          google.colab.kernel.accessAllowed ? 'block' : 'none';\n",
              "\n",
              "        async function convertToInteractive(key) {\n",
              "          const element = document.querySelector('#df-be50cd7c-8df7-4365-8822-e053d33de168');\n",
              "          const dataTable =\n",
              "            await google.colab.kernel.invokeFunction('convertToInteractive',\n",
              "                                                     [key], {});\n",
              "          if (!dataTable) return;\n",
              "\n",
              "          const docLinkHtml = 'Like what you see? Visit the ' +\n",
              "            '<a target=\"_blank\" href=https://colab.research.google.com/notebooks/data_table.ipynb>data table notebook</a>'\n",
              "            + ' to learn more about interactive tables.';\n",
              "          element.innerHTML = '';\n",
              "          dataTable['output_type'] = 'display_data';\n",
              "          await google.colab.output.renderOutput(dataTable, element);\n",
              "          const docLink = document.createElement('div');\n",
              "          docLink.innerHTML = docLinkHtml;\n",
              "          element.appendChild(docLink);\n",
              "        }\n",
              "      </script>\n",
              "    </div>\n",
              "  </div>\n",
              "  "
            ]
          },
          "metadata": {},
          "execution_count": 558
        }
      ],
      "source": [
        "# Pour les colonnes de type string : \n",
        "\n",
        "df.describe(include=\"object\")"
      ]
    },
    {
      "cell_type": "markdown",
      "source": [
        "On peut également effectuer une rapide visualisation des données numériques."
      ],
      "metadata": {
        "id": "CM8kDlRnG-Pj"
      },
      "id": "CM8kDlRnG-Pj"
    },
    {
      "cell_type": "code",
      "execution_count": 559,
      "id": "fe99701e",
      "metadata": {
        "id": "fe99701e",
        "outputId": "03333ca8-85b5-4332-f471-90f5e1d46819",
        "colab": {
          "base_uri": "https://localhost:8080/",
          "height": 741
        }
      },
      "outputs": [
        {
          "output_type": "execute_result",
          "data": {
            "text/plain": [
              "<seaborn.axisgrid.PairGrid at 0x7f9f39d2df50>"
            ]
          },
          "metadata": {},
          "execution_count": 559
        },
        {
          "output_type": "display_data",
          "data": {
            "text/plain": [
              "<Figure size 720x720 with 20 Axes>"
            ],
            "image/png": "[encoded data removed]"
          },
          "metadata": {}
        }
      ],
      "source": [
        "sns.pairplot(df)"
      ]
    },
    {
      "cell_type": "markdown",
      "source": [
        "Et calculer la matrice de correlation."
      ],
      "metadata": {
        "id": "0ogHpXUdHERT"
      },
      "id": "0ogHpXUdHERT"
    },
    {
      "cell_type": "code",
      "execution_count": 560,
      "id": "82f07bd2",
      "metadata": {
        "id": "82f07bd2",
        "outputId": "f86f598a-3c24-4ec6-9640-56865bb135a8",
        "colab": {
          "base_uri": "https://localhost:8080/",
          "height": 326
        }
      },
      "outputs": [
        {
          "output_type": "display_data",
          "data": {
            "text/plain": [
              "<Figure size 504x360 with 2 Axes>"
            ],
            "image/png": "[encoded data removed]"
          },
          "metadata": {}
        }
      ],
      "source": [
        "corr = df.corr()\n",
        "mask = np.zeros_like(corr)\n",
        "mask[np.triu_indices_from(mask)] = True\n",
        "with sns.axes_style(\"white\"):\n",
        "    f, ax = plt.subplots(figsize=(7, 5))\n",
        "    ax = sns.heatmap(corr, mask=mask, vmax=1, vmin=-1, annot=True, fmt=\".2f\", cmap=\"coolwarm\", square=True)\n"
      ]
    },
    {
      "cell_type": "markdown",
      "id": "1d205ef8",
      "metadata": {
        "id": "1d205ef8"
      },
      "source": [
        "# 3. Cleaning"
      ]
    },
    {
      "cell_type": "markdown",
      "source": [
        "Maintenant que nous connaissons un peu nos données, nous allons pouvoir faire un peu de cleaning."
      ],
      "metadata": {
        "id": "j8Y-LxQeHPE2"
      },
      "id": "j8Y-LxQeHPE2"
    },
    {
      "cell_type": "markdown",
      "source": [
        "## 3.1 Select platanes only"
      ],
      "metadata": {
        "id": "RCPr3i6w5Uwy"
      },
      "id": "RCPr3i6w5Uwy"
    },
    {
      "cell_type": "markdown",
      "source": [
        "Tout d'abord, selectionnons uninquement les arbres de type platane."
      ],
      "metadata": {
        "id": "MPKowXr2HWPW"
      },
      "id": "MPKowXr2HWPW"
    },
    {
      "cell_type": "code",
      "source": [
        "tmp = df.libelle.value_counts()\n",
        "tmp"
      ],
      "metadata": {
        "colab": {
          "base_uri": "https://localhost:8080/"
        },
        "id": "4AohDpVM5VDY",
        "outputId": "b1b54a1a-de3c-47d9-ed54-c45e284e5275"
      },
      "id": "4AohDpVM5VDY",
      "execution_count": 561,
      "outputs": [
        {
          "output_type": "execute_result",
          "data": {
            "text/plain": [
              "Platane             42534\n",
              "Marronnier          24884\n",
              "Tilleul             21907\n",
              "Erable              19019\n",
              "Sophora             11618\n",
              "                    ...  \n",
              "Arbre aux perles        1\n",
              "Idesia                  1\n",
              "Noisetier fruit         1\n",
              "Euscaphis               1\n",
              "Seringas                1\n",
              "Name: libelle, Length: 196, dtype: int64"
            ]
          },
          "metadata": {},
          "execution_count": 561
        }
      ]
    },
    {
      "cell_type": "code",
      "source": [
        "tmp[tmp>100].head(30)"
      ],
      "metadata": {
        "colab": {
          "base_uri": "https://localhost:8080/"
        },
        "id": "ztZer3nl5Yom",
        "outputId": "ecf30c56-275f-43c6-d028-0838f4be3add"
      },
      "id": "ztZer3nl5Yom",
      "execution_count": 562,
      "outputs": [
        {
          "output_type": "execute_result",
          "data": {
            "text/plain": [
              "Platane                    42534\n",
              "Marronnier                 24884\n",
              "Tilleul                    21907\n",
              "Erable                     19019\n",
              "Sophora                    11618\n",
              "Frêne                       4942\n",
              "Pin                         4903\n",
              "Micocoulier                 4549\n",
              "Chêne                       4528\n",
              "Cerisier à fleurs           4005\n",
              "Poirier à fleurs            3751\n",
              "Charme                      3421\n",
              "Noisetier de Byzance        3351\n",
              "Peuplier                    3230\n",
              "Orme                        2254\n",
              "Robinier                    2224\n",
              "If                          2071\n",
              "Bouleau                     2057\n",
              "Hêtre                       1899\n",
              "Fevier                      1736\n",
              "Paulownia                   1350\n",
              "Magnolia                    1274\n",
              "Cyprès                      1216\n",
              "Noyer                       1208\n",
              "Pommier à fruits            1167\n",
              "Faux-cyprès                 1133\n",
              "Arbre de Judée              1119\n",
              "Tulipier                    1052\n",
              "Arbre aux quarante écus     1026\n",
              "Frêne à fleurs              1014\n",
              "Name: libelle, dtype: int64"
            ]
          },
          "metadata": {},
          "execution_count": 562
        }
      ]
    },
    {
      "cell_type": "code",
      "source": [
        "df = df.loc[df.libelle == \"Platane\"]\n",
        "df.libelle.value_counts()"
      ],
      "metadata": {
        "colab": {
          "base_uri": "https://localhost:8080/"
        },
        "id": "Pddfrn006V8R",
        "outputId": "77061e71-cdab-4b41-fd9f-edcc562be2e5"
      },
      "id": "Pddfrn006V8R",
      "execution_count": 563,
      "outputs": [
        {
          "output_type": "execute_result",
          "data": {
            "text/plain": [
              "Platane    42534\n",
              "Name: libelle, dtype: int64"
            ]
          },
          "metadata": {},
          "execution_count": 563
        }
      ]
    },
    {
      "cell_type": "markdown",
      "id": "f5ba8af1",
      "metadata": {
        "id": "f5ba8af1"
      },
      "source": [
        "## 3.1 Drop NaN"
      ]
    },
    {
      "cell_type": "markdown",
      "source": [
        "Nous allons ensuite supprimer les colonnes ayant plus de 50% dfe valeurs manquantes.\n",
        "\n",
        "\n",
        "ATTENTION : Cette opération est faites de manière arbitraire dans le cadre de ce travail, mais le traitement des valeurs manquantes est en général un sujet très important qu'il ne faut pas négliger."
      ],
      "metadata": {
        "id": "H8g4G9fGHnPx"
      },
      "id": "H8g4G9fGHnPx"
    },
    {
      "cell_type": "markdown",
      "source": [
        "Grace à la variable `tmp` on peut venir effectuer des filtres sur les colonnes."
      ],
      "metadata": {
        "id": "KKmsGvqeIEbG"
      },
      "id": "KKmsGvqeIEbG"
    },
    {
      "cell_type": "code",
      "execution_count": 564,
      "id": "428c8e6a",
      "metadata": {
        "id": "428c8e6a",
        "outputId": "d8903ac3-0bdd-4d94-d6f5-def81999395a",
        "colab": {
          "base_uri": "https://localhost:8080/"
        }
      },
      "outputs": [
        {
          "output_type": "execute_result",
          "data": {
            "text/plain": [
              "numero            1.000000\n",
              "variete           0.993958\n",
              "complement        0.686745\n",
              "stade             0.092091\n",
              "remarquable       0.030893\n",
              "espece            0.000094\n",
              "idbase            0.000000\n",
              "hauteur           0.000000\n",
              "circonference     0.000000\n",
              "libelle           0.000000\n",
              "genre             0.000000\n",
              "type              0.000000\n",
              "idemplacement     0.000000\n",
              "lieu              0.000000\n",
              "arrondissement    0.000000\n",
              "domanialite       0.000000\n",
              "geo_point_2d      0.000000\n",
              "dtype: float64"
            ]
          },
          "metadata": {},
          "execution_count": 564
        }
      ],
      "source": [
        "tmp = df.isna().mean().sort_values(ascending=False)\n",
        "tmp"
      ]
    },
    {
      "cell_type": "code",
      "execution_count": 565,
      "id": "36af2e51",
      "metadata": {
        "id": "36af2e51",
        "outputId": "6dacb922-f269-460b-e962-6e39c8937240",
        "colab": {
          "base_uri": "https://localhost:8080/"
        }
      },
      "outputs": [
        {
          "output_type": "execute_result",
          "data": {
            "text/plain": [
              "numero        1.000000\n",
              "variete       0.993958\n",
              "complement    0.686745\n",
              "dtype: float64"
            ]
          },
          "metadata": {},
          "execution_count": 565
        }
      ],
      "source": [
        "tmp[tmp>0.5]"
      ]
    },
    {
      "cell_type": "code",
      "execution_count": 566,
      "id": "f338eb58",
      "metadata": {
        "id": "f338eb58",
        "outputId": "3c2dbea7-9bc8-47fe-9e04-ca4ecb029194",
        "colab": {
          "base_uri": "https://localhost:8080/"
        }
      },
      "outputs": [
        {
          "output_type": "execute_result",
          "data": {
            "text/plain": [
              "Index(['numero', 'variete', 'complement'], dtype='object')"
            ]
          },
          "metadata": {},
          "execution_count": 566
        }
      ],
      "source": [
        "tmp[tmp>0.5].index"
      ]
    },
    {
      "cell_type": "code",
      "execution_count": 567,
      "id": "937ee989",
      "metadata": {
        "id": "937ee989",
        "outputId": "c2b018b8-e3fd-431b-ff37-b94d65eec5e8",
        "colab": {
          "base_uri": "https://localhost:8080/",
          "height": 713
        }
      },
      "outputs": [
        {
          "output_type": "execute_result",
          "data": {
            "text/plain": [
              "        idbase   type domanialite    arrondissement  \\\n",
              "3       245018  Arbre  Alignement   PARIS 16E ARRDT   \n",
              "10      284539  Arbre  Alignement   PARIS 18E ARRDT   \n",
              "11      295348  Arbre  Alignement    PARIS 5E ARRDT   \n",
              "17      220764  Arbre  Alignement   PARIS 13E ARRDT   \n",
              "18      240302  Arbre  Alignement   PARIS 14E ARRDT   \n",
              "...        ...    ...         ...               ...   \n",
              "205824  219070  Arbre  Alignement    PARIS 7E ARRDT   \n",
              "205829  224942  Arbre  Alignement   PARIS 16E ARRDT   \n",
              "205832  277196  Arbre  Alignement    PARIS 7E ARRDT   \n",
              "205835  218657  Arbre  Alignement  BOIS DE BOULOGNE   \n",
              "205836  220705  Arbre  Alignement   PARIS 14E ARRDT   \n",
              "\n",
              "                               lieu idemplacement  libelle     genre  \\\n",
              "3                  BOULEVARD LANNES     000701008  Platane  Platanus   \n",
              "10                    BOULEVARD NEY     001402003  Platane  Platanus   \n",
              "11             QUAI DE LA TOURNELLE     000602021  Platane  Platanus   \n",
              "17         BOULEVARD VINCENT AURIOL     001101006  Platane  Platanus   \n",
              "18                  BOULEVARD BRUNE     000501003  Platane  Platanus   \n",
              "...                             ...           ...      ...       ...   \n",
              "205824               AVENUE DE SAXE     000103010  Platane  Platanus   \n",
              "205829  BOULEVARD DE L AMIRAL BRUIX     000202019  Platane  Platanus   \n",
              "205832       AVENUE EMILE POUVILLON     000402002  Platane  Platanus   \n",
              "205835       AVENUE DE L HIPPODROME     000101008  Platane  Platanus   \n",
              "205836             AVENUE RENE COTY     000401006  Platane  Platanus   \n",
              "\n",
              "              espece  circonference  hauteur                stade remarquable  \\\n",
              "3        x hispanica            180       15               Adulte         NON   \n",
              "10       x hispanica            145       16               Adulte         NON   \n",
              "11       x hispanica             70       12  Jeune (arbre)Adulte         NON   \n",
              "17       x hispanica             45        5  Jeune (arbre)Adulte         NON   \n",
              "18       x hispanica            125       10  Jeune (arbre)Adulte         NON   \n",
              "...              ...            ...      ...                  ...         ...   \n",
              "205824   x hispanica             45        8        Jeune (arbre)         NON   \n",
              "205829   x hispanica            115       15               Adulte         NON   \n",
              "205832  occidentalis            180       25               Adulte         NON   \n",
              "205835    orientalis            161       16               Adulte         NON   \n",
              "205836   x hispanica            180       15               Adulte         NON   \n",
              "\n",
              "                                 geo_point_2d  \n",
              "3         48.86388335089906,2.269408781698171  \n",
              "10        48.89837840334469,2.349379924095419  \n",
              "11      48.851074139917436,2.3517112241372082  \n",
              "17          48.832468257467,2.360855065450094  \n",
              "18         48.8275814560238,2.306488731332329  \n",
              "...                                       ...  \n",
              "205824   48.849955858313365,2.307611754116103  \n",
              "205829    48.87569442820602,2.280308039630593  \n",
              "205832   48.857501544418604,2.298694846390691  \n",
              "205835   48.858427453525294,2.256386261184969  \n",
              "205836    48.82939652307256,2.334305855478159  \n",
              "\n",
              "[42534 rows x 14 columns]"
            ],
            "text/html": [
              "\n",
              "  <div id=\"df-25168c18-eb80-41cb-8178-c343d5d7e8f6\">\n",
              "    <div class=\"colab-df-container\">\n",
              "      <div>\n",
              "<style scoped>\n",
              "    .dataframe tbody tr th:only-of-type {\n",
              "        vertical-align: middle;\n",
              "    }\n",
              "\n",
              "    .dataframe tbody tr th {\n",
              "        vertical-align: top;\n",
              "    }\n",
              "\n",
              "    .dataframe thead th {\n",
              "        text-align: right;\n",
              "    }\n",
              "</style>\n",
              "<table border=\"1\" class=\"dataframe\">\n",
              "  <thead>\n",
              "    <tr style=\"text-align: right;\">\n",
              "      <th></th>\n",
              "      <th>idbase</th>\n",
              "      <th>type</th>\n",
              "      <th>domanialite</th>\n",
              "      <th>arrondissement</th>\n",
              "      <th>lieu</th>\n",
              "      <th>idemplacement</th>\n",
              "      <th>libelle</th>\n",
              "      <th>genre</th>\n",
              "      <th>espece</th>\n",
              "      <th>circonference</th>\n",
              "      <th>hauteur</th>\n",
              "      <th>stade</th>\n",
              "      <th>remarquable</th>\n",
              "      <th>geo_point_2d</th>\n",
              "    </tr>\n",
              "  </thead>\n",
              "  <tbody>\n",
              "    <tr>\n",
              "      <th>3</th>\n",
              "      <td>245018</td>\n",
              "      <td>Arbre</td>\n",
              "      <td>Alignement</td>\n",
              "      <td>PARIS 16E ARRDT</td>\n",
              "      <td>BOULEVARD LANNES</td>\n",
              "      <td>000701008</td>\n",
              "      <td>Platane</td>\n",
              "      <td>Platanus</td>\n",
              "      <td>x hispanica</td>\n",
              "      <td>180</td>\n",
              "      <td>15</td>\n",
              "      <td>Adulte</td>\n",
              "      <td>NON</td>\n",
              "      <td>48.86388335089906,2.269408781698171</td>\n",
              "    </tr>\n",
              "    <tr>\n",
              "      <th>10</th>\n",
              "      <td>284539</td>\n",
              "      <td>Arbre</td>\n",
              "      <td>Alignement</td>\n",
              "      <td>PARIS 18E ARRDT</td>\n",
              "      <td>BOULEVARD NEY</td>\n",
              "      <td>001402003</td>\n",
              "      <td>Platane</td>\n",
              "      <td>Platanus</td>\n",
              "      <td>x hispanica</td>\n",
              "      <td>145</td>\n",
              "      <td>16</td>\n",
              "      <td>Adulte</td>\n",
              "      <td>NON</td>\n",
              "      <td>48.89837840334469,2.349379924095419</td>\n",
              "    </tr>\n",
              "    <tr>\n",
              "      <th>11</th>\n",
              "      <td>295348</td>\n",
              "      <td>Arbre</td>\n",
              "      <td>Alignement</td>\n",
              "      <td>PARIS 5E ARRDT</td>\n",
              "      <td>QUAI DE LA TOURNELLE</td>\n",
              "      <td>000602021</td>\n",
              "      <td>Platane</td>\n",
              "      <td>Platanus</td>\n",
              "      <td>x hispanica</td>\n",
              "      <td>70</td>\n",
              "      <td>12</td>\n",
              "      <td>Jeune (arbre)Adulte</td>\n",
              "      <td>NON</td>\n",
              "      <td>48.851074139917436,2.3517112241372082</td>\n",
              "    </tr>\n",
              "    <tr>\n",
              "      <th>17</th>\n",
              "      <td>220764</td>\n",
              "      <td>Arbre</td>\n",
              "      <td>Alignement</td>\n",
              "      <td>PARIS 13E ARRDT</td>\n",
              "      <td>BOULEVARD VINCENT AURIOL</td>\n",
              "      <td>001101006</td>\n",
              "      <td>Platane</td>\n",
              "      <td>Platanus</td>\n",
              "      <td>x hispanica</td>\n",
              "      <td>45</td>\n",
              "      <td>5</td>\n",
              "      <td>Jeune (arbre)Adulte</td>\n",
              "      <td>NON</td>\n",
              "      <td>48.832468257467,2.360855065450094</td>\n",
              "    </tr>\n",
              "    <tr>\n",
              "      <th>18</th>\n",
              "      <td>240302</td>\n",
              "      <td>Arbre</td>\n",
              "      <td>Alignement</td>\n",
              "      <td>PARIS 14E ARRDT</td>\n",
              "      <td>BOULEVARD BRUNE</td>\n",
              "      <td>000501003</td>\n",
              "      <td>Platane</td>\n",
              "      <td>Platanus</td>\n",
              "      <td>x hispanica</td>\n",
              "      <td>125</td>\n",
              "      <td>10</td>\n",
              "      <td>Jeune (arbre)Adulte</td>\n",
              "      <td>NON</td>\n",
              "      <td>48.8275814560238,2.306488731332329</td>\n",
              "    </tr>\n",
              "    <tr>\n",
              "      <th>...</th>\n",
              "      <td>...</td>\n",
              "      <td>...</td>\n",
              "      <td>...</td>\n",
              "      <td>...</td>\n",
              "      <td>...</td>\n",
              "      <td>...</td>\n",
              "      <td>...</td>\n",
              "      <td>...</td>\n",
              "      <td>...</td>\n",
              "      <td>...</td>\n",
              "      <td>...</td>\n",
              "      <td>...</td>\n",
              "      <td>...</td>\n",
              "      <td>...</td>\n",
              "    </tr>\n",
              "    <tr>\n",
              "      <th>205824</th>\n",
              "      <td>219070</td>\n",
              "      <td>Arbre</td>\n",
              "      <td>Alignement</td>\n",
              "      <td>PARIS 7E ARRDT</td>\n",
              "      <td>AVENUE DE SAXE</td>\n",
              "      <td>000103010</td>\n",
              "      <td>Platane</td>\n",
              "      <td>Platanus</td>\n",
              "      <td>x hispanica</td>\n",
              "      <td>45</td>\n",
              "      <td>8</td>\n",
              "      <td>Jeune (arbre)</td>\n",
              "      <td>NON</td>\n",
              "      <td>48.849955858313365,2.307611754116103</td>\n",
              "    </tr>\n",
              "    <tr>\n",
              "      <th>205829</th>\n",
              "      <td>224942</td>\n",
              "      <td>Arbre</td>\n",
              "      <td>Alignement</td>\n",
              "      <td>PARIS 16E ARRDT</td>\n",
              "      <td>BOULEVARD DE L AMIRAL BRUIX</td>\n",
              "      <td>000202019</td>\n",
              "      <td>Platane</td>\n",
              "      <td>Platanus</td>\n",
              "      <td>x hispanica</td>\n",
              "      <td>115</td>\n",
              "      <td>15</td>\n",
              "      <td>Adulte</td>\n",
              "      <td>NON</td>\n",
              "      <td>48.87569442820602,2.280308039630593</td>\n",
              "    </tr>\n",
              "    <tr>\n",
              "      <th>205832</th>\n",
              "      <td>277196</td>\n",
              "      <td>Arbre</td>\n",
              "      <td>Alignement</td>\n",
              "      <td>PARIS 7E ARRDT</td>\n",
              "      <td>AVENUE EMILE POUVILLON</td>\n",
              "      <td>000402002</td>\n",
              "      <td>Platane</td>\n",
              "      <td>Platanus</td>\n",
              "      <td>occidentalis</td>\n",
              "      <td>180</td>\n",
              "      <td>25</td>\n",
              "      <td>Adulte</td>\n",
              "      <td>NON</td>\n",
              "      <td>48.857501544418604,2.298694846390691</td>\n",
              "    </tr>\n",
              "    <tr>\n",
              "      <th>205835</th>\n",
              "      <td>218657</td>\n",
              "      <td>Arbre</td>\n",
              "      <td>Alignement</td>\n",
              "      <td>BOIS DE BOULOGNE</td>\n",
              "      <td>AVENUE DE L HIPPODROME</td>\n",
              "      <td>000101008</td>\n",
              "      <td>Platane</td>\n",
              "      <td>Platanus</td>\n",
              "      <td>orientalis</td>\n",
              "      <td>161</td>\n",
              "      <td>16</td>\n",
              "      <td>Adulte</td>\n",
              "      <td>NON</td>\n",
              "      <td>48.858427453525294,2.256386261184969</td>\n",
              "    </tr>\n",
              "    <tr>\n",
              "      <th>205836</th>\n",
              "      <td>220705</td>\n",
              "      <td>Arbre</td>\n",
              "      <td>Alignement</td>\n",
              "      <td>PARIS 14E ARRDT</td>\n",
              "      <td>AVENUE RENE COTY</td>\n",
              "      <td>000401006</td>\n",
              "      <td>Platane</td>\n",
              "      <td>Platanus</td>\n",
              "      <td>x hispanica</td>\n",
              "      <td>180</td>\n",
              "      <td>15</td>\n",
              "      <td>Adulte</td>\n",
              "      <td>NON</td>\n",
              "      <td>48.82939652307256,2.334305855478159</td>\n",
              "    </tr>\n",
              "  </tbody>\n",
              "</table>\n",
              "<p>42534 rows × 14 columns</p>\n",
              "</div>\n",
              "      <button class=\"colab-df-convert\" onclick=\"convertToInteractive('df-25168c18-eb80-41cb-8178-c343d5d7e8f6')\"\n",
              "              title=\"Convert this dataframe to an interactive table.\"\n",
              "              style=\"display:none;\">\n",
              "        \n",
              "  <svg xmlns=\"http://www.w3.org/2000/svg\" height=\"24px\"viewBox=\"0 0 24 24\"\n",
              "       width=\"24px\">\n",
              "    <path d=\"M0 0h24v24H0V0z\" fill=\"none\"/>\n",
              "    <path d=\"M18.56 5.44l.94 2.06.94-2.06 2.06-.94-2.06-.94-.94-2.06-.94 2.06-2.06.94zm-11 1L8.5 8.5l.94-2.06 2.06-.94-2.06-.94L8.5 2.5l-.94 2.06-2.06.94zm10 10l.94 2.06.94-2.06 2.06-.94-2.06-.94-.94-2.06-.94 2.06-2.06.94z\"/><path d=\"M17.41 7.96l-1.37-1.37c-.4-.4-.92-.59-1.43-.59-.52 0-1.04.2-1.43.59L10.3 9.45l-7.72 7.72c-.78.78-.78 2.05 0 2.83L4 21.41c.39.39.9.59 1.41.59.51 0 1.02-.2 1.41-.59l7.78-7.78 2.81-2.81c.8-.78.8-2.07 0-2.86zM5.41 20L4 18.59l7.72-7.72 1.47 1.35L5.41 20z\"/>\n",
              "  </svg>\n",
              "      </button>\n",
              "      \n",
              "  <style>\n",
              "    .colab-df-container {\n",
              "      display:flex;\n",
              "      flex-wrap:wrap;\n",
              "      gap: 12px;\n",
              "    }\n",
              "\n",
              "    .colab-df-convert {\n",
              "      background-color: #E8F0FE;\n",
              "      border: none;\n",
              "      border-radius: 50%;\n",
              "      cursor: pointer;\n",
              "      display: none;\n",
              "      fill: #1967D2;\n",
              "      height: 32px;\n",
              "      padding: 0 0 0 0;\n",
              "      width: 32px;\n",
              "    }\n",
              "\n",
              "    .colab-df-convert:hover {\n",
              "      background-color: #E2EBFA;\n",
              "      box-shadow: 0px 1px 2px rgba(60, 64, 67, 0.3), 0px 1px 3px 1px rgba(60, 64, 67, 0.15);\n",
              "      fill: #174EA6;\n",
              "    }\n",
              "\n",
              "    [theme=dark] .colab-df-convert {\n",
              "      background-color: #3B4455;\n",
              "      fill: #D2E3FC;\n",
              "    }\n",
              "\n",
              "    [theme=dark] .colab-df-convert:hover {\n",
              "      background-color: #434B5C;\n",
              "      box-shadow: 0px 1px 3px 1px rgba(0, 0, 0, 0.15);\n",
              "      filter: drop-shadow(0px 1px 2px rgba(0, 0, 0, 0.3));\n",
              "      fill: #FFFFFF;\n",
              "    }\n",
              "  </style>\n",
              "\n",
              "      <script>\n",
              "        const buttonEl =\n",
              "          document.querySelector('#df-25168c18-eb80-41cb-8178-c343d5d7e8f6 button.colab-df-convert');\n",
              "        buttonEl.style.display =\n",
              "          google.colab.kernel.accessAllowed ? 'block' : 'none';\n",
              "\n",
              "        async function convertToInteractive(key) {\n",
              "          const element = document.querySelector('#df-25168c18-eb80-41cb-8178-c343d5d7e8f6');\n",
              "          const dataTable =\n",
              "            await google.colab.kernel.invokeFunction('convertToInteractive',\n",
              "                                                     [key], {});\n",
              "          if (!dataTable) return;\n",
              "\n",
              "          const docLinkHtml = 'Like what you see? Visit the ' +\n",
              "            '<a target=\"_blank\" href=https://colab.research.google.com/notebooks/data_table.ipynb>data table notebook</a>'\n",
              "            + ' to learn more about interactive tables.';\n",
              "          element.innerHTML = '';\n",
              "          dataTable['output_type'] = 'display_data';\n",
              "          await google.colab.output.renderOutput(dataTable, element);\n",
              "          const docLink = document.createElement('div');\n",
              "          docLink.innerHTML = docLinkHtml;\n",
              "          element.appendChild(docLink);\n",
              "        }\n",
              "      </script>\n",
              "    </div>\n",
              "  </div>\n",
              "  "
            ]
          },
          "metadata": {},
          "execution_count": 567
        }
      ],
      "source": [
        "cols = tmp[tmp>0.5].index\n",
        "df.drop(columns=cols, inplace=True)\n",
        "df"
      ]
    },
    {
      "cell_type": "markdown",
      "id": "32d14e12",
      "metadata": {
        "id": "32d14e12"
      },
      "source": [
        "## 3.2 Keep only numeric columns"
      ]
    },
    {
      "cell_type": "markdown",
      "source": [
        "Dans le cadre de ce travail, on va garder uniquement les colonnes numériques."
      ],
      "metadata": {
        "id": "e1gQcQgTIQar"
      },
      "id": "e1gQcQgTIQar"
    },
    {
      "cell_type": "code",
      "execution_count": 568,
      "id": "9cee6f06",
      "metadata": {
        "id": "9cee6f06",
        "outputId": "5237f213-8219-4836-8ee2-daaaacf7e592",
        "colab": {
          "base_uri": "https://localhost:8080/"
        }
      },
      "outputs": [
        {
          "output_type": "execute_result",
          "data": {
            "text/plain": [
              "idbase             int64\n",
              "type              object\n",
              "domanialite       object\n",
              "arrondissement    object\n",
              "lieu              object\n",
              "idemplacement     object\n",
              "libelle           object\n",
              "genre             object\n",
              "espece            object\n",
              "circonference      int64\n",
              "hauteur            int64\n",
              "stade             object\n",
              "remarquable       object\n",
              "geo_point_2d      object\n",
              "dtype: object"
            ]
          },
          "metadata": {},
          "execution_count": 568
        }
      ],
      "source": [
        "tmp = df.dtypes\n",
        "tmp"
      ]
    },
    {
      "cell_type": "code",
      "execution_count": 569,
      "id": "7ffd9e85",
      "metadata": {
        "id": "7ffd9e85",
        "outputId": "fa676a5e-a845-423f-9178-d4c260f5d698",
        "colab": {
          "base_uri": "https://localhost:8080/",
          "height": 206
        }
      },
      "outputs": [
        {
          "output_type": "execute_result",
          "data": {
            "text/plain": [
              "    circonference  hauteur\n",
              "3             180       15\n",
              "10            145       16\n",
              "11             70       12\n",
              "17             45        5\n",
              "18            125       10"
            ],
            "text/html": [
              "\n",
              "  <div id=\"df-253606f1-d43b-4ff7-bb66-068c38d62f72\">\n",
              "    <div class=\"colab-df-container\">\n",
              "      <div>\n",
              "<style scoped>\n",
              "    .dataframe tbody tr th:only-of-type {\n",
              "        vertical-align: middle;\n",
              "    }\n",
              "\n",
              "    .dataframe tbody tr th {\n",
              "        vertical-align: top;\n",
              "    }\n",
              "\n",
              "    .dataframe thead th {\n",
              "        text-align: right;\n",
              "    }\n",
              "</style>\n",
              "<table border=\"1\" class=\"dataframe\">\n",
              "  <thead>\n",
              "    <tr style=\"text-align: right;\">\n",
              "      <th></th>\n",
              "      <th>circonference</th>\n",
              "      <th>hauteur</th>\n",
              "    </tr>\n",
              "  </thead>\n",
              "  <tbody>\n",
              "    <tr>\n",
              "      <th>3</th>\n",
              "      <td>180</td>\n",
              "      <td>15</td>\n",
              "    </tr>\n",
              "    <tr>\n",
              "      <th>10</th>\n",
              "      <td>145</td>\n",
              "      <td>16</td>\n",
              "    </tr>\n",
              "    <tr>\n",
              "      <th>11</th>\n",
              "      <td>70</td>\n",
              "      <td>12</td>\n",
              "    </tr>\n",
              "    <tr>\n",
              "      <th>17</th>\n",
              "      <td>45</td>\n",
              "      <td>5</td>\n",
              "    </tr>\n",
              "    <tr>\n",
              "      <th>18</th>\n",
              "      <td>125</td>\n",
              "      <td>10</td>\n",
              "    </tr>\n",
              "  </tbody>\n",
              "</table>\n",
              "</div>\n",
              "      <button class=\"colab-df-convert\" onclick=\"convertToInteractive('df-253606f1-d43b-4ff7-bb66-068c38d62f72')\"\n",
              "              title=\"Convert this dataframe to an interactive table.\"\n",
              "              style=\"display:none;\">\n",
              "        \n",
              "  <svg xmlns=\"http://www.w3.org/2000/svg\" height=\"24px\"viewBox=\"0 0 24 24\"\n",
              "       width=\"24px\">\n",
              "    <path d=\"M0 0h24v24H0V0z\" fill=\"none\"/>\n",
              "    <path d=\"M18.56 5.44l.94 2.06.94-2.06 2.06-.94-2.06-.94-.94-2.06-.94 2.06-2.06.94zm-11 1L8.5 8.5l.94-2.06 2.06-.94-2.06-.94L8.5 2.5l-.94 2.06-2.06.94zm10 10l.94 2.06.94-2.06 2.06-.94-2.06-.94-.94-2.06-.94 2.06-2.06.94z\"/><path d=\"M17.41 7.96l-1.37-1.37c-.4-.4-.92-.59-1.43-.59-.52 0-1.04.2-1.43.59L10.3 9.45l-7.72 7.72c-.78.78-.78 2.05 0 2.83L4 21.41c.39.39.9.59 1.41.59.51 0 1.02-.2 1.41-.59l7.78-7.78 2.81-2.81c.8-.78.8-2.07 0-2.86zM5.41 20L4 18.59l7.72-7.72 1.47 1.35L5.41 20z\"/>\n",
              "  </svg>\n",
              "      </button>\n",
              "      \n",
              "  <style>\n",
              "    .colab-df-container {\n",
              "      display:flex;\n",
              "      flex-wrap:wrap;\n",
              "      gap: 12px;\n",
              "    }\n",
              "\n",
              "    .colab-df-convert {\n",
              "      background-color: #E8F0FE;\n",
              "      border: none;\n",
              "      border-radius: 50%;\n",
              "      cursor: pointer;\n",
              "      display: none;\n",
              "      fill: #1967D2;\n",
              "      height: 32px;\n",
              "      padding: 0 0 0 0;\n",
              "      width: 32px;\n",
              "    }\n",
              "\n",
              "    .colab-df-convert:hover {\n",
              "      background-color: #E2EBFA;\n",
              "      box-shadow: 0px 1px 2px rgba(60, 64, 67, 0.3), 0px 1px 3px 1px rgba(60, 64, 67, 0.15);\n",
              "      fill: #174EA6;\n",
              "    }\n",
              "\n",
              "    [theme=dark] .colab-df-convert {\n",
              "      background-color: #3B4455;\n",
              "      fill: #D2E3FC;\n",
              "    }\n",
              "\n",
              "    [theme=dark] .colab-df-convert:hover {\n",
              "      background-color: #434B5C;\n",
              "      box-shadow: 0px 1px 3px 1px rgba(0, 0, 0, 0.15);\n",
              "      filter: drop-shadow(0px 1px 2px rgba(0, 0, 0, 0.3));\n",
              "      fill: #FFFFFF;\n",
              "    }\n",
              "  </style>\n",
              "\n",
              "      <script>\n",
              "        const buttonEl =\n",
              "          document.querySelector('#df-253606f1-d43b-4ff7-bb66-068c38d62f72 button.colab-df-convert');\n",
              "        buttonEl.style.display =\n",
              "          google.colab.kernel.accessAllowed ? 'block' : 'none';\n",
              "\n",
              "        async function convertToInteractive(key) {\n",
              "          const element = document.querySelector('#df-253606f1-d43b-4ff7-bb66-068c38d62f72');\n",
              "          const dataTable =\n",
              "            await google.colab.kernel.invokeFunction('convertToInteractive',\n",
              "                                                     [key], {});\n",
              "          if (!dataTable) return;\n",
              "\n",
              "          const docLinkHtml = 'Like what you see? Visit the ' +\n",
              "            '<a target=\"_blank\" href=https://colab.research.google.com/notebooks/data_table.ipynb>data table notebook</a>'\n",
              "            + ' to learn more about interactive tables.';\n",
              "          element.innerHTML = '';\n",
              "          dataTable['output_type'] = 'display_data';\n",
              "          await google.colab.output.renderOutput(dataTable, element);\n",
              "          const docLink = document.createElement('div');\n",
              "          docLink.innerHTML = docLinkHtml;\n",
              "          element.appendChild(docLink);\n",
              "        }\n",
              "      </script>\n",
              "    </div>\n",
              "  </div>\n",
              "  "
            ]
          },
          "metadata": {},
          "execution_count": 569
        }
      ],
      "source": [
        "cols = [\"circonference\", \"hauteur\"]\n",
        "df = df[cols]\n",
        "df.head()"
      ]
    },
    {
      "cell_type": "markdown",
      "id": "153c14d1",
      "metadata": {
        "id": "153c14d1"
      },
      "source": [
        "## 3.3 Handle outliers"
      ]
    },
    {
      "cell_type": "markdown",
      "source": [
        "Il faut également s'intéresser aux outliers. Regardons d'abord les données qui semblent aberrantes. "
      ],
      "metadata": {
        "id": "pAk3QjqEIgGZ"
      },
      "id": "pAk3QjqEIgGZ"
    },
    {
      "cell_type": "code",
      "execution_count": 570,
      "id": "11fa44ca",
      "metadata": {
        "id": "11fa44ca",
        "outputId": "38f44100-12c5-4ce4-d027-30d98cc6e0fa",
        "colab": {
          "base_uri": "https://localhost:8080/",
          "height": 300
        }
      },
      "outputs": [
        {
          "output_type": "execute_result",
          "data": {
            "text/plain": [
              "       circonference       hauteur\n",
              "count   42534.000000  42534.000000\n",
              "mean      110.215569     12.649410\n",
              "std       164.384905      6.188441\n",
              "min         0.000000      0.000000\n",
              "25%        55.000000      8.000000\n",
              "50%       100.000000     12.000000\n",
              "75%       155.000000     16.000000\n",
              "max     30553.000000     45.000000"
            ],
            "text/html": [
              "\n",
              "  <div id=\"df-5a8fe943-ad52-4352-8039-b5430b318f4c\">\n",
              "    <div class=\"colab-df-container\">\n",
              "      <div>\n",
              "<style scoped>\n",
              "    .dataframe tbody tr th:only-of-type {\n",
              "        vertical-align: middle;\n",
              "    }\n",
              "\n",
              "    .dataframe tbody tr th {\n",
              "        vertical-align: top;\n",
              "    }\n",
              "\n",
              "    .dataframe thead th {\n",
              "        text-align: right;\n",
              "    }\n",
              "</style>\n",
              "<table border=\"1\" class=\"dataframe\">\n",
              "  <thead>\n",
              "    <tr style=\"text-align: right;\">\n",
              "      <th></th>\n",
              "      <th>circonference</th>\n",
              "      <th>hauteur</th>\n",
              "    </tr>\n",
              "  </thead>\n",
              "  <tbody>\n",
              "    <tr>\n",
              "      <th>count</th>\n",
              "      <td>42534.000000</td>\n",
              "      <td>42534.000000</td>\n",
              "    </tr>\n",
              "    <tr>\n",
              "      <th>mean</th>\n",
              "      <td>110.215569</td>\n",
              "      <td>12.649410</td>\n",
              "    </tr>\n",
              "    <tr>\n",
              "      <th>std</th>\n",
              "      <td>164.384905</td>\n",
              "      <td>6.188441</td>\n",
              "    </tr>\n",
              "    <tr>\n",
              "      <th>min</th>\n",
              "      <td>0.000000</td>\n",
              "      <td>0.000000</td>\n",
              "    </tr>\n",
              "    <tr>\n",
              "      <th>25%</th>\n",
              "      <td>55.000000</td>\n",
              "      <td>8.000000</td>\n",
              "    </tr>\n",
              "    <tr>\n",
              "      <th>50%</th>\n",
              "      <td>100.000000</td>\n",
              "      <td>12.000000</td>\n",
              "    </tr>\n",
              "    <tr>\n",
              "      <th>75%</th>\n",
              "      <td>155.000000</td>\n",
              "      <td>16.000000</td>\n",
              "    </tr>\n",
              "    <tr>\n",
              "      <th>max</th>\n",
              "      <td>30553.000000</td>\n",
              "      <td>45.000000</td>\n",
              "    </tr>\n",
              "  </tbody>\n",
              "</table>\n",
              "</div>\n",
              "      <button class=\"colab-df-convert\" onclick=\"convertToInteractive('df-5a8fe943-ad52-4352-8039-b5430b318f4c')\"\n",
              "              title=\"Convert this dataframe to an interactive table.\"\n",
              "              style=\"display:none;\">\n",
              "        \n",
              "  <svg xmlns=\"http://www.w3.org/2000/svg\" height=\"24px\"viewBox=\"0 0 24 24\"\n",
              "       width=\"24px\">\n",
              "    <path d=\"M0 0h24v24H0V0z\" fill=\"none\"/>\n",
              "    <path d=\"M18.56 5.44l.94 2.06.94-2.06 2.06-.94-2.06-.94-.94-2.06-.94 2.06-2.06.94zm-11 1L8.5 8.5l.94-2.06 2.06-.94-2.06-.94L8.5 2.5l-.94 2.06-2.06.94zm10 10l.94 2.06.94-2.06 2.06-.94-2.06-.94-.94-2.06-.94 2.06-2.06.94z\"/><path d=\"M17.41 7.96l-1.37-1.37c-.4-.4-.92-.59-1.43-.59-.52 0-1.04.2-1.43.59L10.3 9.45l-7.72 7.72c-.78.78-.78 2.05 0 2.83L4 21.41c.39.39.9.59 1.41.59.51 0 1.02-.2 1.41-.59l7.78-7.78 2.81-2.81c.8-.78.8-2.07 0-2.86zM5.41 20L4 18.59l7.72-7.72 1.47 1.35L5.41 20z\"/>\n",
              "  </svg>\n",
              "      </button>\n",
              "      \n",
              "  <style>\n",
              "    .colab-df-container {\n",
              "      display:flex;\n",
              "      flex-wrap:wrap;\n",
              "      gap: 12px;\n",
              "    }\n",
              "\n",
              "    .colab-df-convert {\n",
              "      background-color: #E8F0FE;\n",
              "      border: none;\n",
              "      border-radius: 50%;\n",
              "      cursor: pointer;\n",
              "      display: none;\n",
              "      fill: #1967D2;\n",
              "      height: 32px;\n",
              "      padding: 0 0 0 0;\n",
              "      width: 32px;\n",
              "    }\n",
              "\n",
              "    .colab-df-convert:hover {\n",
              "      background-color: #E2EBFA;\n",
              "      box-shadow: 0px 1px 2px rgba(60, 64, 67, 0.3), 0px 1px 3px 1px rgba(60, 64, 67, 0.15);\n",
              "      fill: #174EA6;\n",
              "    }\n",
              "\n",
              "    [theme=dark] .colab-df-convert {\n",
              "      background-color: #3B4455;\n",
              "      fill: #D2E3FC;\n",
              "    }\n",
              "\n",
              "    [theme=dark] .colab-df-convert:hover {\n",
              "      background-color: #434B5C;\n",
              "      box-shadow: 0px 1px 3px 1px rgba(0, 0, 0, 0.15);\n",
              "      filter: drop-shadow(0px 1px 2px rgba(0, 0, 0, 0.3));\n",
              "      fill: #FFFFFF;\n",
              "    }\n",
              "  </style>\n",
              "\n",
              "      <script>\n",
              "        const buttonEl =\n",
              "          document.querySelector('#df-5a8fe943-ad52-4352-8039-b5430b318f4c button.colab-df-convert');\n",
              "        buttonEl.style.display =\n",
              "          google.colab.kernel.accessAllowed ? 'block' : 'none';\n",
              "\n",
              "        async function convertToInteractive(key) {\n",
              "          const element = document.querySelector('#df-5a8fe943-ad52-4352-8039-b5430b318f4c');\n",
              "          const dataTable =\n",
              "            await google.colab.kernel.invokeFunction('convertToInteractive',\n",
              "                                                     [key], {});\n",
              "          if (!dataTable) return;\n",
              "\n",
              "          const docLinkHtml = 'Like what you see? Visit the ' +\n",
              "            '<a target=\"_blank\" href=https://colab.research.google.com/notebooks/data_table.ipynb>data table notebook</a>'\n",
              "            + ' to learn more about interactive tables.';\n",
              "          element.innerHTML = '';\n",
              "          dataTable['output_type'] = 'display_data';\n",
              "          await google.colab.output.renderOutput(dataTable, element);\n",
              "          const docLink = document.createElement('div');\n",
              "          docLink.innerHTML = docLinkHtml;\n",
              "          element.appendChild(docLink);\n",
              "        }\n",
              "      </script>\n",
              "    </div>\n",
              "  </div>\n",
              "  "
            ]
          },
          "metadata": {},
          "execution_count": 570
        }
      ],
      "source": [
        "df.describe()"
      ]
    },
    {
      "cell_type": "markdown",
      "source": [
        "On voit que la valeur maximale de la colonne circonférence semble très élévée. Confirmons cela par des visualisations."
      ],
      "metadata": {
        "id": "hSrRTuJsKi9j"
      },
      "id": "hSrRTuJsKi9j"
    },
    {
      "cell_type": "code",
      "execution_count": 571,
      "id": "05b35aca",
      "metadata": {
        "id": "05b35aca",
        "outputId": "28a53bd2-8c7e-49b0-bed9-ed8da53378ca",
        "colab": {
          "base_uri": "https://localhost:8080/",
          "height": 519
        }
      },
      "outputs": [
        {
          "output_type": "execute_result",
          "data": {
            "text/plain": [
              "<matplotlib.axes._subplots.AxesSubplot at 0x7f9f32d32f90>"
            ]
          },
          "metadata": {},
          "execution_count": 571
        },
        {
          "output_type": "display_data",
          "data": {
            "text/plain": [
              "<Figure size 576x576 with 2 Axes>"
            ],
            "image/png": "[encoded data removed]"
          },
          "metadata": {}
        }
      ],
      "source": [
        "fig, axs = plt.subplots(2,1, figsize=(8,8))\n",
        "sns.boxplot(df.hauteur, ax=axs[0], orient=\"v\")\n",
        "sns.boxplot(df.circonference, ax=axs[1], orient=\"v\")"
      ]
    },
    {
      "cell_type": "code",
      "execution_count": 572,
      "id": "cb3995c7",
      "metadata": {
        "id": "cb3995c7",
        "outputId": "7bfee9e3-2ddf-4f48-ade9-288df70da800",
        "colab": {
          "base_uri": "https://localhost:8080/",
          "height": 730
        }
      },
      "outputs": [
        {
          "output_type": "execute_result",
          "data": {
            "text/plain": [
              "<seaborn.axisgrid.FacetGrid at 0x7f9f323f9910>"
            ]
          },
          "metadata": {},
          "execution_count": 572
        },
        {
          "output_type": "display_data",
          "data": {
            "text/plain": [
              "<Figure size 360x360 with 1 Axes>"
            ],
            "image/png": "[encoded data removed]"
          },
          "metadata": {}
        },
        {
          "output_type": "display_data",
          "data": {
            "text/plain": [
              "<Figure size 360x360 with 1 Axes>"
            ],
            "image/png": "[encoded data removed]"
          },
          "metadata": {}
        }
      ],
      "source": [
        "sns.displot(df.hauteur)\n",
        "sns.displot(df.circonference)"
      ]
    },
    {
      "cell_type": "code",
      "execution_count": 573,
      "id": "b52cd525",
      "metadata": {
        "id": "b52cd525",
        "colab": {
          "base_uri": "https://localhost:8080/",
          "height": 502
        },
        "outputId": "5c004714-6240-4c20-899e-0756970e93ed"
      },
      "outputs": [
        {
          "output_type": "display_data",
          "data": {
            "text/plain": [
              "<Figure size 576x576 with 1 Axes>"
            ],
            "image/png": "[encoded data removed]"
          },
          "metadata": {}
        }
      ],
      "source": [
        "fig, ax = plt.subplots(1,1, figsize=(8,8))\n",
        "ax.set_xlabel(\"circonference\")\n",
        "ax.set_ylabel(\"hauteur\")\n",
        "_ = ax.scatter(df.circonference, df.hauteur)"
      ]
    },
    {
      "cell_type": "markdown",
      "source": [
        "Les choses semblent se confirmer. Commencons par supprimer les outliers les plus évidents. "
      ],
      "metadata": {
        "id": "ZqglB461K8tb"
      },
      "id": "ZqglB461K8tb"
    },
    {
      "cell_type": "code",
      "execution_count": 574,
      "id": "eac13353",
      "metadata": {
        "scrolled": true,
        "id": "eac13353",
        "colab": {
          "base_uri": "https://localhost:8080/",
          "height": 300
        },
        "outputId": "763ca2ba-151b-4fee-80d3-2cd2f6b394bd"
      },
      "outputs": [
        {
          "output_type": "execute_result",
          "data": {
            "text/plain": [
              "       circonference       hauteur\n",
              "count   42526.000000  42526.000000\n",
              "mean      109.457673     12.644711\n",
              "std        72.245853      6.178476\n",
              "min         0.000000      0.000000\n",
              "25%        55.000000      8.000000\n",
              "50%       100.000000     12.000000\n",
              "75%       155.000000     16.000000\n",
              "max      1185.000000     35.000000"
            ],
            "text/html": [
              "\n",
              "  <div id=\"df-d053b712-622e-4537-830e-38436c785927\">\n",
              "    <div class=\"colab-df-container\">\n",
              "      <div>\n",
              "<style scoped>\n",
              "    .dataframe tbody tr th:only-of-type {\n",
              "        vertical-align: middle;\n",
              "    }\n",
              "\n",
              "    .dataframe tbody tr th {\n",
              "        vertical-align: top;\n",
              "    }\n",
              "\n",
              "    .dataframe thead th {\n",
              "        text-align: right;\n",
              "    }\n",
              "</style>\n",
              "<table border=\"1\" class=\"dataframe\">\n",
              "  <thead>\n",
              "    <tr style=\"text-align: right;\">\n",
              "      <th></th>\n",
              "      <th>circonference</th>\n",
              "      <th>hauteur</th>\n",
              "    </tr>\n",
              "  </thead>\n",
              "  <tbody>\n",
              "    <tr>\n",
              "      <th>count</th>\n",
              "      <td>42526.000000</td>\n",
              "      <td>42526.000000</td>\n",
              "    </tr>\n",
              "    <tr>\n",
              "      <th>mean</th>\n",
              "      <td>109.457673</td>\n",
              "      <td>12.644711</td>\n",
              "    </tr>\n",
              "    <tr>\n",
              "      <th>std</th>\n",
              "      <td>72.245853</td>\n",
              "      <td>6.178476</td>\n",
              "    </tr>\n",
              "    <tr>\n",
              "      <th>min</th>\n",
              "      <td>0.000000</td>\n",
              "      <td>0.000000</td>\n",
              "    </tr>\n",
              "    <tr>\n",
              "      <th>25%</th>\n",
              "      <td>55.000000</td>\n",
              "      <td>8.000000</td>\n",
              "    </tr>\n",
              "    <tr>\n",
              "      <th>50%</th>\n",
              "      <td>100.000000</td>\n",
              "      <td>12.000000</td>\n",
              "    </tr>\n",
              "    <tr>\n",
              "      <th>75%</th>\n",
              "      <td>155.000000</td>\n",
              "      <td>16.000000</td>\n",
              "    </tr>\n",
              "    <tr>\n",
              "      <th>max</th>\n",
              "      <td>1185.000000</td>\n",
              "      <td>35.000000</td>\n",
              "    </tr>\n",
              "  </tbody>\n",
              "</table>\n",
              "</div>\n",
              "      <button class=\"colab-df-convert\" onclick=\"convertToInteractive('df-d053b712-622e-4537-830e-38436c785927')\"\n",
              "              title=\"Convert this dataframe to an interactive table.\"\n",
              "              style=\"display:none;\">\n",
              "        \n",
              "  <svg xmlns=\"http://www.w3.org/2000/svg\" height=\"24px\"viewBox=\"0 0 24 24\"\n",
              "       width=\"24px\">\n",
              "    <path d=\"M0 0h24v24H0V0z\" fill=\"none\"/>\n",
              "    <path d=\"M18.56 5.44l.94 2.06.94-2.06 2.06-.94-2.06-.94-.94-2.06-.94 2.06-2.06.94zm-11 1L8.5 8.5l.94-2.06 2.06-.94-2.06-.94L8.5 2.5l-.94 2.06-2.06.94zm10 10l.94 2.06.94-2.06 2.06-.94-2.06-.94-.94-2.06-.94 2.06-2.06.94z\"/><path d=\"M17.41 7.96l-1.37-1.37c-.4-.4-.92-.59-1.43-.59-.52 0-1.04.2-1.43.59L10.3 9.45l-7.72 7.72c-.78.78-.78 2.05 0 2.83L4 21.41c.39.39.9.59 1.41.59.51 0 1.02-.2 1.41-.59l7.78-7.78 2.81-2.81c.8-.78.8-2.07 0-2.86zM5.41 20L4 18.59l7.72-7.72 1.47 1.35L5.41 20z\"/>\n",
              "  </svg>\n",
              "      </button>\n",
              "      \n",
              "  <style>\n",
              "    .colab-df-container {\n",
              "      display:flex;\n",
              "      flex-wrap:wrap;\n",
              "      gap: 12px;\n",
              "    }\n",
              "\n",
              "    .colab-df-convert {\n",
              "      background-color: #E8F0FE;\n",
              "      border: none;\n",
              "      border-radius: 50%;\n",
              "      cursor: pointer;\n",
              "      display: none;\n",
              "      fill: #1967D2;\n",
              "      height: 32px;\n",
              "      padding: 0 0 0 0;\n",
              "      width: 32px;\n",
              "    }\n",
              "\n",
              "    .colab-df-convert:hover {\n",
              "      background-color: #E2EBFA;\n",
              "      box-shadow: 0px 1px 2px rgba(60, 64, 67, 0.3), 0px 1px 3px 1px rgba(60, 64, 67, 0.15);\n",
              "      fill: #174EA6;\n",
              "    }\n",
              "\n",
              "    [theme=dark] .colab-df-convert {\n",
              "      background-color: #3B4455;\n",
              "      fill: #D2E3FC;\n",
              "    }\n",
              "\n",
              "    [theme=dark] .colab-df-convert:hover {\n",
              "      background-color: #434B5C;\n",
              "      box-shadow: 0px 1px 3px 1px rgba(0, 0, 0, 0.15);\n",
              "      filter: drop-shadow(0px 1px 2px rgba(0, 0, 0, 0.3));\n",
              "      fill: #FFFFFF;\n",
              "    }\n",
              "  </style>\n",
              "\n",
              "      <script>\n",
              "        const buttonEl =\n",
              "          document.querySelector('#df-d053b712-622e-4537-830e-38436c785927 button.colab-df-convert');\n",
              "        buttonEl.style.display =\n",
              "          google.colab.kernel.accessAllowed ? 'block' : 'none';\n",
              "\n",
              "        async function convertToInteractive(key) {\n",
              "          const element = document.querySelector('#df-d053b712-622e-4537-830e-38436c785927');\n",
              "          const dataTable =\n",
              "            await google.colab.kernel.invokeFunction('convertToInteractive',\n",
              "                                                     [key], {});\n",
              "          if (!dataTable) return;\n",
              "\n",
              "          const docLinkHtml = 'Like what you see? Visit the ' +\n",
              "            '<a target=\"_blank\" href=https://colab.research.google.com/notebooks/data_table.ipynb>data table notebook</a>'\n",
              "            + ' to learn more about interactive tables.';\n",
              "          element.innerHTML = '';\n",
              "          dataTable['output_type'] = 'display_data';\n",
              "          await google.colab.output.renderOutput(dataTable, element);\n",
              "          const docLink = document.createElement('div');\n",
              "          docLink.innerHTML = docLinkHtml;\n",
              "          element.appendChild(docLink);\n",
              "        }\n",
              "      </script>\n",
              "    </div>\n",
              "  </div>\n",
              "  "
            ]
          },
          "metadata": {},
          "execution_count": 574
        }
      ],
      "source": [
        "df_cleaned = df.copy()\n",
        "df_cleaned = df_cleaned.loc[df.hauteur<38]\n",
        "df_cleaned = df_cleaned.loc[df.circonference<5000]\n",
        "df_cleaned.describe()"
      ]
    },
    {
      "cell_type": "code",
      "execution_count": 575,
      "id": "f7b12220",
      "metadata": {
        "id": "f7b12220",
        "colab": {
          "base_uri": "https://localhost:8080/",
          "height": 519
        },
        "outputId": "6fe4a869-4f96-4ff3-d47e-37c7c9d2a581"
      },
      "outputs": [
        {
          "output_type": "execute_result",
          "data": {
            "text/plain": [
              "<matplotlib.axes._subplots.AxesSubplot at 0x7f9f2d9e5490>"
            ]
          },
          "metadata": {},
          "execution_count": 575
        },
        {
          "output_type": "display_data",
          "data": {
            "text/plain": [
              "<Figure size 576x576 with 2 Axes>"
            ],
            "image/png": "[encoded data removed]"
          },
          "metadata": {}
        }
      ],
      "source": [
        "fig, axs = plt.subplots(2,1, figsize=(8,8))\n",
        "\n",
        "sns.boxplot(df_cleaned.hauteur, ax=axs[0], orient=\"v\")\n",
        "sns.boxplot(df_cleaned.circonference, ax=axs[1], orient=\"v\")"
      ]
    },
    {
      "cell_type": "code",
      "execution_count": 576,
      "id": "20ff72cc",
      "metadata": {
        "id": "20ff72cc",
        "colab": {
          "base_uri": "https://localhost:8080/",
          "height": 730
        },
        "outputId": "cb3031dd-398a-46a8-895a-05588687f477"
      },
      "outputs": [
        {
          "output_type": "execute_result",
          "data": {
            "text/plain": [
              "<seaborn.axisgrid.FacetGrid at 0x7f9f2dac6250>"
            ]
          },
          "metadata": {},
          "execution_count": 576
        },
        {
          "output_type": "display_data",
          "data": {
            "text/plain": [
              "<Figure size 360x360 with 1 Axes>"
            ],
            "image/png": "[encoded data removed]"
          },
          "metadata": {}
        },
        {
          "output_type": "display_data",
          "data": {
            "text/plain": [
              "<Figure size 360x360 with 1 Axes>"
            ],
            "image/png": "[encoded data removed]"
          },
          "metadata": {}
        }
      ],
      "source": [
        "sns.displot(df_cleaned.hauteur)\n",
        "sns.displot(df_cleaned.circonference)"
      ]
    },
    {
      "cell_type": "code",
      "execution_count": 577,
      "id": "b27994ab",
      "metadata": {
        "scrolled": false,
        "id": "b27994ab",
        "colab": {
          "base_uri": "https://localhost:8080/",
          "height": 502
        },
        "outputId": "f6ace229-61d1-4820-b031-f73cda5eea65"
      },
      "outputs": [
        {
          "output_type": "display_data",
          "data": {
            "text/plain": [
              "<Figure size 576x576 with 1 Axes>"
            ],
            "image/png": "[encoded data removed]"
          },
          "metadata": {}
        }
      ],
      "source": [
        "fig, ax = plt.subplots(1,1, figsize=(8,8))\n",
        "ax.set_xlabel(\"circonference\")\n",
        "ax.set_ylabel(\"hauteur\")\n",
        "_ = ax.scatter(df_cleaned.circonference, df_cleaned.hauteur)"
      ]
    },
    {
      "cell_type": "markdown",
      "source": [
        "Les donnéees semblent plus propres. C'est une bonne chose. En effet, dans le cadre d'une regression linéaire, le fait d'avoir des outliers dans nos données va réduire considérablement la performance de notre modélisation. \n",
        "\n",
        "Nous pouvons d'ailleurs pousser un peu plus notre nettoyage afin de supprimer les arbres ayant une hauteur à 0, un outlier dans la colonne circonférence etc.\n",
        "\n",
        "ATTENTION : Comme la gestion des données manquantes, la gestion et le nettoyage des outliers est un sujet très important. Dans le cadre de ce travail nous passons rapidement sur le sujet, mais il est important d'être rigoureux dans le traitement des données aberrantes."
      ],
      "metadata": {
        "id": "TtupkniULyKO"
      },
      "id": "TtupkniULyKO"
    },
    {
      "cell_type": "code",
      "execution_count": 578,
      "id": "85464e16",
      "metadata": {
        "id": "85464e16",
        "colab": {
          "base_uri": "https://localhost:8080/",
          "height": 300
        },
        "outputId": "34304720-d9e1-4be9-c422-ca3966b256d6"
      },
      "outputs": [
        {
          "output_type": "execute_result",
          "data": {
            "text/plain": [
              "       circonference       hauteur\n",
              "count   40752.000000  40752.000000\n",
              "mean      113.819616     13.186617\n",
              "std        69.921268      5.718868\n",
              "min        11.000000      2.000000\n",
              "25%        60.000000      9.000000\n",
              "50%       102.000000     13.000000\n",
              "75%       156.000000     17.000000\n",
              "max       784.000000     35.000000"
            ],
            "text/html": [
              "\n",
              "  <div id=\"df-e5c6b6ab-2dd5-4d51-bbe9-47612099a0d7\">\n",
              "    <div class=\"colab-df-container\">\n",
              "      <div>\n",
              "<style scoped>\n",
              "    .dataframe tbody tr th:only-of-type {\n",
              "        vertical-align: middle;\n",
              "    }\n",
              "\n",
              "    .dataframe tbody tr th {\n",
              "        vertical-align: top;\n",
              "    }\n",
              "\n",
              "    .dataframe thead th {\n",
              "        text-align: right;\n",
              "    }\n",
              "</style>\n",
              "<table border=\"1\" class=\"dataframe\">\n",
              "  <thead>\n",
              "    <tr style=\"text-align: right;\">\n",
              "      <th></th>\n",
              "      <th>circonference</th>\n",
              "      <th>hauteur</th>\n",
              "    </tr>\n",
              "  </thead>\n",
              "  <tbody>\n",
              "    <tr>\n",
              "      <th>count</th>\n",
              "      <td>40752.000000</td>\n",
              "      <td>40752.000000</td>\n",
              "    </tr>\n",
              "    <tr>\n",
              "      <th>mean</th>\n",
              "      <td>113.819616</td>\n",
              "      <td>13.186617</td>\n",
              "    </tr>\n",
              "    <tr>\n",
              "      <th>std</th>\n",
              "      <td>69.921268</td>\n",
              "      <td>5.718868</td>\n",
              "    </tr>\n",
              "    <tr>\n",
              "      <th>min</th>\n",
              "      <td>11.000000</td>\n",
              "      <td>2.000000</td>\n",
              "    </tr>\n",
              "    <tr>\n",
              "      <th>25%</th>\n",
              "      <td>60.000000</td>\n",
              "      <td>9.000000</td>\n",
              "    </tr>\n",
              "    <tr>\n",
              "      <th>50%</th>\n",
              "      <td>102.000000</td>\n",
              "      <td>13.000000</td>\n",
              "    </tr>\n",
              "    <tr>\n",
              "      <th>75%</th>\n",
              "      <td>156.000000</td>\n",
              "      <td>17.000000</td>\n",
              "    </tr>\n",
              "    <tr>\n",
              "      <th>max</th>\n",
              "      <td>784.000000</td>\n",
              "      <td>35.000000</td>\n",
              "    </tr>\n",
              "  </tbody>\n",
              "</table>\n",
              "</div>\n",
              "      <button class=\"colab-df-convert\" onclick=\"convertToInteractive('df-e5c6b6ab-2dd5-4d51-bbe9-47612099a0d7')\"\n",
              "              title=\"Convert this dataframe to an interactive table.\"\n",
              "              style=\"display:none;\">\n",
              "        \n",
              "  <svg xmlns=\"http://www.w3.org/2000/svg\" height=\"24px\"viewBox=\"0 0 24 24\"\n",
              "       width=\"24px\">\n",
              "    <path d=\"M0 0h24v24H0V0z\" fill=\"none\"/>\n",
              "    <path d=\"M18.56 5.44l.94 2.06.94-2.06 2.06-.94-2.06-.94-.94-2.06-.94 2.06-2.06.94zm-11 1L8.5 8.5l.94-2.06 2.06-.94-2.06-.94L8.5 2.5l-.94 2.06-2.06.94zm10 10l.94 2.06.94-2.06 2.06-.94-2.06-.94-.94-2.06-.94 2.06-2.06.94z\"/><path d=\"M17.41 7.96l-1.37-1.37c-.4-.4-.92-.59-1.43-.59-.52 0-1.04.2-1.43.59L10.3 9.45l-7.72 7.72c-.78.78-.78 2.05 0 2.83L4 21.41c.39.39.9.59 1.41.59.51 0 1.02-.2 1.41-.59l7.78-7.78 2.81-2.81c.8-.78.8-2.07 0-2.86zM5.41 20L4 18.59l7.72-7.72 1.47 1.35L5.41 20z\"/>\n",
              "  </svg>\n",
              "      </button>\n",
              "      \n",
              "  <style>\n",
              "    .colab-df-container {\n",
              "      display:flex;\n",
              "      flex-wrap:wrap;\n",
              "      gap: 12px;\n",
              "    }\n",
              "\n",
              "    .colab-df-convert {\n",
              "      background-color: #E8F0FE;\n",
              "      border: none;\n",
              "      border-radius: 50%;\n",
              "      cursor: pointer;\n",
              "      display: none;\n",
              "      fill: #1967D2;\n",
              "      height: 32px;\n",
              "      padding: 0 0 0 0;\n",
              "      width: 32px;\n",
              "    }\n",
              "\n",
              "    .colab-df-convert:hover {\n",
              "      background-color: #E2EBFA;\n",
              "      box-shadow: 0px 1px 2px rgba(60, 64, 67, 0.3), 0px 1px 3px 1px rgba(60, 64, 67, 0.15);\n",
              "      fill: #174EA6;\n",
              "    }\n",
              "\n",
              "    [theme=dark] .colab-df-convert {\n",
              "      background-color: #3B4455;\n",
              "      fill: #D2E3FC;\n",
              "    }\n",
              "\n",
              "    [theme=dark] .colab-df-convert:hover {\n",
              "      background-color: #434B5C;\n",
              "      box-shadow: 0px 1px 3px 1px rgba(0, 0, 0, 0.15);\n",
              "      filter: drop-shadow(0px 1px 2px rgba(0, 0, 0, 0.3));\n",
              "      fill: #FFFFFF;\n",
              "    }\n",
              "  </style>\n",
              "\n",
              "      <script>\n",
              "        const buttonEl =\n",
              "          document.querySelector('#df-e5c6b6ab-2dd5-4d51-bbe9-47612099a0d7 button.colab-df-convert');\n",
              "        buttonEl.style.display =\n",
              "          google.colab.kernel.accessAllowed ? 'block' : 'none';\n",
              "\n",
              "        async function convertToInteractive(key) {\n",
              "          const element = document.querySelector('#df-e5c6b6ab-2dd5-4d51-bbe9-47612099a0d7');\n",
              "          const dataTable =\n",
              "            await google.colab.kernel.invokeFunction('convertToInteractive',\n",
              "                                                     [key], {});\n",
              "          if (!dataTable) return;\n",
              "\n",
              "          const docLinkHtml = 'Like what you see? Visit the ' +\n",
              "            '<a target=\"_blank\" href=https://colab.research.google.com/notebooks/data_table.ipynb>data table notebook</a>'\n",
              "            + ' to learn more about interactive tables.';\n",
              "          element.innerHTML = '';\n",
              "          dataTable['output_type'] = 'display_data';\n",
              "          await google.colab.output.renderOutput(dataTable, element);\n",
              "          const docLink = document.createElement('div');\n",
              "          docLink.innerHTML = docLinkHtml;\n",
              "          element.appendChild(docLink);\n",
              "        }\n",
              "      </script>\n",
              "    </div>\n",
              "  </div>\n",
              "  "
            ]
          },
          "metadata": {},
          "execution_count": 578
        }
      ],
      "source": [
        "df_cleaned = df.copy()\n",
        "df_cleaned = df_cleaned.loc[df.hauteur>1]\n",
        "df_cleaned = df_cleaned.loc[df.circonference>10]\n",
        "df_cleaned = df_cleaned.loc[df.hauteur<38]\n",
        "df_cleaned = df_cleaned.loc[df.circonference<800]\n",
        "df_cleaned.describe()"
      ]
    },
    {
      "cell_type": "code",
      "execution_count": 579,
      "id": "2825624f",
      "metadata": {
        "id": "2825624f",
        "colab": {
          "base_uri": "https://localhost:8080/",
          "height": 519
        },
        "outputId": "1391dc63-8c1a-43ec-9908-712981e0227f"
      },
      "outputs": [
        {
          "output_type": "execute_result",
          "data": {
            "text/plain": [
              "<matplotlib.axes._subplots.AxesSubplot at 0x7f9f2d534ad0>"
            ]
          },
          "metadata": {},
          "execution_count": 579
        },
        {
          "output_type": "display_data",
          "data": {
            "text/plain": [
              "<Figure size 576x576 with 2 Axes>"
            ],
            "image/png": "[encoded data removed]"
          },
          "metadata": {}
        }
      ],
      "source": [
        "fig, axs = plt.subplots(2,1, figsize=(8,8))\n",
        "\n",
        "sns.boxplot(df_cleaned.hauteur, ax=axs[0], orient=\"v\")\n",
        "sns.boxplot(df_cleaned.circonference, ax=axs[1], orient=\"v\")"
      ]
    },
    {
      "cell_type": "code",
      "execution_count": 580,
      "id": "693f28fe",
      "metadata": {
        "id": "693f28fe",
        "colab": {
          "base_uri": "https://localhost:8080/",
          "height": 730
        },
        "outputId": "2d640e96-f987-49ea-cdfd-b16c7e8f8dd6"
      },
      "outputs": [
        {
          "output_type": "execute_result",
          "data": {
            "text/plain": [
              "<seaborn.axisgrid.FacetGrid at 0x7f9f2d31fdd0>"
            ]
          },
          "metadata": {},
          "execution_count": 580
        },
        {
          "output_type": "display_data",
          "data": {
            "text/plain": [
              "<Figure size 360x360 with 1 Axes>"
            ],
            "image/png": "[encoded data removed]"
          },
          "metadata": {}
        },
        {
          "output_type": "display_data",
          "data": {
            "text/plain": [
              "<Figure size 360x360 with 1 Axes>"
            ],
            "image/png": "[encoded data removed]"
          },
          "metadata": {}
        }
      ],
      "source": [
        "sns.displot(df_cleaned.hauteur)\n",
        "sns.displot(df_cleaned.circonference)"
      ]
    },
    {
      "cell_type": "code",
      "execution_count": 581,
      "id": "ca9885aa",
      "metadata": {
        "scrolled": true,
        "id": "ca9885aa",
        "colab": {
          "base_uri": "https://localhost:8080/",
          "height": 502
        },
        "outputId": "125c2798-1620-4a4d-84a8-4d80b44c407a"
      },
      "outputs": [
        {
          "output_type": "display_data",
          "data": {
            "text/plain": [
              "<Figure size 576x576 with 1 Axes>"
            ],
            "image/png": "[encoded data removed]"
          },
          "metadata": {}
        }
      ],
      "source": [
        "fig, ax = plt.subplots(1,1, figsize=(8,8))\n",
        "ax.set_xlabel(\"circonference\")\n",
        "ax.set_ylabel(\"hauteur\")\n",
        "_ = ax.scatter(df_cleaned.circonference, df_cleaned.hauteur)"
      ]
    },
    {
      "cell_type": "markdown",
      "id": "02e070b8",
      "metadata": {
        "id": "02e070b8"
      },
      "source": [
        "# 4. Linear Regression"
      ]
    },
    {
      "cell_type": "markdown",
      "source": [
        "Nous avons des données nettoyées, nous allons enfin pouvoir nous plonger dans le vif du sujet : la Régression Linéaire.\n",
        "\n",
        "\n",
        "Python possède 2 librairies pour le faire \n",
        "* scikit-learn\n",
        "* statsmodels\n",
        "\n",
        "\n",
        "Nous allons présenter les 2 dans le cadre de ce TP."
      ],
      "metadata": {
        "id": "ywFOqkFdNYci"
      },
      "id": "ywFOqkFdNYci"
    },
    {
      "cell_type": "markdown",
      "id": "7a046f67",
      "metadata": {
        "id": "7a046f67"
      },
      "source": [
        "## 4.1 With scikit-learn"
      ]
    },
    {
      "cell_type": "markdown",
      "source": [
        "Jettons un oeuil à notre dataframe."
      ],
      "metadata": {
        "id": "PutrYiiwN3yS"
      },
      "id": "PutrYiiwN3yS"
    },
    {
      "cell_type": "code",
      "execution_count": 582,
      "id": "a7052824",
      "metadata": {
        "id": "a7052824",
        "colab": {
          "base_uri": "https://localhost:8080/",
          "height": 206
        },
        "outputId": "919ba81f-d133-49ae-86d9-1f0ec13fe339"
      },
      "outputs": [
        {
          "output_type": "execute_result",
          "data": {
            "text/plain": [
              "    circonference  hauteur\n",
              "3             180       15\n",
              "10            145       16\n",
              "11             70       12\n",
              "17             45        5\n",
              "18            125       10"
            ],
            "text/html": [
              "\n",
              "  <div id=\"df-dc43a1ae-e750-44db-962a-a2a8a5169d23\">\n",
              "    <div class=\"colab-df-container\">\n",
              "      <div>\n",
              "<style scoped>\n",
              "    .dataframe tbody tr th:only-of-type {\n",
              "        vertical-align: middle;\n",
              "    }\n",
              "\n",
              "    .dataframe tbody tr th {\n",
              "        vertical-align: top;\n",
              "    }\n",
              "\n",
              "    .dataframe thead th {\n",
              "        text-align: right;\n",
              "    }\n",
              "</style>\n",
              "<table border=\"1\" class=\"dataframe\">\n",
              "  <thead>\n",
              "    <tr style=\"text-align: right;\">\n",
              "      <th></th>\n",
              "      <th>circonference</th>\n",
              "      <th>hauteur</th>\n",
              "    </tr>\n",
              "  </thead>\n",
              "  <tbody>\n",
              "    <tr>\n",
              "      <th>3</th>\n",
              "      <td>180</td>\n",
              "      <td>15</td>\n",
              "    </tr>\n",
              "    <tr>\n",
              "      <th>10</th>\n",
              "      <td>145</td>\n",
              "      <td>16</td>\n",
              "    </tr>\n",
              "    <tr>\n",
              "      <th>11</th>\n",
              "      <td>70</td>\n",
              "      <td>12</td>\n",
              "    </tr>\n",
              "    <tr>\n",
              "      <th>17</th>\n",
              "      <td>45</td>\n",
              "      <td>5</td>\n",
              "    </tr>\n",
              "    <tr>\n",
              "      <th>18</th>\n",
              "      <td>125</td>\n",
              "      <td>10</td>\n",
              "    </tr>\n",
              "  </tbody>\n",
              "</table>\n",
              "</div>\n",
              "      <button class=\"colab-df-convert\" onclick=\"convertToInteractive('df-dc43a1ae-e750-44db-962a-a2a8a5169d23')\"\n",
              "              title=\"Convert this dataframe to an interactive table.\"\n",
              "              style=\"display:none;\">\n",
              "        \n",
              "  <svg xmlns=\"http://www.w3.org/2000/svg\" height=\"24px\"viewBox=\"0 0 24 24\"\n",
              "       width=\"24px\">\n",
              "    <path d=\"M0 0h24v24H0V0z\" fill=\"none\"/>\n",
              "    <path d=\"M18.56 5.44l.94 2.06.94-2.06 2.06-.94-2.06-.94-.94-2.06-.94 2.06-2.06.94zm-11 1L8.5 8.5l.94-2.06 2.06-.94-2.06-.94L8.5 2.5l-.94 2.06-2.06.94zm10 10l.94 2.06.94-2.06 2.06-.94-2.06-.94-.94-2.06-.94 2.06-2.06.94z\"/><path d=\"M17.41 7.96l-1.37-1.37c-.4-.4-.92-.59-1.43-.59-.52 0-1.04.2-1.43.59L10.3 9.45l-7.72 7.72c-.78.78-.78 2.05 0 2.83L4 21.41c.39.39.9.59 1.41.59.51 0 1.02-.2 1.41-.59l7.78-7.78 2.81-2.81c.8-.78.8-2.07 0-2.86zM5.41 20L4 18.59l7.72-7.72 1.47 1.35L5.41 20z\"/>\n",
              "  </svg>\n",
              "      </button>\n",
              "      \n",
              "  <style>\n",
              "    .colab-df-container {\n",
              "      display:flex;\n",
              "      flex-wrap:wrap;\n",
              "      gap: 12px;\n",
              "    }\n",
              "\n",
              "    .colab-df-convert {\n",
              "      background-color: #E8F0FE;\n",
              "      border: none;\n",
              "      border-radius: 50%;\n",
              "      cursor: pointer;\n",
              "      display: none;\n",
              "      fill: #1967D2;\n",
              "      height: 32px;\n",
              "      padding: 0 0 0 0;\n",
              "      width: 32px;\n",
              "    }\n",
              "\n",
              "    .colab-df-convert:hover {\n",
              "      background-color: #E2EBFA;\n",
              "      box-shadow: 0px 1px 2px rgba(60, 64, 67, 0.3), 0px 1px 3px 1px rgba(60, 64, 67, 0.15);\n",
              "      fill: #174EA6;\n",
              "    }\n",
              "\n",
              "    [theme=dark] .colab-df-convert {\n",
              "      background-color: #3B4455;\n",
              "      fill: #D2E3FC;\n",
              "    }\n",
              "\n",
              "    [theme=dark] .colab-df-convert:hover {\n",
              "      background-color: #434B5C;\n",
              "      box-shadow: 0px 1px 3px 1px rgba(0, 0, 0, 0.15);\n",
              "      filter: drop-shadow(0px 1px 2px rgba(0, 0, 0, 0.3));\n",
              "      fill: #FFFFFF;\n",
              "    }\n",
              "  </style>\n",
              "\n",
              "      <script>\n",
              "        const buttonEl =\n",
              "          document.querySelector('#df-dc43a1ae-e750-44db-962a-a2a8a5169d23 button.colab-df-convert');\n",
              "        buttonEl.style.display =\n",
              "          google.colab.kernel.accessAllowed ? 'block' : 'none';\n",
              "\n",
              "        async function convertToInteractive(key) {\n",
              "          const element = document.querySelector('#df-dc43a1ae-e750-44db-962a-a2a8a5169d23');\n",
              "          const dataTable =\n",
              "            await google.colab.kernel.invokeFunction('convertToInteractive',\n",
              "                                                     [key], {});\n",
              "          if (!dataTable) return;\n",
              "\n",
              "          const docLinkHtml = 'Like what you see? Visit the ' +\n",
              "            '<a target=\"_blank\" href=https://colab.research.google.com/notebooks/data_table.ipynb>data table notebook</a>'\n",
              "            + ' to learn more about interactive tables.';\n",
              "          element.innerHTML = '';\n",
              "          dataTable['output_type'] = 'display_data';\n",
              "          await google.colab.output.renderOutput(dataTable, element);\n",
              "          const docLink = document.createElement('div');\n",
              "          docLink.innerHTML = docLinkHtml;\n",
              "          element.appendChild(docLink);\n",
              "        }\n",
              "      </script>\n",
              "    </div>\n",
              "  </div>\n",
              "  "
            ]
          },
          "metadata": {},
          "execution_count": 582
        }
      ],
      "source": [
        "df_cleaned.head()"
      ]
    },
    {
      "cell_type": "markdown",
      "source": [
        "Séparons X et y."
      ],
      "metadata": {
        "id": "-YDtdabMN7Dg"
      },
      "id": "-YDtdabMN7Dg"
    },
    {
      "cell_type": "code",
      "execution_count": 583,
      "id": "755df8d2",
      "metadata": {
        "id": "755df8d2"
      },
      "outputs": [],
      "source": [
        "y = df_cleaned.hauteur\n",
        "X = df_cleaned.drop(columns=\"hauteur\")"
      ]
    },
    {
      "cell_type": "code",
      "source": [
        "X.head()"
      ],
      "metadata": {
        "colab": {
          "base_uri": "https://localhost:8080/",
          "height": 206
        },
        "id": "YOMe-qy3yLob",
        "outputId": "a3eac9fb-9b20-4756-f912-3a4adbc6334b"
      },
      "id": "YOMe-qy3yLob",
      "execution_count": 584,
      "outputs": [
        {
          "output_type": "execute_result",
          "data": {
            "text/plain": [
              "    circonference\n",
              "3             180\n",
              "10            145\n",
              "11             70\n",
              "17             45\n",
              "18            125"
            ],
            "text/html": [
              "\n",
              "  <div id=\"df-d0810700-76b2-413c-a62d-c19e900cebec\">\n",
              "    <div class=\"colab-df-container\">\n",
              "      <div>\n",
              "<style scoped>\n",
              "    .dataframe tbody tr th:only-of-type {\n",
              "        vertical-align: middle;\n",
              "    }\n",
              "\n",
              "    .dataframe tbody tr th {\n",
              "        vertical-align: top;\n",
              "    }\n",
              "\n",
              "    .dataframe thead th {\n",
              "        text-align: right;\n",
              "    }\n",
              "</style>\n",
              "<table border=\"1\" class=\"dataframe\">\n",
              "  <thead>\n",
              "    <tr style=\"text-align: right;\">\n",
              "      <th></th>\n",
              "      <th>circonference</th>\n",
              "    </tr>\n",
              "  </thead>\n",
              "  <tbody>\n",
              "    <tr>\n",
              "      <th>3</th>\n",
              "      <td>180</td>\n",
              "    </tr>\n",
              "    <tr>\n",
              "      <th>10</th>\n",
              "      <td>145</td>\n",
              "    </tr>\n",
              "    <tr>\n",
              "      <th>11</th>\n",
              "      <td>70</td>\n",
              "    </tr>\n",
              "    <tr>\n",
              "      <th>17</th>\n",
              "      <td>45</td>\n",
              "    </tr>\n",
              "    <tr>\n",
              "      <th>18</th>\n",
              "      <td>125</td>\n",
              "    </tr>\n",
              "  </tbody>\n",
              "</table>\n",
              "</div>\n",
              "      <button class=\"colab-df-convert\" onclick=\"convertToInteractive('df-d0810700-76b2-413c-a62d-c19e900cebec')\"\n",
              "              title=\"Convert this dataframe to an interactive table.\"\n",
              "              style=\"display:none;\">\n",
              "        \n",
              "  <svg xmlns=\"http://www.w3.org/2000/svg\" height=\"24px\"viewBox=\"0 0 24 24\"\n",
              "       width=\"24px\">\n",
              "    <path d=\"M0 0h24v24H0V0z\" fill=\"none\"/>\n",
              "    <path d=\"M18.56 5.44l.94 2.06.94-2.06 2.06-.94-2.06-.94-.94-2.06-.94 2.06-2.06.94zm-11 1L8.5 8.5l.94-2.06 2.06-.94-2.06-.94L8.5 2.5l-.94 2.06-2.06.94zm10 10l.94 2.06.94-2.06 2.06-.94-2.06-.94-.94-2.06-.94 2.06-2.06.94z\"/><path d=\"M17.41 7.96l-1.37-1.37c-.4-.4-.92-.59-1.43-.59-.52 0-1.04.2-1.43.59L10.3 9.45l-7.72 7.72c-.78.78-.78 2.05 0 2.83L4 21.41c.39.39.9.59 1.41.59.51 0 1.02-.2 1.41-.59l7.78-7.78 2.81-2.81c.8-.78.8-2.07 0-2.86zM5.41 20L4 18.59l7.72-7.72 1.47 1.35L5.41 20z\"/>\n",
              "  </svg>\n",
              "      </button>\n",
              "      \n",
              "  <style>\n",
              "    .colab-df-container {\n",
              "      display:flex;\n",
              "      flex-wrap:wrap;\n",
              "      gap: 12px;\n",
              "    }\n",
              "\n",
              "    .colab-df-convert {\n",
              "      background-color: #E8F0FE;\n",
              "      border: none;\n",
              "      border-radius: 50%;\n",
              "      cursor: pointer;\n",
              "      display: none;\n",
              "      fill: #1967D2;\n",
              "      height: 32px;\n",
              "      padding: 0 0 0 0;\n",
              "      width: 32px;\n",
              "    }\n",
              "\n",
              "    .colab-df-convert:hover {\n",
              "      background-color: #E2EBFA;\n",
              "      box-shadow: 0px 1px 2px rgba(60, 64, 67, 0.3), 0px 1px 3px 1px rgba(60, 64, 67, 0.15);\n",
              "      fill: #174EA6;\n",
              "    }\n",
              "\n",
              "    [theme=dark] .colab-df-convert {\n",
              "      background-color: #3B4455;\n",
              "      fill: #D2E3FC;\n",
              "    }\n",
              "\n",
              "    [theme=dark] .colab-df-convert:hover {\n",
              "      background-color: #434B5C;\n",
              "      box-shadow: 0px 1px 3px 1px rgba(0, 0, 0, 0.15);\n",
              "      filter: drop-shadow(0px 1px 2px rgba(0, 0, 0, 0.3));\n",
              "      fill: #FFFFFF;\n",
              "    }\n",
              "  </style>\n",
              "\n",
              "      <script>\n",
              "        const buttonEl =\n",
              "          document.querySelector('#df-d0810700-76b2-413c-a62d-c19e900cebec button.colab-df-convert');\n",
              "        buttonEl.style.display =\n",
              "          google.colab.kernel.accessAllowed ? 'block' : 'none';\n",
              "\n",
              "        async function convertToInteractive(key) {\n",
              "          const element = document.querySelector('#df-d0810700-76b2-413c-a62d-c19e900cebec');\n",
              "          const dataTable =\n",
              "            await google.colab.kernel.invokeFunction('convertToInteractive',\n",
              "                                                     [key], {});\n",
              "          if (!dataTable) return;\n",
              "\n",
              "          const docLinkHtml = 'Like what you see? Visit the ' +\n",
              "            '<a target=\"_blank\" href=https://colab.research.google.com/notebooks/data_table.ipynb>data table notebook</a>'\n",
              "            + ' to learn more about interactive tables.';\n",
              "          element.innerHTML = '';\n",
              "          dataTable['output_type'] = 'display_data';\n",
              "          await google.colab.output.renderOutput(dataTable, element);\n",
              "          const docLink = document.createElement('div');\n",
              "          docLink.innerHTML = docLinkHtml;\n",
              "          element.appendChild(docLink);\n",
              "        }\n",
              "      </script>\n",
              "    </div>\n",
              "  </div>\n",
              "  "
            ]
          },
          "metadata": {},
          "execution_count": 584
        }
      ]
    },
    {
      "cell_type": "code",
      "source": [
        "y.head()"
      ],
      "metadata": {
        "colab": {
          "base_uri": "https://localhost:8080/"
        },
        "id": "Svrm64tryMw9",
        "outputId": "001b2c07-5d7f-4572-bba4-0332b74bf95a"
      },
      "id": "Svrm64tryMw9",
      "execution_count": 585,
      "outputs": [
        {
          "output_type": "execute_result",
          "data": {
            "text/plain": [
              "3     15\n",
              "10    16\n",
              "11    12\n",
              "17     5\n",
              "18    10\n",
              "Name: hauteur, dtype: int64"
            ]
          },
          "metadata": {},
          "execution_count": 585
        }
      ]
    },
    {
      "cell_type": "markdown",
      "source": [
        "Nous pouvons instancier un modèle depuis le package `linear_regression`de scikit-learn."
      ],
      "metadata": {
        "id": "fQySLJ_nN-Jz"
      },
      "id": "fQySLJ_nN-Jz"
    },
    {
      "cell_type": "code",
      "execution_count": 586,
      "id": "bc3a2be6",
      "metadata": {
        "id": "bc3a2be6"
      },
      "outputs": [],
      "source": [
        "lr = LinearRegression()"
      ]
    },
    {
      "cell_type": "markdown",
      "source": [
        "Maintenant, nous pouvons 'entraîner' notre modèle."
      ],
      "metadata": {
        "id": "VcehvDNVONAg"
      },
      "id": "VcehvDNVONAg"
    },
    {
      "cell_type": "code",
      "source": [
        "lr.fit(X, y)"
      ],
      "metadata": {
        "colab": {
          "base_uri": "https://localhost:8080/"
        },
        "id": "cKl2av5lOK_5",
        "outputId": "dc76fe0d-c8af-414a-b629-f4beefa02721"
      },
      "id": "cKl2av5lOK_5",
      "execution_count": 587,
      "outputs": [
        {
          "output_type": "execute_result",
          "data": {
            "text/plain": [
              "LinearRegression()"
            ]
          },
          "metadata": {},
          "execution_count": 587
        }
      ]
    },
    {
      "cell_type": "markdown",
      "source": [
        "Nous pouvons utiliser notre modèle pour faire des prédictions."
      ],
      "metadata": {
        "id": "OyyEvNwTOT4h"
      },
      "id": "OyyEvNwTOT4h"
    },
    {
      "cell_type": "code",
      "execution_count": 588,
      "id": "92d2c3a6",
      "metadata": {
        "id": "92d2c3a6",
        "colab": {
          "base_uri": "https://localhost:8080/"
        },
        "outputId": "bc0600b2-ecbb-4dbc-d826-ffe4b684d1b4"
      },
      "outputs": [
        {
          "output_type": "execute_result",
          "data": {
            "text/plain": [
              "array([17.77082684, 15.34643234, 10.15130129,  8.41959093, 13.96106406,\n",
              "        7.03422265, 20.5415634 ,  6.68788058, 11.53666957, 17.77082684,\n",
              "       14.6537482 , 12.78350102,  9.45861714,  7.03422265, 13.96106406,\n",
              "       19.50253719, 12.22935371,  7.03422265,  8.765933  , 13.61472199])"
            ]
          },
          "metadata": {},
          "execution_count": 588
        }
      ],
      "source": [
        "y_pred = lr.predict(X)\n",
        "y_pred[:20]"
      ]
    },
    {
      "cell_type": "markdown",
      "source": [
        "Et nous pouvons calculer le r2 score de notre modèle de deux facons."
      ],
      "metadata": {
        "id": "JthIitg7Oc04"
      },
      "id": "JthIitg7Oc04"
    },
    {
      "cell_type": "code",
      "execution_count": 589,
      "id": "6ea7d6d6",
      "metadata": {
        "id": "6ea7d6d6",
        "colab": {
          "base_uri": "https://localhost:8080/"
        },
        "outputId": "238c5780-9753-4d5e-b671-df901439940b"
      },
      "outputs": [
        {
          "output_type": "execute_result",
          "data": {
            "text/plain": [
              "0.717247360106629"
            ]
          },
          "metadata": {},
          "execution_count": 589
        }
      ],
      "source": [
        "lr.score(X,y)"
      ]
    },
    {
      "cell_type": "code",
      "execution_count": 590,
      "id": "8bb1ae10",
      "metadata": {
        "id": "8bb1ae10",
        "colab": {
          "base_uri": "https://localhost:8080/"
        },
        "outputId": "16d017c9-da7a-4305-d839-da510dadc0b3"
      },
      "outputs": [
        {
          "output_type": "execute_result",
          "data": {
            "text/plain": [
              "0.717247360106629"
            ]
          },
          "metadata": {},
          "execution_count": 590
        }
      ],
      "source": [
        "r2_score(y, y_pred)"
      ]
    },
    {
      "cell_type": "markdown",
      "source": [
        "Pour bien comprendre à quoi correspond ce score, nous pouvons le calculer \"manuellement\"."
      ],
      "metadata": {
        "id": "thf7HJOFOlIw"
      },
      "id": "thf7HJOFOlIw"
    },
    {
      "cell_type": "code",
      "source": [
        "y_mean = y.mean()\n",
        "y_mean"
      ],
      "metadata": {
        "colab": {
          "base_uri": "https://localhost:8080/"
        },
        "id": "h3OstHqDf2TW",
        "outputId": "48447bd1-51b2-4c66-d340-112d9dc62042"
      },
      "id": "h3OstHqDf2TW",
      "execution_count": 591,
      "outputs": [
        {
          "output_type": "execute_result",
          "data": {
            "text/plain": [
              "13.186616607773852"
            ]
          },
          "metadata": {},
          "execution_count": 591
        }
      ]
    },
    {
      "cell_type": "code",
      "source": [
        "SCT = sum([(i - y_mean )**2 for i in y.values])\n",
        "SCT"
      ],
      "metadata": {
        "id": "9-Iyw3KEdtTG",
        "colab": {
          "base_uri": "https://localhost:8080/"
        },
        "outputId": "fee79270-60e8-4f3e-db60-c9e46dd461ea"
      },
      "id": "9-Iyw3KEdtTG",
      "execution_count": 592,
      "outputs": [
        {
          "output_type": "execute_result",
          "data": {
            "text/plain": [
              "1332779.780697963"
            ]
          },
          "metadata": {},
          "execution_count": 592
        }
      ]
    },
    {
      "cell_type": "code",
      "source": [
        "f = lambda i : (i - y_mean)**2\n",
        "\n",
        "SCT = y.apply(f).sum()\n",
        "SCT"
      ],
      "metadata": {
        "colab": {
          "base_uri": "https://localhost:8080/"
        },
        "id": "CivDjoFTgImc",
        "outputId": "4da87856-cb11-4f65-def6-ec0c569832f2"
      },
      "id": "CivDjoFTgImc",
      "execution_count": 593,
      "outputs": [
        {
          "output_type": "execute_result",
          "data": {
            "text/plain": [
              "1332779.7806978798"
            ]
          },
          "metadata": {},
          "execution_count": 593
        }
      ]
    },
    {
      "cell_type": "code",
      "source": [
        "SCE =  sum([(i - y_mean)**2 for i in y_pred])"
      ],
      "metadata": {
        "id": "X2OlXU8veInr"
      },
      "id": "X2OlXU8veInr",
      "execution_count": 594,
      "outputs": []
    },
    {
      "cell_type": "code",
      "source": [
        "r2 = SCE/ SCT\n",
        "r2"
      ],
      "metadata": {
        "colab": {
          "base_uri": "https://localhost:8080/"
        },
        "id": "COcAA_QweW7l",
        "outputId": "b512b512-85ca-4524-9170-94cf4b2b6b15"
      },
      "id": "COcAA_QweW7l",
      "execution_count": 595,
      "outputs": [
        {
          "output_type": "execute_result",
          "data": {
            "text/plain": [
              "0.7172473601066943"
            ]
          },
          "metadata": {},
          "execution_count": 595
        }
      ]
    },
    {
      "cell_type": "markdown",
      "source": [
        "Notre r2 est bien le même à chaque fois!"
      ],
      "metadata": {
        "id": "6Kuy0jjSOvi8"
      },
      "id": "6Kuy0jjSOvi8"
    },
    {
      "cell_type": "markdown",
      "source": [
        "Parlons de nos \"prédictions\". Notre modèle permet de calculer y (la hauteur) en fonction de X (la circonférence).\n",
        "\n",
        "C'est bien une équation de type `y = a.x + b`.\n",
        "\n",
        "Nous pouvons retrouver facilement la valeur de `a`et de `b`."
      ],
      "metadata": {
        "id": "gQqPf8pxO2sV"
      },
      "id": "gQqPf8pxO2sV"
    },
    {
      "cell_type": "code",
      "execution_count": 596,
      "id": "0b9e0f6a",
      "metadata": {
        "id": "0b9e0f6a",
        "outputId": "8b88b582-a405-4166-fe62-12dd8199bb31",
        "colab": {
          "base_uri": "https://localhost:8080/"
        }
      },
      "outputs": [
        {
          "output_type": "execute_result",
          "data": {
            "text/plain": [
              "array([0.06926841])"
            ]
          },
          "metadata": {},
          "execution_count": 596
        }
      ],
      "source": [
        "a = lr.coef_\n",
        "a"
      ]
    },
    {
      "cell_type": "markdown",
      "source": [
        "Ici, `a` est en fait un objet de type `np.array`. En effet, dans notre cas, nous avons une seule colonne dans notre `X` (la colonne circonférence). \n",
        "\n",
        "Mais si nous avions plusieurs colonnes, il y aurait plusieurs coeficients. C'est ce qui explique que `a`soit en fait un `np.array`."
      ],
      "metadata": {
        "id": "Cd4Qm2K1QVRm"
      },
      "id": "Cd4Qm2K1QVRm"
    },
    {
      "cell_type": "code",
      "execution_count": 597,
      "id": "3bdae1bf",
      "metadata": {
        "id": "3bdae1bf",
        "outputId": "6fb83f19-32d7-455b-9a30-b6c1234c4959",
        "colab": {
          "base_uri": "https://localhost:8080/"
        }
      },
      "outputs": [
        {
          "output_type": "execute_result",
          "data": {
            "text/plain": [
              "0.06926841411196329"
            ]
          },
          "metadata": {},
          "execution_count": 597
        }
      ],
      "source": [
        "a = a[0]\n",
        "a"
      ]
    },
    {
      "cell_type": "code",
      "execution_count": 598,
      "id": "7a9cf207",
      "metadata": {
        "scrolled": true,
        "id": "7a9cf207",
        "outputId": "2b5f85c4-f9af-42ae-f093-5153dab71c0c",
        "colab": {
          "base_uri": "https://localhost:8080/"
        }
      },
      "outputs": [
        {
          "output_type": "execute_result",
          "data": {
            "text/plain": [
              "5.302512297717758"
            ]
          },
          "metadata": {},
          "execution_count": 598
        }
      ],
      "source": [
        "b = lr.intercept_\n",
        "b"
      ]
    },
    {
      "cell_type": "markdown",
      "source": [
        "Définissons une fonction qui pour toute valeur de `x`nous calcule `y`."
      ],
      "metadata": {
        "id": "iSdlm3mKRBRP"
      },
      "id": "iSdlm3mKRBRP"
    },
    {
      "cell_type": "code",
      "execution_count": 599,
      "id": "c4df7fbf",
      "metadata": {
        "id": "c4df7fbf"
      },
      "outputs": [],
      "source": [
        "def my_prediction(x) : \n",
        "    return (a* x) + b\n"
      ]
    },
    {
      "cell_type": "markdown",
      "source": [
        "Pour info, cette fonction peut aussi s'écrire comme cela : "
      ],
      "metadata": {
        "id": "ogoOKVvtRLH3"
      },
      "id": "ogoOKVvtRLH3"
    },
    {
      "cell_type": "code",
      "source": [
        "my_prediction = lambda x : (a* x) + b"
      ],
      "metadata": {
        "id": "N0sRkRmNRPsM"
      },
      "id": "N0sRkRmNRPsM",
      "execution_count": 600,
      "outputs": []
    },
    {
      "cell_type": "markdown",
      "source": [
        "Utilisons mainteant une compréhension de liste pour effectuer le calcul de tous les `y_pred`."
      ],
      "metadata": {
        "id": "YLS0E1VMRSpu"
      },
      "id": "YLS0E1VMRSpu"
    },
    {
      "cell_type": "code",
      "execution_count": 601,
      "id": "0b3c0128",
      "metadata": {
        "id": "0b3c0128",
        "outputId": "ab752251-1971-4fa3-b143-25453b9514ae",
        "colab": {
          "base_uri": "https://localhost:8080/"
        }
      },
      "outputs": [
        {
          "output_type": "execute_result",
          "data": {
            "text/plain": [
              "[17.770826837871148,\n",
              " 15.346432343952435,\n",
              " 10.151301285555189,\n",
              " 8.419590932756106,\n",
              " 13.961064061713168,\n",
              " 7.03422265051684,\n",
              " 20.54156340234968,\n",
              " 6.687880579957024,\n",
              " 11.536669567794455,\n",
              " 17.770826837871148]"
            ]
          },
          "metadata": {},
          "execution_count": 601
        }
      ],
      "source": [
        "y_pred_2 = [my_prediction(x) for x in X.circonference.values]\n",
        "y_pred_2[:10]"
      ]
    },
    {
      "cell_type": "markdown",
      "source": [
        "Nous avions `y_pred` proposé par la méthode `predict`de scikit-learn."
      ],
      "metadata": {
        "id": "N3U126RsRh_u"
      },
      "id": "N3U126RsRh_u"
    },
    {
      "cell_type": "code",
      "execution_count": 602,
      "id": "debf30c1",
      "metadata": {
        "id": "debf30c1",
        "outputId": "cc82b276-b5af-4c90-9bb4-e27b35cbfdf4",
        "colab": {
          "base_uri": "https://localhost:8080/"
        }
      },
      "outputs": [
        {
          "output_type": "execute_result",
          "data": {
            "text/plain": [
              "array([17.77082684, 15.34643234, 10.15130129, ..., 17.77082684,\n",
              "       16.45472697, 17.77082684])"
            ]
          },
          "metadata": {},
          "execution_count": 602
        }
      ],
      "source": [
        "y_pred"
      ]
    },
    {
      "cell_type": "markdown",
      "source": [
        "Vérifions que les valeurs sont bien les mêmes : "
      ],
      "metadata": {
        "id": "1J2k4JwtRq9j"
      },
      "id": "1J2k4JwtRq9j"
    },
    {
      "cell_type": "code",
      "execution_count": 603,
      "id": "f44c586d",
      "metadata": {
        "id": "f44c586d",
        "outputId": "d43e0349-06b1-4e67-d16b-41b27825e5dd",
        "colab": {
          "base_uri": "https://localhost:8080/"
        }
      },
      "outputs": [
        {
          "output_type": "execute_result",
          "data": {
            "text/plain": [
              "array([ True,  True,  True, ...,  True,  True,  True])"
            ]
          },
          "metadata": {},
          "execution_count": 603
        }
      ],
      "source": [
        "y_pred == y_pred_2"
      ]
    },
    {
      "cell_type": "code",
      "execution_count": 604,
      "id": "0a475f72",
      "metadata": {
        "id": "0a475f72",
        "outputId": "e46e8c86-3ef9-43c1-c678-7d0aaa192acb",
        "colab": {
          "base_uri": "https://localhost:8080/"
        }
      },
      "outputs": [
        {
          "output_type": "execute_result",
          "data": {
            "text/plain": [
              "True"
            ]
          },
          "metadata": {},
          "execution_count": 604
        }
      ],
      "source": [
        "(y_pred == y_pred_2).all()"
      ]
    },
    {
      "cell_type": "markdown",
      "source": [
        "C'est confirmé!  La méthode `predict`de `scikit-learn` n'effectue qu'un simple calcul..."
      ],
      "metadata": {
        "id": "yqs1eaFURyJR"
      },
      "id": "yqs1eaFURyJR"
    },
    {
      "cell_type": "markdown",
      "source": [
        "Amusons nous maintenant à afficher notre droite `y = a.x+b` sur notre nuage de points."
      ],
      "metadata": {
        "id": "efRQCh6IR_Xn"
      },
      "id": "efRQCh6IR_Xn"
    },
    {
      "cell_type": "code",
      "execution_count": 605,
      "id": "185698a3",
      "metadata": {
        "id": "185698a3",
        "outputId": "de40cb07-d544-43af-b7d2-32e89c7ed467",
        "colab": {
          "base_uri": "https://localhost:8080/",
          "height": 502
        }
      },
      "outputs": [
        {
          "output_type": "display_data",
          "data": {
            "text/plain": [
              "<Figure size 576x576 with 1 Axes>"
            ],
            "image/png": "[encoded data removed]"
          },
          "metadata": {}
        }
      ],
      "source": [
        "fig, ax = plt.subplots(1,1, figsize=(8,8))\n",
        "ax.set_xlabel(\"circonference\")\n",
        "ax.set_ylabel(\"hauteur\")\n",
        "\n",
        "_ = ax.scatter(df_cleaned.circonference, df_cleaned.hauteur, c=\"skyblue\", marker=\".\", alpha=1)\n",
        "_ = ax.plot(df_cleaned.circonference, y_pred, c=\"red\")"
      ]
    },
    {
      "cell_type": "markdown",
      "source": [
        "Nous pouvons également afficher `y`et `y_pred`sur le même graphique. Dans un monde idéal, `y_pred` est toujours égal à `y`, et les points sont alignés sur la droite `y=x`.\n",
        "\n",
        "\n",
        "Affichons donc nos points et notre droite."
      ],
      "metadata": {
        "id": "ukIdCJZmSTdD"
      },
      "id": "ukIdCJZmSTdD"
    },
    {
      "cell_type": "code",
      "source": [
        "fig, ax = plt.subplots(1,1, figsize=(8,8))\n",
        "ax.set_xlabel(\"y\")\n",
        "ax.set_ylabel(\"y_pred\")\n",
        "_ = ax.scatter(y.values, y_pred, c=\"blue\", marker=\".\", alpha=1)\n",
        "_ = ax.plot([0, 60], [0, 60], c=\"red\")"
      ],
      "metadata": {
        "id": "YIMLUl2ja9jG",
        "colab": {
          "base_uri": "https://localhost:8080/",
          "height": 502
        },
        "outputId": "c68dc3df-3d01-4a38-b2d5-298fee9a1829"
      },
      "id": "YIMLUl2ja9jG",
      "execution_count": 606,
      "outputs": [
        {
          "output_type": "display_data",
          "data": {
            "text/plain": [
              "<Figure size 576x576 with 1 Axes>"
            ],
            "image/png": "[encoded data removed]"
          },
          "metadata": {}
        }
      ]
    },
    {
      "cell_type": "markdown",
      "source": [
        "On voit que notre modèle n'est pas 'très bon'. Il capte la 'tendance' mais semble commettre beaucoup d'erreurs...\n",
        "\n",
        "Ces erreurs, ou plutôt ces résidus, nous pouvons les calculer et les afficher sur un graphique."
      ],
      "metadata": {
        "id": "8OSZa2E4Ssv0"
      },
      "id": "8OSZa2E4Ssv0"
    },
    {
      "cell_type": "code",
      "source": [
        "residus = y_pred - y\n",
        "residus.head()"
      ],
      "metadata": {
        "colab": {
          "base_uri": "https://localhost:8080/"
        },
        "id": "qmwpoUA_hqFK",
        "outputId": "62946367-57fd-48a7-cdab-60697505f75e"
      },
      "id": "qmwpoUA_hqFK",
      "execution_count": 607,
      "outputs": [
        {
          "output_type": "execute_result",
          "data": {
            "text/plain": [
              "3     2.770827\n",
              "10   -0.653568\n",
              "11   -1.848699\n",
              "17    3.419591\n",
              "18    3.961064\n",
              "Name: hauteur, dtype: float64"
            ]
          },
          "metadata": {},
          "execution_count": 607
        }
      ]
    },
    {
      "cell_type": "code",
      "source": [
        "fig, ax = plt.subplots(1,1, figsize=(8,8))\n",
        "ax.set_xlabel(\"y\")\n",
        "ax.set_ylabel(\"residus => y_pred - y\")\n",
        "_ = ax.scatter(y.values, residus.values, c=\"blue\", marker=\".\", alpha=1)\n",
        "_ = ax.plot([0, 0], [0, 0], c=\"red\")"
      ],
      "metadata": {
        "colab": {
          "base_uri": "https://localhost:8080/",
          "height": 502
        },
        "id": "pX2uBRSeh1ke",
        "outputId": "2db53a11-9dd4-4a46-f93e-76c8d21a3139"
      },
      "id": "pX2uBRSeh1ke",
      "execution_count": 608,
      "outputs": [
        {
          "output_type": "display_data",
          "data": {
            "text/plain": [
              "<Figure size 576x576 with 1 Axes>"
            ],
            "image/png": "[encoded data removed]"
          },
          "metadata": {}
        }
      ]
    },
    {
      "cell_type": "markdown",
      "source": [
        "On semble détecter une sorte de \"patern\" : plus la valeur de y est ellevée, plus les erreurs semblent importantes. \n",
        "\n",
        "Mettons cette idée de côté pour l'instant et continuons l'analyse des résidus."
      ],
      "metadata": {
        "id": "VRlFBFHsTOD1"
      },
      "id": "VRlFBFHsTOD1"
    },
    {
      "cell_type": "code",
      "source": [
        "sns.boxplot(residus)"
      ],
      "metadata": {
        "colab": {
          "base_uri": "https://localhost:8080/",
          "height": 302
        },
        "id": "iHNjFndLiUcp",
        "outputId": "4edd5955-2f74-4c7e-d856-9b8c72b833d0"
      },
      "id": "iHNjFndLiUcp",
      "execution_count": 609,
      "outputs": [
        {
          "output_type": "execute_result",
          "data": {
            "text/plain": [
              "<matplotlib.axes._subplots.AxesSubplot at 0x7f9f6847bc10>"
            ]
          },
          "metadata": {},
          "execution_count": 609
        },
        {
          "output_type": "display_data",
          "data": {
            "text/plain": [
              "<Figure size 432x288 with 1 Axes>"
            ],
            "image/png": "[encoded data removed]"
          },
          "metadata": {}
        }
      ]
    },
    {
      "cell_type": "code",
      "source": [
        "sns.displot(residus)"
      ],
      "metadata": {
        "colab": {
          "base_uri": "https://localhost:8080/",
          "height": 382
        },
        "id": "j8ScSnFFiYgA",
        "outputId": "a2e7e2c2-6321-43b4-f0ae-ac537f8bbfb2"
      },
      "id": "j8ScSnFFiYgA",
      "execution_count": 610,
      "outputs": [
        {
          "output_type": "execute_result",
          "data": {
            "text/plain": [
              "<seaborn.axisgrid.FacetGrid at 0x7f9f2d43c2d0>"
            ]
          },
          "metadata": {},
          "execution_count": 610
        },
        {
          "output_type": "display_data",
          "data": {
            "text/plain": [
              "<Figure size 360x360 with 1 Axes>"
            ],
            "image/png": "[encoded data removed]"
          },
          "metadata": {}
        }
      ]
    },
    {
      "cell_type": "code",
      "source": [
        "residus.describe().round(2)"
      ],
      "metadata": {
        "colab": {
          "base_uri": "https://localhost:8080/"
        },
        "id": "r3i1JFrhiivV",
        "outputId": "827a0d86-4db6-4e1c-98ad-ecfbb1891ed7"
      },
      "id": "r3i1JFrhiivV",
      "execution_count": 611,
      "outputs": [
        {
          "output_type": "execute_result",
          "data": {
            "text/plain": [
              "count    40752.00\n",
              "mean         0.00\n",
              "std          3.04\n",
              "min        -23.31\n",
              "25%         -1.73\n",
              "50%          0.27\n",
              "75%          1.77\n",
              "max         33.75\n",
              "Name: hauteur, dtype: float64"
            ]
          },
          "metadata": {},
          "execution_count": 611
        }
      ]
    },
    {
      "cell_type": "markdown",
      "source": [
        "On voit que de facon \"globale\" les résidus sont centrés autour de 0. C'est une bonne chose !\n",
        "\n",
        "En revanche on observe une grande variance de ces résidus et c'est un sujet sur lequel nous reviendrons plus tard dans le cours."
      ],
      "metadata": {
        "id": "wNV5ksEvThQN"
      },
      "id": "wNV5ksEvThQN"
    },
    {
      "cell_type": "markdown",
      "source": [
        "## 4.2 With StatsModels (1/3)"
      ],
      "metadata": {
        "id": "ZA9PC0RJdYqX"
      },
      "id": "ZA9PC0RJdYqX"
    },
    {
      "cell_type": "markdown",
      "source": [
        "StatsModels ne fonctionne pas exactement comme scikit-learn.\n",
        "\n",
        "* Première chose, la regression lineaire dans StatsModels est regroupé derrière le terme OLS (Ordinary Least Square, ou méthode des moindres carrés).\n",
        "\n",
        "\n",
        "* Deuxième chose, On peut utiliser StatsModels de 2 façons différentes :  `import statsmodels.api as sm` ou \n",
        " `from statsmodels.formula.api import ols`. Ces deux méthodes ne sont pas fondamentallement différentes mais il y a un petit détail qui change tout. Nous verrons cela dans la suite du notebook.\n",
        "\n",
        "\n",
        "Intéressons nous à la méthode `ols`sur package `formula.api`."
      ],
      "metadata": {
        "id": "lFFD79gvUGYg"
      },
      "id": "lFFD79gvUGYg"
    },
    {
      "cell_type": "code",
      "source": [
        "model = ols(\"hauteur ~ circonference\", data=df_cleaned)"
      ],
      "metadata": {
        "id": "EG7VeY1YT7QD"
      },
      "id": "EG7VeY1YT7QD",
      "execution_count": 612,
      "outputs": []
    },
    {
      "cell_type": "code",
      "source": [
        "model = model.fit()"
      ],
      "metadata": {
        "id": "_XEbNHjqT-Pb"
      },
      "id": "_XEbNHjqT-Pb",
      "execution_count": 613,
      "outputs": []
    },
    {
      "cell_type": "markdown",
      "source": [
        "On peut regrouper les 2 lignes en 1 seule."
      ],
      "metadata": {
        "id": "z23jIy94VSVu"
      },
      "id": "z23jIy94VSVu"
    },
    {
      "cell_type": "code",
      "source": [
        "model = ols(\"hauteur ~ circonference\", data=df_cleaned).fit()"
      ],
      "metadata": {
        "id": "GRNcP_5kUAMP"
      },
      "id": "GRNcP_5kUAMP",
      "execution_count": 614,
      "outputs": []
    },
    {
      "cell_type": "markdown",
      "source": [
        "Chose que ne fait pas scikit-learn, StatsModels nous propose une sorte de 'rapport' complet grace à la méthode `summary`."
      ],
      "metadata": {
        "id": "YrMRXL9KVZBR"
      },
      "id": "YrMRXL9KVZBR"
    },
    {
      "cell_type": "code",
      "source": [
        "print(model.summary())"
      ],
      "metadata": {
        "colab": {
          "base_uri": "https://localhost:8080/"
        },
        "id": "WBrye1Js2lw4",
        "outputId": "b77355d7-bd04-4734-9fd5-3606c5bb6b23"
      },
      "id": "WBrye1Js2lw4",
      "execution_count": 615,
      "outputs": [
        {
          "output_type": "stream",
          "name": "stdout",
          "text": [
            "                            OLS Regression Results                            \n",
            "==============================================================================\n",
            "Dep. Variable:                hauteur   R-squared:                       0.717\n",
            "Model:                            OLS   Adj. R-squared:                  0.717\n",
            "Method:                 Least Squares   F-statistic:                 1.034e+05\n",
            "Date:                Tue, 02 Aug 2022   Prob (F-statistic):               0.00\n",
            "Time:                        16:39:24   Log-Likelihood:            -1.0315e+05\n",
            "No. Observations:               40752   AIC:                         2.063e+05\n",
            "Df Residuals:                   40750   BIC:                         2.063e+05\n",
            "Df Model:                           1                                         \n",
            "Covariance Type:            nonrobust                                         \n",
            "=================================================================================\n",
            "                    coef    std err          t      P>|t|      [0.025      0.975]\n",
            "---------------------------------------------------------------------------------\n",
            "Intercept         5.3025      0.029    184.246      0.000       5.246       5.359\n",
            "circonference     0.0693      0.000    321.510      0.000       0.069       0.070\n",
            "==============================================================================\n",
            "Omnibus:                     3176.090   Durbin-Watson:                   1.995\n",
            "Prob(Omnibus):                  0.000   Jarque-Bera (JB):            18742.340\n",
            "Skew:                           0.047   Prob(JB):                         0.00\n",
            "Kurtosis:                       6.321   Cond. No.                         255.\n",
            "==============================================================================\n",
            "\n",
            "Warnings:\n",
            "[1] Standard Errors assume that the covariance matrix of the errors is correctly specified.\n"
          ]
        }
      ]
    },
    {
      "cell_type": "code",
      "source": [
        ""
      ],
      "metadata": {
        "id": "kH9oOVwAVlOQ"
      },
      "id": "kH9oOVwAVlOQ",
      "execution_count": 615,
      "outputs": []
    },
    {
      "cell_type": "markdown",
      "source": [
        "Entre autres informations on peut y lire le `r2_score`, ainsi que les différents coefficients. On peut également les imprimmer independament les un des autres."
      ],
      "metadata": {
        "id": "OvMA4Ms_Vl7m"
      },
      "id": "OvMA4Ms_Vl7m"
    },
    {
      "cell_type": "code",
      "source": [
        "print(\"Parameters: \", model.params)\n"
      ],
      "metadata": {
        "id": "ZNvLU-fNa7Gv",
        "outputId": "6905e46d-d5ac-479a-e8f7-692b01acf32d",
        "colab": {
          "base_uri": "https://localhost:8080/"
        }
      },
      "id": "ZNvLU-fNa7Gv",
      "execution_count": 616,
      "outputs": [
        {
          "output_type": "stream",
          "name": "stdout",
          "text": [
            "Parameters:  Intercept        5.302512\n",
            "circonference    0.069268\n",
            "dtype: float64\n"
          ]
        }
      ]
    },
    {
      "cell_type": "code",
      "source": [
        "print(\"R2: \", model.rsquared)"
      ],
      "metadata": {
        "colab": {
          "base_uri": "https://localhost:8080/"
        },
        "id": "NyyX_YXWV0W3",
        "outputId": "749fbcc5-3ec3-4101-e4a9-be44837bdd5a"
      },
      "id": "NyyX_YXWV0W3",
      "execution_count": 617,
      "outputs": [
        {
          "output_type": "stream",
          "name": "stdout",
          "text": [
            "R2:  0.7172473601066287\n"
          ]
        }
      ]
    },
    {
      "cell_type": "markdown",
      "source": [
        "Magie des magies, le `r2_score` et nos coefficients sont les mêmes ! "
      ],
      "metadata": {
        "id": "lFTemU--V2GL"
      },
      "id": "lFTemU--V2GL"
    },
    {
      "cell_type": "code",
      "source": [
        "a"
      ],
      "metadata": {
        "colab": {
          "base_uri": "https://localhost:8080/"
        },
        "id": "2nL7ZbkX4iwr",
        "outputId": "4d3caacb-fc3b-4d78-cac9-9c4d9b3290d0"
      },
      "id": "2nL7ZbkX4iwr",
      "execution_count": 618,
      "outputs": [
        {
          "output_type": "execute_result",
          "data": {
            "text/plain": [
              "0.06926841411196329"
            ]
          },
          "metadata": {},
          "execution_count": 618
        }
      ]
    },
    {
      "cell_type": "code",
      "source": [
        "b"
      ],
      "metadata": {
        "colab": {
          "base_uri": "https://localhost:8080/"
        },
        "id": "uY_lqJVU4izJ",
        "outputId": "fdefc5ef-d962-4acb-9080-05d1617b854f"
      },
      "id": "uY_lqJVU4izJ",
      "execution_count": 619,
      "outputs": [
        {
          "output_type": "execute_result",
          "data": {
            "text/plain": [
              "5.302512297717758"
            ]
          },
          "metadata": {},
          "execution_count": 619
        }
      ]
    },
    {
      "cell_type": "markdown",
      "source": [
        "Nos valeurs prédites aussi..."
      ],
      "metadata": {
        "id": "2Xh7TbQAWEOF"
      },
      "id": "2Xh7TbQAWEOF"
    },
    {
      "cell_type": "code",
      "source": [
        "model.predict()"
      ],
      "metadata": {
        "colab": {
          "base_uri": "https://localhost:8080/"
        },
        "id": "lQQFUEqX2z7R",
        "outputId": "8be462f8-9725-452f-d48c-7e6bc502eed8"
      },
      "id": "lQQFUEqX2z7R",
      "execution_count": 620,
      "outputs": [
        {
          "output_type": "execute_result",
          "data": {
            "text/plain": [
              "array([17.77082684, 15.34643234, 10.15130129, ..., 17.77082684,\n",
              "       16.45472697, 17.77082684])"
            ]
          },
          "metadata": {},
          "execution_count": 620
        }
      ]
    },
    {
      "cell_type": "code",
      "source": [
        "y_pred"
      ],
      "metadata": {
        "colab": {
          "base_uri": "https://localhost:8080/"
        },
        "id": "o1-LOsj12z9t",
        "outputId": "9ec75226-51ad-498b-80d5-b97d28ad5369"
      },
      "id": "o1-LOsj12z9t",
      "execution_count": 621,
      "outputs": [
        {
          "output_type": "execute_result",
          "data": {
            "text/plain": [
              "array([17.77082684, 15.34643234, 10.15130129, ..., 17.77082684,\n",
              "       16.45472697, 17.77082684])"
            ]
          },
          "metadata": {},
          "execution_count": 621
        }
      ]
    },
    {
      "cell_type": "code",
      "source": [
        "fig, ax = plt.subplots(1,1, figsize=(8,8))\n",
        "ax.set_xlabel(\"y\")\n",
        "ax.set_ylabel(\"model.predict()\")\n",
        "_ = ax.scatter(y.values, y_pred, c=\"blue\", marker=\".\", alpha=1)\n",
        "_ = ax.plot([0, 60], [0, 60], c=\"red\")"
      ],
      "metadata": {
        "colab": {
          "base_uri": "https://localhost:8080/",
          "height": 502
        },
        "id": "C1T-FRmy20Ab",
        "outputId": "7877a865-3dfc-4d13-cdbf-502d90eed2b8"
      },
      "id": "C1T-FRmy20Ab",
      "execution_count": 622,
      "outputs": [
        {
          "output_type": "display_data",
          "data": {
            "text/plain": [
              "<Figure size 576x576 with 1 Axes>"
            ],
            "image/png": "[encoded data removed]"
          },
          "metadata": {}
        }
      ]
    },
    {
      "cell_type": "code",
      "source": [
        ""
      ],
      "metadata": {
        "id": "ejSE9DcT20PY"
      },
      "id": "ejSE9DcT20PY",
      "execution_count": 622,
      "outputs": []
    },
    {
      "cell_type": "markdown",
      "source": [
        "## 4.3 With StatsModels (2/3)"
      ],
      "metadata": {
        "id": "mEJTtCv-208p"
      },
      "id": "mEJTtCv-208p"
    },
    {
      "cell_type": "markdown",
      "source": [
        "Intéressons nous maintenant à l'autre méthode : `import statsmodels.api as sm`."
      ],
      "metadata": {
        "id": "Q35UoZXrWMvF"
      },
      "id": "Q35UoZXrWMvF"
    },
    {
      "cell_type": "code",
      "source": [
        "model = sm.OLS(y, X)\n",
        "model = model.fit()\n",
        "print(model.summary())"
      ],
      "metadata": {
        "colab": {
          "base_uri": "https://localhost:8080/"
        },
        "id": "CzamWtWp3twe",
        "outputId": "c57058bc-540f-42f6-93bf-1eee35f65b37"
      },
      "id": "CzamWtWp3twe",
      "execution_count": 623,
      "outputs": [
        {
          "output_type": "stream",
          "name": "stdout",
          "text": [
            "                                 OLS Regression Results                                \n",
            "=======================================================================================\n",
            "Dep. Variable:                hauteur   R-squared (uncentered):                   0.918\n",
            "Model:                            OLS   Adj. R-squared (uncentered):              0.918\n",
            "Method:                 Least Squares   F-statistic:                          4.559e+05\n",
            "Date:                Tue, 02 Aug 2022   Prob (F-statistic):                        0.00\n",
            "Time:                        16:39:25   Log-Likelihood:                     -1.1550e+05\n",
            "No. Observations:               40752   AIC:                                  2.310e+05\n",
            "Df Residuals:                   40751   BIC:                                  2.310e+05\n",
            "Df Model:                           1                                                  \n",
            "Covariance Type:            nonrobust                                                  \n",
            "=================================================================================\n",
            "                    coef    std err          t      P>|t|      [0.025      0.975]\n",
            "---------------------------------------------------------------------------------\n",
            "circonference     0.1031      0.000    675.212      0.000       0.103       0.103\n",
            "==============================================================================\n",
            "Omnibus:                    16468.322   Durbin-Watson:                   1.756\n",
            "Prob(Omnibus):                  0.000   Jarque-Bera (JB):           169283.085\n",
            "Skew:                          -1.659   Prob(JB):                         0.00\n",
            "Kurtosis:                      12.417   Cond. No.                         1.00\n",
            "==============================================================================\n",
            "\n",
            "Warnings:\n",
            "[1] Standard Errors assume that the covariance matrix of the errors is correctly specified.\n"
          ]
        }
      ]
    },
    {
      "cell_type": "markdown",
      "source": [
        "Tiens... le `r2_score` est de 0.91, et le `b`de `y = a.x + b`, aussi appelé `ìntercept` n'existe plus..."
      ],
      "metadata": {
        "id": "XmEGfx_oWZ5v"
      },
      "id": "XmEGfx_oWZ5v"
    },
    {
      "cell_type": "code",
      "source": [
        "print(\"Parameters: \", model.params)\n",
        "print(\"R2: \", model.rsquared)"
      ],
      "metadata": {
        "colab": {
          "base_uri": "https://localhost:8080/"
        },
        "id": "SXv6kNqjluML",
        "outputId": "83fcbd40-06f1-48e9-b7e5-1585e2e6bf76"
      },
      "id": "SXv6kNqjluML",
      "execution_count": 624,
      "outputs": [
        {
          "output_type": "stream",
          "name": "stdout",
          "text": [
            "Parameters:  circonference    0.103091\n",
            "dtype: float64\n",
            "R2:  0.9179503262582753\n"
          ]
        }
      ]
    },
    {
      "cell_type": "markdown",
      "source": [
        "Nos prédictions sont donc différentes ? "
      ],
      "metadata": {
        "id": "22Cxhi96XFbf"
      },
      "id": "22Cxhi96XFbf"
    },
    {
      "cell_type": "code",
      "source": [
        "model.predict()[:10]"
      ],
      "metadata": {
        "colab": {
          "base_uri": "https://localhost:8080/"
        },
        "id": "FBkNThe_l8CH",
        "outputId": "f6453ea5-50fe-4a44-87c1-2056d724b9c3"
      },
      "id": "FBkNThe_l8CH",
      "execution_count": 625,
      "outputs": [
        {
          "output_type": "execute_result",
          "data": {
            "text/plain": [
              "array([18.55645577, 14.94825604,  7.21639947,  4.63911394, 12.88642762,\n",
              "        2.57728552, 22.68011261,  2.06182842,  9.27822788, 18.55645577])"
            ]
          },
          "metadata": {},
          "execution_count": 625
        }
      ]
    },
    {
      "cell_type": "code",
      "source": [
        "y_strange = model.predict()"
      ],
      "metadata": {
        "id": "B3H2uIuOZhEy"
      },
      "id": "B3H2uIuOZhEy",
      "execution_count": 626,
      "outputs": []
    },
    {
      "cell_type": "code",
      "source": [
        "y_pred[:10]"
      ],
      "metadata": {
        "colab": {
          "base_uri": "https://localhost:8080/"
        },
        "id": "8tuu0bTwq6qk",
        "outputId": "6f3fea4f-dea8-48fb-a614-56dff116a625"
      },
      "id": "8tuu0bTwq6qk",
      "execution_count": 627,
      "outputs": [
        {
          "output_type": "execute_result",
          "data": {
            "text/plain": [
              "array([17.77082684, 15.34643234, 10.15130129,  8.41959093, 13.96106406,\n",
              "        7.03422265, 20.5415634 ,  6.68788058, 11.53666957, 17.77082684])"
            ]
          },
          "metadata": {},
          "execution_count": 627
        }
      ]
    },
    {
      "cell_type": "code",
      "source": [
        "y[:10].values"
      ],
      "metadata": {
        "id": "KlVOZUTmbbFs",
        "outputId": "ef941fda-43c0-4522-f470-4a2efe5db562",
        "colab": {
          "base_uri": "https://localhost:8080/"
        }
      },
      "id": "KlVOZUTmbbFs",
      "execution_count": 628,
      "outputs": [
        {
          "output_type": "execute_result",
          "data": {
            "text/plain": [
              "array([15, 16, 12,  5, 10,  5, 25,  5, 16, 20])"
            ]
          },
          "metadata": {},
          "execution_count": 628
        }
      ]
    },
    {
      "cell_type": "code",
      "source": [
        "fig, ax = plt.subplots(1,1, figsize=(8,8))\n",
        "ax.set_xlabel(\"y\")\n",
        "ax.set_ylabel(\"model.predict()\")\n",
        "_ = ax.scatter(y.values, y_pred, c=\"blue\", marker=\".\", alpha=1)\n",
        "_ = ax.plot([0, 60], [0, 60], c=\"red\")"
      ],
      "metadata": {
        "colab": {
          "base_uri": "https://localhost:8080/",
          "height": 502
        },
        "id": "z527QxOEXMms",
        "outputId": "154597f1-7789-4c1c-efb4-2af837343e2f"
      },
      "id": "z527QxOEXMms",
      "execution_count": 629,
      "outputs": [
        {
          "output_type": "display_data",
          "data": {
            "text/plain": [
              "<Figure size 576x576 with 1 Axes>"
            ],
            "image/png": "[encoded data removed]"
          },
          "metadata": {}
        }
      ]
    },
    {
      "cell_type": "markdown",
      "source": [
        "Avant de comprendre pourquoi notre `r2_score` est monté en flèche, et pourquoi il est dit `uncentered`, regardons d'abord comment on peut avec le module `sm`, obtenir le même fonctionnement que le module `ols` du package `formula.api`."
      ],
      "metadata": {
        "id": "9tPSoUKpXYVX"
      },
      "id": "9tPSoUKpXYVX"
    },
    {
      "cell_type": "markdown",
      "source": [
        "## 4.4 With StatsModels (3/3)"
      ],
      "metadata": {
        "id": "-ipgxR6yvu5e"
      },
      "id": "-ipgxR6yvu5e"
    },
    {
      "cell_type": "markdown",
      "source": [
        "Il faut en fait rajouter une colonne 'artificielle' qui ne comporte q'une seule valeur. De la sorte, StatsModels va calculer un coefficient pour cette colonne et nous donner notre `b`.\n",
        "\n",
        "\n",
        "La valeur de cette colonne ne peut pas être 0, je vous laisse deviner pourquoi! En général on la fixe à 1."
      ],
      "metadata": {
        "id": "zEbL5typX91Y"
      },
      "id": "zEbL5typX91Y"
    },
    {
      "cell_type": "code",
      "source": [
        "X"
      ],
      "metadata": {
        "colab": {
          "base_uri": "https://localhost:8080/",
          "height": 424
        },
        "id": "YqOwL2QDvz_r",
        "outputId": "707f5eed-b36a-48e0-c658-7fb992f1fea7"
      },
      "id": "YqOwL2QDvz_r",
      "execution_count": 630,
      "outputs": [
        {
          "output_type": "execute_result",
          "data": {
            "text/plain": [
              "        circonference\n",
              "3                 180\n",
              "10                145\n",
              "11                 70\n",
              "17                 45\n",
              "18                125\n",
              "...               ...\n",
              "205824             45\n",
              "205829            115\n",
              "205832            180\n",
              "205835            161\n",
              "205836            180\n",
              "\n",
              "[40752 rows x 1 columns]"
            ],
            "text/html": [
              "\n",
              "  <div id=\"df-63871bfc-8c37-4c8c-947c-58cb6627aeb9\">\n",
              "    <div class=\"colab-df-container\">\n",
              "      <div>\n",
              "<style scoped>\n",
              "    .dataframe tbody tr th:only-of-type {\n",
              "        vertical-align: middle;\n",
              "    }\n",
              "\n",
              "    .dataframe tbody tr th {\n",
              "        vertical-align: top;\n",
              "    }\n",
              "\n",
              "    .dataframe thead th {\n",
              "        text-align: right;\n",
              "    }\n",
              "</style>\n",
              "<table border=\"1\" class=\"dataframe\">\n",
              "  <thead>\n",
              "    <tr style=\"text-align: right;\">\n",
              "      <th></th>\n",
              "      <th>circonference</th>\n",
              "    </tr>\n",
              "  </thead>\n",
              "  <tbody>\n",
              "    <tr>\n",
              "      <th>3</th>\n",
              "      <td>180</td>\n",
              "    </tr>\n",
              "    <tr>\n",
              "      <th>10</th>\n",
              "      <td>145</td>\n",
              "    </tr>\n",
              "    <tr>\n",
              "      <th>11</th>\n",
              "      <td>70</td>\n",
              "    </tr>\n",
              "    <tr>\n",
              "      <th>17</th>\n",
              "      <td>45</td>\n",
              "    </tr>\n",
              "    <tr>\n",
              "      <th>18</th>\n",
              "      <td>125</td>\n",
              "    </tr>\n",
              "    <tr>\n",
              "      <th>...</th>\n",
              "      <td>...</td>\n",
              "    </tr>\n",
              "    <tr>\n",
              "      <th>205824</th>\n",
              "      <td>45</td>\n",
              "    </tr>\n",
              "    <tr>\n",
              "      <th>205829</th>\n",
              "      <td>115</td>\n",
              "    </tr>\n",
              "    <tr>\n",
              "      <th>205832</th>\n",
              "      <td>180</td>\n",
              "    </tr>\n",
              "    <tr>\n",
              "      <th>205835</th>\n",
              "      <td>161</td>\n",
              "    </tr>\n",
              "    <tr>\n",
              "      <th>205836</th>\n",
              "      <td>180</td>\n",
              "    </tr>\n",
              "  </tbody>\n",
              "</table>\n",
              "<p>40752 rows × 1 columns</p>\n",
              "</div>\n",
              "      <button class=\"colab-df-convert\" onclick=\"convertToInteractive('df-63871bfc-8c37-4c8c-947c-58cb6627aeb9')\"\n",
              "              title=\"Convert this dataframe to an interactive table.\"\n",
              "              style=\"display:none;\">\n",
              "        \n",
              "  <svg xmlns=\"http://www.w3.org/2000/svg\" height=\"24px\"viewBox=\"0 0 24 24\"\n",
              "       width=\"24px\">\n",
              "    <path d=\"M0 0h24v24H0V0z\" fill=\"none\"/>\n",
              "    <path d=\"M18.56 5.44l.94 2.06.94-2.06 2.06-.94-2.06-.94-.94-2.06-.94 2.06-2.06.94zm-11 1L8.5 8.5l.94-2.06 2.06-.94-2.06-.94L8.5 2.5l-.94 2.06-2.06.94zm10 10l.94 2.06.94-2.06 2.06-.94-2.06-.94-.94-2.06-.94 2.06-2.06.94z\"/><path d=\"M17.41 7.96l-1.37-1.37c-.4-.4-.92-.59-1.43-.59-.52 0-1.04.2-1.43.59L10.3 9.45l-7.72 7.72c-.78.78-.78 2.05 0 2.83L4 21.41c.39.39.9.59 1.41.59.51 0 1.02-.2 1.41-.59l7.78-7.78 2.81-2.81c.8-.78.8-2.07 0-2.86zM5.41 20L4 18.59l7.72-7.72 1.47 1.35L5.41 20z\"/>\n",
              "  </svg>\n",
              "      </button>\n",
              "      \n",
              "  <style>\n",
              "    .colab-df-container {\n",
              "      display:flex;\n",
              "      flex-wrap:wrap;\n",
              "      gap: 12px;\n",
              "    }\n",
              "\n",
              "    .colab-df-convert {\n",
              "      background-color: #E8F0FE;\n",
              "      border: none;\n",
              "      border-radius: 50%;\n",
              "      cursor: pointer;\n",
              "      display: none;\n",
              "      fill: #1967D2;\n",
              "      height: 32px;\n",
              "      padding: 0 0 0 0;\n",
              "      width: 32px;\n",
              "    }\n",
              "\n",
              "    .colab-df-convert:hover {\n",
              "      background-color: #E2EBFA;\n",
              "      box-shadow: 0px 1px 2px rgba(60, 64, 67, 0.3), 0px 1px 3px 1px rgba(60, 64, 67, 0.15);\n",
              "      fill: #174EA6;\n",
              "    }\n",
              "\n",
              "    [theme=dark] .colab-df-convert {\n",
              "      background-color: #3B4455;\n",
              "      fill: #D2E3FC;\n",
              "    }\n",
              "\n",
              "    [theme=dark] .colab-df-convert:hover {\n",
              "      background-color: #434B5C;\n",
              "      box-shadow: 0px 1px 3px 1px rgba(0, 0, 0, 0.15);\n",
              "      filter: drop-shadow(0px 1px 2px rgba(0, 0, 0, 0.3));\n",
              "      fill: #FFFFFF;\n",
              "    }\n",
              "  </style>\n",
              "\n",
              "      <script>\n",
              "        const buttonEl =\n",
              "          document.querySelector('#df-63871bfc-8c37-4c8c-947c-58cb6627aeb9 button.colab-df-convert');\n",
              "        buttonEl.style.display =\n",
              "          google.colab.kernel.accessAllowed ? 'block' : 'none';\n",
              "\n",
              "        async function convertToInteractive(key) {\n",
              "          const element = document.querySelector('#df-63871bfc-8c37-4c8c-947c-58cb6627aeb9');\n",
              "          const dataTable =\n",
              "            await google.colab.kernel.invokeFunction('convertToInteractive',\n",
              "                                                     [key], {});\n",
              "          if (!dataTable) return;\n",
              "\n",
              "          const docLinkHtml = 'Like what you see? Visit the ' +\n",
              "            '<a target=\"_blank\" href=https://colab.research.google.com/notebooks/data_table.ipynb>data table notebook</a>'\n",
              "            + ' to learn more about interactive tables.';\n",
              "          element.innerHTML = '';\n",
              "          dataTable['output_type'] = 'display_data';\n",
              "          await google.colab.output.renderOutput(dataTable, element);\n",
              "          const docLink = document.createElement('div');\n",
              "          docLink.innerHTML = docLinkHtml;\n",
              "          element.appendChild(docLink);\n",
              "        }\n",
              "      </script>\n",
              "    </div>\n",
              "  </div>\n",
              "  "
            ]
          },
          "metadata": {},
          "execution_count": 630
        }
      ]
    },
    {
      "cell_type": "code",
      "source": [
        "X[\"intercept\"] = 1\n",
        "X.head()"
      ],
      "metadata": {
        "colab": {
          "base_uri": "https://localhost:8080/",
          "height": 206
        },
        "id": "4PrCHN13v16Q",
        "outputId": "bcc37dcf-a50c-4acc-e783-937b6902ad43"
      },
      "id": "4PrCHN13v16Q",
      "execution_count": 631,
      "outputs": [
        {
          "output_type": "execute_result",
          "data": {
            "text/plain": [
              "    circonference  intercept\n",
              "3             180          1\n",
              "10            145          1\n",
              "11             70          1\n",
              "17             45          1\n",
              "18            125          1"
            ],
            "text/html": [
              "\n",
              "  <div id=\"df-e51d6e7c-fd4f-4345-a5c5-1663fa13e9e2\">\n",
              "    <div class=\"colab-df-container\">\n",
              "      <div>\n",
              "<style scoped>\n",
              "    .dataframe tbody tr th:only-of-type {\n",
              "        vertical-align: middle;\n",
              "    }\n",
              "\n",
              "    .dataframe tbody tr th {\n",
              "        vertical-align: top;\n",
              "    }\n",
              "\n",
              "    .dataframe thead th {\n",
              "        text-align: right;\n",
              "    }\n",
              "</style>\n",
              "<table border=\"1\" class=\"dataframe\">\n",
              "  <thead>\n",
              "    <tr style=\"text-align: right;\">\n",
              "      <th></th>\n",
              "      <th>circonference</th>\n",
              "      <th>intercept</th>\n",
              "    </tr>\n",
              "  </thead>\n",
              "  <tbody>\n",
              "    <tr>\n",
              "      <th>3</th>\n",
              "      <td>180</td>\n",
              "      <td>1</td>\n",
              "    </tr>\n",
              "    <tr>\n",
              "      <th>10</th>\n",
              "      <td>145</td>\n",
              "      <td>1</td>\n",
              "    </tr>\n",
              "    <tr>\n",
              "      <th>11</th>\n",
              "      <td>70</td>\n",
              "      <td>1</td>\n",
              "    </tr>\n",
              "    <tr>\n",
              "      <th>17</th>\n",
              "      <td>45</td>\n",
              "      <td>1</td>\n",
              "    </tr>\n",
              "    <tr>\n",
              "      <th>18</th>\n",
              "      <td>125</td>\n",
              "      <td>1</td>\n",
              "    </tr>\n",
              "  </tbody>\n",
              "</table>\n",
              "</div>\n",
              "      <button class=\"colab-df-convert\" onclick=\"convertToInteractive('df-e51d6e7c-fd4f-4345-a5c5-1663fa13e9e2')\"\n",
              "              title=\"Convert this dataframe to an interactive table.\"\n",
              "              style=\"display:none;\">\n",
              "        \n",
              "  <svg xmlns=\"http://www.w3.org/2000/svg\" height=\"24px\"viewBox=\"0 0 24 24\"\n",
              "       width=\"24px\">\n",
              "    <path d=\"M0 0h24v24H0V0z\" fill=\"none\"/>\n",
              "    <path d=\"M18.56 5.44l.94 2.06.94-2.06 2.06-.94-2.06-.94-.94-2.06-.94 2.06-2.06.94zm-11 1L8.5 8.5l.94-2.06 2.06-.94-2.06-.94L8.5 2.5l-.94 2.06-2.06.94zm10 10l.94 2.06.94-2.06 2.06-.94-2.06-.94-.94-2.06-.94 2.06-2.06.94z\"/><path d=\"M17.41 7.96l-1.37-1.37c-.4-.4-.92-.59-1.43-.59-.52 0-1.04.2-1.43.59L10.3 9.45l-7.72 7.72c-.78.78-.78 2.05 0 2.83L4 21.41c.39.39.9.59 1.41.59.51 0 1.02-.2 1.41-.59l7.78-7.78 2.81-2.81c.8-.78.8-2.07 0-2.86zM5.41 20L4 18.59l7.72-7.72 1.47 1.35L5.41 20z\"/>\n",
              "  </svg>\n",
              "      </button>\n",
              "      \n",
              "  <style>\n",
              "    .colab-df-container {\n",
              "      display:flex;\n",
              "      flex-wrap:wrap;\n",
              "      gap: 12px;\n",
              "    }\n",
              "\n",
              "    .colab-df-convert {\n",
              "      background-color: #E8F0FE;\n",
              "      border: none;\n",
              "      border-radius: 50%;\n",
              "      cursor: pointer;\n",
              "      display: none;\n",
              "      fill: #1967D2;\n",
              "      height: 32px;\n",
              "      padding: 0 0 0 0;\n",
              "      width: 32px;\n",
              "    }\n",
              "\n",
              "    .colab-df-convert:hover {\n",
              "      background-color: #E2EBFA;\n",
              "      box-shadow: 0px 1px 2px rgba(60, 64, 67, 0.3), 0px 1px 3px 1px rgba(60, 64, 67, 0.15);\n",
              "      fill: #174EA6;\n",
              "    }\n",
              "\n",
              "    [theme=dark] .colab-df-convert {\n",
              "      background-color: #3B4455;\n",
              "      fill: #D2E3FC;\n",
              "    }\n",
              "\n",
              "    [theme=dark] .colab-df-convert:hover {\n",
              "      background-color: #434B5C;\n",
              "      box-shadow: 0px 1px 3px 1px rgba(0, 0, 0, 0.15);\n",
              "      filter: drop-shadow(0px 1px 2px rgba(0, 0, 0, 0.3));\n",
              "      fill: #FFFFFF;\n",
              "    }\n",
              "  </style>\n",
              "\n",
              "      <script>\n",
              "        const buttonEl =\n",
              "          document.querySelector('#df-e51d6e7c-fd4f-4345-a5c5-1663fa13e9e2 button.colab-df-convert');\n",
              "        buttonEl.style.display =\n",
              "          google.colab.kernel.accessAllowed ? 'block' : 'none';\n",
              "\n",
              "        async function convertToInteractive(key) {\n",
              "          const element = document.querySelector('#df-e51d6e7c-fd4f-4345-a5c5-1663fa13e9e2');\n",
              "          const dataTable =\n",
              "            await google.colab.kernel.invokeFunction('convertToInteractive',\n",
              "                                                     [key], {});\n",
              "          if (!dataTable) return;\n",
              "\n",
              "          const docLinkHtml = 'Like what you see? Visit the ' +\n",
              "            '<a target=\"_blank\" href=https://colab.research.google.com/notebooks/data_table.ipynb>data table notebook</a>'\n",
              "            + ' to learn more about interactive tables.';\n",
              "          element.innerHTML = '';\n",
              "          dataTable['output_type'] = 'display_data';\n",
              "          await google.colab.output.renderOutput(dataTable, element);\n",
              "          const docLink = document.createElement('div');\n",
              "          docLink.innerHTML = docLinkHtml;\n",
              "          element.appendChild(docLink);\n",
              "        }\n",
              "      </script>\n",
              "    </div>\n",
              "  </div>\n",
              "  "
            ]
          },
          "metadata": {},
          "execution_count": 631
        }
      ]
    },
    {
      "cell_type": "code",
      "execution_count": 632,
      "id": "db4fa4ad",
      "metadata": {
        "id": "db4fa4ad",
        "outputId": "516babe0-508a-4d4d-9ec0-4d8763af0c4a",
        "colab": {
          "base_uri": "https://localhost:8080/"
        }
      },
      "outputs": [
        {
          "output_type": "stream",
          "name": "stdout",
          "text": [
            "                            OLS Regression Results                            \n",
            "==============================================================================\n",
            "Dep. Variable:                hauteur   R-squared:                       0.717\n",
            "Model:                            OLS   Adj. R-squared:                  0.717\n",
            "Method:                 Least Squares   F-statistic:                 1.034e+05\n",
            "Date:                Tue, 02 Aug 2022   Prob (F-statistic):               0.00\n",
            "Time:                        16:39:25   Log-Likelihood:            -1.0315e+05\n",
            "No. Observations:               40752   AIC:                         2.063e+05\n",
            "Df Residuals:                   40750   BIC:                         2.063e+05\n",
            "Df Model:                           1                                         \n",
            "Covariance Type:            nonrobust                                         \n",
            "=================================================================================\n",
            "                    coef    std err          t      P>|t|      [0.025      0.975]\n",
            "---------------------------------------------------------------------------------\n",
            "circonference     0.0693      0.000    321.510      0.000       0.069       0.070\n",
            "intercept         5.3025      0.029    184.246      0.000       5.246       5.359\n",
            "==============================================================================\n",
            "Omnibus:                     3176.090   Durbin-Watson:                   1.995\n",
            "Prob(Omnibus):                  0.000   Jarque-Bera (JB):            18742.340\n",
            "Skew:                           0.047   Prob(JB):                         0.00\n",
            "Kurtosis:                       6.321   Cond. No.                         255.\n",
            "==============================================================================\n",
            "\n",
            "Warnings:\n",
            "[1] Standard Errors assume that the covariance matrix of the errors is correctly specified.\n"
          ]
        }
      ],
      "source": [
        "model = sm.OLS(y, X)\n",
        "model = model.fit()\n",
        "print(model.summary())"
      ]
    },
    {
      "cell_type": "code",
      "source": [
        "print(\"Parameters: \", model.params)\n",
        "print(\"R2: \", model.rsquared)"
      ],
      "metadata": {
        "colab": {
          "base_uri": "https://localhost:8080/"
        },
        "id": "b9iQ39dI4Y8T",
        "outputId": "bbe7820b-ee33-4394-ee89-32bca38dfe90"
      },
      "id": "b9iQ39dI4Y8T",
      "execution_count": 633,
      "outputs": [
        {
          "output_type": "stream",
          "name": "stdout",
          "text": [
            "Parameters:  circonference    0.069268\n",
            "intercept        5.302512\n",
            "dtype: float64\n",
            "R2:  0.7172473601066287\n"
          ]
        }
      ]
    },
    {
      "cell_type": "markdown",
      "source": [
        "C'est bon, nous avons retrouvé le modèle que nous connaissions!"
      ],
      "metadata": {
        "id": "mUR0BpaWYiyr"
      },
      "id": "mUR0BpaWYiyr"
    },
    {
      "cell_type": "markdown",
      "source": [
        "Mais alors... a quoi correspond le `r2_score` qui était 'trop' élevé?\n",
        "\n",
        "Et bien tout simplement car dans le cas ou il n'y a pas de intercept, le `r2_score` n'est pas exactement le vrai `r2_score`.\n",
        "\n",
        "\n",
        "\n",
        "On peut le démontrer facilement : "
      ],
      "metadata": {
        "id": "pkADb1dYYzKk"
      },
      "id": "pkADb1dYYzKk"
    },
    {
      "cell_type": "code",
      "execution_count": 634,
      "id": "8d68c4d0",
      "metadata": {
        "id": "8d68c4d0",
        "colab": {
          "base_uri": "https://localhost:8080/"
        },
        "outputId": "8e7fb5a2-2285-4700-c8c3-22fcb9b5d2ac"
      },
      "outputs": [
        {
          "output_type": "execute_result",
          "data": {
            "text/plain": [
              "0.4817016223683078"
            ]
          },
          "metadata": {},
          "execution_count": 634
        }
      ],
      "source": [
        "r2_score(y, y_strange)"
      ]
    },
    {
      "cell_type": "code",
      "source": [
        "b"
      ],
      "metadata": {
        "id": "i3IooAofaoMC",
        "outputId": "43e609aa-7e96-477d-a60d-27cf329338eb",
        "colab": {
          "base_uri": "https://localhost:8080/"
        }
      },
      "id": "i3IooAofaoMC",
      "execution_count": 635,
      "outputs": [
        {
          "output_type": "execute_result",
          "data": {
            "text/plain": [
              "5.302512297717758"
            ]
          },
          "metadata": {},
          "execution_count": 635
        }
      ]
    },
    {
      "cell_type": "markdown",
      "source": [
        "Cela n'aura pas de grandes répercussions sur la suite de ce cours, mais retenez bien deux choses :\n",
        "* Faites attention au module que vous utilisez si vous faites une regression avec StatsModels.\n",
        "* Si un score apparait \"trop\" élevé, il vaut mieux être prudent. \n"
      ],
      "metadata": {
        "id": "los4zf44Z7qD"
      },
      "id": "los4zf44Z7qD"
    },
    {
      "cell_type": "code",
      "source": [
        ""
      ],
      "metadata": {
        "id": "mJET1zu-apDS"
      },
      "id": "mJET1zu-apDS",
      "execution_count": 635,
      "outputs": []
    },
    {
      "cell_type": "code",
      "source": [
        "y_pred"
      ],
      "metadata": {
        "id": "ruZeFI57a2hW",
        "outputId": "9f8e1988-f275-460b-a9f4-37784c952c24",
        "colab": {
          "base_uri": "https://localhost:8080/"
        }
      },
      "id": "ruZeFI57a2hW",
      "execution_count": 636,
      "outputs": [
        {
          "output_type": "execute_result",
          "data": {
            "text/plain": [
              "array([17.77082684, 15.34643234, 10.15130129, ..., 17.77082684,\n",
              "       16.45472697, 17.77082684])"
            ]
          },
          "metadata": {},
          "execution_count": 636
        }
      ]
    },
    {
      "cell_type": "markdown",
      "source": [
        "\n",
        "\n",
        "Pour les plus curieux, voici un [lien](https://stats.stackexchange.com/questions/36064/calculating-r-squared-coefficient-of-determination-with-centered-vs-un-center) qui donne plus d'informations sur le sujet."
      ],
      "metadata": {
        "id": "MuQVHgedZtMq"
      },
      "id": "MuQVHgedZtMq"
    },
    {
      "cell_type": "code",
      "source": [
        "model.predict()"
      ],
      "metadata": {
        "colab": {
          "base_uri": "https://localhost:8080/"
        },
        "id": "9YUVUMyRwtC2",
        "outputId": "bba9b966-c77a-4813-ec51-e2581fc103b8"
      },
      "id": "9YUVUMyRwtC2",
      "execution_count": 637,
      "outputs": [
        {
          "output_type": "execute_result",
          "data": {
            "text/plain": [
              "array([17.77082684, 15.34643234, 10.15130129, ..., 17.77082684,\n",
              "       16.45472697, 17.77082684])"
            ]
          },
          "metadata": {},
          "execution_count": 637
        }
      ]
    }
  ],
  "metadata": {
    "kernelspec": {
      "display_name": "Python 3 (ipykernel)",
      "language": "python",
      "name": "python3"
    },
    "language_info": {
      "codemirror_mode": {
        "name": "ipython",
        "version": 3
      },
      "file_extension": ".py",
      "mimetype": "text/x-python",
      "name": "python",
      "nbconvert_exporter": "python",
      "pygments_lexer": "ipython3",
      "version": "3.10.5"
    },
    "colab": {
      "name": "Copie de TP-page-6.ipynb",
      "provenance": [],
      "collapsed_sections": [],
      "toc_visible": true,
      "include_colab_link": true
    }
  },
  "nbformat": 4,
  "nbformat_minor": 5
}