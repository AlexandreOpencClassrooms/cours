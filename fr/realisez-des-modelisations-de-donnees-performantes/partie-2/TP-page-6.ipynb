{
 "cells": [
  {
   "cell_type": "markdown",
   "id": "8ea72021",
   "metadata": {},
   "source": [
    "<h1>Déterminez la hauteur d'un arbre à l'aide d'une régression</h1>"
   ]
  },
  {
   "cell_type": "markdown",
   "id": "9f936699",
   "metadata": {},
   "source": [
    "# 1. ,kzokedfz"
   ]
  },
  {
   "cell_type": "markdown",
   "id": "aed90d82",
   "metadata": {},
   "source": [
    "## 1.1 Context"
   ]
  },
  {
   "cell_type": "code",
   "execution_count": null,
   "id": "58b25d6f",
   "metadata": {},
   "outputs": [],
   "source": []
  },
  {
   "cell_type": "code",
   "execution_count": null,
   "id": "e4e38216",
   "metadata": {},
   "outputs": [],
   "source": []
  },
  {
   "cell_type": "markdown",
   "id": "8e5333db",
   "metadata": {},
   "source": [
    "* version 0.0.1\n",
    "* last update 2022-08-02\n",
    "* Author Alexandre Gazagnes"
   ]
  },
  {
   "cell_type": "code",
   "execution_count": null,
   "id": "d67cb980",
   "metadata": {},
   "outputs": [],
   "source": []
  },
  {
   "cell_type": "markdown",
   "id": "5e28c922",
   "metadata": {},
   "source": [
    "## x.2 Imports"
   ]
  },
  {
   "cell_type": "code",
   "execution_count": 1,
   "id": "00e552c6",
   "metadata": {},
   "outputs": [],
   "source": [
    "# !pip freeze"
   ]
  },
  {
   "cell_type": "code",
   "execution_count": 2,
   "id": "9f4d99d3",
   "metadata": {},
   "outputs": [],
   "source": [
    "import os\n",
    "import warnings\n",
    "\n",
    "import numpy as np\n",
    "import pandas as pd\n",
    "\n",
    "import seaborn as sns\n",
    "import matplotlib.pyplot as plt\n",
    "\n",
    "\n",
    "from sklearn.linear_model import LinearRegression\n",
    "from sklearn.metrics import r2_score\n",
    "\n",
    "# import statsmodels"
   ]
  },
  {
   "cell_type": "markdown",
   "id": "9ca5a882",
   "metadata": {},
   "source": [
    "## x.x Graphics & options"
   ]
  },
  {
   "cell_type": "code",
   "execution_count": 3,
   "id": "a5c3e8ec",
   "metadata": {},
   "outputs": [],
   "source": [
    "sns.set()\n",
    "\n",
    "warnings.filterwarnings('ignore')"
   ]
  },
  {
   "cell_type": "markdown",
   "id": "73769b5d",
   "metadata": {},
   "source": [
    "## x.x Data"
   ]
  },
  {
   "cell_type": "code",
   "execution_count": 4,
   "id": "c4282656",
   "metadata": {},
   "outputs": [
    {
     "data": {
      "text/plain": [
       "['.ipynb_checkpoints', 'data', 'TP-page-6.ipynb']"
      ]
     },
     "execution_count": 4,
     "metadata": {},
     "output_type": "execute_result"
    }
   ],
   "source": [
    "os.listdir()"
   ]
  },
  {
   "cell_type": "code",
   "execution_count": 5,
   "id": "bd9b9ae6",
   "metadata": {},
   "outputs": [],
   "source": [
    "path     = \"data/source/\"\n",
    "filename = \"les-arbres.csv\""
   ]
  },
  {
   "cell_type": "code",
   "execution_count": 6,
   "id": "b0edcaac",
   "metadata": {},
   "outputs": [
    {
     "data": {
      "text/plain": [
       "['les-arbres.csv']"
      ]
     },
     "execution_count": 6,
     "metadata": {},
     "output_type": "execute_result"
    }
   ],
   "source": [
    "os.listdir(path)"
   ]
  },
  {
   "cell_type": "code",
   "execution_count": 7,
   "id": "a705328f",
   "metadata": {},
   "outputs": [
    {
     "data": {
      "text/html": [
       "<div>\n",
       "<style scoped>\n",
       "    .dataframe tbody tr th:only-of-type {\n",
       "        vertical-align: middle;\n",
       "    }\n",
       "\n",
       "    .dataframe tbody tr th {\n",
       "        vertical-align: top;\n",
       "    }\n",
       "\n",
       "    .dataframe thead th {\n",
       "        text-align: right;\n",
       "    }\n",
       "</style>\n",
       "<table border=\"1\" class=\"dataframe\">\n",
       "  <thead>\n",
       "    <tr style=\"text-align: right;\">\n",
       "      <th></th>\n",
       "      <th>IDBASE</th>\n",
       "      <th>TYPE EMPLACEMENT</th>\n",
       "      <th>DOMANIALITE</th>\n",
       "      <th>ARRONDISSEMENT</th>\n",
       "      <th>COMPLEMENT ADRESSE</th>\n",
       "      <th>NUMERO</th>\n",
       "      <th>LIEU / ADRESSE</th>\n",
       "      <th>IDEMPLACEMENT</th>\n",
       "      <th>LIBELLE FRANCAIS</th>\n",
       "      <th>GENRE</th>\n",
       "      <th>ESPECE</th>\n",
       "      <th>VARIETE OUCULTIVAR</th>\n",
       "      <th>CIRCONFERENCE (cm)</th>\n",
       "      <th>HAUTEUR (m)</th>\n",
       "      <th>STADE DE DEVELOPPEMENT</th>\n",
       "      <th>REMARQUABLE</th>\n",
       "      <th>geo_point_2d</th>\n",
       "    </tr>\n",
       "  </thead>\n",
       "  <tbody>\n",
       "    <tr>\n",
       "      <th>0</th>\n",
       "      <td>233378</td>\n",
       "      <td>Arbre</td>\n",
       "      <td>Alignement</td>\n",
       "      <td>PARIS 20E ARRDT</td>\n",
       "      <td>157</td>\n",
       "      <td>NaN</td>\n",
       "      <td>RUE DE MENILMONTANT</td>\n",
       "      <td>001501004</td>\n",
       "      <td>Sophora</td>\n",
       "      <td>Sophora</td>\n",
       "      <td>japonica</td>\n",
       "      <td>NaN</td>\n",
       "      <td>65</td>\n",
       "      <td>6</td>\n",
       "      <td>Jeune (arbre)Adulte</td>\n",
       "      <td>NON</td>\n",
       "      <td>48.8705897292168,2.398248222422003</td>\n",
       "    </tr>\n",
       "    <tr>\n",
       "      <th>1</th>\n",
       "      <td>233865</td>\n",
       "      <td>Arbre</td>\n",
       "      <td>Alignement</td>\n",
       "      <td>PARIS 12E ARRDT</td>\n",
       "      <td>NaN</td>\n",
       "      <td>NaN</td>\n",
       "      <td>BOULEVARD DE BERCY</td>\n",
       "      <td>000103002</td>\n",
       "      <td>Tilleul</td>\n",
       "      <td>Tilia</td>\n",
       "      <td>americana</td>\n",
       "      <td>''Nova''</td>\n",
       "      <td>55</td>\n",
       "      <td>5</td>\n",
       "      <td>Jeune (arbre)Adulte</td>\n",
       "      <td>NON</td>\n",
       "      <td>48.83913076090666,2.376322566287728</td>\n",
       "    </tr>\n",
       "  </tbody>\n",
       "</table>\n",
       "</div>"
      ],
      "text/plain": [
       "   IDBASE TYPE EMPLACEMENT DOMANIALITE   ARRONDISSEMENT COMPLEMENT ADRESSE  \\\n",
       "0  233378            Arbre  Alignement  PARIS 20E ARRDT                157   \n",
       "1  233865            Arbre  Alignement  PARIS 12E ARRDT                NaN   \n",
       "\n",
       "   NUMERO       LIEU / ADRESSE IDEMPLACEMENT LIBELLE FRANCAIS    GENRE  \\\n",
       "0     NaN  RUE DE MENILMONTANT     001501004          Sophora  Sophora   \n",
       "1     NaN   BOULEVARD DE BERCY     000103002          Tilleul    Tilia   \n",
       "\n",
       "      ESPECE VARIETE OUCULTIVAR  CIRCONFERENCE (cm)  HAUTEUR (m)  \\\n",
       "0   japonica                NaN                  65            6   \n",
       "1  americana           ''Nova''                  55            5   \n",
       "\n",
       "  STADE DE DEVELOPPEMENT REMARQUABLE                         geo_point_2d  \n",
       "0    Jeune (arbre)Adulte         NON   48.8705897292168,2.398248222422003  \n",
       "1    Jeune (arbre)Adulte         NON  48.83913076090666,2.376322566287728  "
      ]
     },
     "execution_count": 7,
     "metadata": {},
     "output_type": "execute_result"
    }
   ],
   "source": [
    "df = pd.read_csv(path+filename, sep=\";\")\n",
    "df.head(2)"
   ]
  },
  {
   "cell_type": "markdown",
   "id": "88596f5b",
   "metadata": {},
   "source": [
    "## x.x Columns cleaning"
   ]
  },
  {
   "cell_type": "code",
   "execution_count": 8,
   "id": "c8b6b66f",
   "metadata": {},
   "outputs": [
    {
     "data": {
      "text/plain": [
       "Index(['IDBASE', 'TYPE EMPLACEMENT', 'DOMANIALITE', 'ARRONDISSEMENT',\n",
       "       'COMPLEMENT ADRESSE', 'NUMERO', 'LIEU / ADRESSE', 'IDEMPLACEMENT',\n",
       "       'LIBELLE FRANCAIS', 'GENRE', 'ESPECE', 'VARIETE OUCULTIVAR',\n",
       "       'CIRCONFERENCE (cm)', 'HAUTEUR (m)', 'STADE DE DEVELOPPEMENT',\n",
       "       'REMARQUABLE', 'geo_point_2d'],\n",
       "      dtype='object')"
      ]
     },
     "execution_count": 8,
     "metadata": {},
     "output_type": "execute_result"
    }
   ],
   "source": [
    "cols = df.columns\n",
    "cols"
   ]
  },
  {
   "cell_type": "code",
   "execution_count": 9,
   "id": "34cb41f0",
   "metadata": {
    "scrolled": true
   },
   "outputs": [
    {
     "data": {
      "text/plain": [
       "['idbase',\n",
       " 'type',\n",
       " 'domanialite',\n",
       " 'arrondissement',\n",
       " 'complement',\n",
       " 'numero',\n",
       " 'lieu',\n",
       " 'idemplacement',\n",
       " 'libelle',\n",
       " 'genre',\n",
       " 'espece',\n",
       " 'variete',\n",
       " 'circonference',\n",
       " 'hauteur',\n",
       " 'stade',\n",
       " 'remarquable',\n",
       " 'geo_point_2d']"
      ]
     },
     "execution_count": 9,
     "metadata": {},
     "output_type": "execute_result"
    }
   ],
   "source": [
    "cols = [i.lower() for i in cols]\n",
    "cols = [i.split(\" \")[0].strip() for i in cols]\n",
    "cols"
   ]
  },
  {
   "cell_type": "code",
   "execution_count": 10,
   "id": "2bccbddc",
   "metadata": {
    "scrolled": true
   },
   "outputs": [
    {
     "data": {
      "text/html": [
       "<div>\n",
       "<style scoped>\n",
       "    .dataframe tbody tr th:only-of-type {\n",
       "        vertical-align: middle;\n",
       "    }\n",
       "\n",
       "    .dataframe tbody tr th {\n",
       "        vertical-align: top;\n",
       "    }\n",
       "\n",
       "    .dataframe thead th {\n",
       "        text-align: right;\n",
       "    }\n",
       "</style>\n",
       "<table border=\"1\" class=\"dataframe\">\n",
       "  <thead>\n",
       "    <tr style=\"text-align: right;\">\n",
       "      <th></th>\n",
       "      <th>idbase</th>\n",
       "      <th>type</th>\n",
       "      <th>domanialite</th>\n",
       "      <th>arrondissement</th>\n",
       "      <th>complement</th>\n",
       "      <th>numero</th>\n",
       "      <th>lieu</th>\n",
       "      <th>idemplacement</th>\n",
       "      <th>libelle</th>\n",
       "      <th>genre</th>\n",
       "      <th>espece</th>\n",
       "      <th>variete</th>\n",
       "      <th>circonference</th>\n",
       "      <th>hauteur</th>\n",
       "      <th>stade</th>\n",
       "      <th>remarquable</th>\n",
       "      <th>geo_point_2d</th>\n",
       "    </tr>\n",
       "  </thead>\n",
       "  <tbody>\n",
       "    <tr>\n",
       "      <th>0</th>\n",
       "      <td>233378</td>\n",
       "      <td>Arbre</td>\n",
       "      <td>Alignement</td>\n",
       "      <td>PARIS 20E ARRDT</td>\n",
       "      <td>157</td>\n",
       "      <td>NaN</td>\n",
       "      <td>RUE DE MENILMONTANT</td>\n",
       "      <td>001501004</td>\n",
       "      <td>Sophora</td>\n",
       "      <td>Sophora</td>\n",
       "      <td>japonica</td>\n",
       "      <td>NaN</td>\n",
       "      <td>65</td>\n",
       "      <td>6</td>\n",
       "      <td>Jeune (arbre)Adulte</td>\n",
       "      <td>NON</td>\n",
       "      <td>48.8705897292168,2.398248222422003</td>\n",
       "    </tr>\n",
       "    <tr>\n",
       "      <th>1</th>\n",
       "      <td>233865</td>\n",
       "      <td>Arbre</td>\n",
       "      <td>Alignement</td>\n",
       "      <td>PARIS 12E ARRDT</td>\n",
       "      <td>NaN</td>\n",
       "      <td>NaN</td>\n",
       "      <td>BOULEVARD DE BERCY</td>\n",
       "      <td>000103002</td>\n",
       "      <td>Tilleul</td>\n",
       "      <td>Tilia</td>\n",
       "      <td>americana</td>\n",
       "      <td>''Nova''</td>\n",
       "      <td>55</td>\n",
       "      <td>5</td>\n",
       "      <td>Jeune (arbre)Adulte</td>\n",
       "      <td>NON</td>\n",
       "      <td>48.83913076090666,2.376322566287728</td>\n",
       "    </tr>\n",
       "  </tbody>\n",
       "</table>\n",
       "</div>"
      ],
      "text/plain": [
       "   idbase   type domanialite   arrondissement complement  numero  \\\n",
       "0  233378  Arbre  Alignement  PARIS 20E ARRDT        157     NaN   \n",
       "1  233865  Arbre  Alignement  PARIS 12E ARRDT        NaN     NaN   \n",
       "\n",
       "                  lieu idemplacement  libelle    genre     espece   variete  \\\n",
       "0  RUE DE MENILMONTANT     001501004  Sophora  Sophora   japonica       NaN   \n",
       "1   BOULEVARD DE BERCY     000103002  Tilleul    Tilia  americana  ''Nova''   \n",
       "\n",
       "   circonference  hauteur                stade remarquable  \\\n",
       "0             65        6  Jeune (arbre)Adulte         NON   \n",
       "1             55        5  Jeune (arbre)Adulte         NON   \n",
       "\n",
       "                          geo_point_2d  \n",
       "0   48.8705897292168,2.398248222422003  \n",
       "1  48.83913076090666,2.376322566287728  "
      ]
     },
     "execution_count": 10,
     "metadata": {},
     "output_type": "execute_result"
    }
   ],
   "source": [
    "df.columns = cols\n",
    "df.head(2)"
   ]
  },
  {
   "cell_type": "markdown",
   "id": "3192d96f",
   "metadata": {},
   "source": [
    "# 2. First Tour"
   ]
  },
  {
   "cell_type": "markdown",
   "id": "2bf35c0d",
   "metadata": {},
   "source": [
    "## 2.1 Display"
   ]
  },
  {
   "cell_type": "code",
   "execution_count": 11,
   "id": "ae9ff9c0",
   "metadata": {},
   "outputs": [
    {
     "data": {
      "text/html": [
       "<div>\n",
       "<style scoped>\n",
       "    .dataframe tbody tr th:only-of-type {\n",
       "        vertical-align: middle;\n",
       "    }\n",
       "\n",
       "    .dataframe tbody tr th {\n",
       "        vertical-align: top;\n",
       "    }\n",
       "\n",
       "    .dataframe thead th {\n",
       "        text-align: right;\n",
       "    }\n",
       "</style>\n",
       "<table border=\"1\" class=\"dataframe\">\n",
       "  <thead>\n",
       "    <tr style=\"text-align: right;\">\n",
       "      <th></th>\n",
       "      <th>idbase</th>\n",
       "      <th>type</th>\n",
       "      <th>domanialite</th>\n",
       "      <th>arrondissement</th>\n",
       "      <th>complement</th>\n",
       "      <th>numero</th>\n",
       "      <th>lieu</th>\n",
       "      <th>idemplacement</th>\n",
       "      <th>libelle</th>\n",
       "      <th>genre</th>\n",
       "      <th>espece</th>\n",
       "      <th>variete</th>\n",
       "      <th>circonference</th>\n",
       "      <th>hauteur</th>\n",
       "      <th>stade</th>\n",
       "      <th>remarquable</th>\n",
       "      <th>geo_point_2d</th>\n",
       "    </tr>\n",
       "  </thead>\n",
       "  <tbody>\n",
       "    <tr>\n",
       "      <th>0</th>\n",
       "      <td>233378</td>\n",
       "      <td>Arbre</td>\n",
       "      <td>Alignement</td>\n",
       "      <td>PARIS 20E ARRDT</td>\n",
       "      <td>157</td>\n",
       "      <td>NaN</td>\n",
       "      <td>RUE DE MENILMONTANT</td>\n",
       "      <td>001501004</td>\n",
       "      <td>Sophora</td>\n",
       "      <td>Sophora</td>\n",
       "      <td>japonica</td>\n",
       "      <td>NaN</td>\n",
       "      <td>65</td>\n",
       "      <td>6</td>\n",
       "      <td>Jeune (arbre)Adulte</td>\n",
       "      <td>NON</td>\n",
       "      <td>48.8705897292168,2.398248222422003</td>\n",
       "    </tr>\n",
       "    <tr>\n",
       "      <th>1</th>\n",
       "      <td>233865</td>\n",
       "      <td>Arbre</td>\n",
       "      <td>Alignement</td>\n",
       "      <td>PARIS 12E ARRDT</td>\n",
       "      <td>NaN</td>\n",
       "      <td>NaN</td>\n",
       "      <td>BOULEVARD DE BERCY</td>\n",
       "      <td>000103002</td>\n",
       "      <td>Tilleul</td>\n",
       "      <td>Tilia</td>\n",
       "      <td>americana</td>\n",
       "      <td>''Nova''</td>\n",
       "      <td>55</td>\n",
       "      <td>5</td>\n",
       "      <td>Jeune (arbre)Adulte</td>\n",
       "      <td>NON</td>\n",
       "      <td>48.83913076090666,2.376322566287728</td>\n",
       "    </tr>\n",
       "    <tr>\n",
       "      <th>2</th>\n",
       "      <td>234757</td>\n",
       "      <td>Arbre</td>\n",
       "      <td>Alignement</td>\n",
       "      <td>PARIS 14E ARRDT</td>\n",
       "      <td>NaN</td>\n",
       "      <td>NaN</td>\n",
       "      <td>BOULEVARD RASPAIL</td>\n",
       "      <td>004103035</td>\n",
       "      <td>Tilleul</td>\n",
       "      <td>Tilia</td>\n",
       "      <td>x flavescens</td>\n",
       "      <td>''Glenleven''</td>\n",
       "      <td>80</td>\n",
       "      <td>10</td>\n",
       "      <td>Jeune (arbre)Adulte</td>\n",
       "      <td>NON</td>\n",
       "      <td>48.835943243901234,2.332049269477685</td>\n",
       "    </tr>\n",
       "    <tr>\n",
       "      <th>3</th>\n",
       "      <td>245018</td>\n",
       "      <td>Arbre</td>\n",
       "      <td>Alignement</td>\n",
       "      <td>PARIS 16E ARRDT</td>\n",
       "      <td>NaN</td>\n",
       "      <td>NaN</td>\n",
       "      <td>BOULEVARD LANNES</td>\n",
       "      <td>000701008</td>\n",
       "      <td>Platane</td>\n",
       "      <td>Platanus</td>\n",
       "      <td>x hispanica</td>\n",
       "      <td>NaN</td>\n",
       "      <td>180</td>\n",
       "      <td>15</td>\n",
       "      <td>Adulte</td>\n",
       "      <td>NON</td>\n",
       "      <td>48.86388335089906,2.269408781698171</td>\n",
       "    </tr>\n",
       "    <tr>\n",
       "      <th>4</th>\n",
       "      <td>107049</td>\n",
       "      <td>Arbre</td>\n",
       "      <td>Jardin</td>\n",
       "      <td>PARIS 7E ARRDT</td>\n",
       "      <td>Canton 04</td>\n",
       "      <td>NaN</td>\n",
       "      <td>JARDIN DU CHAMP DE MARS ET PELOUSES DE L ECOLE...</td>\n",
       "      <td>A00401020</td>\n",
       "      <td>Tilleul</td>\n",
       "      <td>Tilia</td>\n",
       "      <td>n. sp.</td>\n",
       "      <td>NaN</td>\n",
       "      <td>128</td>\n",
       "      <td>15</td>\n",
       "      <td>Adulte</td>\n",
       "      <td>NON</td>\n",
       "      <td>48.85601688564015,2.29573613169062</td>\n",
       "    </tr>\n",
       "  </tbody>\n",
       "</table>\n",
       "</div>"
      ],
      "text/plain": [
       "   idbase   type domanialite   arrondissement complement  numero  \\\n",
       "0  233378  Arbre  Alignement  PARIS 20E ARRDT        157     NaN   \n",
       "1  233865  Arbre  Alignement  PARIS 12E ARRDT        NaN     NaN   \n",
       "2  234757  Arbre  Alignement  PARIS 14E ARRDT        NaN     NaN   \n",
       "3  245018  Arbre  Alignement  PARIS 16E ARRDT        NaN     NaN   \n",
       "4  107049  Arbre      Jardin   PARIS 7E ARRDT  Canton 04     NaN   \n",
       "\n",
       "                                                lieu idemplacement  libelle  \\\n",
       "0                                RUE DE MENILMONTANT     001501004  Sophora   \n",
       "1                                 BOULEVARD DE BERCY     000103002  Tilleul   \n",
       "2                                  BOULEVARD RASPAIL     004103035  Tilleul   \n",
       "3                                   BOULEVARD LANNES     000701008  Platane   \n",
       "4  JARDIN DU CHAMP DE MARS ET PELOUSES DE L ECOLE...     A00401020  Tilleul   \n",
       "\n",
       "      genre        espece        variete  circonference  hauteur  \\\n",
       "0   Sophora      japonica            NaN             65        6   \n",
       "1     Tilia     americana       ''Nova''             55        5   \n",
       "2     Tilia  x flavescens  ''Glenleven''             80       10   \n",
       "3  Platanus   x hispanica            NaN            180       15   \n",
       "4     Tilia        n. sp.            NaN            128       15   \n",
       "\n",
       "                 stade remarquable                          geo_point_2d  \n",
       "0  Jeune (arbre)Adulte         NON    48.8705897292168,2.398248222422003  \n",
       "1  Jeune (arbre)Adulte         NON   48.83913076090666,2.376322566287728  \n",
       "2  Jeune (arbre)Adulte         NON  48.835943243901234,2.332049269477685  \n",
       "3               Adulte         NON   48.86388335089906,2.269408781698171  \n",
       "4               Adulte         NON    48.85601688564015,2.29573613169062  "
      ]
     },
     "execution_count": 11,
     "metadata": {},
     "output_type": "execute_result"
    }
   ],
   "source": [
    "df.head(5)"
   ]
  },
  {
   "cell_type": "code",
   "execution_count": 12,
   "id": "e62bebe5",
   "metadata": {},
   "outputs": [
    {
     "data": {
      "text/html": [
       "<div>\n",
       "<style scoped>\n",
       "    .dataframe tbody tr th:only-of-type {\n",
       "        vertical-align: middle;\n",
       "    }\n",
       "\n",
       "    .dataframe tbody tr th {\n",
       "        vertical-align: top;\n",
       "    }\n",
       "\n",
       "    .dataframe thead th {\n",
       "        text-align: right;\n",
       "    }\n",
       "</style>\n",
       "<table border=\"1\" class=\"dataframe\">\n",
       "  <thead>\n",
       "    <tr style=\"text-align: right;\">\n",
       "      <th></th>\n",
       "      <th>idbase</th>\n",
       "      <th>type</th>\n",
       "      <th>domanialite</th>\n",
       "      <th>arrondissement</th>\n",
       "      <th>complement</th>\n",
       "      <th>numero</th>\n",
       "      <th>lieu</th>\n",
       "      <th>idemplacement</th>\n",
       "      <th>libelle</th>\n",
       "      <th>genre</th>\n",
       "      <th>espece</th>\n",
       "      <th>variete</th>\n",
       "      <th>circonference</th>\n",
       "      <th>hauteur</th>\n",
       "      <th>stade</th>\n",
       "      <th>remarquable</th>\n",
       "      <th>geo_point_2d</th>\n",
       "    </tr>\n",
       "  </thead>\n",
       "  <tbody>\n",
       "    <tr>\n",
       "      <th>108386</th>\n",
       "      <td>159715</td>\n",
       "      <td>Arbre</td>\n",
       "      <td>CIMETIERE</td>\n",
       "      <td>HAUTS-DE-SEINE</td>\n",
       "      <td>NaN</td>\n",
       "      <td>NaN</td>\n",
       "      <td>CIMETIERE DE BAGNEUX / AVENUE DES COPALMES / D...</td>\n",
       "      <td>A04900024004</td>\n",
       "      <td>Copalme</td>\n",
       "      <td>Liquidambar</td>\n",
       "      <td>styraciflua</td>\n",
       "      <td>NaN</td>\n",
       "      <td>0</td>\n",
       "      <td>0</td>\n",
       "      <td>NaN</td>\n",
       "      <td>NaN</td>\n",
       "      <td>48.809824279558086,2.308007614606597</td>\n",
       "    </tr>\n",
       "    <tr>\n",
       "      <th>71732</th>\n",
       "      <td>249778</td>\n",
       "      <td>Arbre</td>\n",
       "      <td>Alignement</td>\n",
       "      <td>PARIS 15E ARRDT</td>\n",
       "      <td>36</td>\n",
       "      <td>NaN</td>\n",
       "      <td>BOULEVARD LEFEBVRE</td>\n",
       "      <td>000202020</td>\n",
       "      <td>Erable</td>\n",
       "      <td>Acer</td>\n",
       "      <td>platanoides</td>\n",
       "      <td>''Crimson King''</td>\n",
       "      <td>20</td>\n",
       "      <td>5</td>\n",
       "      <td>NaN</td>\n",
       "      <td>NON</td>\n",
       "      <td>48.83108670817561,2.291567069440989</td>\n",
       "    </tr>\n",
       "    <tr>\n",
       "      <th>185135</th>\n",
       "      <td>267767</td>\n",
       "      <td>Arbre</td>\n",
       "      <td>Alignement</td>\n",
       "      <td>PARIS 1ER ARRDT</td>\n",
       "      <td>NaN</td>\n",
       "      <td>NaN</td>\n",
       "      <td>PLACE DU MARCHE SAINT HONORE</td>\n",
       "      <td>000301003</td>\n",
       "      <td>Charme</td>\n",
       "      <td>Carpinus</td>\n",
       "      <td>betulus</td>\n",
       "      <td>''Fastigiata''</td>\n",
       "      <td>60</td>\n",
       "      <td>5</td>\n",
       "      <td>Adulte</td>\n",
       "      <td>NON</td>\n",
       "      <td>48.867562076144964,2.331805014808812</td>\n",
       "    </tr>\n",
       "    <tr>\n",
       "      <th>188818</th>\n",
       "      <td>146690</td>\n",
       "      <td>Arbre</td>\n",
       "      <td>CIMETIERE</td>\n",
       "      <td>SEINE-SAINT-DENIS</td>\n",
       "      <td>NaN</td>\n",
       "      <td>NaN</td>\n",
       "      <td>CIMETIERE DE PANTIN / AVENUE DES ERABLES POURP...</td>\n",
       "      <td>A05300204008</td>\n",
       "      <td>Erable</td>\n",
       "      <td>Acer</td>\n",
       "      <td>pseudoplatanus</td>\n",
       "      <td>''Atropurpureum''</td>\n",
       "      <td>0</td>\n",
       "      <td>0</td>\n",
       "      <td>NaN</td>\n",
       "      <td>NaN</td>\n",
       "      <td>48.907540643538226,2.407041284446933</td>\n",
       "    </tr>\n",
       "    <tr>\n",
       "      <th>195719</th>\n",
       "      <td>258652</td>\n",
       "      <td>Arbre</td>\n",
       "      <td>Alignement</td>\n",
       "      <td>PARIS 15E ARRDT</td>\n",
       "      <td>N°19 ter</td>\n",
       "      <td>NaN</td>\n",
       "      <td>RUE DES QUATRE FRERES PEIGNOT</td>\n",
       "      <td>000501009</td>\n",
       "      <td>Poirier à fleurs</td>\n",
       "      <td>Pyrus</td>\n",
       "      <td>calleryana</td>\n",
       "      <td>''Chanticleer''</td>\n",
       "      <td>35</td>\n",
       "      <td>6</td>\n",
       "      <td>Jeune (arbre)Adulte</td>\n",
       "      <td>NON</td>\n",
       "      <td>48.84593518328761,2.282843884693502</td>\n",
       "    </tr>\n",
       "    <tr>\n",
       "      <th>113982</th>\n",
       "      <td>217052</td>\n",
       "      <td>Arbre</td>\n",
       "      <td>Alignement</td>\n",
       "      <td>PARIS 12E ARRDT</td>\n",
       "      <td>2</td>\n",
       "      <td>NaN</td>\n",
       "      <td>RUE BECCARIA</td>\n",
       "      <td>000204001</td>\n",
       "      <td>Photinia</td>\n",
       "      <td>Photinia</td>\n",
       "      <td>x fraseri</td>\n",
       "      <td>''Red Robin''</td>\n",
       "      <td>35</td>\n",
       "      <td>5</td>\n",
       "      <td>Adulte</td>\n",
       "      <td>NON</td>\n",
       "      <td>48.84624244629713,2.379347967058148</td>\n",
       "    </tr>\n",
       "    <tr>\n",
       "      <th>28787</th>\n",
       "      <td>2027485</td>\n",
       "      <td>Arbre</td>\n",
       "      <td>PERIPHERIQUE</td>\n",
       "      <td>PARIS 17E ARRDT</td>\n",
       "      <td>NaN</td>\n",
       "      <td>NaN</td>\n",
       "      <td>TALUS N°20-01</td>\n",
       "      <td>092001001</td>\n",
       "      <td>Chêne</td>\n",
       "      <td>Quercus</td>\n",
       "      <td>cerris</td>\n",
       "      <td>NaN</td>\n",
       "      <td>35</td>\n",
       "      <td>4</td>\n",
       "      <td>Jeune (arbre)</td>\n",
       "      <td>NON</td>\n",
       "      <td>48.900331344528176,2.328114215435966</td>\n",
       "    </tr>\n",
       "    <tr>\n",
       "      <th>137910</th>\n",
       "      <td>163080</td>\n",
       "      <td>Arbre</td>\n",
       "      <td>CIMETIERE</td>\n",
       "      <td>HAUTS-DE-SEINE</td>\n",
       "      <td>NaN</td>\n",
       "      <td>NaN</td>\n",
       "      <td>CIMETIERE DE BAGNEUX / AVENUE PRINCIPALE / DIV 21</td>\n",
       "      <td>A14000021010</td>\n",
       "      <td>Platane</td>\n",
       "      <td>Platanus</td>\n",
       "      <td>x hispanica</td>\n",
       "      <td>NaN</td>\n",
       "      <td>0</td>\n",
       "      <td>0</td>\n",
       "      <td>NaN</td>\n",
       "      <td>NON</td>\n",
       "      <td>48.809025324745605,2.311347530536444</td>\n",
       "    </tr>\n",
       "    <tr>\n",
       "      <th>179423</th>\n",
       "      <td>277301</td>\n",
       "      <td>Arbre</td>\n",
       "      <td>Alignement</td>\n",
       "      <td>PARIS 7E ARRDT</td>\n",
       "      <td>19</td>\n",
       "      <td>NaN</td>\n",
       "      <td>RUE D ESTREES</td>\n",
       "      <td>000501001</td>\n",
       "      <td>Noyer</td>\n",
       "      <td>Juglans</td>\n",
       "      <td>nigra</td>\n",
       "      <td>NaN</td>\n",
       "      <td>50</td>\n",
       "      <td>6</td>\n",
       "      <td>Jeune (arbre)</td>\n",
       "      <td>NON</td>\n",
       "      <td>48.85121302267016,2.309107331696517</td>\n",
       "    </tr>\n",
       "    <tr>\n",
       "      <th>155390</th>\n",
       "      <td>120235</td>\n",
       "      <td>Arbre</td>\n",
       "      <td>Jardin</td>\n",
       "      <td>PARIS 18E ARRDT</td>\n",
       "      <td>NaN</td>\n",
       "      <td>NaN</td>\n",
       "      <td>SQUARE DE LA RUE HENRI HUCHARD / 25 RUE LOUIS ...</td>\n",
       "      <td>000103005</td>\n",
       "      <td>Prunus n. sp.</td>\n",
       "      <td>Prunus</td>\n",
       "      <td>n. sp.</td>\n",
       "      <td>NaN</td>\n",
       "      <td>20</td>\n",
       "      <td>3</td>\n",
       "      <td>Jeune (arbre)</td>\n",
       "      <td>NON</td>\n",
       "      <td>48.89930201199932,2.331300627225283</td>\n",
       "    </tr>\n",
       "  </tbody>\n",
       "</table>\n",
       "</div>"
      ],
      "text/plain": [
       "         idbase   type   domanialite     arrondissement complement  numero  \\\n",
       "108386   159715  Arbre     CIMETIERE     HAUTS-DE-SEINE        NaN     NaN   \n",
       "71732    249778  Arbre    Alignement    PARIS 15E ARRDT         36     NaN   \n",
       "185135   267767  Arbre    Alignement    PARIS 1ER ARRDT        NaN     NaN   \n",
       "188818   146690  Arbre     CIMETIERE  SEINE-SAINT-DENIS        NaN     NaN   \n",
       "195719   258652  Arbre    Alignement    PARIS 15E ARRDT   N°19 ter     NaN   \n",
       "113982   217052  Arbre    Alignement    PARIS 12E ARRDT          2     NaN   \n",
       "28787   2027485  Arbre  PERIPHERIQUE    PARIS 17E ARRDT        NaN     NaN   \n",
       "137910   163080  Arbre     CIMETIERE     HAUTS-DE-SEINE        NaN     NaN   \n",
       "179423   277301  Arbre    Alignement     PARIS 7E ARRDT         19     NaN   \n",
       "155390   120235  Arbre        Jardin    PARIS 18E ARRDT        NaN     NaN   \n",
       "\n",
       "                                                     lieu idemplacement  \\\n",
       "108386  CIMETIERE DE BAGNEUX / AVENUE DES COPALMES / D...  A04900024004   \n",
       "71732                                  BOULEVARD LEFEBVRE     000202020   \n",
       "185135                       PLACE DU MARCHE SAINT HONORE     000301003   \n",
       "188818  CIMETIERE DE PANTIN / AVENUE DES ERABLES POURP...  A05300204008   \n",
       "195719                      RUE DES QUATRE FRERES PEIGNOT     000501009   \n",
       "113982                                       RUE BECCARIA     000204001   \n",
       "28787                                       TALUS N°20-01     092001001   \n",
       "137910  CIMETIERE DE BAGNEUX / AVENUE PRINCIPALE / DIV 21  A14000021010   \n",
       "179423                                      RUE D ESTREES     000501001   \n",
       "155390  SQUARE DE LA RUE HENRI HUCHARD / 25 RUE LOUIS ...     000103005   \n",
       "\n",
       "                 libelle        genre          espece            variete  \\\n",
       "108386           Copalme  Liquidambar     styraciflua                NaN   \n",
       "71732             Erable         Acer     platanoides   ''Crimson King''   \n",
       "185135            Charme     Carpinus         betulus     ''Fastigiata''   \n",
       "188818            Erable         Acer  pseudoplatanus  ''Atropurpureum''   \n",
       "195719  Poirier à fleurs        Pyrus      calleryana    ''Chanticleer''   \n",
       "113982          Photinia     Photinia       x fraseri      ''Red Robin''   \n",
       "28787              Chêne      Quercus          cerris                NaN   \n",
       "137910           Platane     Platanus     x hispanica                NaN   \n",
       "179423             Noyer      Juglans           nigra                NaN   \n",
       "155390     Prunus n. sp.       Prunus          n. sp.                NaN   \n",
       "\n",
       "        circonference  hauteur                stade remarquable  \\\n",
       "108386              0        0                  NaN         NaN   \n",
       "71732              20        5                  NaN         NON   \n",
       "185135             60        5               Adulte         NON   \n",
       "188818              0        0                  NaN         NaN   \n",
       "195719             35        6  Jeune (arbre)Adulte         NON   \n",
       "113982             35        5               Adulte         NON   \n",
       "28787              35        4        Jeune (arbre)         NON   \n",
       "137910              0        0                  NaN         NON   \n",
       "179423             50        6        Jeune (arbre)         NON   \n",
       "155390             20        3        Jeune (arbre)         NON   \n",
       "\n",
       "                                geo_point_2d  \n",
       "108386  48.809824279558086,2.308007614606597  \n",
       "71732    48.83108670817561,2.291567069440989  \n",
       "185135  48.867562076144964,2.331805014808812  \n",
       "188818  48.907540643538226,2.407041284446933  \n",
       "195719   48.84593518328761,2.282843884693502  \n",
       "113982   48.84624244629713,2.379347967058148  \n",
       "28787   48.900331344528176,2.328114215435966  \n",
       "137910  48.809025324745605,2.311347530536444  \n",
       "179423   48.85121302267016,2.309107331696517  \n",
       "155390   48.89930201199932,2.331300627225283  "
      ]
     },
     "execution_count": 12,
     "metadata": {},
     "output_type": "execute_result"
    }
   ],
   "source": [
    "df.sample(10)"
   ]
  },
  {
   "cell_type": "code",
   "execution_count": 13,
   "id": "8670b032",
   "metadata": {},
   "outputs": [
    {
     "data": {
      "text/html": [
       "<div>\n",
       "<style scoped>\n",
       "    .dataframe tbody tr th:only-of-type {\n",
       "        vertical-align: middle;\n",
       "    }\n",
       "\n",
       "    .dataframe tbody tr th {\n",
       "        vertical-align: top;\n",
       "    }\n",
       "\n",
       "    .dataframe thead th {\n",
       "        text-align: right;\n",
       "    }\n",
       "</style>\n",
       "<table border=\"1\" class=\"dataframe\">\n",
       "  <thead>\n",
       "    <tr style=\"text-align: right;\">\n",
       "      <th></th>\n",
       "      <th>idbase</th>\n",
       "      <th>type</th>\n",
       "      <th>domanialite</th>\n",
       "      <th>arrondissement</th>\n",
       "      <th>complement</th>\n",
       "      <th>numero</th>\n",
       "      <th>lieu</th>\n",
       "      <th>idemplacement</th>\n",
       "      <th>libelle</th>\n",
       "      <th>genre</th>\n",
       "      <th>espece</th>\n",
       "      <th>variete</th>\n",
       "      <th>circonference</th>\n",
       "      <th>hauteur</th>\n",
       "      <th>stade</th>\n",
       "      <th>remarquable</th>\n",
       "      <th>geo_point_2d</th>\n",
       "    </tr>\n",
       "  </thead>\n",
       "  <tbody>\n",
       "    <tr>\n",
       "      <th>205832</th>\n",
       "      <td>277196</td>\n",
       "      <td>Arbre</td>\n",
       "      <td>Alignement</td>\n",
       "      <td>PARIS 7E ARRDT</td>\n",
       "      <td>NaN</td>\n",
       "      <td>NaN</td>\n",
       "      <td>AVENUE EMILE POUVILLON</td>\n",
       "      <td>000402002</td>\n",
       "      <td>Platane</td>\n",
       "      <td>Platanus</td>\n",
       "      <td>occidentalis</td>\n",
       "      <td>NaN</td>\n",
       "      <td>180</td>\n",
       "      <td>25</td>\n",
       "      <td>Adulte</td>\n",
       "      <td>NON</td>\n",
       "      <td>48.857501544418604,2.298694846390691</td>\n",
       "    </tr>\n",
       "    <tr>\n",
       "      <th>205833</th>\n",
       "      <td>206780</td>\n",
       "      <td>Arbre</td>\n",
       "      <td>Alignement</td>\n",
       "      <td>PARIS 17E ARRDT</td>\n",
       "      <td>N°137</td>\n",
       "      <td>NaN</td>\n",
       "      <td>BOULEVARD MALESHERBES</td>\n",
       "      <td>002701007</td>\n",
       "      <td>Marronnier</td>\n",
       "      <td>Aesculus</td>\n",
       "      <td>x carnea</td>\n",
       "      <td>''Briotii''</td>\n",
       "      <td>24</td>\n",
       "      <td>5</td>\n",
       "      <td>Jeune (arbre)</td>\n",
       "      <td>NON</td>\n",
       "      <td>48.883629692582055,2.309000304779045</td>\n",
       "    </tr>\n",
       "    <tr>\n",
       "      <th>205834</th>\n",
       "      <td>216387</td>\n",
       "      <td>Arbre</td>\n",
       "      <td>Alignement</td>\n",
       "      <td>PARIS 2E ARRDT</td>\n",
       "      <td>8</td>\n",
       "      <td>NaN</td>\n",
       "      <td>RUE NOTRE DAME DE BONNE NOUVELLE</td>\n",
       "      <td>000301001</td>\n",
       "      <td>Charme-Houblon</td>\n",
       "      <td>Ostrya</td>\n",
       "      <td>carpinifolia</td>\n",
       "      <td>NaN</td>\n",
       "      <td>40</td>\n",
       "      <td>5</td>\n",
       "      <td>Jeune (arbre)Adulte</td>\n",
       "      <td>NON</td>\n",
       "      <td>48.87007536483951,2.349706549331126</td>\n",
       "    </tr>\n",
       "    <tr>\n",
       "      <th>205835</th>\n",
       "      <td>218657</td>\n",
       "      <td>Arbre</td>\n",
       "      <td>Alignement</td>\n",
       "      <td>BOIS DE BOULOGNE</td>\n",
       "      <td>candélabre XVI-21140</td>\n",
       "      <td>NaN</td>\n",
       "      <td>AVENUE DE L HIPPODROME</td>\n",
       "      <td>000101008</td>\n",
       "      <td>Platane</td>\n",
       "      <td>Platanus</td>\n",
       "      <td>orientalis</td>\n",
       "      <td>NaN</td>\n",
       "      <td>161</td>\n",
       "      <td>16</td>\n",
       "      <td>Adulte</td>\n",
       "      <td>NON</td>\n",
       "      <td>48.858427453525294,2.256386261184969</td>\n",
       "    </tr>\n",
       "    <tr>\n",
       "      <th>205836</th>\n",
       "      <td>220705</td>\n",
       "      <td>Arbre</td>\n",
       "      <td>Alignement</td>\n",
       "      <td>PARIS 14E ARRDT</td>\n",
       "      <td>23</td>\n",
       "      <td>NaN</td>\n",
       "      <td>AVENUE RENE COTY</td>\n",
       "      <td>000401006</td>\n",
       "      <td>Platane</td>\n",
       "      <td>Platanus</td>\n",
       "      <td>x hispanica</td>\n",
       "      <td>NaN</td>\n",
       "      <td>180</td>\n",
       "      <td>15</td>\n",
       "      <td>Adulte</td>\n",
       "      <td>NON</td>\n",
       "      <td>48.82939652307256,2.334305855478159</td>\n",
       "    </tr>\n",
       "  </tbody>\n",
       "</table>\n",
       "</div>"
      ],
      "text/plain": [
       "        idbase   type domanialite    arrondissement            complement  \\\n",
       "205832  277196  Arbre  Alignement    PARIS 7E ARRDT                   NaN   \n",
       "205833  206780  Arbre  Alignement   PARIS 17E ARRDT                 N°137   \n",
       "205834  216387  Arbre  Alignement    PARIS 2E ARRDT                     8   \n",
       "205835  218657  Arbre  Alignement  BOIS DE BOULOGNE  candélabre XVI-21140   \n",
       "205836  220705  Arbre  Alignement   PARIS 14E ARRDT                    23   \n",
       "\n",
       "        numero                              lieu idemplacement  \\\n",
       "205832     NaN            AVENUE EMILE POUVILLON     000402002   \n",
       "205833     NaN             BOULEVARD MALESHERBES     002701007   \n",
       "205834     NaN  RUE NOTRE DAME DE BONNE NOUVELLE     000301001   \n",
       "205835     NaN            AVENUE DE L HIPPODROME     000101008   \n",
       "205836     NaN                  AVENUE RENE COTY     000401006   \n",
       "\n",
       "               libelle     genre        espece      variete  circonference  \\\n",
       "205832         Platane  Platanus  occidentalis          NaN            180   \n",
       "205833      Marronnier  Aesculus      x carnea  ''Briotii''             24   \n",
       "205834  Charme-Houblon    Ostrya  carpinifolia          NaN             40   \n",
       "205835         Platane  Platanus    orientalis          NaN            161   \n",
       "205836         Platane  Platanus   x hispanica          NaN            180   \n",
       "\n",
       "        hauteur                stade remarquable  \\\n",
       "205832       25               Adulte         NON   \n",
       "205833        5        Jeune (arbre)         NON   \n",
       "205834        5  Jeune (arbre)Adulte         NON   \n",
       "205835       16               Adulte         NON   \n",
       "205836       15               Adulte         NON   \n",
       "\n",
       "                                geo_point_2d  \n",
       "205832  48.857501544418604,2.298694846390691  \n",
       "205833  48.883629692582055,2.309000304779045  \n",
       "205834   48.87007536483951,2.349706549331126  \n",
       "205835  48.858427453525294,2.256386261184969  \n",
       "205836   48.82939652307256,2.334305855478159  "
      ]
     },
     "execution_count": 13,
     "metadata": {},
     "output_type": "execute_result"
    }
   ],
   "source": [
    "df.tail(5)"
   ]
  },
  {
   "cell_type": "markdown",
   "id": "28c32ccd",
   "metadata": {},
   "source": [
    "## 2.2 Structure "
   ]
  },
  {
   "cell_type": "code",
   "execution_count": 14,
   "id": "c61d1112",
   "metadata": {},
   "outputs": [
    {
     "data": {
      "text/plain": [
       "(205837, 17)"
      ]
     },
     "execution_count": 14,
     "metadata": {},
     "output_type": "execute_result"
    }
   ],
   "source": [
    "df.shape"
   ]
  },
  {
   "cell_type": "code",
   "execution_count": 15,
   "id": "0e641c25",
   "metadata": {},
   "outputs": [
    {
     "data": {
      "text/plain": [
       "idbase              int64\n",
       "type               object\n",
       "domanialite        object\n",
       "arrondissement     object\n",
       "complement         object\n",
       "numero            float64\n",
       "lieu               object\n",
       "idemplacement      object\n",
       "libelle            object\n",
       "genre              object\n",
       "espece             object\n",
       "variete            object\n",
       "circonference       int64\n",
       "hauteur             int64\n",
       "stade              object\n",
       "remarquable        object\n",
       "geo_point_2d       object\n",
       "dtype: object"
      ]
     },
     "execution_count": 15,
     "metadata": {},
     "output_type": "execute_result"
    }
   ],
   "source": [
    "df.dtypes"
   ]
  },
  {
   "cell_type": "code",
   "execution_count": 16,
   "id": "5d229048",
   "metadata": {},
   "outputs": [
    {
     "name": "stdout",
     "output_type": "stream",
     "text": [
      "<class 'pandas.core.frame.DataFrame'>\n",
      "RangeIndex: 205837 entries, 0 to 205836\n",
      "Data columns (total 17 columns):\n",
      " #   Column          Non-Null Count   Dtype  \n",
      "---  ------          --------------   -----  \n",
      " 0   idbase          205837 non-null  int64  \n",
      " 1   type            205837 non-null  object \n",
      " 2   domanialite     205837 non-null  object \n",
      " 3   arrondissement  205837 non-null  object \n",
      " 4   complement      49841 non-null   object \n",
      " 5   numero          0 non-null       float64\n",
      " 6   lieu            205837 non-null  object \n",
      " 7   idemplacement   205837 non-null  object \n",
      " 8   libelle         204751 non-null  object \n",
      " 9   genre           205837 non-null  object \n",
      " 10  espece          203516 non-null  object \n",
      " 11  variete         38838 non-null   object \n",
      " 12  circonference   205837 non-null  int64  \n",
      " 13  hauteur         205837 non-null  int64  \n",
      " 14  stade           157711 non-null  object \n",
      " 15  remarquable     180946 non-null  object \n",
      " 16  geo_point_2d    205837 non-null  object \n",
      "dtypes: float64(1), int64(3), object(13)\n",
      "memory usage: 26.7+ MB\n"
     ]
    }
   ],
   "source": [
    "df.info()"
   ]
  },
  {
   "cell_type": "code",
   "execution_count": 17,
   "id": "e3621b1d",
   "metadata": {
    "scrolled": true
   },
   "outputs": [
    {
     "data": {
      "text/plain": [
       "object     13\n",
       "int64       3\n",
       "float64     1\n",
       "dtype: int64"
      ]
     },
     "execution_count": 17,
     "metadata": {},
     "output_type": "execute_result"
    }
   ],
   "source": [
    "df.dtypes.value_counts()"
   ]
  },
  {
   "cell_type": "code",
   "execution_count": 18,
   "id": "5c0da76c",
   "metadata": {},
   "outputs": [
    {
     "data": {
      "text/plain": [
       "idbase            205837\n",
       "type                   1\n",
       "domanialite            9\n",
       "arrondissement        25\n",
       "complement          4516\n",
       "numero                 0\n",
       "lieu                7315\n",
       "idemplacement      67295\n",
       "libelle              196\n",
       "genre                176\n",
       "espece               548\n",
       "variete              482\n",
       "circonference        464\n",
       "hauteur               40\n",
       "stade                  4\n",
       "remarquable            2\n",
       "geo_point_2d      205829\n",
       "dtype: int64"
      ]
     },
     "execution_count": 18,
     "metadata": {},
     "output_type": "execute_result"
    }
   ],
   "source": [
    "df.nunique()"
   ]
  },
  {
   "cell_type": "markdown",
   "id": "a13cfdc6",
   "metadata": {},
   "source": [
    "## 2.3 NaN & duplicated"
   ]
  },
  {
   "cell_type": "code",
   "execution_count": 19,
   "id": "9b02af73",
   "metadata": {
    "scrolled": true
   },
   "outputs": [
    {
     "data": {
      "text/plain": [
       "idbase                 0\n",
       "type                   0\n",
       "domanialite            0\n",
       "arrondissement         0\n",
       "complement        155996\n",
       "numero            205837\n",
       "lieu                   0\n",
       "idemplacement          0\n",
       "libelle             1086\n",
       "genre                  0\n",
       "espece              2321\n",
       "variete           166999\n",
       "circonference          0\n",
       "hauteur                0\n",
       "stade              48126\n",
       "remarquable        24891\n",
       "geo_point_2d           0\n",
       "dtype: int64"
      ]
     },
     "execution_count": 19,
     "metadata": {},
     "output_type": "execute_result"
    }
   ],
   "source": [
    "df.isna().sum()"
   ]
  },
  {
   "cell_type": "code",
   "execution_count": 20,
   "id": "dd0275de",
   "metadata": {
    "scrolled": true
   },
   "outputs": [
    {
     "data": {
      "text/plain": [
       "idbase            0.000000\n",
       "type              0.000000\n",
       "domanialite       0.000000\n",
       "arrondissement    0.000000\n",
       "complement        0.757862\n",
       "numero            1.000000\n",
       "lieu              0.000000\n",
       "idemplacement     0.000000\n",
       "libelle           0.005276\n",
       "genre             0.000000\n",
       "espece            0.011276\n",
       "variete           0.811317\n",
       "circonference     0.000000\n",
       "hauteur           0.000000\n",
       "stade             0.233806\n",
       "remarquable       0.120926\n",
       "geo_point_2d      0.000000\n",
       "dtype: float64"
      ]
     },
     "execution_count": 20,
     "metadata": {},
     "output_type": "execute_result"
    }
   ],
   "source": [
    "df.isna().mean()"
   ]
  },
  {
   "cell_type": "code",
   "execution_count": 21,
   "id": "c96666ed",
   "metadata": {
    "scrolled": true
   },
   "outputs": [
    {
     "data": {
      "text/plain": [
       "complement     155996\n",
       "numero         205837\n",
       "libelle          1086\n",
       "espece           2321\n",
       "variete        166999\n",
       "stade           48126\n",
       "remarquable     24891\n",
       "dtype: int64"
      ]
     },
     "execution_count": 21,
     "metadata": {},
     "output_type": "execute_result"
    }
   ],
   "source": [
    "tmp = df.isna().sum()\n",
    "tmp[tmp>0]"
   ]
  },
  {
   "cell_type": "code",
   "execution_count": 22,
   "id": "f157bad1",
   "metadata": {},
   "outputs": [
    {
     "data": {
      "text/plain": [
       "0"
      ]
     },
     "execution_count": 22,
     "metadata": {},
     "output_type": "execute_result"
    }
   ],
   "source": [
    "df.duplicated().sum()"
   ]
  },
  {
   "cell_type": "markdown",
   "id": "a054a79d",
   "metadata": {},
   "source": [
    "## 2.4 Data Inspection"
   ]
  },
  {
   "cell_type": "code",
   "execution_count": 23,
   "id": "a767c8b5",
   "metadata": {},
   "outputs": [
    {
     "data": {
      "text/html": [
       "<div>\n",
       "<style scoped>\n",
       "    .dataframe tbody tr th:only-of-type {\n",
       "        vertical-align: middle;\n",
       "    }\n",
       "\n",
       "    .dataframe tbody tr th {\n",
       "        vertical-align: top;\n",
       "    }\n",
       "\n",
       "    .dataframe thead th {\n",
       "        text-align: right;\n",
       "    }\n",
       "</style>\n",
       "<table border=\"1\" class=\"dataframe\">\n",
       "  <thead>\n",
       "    <tr style=\"text-align: right;\">\n",
       "      <th></th>\n",
       "      <th>idbase</th>\n",
       "      <th>numero</th>\n",
       "      <th>circonference</th>\n",
       "      <th>hauteur</th>\n",
       "    </tr>\n",
       "  </thead>\n",
       "  <tbody>\n",
       "    <tr>\n",
       "      <th>count</th>\n",
       "      <td>2.058370e+05</td>\n",
       "      <td>0.0</td>\n",
       "      <td>205837.000000</td>\n",
       "      <td>205837.000000</td>\n",
       "    </tr>\n",
       "    <tr>\n",
       "      <th>mean</th>\n",
       "      <td>4.729007e+05</td>\n",
       "      <td>NaN</td>\n",
       "      <td>81.168896</td>\n",
       "      <td>8.776658</td>\n",
       "    </tr>\n",
       "    <tr>\n",
       "      <th>std</th>\n",
       "      <td>6.435045e+05</td>\n",
       "      <td>NaN</td>\n",
       "      <td>92.006550</td>\n",
       "      <td>5.933078</td>\n",
       "    </tr>\n",
       "    <tr>\n",
       "      <th>min</th>\n",
       "      <td>9.987400e+04</td>\n",
       "      <td>NaN</td>\n",
       "      <td>0.000000</td>\n",
       "      <td>0.000000</td>\n",
       "    </tr>\n",
       "    <tr>\n",
       "      <th>25%</th>\n",
       "      <td>1.597500e+05</td>\n",
       "      <td>NaN</td>\n",
       "      <td>30.000000</td>\n",
       "      <td>5.000000</td>\n",
       "    </tr>\n",
       "    <tr>\n",
       "      <th>50%</th>\n",
       "      <td>2.282050e+05</td>\n",
       "      <td>NaN</td>\n",
       "      <td>70.000000</td>\n",
       "      <td>8.000000</td>\n",
       "    </tr>\n",
       "    <tr>\n",
       "      <th>75%</th>\n",
       "      <td>2.828810e+05</td>\n",
       "      <td>NaN</td>\n",
       "      <td>115.000000</td>\n",
       "      <td>12.000000</td>\n",
       "    </tr>\n",
       "    <tr>\n",
       "      <th>max</th>\n",
       "      <td>2.037785e+06</td>\n",
       "      <td>NaN</td>\n",
       "      <td>30553.000000</td>\n",
       "      <td>45.000000</td>\n",
       "    </tr>\n",
       "  </tbody>\n",
       "</table>\n",
       "</div>"
      ],
      "text/plain": [
       "             idbase  numero  circonference        hauteur\n",
       "count  2.058370e+05     0.0  205837.000000  205837.000000\n",
       "mean   4.729007e+05     NaN      81.168896       8.776658\n",
       "std    6.435045e+05     NaN      92.006550       5.933078\n",
       "min    9.987400e+04     NaN       0.000000       0.000000\n",
       "25%    1.597500e+05     NaN      30.000000       5.000000\n",
       "50%    2.282050e+05     NaN      70.000000       8.000000\n",
       "75%    2.828810e+05     NaN     115.000000      12.000000\n",
       "max    2.037785e+06     NaN   30553.000000      45.000000"
      ]
     },
     "execution_count": 23,
     "metadata": {},
     "output_type": "execute_result"
    }
   ],
   "source": [
    "df.describe()"
   ]
  },
  {
   "cell_type": "code",
   "execution_count": 24,
   "id": "bbc2d664",
   "metadata": {
    "scrolled": true
   },
   "outputs": [
    {
     "data": {
      "text/html": [
       "<div>\n",
       "<style scoped>\n",
       "    .dataframe tbody tr th:only-of-type {\n",
       "        vertical-align: middle;\n",
       "    }\n",
       "\n",
       "    .dataframe tbody tr th {\n",
       "        vertical-align: top;\n",
       "    }\n",
       "\n",
       "    .dataframe thead th {\n",
       "        text-align: right;\n",
       "    }\n",
       "</style>\n",
       "<table border=\"1\" class=\"dataframe\">\n",
       "  <thead>\n",
       "    <tr style=\"text-align: right;\">\n",
       "      <th></th>\n",
       "      <th>type</th>\n",
       "      <th>domanialite</th>\n",
       "      <th>arrondissement</th>\n",
       "      <th>complement</th>\n",
       "      <th>lieu</th>\n",
       "      <th>idemplacement</th>\n",
       "      <th>libelle</th>\n",
       "      <th>genre</th>\n",
       "      <th>espece</th>\n",
       "      <th>variete</th>\n",
       "      <th>stade</th>\n",
       "      <th>remarquable</th>\n",
       "      <th>geo_point_2d</th>\n",
       "    </tr>\n",
       "  </thead>\n",
       "  <tbody>\n",
       "    <tr>\n",
       "      <th>count</th>\n",
       "      <td>205837</td>\n",
       "      <td>205837</td>\n",
       "      <td>205837</td>\n",
       "      <td>49841</td>\n",
       "      <td>205837</td>\n",
       "      <td>205837</td>\n",
       "      <td>204751</td>\n",
       "      <td>205837</td>\n",
       "      <td>203516</td>\n",
       "      <td>38838</td>\n",
       "      <td>157711</td>\n",
       "      <td>180946</td>\n",
       "      <td>205837</td>\n",
       "    </tr>\n",
       "    <tr>\n",
       "      <th>unique</th>\n",
       "      <td>1</td>\n",
       "      <td>9</td>\n",
       "      <td>25</td>\n",
       "      <td>4516</td>\n",
       "      <td>7315</td>\n",
       "      <td>67295</td>\n",
       "      <td>196</td>\n",
       "      <td>176</td>\n",
       "      <td>548</td>\n",
       "      <td>482</td>\n",
       "      <td>4</td>\n",
       "      <td>2</td>\n",
       "      <td>205829</td>\n",
       "    </tr>\n",
       "    <tr>\n",
       "      <th>top</th>\n",
       "      <td>Arbre</td>\n",
       "      <td>Alignement</td>\n",
       "      <td>PARIS 15E ARRDT</td>\n",
       "      <td>2</td>\n",
       "      <td>PARC FLORAL DE PARIS / ROUTE DE LA PYRAMIDE</td>\n",
       "      <td>000101001</td>\n",
       "      <td>Platane</td>\n",
       "      <td>Platanus</td>\n",
       "      <td>x hispanica</td>\n",
       "      <td>''Baumannii''</td>\n",
       "      <td>Adulte</td>\n",
       "      <td>NON</td>\n",
       "      <td>48.83853874307851,2.439349992164275</td>\n",
       "    </tr>\n",
       "    <tr>\n",
       "      <th>freq</th>\n",
       "      <td>205837</td>\n",
       "      <td>106608</td>\n",
       "      <td>17312</td>\n",
       "      <td>741</td>\n",
       "      <td>2962</td>\n",
       "      <td>1866</td>\n",
       "      <td>42534</td>\n",
       "      <td>42571</td>\n",
       "      <td>36473</td>\n",
       "      <td>4695</td>\n",
       "      <td>77468</td>\n",
       "      <td>180770</td>\n",
       "      <td>2</td>\n",
       "    </tr>\n",
       "  </tbody>\n",
       "</table>\n",
       "</div>"
      ],
      "text/plain": [
       "          type domanialite   arrondissement complement  \\\n",
       "count   205837      205837           205837      49841   \n",
       "unique       1           9               25       4516   \n",
       "top      Arbre  Alignement  PARIS 15E ARRDT          2   \n",
       "freq    205837      106608            17312        741   \n",
       "\n",
       "                                               lieu idemplacement  libelle  \\\n",
       "count                                        205837        205837   204751   \n",
       "unique                                         7315         67295      196   \n",
       "top     PARC FLORAL DE PARIS / ROUTE DE LA PYRAMIDE     000101001  Platane   \n",
       "freq                                           2962          1866    42534   \n",
       "\n",
       "           genre       espece        variete   stade remarquable  \\\n",
       "count     205837       203516          38838  157711      180946   \n",
       "unique       176          548            482       4           2   \n",
       "top     Platanus  x hispanica  ''Baumannii''  Adulte         NON   \n",
       "freq       42571        36473           4695   77468      180770   \n",
       "\n",
       "                               geo_point_2d  \n",
       "count                                205837  \n",
       "unique                               205829  \n",
       "top     48.83853874307851,2.439349992164275  \n",
       "freq                                      2  "
      ]
     },
     "execution_count": 24,
     "metadata": {},
     "output_type": "execute_result"
    }
   ],
   "source": [
    "df.describe(include=\"object\")"
   ]
  },
  {
   "cell_type": "code",
   "execution_count": 25,
   "id": "a4c1af6b",
   "metadata": {},
   "outputs": [
    {
     "data": {
      "text/plain": [
       "<seaborn.axisgrid.PairGrid at 0x15efffe50>"
      ]
     },
     "execution_count": 25,
     "metadata": {},
     "output_type": "execute_result"
    },
    {
     "data": {
      "image/png": "[encoded data removed]",
      "text/plain": [
       "<Figure size 720x720 with 20 Axes>"
      ]
     },
     "metadata": {
      "needs_background": "light"
     },
     "output_type": "display_data"
    }
   ],
   "source": [
    "sns.pairplot(df)"
   ]
  },
  {
   "cell_type": "code",
   "execution_count": 26,
   "id": "e0ce46d2",
   "metadata": {},
   "outputs": [
    {
     "data": {
      "image/png": "[encoded data removed]",
      "text/plain": [
       "<Figure size 700x500 with 2 Axes>"
      ]
     },
     "metadata": {},
     "output_type": "display_data"
    }
   ],
   "source": [
    "corr = df.corr()\n",
    "mask = np.zeros_like(corr)\n",
    "mask[np.triu_indices_from(mask)] = True\n",
    "with sns.axes_style(\"white\"):\n",
    "    f, ax = plt.subplots(figsize=(7, 5))\n",
    "    ax = sns.heatmap(corr, mask=mask, vmax=1, vmin=-1, annot=True, fmt=\".2f\", cmap=\"coolwarm\", square=True)"
   ]
  },
  {
   "cell_type": "markdown",
   "id": "1c58a505",
   "metadata": {},
   "source": [
    "# 3. Cleaning"
   ]
  },
  {
   "cell_type": "markdown",
   "id": "45dc01a6",
   "metadata": {},
   "source": [
    "## 3.1 drop Nan"
   ]
  },
  {
   "cell_type": "code",
   "execution_count": 27,
   "id": "bdf0aa3f",
   "metadata": {},
   "outputs": [
    {
     "data": {
      "text/plain": [
       "numero            1.000000\n",
       "variete           0.811317\n",
       "complement        0.757862\n",
       "stade             0.233806\n",
       "remarquable       0.120926\n",
       "espece            0.011276\n",
       "libelle           0.005276\n",
       "hauteur           0.000000\n",
       "circonference     0.000000\n",
       "idbase            0.000000\n",
       "genre             0.000000\n",
       "type              0.000000\n",
       "idemplacement     0.000000\n",
       "lieu              0.000000\n",
       "arrondissement    0.000000\n",
       "domanialite       0.000000\n",
       "geo_point_2d      0.000000\n",
       "dtype: float64"
      ]
     },
     "execution_count": 27,
     "metadata": {},
     "output_type": "execute_result"
    }
   ],
   "source": [
    "tmp = df.isna().mean().sort_values(ascending=False)\n",
    "tmp"
   ]
  },
  {
   "cell_type": "code",
   "execution_count": 28,
   "id": "80751bc4",
   "metadata": {},
   "outputs": [
    {
     "data": {
      "text/plain": [
       "numero        1.000000\n",
       "variete       0.811317\n",
       "complement    0.757862\n",
       "dtype: float64"
      ]
     },
     "execution_count": 28,
     "metadata": {},
     "output_type": "execute_result"
    }
   ],
   "source": [
    "tmp[tmp>0.5]"
   ]
  },
  {
   "cell_type": "code",
   "execution_count": 29,
   "id": "6da2559c",
   "metadata": {},
   "outputs": [
    {
     "data": {
      "text/plain": [
       "Index(['numero', 'variete', 'complement'], dtype='object')"
      ]
     },
     "execution_count": 29,
     "metadata": {},
     "output_type": "execute_result"
    }
   ],
   "source": [
    "tmp[tmp>0.5].index"
   ]
  },
  {
   "cell_type": "code",
   "execution_count": 30,
   "id": "79d81c22",
   "metadata": {},
   "outputs": [
    {
     "data": {
      "text/html": [
       "<div>\n",
       "<style scoped>\n",
       "    .dataframe tbody tr th:only-of-type {\n",
       "        vertical-align: middle;\n",
       "    }\n",
       "\n",
       "    .dataframe tbody tr th {\n",
       "        vertical-align: top;\n",
       "    }\n",
       "\n",
       "    .dataframe thead th {\n",
       "        text-align: right;\n",
       "    }\n",
       "</style>\n",
       "<table border=\"1\" class=\"dataframe\">\n",
       "  <thead>\n",
       "    <tr style=\"text-align: right;\">\n",
       "      <th></th>\n",
       "      <th>idbase</th>\n",
       "      <th>type</th>\n",
       "      <th>domanialite</th>\n",
       "      <th>arrondissement</th>\n",
       "      <th>lieu</th>\n",
       "      <th>idemplacement</th>\n",
       "      <th>libelle</th>\n",
       "      <th>genre</th>\n",
       "      <th>espece</th>\n",
       "      <th>circonference</th>\n",
       "      <th>hauteur</th>\n",
       "      <th>stade</th>\n",
       "      <th>remarquable</th>\n",
       "      <th>geo_point_2d</th>\n",
       "    </tr>\n",
       "  </thead>\n",
       "  <tbody>\n",
       "    <tr>\n",
       "      <th>0</th>\n",
       "      <td>233378</td>\n",
       "      <td>Arbre</td>\n",
       "      <td>Alignement</td>\n",
       "      <td>PARIS 20E ARRDT</td>\n",
       "      <td>RUE DE MENILMONTANT</td>\n",
       "      <td>001501004</td>\n",
       "      <td>Sophora</td>\n",
       "      <td>Sophora</td>\n",
       "      <td>japonica</td>\n",
       "      <td>65</td>\n",
       "      <td>6</td>\n",
       "      <td>Jeune (arbre)Adulte</td>\n",
       "      <td>NON</td>\n",
       "      <td>48.8705897292168,2.398248222422003</td>\n",
       "    </tr>\n",
       "    <tr>\n",
       "      <th>1</th>\n",
       "      <td>233865</td>\n",
       "      <td>Arbre</td>\n",
       "      <td>Alignement</td>\n",
       "      <td>PARIS 12E ARRDT</td>\n",
       "      <td>BOULEVARD DE BERCY</td>\n",
       "      <td>000103002</td>\n",
       "      <td>Tilleul</td>\n",
       "      <td>Tilia</td>\n",
       "      <td>americana</td>\n",
       "      <td>55</td>\n",
       "      <td>5</td>\n",
       "      <td>Jeune (arbre)Adulte</td>\n",
       "      <td>NON</td>\n",
       "      <td>48.83913076090666,2.376322566287728</td>\n",
       "    </tr>\n",
       "    <tr>\n",
       "      <th>2</th>\n",
       "      <td>234757</td>\n",
       "      <td>Arbre</td>\n",
       "      <td>Alignement</td>\n",
       "      <td>PARIS 14E ARRDT</td>\n",
       "      <td>BOULEVARD RASPAIL</td>\n",
       "      <td>004103035</td>\n",
       "      <td>Tilleul</td>\n",
       "      <td>Tilia</td>\n",
       "      <td>x flavescens</td>\n",
       "      <td>80</td>\n",
       "      <td>10</td>\n",
       "      <td>Jeune (arbre)Adulte</td>\n",
       "      <td>NON</td>\n",
       "      <td>48.835943243901234,2.332049269477685</td>\n",
       "    </tr>\n",
       "    <tr>\n",
       "      <th>3</th>\n",
       "      <td>245018</td>\n",
       "      <td>Arbre</td>\n",
       "      <td>Alignement</td>\n",
       "      <td>PARIS 16E ARRDT</td>\n",
       "      <td>BOULEVARD LANNES</td>\n",
       "      <td>000701008</td>\n",
       "      <td>Platane</td>\n",
       "      <td>Platanus</td>\n",
       "      <td>x hispanica</td>\n",
       "      <td>180</td>\n",
       "      <td>15</td>\n",
       "      <td>Adulte</td>\n",
       "      <td>NON</td>\n",
       "      <td>48.86388335089906,2.269408781698171</td>\n",
       "    </tr>\n",
       "    <tr>\n",
       "      <th>4</th>\n",
       "      <td>107049</td>\n",
       "      <td>Arbre</td>\n",
       "      <td>Jardin</td>\n",
       "      <td>PARIS 7E ARRDT</td>\n",
       "      <td>JARDIN DU CHAMP DE MARS ET PELOUSES DE L ECOLE...</td>\n",
       "      <td>A00401020</td>\n",
       "      <td>Tilleul</td>\n",
       "      <td>Tilia</td>\n",
       "      <td>n. sp.</td>\n",
       "      <td>128</td>\n",
       "      <td>15</td>\n",
       "      <td>Adulte</td>\n",
       "      <td>NON</td>\n",
       "      <td>48.85601688564015,2.29573613169062</td>\n",
       "    </tr>\n",
       "    <tr>\n",
       "      <th>...</th>\n",
       "      <td>...</td>\n",
       "      <td>...</td>\n",
       "      <td>...</td>\n",
       "      <td>...</td>\n",
       "      <td>...</td>\n",
       "      <td>...</td>\n",
       "      <td>...</td>\n",
       "      <td>...</td>\n",
       "      <td>...</td>\n",
       "      <td>...</td>\n",
       "      <td>...</td>\n",
       "      <td>...</td>\n",
       "      <td>...</td>\n",
       "      <td>...</td>\n",
       "    </tr>\n",
       "    <tr>\n",
       "      <th>205832</th>\n",
       "      <td>277196</td>\n",
       "      <td>Arbre</td>\n",
       "      <td>Alignement</td>\n",
       "      <td>PARIS 7E ARRDT</td>\n",
       "      <td>AVENUE EMILE POUVILLON</td>\n",
       "      <td>000402002</td>\n",
       "      <td>Platane</td>\n",
       "      <td>Platanus</td>\n",
       "      <td>occidentalis</td>\n",
       "      <td>180</td>\n",
       "      <td>25</td>\n",
       "      <td>Adulte</td>\n",
       "      <td>NON</td>\n",
       "      <td>48.857501544418604,2.298694846390691</td>\n",
       "    </tr>\n",
       "    <tr>\n",
       "      <th>205833</th>\n",
       "      <td>206780</td>\n",
       "      <td>Arbre</td>\n",
       "      <td>Alignement</td>\n",
       "      <td>PARIS 17E ARRDT</td>\n",
       "      <td>BOULEVARD MALESHERBES</td>\n",
       "      <td>002701007</td>\n",
       "      <td>Marronnier</td>\n",
       "      <td>Aesculus</td>\n",
       "      <td>x carnea</td>\n",
       "      <td>24</td>\n",
       "      <td>5</td>\n",
       "      <td>Jeune (arbre)</td>\n",
       "      <td>NON</td>\n",
       "      <td>48.883629692582055,2.309000304779045</td>\n",
       "    </tr>\n",
       "    <tr>\n",
       "      <th>205834</th>\n",
       "      <td>216387</td>\n",
       "      <td>Arbre</td>\n",
       "      <td>Alignement</td>\n",
       "      <td>PARIS 2E ARRDT</td>\n",
       "      <td>RUE NOTRE DAME DE BONNE NOUVELLE</td>\n",
       "      <td>000301001</td>\n",
       "      <td>Charme-Houblon</td>\n",
       "      <td>Ostrya</td>\n",
       "      <td>carpinifolia</td>\n",
       "      <td>40</td>\n",
       "      <td>5</td>\n",
       "      <td>Jeune (arbre)Adulte</td>\n",
       "      <td>NON</td>\n",
       "      <td>48.87007536483951,2.349706549331126</td>\n",
       "    </tr>\n",
       "    <tr>\n",
       "      <th>205835</th>\n",
       "      <td>218657</td>\n",
       "      <td>Arbre</td>\n",
       "      <td>Alignement</td>\n",
       "      <td>BOIS DE BOULOGNE</td>\n",
       "      <td>AVENUE DE L HIPPODROME</td>\n",
       "      <td>000101008</td>\n",
       "      <td>Platane</td>\n",
       "      <td>Platanus</td>\n",
       "      <td>orientalis</td>\n",
       "      <td>161</td>\n",
       "      <td>16</td>\n",
       "      <td>Adulte</td>\n",
       "      <td>NON</td>\n",
       "      <td>48.858427453525294,2.256386261184969</td>\n",
       "    </tr>\n",
       "    <tr>\n",
       "      <th>205836</th>\n",
       "      <td>220705</td>\n",
       "      <td>Arbre</td>\n",
       "      <td>Alignement</td>\n",
       "      <td>PARIS 14E ARRDT</td>\n",
       "      <td>AVENUE RENE COTY</td>\n",
       "      <td>000401006</td>\n",
       "      <td>Platane</td>\n",
       "      <td>Platanus</td>\n",
       "      <td>x hispanica</td>\n",
       "      <td>180</td>\n",
       "      <td>15</td>\n",
       "      <td>Adulte</td>\n",
       "      <td>NON</td>\n",
       "      <td>48.82939652307256,2.334305855478159</td>\n",
       "    </tr>\n",
       "  </tbody>\n",
       "</table>\n",
       "<p>205837 rows × 14 columns</p>\n",
       "</div>"
      ],
      "text/plain": [
       "        idbase   type domanialite    arrondissement  \\\n",
       "0       233378  Arbre  Alignement   PARIS 20E ARRDT   \n",
       "1       233865  Arbre  Alignement   PARIS 12E ARRDT   \n",
       "2       234757  Arbre  Alignement   PARIS 14E ARRDT   \n",
       "3       245018  Arbre  Alignement   PARIS 16E ARRDT   \n",
       "4       107049  Arbre      Jardin    PARIS 7E ARRDT   \n",
       "...        ...    ...         ...               ...   \n",
       "205832  277196  Arbre  Alignement    PARIS 7E ARRDT   \n",
       "205833  206780  Arbre  Alignement   PARIS 17E ARRDT   \n",
       "205834  216387  Arbre  Alignement    PARIS 2E ARRDT   \n",
       "205835  218657  Arbre  Alignement  BOIS DE BOULOGNE   \n",
       "205836  220705  Arbre  Alignement   PARIS 14E ARRDT   \n",
       "\n",
       "                                                     lieu idemplacement  \\\n",
       "0                                     RUE DE MENILMONTANT     001501004   \n",
       "1                                      BOULEVARD DE BERCY     000103002   \n",
       "2                                       BOULEVARD RASPAIL     004103035   \n",
       "3                                        BOULEVARD LANNES     000701008   \n",
       "4       JARDIN DU CHAMP DE MARS ET PELOUSES DE L ECOLE...     A00401020   \n",
       "...                                                   ...           ...   \n",
       "205832                             AVENUE EMILE POUVILLON     000402002   \n",
       "205833                              BOULEVARD MALESHERBES     002701007   \n",
       "205834                   RUE NOTRE DAME DE BONNE NOUVELLE     000301001   \n",
       "205835                             AVENUE DE L HIPPODROME     000101008   \n",
       "205836                                   AVENUE RENE COTY     000401006   \n",
       "\n",
       "               libelle     genre        espece  circonference  hauteur  \\\n",
       "0              Sophora   Sophora      japonica             65        6   \n",
       "1              Tilleul     Tilia     americana             55        5   \n",
       "2              Tilleul     Tilia  x flavescens             80       10   \n",
       "3              Platane  Platanus   x hispanica            180       15   \n",
       "4              Tilleul     Tilia        n. sp.            128       15   \n",
       "...                ...       ...           ...            ...      ...   \n",
       "205832         Platane  Platanus  occidentalis            180       25   \n",
       "205833      Marronnier  Aesculus      x carnea             24        5   \n",
       "205834  Charme-Houblon    Ostrya  carpinifolia             40        5   \n",
       "205835         Platane  Platanus    orientalis            161       16   \n",
       "205836         Platane  Platanus   x hispanica            180       15   \n",
       "\n",
       "                      stade remarquable                          geo_point_2d  \n",
       "0       Jeune (arbre)Adulte         NON    48.8705897292168,2.398248222422003  \n",
       "1       Jeune (arbre)Adulte         NON   48.83913076090666,2.376322566287728  \n",
       "2       Jeune (arbre)Adulte         NON  48.835943243901234,2.332049269477685  \n",
       "3                    Adulte         NON   48.86388335089906,2.269408781698171  \n",
       "4                    Adulte         NON    48.85601688564015,2.29573613169062  \n",
       "...                     ...         ...                                   ...  \n",
       "205832               Adulte         NON  48.857501544418604,2.298694846390691  \n",
       "205833        Jeune (arbre)         NON  48.883629692582055,2.309000304779045  \n",
       "205834  Jeune (arbre)Adulte         NON   48.87007536483951,2.349706549331126  \n",
       "205835               Adulte         NON  48.858427453525294,2.256386261184969  \n",
       "205836               Adulte         NON   48.82939652307256,2.334305855478159  \n",
       "\n",
       "[205837 rows x 14 columns]"
      ]
     },
     "execution_count": 30,
     "metadata": {},
     "output_type": "execute_result"
    }
   ],
   "source": [
    "cols = tmp[tmp>0.5].index\n",
    "df.drop(columns=cols, inplace=True)\n",
    "df"
   ]
  },
  {
   "cell_type": "markdown",
   "id": "34e618bc",
   "metadata": {},
   "source": [
    "## x.x Keep only numeric cols"
   ]
  },
  {
   "cell_type": "code",
   "execution_count": 31,
   "id": "e7c47da7",
   "metadata": {},
   "outputs": [
    {
     "data": {
      "text/plain": [
       "idbase             int64\n",
       "type              object\n",
       "domanialite       object\n",
       "arrondissement    object\n",
       "lieu              object\n",
       "idemplacement     object\n",
       "libelle           object\n",
       "genre             object\n",
       "espece            object\n",
       "circonference      int64\n",
       "hauteur            int64\n",
       "stade             object\n",
       "remarquable       object\n",
       "geo_point_2d      object\n",
       "dtype: object"
      ]
     },
     "execution_count": 31,
     "metadata": {},
     "output_type": "execute_result"
    }
   ],
   "source": [
    "tmp = df.dtypes\n",
    "tmp"
   ]
  },
  {
   "cell_type": "code",
   "execution_count": 32,
   "id": "2b01233a",
   "metadata": {},
   "outputs": [
    {
     "data": {
      "text/html": [
       "<div>\n",
       "<style scoped>\n",
       "    .dataframe tbody tr th:only-of-type {\n",
       "        vertical-align: middle;\n",
       "    }\n",
       "\n",
       "    .dataframe tbody tr th {\n",
       "        vertical-align: top;\n",
       "    }\n",
       "\n",
       "    .dataframe thead th {\n",
       "        text-align: right;\n",
       "    }\n",
       "</style>\n",
       "<table border=\"1\" class=\"dataframe\">\n",
       "  <thead>\n",
       "    <tr style=\"text-align: right;\">\n",
       "      <th></th>\n",
       "      <th>circonference</th>\n",
       "      <th>hauteur</th>\n",
       "    </tr>\n",
       "  </thead>\n",
       "  <tbody>\n",
       "    <tr>\n",
       "      <th>0</th>\n",
       "      <td>65</td>\n",
       "      <td>6</td>\n",
       "    </tr>\n",
       "    <tr>\n",
       "      <th>1</th>\n",
       "      <td>55</td>\n",
       "      <td>5</td>\n",
       "    </tr>\n",
       "    <tr>\n",
       "      <th>2</th>\n",
       "      <td>80</td>\n",
       "      <td>10</td>\n",
       "    </tr>\n",
       "    <tr>\n",
       "      <th>3</th>\n",
       "      <td>180</td>\n",
       "      <td>15</td>\n",
       "    </tr>\n",
       "    <tr>\n",
       "      <th>4</th>\n",
       "      <td>128</td>\n",
       "      <td>15</td>\n",
       "    </tr>\n",
       "  </tbody>\n",
       "</table>\n",
       "</div>"
      ],
      "text/plain": [
       "   circonference  hauteur\n",
       "0             65        6\n",
       "1             55        5\n",
       "2             80       10\n",
       "3            180       15\n",
       "4            128       15"
      ]
     },
     "execution_count": 32,
     "metadata": {},
     "output_type": "execute_result"
    }
   ],
   "source": [
    "cols = [\"circonference\", \"hauteur\"]\n",
    "df = df[cols]\n",
    "df.head()"
   ]
  },
  {
   "cell_type": "markdown",
   "id": "fa2d5a30",
   "metadata": {},
   "source": [
    "## 3.x Handle Outliers"
   ]
  },
  {
   "cell_type": "code",
   "execution_count": 33,
   "id": "0e4d7b8f",
   "metadata": {},
   "outputs": [
    {
     "data": {
      "text/html": [
       "<div>\n",
       "<style scoped>\n",
       "    .dataframe tbody tr th:only-of-type {\n",
       "        vertical-align: middle;\n",
       "    }\n",
       "\n",
       "    .dataframe tbody tr th {\n",
       "        vertical-align: top;\n",
       "    }\n",
       "\n",
       "    .dataframe thead th {\n",
       "        text-align: right;\n",
       "    }\n",
       "</style>\n",
       "<table border=\"1\" class=\"dataframe\">\n",
       "  <thead>\n",
       "    <tr style=\"text-align: right;\">\n",
       "      <th></th>\n",
       "      <th>circonference</th>\n",
       "      <th>hauteur</th>\n",
       "    </tr>\n",
       "  </thead>\n",
       "  <tbody>\n",
       "    <tr>\n",
       "      <th>count</th>\n",
       "      <td>205837.000000</td>\n",
       "      <td>205837.000000</td>\n",
       "    </tr>\n",
       "    <tr>\n",
       "      <th>mean</th>\n",
       "      <td>81.168896</td>\n",
       "      <td>8.776658</td>\n",
       "    </tr>\n",
       "    <tr>\n",
       "      <th>std</th>\n",
       "      <td>92.006550</td>\n",
       "      <td>5.933078</td>\n",
       "    </tr>\n",
       "    <tr>\n",
       "      <th>min</th>\n",
       "      <td>0.000000</td>\n",
       "      <td>0.000000</td>\n",
       "    </tr>\n",
       "    <tr>\n",
       "      <th>25%</th>\n",
       "      <td>30.000000</td>\n",
       "      <td>5.000000</td>\n",
       "    </tr>\n",
       "    <tr>\n",
       "      <th>50%</th>\n",
       "      <td>70.000000</td>\n",
       "      <td>8.000000</td>\n",
       "    </tr>\n",
       "    <tr>\n",
       "      <th>75%</th>\n",
       "      <td>115.000000</td>\n",
       "      <td>12.000000</td>\n",
       "    </tr>\n",
       "    <tr>\n",
       "      <th>max</th>\n",
       "      <td>30553.000000</td>\n",
       "      <td>45.000000</td>\n",
       "    </tr>\n",
       "  </tbody>\n",
       "</table>\n",
       "</div>"
      ],
      "text/plain": [
       "       circonference        hauteur\n",
       "count  205837.000000  205837.000000\n",
       "mean       81.168896       8.776658\n",
       "std        92.006550       5.933078\n",
       "min         0.000000       0.000000\n",
       "25%        30.000000       5.000000\n",
       "50%        70.000000       8.000000\n",
       "75%       115.000000      12.000000\n",
       "max     30553.000000      45.000000"
      ]
     },
     "execution_count": 33,
     "metadata": {},
     "output_type": "execute_result"
    }
   ],
   "source": [
    "df.describe()"
   ]
  },
  {
   "cell_type": "code",
   "execution_count": 34,
   "id": "f540fac3",
   "metadata": {},
   "outputs": [
    {
     "data": {
      "text/plain": [
       "<seaborn.axisgrid.PairGrid at 0x15effc880>"
      ]
     },
     "execution_count": 34,
     "metadata": {},
     "output_type": "execute_result"
    },
    {
     "data": {
      "image/png": "[encoded data removed]",
      "text/plain": [
       "<Figure size 500x500 with 6 Axes>"
      ]
     },
     "metadata": {},
     "output_type": "display_data"
    }
   ],
   "source": [
    "sns.pairplot(df)"
   ]
  },
  {
   "cell_type": "code",
   "execution_count": 35,
   "id": "d82ad7fe",
   "metadata": {},
   "outputs": [
    {
     "data": {
      "text/plain": [
       "<AxesSubplot:xlabel='circonference'>"
      ]
     },
     "execution_count": 35,
     "metadata": {},
     "output_type": "execute_result"
    },
    {
     "data": {
      "image/png": "[encoded data removed]",
      "text/plain": [
       "<Figure size 800x800 with 2 Axes>"
      ]
     },
     "metadata": {},
     "output_type": "display_data"
    }
   ],
   "source": [
    "fig, axs = plt.subplots(2,1, figsize=(8,8))\n",
    "\n",
    "sns.boxplot(df.hauteur, ax=axs[0], orient=\"v\")\n",
    "sns.boxplot(df.circonference, ax=axs[1], orient=\"v\")"
   ]
  },
  {
   "cell_type": "code",
   "execution_count": 36,
   "id": "dcd29562",
   "metadata": {},
   "outputs": [
    {
     "data": {
      "text/plain": [
       "<seaborn.axisgrid.FacetGrid at 0x16971a380>"
      ]
     },
     "execution_count": 36,
     "metadata": {},
     "output_type": "execute_result"
    },
    {
     "data": {
      "image/png": "[encoded data removed]",
      "text/plain": [
       "<Figure size 500x500 with 1 Axes>"
      ]
     },
     "metadata": {},
     "output_type": "display_data"
    },
    {
     "data": {
      "image/png": "[encoded data removed]",
      "text/plain": [
       "<Figure size 500x500 with 1 Axes>"
      ]
     },
     "metadata": {},
     "output_type": "display_data"
    }
   ],
   "source": [
    "sns.displot(df.hauteur)\n",
    "sns.displot(df.circonference)"
   ]
  },
  {
   "cell_type": "code",
   "execution_count": 37,
   "id": "fc9fe6f0",
   "metadata": {},
   "outputs": [
    {
     "data": {
      "image/png": "[encoded data removed]",
      "text/plain": [
       "<Figure size 800x800 with 1 Axes>"
      ]
     },
     "metadata": {},
     "output_type": "display_data"
    }
   ],
   "source": [
    "fig, ax = plt.subplots(1,1, figsize=(8,8))\n",
    "ax.set_xlabel(\"circonference\")\n",
    "ax.set_ylabel(\"hauteur\")\n",
    "_ = ax.scatter(df.circonference, df.hauteur)\n"
   ]
  },
  {
   "cell_type": "code",
   "execution_count": 38,
   "id": "a958678d",
   "metadata": {
    "scrolled": true
   },
   "outputs": [
    {
     "data": {
      "text/html": [
       "<div>\n",
       "<style scoped>\n",
       "    .dataframe tbody tr th:only-of-type {\n",
       "        vertical-align: middle;\n",
       "    }\n",
       "\n",
       "    .dataframe tbody tr th {\n",
       "        vertical-align: top;\n",
       "    }\n",
       "\n",
       "    .dataframe thead th {\n",
       "        text-align: right;\n",
       "    }\n",
       "</style>\n",
       "<table border=\"1\" class=\"dataframe\">\n",
       "  <thead>\n",
       "    <tr style=\"text-align: right;\">\n",
       "      <th></th>\n",
       "      <th>circonference</th>\n",
       "      <th>hauteur</th>\n",
       "    </tr>\n",
       "  </thead>\n",
       "  <tbody>\n",
       "    <tr>\n",
       "      <th>0</th>\n",
       "      <td>65</td>\n",
       "      <td>6</td>\n",
       "    </tr>\n",
       "    <tr>\n",
       "      <th>1</th>\n",
       "      <td>55</td>\n",
       "      <td>5</td>\n",
       "    </tr>\n",
       "    <tr>\n",
       "      <th>2</th>\n",
       "      <td>80</td>\n",
       "      <td>10</td>\n",
       "    </tr>\n",
       "    <tr>\n",
       "      <th>3</th>\n",
       "      <td>180</td>\n",
       "      <td>15</td>\n",
       "    </tr>\n",
       "    <tr>\n",
       "      <th>4</th>\n",
       "      <td>128</td>\n",
       "      <td>15</td>\n",
       "    </tr>\n",
       "  </tbody>\n",
       "</table>\n",
       "</div>"
      ],
      "text/plain": [
       "   circonference  hauteur\n",
       "0             65        6\n",
       "1             55        5\n",
       "2             80       10\n",
       "3            180       15\n",
       "4            128       15"
      ]
     },
     "execution_count": 38,
     "metadata": {},
     "output_type": "execute_result"
    }
   ],
   "source": [
    "df_cleaned = df.loc[df.circonference<5000]\n",
    "df_cleaned.head()"
   ]
  },
  {
   "cell_type": "code",
   "execution_count": 39,
   "id": "ef3cd238",
   "metadata": {},
   "outputs": [
    {
     "data": {
      "text/plain": [
       "<AxesSubplot:xlabel='circonference'>"
      ]
     },
     "execution_count": 39,
     "metadata": {},
     "output_type": "execute_result"
    },
    {
     "data": {
      "image/png": "[encoded data removed]",
      "text/plain": [
       "<Figure size 800x800 with 2 Axes>"
      ]
     },
     "metadata": {},
     "output_type": "display_data"
    }
   ],
   "source": [
    "fig, axs = plt.subplots(2,1, figsize=(8,8))\n",
    "\n",
    "sns.boxplot(df_cleaned.hauteur, ax=axs[0], orient=\"v\")\n",
    "sns.boxplot(df_cleaned.circonference, ax=axs[1], orient=\"v\")"
   ]
  },
  {
   "cell_type": "code",
   "execution_count": 40,
   "id": "2055989a",
   "metadata": {},
   "outputs": [
    {
     "data": {
      "text/plain": [
       "<seaborn.axisgrid.FacetGrid at 0x281725930>"
      ]
     },
     "execution_count": 40,
     "metadata": {},
     "output_type": "execute_result"
    },
    {
     "data": {
      "image/png": "[encoded data removed]",
      "text/plain": [
       "<Figure size 500x500 with 1 Axes>"
      ]
     },
     "metadata": {},
     "output_type": "display_data"
    },
    {
     "data": {
      "image/png": "[encoded data removed]",
      "text/plain": [
       "<Figure size 500x500 with 1 Axes>"
      ]
     },
     "metadata": {},
     "output_type": "display_data"
    }
   ],
   "source": [
    "sns.displot(df_cleaned.hauteur)\n",
    "sns.displot(df_cleaned.circonference)"
   ]
  },
  {
   "cell_type": "code",
   "execution_count": 41,
   "id": "105e8bb8",
   "metadata": {
    "scrolled": false
   },
   "outputs": [
    {
     "data": {
      "image/png": "[encoded data removed]",
      "text/plain": [
       "<Figure size 800x800 with 1 Axes>"
      ]
     },
     "metadata": {},
     "output_type": "display_data"
    }
   ],
   "source": [
    "fig, ax = plt.subplots(1,1, figsize=(8,8))\n",
    "ax.set_xlabel(\"circonference\")\n",
    "ax.set_ylabel(\"hauteur\")\n",
    "_ = ax.scatter(df_cleaned.circonference, df_cleaned.hauteur)"
   ]
  },
  {
   "cell_type": "code",
   "execution_count": 42,
   "id": "6ec55cd4",
   "metadata": {},
   "outputs": [
    {
     "data": {
      "text/html": [
       "<div>\n",
       "<style scoped>\n",
       "    .dataframe tbody tr th:only-of-type {\n",
       "        vertical-align: middle;\n",
       "    }\n",
       "\n",
       "    .dataframe tbody tr th {\n",
       "        vertical-align: top;\n",
       "    }\n",
       "\n",
       "    .dataframe thead th {\n",
       "        text-align: right;\n",
       "    }\n",
       "</style>\n",
       "<table border=\"1\" class=\"dataframe\">\n",
       "  <thead>\n",
       "    <tr style=\"text-align: right;\">\n",
       "      <th></th>\n",
       "      <th>circonference</th>\n",
       "      <th>hauteur</th>\n",
       "    </tr>\n",
       "  </thead>\n",
       "  <tbody>\n",
       "    <tr>\n",
       "      <th>0</th>\n",
       "      <td>65</td>\n",
       "      <td>6</td>\n",
       "    </tr>\n",
       "    <tr>\n",
       "      <th>1</th>\n",
       "      <td>55</td>\n",
       "      <td>5</td>\n",
       "    </tr>\n",
       "    <tr>\n",
       "      <th>2</th>\n",
       "      <td>80</td>\n",
       "      <td>10</td>\n",
       "    </tr>\n",
       "    <tr>\n",
       "      <th>3</th>\n",
       "      <td>180</td>\n",
       "      <td>15</td>\n",
       "    </tr>\n",
       "    <tr>\n",
       "      <th>4</th>\n",
       "      <td>128</td>\n",
       "      <td>15</td>\n",
       "    </tr>\n",
       "  </tbody>\n",
       "</table>\n",
       "</div>"
      ],
      "text/plain": [
       "   circonference  hauteur\n",
       "0             65        6\n",
       "1             55        5\n",
       "2             80       10\n",
       "3            180       15\n",
       "4            128       15"
      ]
     },
     "execution_count": 42,
     "metadata": {},
     "output_type": "execute_result"
    }
   ],
   "source": [
    "df_cleaned = df.loc[df.circonference<1000]\n",
    "df_cleaned.head()"
   ]
  },
  {
   "cell_type": "code",
   "execution_count": 43,
   "id": "f1409313",
   "metadata": {},
   "outputs": [
    {
     "data": {
      "text/plain": [
       "<AxesSubplot:xlabel='circonference'>"
      ]
     },
     "execution_count": 43,
     "metadata": {},
     "output_type": "execute_result"
    },
    {
     "data": {
      "image/png": "[encoded data removed]",
      "text/plain": [
       "<Figure size 800x800 with 2 Axes>"
      ]
     },
     "metadata": {},
     "output_type": "display_data"
    }
   ],
   "source": [
    "fig, axs = plt.subplots(2,1, figsize=(8,8))\n",
    "\n",
    "sns.boxplot(df_cleaned.hauteur, ax=axs[0], orient=\"v\")\n",
    "sns.boxplot(df_cleaned.circonference, ax=axs[1], orient=\"v\")"
   ]
  },
  {
   "cell_type": "code",
   "execution_count": 44,
   "id": "09c15f5a",
   "metadata": {},
   "outputs": [
    {
     "data": {
      "text/plain": [
       "<seaborn.axisgrid.FacetGrid at 0x28867be80>"
      ]
     },
     "execution_count": 44,
     "metadata": {},
     "output_type": "execute_result"
    },
    {
     "data": {
      "image/png": "[encoded data removed]",
      "text/plain": [
       "<Figure size 500x500 with 1 Axes>"
      ]
     },
     "metadata": {},
     "output_type": "display_data"
    },
    {
     "data": {
      "image/png": "[encoded data removed]",
      "text/plain": [
       "<Figure size 500x500 with 1 Axes>"
      ]
     },
     "metadata": {},
     "output_type": "display_data"
    }
   ],
   "source": [
    "sns.displot(df_cleaned.hauteur)\n",
    "sns.displot(df_cleaned.circonference)"
   ]
  },
  {
   "cell_type": "code",
   "execution_count": 45,
   "id": "eaf65962",
   "metadata": {
    "scrolled": true
   },
   "outputs": [
    {
     "data": {
      "image/png": "[encoded data removed]",
      "text/plain": [
       "<Figure size 800x800 with 1 Axes>"
      ]
     },
     "metadata": {},
     "output_type": "display_data"
    }
   ],
   "source": [
    "fig, ax = plt.subplots(1,1, figsize=(8,8))\n",
    "ax.set_xlabel(\"circonference\")\n",
    "ax.set_ylabel(\"hauteur\")\n",
    "_ = ax.scatter(df_cleaned.circonference, df_cleaned.hauteur)"
   ]
  },
  {
   "cell_type": "code",
   "execution_count": 46,
   "id": "8245207a",
   "metadata": {},
   "outputs": [
    {
     "data": {
      "text/html": [
       "<div>\n",
       "<style scoped>\n",
       "    .dataframe tbody tr th:only-of-type {\n",
       "        vertical-align: middle;\n",
       "    }\n",
       "\n",
       "    .dataframe tbody tr th {\n",
       "        vertical-align: top;\n",
       "    }\n",
       "\n",
       "    .dataframe thead th {\n",
       "        text-align: right;\n",
       "    }\n",
       "</style>\n",
       "<table border=\"1\" class=\"dataframe\">\n",
       "  <thead>\n",
       "    <tr style=\"text-align: right;\">\n",
       "      <th></th>\n",
       "      <th>circonference</th>\n",
       "      <th>hauteur</th>\n",
       "    </tr>\n",
       "  </thead>\n",
       "  <tbody>\n",
       "    <tr>\n",
       "      <th>0</th>\n",
       "      <td>65</td>\n",
       "      <td>6</td>\n",
       "    </tr>\n",
       "    <tr>\n",
       "      <th>1</th>\n",
       "      <td>55</td>\n",
       "      <td>5</td>\n",
       "    </tr>\n",
       "    <tr>\n",
       "      <th>2</th>\n",
       "      <td>80</td>\n",
       "      <td>10</td>\n",
       "    </tr>\n",
       "    <tr>\n",
       "      <th>3</th>\n",
       "      <td>180</td>\n",
       "      <td>15</td>\n",
       "    </tr>\n",
       "    <tr>\n",
       "      <th>4</th>\n",
       "      <td>128</td>\n",
       "      <td>15</td>\n",
       "    </tr>\n",
       "  </tbody>\n",
       "</table>\n",
       "</div>"
      ],
      "text/plain": [
       "   circonference  hauteur\n",
       "0             65        6\n",
       "1             55        5\n",
       "2             80       10\n",
       "3            180       15\n",
       "4            128       15"
      ]
     },
     "execution_count": 46,
     "metadata": {},
     "output_type": "execute_result"
    }
   ],
   "source": [
    "df_cleaned = df.loc[df.circonference<1000]\n",
    "df_cleaned = df_cleaned.loc[df.circonference>0]\n",
    "df_cleaned = df_cleaned.loc[df.hauteur>0]\n",
    "df_cleaned.head()"
   ]
  },
  {
   "cell_type": "code",
   "execution_count": 47,
   "id": "f59c5b16",
   "metadata": {},
   "outputs": [
    {
     "data": {
      "text/plain": [
       "<AxesSubplot:xlabel='circonference'>"
      ]
     },
     "execution_count": 47,
     "metadata": {},
     "output_type": "execute_result"
    },
    {
     "data": {
      "image/png": "[encoded data removed]",
      "text/plain": [
       "<Figure size 800x800 with 2 Axes>"
      ]
     },
     "metadata": {},
     "output_type": "display_data"
    }
   ],
   "source": [
    "fig, axs = plt.subplots(2,1, figsize=(8,8))\n",
    "\n",
    "sns.boxplot(df_cleaned.hauteur, ax=axs[0], orient=\"v\")\n",
    "sns.boxplot(df_cleaned.circonference, ax=axs[1], orient=\"v\")"
   ]
  },
  {
   "cell_type": "code",
   "execution_count": 48,
   "id": "ea5f6ec4",
   "metadata": {},
   "outputs": [
    {
     "data": {
      "text/plain": [
       "<seaborn.axisgrid.FacetGrid at 0x28a238eb0>"
      ]
     },
     "execution_count": 48,
     "metadata": {},
     "output_type": "execute_result"
    },
    {
     "data": {
      "image/png": "[encoded data removed]",
      "text/plain": [
       "<Figure size 500x500 with 1 Axes>"
      ]
     },
     "metadata": {},
     "output_type": "display_data"
    },
    {
     "data": {
      "image/png": "[encoded data removed]",
      "text/plain": [
       "<Figure size 500x500 with 1 Axes>"
      ]
     },
     "metadata": {},
     "output_type": "display_data"
    }
   ],
   "source": [
    "sns.displot(df_cleaned.hauteur)\n",
    "sns.displot(df_cleaned.circonference)"
   ]
  },
  {
   "cell_type": "code",
   "execution_count": 49,
   "id": "abacf553",
   "metadata": {},
   "outputs": [
    {
     "data": {
      "image/png": "[encoded data removed]",
      "text/plain": [
       "<Figure size 800x800 with 1 Axes>"
      ]
     },
     "metadata": {},
     "output_type": "display_data"
    }
   ],
   "source": [
    "fig, ax = plt.subplots(1,1, figsize=(8,8))\n",
    "ax.set_xlabel(\"circonference\")\n",
    "ax.set_ylabel(\"hauteur\")\n",
    "_ = ax.scatter(df_cleaned.circonference, df_cleaned.hauteur, marker=\".\")"
   ]
  },
  {
   "cell_type": "markdown",
   "id": "8cd1e783",
   "metadata": {},
   "source": [
    "Visualiser le nuage de points (graphique de dispersion de la hauteur en fonction de la circonférence).\n",
    "\n",
    "Effectuer la régression linéaire de la hauteur en fonction de la circonférence.\n",
    "\n",
    "Donner et interpréter le coefficient de détermination.\n",
    "\n",
    "Analyser la significativité des paramètres (on teste la nullité des paramètres au niveau de test 5 %).\n",
    "\n"
   ]
  },
  {
   "cell_type": "code",
   "execution_count": 50,
   "id": "6cd5d101",
   "metadata": {},
   "outputs": [
    {
     "data": {
      "image/png": "[encoded data removed]",
      "text/plain": [
       "<Figure size 800x800 with 1 Axes>"
      ]
     },
     "metadata": {},
     "output_type": "display_data"
    }
   ],
   "source": [
    "fig, ax = plt.subplots(1,1, figsize=(8,8))\n",
    "ax.set_xlabel(\"circonference\")\n",
    "ax.set_ylabel(\"hauteur\")\n",
    "_ = ax.scatter(df_cleaned.circonference, df_cleaned.hauteur)"
   ]
  },
  {
   "cell_type": "code",
   "execution_count": null,
   "id": "a59fcc24",
   "metadata": {},
   "outputs": [],
   "source": []
  },
  {
   "cell_type": "code",
   "execution_count": 51,
   "id": "d6b42d3f",
   "metadata": {},
   "outputs": [
    {
     "data": {
      "text/plain": [
       "'\\ndf_cleaned = df.loc[df.circonference<150]\\ndf_cleaned = df_cleaned.loc[df.circonference>0]\\ndf_cleaned = df_cleaned.loc[df.hauteur>0]\\ndf_cleaned.head()\\n'"
      ]
     },
     "execution_count": 51,
     "metadata": {},
     "output_type": "execute_result"
    }
   ],
   "source": [
    "\"\"\"\n",
    "df_cleaned = df.loc[df.circonference<150]\n",
    "df_cleaned = df_cleaned.loc[df.circonference>0]\n",
    "df_cleaned = df_cleaned.loc[df.hauteur>0]\n",
    "df_cleaned.head()\n",
    "\"\"\""
   ]
  },
  {
   "cell_type": "code",
   "execution_count": 52,
   "id": "e51e1ec1",
   "metadata": {},
   "outputs": [
    {
     "data": {
      "text/plain": [
       "'\\nfig, ax = plt.subplots(1,1, figsize=(8,8))\\nax.set_xlabel(\"circonference\")\\nax.set_ylabel(\"hauteur\")\\n_ = ax.scatter(df_cleaned.circonference, df_cleaned.hauteur)\\n'"
      ]
     },
     "execution_count": 52,
     "metadata": {},
     "output_type": "execute_result"
    }
   ],
   "source": [
    "\"\"\"\n",
    "fig, ax = plt.subplots(1,1, figsize=(8,8))\n",
    "ax.set_xlabel(\"circonference\")\n",
    "ax.set_ylabel(\"hauteur\")\n",
    "_ = ax.scatter(df_cleaned.circonference, df_cleaned.hauteur)\n",
    "\"\"\""
   ]
  },
  {
   "cell_type": "markdown",
   "id": "12e97a1a",
   "metadata": {},
   "source": [
    "# 4. modelisation"
   ]
  },
  {
   "cell_type": "markdown",
   "id": "41edda45",
   "metadata": {},
   "source": [
    "## 4.2 Linear Regression \"classique\""
   ]
  },
  {
   "cell_type": "code",
   "execution_count": 77,
   "id": "1800d4d4",
   "metadata": {},
   "outputs": [
    {
     "data": {
      "text/html": [
       "<div>\n",
       "<style scoped>\n",
       "    .dataframe tbody tr th:only-of-type {\n",
       "        vertical-align: middle;\n",
       "    }\n",
       "\n",
       "    .dataframe tbody tr th {\n",
       "        vertical-align: top;\n",
       "    }\n",
       "\n",
       "    .dataframe thead th {\n",
       "        text-align: right;\n",
       "    }\n",
       "</style>\n",
       "<table border=\"1\" class=\"dataframe\">\n",
       "  <thead>\n",
       "    <tr style=\"text-align: right;\">\n",
       "      <th></th>\n",
       "      <th>circonference</th>\n",
       "      <th>hauteur</th>\n",
       "    </tr>\n",
       "  </thead>\n",
       "  <tbody>\n",
       "    <tr>\n",
       "      <th>0</th>\n",
       "      <td>65</td>\n",
       "      <td>6</td>\n",
       "    </tr>\n",
       "    <tr>\n",
       "      <th>1</th>\n",
       "      <td>55</td>\n",
       "      <td>5</td>\n",
       "    </tr>\n",
       "    <tr>\n",
       "      <th>2</th>\n",
       "      <td>80</td>\n",
       "      <td>10</td>\n",
       "    </tr>\n",
       "    <tr>\n",
       "      <th>3</th>\n",
       "      <td>180</td>\n",
       "      <td>15</td>\n",
       "    </tr>\n",
       "    <tr>\n",
       "      <th>4</th>\n",
       "      <td>128</td>\n",
       "      <td>15</td>\n",
       "    </tr>\n",
       "  </tbody>\n",
       "</table>\n",
       "</div>"
      ],
      "text/plain": [
       "   circonference  hauteur\n",
       "0             65        6\n",
       "1             55        5\n",
       "2             80       10\n",
       "3            180       15\n",
       "4            128       15"
      ]
     },
     "execution_count": 77,
     "metadata": {},
     "output_type": "execute_result"
    }
   ],
   "source": [
    "df_cleaned.head()"
   ]
  },
  {
   "cell_type": "code",
   "execution_count": 78,
   "id": "b94aa0b0",
   "metadata": {},
   "outputs": [],
   "source": [
    "y = df_cleaned.hauteur\n",
    "X = df_cleaned.drop(columns=\"hauteur\")"
   ]
  },
  {
   "cell_type": "code",
   "execution_count": 79,
   "id": "1d2fb9cc",
   "metadata": {},
   "outputs": [
    {
     "data": {
      "text/html": [
       "<style>#sk-container-id-3 {color: black;background-color: white;}#sk-container-id-3 pre{padding: 0;}#sk-container-id-3 div.sk-toggleable {background-color: white;}#sk-container-id-3 label.sk-toggleable__label {cursor: pointer;display: block;width: 100%;margin-bottom: 0;padding: 0.3em;box-sizing: border-box;text-align: center;}#sk-container-id-3 label.sk-toggleable__label-arrow:before {content: \"▸\";float: left;margin-right: 0.25em;color: #696969;}#sk-container-id-3 label.sk-toggleable__label-arrow:hover:before {color: black;}#sk-container-id-3 div.sk-estimator:hover label.sk-toggleable__label-arrow:before {color: black;}#sk-container-id-3 div.sk-toggleable__content {max-height: 0;max-width: 0;overflow: hidden;text-align: left;background-color: #f0f8ff;}#sk-container-id-3 div.sk-toggleable__content pre {margin: 0.2em;color: black;border-radius: 0.25em;background-color: #f0f8ff;}#sk-container-id-3 input.sk-toggleable__control:checked~div.sk-toggleable__content {max-height: 200px;max-width: 100%;overflow: auto;}#sk-container-id-3 input.sk-toggleable__control:checked~label.sk-toggleable__label-arrow:before {content: \"▾\";}#sk-container-id-3 div.sk-estimator input.sk-toggleable__control:checked~label.sk-toggleable__label {background-color: #d4ebff;}#sk-container-id-3 div.sk-label input.sk-toggleable__control:checked~label.sk-toggleable__label {background-color: #d4ebff;}#sk-container-id-3 input.sk-hidden--visually {border: 0;clip: rect(1px 1px 1px 1px);clip: rect(1px, 1px, 1px, 1px);height: 1px;margin: -1px;overflow: hidden;padding: 0;position: absolute;width: 1px;}#sk-container-id-3 div.sk-estimator {font-family: monospace;background-color: #f0f8ff;border: 1px dotted black;border-radius: 0.25em;box-sizing: border-box;margin-bottom: 0.5em;}#sk-container-id-3 div.sk-estimator:hover {background-color: #d4ebff;}#sk-container-id-3 div.sk-parallel-item::after {content: \"\";width: 100%;border-bottom: 1px solid gray;flex-grow: 1;}#sk-container-id-3 div.sk-label:hover label.sk-toggleable__label {background-color: #d4ebff;}#sk-container-id-3 div.sk-serial::before {content: \"\";position: absolute;border-left: 1px solid gray;box-sizing: border-box;top: 0;bottom: 0;left: 50%;z-index: 0;}#sk-container-id-3 div.sk-serial {display: flex;flex-direction: column;align-items: center;background-color: white;padding-right: 0.2em;padding-left: 0.2em;position: relative;}#sk-container-id-3 div.sk-item {position: relative;z-index: 1;}#sk-container-id-3 div.sk-parallel {display: flex;align-items: stretch;justify-content: center;background-color: white;position: relative;}#sk-container-id-3 div.sk-item::before, #sk-container-id-3 div.sk-parallel-item::before {content: \"\";position: absolute;border-left: 1px solid gray;box-sizing: border-box;top: 0;bottom: 0;left: 50%;z-index: -1;}#sk-container-id-3 div.sk-parallel-item {display: flex;flex-direction: column;z-index: 1;position: relative;background-color: white;}#sk-container-id-3 div.sk-parallel-item:first-child::after {align-self: flex-end;width: 50%;}#sk-container-id-3 div.sk-parallel-item:last-child::after {align-self: flex-start;width: 50%;}#sk-container-id-3 div.sk-parallel-item:only-child::after {width: 0;}#sk-container-id-3 div.sk-dashed-wrapped {border: 1px dashed gray;margin: 0 0.4em 0.5em 0.4em;box-sizing: border-box;padding-bottom: 0.4em;background-color: white;}#sk-container-id-3 div.sk-label label {font-family: monospace;font-weight: bold;display: inline-block;line-height: 1.2em;}#sk-container-id-3 div.sk-label-container {text-align: center;}#sk-container-id-3 div.sk-container {/* jupyter's `normalize.less` sets `[hidden] { display: none; }` but bootstrap.min.css set `[hidden] { display: none !important; }` so we also need the `!important` here to be able to override the default hidden behavior on the sphinx rendered scikit-learn.org. See: https://github.com/scikit-learn/scikit-learn/issues/21755 */display: inline-block !important;position: relative;}#sk-container-id-3 div.sk-text-repr-fallback {display: none;}</style><div id=\"sk-container-id-3\" class=\"sk-top-container\"><div class=\"sk-text-repr-fallback\"><pre>LinearRegression()</pre><b>In a Jupyter environment, please rerun this cell to show the HTML representation or trust the notebook. <br />On GitHub, the HTML representation is unable to render, please try loading this page with nbviewer.org.</b></div><div class=\"sk-container\" hidden><div class=\"sk-item\"><div class=\"sk-estimator sk-toggleable\"><input class=\"sk-toggleable__control sk-hidden--visually\" id=\"sk-estimator-id-3\" type=\"checkbox\" checked><label for=\"sk-estimator-id-3\" class=\"sk-toggleable__label sk-toggleable__label-arrow\">LinearRegression</label><div class=\"sk-toggleable__content\"><pre>LinearRegression()</pre></div></div></div></div></div>"
      ],
      "text/plain": [
       "LinearRegression()"
      ]
     },
     "execution_count": 79,
     "metadata": {},
     "output_type": "execute_result"
    }
   ],
   "source": [
    "lr = LinearRegression()\n",
    "lr.fit(X, y)"
   ]
  },
  {
   "cell_type": "code",
   "execution_count": 80,
   "id": "a4ff10cd",
   "metadata": {},
   "outputs": [],
   "source": [
    "y_pred = lr.predict(X)"
   ]
  },
  {
   "cell_type": "code",
   "execution_count": 81,
   "id": "34a8810c",
   "metadata": {},
   "outputs": [
    {
     "data": {
      "text/plain": [
       "0.6857159058782032"
      ]
     },
     "execution_count": 81,
     "metadata": {},
     "output_type": "execute_result"
    }
   ],
   "source": [
    "lr.score(X,y)"
   ]
  },
  {
   "cell_type": "code",
   "execution_count": 82,
   "id": "14416352",
   "metadata": {},
   "outputs": [
    {
     "data": {
      "text/plain": [
       "0.6857159058782032"
      ]
     },
     "execution_count": 82,
     "metadata": {},
     "output_type": "execute_result"
    }
   ],
   "source": [
    "r2_score(y, y_pred)"
   ]
  },
  {
   "cell_type": "code",
   "execution_count": 83,
   "id": "e2c9f50b",
   "metadata": {},
   "outputs": [
    {
     "data": {
      "text/plain": [
       "array([0.07248869])"
      ]
     },
     "execution_count": 83,
     "metadata": {},
     "output_type": "execute_result"
    }
   ],
   "source": [
    "a = lr.coef_\n",
    "a"
   ]
  },
  {
   "cell_type": "code",
   "execution_count": 84,
   "id": "8751a627",
   "metadata": {},
   "outputs": [
    {
     "data": {
      "text/plain": [
       "0.07248869166782736"
      ]
     },
     "execution_count": 84,
     "metadata": {},
     "output_type": "execute_result"
    }
   ],
   "source": [
    "a = a[0]\n",
    "a"
   ]
  },
  {
   "cell_type": "code",
   "execution_count": 85,
   "id": "a8a002f7",
   "metadata": {
    "scrolled": true
   },
   "outputs": [
    {
     "data": {
      "text/plain": [
       "3.544581006663072"
      ]
     },
     "execution_count": 85,
     "metadata": {},
     "output_type": "execute_result"
    }
   ],
   "source": [
    "b = lr.intercept_\n",
    "b"
   ]
  },
  {
   "cell_type": "code",
   "execution_count": 86,
   "id": "2c98b2ce",
   "metadata": {},
   "outputs": [],
   "source": [
    "# y = a * (x) + b\n",
    "\n",
    "\n",
    "def my_prediction(x) : \n",
    "    return (a* x) + b\n",
    "\n",
    "\n",
    "my_prediction = lambda x : (a* x) + b"
   ]
  },
  {
   "cell_type": "code",
   "execution_count": 87,
   "id": "e3f3665e",
   "metadata": {},
   "outputs": [
    {
     "data": {
      "text/html": [
       "<div>\n",
       "<style scoped>\n",
       "    .dataframe tbody tr th:only-of-type {\n",
       "        vertical-align: middle;\n",
       "    }\n",
       "\n",
       "    .dataframe tbody tr th {\n",
       "        vertical-align: top;\n",
       "    }\n",
       "\n",
       "    .dataframe thead th {\n",
       "        text-align: right;\n",
       "    }\n",
       "</style>\n",
       "<table border=\"1\" class=\"dataframe\">\n",
       "  <thead>\n",
       "    <tr style=\"text-align: right;\">\n",
       "      <th></th>\n",
       "      <th>circonference</th>\n",
       "    </tr>\n",
       "  </thead>\n",
       "  <tbody>\n",
       "    <tr>\n",
       "      <th>0</th>\n",
       "      <td>65</td>\n",
       "    </tr>\n",
       "    <tr>\n",
       "      <th>1</th>\n",
       "      <td>55</td>\n",
       "    </tr>\n",
       "    <tr>\n",
       "      <th>2</th>\n",
       "      <td>80</td>\n",
       "    </tr>\n",
       "    <tr>\n",
       "      <th>3</th>\n",
       "      <td>180</td>\n",
       "    </tr>\n",
       "    <tr>\n",
       "      <th>4</th>\n",
       "      <td>128</td>\n",
       "    </tr>\n",
       "    <tr>\n",
       "      <th>...</th>\n",
       "      <td>...</td>\n",
       "    </tr>\n",
       "    <tr>\n",
       "      <th>205832</th>\n",
       "      <td>180</td>\n",
       "    </tr>\n",
       "    <tr>\n",
       "      <th>205833</th>\n",
       "      <td>24</td>\n",
       "    </tr>\n",
       "    <tr>\n",
       "      <th>205834</th>\n",
       "      <td>40</td>\n",
       "    </tr>\n",
       "    <tr>\n",
       "      <th>205835</th>\n",
       "      <td>161</td>\n",
       "    </tr>\n",
       "    <tr>\n",
       "      <th>205836</th>\n",
       "      <td>180</td>\n",
       "    </tr>\n",
       "  </tbody>\n",
       "</table>\n",
       "<p>179585 rows × 1 columns</p>\n",
       "</div>"
      ],
      "text/plain": [
       "        circonference\n",
       "0                  65\n",
       "1                  55\n",
       "2                  80\n",
       "3                 180\n",
       "4                 128\n",
       "...               ...\n",
       "205832            180\n",
       "205833             24\n",
       "205834             40\n",
       "205835            161\n",
       "205836            180\n",
       "\n",
       "[179585 rows x 1 columns]"
      ]
     },
     "execution_count": 87,
     "metadata": {},
     "output_type": "execute_result"
    }
   ],
   "source": [
    "X"
   ]
  },
  {
   "cell_type": "code",
   "execution_count": 88,
   "id": "2a787ba9",
   "metadata": {},
   "outputs": [
    {
     "data": {
      "text/plain": [
       "[8.256345965071851,\n",
       " 7.531459048393577,\n",
       " 9.34367634008926,\n",
       " 16.592545506871996,\n",
       " 12.823133540144973,\n",
       " 15.142771673515448,\n",
       " 4.631911381680482,\n",
       " 10.793450173445809,\n",
       " 14.055441298498039,\n",
       " 8.618789423410988,\n",
       " 13.692997840158903,\n",
       " 6.4441286733761665,\n",
       " 19.49209317358509,\n",
       " 10.793450173445809,\n",
       " 6.806572131715303,\n",
       " 12.60566746514149,\n",
       " 5.356798298358756,\n",
       " 4.414445306677,\n",
       " 20.216980090263366,\n",
       " 16.592545506871996,\n",
       " 4.994354840019619,\n",
       " 10.43100671510667,\n",
       " 15.505215131854587,\n",
       " 12.96811092348063,\n",
       " 4.269467923341345,\n",
       " 13.692997840158903,\n",
       " 8.981232881750124,\n",
       " 19.49209317358509,\n",
       " 12.96811092348063,\n",
       " 4.994354840019619,\n",
       " 10.068563256767533,\n",
       " 12.243224006802354,\n",
       " 13.620509148491074,\n",
       " 7.024038206718785,\n",
       " 10.068563256767533,\n",
       " 16.592545506871996,\n",
       " 13.330554381819766,\n",
       " 7.893902506732713,\n",
       " 4.994354840019619,\n",
       " 8.981232881750124,\n",
       " 11.373359706788428,\n",
       " 19.129649715245954,\n",
       " 8.618789423410988,\n",
       " 5.356798298358756,\n",
       " 11.518337090124081,\n",
       " 7.893902506732713,\n",
       " 14.417884756837175,\n",
       " 5.356798298358756,\n",
       " 12.96811092348063,\n",
       " 12.60566746514149,\n",
       " 18.40476279856768,\n",
       " 16.592545506871996,\n",
       " 4.994354840019619,\n",
       " 19.85453663192423,\n",
       " 6.081685215037029,\n",
       " 10.793450173445809,\n",
       " 13.692997840158903,\n",
       " 11.880780548463218,\n",
       " 13.47553176515542,\n",
       " 9.706119798428396,\n",
       " 7.16901559005444,\n",
       " 9.706119798428396,\n",
       " 10.43100671510667,\n",
       " 8.618789423410988,\n",
       " 4.994354840019619,\n",
       " 4.994354840019619,\n",
       " 4.994354840019619,\n",
       " 4.994354840019619,\n",
       " 5.356798298358756,\n",
       " 11.155893631784945,\n",
       " 12.60566746514149,\n",
       " 11.518337090124081,\n",
       " 7.531459048393577,\n",
       " 7.16901559005444,\n",
       " 7.16901559005444,\n",
       " 12.243224006802354,\n",
       " 7.748925123397059,\n",
       " 7.531459048393577,\n",
       " 7.16901559005444,\n",
       " 22.101686073626876,\n",
       " 15.722681206858066,\n",
       " 18.40476279856768,\n",
       " 9.34367634008926,\n",
       " 7.893902506732713,\n",
       " 9.34367634008926,\n",
       " 4.994354840019619,\n",
       " 4.994354840019619,\n",
       " 4.994354840019619,\n",
       " 15.142771673515448,\n",
       " 11.155893631784945,\n",
       " 12.388201390138008,\n",
       " 10.068563256767533,\n",
       " 14.055441298498039,\n",
       " 12.678156156809319,\n",
       " 6.806572131715303,\n",
       " 8.618789423410988,\n",
       " 12.243224006802354,\n",
       " 7.603947740061404,\n",
       " 8.981232881750124,\n",
       " 12.60566746514149,\n",
       " 8.618789423410988,\n",
       " 12.025757931798871,\n",
       " 22.029197381959047,\n",
       " 7.16901559005444,\n",
       " 11.880780548463218,\n",
       " 13.330554381819766,\n",
       " 12.243224006802354,\n",
       " 9.706119798428396,\n",
       " 12.243224006802354,\n",
       " 16.23010204853286,\n",
       " 7.096526898386612,\n",
       " 5.719241756697892,\n",
       " 8.256345965071851,\n",
       " 7.531459048393577,\n",
       " 10.43100671510667,\n",
       " 8.618789423410988,\n",
       " 11.880780548463218,\n",
       " 17.679875881889405,\n",
       " 7.3864816650579215,\n",
       " 13.692997840158903,\n",
       " 9.34367634008926,\n",
       " 8.981232881750124,\n",
       " 12.60566746514149,\n",
       " 12.60566746514149,\n",
       " 5.574264373362238,\n",
       " 19.49209317358509,\n",
       " 14.417884756837175,\n",
       " 7.16901559005444,\n",
       " 12.60566746514149,\n",
       " 9.34367634008926,\n",
       " 6.806572131715303,\n",
       " 12.96811092348063,\n",
       " 7.096526898386612,\n",
       " 5.356798298358756,\n",
       " 7.16901559005444,\n",
       " 9.34367634008926,\n",
       " 10.43100671510667,\n",
       " 5.719241756697892,\n",
       " 4.994354840019619,\n",
       " 9.488653723424914,\n",
       " 5.719241756697892,\n",
       " 9.706119798428396,\n",
       " 6.4441286733761665,\n",
       " 10.793450173445809,\n",
       " 21.66675392361991,\n",
       " 9.706119798428396,\n",
       " 18.40476279856768,\n",
       " 13.692997840158903,\n",
       " 11.518337090124081,\n",
       " 8.83625549841447,\n",
       " 12.60566746514149,\n",
       " 8.981232881750124,\n",
       " 6.4441286733761665,\n",
       " 9.706119798428396,\n",
       " 15.505215131854587,\n",
       " 14.417884756837175,\n",
       " 4.994354840019619,\n",
       " 11.518337090124081,\n",
       " 8.981232881750124,\n",
       " 4.994354840019619,\n",
       " 10.068563256767533,\n",
       " 10.43100671510667,\n",
       " 4.994354840019619,\n",
       " 8.618789423410988,\n",
       " 16.592545506871996,\n",
       " 20.506934856934674,\n",
       " 18.042319340228545,\n",
       " 7.531459048393577,\n",
       " 12.243224006802354,\n",
       " 4.631911381680482,\n",
       " 4.994354840019619,\n",
       " 4.994354840019619,\n",
       " 5.139332223355273,\n",
       " 4.994354840019619,\n",
       " 6.806572131715303,\n",
       " 7.893902506732713,\n",
       " 9.706119798428396,\n",
       " 16.592545506871996,\n",
       " 12.96811092348063,\n",
       " 12.243224006802354,\n",
       " 8.618789423410988,\n",
       " 4.994354840019619,\n",
       " 18.839694948574643,\n",
       " 15.867658590193724,\n",
       " 17.31743242355027,\n",
       " 8.256345965071851,\n",
       " 9.34367634008926,\n",
       " 6.806572131715303,\n",
       " 13.113088306816284,\n",
       " 7.531459048393577,\n",
       " 5.719241756697892,\n",
       " 3.9070244650022086,\n",
       " 5.356798298358756,\n",
       " 6.371639981708339,\n",
       " 6.4441286733761665,\n",
       " 7.16901559005444,\n",
       " 9.34367634008926,\n",
       " 7.676436431729231,\n",
       " 10.938427556781463,\n",
       " 4.994354840019619,\n",
       " 9.34367634008926,\n",
       " 4.994354840019619,\n",
       " 4.994354840019619,\n",
       " 9.706119798428396,\n",
       " 6.806572131715303,\n",
       " 8.763766806746641,\n",
       " 8.618789423410988,\n",
       " 10.72096148177798,\n",
       " 10.648472790110153,\n",
       " 14.127929990165867,\n",
       " 12.60566746514149,\n",
       " 12.243224006802354,\n",
       " 9.34367634008926,\n",
       " 16.592545506871996,\n",
       " 16.592545506871996,\n",
       " 4.269467923341345,\n",
       " 8.256345965071851,\n",
       " 7.16901559005444,\n",
       " 13.330554381819766,\n",
       " 8.908744190082295,\n",
       " 4.994354840019619,\n",
       " 8.83625549841447,\n",
       " 10.068563256767533,\n",
       " 5.719241756697892,\n",
       " 10.068563256767533,\n",
       " 11.155893631784945,\n",
       " 6.806572131715303,\n",
       " 21.014355698609467,\n",
       " 22.101686073626876,\n",
       " 7.893902506732713,\n",
       " 6.4441286733761665,\n",
       " 8.256345965071851,\n",
       " 12.243224006802354,\n",
       " 8.256345965071851,\n",
       " 15.142771673515448,\n",
       " 6.806572131715303,\n",
       " 4.994354840019619,\n",
       " 10.43100671510667,\n",
       " 12.025757931798871,\n",
       " 9.05372157341795,\n",
       " 16.81001158187548,\n",
       " 9.706119798428396,\n",
       " 14.780328215176311,\n",
       " 9.34367634008926,\n",
       " 8.618789423410988,\n",
       " 15.505215131854587,\n",
       " 9.34367634008926,\n",
       " 7.16901559005444,\n",
       " 12.243224006802354,\n",
       " 12.025757931798871,\n",
       " 12.243224006802354,\n",
       " 14.780328215176311,\n",
       " 6.4441286733761665,\n",
       " 12.96811092348063,\n",
       " 13.185576998484109,\n",
       " 11.880780548463218,\n",
       " 11.155893631784945,\n",
       " 11.880780548463218,\n",
       " 10.793450173445809,\n",
       " 7.024038206718785,\n",
       " 7.531459048393577,\n",
       " 7.893902506732713,\n",
       " 8.401323348407505,\n",
       " 16.954988965211133,\n",
       " 11.373359706788428,\n",
       " 15.142771673515448,\n",
       " 4.994354840019619,\n",
       " 13.692997840158903,\n",
       " 15.867658590193724,\n",
       " 10.068563256767533,\n",
       " 6.4441286733761665,\n",
       " 7.16901559005444,\n",
       " 11.880780548463218,\n",
       " 7.16901559005444,\n",
       " 9.34367634008926,\n",
       " 13.330554381819766,\n",
       " 5.356798298358756,\n",
       " 4.994354840019619,\n",
       " 4.704400073348309,\n",
       " 6.806572131715303,\n",
       " 8.618789423410988,\n",
       " 9.34367634008926,\n",
       " 9.198698956753606,\n",
       " 7.16901559005444,\n",
       " 11.155893631784945,\n",
       " 13.47553176515542,\n",
       " 4.994354840019619,\n",
       " 4.994354840019619,\n",
       " 5.719241756697892,\n",
       " 4.994354840019619,\n",
       " 9.34367634008926,\n",
       " 6.081685215037029,\n",
       " 4.994354840019619,\n",
       " 18.767206256906817,\n",
       " 6.806572131715303,\n",
       " 12.60566746514149,\n",
       " 10.43100671510667,\n",
       " 14.055441298498039,\n",
       " 7.748925123397059,\n",
       " 7.893902506732713,\n",
       " 4.994354840019619,\n",
       " 9.34367634008926,\n",
       " 6.4441286733761665,\n",
       " 5.719241756697892,\n",
       " 4.994354840019619,\n",
       " 8.618789423410988,\n",
       " 5.936707831701375,\n",
       " 12.96811092348063,\n",
       " 15.142771673515448,\n",
       " 20.216980090263366,\n",
       " 5.356798298358756,\n",
       " 6.4441286733761665,\n",
       " 11.735803165127564,\n",
       " 9.126210265085778,\n",
       " 6.371639981708339,\n",
       " 7.16901559005444,\n",
       " 5.646753065030065,\n",
       " 5.356798298358756,\n",
       " 8.618789423410988,\n",
       " 10.068563256767533,\n",
       " 18.40476279856768,\n",
       " 11.880780548463218,\n",
       " 23.478971215315596,\n",
       " 7.531459048393577,\n",
       " 11.155893631784945,\n",
       " 16.375079431868514,\n",
       " 11.880780548463218,\n",
       " 4.994354840019619,\n",
       " 8.691278115078815,\n",
       " 4.994354840019619,\n",
       " 9.706119798428396,\n",
       " 16.954988965211133,\n",
       " 4.994354840019619,\n",
       " 8.256345965071851,\n",
       " 11.155893631784945,\n",
       " 10.43100671510667,\n",
       " 7.16901559005444,\n",
       " 16.23010204853286,\n",
       " 9.34367634008926,\n",
       " 9.706119798428396,\n",
       " 17.31743242355027,\n",
       " 5.79173044836572,\n",
       " 12.750644848477148,\n",
       " 12.243224006802354,\n",
       " 16.592545506871996,\n",
       " 11.518337090124081,\n",
       " 10.793450173445809,\n",
       " 11.155893631784945,\n",
       " 9.63363110676057,\n",
       " 26.740962340367826,\n",
       " 16.23010204853286,\n",
       " 7.16901559005444,\n",
       " 4.994354840019619,\n",
       " 19.49209317358509,\n",
       " 9.706119798428396,\n",
       " 16.73752289020765,\n",
       " 14.562862140172829,\n",
       " 8.618789423410988,\n",
       " 17.462409806885926,\n",
       " 14.780328215176311,\n",
       " 17.31743242355027,\n",
       " 8.618789423410988,\n",
       " 8.618789423410988,\n",
       " 14.055441298498039,\n",
       " 13.837975223494556,\n",
       " 6.806572131715303,\n",
       " 8.618789423410988,\n",
       " 5.864219140033548,\n",
       " 4.631911381680482,\n",
       " 6.806572131715303,\n",
       " 6.734083440047476,\n",
       " 7.531459048393577,\n",
       " 7.16901559005444,\n",
       " 5.501775681694411,\n",
       " 10.213540640103188,\n",
       " 8.256345965071851,\n",
       " 10.793450173445809,\n",
       " 6.226662598372684,\n",
       " 20.216980090263366,\n",
       " 4.994354840019619,\n",
       " 15.287749056851105,\n",
       " 12.96811092348063,\n",
       " 7.531459048393577,\n",
       " 10.575984098442326,\n",
       " 6.0091965233692015,\n",
       " 18.40476279856768,\n",
       " 12.96811092348063,\n",
       " 21.086844390277292,\n",
       " 6.4441286733761665,\n",
       " 25.79860934868607,\n",
       " 21.376799156948604,\n",
       " 7.16901559005444,\n",
       " 6.4441286733761665,\n",
       " 9.996074565099708,\n",
       " 7.16901559005444,\n",
       " 10.43100671510667,\n",
       " 10.068563256767533,\n",
       " 13.692997840158903,\n",
       " 6.081685215037029,\n",
       " 8.618789423410988,\n",
       " 6.4441286733761665,\n",
       " 6.87906082338313,\n",
       " 7.531459048393577,\n",
       " 9.488653723424914,\n",
       " 7.531459048393577,\n",
       " 14.417884756837175,\n",
       " 9.706119798428396,\n",
       " 10.213540640103188,\n",
       " 12.96811092348063,\n",
       " 9.706119798428396,\n",
       " 8.183857273404023,\n",
       " 6.806572131715303,\n",
       " 4.631911381680482,\n",
       " 12.60566746514149,\n",
       " 4.994354840019619,\n",
       " 7.3864816650579215,\n",
       " 11.083404940117116,\n",
       " 10.068563256767533,\n",
       " 22.391640840298187,\n",
       " 6.806572131715303,\n",
       " 13.330554381819766,\n",
       " 9.706119798428396,\n",
       " 17.679875881889405,\n",
       " 13.692997840158903,\n",
       " 9.706119798428396,\n",
       " 10.213540640103188,\n",
       " 6.4441286733761665,\n",
       " 12.750644848477148,\n",
       " 16.23010204853286,\n",
       " 15.940147281861549,\n",
       " 12.243224006802354,\n",
       " 10.068563256767533,\n",
       " 4.849377456683964,\n",
       " 12.243224006802354,\n",
       " 10.793450173445809,\n",
       " 16.592545506871996,\n",
       " 10.938427556781463,\n",
       " 22.029197381959047,\n",
       " 5.719241756697892,\n",
       " 9.34367634008926,\n",
       " 8.618789423410988,\n",
       " 11.155893631784945,\n",
       " 7.531459048393577,\n",
       " 8.981232881750124,\n",
       " 7.16901559005444,\n",
       " 15.867658590193724,\n",
       " 12.315712698470183,\n",
       " 4.994354840019619,\n",
       " 12.96811092348063,\n",
       " 4.994354840019619,\n",
       " 6.081685215037029,\n",
       " 6.081685215037029,\n",
       " 10.068563256767533,\n",
       " 9.706119798428396,\n",
       " 20.579423548602502,\n",
       " 8.256345965071851,\n",
       " 10.068563256767533,\n",
       " 10.43100671510667,\n",
       " 12.96811092348063,\n",
       " 8.83625549841447,\n",
       " 7.16901559005444,\n",
       " 11.880780548463218,\n",
       " 6.734083440047476,\n",
       " 4.994354840019619,\n",
       " 9.34367634008926,\n",
       " 7.531459048393577,\n",
       " 12.243224006802354,\n",
       " 8.981232881750124,\n",
       " 5.864219140033548,\n",
       " 12.388201390138008,\n",
       " 13.330554381819766,\n",
       " 6.4441286733761665,\n",
       " 4.994354840019619,\n",
       " 6.734083440047476,\n",
       " 5.284309606690929,\n",
       " 11.880780548463218,\n",
       " 11.518337090124081,\n",
       " 6.951549515050957,\n",
       " 4.994354840019619,\n",
       " 6.081685215037029,\n",
       " 7.313992973390095,\n",
       " 9.34367634008926,\n",
       " 4.994354840019619,\n",
       " 8.763766806746641,\n",
       " 4.994354840019619,\n",
       " 11.518337090124081,\n",
       " 7.893902506732713,\n",
       " 8.618789423410988,\n",
       " 4.994354840019619,\n",
       " 7.16901559005444,\n",
       " 16.23010204853286,\n",
       " 7.893902506732713,\n",
       " 15.215260365183276,\n",
       " 11.518337090124081,\n",
       " 5.719241756697892,\n",
       " 13.330554381819766,\n",
       " 4.994354840019619,\n",
       " 5.864219140033548,\n",
       " 12.460690081805836,\n",
       " 8.981232881750124,\n",
       " 13.330554381819766,\n",
       " 12.243224006802354,\n",
       " 4.849377456683964,\n",
       " 6.081685215037029,\n",
       " 12.243224006802354,\n",
       " 12.243224006802354,\n",
       " 10.068563256767533,\n",
       " 7.893902506732713,\n",
       " 12.823133540144973,\n",
       " 6.806572131715303,\n",
       " 12.243224006802354,\n",
       " 10.068563256767533,\n",
       " 8.618789423410988,\n",
       " 11.300871015120599,\n",
       " 15.142771673515448,\n",
       " 9.706119798428396,\n",
       " 12.533178773473665,\n",
       " 12.388201390138008,\n",
       " 13.692997840158903,\n",
       " 10.068563256767533,\n",
       " 7.893902506732713,\n",
       " 10.793450173445809,\n",
       " 9.34367634008926,\n",
       " 15.142771673515448,\n",
       " 7.893902506732713,\n",
       " 5.719241756697892,\n",
       " 8.401323348407505,\n",
       " 17.31743242355027,\n",
       " 6.226662598372684,\n",
       " 11.880780548463218,\n",
       " 7.893902506732713,\n",
       " 4.994354840019619,\n",
       " 9.271187648421433,\n",
       " 26.37851888202869,\n",
       " 10.793450173445809,\n",
       " 7.16901559005444,\n",
       " 12.60566746514149,\n",
       " 10.793450173445809,\n",
       " 10.43100671510667,\n",
       " 6.4441286733761665,\n",
       " 7.8214138150648855,\n",
       " 6.806572131715303,\n",
       " 4.994354840019619,\n",
       " 5.356798298358756,\n",
       " 6.081685215037029,\n",
       " 8.618789423410988,\n",
       " 10.068563256767533,\n",
       " 5.139332223355273,\n",
       " 18.042319340228545,\n",
       " 14.780328215176311,\n",
       " 14.417884756837175,\n",
       " 6.4441286733761665,\n",
       " 11.518337090124081,\n",
       " 7.893902506732713,\n",
       " 8.256345965071851,\n",
       " 7.893902506732713,\n",
       " 4.994354840019619,\n",
       " 11.518337090124081,\n",
       " 7.16901559005444,\n",
       " 4.994354840019619,\n",
       " 9.34367634008926,\n",
       " 11.518337090124081,\n",
       " 6.4441286733761665,\n",
       " 10.43100671510667,\n",
       " 11.518337090124081,\n",
       " 9.34367634008926,\n",
       " 9.706119798428396,\n",
       " 21.231821773612946,\n",
       " 10.793450173445809,\n",
       " 8.981232881750124,\n",
       " 12.96811092348063,\n",
       " 4.994354840019619,\n",
       " 7.16901559005444,\n",
       " 16.592545506871996,\n",
       " 7.16901559005444,\n",
       " 12.96811092348063,\n",
       " 12.60566746514149,\n",
       " 13.258065690151938,\n",
       " 6.661594748379648,\n",
       " 4.269467923341345,\n",
       " 8.256345965071851,\n",
       " 4.994354840019619,\n",
       " 7.531459048393577,\n",
       " 11.663314473459735,\n",
       " 11.518337090124081,\n",
       " 9.34367634008926,\n",
       " 10.43100671510667,\n",
       " 9.198698956753606,\n",
       " 11.518337090124081,\n",
       " 9.271187648421433,\n",
       " 15.070282981847622,\n",
       " 10.068563256767533,\n",
       " 10.43100671510667,\n",
       " 14.562862140172829,\n",
       " 9.34367634008926,\n",
       " 15.867658590193724,\n",
       " 12.60566746514149,\n",
       " 10.793450173445809,\n",
       " 9.34367634008926,\n",
       " 5.864219140033548,\n",
       " 4.994354840019619,\n",
       " 4.269467923341345,\n",
       " 4.994354840019619,\n",
       " 8.618789423410988,\n",
       " 15.867658590193724,\n",
       " 5.356798298358756,\n",
       " 14.055441298498039,\n",
       " 6.4441286733761665,\n",
       " 24.276346823661697,\n",
       " 12.243224006802354,\n",
       " 6.951549515050957,\n",
       " 8.546300731743159,\n",
       " 7.8214138150648855,\n",
       " 12.243224006802354,\n",
       " 7.893902506732713,\n",
       " 20.216980090263366,\n",
       " 4.994354840019619,\n",
       " 4.994354840019619,\n",
       " 22.391640840298187,\n",
       " 6.154173906704857,\n",
       " 6.4441286733761665,\n",
       " 11.880780548463218,\n",
       " 12.60566746514149,\n",
       " 10.43100671510667,\n",
       " 6.081685215037029,\n",
       " 7.531459048393577,\n",
       " 11.880780548463218,\n",
       " 10.793450173445809,\n",
       " 4.994354840019619,\n",
       " 7.16901559005444,\n",
       " 5.356798298358756,\n",
       " 14.055441298498039,\n",
       " 10.068563256767533,\n",
       " 15.505215131854587,\n",
       " 9.34367634008926,\n",
       " 4.994354840019619,\n",
       " 19.49209317358509,\n",
       " 10.793450173445809,\n",
       " 7.16901559005444,\n",
       " 5.864219140033548,\n",
       " 10.068563256767533,\n",
       " 11.518337090124081,\n",
       " 10.793450173445809,\n",
       " 9.996074565099708,\n",
       " 7.893902506732713,\n",
       " 9.706119798428396,\n",
       " 7.893902506732713,\n",
       " 4.994354840019619,\n",
       " 4.994354840019619,\n",
       " 4.994354840019619,\n",
       " 7.16901559005444,\n",
       " 20.94186700694164,\n",
       " 7.893902506732713,\n",
       " 5.719241756697892,\n",
       " 10.43100671510667,\n",
       " 12.96811092348063,\n",
       " 8.256345965071851,\n",
       " 9.34367634008926,\n",
       " 10.068563256767533,\n",
       " 14.417884756837175,\n",
       " 10.43100671510667,\n",
       " 12.243224006802354,\n",
       " 11.880780548463218,\n",
       " 26.016075423689554,\n",
       " 10.793450173445809,\n",
       " 9.706119798428396,\n",
       " 6.4441286733761665,\n",
       " 11.518337090124081,\n",
       " 16.302590740200685,\n",
       " 14.780328215176311,\n",
       " 10.43100671510667,\n",
       " 10.068563256767533,\n",
       " 4.994354840019619,\n",
       " 7.16901559005444,\n",
       " 8.618789423410988,\n",
       " 16.592545506871996,\n",
       " 11.880780548463218,\n",
       " 8.618789423410988,\n",
       " 10.068563256767533,\n",
       " 4.994354840019619,\n",
       " 10.865938865113634,\n",
       " 7.893902506732713,\n",
       " 13.330554381819766,\n",
       " 10.141051948435361,\n",
       " 8.256345965071851,\n",
       " 14.635350831840658,\n",
       " 7.531459048393577,\n",
       " 5.356798298358756,\n",
       " 7.8214138150648855,\n",
       " 6.4441286733761665,\n",
       " 11.518337090124081,\n",
       " 5.356798298358756,\n",
       " 8.618789423410988,\n",
       " 7.893902506732713,\n",
       " 10.43100671510667,\n",
       " 6.87906082338313,\n",
       " 13.765486531826728,\n",
       " 6.081685215037029,\n",
       " 11.880780548463218,\n",
       " 9.34367634008926,\n",
       " 11.880780548463218,\n",
       " 5.719241756697892,\n",
       " 5.936707831701375,\n",
       " 7.313992973390095,\n",
       " 6.4441286733761665,\n",
       " 4.994354840019619,\n",
       " 18.549740181903335,\n",
       " 23.478971215315596,\n",
       " 10.793450173445809,\n",
       " 14.417884756837175,\n",
       " 13.330554381819766,\n",
       " 9.34367634008926,\n",
       " 8.256345965071851,\n",
       " 13.330554381819766,\n",
       " 10.068563256767533,\n",
       " 6.081685215037029,\n",
       " 10.068563256767533,\n",
       " 7.16901559005444,\n",
       " 5.356798298358756,\n",
       " 12.243224006802354,\n",
       " 14.780328215176311,\n",
       " 6.4441286733761665,\n",
       " 5.356798298358756,\n",
       " 19.129649715245954,\n",
       " 8.981232881750124,\n",
       " 7.893902506732713,\n",
       " 11.155893631784945,\n",
       " 6.4441286733761665,\n",
       " 4.994354840019619,\n",
       " 8.981232881750124,\n",
       " 8.256345965071851,\n",
       " 11.155893631784945,\n",
       " 10.575984098442326,\n",
       " 7.16901559005444,\n",
       " 4.994354840019619,\n",
       " 14.780328215176311,\n",
       " 5.719241756697892,\n",
       " 8.981232881750124,\n",
       " 9.63363110676057,\n",
       " 5.719241756697892,\n",
       " 12.243224006802354,\n",
       " 6.4441286733761665,\n",
       " 7.16901559005444,\n",
       " 10.43100671510667,\n",
       " 10.068563256767533,\n",
       " 4.994354840019619,\n",
       " 13.620509148491074,\n",
       " 8.618789423410988,\n",
       " 5.719241756697892,\n",
       " 15.505215131854587,\n",
       " 8.981232881750124,\n",
       " 14.417884756837175,\n",
       " 10.793450173445809,\n",
       " 7.531459048393577,\n",
       " 12.243224006802354,\n",
       " 8.256345965071851,\n",
       " 13.692997840158903,\n",
       " 7.16901559005444,\n",
       " 7.16901559005444,\n",
       " 9.34367634008926,\n",
       " 7.96639119840054,\n",
       " 8.256345965071851,\n",
       " 6.081685215037029,\n",
       " 5.719241756697892,\n",
       " 4.269467923341345,\n",
       " 4.269467923341345,\n",
       " 12.243224006802354,\n",
       " 7.676436431729231,\n",
       " 8.618789423410988,\n",
       " 6.4441286733761665,\n",
       " 12.243224006802354,\n",
       " 10.141051948435361,\n",
       " 5.356798298358756,\n",
       " 4.994354840019619,\n",
       " 9.706119798428396,\n",
       " 15.142771673515448,\n",
       " 4.269467923341345,\n",
       " 17.099966348546786,\n",
       " 12.96811092348063,\n",
       " 14.345396065169346,\n",
       " 18.042319340228545,\n",
       " 6.081685215037029,\n",
       " 4.994354840019619,\n",
       " 12.60566746514149,\n",
       " 7.16901559005444,\n",
       " 21.304310465280775,\n",
       " 9.923585873431879,\n",
       " 9.34367634008926,\n",
       " 15.142771673515448,\n",
       " 4.994354840019619,\n",
       " 4.994354840019619,\n",
       " 13.258065690151938,\n",
       " 15.142771673515448,\n",
       " 8.981232881750124,\n",
       " 11.518337090124081,\n",
       " 8.981232881750124,\n",
       " 14.417884756837175,\n",
       " 16.302590740200685,\n",
       " 12.96811092348063,\n",
       " 9.198698956753606,\n",
       " 6.4441286733761665,\n",
       " 10.793450173445809,\n",
       " 10.068563256767533,\n",
       " 10.43100671510667,\n",
       " 14.417884756837175,\n",
       " 5.356798298358756,\n",
       " 8.401323348407505,\n",
       " 11.300871015120599,\n",
       " 10.43100671510667,\n",
       " 13.692997840158903,\n",
       " 5.719241756697892,\n",
       " 7.16901559005444,\n",
       " 9.34367634008926,\n",
       " 11.155893631784945,\n",
       " 13.330554381819766,\n",
       " 10.068563256767533,\n",
       " 11.518337090124081,\n",
       " 4.124490540005691,\n",
       " 10.793450173445809,\n",
       " 11.518337090124081,\n",
       " 13.113088306816284,\n",
       " 7.531459048393577,\n",
       " 13.330554381819766,\n",
       " 14.417884756837175,\n",
       " 8.256345965071851,\n",
       " 7.531459048393577,\n",
       " 4.631911381680482,\n",
       " 5.356798298358756,\n",
       " 11.518337090124081,\n",
       " 14.055441298498039,\n",
       " 28.190736173724375,\n",
       " 16.375079431868514,\n",
       " 14.417884756837175,\n",
       " 16.23010204853286,\n",
       " 8.473812040075332,\n",
       " 12.750644848477148,\n",
       " 4.994354840019619,\n",
       " 8.618789423410988,\n",
       " 16.592545506871996,\n",
       " 13.692997840158903,\n",
       " 12.96811092348063,\n",
       " 7.16901559005444,\n",
       " 4.994354840019619,\n",
       " 4.849377456683964,\n",
       " 12.243224006802354,\n",
       " 8.183857273404023,\n",
       " 7.531459048393577,\n",
       " 10.938427556781463,\n",
       " 11.01091624844929,\n",
       " 8.618789423410988,\n",
       " 16.954988965211133,\n",
       " 7.531459048393577,\n",
       " 15.867658590193724,\n",
       " 10.068563256767533,\n",
       " 7.16901559005444,\n",
       " 14.055441298498039,\n",
       " 4.994354840019619,\n",
       " 6.734083440047476,\n",
       " 11.518337090124081,\n",
       " 10.43100671510667,\n",
       " 13.185576998484109,\n",
       " 5.429286990026583,\n",
       " 18.622228873571164,\n",
       " 6.226662598372684,\n",
       " 6.081685215037029,\n",
       " 5.356798298358756,\n",
       " 10.793450173445809,\n",
       " 11.663314473459735,\n",
       " 7.96639119840054,\n",
       " 7.676436431729231,\n",
       " 11.155893631784945,\n",
       " 9.34367634008926,\n",
       " 14.780328215176311,\n",
       " 9.706119798428396,\n",
       " 8.618789423410988,\n",
       " 7.531459048393577,\n",
       " 15.867658590193724,\n",
       " 4.994354840019619,\n",
       " 3.9070244650022086,\n",
       " 14.417884756837175,\n",
       " 8.618789423410988,\n",
       " 10.43100671510667,\n",
       " 4.994354840019619,\n",
       " 16.954988965211133,\n",
       " 12.96811092348063,\n",
       " 12.243224006802354,\n",
       " 11.663314473459735,\n",
       " 14.780328215176311,\n",
       " 16.592545506871996,\n",
       " 7.531459048393577,\n",
       " 4.994354840019619,\n",
       " 5.79173044836572,\n",
       " 11.155893631784945,\n",
       " 7.893902506732713,\n",
       " 6.0091965233692015,\n",
       " 11.880780548463218,\n",
       " 11.518337090124081,\n",
       " 6.806572131715303,\n",
       " 8.256345965071851,\n",
       " 32.177614215454874,\n",
       " 10.793450173445809,\n",
       " 4.994354840019619,\n",
       " 4.994354840019619,\n",
       " 8.256345965071851,\n",
       " 6.806572131715303,\n",
       " 11.880780548463218,\n",
       " 17.462409806885926,\n",
       " 10.793450173445809,\n",
       " 8.473812040075332,\n",
       " 23.62394859865125,\n",
       " 10.793450173445809,\n",
       " 8.618789423410988,\n",
       " 13.837975223494556,\n",
       " 17.31743242355027,\n",
       " 9.34367634008926,\n",
       " 7.893902506732713,\n",
       " 12.460690081805836,\n",
       " 11.155893631784945,\n",
       " 15.142771673515448,\n",
       " 11.155893631784945,\n",
       " 6.081685215037029,\n",
       " 9.706119798428396,\n",
       " 10.793450173445809,\n",
       " 9.198698956753606,\n",
       " 8.981232881750124,\n",
       " 9.34367634008926,\n",
       " 9.63363110676057,\n",
       " 10.43100671510667,\n",
       " 7.748925123397059,\n",
       " 14.417884756837175,\n",
       " 19.129649715245954,\n",
       " 7.893902506732713,\n",
       " 16.23010204853286,\n",
       " 10.068563256767533,\n",
       " 18.40476279856768,\n",
       " 17.31743242355027,\n",
       " 8.618789423410988,\n",
       " 13.330554381819766,\n",
       " 6.081685215037029,\n",
       " 16.592545506871996,\n",
       " 7.893902506732713,\n",
       " 4.994354840019619,\n",
       " 4.994354840019619,\n",
       " 5.719241756697892,\n",
       " 4.994354840019619,\n",
       " 13.330554381819766,\n",
       " 9.34367634008926,\n",
       " 15.867658590193724,\n",
       " 10.068563256767533,\n",
       " 5.574264373362238,\n",
       " 8.256345965071851,\n",
       " 15.867658590193724,\n",
       " 11.228382323452772,\n",
       " 14.417884756837175,\n",
       " 18.767206256906817,\n",
       " 19.129649715245954,\n",
       " 8.618789423410988,\n",
       " 6.0091965233692015,\n",
       " 9.416165031757089,\n",
       " 17.752364573557234,\n",
       " 15.505215131854587,\n",
       " 5.356798298358756,\n",
       " 17.31743242355027,\n",
       " 11.663314473459735,\n",
       " 6.081685215037029,\n",
       " 9.34367634008926,\n",
       " 4.994354840019619,\n",
       " 18.042319340228545,\n",
       " 5.719241756697892,\n",
       " 5.719241756697892,\n",
       " 11.518337090124081,\n",
       " 14.055441298498039,\n",
       " 4.631911381680482,\n",
       " 10.141051948435361,\n",
       " 7.16901559005444,\n",
       " 6.4441286733761665,\n",
       " 4.994354840019619,\n",
       " 4.994354840019619,\n",
       " 10.43100671510667,\n",
       " 6.806572131715303,\n",
       " 10.793450173445809,\n",
       " 10.793450173445809,\n",
       " 6.371639981708339,\n",
       " 7.16901559005444,\n",
       " 7.531459048393577,\n",
       " 5.356798298358756,\n",
       " 21.66675392361991,\n",
       " 7.16901559005444,\n",
       " 12.243224006802354,\n",
       " 17.31743242355027,\n",
       " 7.893902506732713,\n",
       " 10.72096148177798,\n",
       " 6.081685215037029,\n",
       " 6.58910605671182,\n",
       " 4.994354840019619,\n",
       " 7.893902506732713,\n",
       " 7.531459048393577,\n",
       " 10.068563256767533,\n",
       " 9.706119798428396,\n",
       " 5.574264373362238,\n",
       " ...]"
      ]
     },
     "execution_count": 88,
     "metadata": {},
     "output_type": "execute_result"
    }
   ],
   "source": [
    "y_pred_2 = [my_prediction(x) for x in X.circonference.values]\n",
    "y_pred_2"
   ]
  },
  {
   "cell_type": "code",
   "execution_count": 89,
   "id": "3904f156",
   "metadata": {},
   "outputs": [
    {
     "data": {
      "text/plain": [
       "array([ 8.25634597,  7.53145905,  9.34367634, ...,  6.44412867,\n",
       "       15.21526037, 16.59254551])"
      ]
     },
     "execution_count": 89,
     "metadata": {},
     "output_type": "execute_result"
    }
   ],
   "source": [
    "y_pred"
   ]
  },
  {
   "cell_type": "code",
   "execution_count": 90,
   "id": "f77cff51",
   "metadata": {},
   "outputs": [
    {
     "data": {
      "text/plain": [
       "array([ True,  True,  True, ...,  True,  True,  True])"
      ]
     },
     "execution_count": 90,
     "metadata": {},
     "output_type": "execute_result"
    }
   ],
   "source": [
    "y_pred == y_pred_2"
   ]
  },
  {
   "cell_type": "code",
   "execution_count": 91,
   "id": "71993b90",
   "metadata": {},
   "outputs": [
    {
     "data": {
      "text/plain": [
       "True"
      ]
     },
     "execution_count": 91,
     "metadata": {},
     "output_type": "execute_result"
    }
   ],
   "source": [
    "(y_pred == y_pred_2).all()"
   ]
  },
  {
   "cell_type": "code",
   "execution_count": 92,
   "id": "1559de78",
   "metadata": {},
   "outputs": [
    {
     "data": {
      "image/png": "[encoded data removed]",
      "text/plain": [
       "<Figure size 800x800 with 1 Axes>"
      ]
     },
     "metadata": {},
     "output_type": "display_data"
    }
   ],
   "source": [
    "fig, ax = plt.subplots(1,1, figsize=(8,8))\n",
    "ax.set_xlabel(\"circonference\")\n",
    "ax.set_ylabel(\"hauteur\")\n",
    "\n",
    "_ = ax.scatter(df_cleaned.circonference, df_cleaned.hauteur, c=\"skyblue\", marker=\".\", alpha=1)\n",
    "_ = ax.plot(df_cleaned.circonference, y_pred, c=\"red\")\n",
    "\n"
   ]
  },
  {
   "cell_type": "markdown",
   "id": "a5a86197",
   "metadata": {},
   "source": [
    "## 4.2 Regression Linéaire améliorée"
   ]
  },
  {
   "cell_type": "code",
   "execution_count": 95,
   "id": "89459ee9",
   "metadata": {},
   "outputs": [
    {
     "data": {
      "text/html": [
       "<div>\n",
       "<style scoped>\n",
       "    .dataframe tbody tr th:only-of-type {\n",
       "        vertical-align: middle;\n",
       "    }\n",
       "\n",
       "    .dataframe tbody tr th {\n",
       "        vertical-align: top;\n",
       "    }\n",
       "\n",
       "    .dataframe thead th {\n",
       "        text-align: right;\n",
       "    }\n",
       "</style>\n",
       "<table border=\"1\" class=\"dataframe\">\n",
       "  <thead>\n",
       "    <tr style=\"text-align: right;\">\n",
       "      <th></th>\n",
       "      <th>circonference</th>\n",
       "      <th>hauteur</th>\n",
       "    </tr>\n",
       "  </thead>\n",
       "  <tbody>\n",
       "    <tr>\n",
       "      <th>0</th>\n",
       "      <td>65</td>\n",
       "      <td>6</td>\n",
       "    </tr>\n",
       "    <tr>\n",
       "      <th>1</th>\n",
       "      <td>55</td>\n",
       "      <td>5</td>\n",
       "    </tr>\n",
       "    <tr>\n",
       "      <th>2</th>\n",
       "      <td>80</td>\n",
       "      <td>10</td>\n",
       "    </tr>\n",
       "    <tr>\n",
       "      <th>3</th>\n",
       "      <td>180</td>\n",
       "      <td>15</td>\n",
       "    </tr>\n",
       "    <tr>\n",
       "      <th>4</th>\n",
       "      <td>128</td>\n",
       "      <td>15</td>\n",
       "    </tr>\n",
       "  </tbody>\n",
       "</table>\n",
       "</div>"
      ],
      "text/plain": [
       "   circonference  hauteur\n",
       "0             65        6\n",
       "1             55        5\n",
       "2             80       10\n",
       "3            180       15\n",
       "4            128       15"
      ]
     },
     "execution_count": 95,
     "metadata": {},
     "output_type": "execute_result"
    }
   ],
   "source": [
    "df_cleaned.head()"
   ]
  },
  {
   "cell_type": "code",
   "execution_count": null,
   "id": "3b078697",
   "metadata": {},
   "outputs": [],
   "source": []
  },
  {
   "cell_type": "code",
   "execution_count": 96,
   "id": "b839753b",
   "metadata": {
    "scrolled": false
   },
   "outputs": [
    {
     "data": {
      "text/html": [
       "<div>\n",
       "<style scoped>\n",
       "    .dataframe tbody tr th:only-of-type {\n",
       "        vertical-align: middle;\n",
       "    }\n",
       "\n",
       "    .dataframe tbody tr th {\n",
       "        vertical-align: top;\n",
       "    }\n",
       "\n",
       "    .dataframe thead th {\n",
       "        text-align: right;\n",
       "    }\n",
       "</style>\n",
       "<table border=\"1\" class=\"dataframe\">\n",
       "  <thead>\n",
       "    <tr style=\"text-align: right;\">\n",
       "      <th></th>\n",
       "      <th>circonference</th>\n",
       "      <th>hauteur</th>\n",
       "      <th>circonference_2</th>\n",
       "    </tr>\n",
       "  </thead>\n",
       "  <tbody>\n",
       "    <tr>\n",
       "      <th>0</th>\n",
       "      <td>65</td>\n",
       "      <td>6</td>\n",
       "      <td>8.062258</td>\n",
       "    </tr>\n",
       "    <tr>\n",
       "      <th>1</th>\n",
       "      <td>55</td>\n",
       "      <td>5</td>\n",
       "      <td>7.416198</td>\n",
       "    </tr>\n",
       "    <tr>\n",
       "      <th>2</th>\n",
       "      <td>80</td>\n",
       "      <td>10</td>\n",
       "      <td>8.944272</td>\n",
       "    </tr>\n",
       "    <tr>\n",
       "      <th>3</th>\n",
       "      <td>180</td>\n",
       "      <td>15</td>\n",
       "      <td>13.416408</td>\n",
       "    </tr>\n",
       "    <tr>\n",
       "      <th>4</th>\n",
       "      <td>128</td>\n",
       "      <td>15</td>\n",
       "      <td>11.313708</td>\n",
       "    </tr>\n",
       "  </tbody>\n",
       "</table>\n",
       "</div>"
      ],
      "text/plain": [
       "   circonference  hauteur  circonference_2\n",
       "0             65        6         8.062258\n",
       "1             55        5         7.416198\n",
       "2             80       10         8.944272\n",
       "3            180       15        13.416408\n",
       "4            128       15        11.313708"
      ]
     },
     "execution_count": 96,
     "metadata": {},
     "output_type": "execute_result"
    }
   ],
   "source": [
    "df_cleaned[\"circonference_2\"] = np.sqrt(df_cleaned.circonference)\n",
    "df_cleaned.head()"
   ]
  },
  {
   "cell_type": "code",
   "execution_count": 97,
   "id": "1065846b",
   "metadata": {},
   "outputs": [],
   "source": [
    "y = df_cleaned.hauteur\n",
    "X = df_cleaned.drop(columns=\"hauteur\")"
   ]
  },
  {
   "cell_type": "code",
   "execution_count": 98,
   "id": "e9e8e8e8",
   "metadata": {},
   "outputs": [
    {
     "data": {
      "text/html": [
       "<style>#sk-container-id-4 {color: black;background-color: white;}#sk-container-id-4 pre{padding: 0;}#sk-container-id-4 div.sk-toggleable {background-color: white;}#sk-container-id-4 label.sk-toggleable__label {cursor: pointer;display: block;width: 100%;margin-bottom: 0;padding: 0.3em;box-sizing: border-box;text-align: center;}#sk-container-id-4 label.sk-toggleable__label-arrow:before {content: \"▸\";float: left;margin-right: 0.25em;color: #696969;}#sk-container-id-4 label.sk-toggleable__label-arrow:hover:before {color: black;}#sk-container-id-4 div.sk-estimator:hover label.sk-toggleable__label-arrow:before {color: black;}#sk-container-id-4 div.sk-toggleable__content {max-height: 0;max-width: 0;overflow: hidden;text-align: left;background-color: #f0f8ff;}#sk-container-id-4 div.sk-toggleable__content pre {margin: 0.2em;color: black;border-radius: 0.25em;background-color: #f0f8ff;}#sk-container-id-4 input.sk-toggleable__control:checked~div.sk-toggleable__content {max-height: 200px;max-width: 100%;overflow: auto;}#sk-container-id-4 input.sk-toggleable__control:checked~label.sk-toggleable__label-arrow:before {content: \"▾\";}#sk-container-id-4 div.sk-estimator input.sk-toggleable__control:checked~label.sk-toggleable__label {background-color: #d4ebff;}#sk-container-id-4 div.sk-label input.sk-toggleable__control:checked~label.sk-toggleable__label {background-color: #d4ebff;}#sk-container-id-4 input.sk-hidden--visually {border: 0;clip: rect(1px 1px 1px 1px);clip: rect(1px, 1px, 1px, 1px);height: 1px;margin: -1px;overflow: hidden;padding: 0;position: absolute;width: 1px;}#sk-container-id-4 div.sk-estimator {font-family: monospace;background-color: #f0f8ff;border: 1px dotted black;border-radius: 0.25em;box-sizing: border-box;margin-bottom: 0.5em;}#sk-container-id-4 div.sk-estimator:hover {background-color: #d4ebff;}#sk-container-id-4 div.sk-parallel-item::after {content: \"\";width: 100%;border-bottom: 1px solid gray;flex-grow: 1;}#sk-container-id-4 div.sk-label:hover label.sk-toggleable__label {background-color: #d4ebff;}#sk-container-id-4 div.sk-serial::before {content: \"\";position: absolute;border-left: 1px solid gray;box-sizing: border-box;top: 0;bottom: 0;left: 50%;z-index: 0;}#sk-container-id-4 div.sk-serial {display: flex;flex-direction: column;align-items: center;background-color: white;padding-right: 0.2em;padding-left: 0.2em;position: relative;}#sk-container-id-4 div.sk-item {position: relative;z-index: 1;}#sk-container-id-4 div.sk-parallel {display: flex;align-items: stretch;justify-content: center;background-color: white;position: relative;}#sk-container-id-4 div.sk-item::before, #sk-container-id-4 div.sk-parallel-item::before {content: \"\";position: absolute;border-left: 1px solid gray;box-sizing: border-box;top: 0;bottom: 0;left: 50%;z-index: -1;}#sk-container-id-4 div.sk-parallel-item {display: flex;flex-direction: column;z-index: 1;position: relative;background-color: white;}#sk-container-id-4 div.sk-parallel-item:first-child::after {align-self: flex-end;width: 50%;}#sk-container-id-4 div.sk-parallel-item:last-child::after {align-self: flex-start;width: 50%;}#sk-container-id-4 div.sk-parallel-item:only-child::after {width: 0;}#sk-container-id-4 div.sk-dashed-wrapped {border: 1px dashed gray;margin: 0 0.4em 0.5em 0.4em;box-sizing: border-box;padding-bottom: 0.4em;background-color: white;}#sk-container-id-4 div.sk-label label {font-family: monospace;font-weight: bold;display: inline-block;line-height: 1.2em;}#sk-container-id-4 div.sk-label-container {text-align: center;}#sk-container-id-4 div.sk-container {/* jupyter's `normalize.less` sets `[hidden] { display: none; }` but bootstrap.min.css set `[hidden] { display: none !important; }` so we also need the `!important` here to be able to override the default hidden behavior on the sphinx rendered scikit-learn.org. See: https://github.com/scikit-learn/scikit-learn/issues/21755 */display: inline-block !important;position: relative;}#sk-container-id-4 div.sk-text-repr-fallback {display: none;}</style><div id=\"sk-container-id-4\" class=\"sk-top-container\"><div class=\"sk-text-repr-fallback\"><pre>LinearRegression()</pre><b>In a Jupyter environment, please rerun this cell to show the HTML representation or trust the notebook. <br />On GitHub, the HTML representation is unable to render, please try loading this page with nbviewer.org.</b></div><div class=\"sk-container\" hidden><div class=\"sk-item\"><div class=\"sk-estimator sk-toggleable\"><input class=\"sk-toggleable__control sk-hidden--visually\" id=\"sk-estimator-id-4\" type=\"checkbox\" checked><label for=\"sk-estimator-id-4\" class=\"sk-toggleable__label sk-toggleable__label-arrow\">LinearRegression</label><div class=\"sk-toggleable__content\"><pre>LinearRegression()</pre></div></div></div></div></div>"
      ],
      "text/plain": [
       "LinearRegression()"
      ]
     },
     "execution_count": 98,
     "metadata": {},
     "output_type": "execute_result"
    }
   ],
   "source": [
    "lr = LinearRegression()\n",
    "lr.fit(X, y)"
   ]
  },
  {
   "cell_type": "code",
   "execution_count": 99,
   "id": "887d792d",
   "metadata": {},
   "outputs": [
    {
     "data": {
      "text/plain": [
       "0.7016859015695169"
      ]
     },
     "execution_count": 99,
     "metadata": {},
     "output_type": "execute_result"
    }
   ],
   "source": [
    "lr.score(X,y)"
   ]
  },
  {
   "cell_type": "code",
   "execution_count": 100,
   "id": "91bec39b",
   "metadata": {},
   "outputs": [
    {
     "data": {
      "text/html": [
       "<div>\n",
       "<style scoped>\n",
       "    .dataframe tbody tr th:only-of-type {\n",
       "        vertical-align: middle;\n",
       "    }\n",
       "\n",
       "    .dataframe tbody tr th {\n",
       "        vertical-align: top;\n",
       "    }\n",
       "\n",
       "    .dataframe thead th {\n",
       "        text-align: right;\n",
       "    }\n",
       "</style>\n",
       "<table border=\"1\" class=\"dataframe\">\n",
       "  <thead>\n",
       "    <tr style=\"text-align: right;\">\n",
       "      <th></th>\n",
       "      <th>circonference_2</th>\n",
       "    </tr>\n",
       "  </thead>\n",
       "  <tbody>\n",
       "    <tr>\n",
       "      <th>0</th>\n",
       "      <td>8.062258</td>\n",
       "    </tr>\n",
       "    <tr>\n",
       "      <th>1</th>\n",
       "      <td>7.416198</td>\n",
       "    </tr>\n",
       "    <tr>\n",
       "      <th>2</th>\n",
       "      <td>8.944272</td>\n",
       "    </tr>\n",
       "    <tr>\n",
       "      <th>3</th>\n",
       "      <td>13.416408</td>\n",
       "    </tr>\n",
       "    <tr>\n",
       "      <th>4</th>\n",
       "      <td>11.313708</td>\n",
       "    </tr>\n",
       "  </tbody>\n",
       "</table>\n",
       "</div>"
      ],
      "text/plain": [
       "   circonference_2\n",
       "0         8.062258\n",
       "1         7.416198\n",
       "2         8.944272\n",
       "3        13.416408\n",
       "4        11.313708"
      ]
     },
     "execution_count": 100,
     "metadata": {},
     "output_type": "execute_result"
    }
   ],
   "source": [
    "X = X.drop(columns=\"circonference\")\n",
    "X.head()"
   ]
  },
  {
   "cell_type": "code",
   "execution_count": 101,
   "id": "d46a9545",
   "metadata": {},
   "outputs": [
    {
     "data": {
      "text/plain": [
       "0.6991205422503327"
      ]
     },
     "execution_count": 101,
     "metadata": {},
     "output_type": "execute_result"
    }
   ],
   "source": [
    "lr = LinearRegression()\n",
    "lr.fit(X, y)\n",
    "lr.score(X,y)"
   ]
  },
  {
   "cell_type": "code",
   "execution_count": null,
   "id": "b929e2de",
   "metadata": {},
   "outputs": [],
   "source": []
  }
 ],
 "metadata": {
  "kernelspec": {
   "display_name": "Python 3 (ipykernel)",
   "language": "python",
   "name": "python3"
  },
  "language_info": {
   "codemirror_mode": {
    "name": "ipython",
    "version": 3
   },
   "file_extension": ".py",
   "mimetype": "text/x-python",
   "name": "python",
   "nbconvert_exporter": "python",
   "pygments_lexer": "ipython3",
   "version": "3.10.5"
  }
 },
 "nbformat": 4,
 "nbformat_minor": 5
}
