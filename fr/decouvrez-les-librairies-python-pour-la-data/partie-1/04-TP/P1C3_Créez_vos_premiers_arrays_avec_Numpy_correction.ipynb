{
  "cells": [
    {
      "cell_type": "markdown",
      "id": "09b396fd",
      "metadata": {
        "id": "09b396fd"
      },
      "source": [
        "![openclassrooms](https://s3.eu-west-1.amazonaws.com/course.oc-static.com/courses/6204541/1+HnqdJ-5ofxiPP9HIxdNdpw.jpeg)\n",
        "\n",
        "# Créez vos premiers arrays avec Numpy\n",
        "\n",
        "Tout au long de ce cours, nous allons nous mettre dans la peau d’une personne travaillant  dans un service data au sein d'une banque. Plus précisément, vous travaillez pour la filière gérant les différents prêts. L’objectif sera d’utiliser les connaissances acquises sur les librairies Python pour aider l’agence dans différentes tâches.\n",
        "\n",
        "Pour cette première tâche, nous avons à notre disposition les revenus de 10 clients de notre banque. Vous aurez à utiliser les différentes manipulations présentées dans ce chapitre pour sélectionner certains revenus selon une condition spécifique et effectuer diverses opérations."
      ]
    },
    {
      "cell_type": "code",
      "execution_count": 1,
      "id": "e7a3ce8c",
      "metadata": {
        "id": "e7a3ce8c"
      },
      "outputs": [],
      "source": [
        "import numpy as np"
      ]
    },
    {
      "cell_type": "markdown",
      "id": "84b399c1",
      "metadata": {
        "id": "84b399c1"
      },
      "source": [
        "Considérons les revenus mensuels suivants :"
      ]
    },
    {
      "cell_type": "code",
      "execution_count": 2,
      "id": "10ad03dc",
      "metadata": {
        "id": "10ad03dc"
      },
      "outputs": [],
      "source": [
        "liste = [1800, 1500, 2200, 3000, 2172, 5000, 1400, 1200, 1100, 1300]"
      ]
    },
    {
      "cell_type": "markdown",
      "id": "b2dc62f8",
      "metadata": {
        "id": "b2dc62f8"
      },
      "source": [
        "A partir de ces revenus, créez un array que vous nommerez `revenus` :"
      ]
    },
    {
      "cell_type": "code",
      "execution_count": 3,
      "id": "cb05dcc0",
      "metadata": {
        "colab": {
          "base_uri": "https://localhost:8080/",
          "height": 34
        },
        "id": "cb05dcc0",
        "outputId": "9a13d902-9273-4d93-832a-4648baae3646"
      },
      "outputs": [
        {
          "output_type": "display_data",
          "data": {
            "text/plain": [
              "array([1800, 1500, 2200, 3000, 2172, 5000, 1400, 1200, 1100, 1300])"
            ]
          },
          "metadata": {}
        }
      ],
      "source": [
        "revenus = np.array(liste)\n",
        "display(revenus)"
      ]
    },
    {
      "cell_type": "markdown",
      "id": "0ec4fd80",
      "metadata": {
        "id": "0ec4fd80"
      },
      "source": [
        "Maintenant, créez un nouvel array `haut_revenus` dans lequel vous sélectionnerez l'ensemble des revenus supérieurs ou égal à 3000€ :"
      ]
    },
    {
      "cell_type": "code",
      "execution_count": 4,
      "id": "0e66fdc0",
      "metadata": {
        "colab": {
          "base_uri": "https://localhost:8080/",
          "height": 34
        },
        "id": "0e66fdc0",
        "outputId": "ff125adf-5466-4c7c-8fb6-07c2dd23633e"
      },
      "outputs": [
        {
          "output_type": "display_data",
          "data": {
            "text/plain": [
              "array([3000, 5000])"
            ]
          },
          "metadata": {}
        }
      ],
      "source": [
        "haut_revenus = revenus[revenus>=3000]\n",
        "display(haut_revenus)"
      ]
    },
    {
      "cell_type": "markdown",
      "id": "6f07ebe0",
      "metadata": {
        "id": "6f07ebe0"
      },
      "source": [
        "Il est à présent temps de calculer quelques indicateurs :\n",
        "- calculez dans un premier temps la somme des revenus **annuelle**. Pour rappel, les revenus listés ci dessus sont mensuels.\n",
        "- calculez ensuite la moyenne des revenus des 10 clients"
      ]
    },
    {
      "cell_type": "code",
      "execution_count": 6,
      "id": "fcb0c22e",
      "metadata": {
        "colab": {
          "base_uri": "https://localhost:8080/"
        },
        "id": "fcb0c22e",
        "outputId": "ec3b904e-2a5d-4390-a2bf-9a21ac4f7732"
      },
      "outputs": [
        {
          "output_type": "stream",
          "name": "stdout",
          "text": [
            "La somme des revenus annuelle est : 248064 €\n"
          ]
        }
      ],
      "source": [
        "somme = revenus.sum() * 12\n",
        "print(\"La somme des revenus annuelle est :\", somme, \"€\")"
      ]
    },
    {
      "cell_type": "code",
      "execution_count": null,
      "id": "45513d7f",
      "metadata": {
        "id": "45513d7f",
        "outputId": "ccfe5963-1b06-4d09-b30b-b6b9ea76269f"
      },
      "outputs": [
        {
          "name": "stdout",
          "output_type": "stream",
          "text": [
            "La moyenne des revenus mensuelle est : 2067.2 €\n"
          ]
        }
      ],
      "source": [
        "moyenne = revenus.mean()\n",
        "print(\"La moyenne des revenus mensuelle est :\", moyenne, \"€\")"
      ]
    },
    {
      "cell_type": "markdown",
      "id": "1e9d7bba",
      "metadata": {
        "id": "1e9d7bba"
      },
      "source": [
        "Un de nos clients (dont les revenus mensuels s'élevaient jusque là à 1400€) vient de nous annoncer qu'il venait d'obtenir une promotion. Grâce à cette dernière, il a gagné 200€ sur son salaire mensuel. Effectuez cette modification au sein de votre array revenus."
      ]
    },
    {
      "cell_type": "code",
      "execution_count": null,
      "id": "f4eb6a0b",
      "metadata": {
        "id": "f4eb6a0b",
        "outputId": "55c5cf38-84f0-4085-cf5b-cce33c84c7ad"
      },
      "outputs": [
        {
          "name": "stdout",
          "output_type": "stream",
          "text": [
            "Array avant : [1800 1500 2200 3000 2172 5000 1400 1200 1100 1300]\n",
            "Array après : [1800 1500 2200 3000 2172 5000 1700 1200 1100 1300]\n"
          ]
        }
      ],
      "source": [
        "print(\"Array avant :\", revenus)\n",
        "\n",
        "revenus[revenus == 1400] = 1700\n",
        "print(\"Array après :\", revenus)"
      ]
    },
    {
      "cell_type": "markdown",
      "id": "72873bc8",
      "metadata": {
        "id": "72873bc8"
      },
      "source": [
        "La modification a bien été effectuée. \n",
        "\n",
        "Pour expliciter un peu plus cette ligne de code :\n",
        "- `revenus[revenus == 1400]` vient sélectionner l'ensemble des éléments qui sont strictement égals à 1400€ (donc ici le seul qui nous intéresse)\n",
        "- la suite vient modifier cet élement par la nouvelle valeur (ici 1700)"
      ]
    },
    {
      "cell_type": "code",
      "execution_count": null,
      "id": "8c32023b",
      "metadata": {
        "id": "8c32023b"
      },
      "outputs": [],
      "source": [
        ""
      ]
    }
  ],
  "metadata": {
    "kernelspec": {
      "display_name": "Python 3 (ipykernel)",
      "language": "python",
      "name": "python3"
    },
    "language_info": {
      "codemirror_mode": {
        "name": "ipython",
        "version": 3
      },
      "file_extension": ".py",
      "mimetype": "text/x-python",
      "name": "python",
      "nbconvert_exporter": "python",
      "pygments_lexer": "ipython3",
      "version": "3.9.7"
    },
    "colab": {
      "name": "P1C3 - Créez vos premiers arrays avec Numpy - correction.ipynb",
      "provenance": []
    }
  },
  "nbformat": 4,
  "nbformat_minor": 5
}