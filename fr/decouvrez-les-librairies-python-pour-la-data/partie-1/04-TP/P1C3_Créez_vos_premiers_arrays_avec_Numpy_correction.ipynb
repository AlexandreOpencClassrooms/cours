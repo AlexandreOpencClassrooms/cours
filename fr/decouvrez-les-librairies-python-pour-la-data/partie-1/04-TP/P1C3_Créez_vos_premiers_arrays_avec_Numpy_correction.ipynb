{
 "cells": [
  {
   "cell_type": "markdown",
   "id": "09b396fd",
   "metadata": {
    "id": "09b396fd"
   },
   "source": [
    "![openclassrooms](https://s3.eu-west-1.amazonaws.com/course.oc-static.com/courses/6204541/1+HnqdJ-5ofxiPP9HIxdNdpw.jpeg)\n",
    "\n",
    "# Créez vos premiers arrays avec Numpy - Correction\n",
    "\n",
    "Tout au long de ce cours, nous allons nous mettre dans la peau d’une personne travaillant dans un service data au sein d'une banque. \n",
    "\n",
    "Plus précisément, vous travaillez pour la filière gérant les différents prêts. L’objectif sera d’utiliser les connaissances acquises sur les librairies Python pour aider l’agence dans différentes tâches.\n",
    "\n",
    "Pour cette première tâche, nous avons à notre disposition les revenus de 10 clients de notre banque. Vous aurez à utiliser les différentes manipulations présentées dans ce chapitre pour sélectionner certains revenus selon une condition spécifique et effectuer diverses opérations."
   ]
  },
  {
   "cell_type": "markdown",
   "id": "d3f7144c",
   "metadata": {},
   "source": [
    "* version 0.0.3\n",
    "* last update 2022-08-01\n",
    "* author Alexandre Gazagnes"
   ]
  },
  {
   "cell_type": "markdown",
   "id": "e9eeab4d",
   "metadata": {},
   "source": [
    "Commencons par importer numpy : "
   ]
  },
  {
   "cell_type": "code",
   "execution_count": null,
   "id": "e7a3ce8c",
   "metadata": {
    "id": "e7a3ce8c"
   },
   "outputs": [],
   "source": [
    "# Imports :\n",
    "\n",
    "import numpy as np"
   ]
  },
  {
   "cell_type": "markdown",
   "id": "84b399c1",
   "metadata": {
    "id": "84b399c1"
   },
   "source": [
    "Considérons ensuite les revenus **mensuels** suivants :"
   ]
  },
  {
   "cell_type": "code",
   "execution_count": null,
   "id": "10ad03dc",
   "metadata": {
    "id": "10ad03dc"
   },
   "outputs": [],
   "source": [
    "# Créons une liste : \n",
    "\n",
    "liste = [1800, 1500, 2200, 3000, 2172, 5000, 1400, 1200, 1100, 1300]"
   ]
  },
  {
   "cell_type": "markdown",
   "id": "b2dc62f8",
   "metadata": {
    "id": "b2dc62f8"
   },
   "source": [
    "A partir de ces revenus, créez un array que vous nommerez `revenus` :"
   ]
  },
  {
   "cell_type": "code",
   "execution_count": null,
   "id": "cb05dcc0",
   "metadata": {
    "colab": {
     "base_uri": "https://localhost:8080/",
     "height": 34
    },
    "id": "cb05dcc0",
    "outputId": "9a13d902-9273-4d93-832a-4648baae3646"
   },
   "outputs": [],
   "source": [
    "# La liste devient un array :\n",
    "\n",
    "revenus = np.array(liste)\n",
    "revenus"
   ]
  },
  {
   "cell_type": "markdown",
   "id": "0ec4fd80",
   "metadata": {
    "id": "0ec4fd80"
   },
   "source": [
    "Maintenant, créez un nouvel array `haut_revenus` dans lequel vous sélectionnerez l'ensemble des revenus supérieurs ou égal à 3000€ :"
   ]
  },
  {
   "cell_type": "code",
   "execution_count": null,
   "id": "0e66fdc0",
   "metadata": {
    "colab": {
     "base_uri": "https://localhost:8080/",
     "height": 34
    },
    "id": "0e66fdc0",
    "outputId": "ff125adf-5466-4c7c-8fb6-07c2dd23633e"
   },
   "outputs": [],
   "source": [
    "# Sélection des revenus > 3 000\n",
    "\n",
    "haut_revenus = revenus[revenus>=3000]\n",
    "haut_revenus"
   ]
  },
  {
   "cell_type": "markdown",
   "id": "3a5b968f",
   "metadata": {},
   "source": [
    " <div class=\"alert alert-warning\" role=\"alert\">\n",
    "  Notez qu'en python vous pouvez utiliser le '_' aka 'underscore' comme <strong>séparateur de milliers</strong>. En effet, '1 000 000' est plus facile à lire que '1000000'.\n",
    "</div>"
   ]
  },
  {
   "cell_type": "code",
   "execution_count": null,
   "id": "57c6c3a6",
   "metadata": {},
   "outputs": [],
   "source": [
    "# Testons cela : \n",
    "\n",
    "3_000 == 3000 "
   ]
  },
  {
   "cell_type": "code",
   "execution_count": null,
   "id": "247adf25",
   "metadata": {},
   "outputs": [],
   "source": [
    "# Donc on peut écrire :\n",
    "\n",
    "haut_revenus = revenus[revenus>=3_000]\n",
    "haut_revenus"
   ]
  },
  {
   "cell_type": "markdown",
   "id": "295cbbcc",
   "metadata": {},
   "source": [
    " <div class=\"alert alert-warning\" role=\"alert\">\n",
    "  Notez également que '>= 3000' est équivalent à '> 2999.9999999(...)'\n",
    "</div>"
   ]
  },
  {
   "cell_type": "code",
   "execution_count": null,
   "id": "097f5b8b",
   "metadata": {},
   "outputs": [],
   "source": [
    "# Donc on peut écrire :\n",
    "\n",
    "haut_revenus = revenus[revenus>2_999.99]\n",
    "haut_revenus"
   ]
  },
  {
   "cell_type": "markdown",
   "id": "6f07ebe0",
   "metadata": {
    "id": "6f07ebe0"
   },
   "source": [
    "Il est à présent temps de calculer quelques indicateurs :\n",
    "- calculez dans un premier temps la somme des revenus **annuelle**. Pour rappel, les revenus listés ci dessus sont mensuels.\n",
    "- calculez ensuite la moyenne des revenus des 10 clients"
   ]
  },
  {
   "cell_type": "code",
   "execution_count": null,
   "id": "53c8aff5",
   "metadata": {},
   "outputs": [],
   "source": [
    "# On calcule la somme : \n",
    "\n",
    "somme_sum = revenus.sum()\n",
    "somme_sum"
   ]
  },
  {
   "cell_type": "code",
   "execution_count": null,
   "id": "a50c5e25",
   "metadata": {},
   "outputs": [],
   "source": [
    "# On multiplie par 12 : \n",
    "\n",
    "somme = somme_sum * 12\n",
    "somme"
   ]
  },
  {
   "cell_type": "markdown",
   "id": "e6d97c20",
   "metadata": {},
   "source": [
    " <div class=\"alert alert-info\" role=\"info\">\n",
    "Dans les premiers temps, il est bon de bien <strong>décomposer</strong> son code. Ecrire plusieurs lignes, passer par des \"<em>variables intermédiaires</em>\" et bien controler le résultat de chaque commande vous permettra d'éviter les <strong>erreurs</strong>, de prendre <strong>confiance</strong> dans votre code et de mieux <strong>maîtriser</strong> vos acquis. \n",
    "</div>\n",
    " <div class=\"alert alert-info\" role=\"info\">\n",
    "Dans un second temps, vous pourrez commencer à <strong>factoriser</strong> votre code, c'est à dire le \"<em>compresser</em>\": écrire plusieurs lignes en une seule, sans passer par des variables intermédiaires.\n",
    "</div>"
   ]
  },
  {
   "cell_type": "code",
   "execution_count": null,
   "id": "fcb0c22e",
   "metadata": {
    "colab": {
     "base_uri": "https://localhost:8080/"
    },
    "id": "fcb0c22e",
    "outputId": "ec3b904e-2a5d-4390-a2bf-9a21ac4f7732"
   },
   "outputs": [],
   "source": [
    "# Il était donc possible de faire les 2 opérations en une ligne : \n",
    "\n",
    "somme = revenus.sum() * 12\n",
    "print(\"La somme des revenus annuelle est :\", somme, \"€\")"
   ]
  },
  {
   "cell_type": "markdown",
   "id": "e1cdc295",
   "metadata": {},
   "source": [
    " <div class=\"alert alert-warning\" role=\"alert\">\n",
    "  Dans certains cas, l'<strong>ordre des opérations</strong> n'a pas d'influence sur le résultat.\n",
    "</div>"
   ]
  },
  {
   "cell_type": "code",
   "execution_count": null,
   "id": "2de5baec",
   "metadata": {},
   "outputs": [],
   "source": [
    "# En effet, on pouvait aussi faire : \n",
    "\n",
    "revenus_12 = revenus * 12\n",
    "revenus_12"
   ]
  },
  {
   "cell_type": "code",
   "execution_count": null,
   "id": "2f5d252d",
   "metadata": {},
   "outputs": [],
   "source": [
    "somme = revenus_12.sum()\n",
    "somme"
   ]
  },
  {
   "cell_type": "markdown",
   "id": "6a26a25b",
   "metadata": {},
   "source": [
    "Enfin, en général, on note les \"grosses\" sommes en K€ ou en M€. Cela est plus facile à lire. De plus, votre interlocuteur retiendra plus volontier l'ordre de grandeur d'un chiffre ou même un chiffre 'rond' qu'un chiffre trop détaillé..."
   ]
  },
  {
   "cell_type": "code",
   "execution_count": null,
   "id": "74fa13f3",
   "metadata": {},
   "outputs": [],
   "source": [
    "# Par exemple : \n",
    "\n",
    "somme_K = round(somme / 1000)\n",
    "print(\"La somme des revenus annuelle est :\", somme_K, \"K€\")"
   ]
  },
  {
   "cell_type": "code",
   "execution_count": null,
   "id": "3e8eae66",
   "metadata": {},
   "outputs": [],
   "source": [
    "# Voire même : \n",
    "\n",
    "print(\"La somme des revenus annuelle est d'environ:\", 250, \"K€\")"
   ]
  },
  {
   "cell_type": "code",
   "execution_count": null,
   "id": "c6822639",
   "metadata": {},
   "outputs": [],
   "source": [
    "# Ou encore : \n",
    "\n",
    "somme_M = round(somme / 1_000_000,2)\n",
    "print(\"La somme des revenus annuelle est :\", somme_M, \"M€\")"
   ]
  },
  {
   "cell_type": "markdown",
   "id": "2b52b918",
   "metadata": {},
   "source": [
    "Passons à la moyenne"
   ]
  },
  {
   "cell_type": "code",
   "execution_count": null,
   "id": "45513d7f",
   "metadata": {
    "id": "45513d7f",
    "outputId": "ccfe5963-1b06-4d09-b30b-b6b9ea76269f"
   },
   "outputs": [],
   "source": [
    "moyenne = revenus.mean()\n",
    "print(\"La moyenne des revenus mensuelle est :\", moyenne, \"€\")"
   ]
  },
  {
   "cell_type": "code",
   "execution_count": null,
   "id": "af40b419",
   "metadata": {},
   "outputs": [],
   "source": [
    "# Ou encore : \n",
    "\n",
    "moyenne = round(moyenne)\n",
    "print(\"La moyenne des revenus mensuelle est :\", moyenne, \"€\")"
   ]
  },
  {
   "cell_type": "markdown",
   "id": "1e9d7bba",
   "metadata": {
    "id": "1e9d7bba"
   },
   "source": [
    "Un de nos clients (dont les revenus mensuels s'élevaient jusque là à 1 400€) vient de nous annoncer qu'il venait d'obtenir une promotion. Grâce à cette dernière, il a gagné 200€ sur son salaire mensuel. Effectuez cette modification au sein de votre array revenus."
   ]
  },
  {
   "cell_type": "code",
   "execution_count": null,
   "id": "f4eb6a0b",
   "metadata": {
    "id": "f4eb6a0b",
    "outputId": "55c5cf38-84f0-4085-cf5b-cce33c84c7ad"
   },
   "outputs": [],
   "source": [
    "# Cela donne : \n",
    "\n",
    "print(\"Array avant :\", revenus)\n",
    "revenus[revenus == 1_400] = 1_600\n",
    "print(\"Array après :\", revenus)"
   ]
  },
  {
   "cell_type": "markdown",
   "id": "72873bc8",
   "metadata": {
    "id": "72873bc8"
   },
   "source": [
    "La modification a bien été effectuée. \n",
    "\n",
    "Pour expliciter un peu plus cette ligne de code :\n",
    "- `revenus[revenus == 1400]` vient sélectionner l'ensemble des éléments qui sont strictement égals à 1400€ (donc ici le seul qui nous intéresse)\n",
    "- la suite vient modifier cet élement par la nouvelle valeur (ici 1600)"
   ]
  },
  {
   "cell_type": "markdown",
   "id": "c5c06153",
   "metadata": {
    "id": "8c32023b"
   },
   "source": [
    " <div class=\"alert alert-warning\" role=\"alert\">\n",
    "  Dans le cas de cette opération on pouvait utiliser également l'opérateur '+='.\n",
    "</div"
   ]
  },
  {
   "cell_type": "code",
   "execution_count": null,
   "id": "ab7772d5",
   "metadata": {},
   "outputs": [],
   "source": [
    "# Regardons d'abord comment fonctionne cet opérateur : \n",
    "\n",
    "x = 10\n",
    "x = x+3\n",
    "x"
   ]
  },
  {
   "cell_type": "code",
   "execution_count": null,
   "id": "7e8d9d2c",
   "metadata": {},
   "outputs": [],
   "source": [
    "# Peut s'écrire directement : \n",
    "\n",
    "x=10\n",
    "x+=3\n",
    "x"
   ]
  },
  {
   "cell_type": "markdown",
   "id": "92be140e",
   "metadata": {},
   "source": [
    "Appliquons cela à notre cas et prenons par exemple les clients qui gagneraient 3 000€, en supposant qu'ils ont une augmentation de 100€."
   ]
  },
  {
   "cell_type": "code",
   "execution_count": null,
   "id": "510973a8",
   "metadata": {},
   "outputs": [],
   "source": [
    "# On donc peut écire : \n",
    "\n",
    "print(\"Array avant :\", revenus)\n",
    "revenus[revenus == 3_000] += 100\n",
    "print(\"Array après :\", revenus)"
   ]
  }
 ],
 "metadata": {
  "colab": {
   "name": "P1C3 - Créez vos premiers arrays avec Numpy - correction.ipynb",
   "provenance": []
  },
  "kernelspec": {
   "display_name": "Python 3 (ipykernel)",
   "language": "python",
   "name": "python3"
  },
  "language_info": {
   "codemirror_mode": {
    "name": "ipython",
    "version": 3
   },
   "file_extension": ".py",
   "mimetype": "text/x-python",
   "name": "python",
   "nbconvert_exporter": "python",
   "pygments_lexer": "ipython3",
   "version": "3.10.5"
  }
 },
 "nbformat": 4,
 "nbformat_minor": 5
}
